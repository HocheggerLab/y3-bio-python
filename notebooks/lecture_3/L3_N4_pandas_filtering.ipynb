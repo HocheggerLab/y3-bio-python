{
  "cells": [
    {
      "cell_type": "markdown",
      "metadata": {},
      "source": [
        "# Lecture 3: Pandas Filtering Mastery 🔍\n",
        "\n",
        "Learn how to extract exactly the data you need from large datasets using pandas filtering techniques.\n",
        "\n",
        "## What We'll Learn:\n",
        "1. **Column Selection** - Pick specific columns from your DataFrame\n",
        "2. **Row Filtering** - Select specific rows using index positions\n",
        "3. **Boolean Filtering** - Use conditions to filter data\n",
        "4. **Advanced Techniques** - Combine filters, use methods like `isin()`, `query()`\n",
        "5. **Practice Questions** - Apply your knowledge!\n",
        "\n",
        "Let's dive in with our cancer research dataset! 🧬"
      ]
    },
    {
      "cell_type": "markdown",
      "metadata": {},
      "source": [
        "## Load Our Dataset\n",
        "\n",
        "First, let's load our familiar DepMap cancer dataset."
      ]
    },
    {
      "cell_type": "code",
      "execution_count": null,
      "metadata": {},
      "outputs": [],
      "source": [
        "import pandas as pd\n",
        "import numpy as np\n",
        "\n",
        "# Load the DepMap CRISPR dataset\n",
        "url = \"https://zenodo.org/records/17098555/files/combined_model_crispr_data_filtered.csv?download=1\"\n",
        "df = pd.read_csv(url)\n",
        "\n",
        "print(f\"Dataset shape: {df.shape}\")\n",
        "print(f\"\\nFirst few columns: {list(df.columns[:10])}\")\n",
        "print(f\"\\nCancer types: {df['oncotree_lineage'].unique()[:10]}\")"
      ]
    },
    {
      "cell_type": "markdown",
      "metadata": {},
      "source": [
        "---\n",
        "## 1. Column Selection 📋\n",
        "\n",
        "### Single Column Selection\n",
        "Select one column using bracket notation or dot notation."
      ]
    },
    {
      "cell_type": "code",
      "execution_count": null,
      "metadata": {},
      "outputs": [],
      "source": [
        "# Method 1: Bracket notation (recommended)\n",
        "cell_lines = df['cell_line_name']\n",
        "print(\"First 5 cell line names:\")\n",
        "print(cell_lines.head())\n",
        "print(f\"\\nData type: {type(cell_lines)}\")\n",
        "\n",
        "# Method 2: Dot notation (only works if column name has no spaces/special characters)\n",
        "model_ids = df.model_id\n",
        "print(f\"\\nFirst 3 model IDs: {model_ids.head(3).tolist()}\")"
      ]
    },
    {
      "cell_type": "markdown",
      "metadata": {},
      "source": [
        "### Multiple Column Selection\n",
        "Select multiple columns by passing a list of column names."
      ]
    },
    {
      "cell_type": "code",
      "execution_count": null,
      "metadata": {},
      "outputs": [],
      "source": [
        "# Select multiple columns - pass a list inside brackets\n",
        "metadata_cols = ['model_id', 'cell_line_name', 'oncotree_lineage', 'oncotree_primary_disease']\n",
        "metadata = df[metadata_cols]\n",
        "\n",
        "print(f\"Selected {len(metadata_cols)} columns:\")\n",
        "print(metadata.head())\n",
        "print(f\"\\nShape: {metadata.shape}\")"
      ]
    },
    {
      "cell_type": "markdown",
      "metadata": {},
      "source": [
        "### Column Range Selection\n",
        "Select a range of columns using slicing."
      ]
    },
    {
      "cell_type": "code",
      "execution_count": null,
      "metadata": {},
      "outputs": [],
      "source": [
        "# Select first 6 columns (all metadata)\n",
        "metadata_all = df.iloc[:, :6]\n",
        "print(\"All metadata columns:\")\n",
        "print(metadata_all.head())\n",
        "\n",
        "# Select first 10 gene columns (columns 6-15)\n",
        "first_genes = df.iloc[:, 6:16]\n",
        "print(f\"\\nFirst 10 gene columns: {list(first_genes.columns)}\")\n",
        "print(first_genes.head(3))"
      ]
    },
    {
      "cell_type": "markdown",
      "metadata": {},
      "source": [
        "---\n",
        "## 2. Row Filtering by Position 📍\n",
        "\n",
        "### Select Specific Rows\n",
        "Use `.iloc[]` for position-based selection."
      ]
    },
    {
      "cell_type": "code",
      "execution_count": null,
      "metadata": {},
      "outputs": [],
      "source": [
        "# Select first 5 rows\n",
        "first_five = df.iloc[:5]\n",
        "print(\"First 5 rows (metadata only):\")\n",
        "print(first_five[['cell_line_name', 'oncotree_lineage']])\n",
        "\n",
        "# Select last 3 rows\n",
        "last_three = df.iloc[-3:]\n",
        "print(\"\\nLast 3 rows:\")\n",
        "print(last_three[['cell_line_name', 'oncotree_lineage']])\n",
        "\n",
        "# Select specific row positions\n",
        "specific_rows = df.iloc[[0, 10, 20, 30]]\n",
        "print(\"\\nRows at positions 0, 10, 20, 30:\")\n",
        "print(specific_rows[['cell_line_name', 'oncotree_lineage']])"
      ]
    },
    {
      "cell_type": "markdown",
      "metadata": {},
      "source": [
        "### Sample Random Rows\n",
        "Use `.sample()` to get random rows from your dataset."
      ]
    },
    {
      "cell_type": "code",
      "execution_count": null,
      "metadata": {},
      "outputs": [],
      "source": [
        "# Get 5 random rows\n",
        "random_sample = df.sample(n=5, random_state=42)  # random_state for reproducibility\n",
        "print(\"5 random cell lines:\")\n",
        "print(random_sample[['cell_line_name', 'oncotree_lineage', 'oncotree_primary_disease']])\n",
        "\n",
        "# Get 10% of the dataset randomly\n",
        "sample_10pct = df.sample(frac=0.1, random_state=42)\n",
        "print(f\"\\n10% sample size: {len(sample_10pct)} rows\")"
      ]
    },
    {
      "cell_type": "markdown",
      "metadata": {},
      "source": [
        "---\n",
        "## 3. Boolean Filtering 🎯\n",
        "\n",
        "This is where pandas gets really powerful! Filter rows based on conditions.\n",
        "\n",
        "### Basic Boolean Filtering"
      ]
    },
    {
      "cell_type": "code",
      "execution_count": null,
      "metadata": {},
      "outputs": [],
      "source": [
        "# Filter for breast cancer cell lines\n",
        "breast_filter = df['oncotree_lineage'] == 'Breast'\n",
        "print(\"Boolean filter (first 10 values):\")\n",
        "print(breast_filter.head(10))\n",
        "print(f\"\\nNumber of True values: {breast_filter.sum()}\")\n",
        "\n",
        "# Apply the filter\n",
        "breast_cancer = df[breast_filter]\n",
        "# Shorthand: breast_cancer = df[df['oncotree_lineage'] == 'Breast']\n",
        "\n",
        "print(f\"\\nBreast cancer cell lines: {len(breast_cancer)}\")\n",
        "print(breast_cancer[['cell_line_name', 'oncotree_primary_disease']].head())"
      ]
    },
    {
      "cell_type": "markdown",
      "metadata": {},
      "source": [
        "### Comparison Operators\n",
        "Use different operators to create boolean conditions."
      ]
    },
    {
      "cell_type": "code",
      "execution_count": null,
      "metadata": {},
      "outputs": [],
      "source": [
        "# Let's look at gene A1BG scores\n",
        "print(\"A1BG gene effect statistics:\")\n",
        "print(df['A1BG'].describe())\n",
        "\n",
        "# Filter for cell lines where A1BG effect is very negative (< -0.2)\n",
        "very_negative = df[df['A1BG'] < -0.2]\n",
        "print(f\"\\nCell lines with A1BG effect < -0.2: {len(very_negative)}\")\n",
        "print(very_negative[['cell_line_name', 'oncotree_lineage', 'A1BG']].head())\n",
        "\n",
        "# Filter for cell lines where A1BG effect is positive\n",
        "positive_effect = df[df['A1BG'] > 0]\n",
        "print(f\"\\nCell lines with positive A1BG effect: {len(positive_effect)}\")\n",
        "\n",
        "# Filter for cell lines with A1BG effect between -0.1 and 0.1\n",
        "neutral_effect = df[(df['A1BG'] >= -0.1) & (df['A1BG'] <= 0.1)]\n",
        "print(f\"Cell lines with neutral A1BG effect (-0.1 to 0.1): {len(neutral_effect)}\")"
      ]
    },
    {
      "cell_type": "markdown",
      "metadata": {},
      "source": [
        "### Multiple Conditions with & and |\n",
        "Combine multiple boolean conditions using `&` (and) and `|` (or)."
      ]
    },
    {
      "cell_type": "code",
      "execution_count": null,
      "metadata": {},
      "outputs": [],
      "source": [
        "# Find breast cancer cell lines with very negative A1BG effect\n",
        "breast_and_negative = df[(df['oncotree_lineage'] == 'Breast') & (df['A1BG'] < -0.1)]\n",
        "print(f\"Breast cancer cell lines with A1BG < -0.1: {len(breast_and_negative)}\")\n",
        "print(breast_and_negative[['cell_line_name', 'A1BG']].head())\n",
        "\n",
        "# Find either breast OR lung cancer\n",
        "breast_or_lung = df[(df['oncotree_lineage'] == 'Breast') | (df['oncotree_lineage'] == 'Lung')]\n",
        "print(f\"\\nBreast OR Lung cancer cell lines: {len(breast_or_lung)}\")\n",
        "print(breast_or_lung['oncotree_lineage'].value_counts())\n",
        "\n",
        "# Complex condition: Breast cancer with either very negative A1BG OR very positive A1BG\n",
        "breast_extreme_a1bg = df[(df['oncotree_lineage'] == 'Breast') & \n",
        "                        ((df['A1BG'] < -0.15) | (df['A1BG'] > 0.15))]\n",
        "print(f\"\\nBreast cancer with extreme A1BG effects: {len(breast_extreme_a1bg)}\")\n",
        "print(breast_extreme_a1bg[['cell_line_name', 'A1BG']].sort_values('A1BG'))"
      ]
    },
    {
      "cell_type": "markdown",
      "metadata": {},
      "source": [
        "### String Filtering\n",
        "Filter text columns using string methods."
      ]
    },
    {
      "cell_type": "code",
      "execution_count": null,
      "metadata": {},
      "outputs": [],
      "source": [
        "# Cell lines with 'MCF' in the name\n",
        "mcf_lines = df[df['cell_line_name'].str.contains('MCF', na=False)]\n",
        "print(f\"Cell lines containing 'MCF': {len(mcf_lines)}\")\n",
        "print(mcf_lines[['cell_line_name', 'oncotree_lineage']])\n",
        "\n",
        "# Cell lines starting with 'H'\n",
        "h_lines = df[df['cell_line_name'].str.startswith('H')]\n",
        "print(f\"\\nCell lines starting with 'H': {len(h_lines)}\")\n",
        "print(h_lines[['cell_line_name', 'oncotree_lineage']].head())\n",
        "\n",
        "# Primary diseases containing 'Carcinoma'\n",
        "carcinomas = df[df['oncotree_primary_disease'].str.contains('Carcinoma', na=False)]\n",
        "print(f\"\\nCarcinoma cases: {len(carcinomas)}\")\n",
        "print(carcinomas['oncotree_primary_disease'].value_counts().head())"
      ]
    },
    {
      "cell_type": "markdown",
      "metadata": {},
      "source": [
        "---\n",
        "## 4. Advanced Filtering Techniques 🚀\n",
        "\n",
        "### Using `.isin()` for Multiple Values"
      ]
    },
    {
      "cell_type": "code",
      "execution_count": null,
      "metadata": {},
      "outputs": [],
      "source": [
        "# Filter for multiple cancer types at once\n",
        "cancer_types_of_interest = ['Breast', 'Lung', 'Brain', 'Skin']\n",
        "selected_cancers = df[df['oncotree_lineage'].isin(cancer_types_of_interest)]\n",
        "\n",
        "print(f\"Selected cancer types: {len(selected_cancers)} cell lines\")\n",
        "print(selected_cancers['oncotree_lineage'].value_counts())\n",
        "\n",
        "# Filter for specific cell lines\n",
        "important_lines = ['MCF7', 'HeLa', 'A549', 'HEK293T']\n",
        "selected_lines = df[df['cell_line_name'].isin(important_lines)]\n",
        "print(f\"\\nSelected cell lines found: {len(selected_lines)}\")\n",
        "if len(selected_lines) > 0:\n",
        "    print(selected_lines[['cell_line_name', 'oncotree_lineage']])\n",
        "else:\n",
        "    print(\"None of the specified cell lines were found in this dataset\")"
      ]
    },
    {
      "cell_type": "markdown",
      "metadata": {},
      "source": [
        "### Using `.query()` Method\n",
        "Write filters using a more readable syntax."
      ]
    },
    {
      "cell_type": "code",
      "execution_count": null,
      "metadata": {},
      "outputs": [],
      "source": [
        "# Query method - more readable for complex conditions\n",
        "query_result = df.query(\"oncotree_lineage == 'Breast' and A1BG < -0.1\")\n",
        "print(f\"Using .query(): {len(query_result)} breast cancer lines with A1BG < -0.1\")\n",
        "\n",
        "# Multiple conditions with query\n",
        "complex_query = df.query(\"(oncotree_lineage == 'Breast' or oncotree_lineage == 'Lung') and A1BG > 0\")\n",
        "print(f\"\\nComplex query result: {len(complex_query)} lines\")\n",
        "\n",
        "# Query with variables\n",
        "threshold = -0.05\n",
        "cancer_type = 'Breast'\n",
        "var_query = df.query(f\"oncotree_lineage == '{cancer_type}' and A1BG < {threshold}\")\n",
        "print(f\"\\nUsing variables in query: {len(var_query)} lines\")"
      ]
    },
    {
      "cell_type": "markdown",
      "metadata": {},
      "source": [
        "### Filtering with `.loc[]`\n",
        "Combine row and column selection in one operation."
      ]
    },
    {
      "cell_type": "code",
      "execution_count": null,
      "metadata": {},
      "outputs": [],
      "source": [
        "# Select specific rows AND columns\n",
        "breast_metadata = df.loc[df['oncotree_lineage'] == 'Breast', \n",
        "                        ['cell_line_name', 'oncotree_primary_disease', 'A1BG', 'A1CF']]\n",
        "print(\"Breast cancer metadata with first two genes:\")\n",
        "print(breast_metadata.head())\n",
        "\n",
        "# Get specific gene values for specific conditions\n",
        "high_a1bg_values = df.loc[df['A1BG'] > 0.1, 'A1BG']\n",
        "print(f\"\\nCell lines with A1BG > 0.1: {len(high_a1bg_values)}\")\n",
        "print(f\"Their A1BG values: {high_a1bg_values.tolist()}\")"
      ]
    },
    {
      "cell_type": "markdown",
      "metadata": {},
      "source": [
        "### Handling Missing Data in Filters"
      ]
    },
    {
      "cell_type": "code",
      "execution_count": null,
      "metadata": {},
      "outputs": [],
      "source": [
        "# Check for missing values\n",
        "print(\"Missing values per column (first 10):\")\n",
        "missing_counts = df.isnull().sum().head(10)\n",
        "print(missing_counts[missing_counts > 0])  # Only show columns with missing values\n",
        "\n",
        "# Filter out rows with missing values in specific column\n",
        "no_missing_a1bg = df[df['A1BG'].notna()]\n",
        "print(f\"\\nRows without missing A1BG: {len(no_missing_a1bg)}\")\n",
        "\n",
        "# Filter for rows with missing values\n",
        "has_missing_a1bg = df[df['A1BG'].isna()]\n",
        "print(f\"Rows with missing A1BG: {len(has_missing_a1bg)}\")"
      ]
    },
    {
      "cell_type": "markdown",
      "metadata": {},
      "source": [
        "---\n",
        "## 5. Combining Multiple Filters 🔗\n",
        "\n",
        "Let's put it all together with some real research scenarios!"
      ]
    },
    {
      "cell_type": "code",
      "execution_count": null,
      "metadata": {},
      "outputs": [],
      "source": [
        "# Research Question 1: Find breast cancer cell lines that are particularly sensitive \n",
        "# to multiple genes (A1BG and A1CF both negative)\n",
        "sensitive_breast = df[(df['oncotree_lineage'] == 'Breast') & \n",
        "                     (df['A1BG'] < -0.05) & \n",
        "                     (df['A1CF'] < -0.05)]\n",
        "\n",
        "print(\"Research Question 1: Breast cancer lines sensitive to both A1BG and A1CF\")\n",
        "print(f\"Found {len(sensitive_breast)} cell lines:\")\n",
        "result1 = sensitive_breast[['cell_line_name', 'A1BG', 'A1CF']].round(3)\n",
        "print(result1)\n",
        "\n",
        "# Research Question 2: Compare gene effects across different cancer types\n",
        "cancer_comparison = df[df['oncotree_lineage'].isin(['Breast', 'Lung', 'Brain'])]\n",
        "comparison_data = cancer_comparison[['oncotree_lineage', 'A1BG', 'A1CF', 'A2M']]\n",
        "\n",
        "print(\"\\nResearch Question 2: Gene effects by cancer type\")\n",
        "gene_stats = comparison_data.groupby('oncotree_lineage').mean().round(3)\n",
        "print(gene_stats)"
      ]
    },
    {
      "cell_type": "markdown",
      "metadata": {},
      "source": [
        "---\n",
        "## 📚 Practice Questions\n",
        "\n",
        "Now it's your turn! Try to solve these filtering challenges using the cancer dataset.\n",
        "\n",
        "### Question 1: Basic Filtering\n",
        "Find all cell lines from 'Myeloid' cancer type. How many are there?"
      ]
    },
    {
      "cell_type": "code",
      "execution_count": null,
      "metadata": {},
      "outputs": [],
      "source": [
        "# Your answer here:\n",
        "# lung_cancer = ?\n",
        "# print(f\"Number of myleoid cancer cell lines: {len(myeloid_cancer)}\")\n"
      ]
    },
    {
      "cell_type": "markdown",
      "metadata": {},
      "source": [
        "### Question 2: Numerical Filtering\n",
        "Find all cell lines where the A2M gene effect is greater than 0.1. Show their names and A2M values, sorted by A2M value (highest first)."
      ]
    },
    {
      "cell_type": "code",
      "execution_count": null,
      "metadata": {},
      "outputs": [],
      "source": [
        "# Your answer here:\n",
        "# high_a2m = ?\n",
        "# result = ?\n",
        "# print(result)\n"
      ]
    },
    {
      "cell_type": "markdown",
      "metadata": {},
      "source": [
        "### Question 3: Multiple Conditions\n",
        "Find breast cancer cell lines where BOTH A1BG < -0.1 AND A1CF > 0.05. How many cell lines meet both criteria?"
      ]
    },
    {
      "cell_type": "code",
      "execution_count": null,
      "metadata": {},
      "outputs": [],
      "source": [
        "# Your answer here:\n",
        "# complex_filter = ?\n",
        "# print(f\"Cell lines meeting both criteria: {len(complex_filter)}\")\n",
        "# if len(complex_filter) > 0:\n",
        "#     print(complex_filter[['cell_line_name', 'A1BG', 'A1CF']])\n"
      ]
    },
    {
      "cell_type": "markdown",
      "metadata": {},
      "source": [
        "### Question 4: String Filtering\n",
        "Find all cell lines whose names contain the letter 'T'. What cancer types do they represent?"
      ]
    },
    {
      "cell_type": "code",
      "execution_count": null,
      "metadata": {},
      "outputs": [],
      "source": [
        "# Your answer here:\n",
        "# t_lines = ?\n",
        "# print(f\"Cell lines with 'T' in name: {len(t_lines)}\")\n",
        "# print(\"Cancer types:\")\n",
        "# print(?)\n"
      ]
    },
    {
      "cell_type": "markdown",
      "metadata": {},
      "source": [
        "### Question 5: Advanced Challenge\n",
        "Create a \"drug target\" dataset:\n",
        "1. Filter for cancer types: 'Breast', 'Lung', 'Ovary'\n",
        "2. Select only cell lines where A1BG effect is less than -0.1 (indicating the gene is essential)\n",
        "3. Show only these columns: cell_line_name, oncotree_lineage, oncotree_primary_disease, A1BG\n",
        "4. Sort by A1BG value (most negative first)\n",
        "5. How many potential targets did you find?"
      ]
    },
    {
      "cell_type": "code",
      "execution_count": null,
      "metadata": {},
      "outputs": [],
      "source": [
        "# Your answer here:\n",
        "# Step 1: Filter cancer types\n",
        "# target_cancers = ?\n",
        "\n",
        "# Step 2: Filter for essential A1BG\n",
        "# essential_a1bg = ?\n",
        "\n",
        "# Step 3 & 4: Select columns and sort\n",
        "# drug_targets = ?\n",
        "\n",
        "# Step 5: Report results\n",
        "# print(f\"Potential A1BG targets found: {len(drug_targets)}\")\n",
        "# print(drug_targets)\n"
      ]
    },
    {
      "cell_type": "markdown",
      "metadata": {},
      "source": [
        "---\n",
        "## 🎯 Solutions\n",
        "\n",
        "Try the questions above first, then run these cells to check your answers!"
      ]
    },
    {
      "cell_type": "code",
      "execution_count": null,
      "metadata": {},
      "outputs": [],
      "source": [
        "# Solution 1\n",
        "lung_cancer = df[df['oncotree_lineage'] == 'Lung']\n",
        "print(f\"Solution 1: Number of lung cancer cell lines: {len(lung_cancer)}\")"
      ]
    },
    {
      "cell_type": "code",
      "execution_count": null,
      "metadata": {},
      "outputs": [],
      "source": [
        "# Solution 2\n",
        "high_a2m = df[df['A2M'] > 0.1]\n",
        "result = high_a2m[['cell_line_name', 'A2M']].sort_values('A2M', ascending=False)\n",
        "print(f\"Solution 2: Cell lines with A2M > 0.1: {len(high_a2m)}\")\n",
        "print(result.head(10))  # Show top 10"
      ]
    },
    {
      "cell_type": "code",
      "execution_count": null,
      "metadata": {},
      "outputs": [],
      "source": [
        "# Solution 3\n",
        "complex_filter = df[(df['oncotree_lineage'] == 'Breast') & (df['A1BG'] < -0.1) & (df['A1CF'] > 0.05)]\n",
        "print(f\"Solution 3: Cell lines meeting both criteria: {len(complex_filter)}\")\n",
        "if len(complex_filter) > 0:\n",
        "    print(complex_filter[['cell_line_name', 'A1BG', 'A1CF']].round(3))"
      ]
    },
    {
      "cell_type": "code",
      "execution_count": null,
      "metadata": {},
      "outputs": [],
      "source": [
        "# Solution 4\n",
        "t_lines = df[df['cell_line_name'].str.contains('T', na=False)]\n",
        "print(f\"Solution 4: Cell lines with 'T' in name: {len(t_lines)}\")\n",
        "print(\"Cancer types:\")\n",
        "print(t_lines['oncotree_lineage'].value_counts())"
      ]
    },
    {
      "cell_type": "code",
      "execution_count": null,
      "metadata": {},
      "outputs": [],
      "source": [
        "# Solution 5\n",
        "target_cancers = df[df['oncotree_lineage'].isin(['Breast', 'Lung', 'Ovary'])]\n",
        "essential_a1bg = target_cancers[target_cancers['A1BG'] < -0.1]\n",
        "drug_targets = essential_a1bg[['cell_line_name', 'oncotree_lineage', 'oncotree_primary_disease', 'A1BG']].sort_values('A1BG')\n",
        "\n",
        "print(f\"Solution 5: Potential A1BG targets found: {len(drug_targets)}\")\n",
        "print(drug_targets.round(3))"
      ]
    },
    {
      "cell_type": "markdown",
      "metadata": {},
      "source": [
        "---\n",
        "## 🎊 Congratulations!\n",
        "\n",
        "You've mastered pandas filtering! Here's what you learned:\n",
        "\n",
        "✅ **Column Selection**: Single columns, multiple columns, column ranges  \n",
        "✅ **Row Filtering**: Position-based, random sampling  \n",
        "✅ **Boolean Filtering**: Conditions, comparisons, combining filters  \n",
        "✅ **Advanced Techniques**: `.isin()`, `.query()`, `.loc[]`  \n",
        "✅ **Real Applications**: Filtering cancer research data  \n",
        "\n",
        "**Next Steps**: \n",
        "- Practice with your own datasets\n",
        "- Combine filtering with groupby operations\n",
        "- Learn about joining/merging filtered datasets\n",
        "\n",
        "Keep exploring! 🚀"
      ]
    }
  ],
  "metadata": {
    "kernelspec": {
      "display_name": "Python 3",
      "language": "python",
      "name": "python3"
    },
    "language_info": {
      "codemirror_mode": {
        "name": "ipython",
        "version": 3
      },
      "file_extension": ".py",
      "mimetype": "text/x-python",
      "name": "python",
      "nbconvert_exporter": "python",
      "pygments_lexer": "ipython3",
      "version": "3.8.5"
    }
  },
  "nbformat": 4,
  "nbformat_minor": 4
}
