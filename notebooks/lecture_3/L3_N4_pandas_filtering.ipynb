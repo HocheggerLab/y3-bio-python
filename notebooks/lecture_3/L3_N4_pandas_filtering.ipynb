{
 "cells": [
  {
   "cell_type": "markdown",
   "metadata": {},
   "source": [
    "# Lecture 3: Pandas Filtering - Step by Step\n",
    "\n",
    "Learn how to extract exactly the data you need from DataFrames, building up from simple to complex filtering.\n",
    "\n",
    "## What We'll Learn:\n",
    "1. Select single columns\n",
    "2. Select multiple columns\n",
    "3. Select rows by position (iloc)\n",
    "4. Select rows and columns together (loc)\n",
    "5. Filter rows using conditions (boolean filtering)\n",
    "6. Combine multiple conditions\n",
    "\n",
    "Let's start with our cancer research dataset! 🧬"
   ]
  },
  {
   "cell_type": "markdown",
   "metadata": {},
   "source": [
    "## Load Our Dataset\n",
    "\n",
    "First, let's load our DepMap cancer dataset and take a look at it."
   ]
  },
  {
   "cell_type": "code",
   "execution_count": null,
   "metadata": {},
   "outputs": [],
   "source": [
    "import pandas as pd\n",
    "import numpy as np\n",
    "\n",
    "# Load the DepMap CRISPR dataset\n",
    "url = \"https://zenodo.org/records/17098555/files/combined_model_crispr_data_filtered.csv?download=1\"\n",
    "df = pd.read_csv(url)\n",
    "\n",
    "print(f\"Dataset shape: {df.shape}\")\n",
    "print(f\"\\nFirst 3 rows:\")\n",
    "print(df.head(3))"
   ]
  },
  {
   "cell_type": "code",
   "execution_count": null,
   "metadata": {},
   "outputs": [],
   "source": [
    "# Let's see what columns we have\n",
    "print(\"Column names:\")\n",
    "print(df.columns.tolist()[:10])  # First 10 columns"
   ]
  },
  {
   "cell_type": "markdown",
   "metadata": {},
   "source": [
    "---\n",
    "\n",
    "## Section 1: Selecting a Single Column\n",
    "\n",
    "### Guided Example 1.1: Getting one column\n",
    "\n",
    "The simplest thing we can do is get just one column from our DataFrame."
   ]
  },
  {
   "cell_type": "code",
   "execution_count": null,
   "metadata": {},
   "outputs": [],
   "source": [
    "# Get the 'cell_line_name' column\n",
    "cell_lines = df['cell_line_name']\n",
    "\n",
    "print(\"First 10 cell line names:\")\n",
    "print(cell_lines.head(10))"
   ]
  },
  {
   "cell_type": "markdown",
   "metadata": {},
   "source": [
    "**What's happening here?**\n",
    "- We use square brackets: `df['column_name']`\n",
    "- This gives us a **Series** (a single column)\n",
    "- It's like picking one column from a spreadsheet"
   ]
  },
  {
   "cell_type": "markdown",
   "metadata": {},
   "source": [
    "### Guided Example 1.2: Looking at the column type"
   ]
  },
  {
   "cell_type": "code",
   "execution_count": null,
   "metadata": {},
   "outputs": [],
   "source": [
    "# Get a column and check what type it is\n",
    "cancer_types = df['oncotree_lineage']\n",
    "\n",
    "print(f\"Data type: {type(cancer_types)}\")\n",
    "print(f\"\\nHow many values: {len(cancer_types)}\")\n",
    "print(f\"\\nUnique cancer types: {cancer_types.nunique()}\")\n",
    "print(f\"\\nFirst few values:\")\n",
    "print(cancer_types.head())"
   ]
  },
  {
   "cell_type": "markdown",
   "metadata": {},
   "source": [
    "**What's new here?**\n",
    "- When we select one column, we get a Series (not a DataFrame)\n",
    "- We can use methods like `.nunique()` to count unique values\n",
    "- Series have useful properties like `.head()` just like DataFrames"
   ]
  },
  {
   "cell_type": "markdown",
   "metadata": {},
   "source": [
    "### Practice Example 1.1: Get the model_id column\n",
    "\n",
    "Select the 'model_id' column and print the first 8 values"
   ]
  },
  {
   "cell_type": "code",
   "execution_count": null,
   "metadata": {},
   "outputs": [],
   "source": [
    "# YOUR CODE HERE: get the 'model_id' column\n",
    "# Print the first 8 values"
   ]
  },
  {
   "cell_type": "markdown",
   "metadata": {},
   "source": [
    "### Practice Example 1.2: Get a gene column\n",
    "\n",
    "Select the 'A1BG' gene column and print:\n",
    "- How many values it has\n",
    "- The first 5 values"
   ]
  },
  {
   "cell_type": "code",
   "execution_count": null,
   "metadata": {},
   "outputs": [],
   "source": [
    "# YOUR CODE HERE: get the 'A1BG' column\n",
    "# Print the length and first 5 values"
   ]
  },
  {
   "cell_type": "markdown",
   "metadata": {},
   "source": [
    "---\n",
    "\n",
    "## Section 2: Selecting Multiple Columns\n",
    "\n",
    "### Guided Example 2.1: Getting several columns\n",
    "\n",
    "What if we want more than one column? We pass a **list** of column names."
   ]
  },
  {
   "cell_type": "code",
   "execution_count": null,
   "metadata": {},
   "outputs": [],
   "source": [
    "# Get three columns: cell line name, cancer type, and primary disease\n",
    "columns_we_want = ['cell_line_name', 'oncotree_lineage', 'oncotree_primary_disease']\n",
    "subset = df[columns_we_want]\n",
    "\n",
    "print(\"Selected 3 columns:\")\n",
    "print(subset.head())"
   ]
  },
  {
   "cell_type": "markdown",
   "metadata": {},
   "source": [
    "**What's happening here?**\n",
    "- We use **double brackets**: `df[['col1', 'col2', 'col3']]`\n",
    "- The inner brackets make a list of column names\n",
    "- The outer brackets select those columns from the DataFrame\n",
    "- This gives us a **DataFrame** (not a Series)"
   ]
  },
  {
   "cell_type": "markdown",
   "metadata": {},
   "source": [
    "### Guided Example 2.2: Selecting columns including genes"
   ]
  },
  {
   "cell_type": "code",
   "execution_count": null,
   "metadata": {},
   "outputs": [],
   "source": [
    "# Get metadata and first two gene columns\n",
    "cols = ['cell_line_name', 'oncotree_lineage', 'A1BG', 'A1CF']\n",
    "data_subset = df[cols]\n",
    "\n",
    "print(\"Cell lines with two gene scores:\")\n",
    "print(data_subset.head())\n",
    "print(f\"\\nShape: {data_subset.shape}\")"
   ]
  },
  {
   "cell_type": "markdown",
   "metadata": {},
   "source": [
    "**What's new here?**\n",
    "- We can mix metadata columns (like cell line name) with data columns (like gene scores)\n",
    "- `.shape` shows us (rows, columns)\n",
    "- The result is still a DataFrame"
   ]
  },
  {
   "cell_type": "markdown",
   "metadata": {},
   "source": [
    "### Practice Example 2.1: Select three columns\n",
    "\n",
    "Select these three columns: 'model_id', 'cell_line_name', 'oncotree_lineage'\n",
    "\n",
    "Print the first 6 rows"
   ]
  },
  {
   "cell_type": "code",
   "execution_count": null,
   "metadata": {},
   "outputs": [],
   "source": [
    "# YOUR CODE HERE: select the three columns\n",
    "# Print first 6 rows"
   ]
  },
  {
   "cell_type": "markdown",
   "metadata": {},
   "source": [
    "### Practice Example 2.2: Select metadata and genes\n",
    "\n",
    "Select: 'cell_line_name', 'A1BG', 'A1CF', 'A2M'\n",
    "\n",
    "Print the shape and first 5 rows"
   ]
  },
  {
   "cell_type": "code",
   "execution_count": null,
   "metadata": {},
   "outputs": [],
   "source": [
    "# YOUR CODE HERE: select the columns\n",
    "# Print shape and first 5 rows"
   ]
  },
  {
   "cell_type": "markdown",
   "metadata": {},
   "source": [
    "---\n",
    "\n",
    "## Section 3: Selecting Rows by Position (iloc)\n",
    "\n",
    "### Guided Example 3.1: Getting specific rows\n",
    "\n",
    "Sometimes we want specific rows by their position (like row 0, 1, 2...). We use `.iloc[]`"
   ]
  },
  {
   "cell_type": "code",
   "execution_count": null,
   "metadata": {},
   "outputs": [],
   "source": [
    "# Get the first 5 rows (positions 0, 1, 2, 3, 4)\n",
    "first_five = df.iloc[0:5]\n",
    "\n",
    "print(\"First 5 rows:\")\n",
    "print(first_five[['cell_line_name', 'oncotree_lineage']])"
   ]
  },
  {
   "cell_type": "markdown",
   "metadata": {},
   "source": [
    "**What's happening here?**\n",
    "- `.iloc[0:5]` means \"get rows at positions 0, 1, 2, 3, 4\"\n",
    "- The number after `:` is NOT included (just like `range()`)\n",
    "- `iloc` stands for \"integer location\""
   ]
  },
  {
   "cell_type": "markdown",
   "metadata": {},
   "source": [
    "### Guided Example 3.2: Different ways to use iloc"
   ]
  },
  {
   "cell_type": "code",
   "execution_count": null,
   "metadata": {},
   "outputs": [],
   "source": [
    "# Get just row 0\n",
    "row_zero = df.iloc[0]\n",
    "print(\"Just row 0:\")\n",
    "print(row_zero[['cell_line_name', 'oncotree_lineage']])\n",
    "\n",
    "# Get rows 10 to 15\n",
    "rows_10_to_15 = df.iloc[10:15]\n",
    "print(\"\\nRows 10-14:\")\n",
    "print(rows_10_to_15[['cell_line_name', 'oncotree_lineage']])\n",
    "\n",
    "# Get the last 3 rows\n",
    "last_three = df.iloc[-3:]\n",
    "print(\"\\nLast 3 rows:\")\n",
    "print(last_three[['cell_line_name', 'oncotree_lineage']])"
   ]
  },
  {
   "cell_type": "markdown",
   "metadata": {},
   "source": [
    "**What's new here?**\n",
    "- `.iloc[0]` - gets just one row (returns a Series)\n",
    "- `.iloc[10:15]` - gets a range of rows\n",
    "- `.iloc[-3:]` - negative numbers count from the end"
   ]
  },
  {
   "cell_type": "markdown",
   "metadata": {},
   "source": [
    "### Practice Example 3.1: Get rows 20 to 25\n",
    "\n",
    "Use iloc to get rows at positions 20, 21, 22, 23, 24\n",
    "\n",
    "Show the 'cell_line_name' and 'oncotree_lineage' columns"
   ]
  },
  {
   "cell_type": "code",
   "execution_count": null,
   "metadata": {},
   "outputs": [],
   "source": [
    "# YOUR CODE HERE: get rows 20-24 using iloc\n",
    "# Show cell_line_name and oncotree_lineage"
   ]
  },
  {
   "cell_type": "markdown",
   "metadata": {},
   "source": [
    "### Practice Example 3.2: Get the first 10 rows\n",
    "\n",
    "Use iloc to get the first 10 rows\n",
    "\n",
    "Show the 'model_id' and 'cell_line_name' columns"
   ]
  },
  {
   "cell_type": "code",
   "execution_count": null,
   "metadata": {},
   "outputs": [],
   "source": [
    "# YOUR CODE HERE: get first 10 rows\n",
    "# Show model_id and cell_line_name"
   ]
  },
  {
   "cell_type": "markdown",
   "metadata": {},
   "source": [
    "### Practice Example 3.3: Get the last 5 rows\n",
    "\n",
    "Use iloc with negative indexing to get the last 5 rows"
   ]
  },
  {
   "cell_type": "code",
   "execution_count": null,
   "metadata": {},
   "outputs": [],
   "source": [
    "# YOUR CODE HERE: get last 5 rows\n",
    "# Show cell_line_name and oncotree_lineage"
   ]
  },
  {
   "cell_type": "markdown",
   "metadata": {},
   "source": [
    "---\n",
    "\n",
    "## Section 4: Selecting Rows AND Columns Together (loc)\n",
    "\n",
    "### Guided Example 4.1: Using loc to select rows and columns\n",
    "\n",
    "`.loc[]` lets us select specific rows AND specific columns at the same time"
   ]
  },
  {
   "cell_type": "code",
   "execution_count": null,
   "metadata": {},
   "outputs": [],
   "source": [
    "# Get first 5 rows, but only 3 specific columns\n",
    "result = df.loc[0:4, ['cell_line_name', 'oncotree_lineage', 'A1BG']]\n",
    "\n",
    "print(\"First 5 rows, 3 columns:\")\n",
    "print(result)"
   ]
  },
  {
   "cell_type": "markdown",
   "metadata": {},
   "source": [
    "**What's happening here?**\n",
    "- `.loc[rows, columns]` - takes two parts separated by a comma\n",
    "- First part: which rows (0:4 means rows 0, 1, 2, 3, 4)\n",
    "- Second part: which columns (a list of column names)\n",
    "- **Note:** `.loc[0:4]` INCLUDES row 4 (different from iloc!)"
   ]
  },
  {
   "cell_type": "markdown",
   "metadata": {},
   "source": [
    "### Guided Example 4.2: Using all rows or all columns"
   ]
  },
  {
   "cell_type": "code",
   "execution_count": null,
   "metadata": {},
   "outputs": [],
   "source": [
    "# Get ALL rows, but only 2 columns\n",
    "all_rows_two_cols = df.loc[:, ['cell_line_name', 'A1BG']]\n",
    "print(\"All rows, 2 columns (first 5 rows shown):\")\n",
    "print(all_rows_two_cols.head())\n",
    "\n",
    "# Get rows 10-15, ALL columns (too many to show nicely)\n",
    "few_rows_all_cols = df.loc[10:15, :]\n",
    "print(f\"\\nRows 10-15, all columns - shape: {few_rows_all_cols.shape}\")"
   ]
  },
  {
   "cell_type": "markdown",
   "metadata": {},
   "source": [
    "**What's new here?**\n",
    "- `:` by itself means \"all\"\n",
    "- `.loc[:, ['col1', 'col2']]` - all rows, specific columns\n",
    "- `.loc[0:10, :]` - specific rows, all columns"
   ]
  },
  {
   "cell_type": "markdown",
   "metadata": {},
   "source": [
    "### Practice Example 4.1: Get rows 0-9, three columns\n",
    "\n",
    "Use loc to get rows 0 through 9 (first 10 rows)\n",
    "\n",
    "Select only: 'cell_line_name', 'oncotree_lineage', 'A1CF'"
   ]
  },
  {
   "cell_type": "code",
   "execution_count": null,
   "metadata": {},
   "outputs": [],
   "source": [
    "# YOUR CODE HERE: use .loc to get first 10 rows and 3 columns"
   ]
  },
  {
   "cell_type": "markdown",
   "metadata": {},
   "source": [
    "### Practice Example 4.2: Get all rows, two gene columns\n",
    "\n",
    "Use loc to get ALL rows, but only the 'A1BG' and 'A2M' columns\n",
    "\n",
    "Print the first 8 rows"
   ]
  },
  {
   "cell_type": "code",
   "execution_count": null,
   "metadata": {},
   "outputs": [],
   "source": [
    "# YOUR CODE HERE: get all rows, two columns\n",
    "# Print first 8 rows"
   ]
  },
  {
   "cell_type": "markdown",
   "metadata": {},
   "source": [
    "---\n",
    "\n",
    "## Section 5: Boolean Filtering - Basic Conditions\n",
    "\n",
    "### Guided Example 5.1: Filtering with one condition\n",
    "\n",
    "Now for the powerful part! We can filter rows based on their values."
   ]
  },
  {
   "cell_type": "code",
   "execution_count": null,
   "metadata": {},
   "outputs": [],
   "source": [
    "# Find all breast cancer cell lines\n",
    "breast_cancer = df[df['oncotree_lineage'] == 'Breast']\n",
    "\n",
    "print(f\"Number of breast cancer cell lines: {len(breast_cancer)}\")\n",
    "print(\"\\nFirst few breast cancer lines:\")\n",
    "print(breast_cancer[['cell_line_name', 'oncotree_lineage']].head())"
   ]
  },
  {
   "cell_type": "markdown",
   "metadata": {},
   "source": [
    "**What's happening here?**\n",
    "- `df['oncotree_lineage'] == 'Breast'` creates True/False values\n",
    "- True for rows where lineage is 'Breast'\n",
    "- False for all other rows\n",
    "- `df[True/False values]` keeps only the True rows"
   ]
  },
  {
   "cell_type": "code",
   "execution_count": null,
   "metadata": {},
   "outputs": [],
   "source": [
    "# Let's see what the True/False values look like\n",
    "condition = df['oncotree_lineage'] == 'Breast'\n",
    "print(\"First 10 True/False values:\")\n",
    "print(condition.head(10))\n",
    "print(f\"\\nNumber of True values: {condition.sum()}\")"
   ]
  },
  {
   "cell_type": "markdown",
   "metadata": {},
   "source": [
    "**Understanding the condition:**\n",
    "- The condition creates a Series of True/False (called a \"boolean mask\")\n",
    "- We can sum it to count True values (True = 1, False = 0)\n",
    "- Then we use it to filter: `df[condition]`"
   ]
  },
  {
   "cell_type": "markdown",
   "metadata": {},
   "source": [
    "### Guided Example 5.2: Filtering with number comparisons"
   ]
  },
  {
   "cell_type": "code",
   "execution_count": null,
   "metadata": {},
   "outputs": [],
   "source": [
    "# Find cell lines where A1BG gene effect is very negative (< -0.1)\n",
    "negative_a1bg = df[df['A1BG'] < -0.1]\n",
    "\n",
    "print(f\"Cell lines with A1BG < -0.1: {len(negative_a1bg)}\")\n",
    "print(\"\\nFirst few:\")\n",
    "print(negative_a1bg[['cell_line_name', 'oncotree_lineage', 'A1BG']].head())"
   ]
  },
  {
   "cell_type": "markdown",
   "metadata": {},
   "source": [
    "**What's new here?**\n",
    "- We can use comparison operators: `<`, `>`, `<=`, `>=`, `==`, `!=`\n",
    "- `df['A1BG'] < -0.1` finds all rows where A1BG is less than -0.1\n",
    "- Very useful for finding genes with strong effects!"
   ]
  },
  {
   "cell_type": "markdown",
   "metadata": {},
   "source": [
    "### Practice Example 5.1: Filter for lung cancer\n",
    "\n",
    "Filter the DataFrame to get only lung cancer cell lines\n",
    "\n",
    "(where 'oncotree_lineage' equals 'Lung')\n",
    "\n",
    "How many are there? Show the first 5."
   ]
  },
  {
   "cell_type": "code",
   "execution_count": null,
   "metadata": {},
   "outputs": [],
   "source": [
    "# YOUR CODE HERE: filter for Lung cancer\n",
    "# Print the count and first 5 rows"
   ]
  },
  {
   "cell_type": "markdown",
   "metadata": {},
   "source": [
    "### Practice Example 5.2: Filter for positive gene effects\n",
    "\n",
    "Find all cell lines where A1CF is greater than 0.05\n",
    "\n",
    "How many are there? Show 'cell_line_name', 'oncotree_lineage', and 'A1CF' for the first 5."
   ]
  },
  {
   "cell_type": "code",
   "execution_count": null,
   "metadata": {},
   "outputs": [],
   "source": [
    "# YOUR CODE HERE: filter for A1CF > 0.05\n",
    "# Print count and first 5 rows with selected columns"
   ]
  },
  {
   "cell_type": "markdown",
   "metadata": {},
   "source": [
    "### Practice Example 5.3: Filter for strong negative effects\n",
    "\n",
    "Find cell lines where A2M is less than -0.15\n",
    "\n",
    "Show 'cell_line_name', 'oncotree_lineage', and 'A2M'. Sort by A2M value (most negative first)."
   ]
  },
  {
   "cell_type": "code",
   "execution_count": null,
   "metadata": {},
   "outputs": [],
   "source": [
    "# YOUR CODE HERE: filter for A2M < -0.15\n",
    "# Show selected columns, sorted by A2M\n",
    "# Hint: use .sort_values('A2M')"
   ]
  },
  {
   "cell_type": "markdown",
   "metadata": {},
   "source": [
    "---\n",
    "\n",
    "## Section 6: Combining Multiple Conditions\n",
    "\n",
    "### Guided Example 6.1: Using AND (&) to combine conditions\n",
    "\n",
    "What if we want rows that meet TWO conditions? We use `&` (and)"
   ]
  },
  {
   "cell_type": "code",
   "execution_count": null,
   "metadata": {},
   "outputs": [],
   "source": [
    "# Find breast cancer cell lines where A1BG is very negative\n",
    "breast_and_negative = df[(df['oncotree_lineage'] == 'Breast') & (df['A1BG'] < -0.1)]\n",
    "\n",
    "print(f\"Breast cancer with A1BG < -0.1: {len(breast_and_negative)}\")\n",
    "print(\"\\nThese cell lines:\")\n",
    "print(breast_and_negative[['cell_line_name', 'oncotree_lineage', 'A1BG']].head())"
   ]
  },
  {
   "cell_type": "markdown",
   "metadata": {},
   "source": [
    "**What's happening here?**\n",
    "- `&` means \"AND\" - both conditions must be True\n",
    "- **Important:** Put each condition in parentheses `(condition1) & (condition2)`\n",
    "- This finds rows where lineage is Breast AND A1BG is less than -0.1"
   ]
  },
  {
   "cell_type": "markdown",
   "metadata": {},
   "source": [
    "### Guided Example 6.2: Using OR (|) to combine conditions"
   ]
  },
  {
   "cell_type": "code",
   "execution_count": null,
   "metadata": {},
   "outputs": [],
   "source": [
    "# Find cell lines that are EITHER breast OR lung cancer\n",
    "breast_or_lung = df[(df['oncotree_lineage'] == 'Breast') | (df['oncotree_lineage'] == 'Lung')]\n",
    "\n",
    "print(f\"Breast OR Lung cancer: {len(breast_or_lung)}\")\n",
    "print(\"\\nCounts by cancer type:\")\n",
    "print(breast_or_lung['oncotree_lineage'].value_counts())"
   ]
  },
  {
   "cell_type": "markdown",
   "metadata": {},
   "source": [
    "**What's new here?**\n",
    "- `|` means \"OR\" - at least one condition must be True\n",
    "- `(condition1) | (condition2)` - returns True if either is True\n",
    "- Useful for including multiple categories"
   ]
  },
  {
   "cell_type": "markdown",
   "metadata": {},
   "source": [
    "### Practice Example 6.1: Breast cancer with positive A1CF\n",
    "\n",
    "Find breast cancer cell lines where A1CF is greater than 0.05\n",
    "\n",
    "Use AND (&) to combine two conditions:\n",
    "1. oncotree_lineage equals 'Breast'\n",
    "2. A1CF is greater than 0.05\n",
    "\n",
    "How many are there?"
   ]
  },
  {
   "cell_type": "code",
   "execution_count": null,
   "metadata": {},
   "outputs": [],
   "source": [
    "# YOUR CODE HERE: filter using & to combine conditions\n",
    "# Print count and first few rows"
   ]
  },
  {
   "cell_type": "markdown",
   "metadata": {},
   "source": [
    "### Practice Example 6.2: Lung or brain cancer\n",
    "\n",
    "Find cell lines that are EITHER 'Lung' OR 'Brain' cancer\n",
    "\n",
    "How many of each type?"
   ]
  },
  {
   "cell_type": "code",
   "execution_count": null,
   "metadata": {},
   "outputs": [],
   "source": [
    "# YOUR CODE HERE: filter using | (OR)\n",
    "# Print counts using .value_counts()"
   ]
  },
  {
   "cell_type": "markdown",
   "metadata": {},
   "source": [
    "### Practice Example 6.3: Complex filtering\n",
    "\n",
    "Find breast cancer cell lines where BOTH genes show effects:\n",
    "- A1BG is less than -0.08 AND\n",
    "- A1CF is less than -0.05\n",
    "\n",
    "Show 'cell_line_name', 'A1BG', and 'A1CF'"
   ]
  },
  {
   "cell_type": "code",
   "execution_count": null,
   "metadata": {},
   "outputs": [],
   "source": [
    "# YOUR CODE HERE: filter with three conditions combined\n",
    "# (cancer type AND gene1 AND gene2)"
   ]
  },
  {
   "cell_type": "markdown",
   "metadata": {},
   "source": [
    "### Practice Example 6.4: Very complex filtering\n",
    "\n",
    "Find cell lines where:\n",
    "- Cancer type is 'Breast' OR 'Ovary' AND\n",
    "- A2M is less than -0.1\n",
    "\n",
    "How many cell lines meet these criteria?"
   ]
  },
  {
   "cell_type": "code",
   "execution_count": null,
   "metadata": {},
   "outputs": [],
   "source": [
    "# YOUR CODE HERE: combine multiple conditions\n",
    "# Hint: ((condition1 | condition2) & condition3)"
   ]
  },
  {
   "cell_type": "markdown",
   "metadata": {},
   "source": [
    "---\n",
    "\n",
    "## Summary\n",
    "\n",
    "Congratulations! You've learned pandas filtering step-by-step:\n",
    "\n",
    "**Section 1 - Single column:**\n",
    "- ✅ `df['column_name']` - gets one column\n",
    "\n",
    "**Section 2 - Multiple columns:**\n",
    "- ✅ `df[['col1', 'col2']]` - gets several columns\n",
    "\n",
    "**Section 3 - Rows by position:**\n",
    "- ✅ `df.iloc[0:5]` - gets rows by position\n",
    "\n",
    "**Section 4 - Rows and columns:**\n",
    "- ✅ `df.loc[rows, columns]` - gets specific rows and columns\n",
    "\n",
    "**Section 5 - Boolean filtering:**\n",
    "- ✅ `df[df['col'] == value]` - filters rows by condition\n",
    "- ✅ Can use `<`, `>`, `<=`, `>=`, `==`, `!=`\n",
    "\n",
    "**Section 6 - Multiple conditions:**\n",
    "- ✅ `df[(condition1) & (condition2)]` - AND (both must be true)\n",
    "- ✅ `df[(condition1) | (condition2)]` - OR (at least one must be true)\n",
    "\n",
    "**Next Steps:**\n",
    "- Practice with your own datasets\n",
    "- Combine filtering with sorting\n",
    "- Learn about `.isin()` for filtering multiple values\n",
    "\n",
    "Keep practicing! 🚀"
   ]
  }
 ],
 "metadata": {
  "kernelspec": {
   "display_name": "Python 3",
   "language": "python",
   "name": "python3"
  },
  "language_info": {
   "name": "python",
   "version": "3.8.0"
  }
 },
 "nbformat": 4,
 "nbformat_minor": 4
}
