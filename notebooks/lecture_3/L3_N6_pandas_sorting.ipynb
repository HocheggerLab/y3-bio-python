{
 "cells": [
  {
   "cell_type": "markdown",
   "metadata": {},
   "source": [
    "# Lecture 3: Pandas Sorting - Step by Step\n",
    "\n",
    "Learn how to organize your data by sorting, building from simple to complex operations.\n",
    "\n",
    "## What We'll Learn:\n",
    "1. Sort by one column (ascending and descending)\n",
    "2. Sort by multiple columns\n",
    "3. Find top N and bottom N values quickly\n",
    "4. Sort within groups\n",
    "5. Rank values\n",
    "\n",
    "Let's organize our cancer dataset! 🧬"
   ]
  },
  {
   "cell_type": "markdown",
   "metadata": {},
   "source": [
    "## Load Our Dataset\n",
    "\n",
    "First, let's load our DepMap cancer dataset."
   ]
  },
  {
   "cell_type": "code",
   "execution_count": null,
   "metadata": {},
   "outputs": [],
   "source": [
    "import pandas as pd\n",
    "import numpy as np\n",
    "\n",
    "# Load the DepMap CRISPR dataset\n",
    "url = \"https://zenodo.org/records/17098555/files/combined_model_crispr_data_filtered.csv?download=1\"\n",
    "df = pd.read_csv(url)\n",
    "\n",
    "print(f\"Dataset shape: {df.shape}\")\n",
    "print(f\"\\nFirst few rows:\")\n",
    "print(df[['cell_line_name', 'oncotree_lineage', 'A1BG', 'A1CF']].head())"
   ]
  },
  {
   "cell_type": "markdown",
   "metadata": {},
   "source": [
    "---\n",
    "\n",
    "## Section 1: Sort by One Column\n",
    "\n",
    "### Guided Example 1.1: Sort alphabetically (ascending)\n",
    "\n",
    "The simplest sorting - organize by one column in ascending order (A to Z)."
   ]
  },
  {
   "cell_type": "code",
   "execution_count": null,
   "metadata": {},
   "outputs": [],
   "source": [
    "# Sort cell lines alphabetically by name\n",
    "sorted_names = df.sort_values('cell_line_name')\n",
    "\n",
    "print(\"First 5 cell lines alphabetically:\")\n",
    "print(sorted_names[['cell_line_name', 'oncotree_lineage']].head())"
   ]
  },
  {
   "cell_type": "markdown",
   "metadata": {},
   "source": [
    "**What's happening here?**\n",
    "- `.sort_values('column_name')` sorts the entire DataFrame by that column\n",
    "- Default is ascending order (A to Z, or smallest to largest)\n",
    "- Returns a new sorted DataFrame (doesn't change the original)\n",
    "- The entire row moves together when sorting"
   ]
  },
  {
   "cell_type": "markdown",
   "metadata": {},
   "source": [
    "### Guided Example 1.2: Sort numerically (ascending and descending)\n",
    "\n",
    "Sort by numbers - both smallest-first and largest-first"
   ]
  },
  {
   "cell_type": "code",
   "execution_count": null,
   "metadata": {},
   "outputs": [],
   "source": [
    "# Sort by A1BG - ascending (most negative first)\n",
    "sorted_ascending = df.sort_values('A1BG', ascending=True)\n",
    "\n",
    "print(\"Cell lines with most negative A1BG (ascending):\")\n",
    "print(sorted_ascending[['cell_line_name', 'oncotree_lineage', 'A1BG']].head())\n",
    "\n",
    "# Sort by A1BG - descending (most positive first)\n",
    "sorted_descending = df.sort_values('A1BG', ascending=False)\n",
    "\n",
    "print(\"\\nCell lines with most positive A1BG (descending):\")\n",
    "print(sorted_descending[['cell_line_name', 'oncotree_lineage', 'A1BG']].head())"
   ]
  },
  {
   "cell_type": "markdown",
   "metadata": {},
   "source": [
    "**What's new here?**\n",
    "- `ascending=True` - smallest to largest (default)\n",
    "- `ascending=False` - largest to smallest\n",
    "- For gene effects: negative values (essential genes) come first with ascending=True\n",
    "- Remember: ascending=True means the values go up (from -1 to 0 to 1)"
   ]
  },
  {
   "cell_type": "markdown",
   "metadata": {},
   "source": [
    "### Practice Example 1.1: Sort by A1CF\n",
    "\n",
    "Sort the DataFrame by the 'A1CF' column in ascending order.\n",
    "\n",
    "Show the first 5 rows with columns: cell_line_name, oncotree_lineage, A1CF"
   ]
  },
  {
   "cell_type": "code",
   "execution_count": null,
   "metadata": {},
   "outputs": [],
   "source": [
    "# YOUR CODE HERE: sort by A1CF ascending"
   ]
  },
  {
   "cell_type": "markdown",
   "metadata": {},
   "source": [
    "### Practice Example 1.2: Sort descending\n",
    "\n",
    "Sort by 'A2M' in descending order (largest values first).\n",
    "\n",
    "Show the top 5 cell lines."
   ]
  },
  {
   "cell_type": "code",
   "execution_count": null,
   "metadata": {},
   "outputs": [],
   "source": [
    "# YOUR CODE HERE: sort by A2M descending"
   ]
  },
  {
   "cell_type": "markdown",
   "metadata": {},
   "source": [
    "---\n",
    "\n",
    "## Section 2: Sort by Multiple Columns\n",
    "\n",
    "### Guided Example 2.1: Sort by two columns (same order)\n",
    "\n",
    "Sort by cancer type first, then by cell line name within each type"
   ]
  },
  {
   "cell_type": "code",
   "execution_count": null,
   "metadata": {},
   "outputs": [],
   "source": [
    "# Sort by cancer type, then by name (both ascending)\n",
    "sorted_multi = df.sort_values(['oncotree_lineage', 'cell_line_name'])\n",
    "\n",
    "print(\"Sorted by cancer type, then by name:\")\n",
    "print(sorted_multi[['oncotree_lineage', 'cell_line_name', 'A1BG']].head(10))"
   ]
  },
  {
   "cell_type": "markdown",
   "metadata": {},
   "source": [
    "**What's happening here?**\n",
    "- Pass a list of columns: `['column1', 'column2']`\n",
    "- Sorts by first column, then breaks ties with second column\n",
    "- All Breast cancer cells are grouped together, sorted alphabetically\n",
    "- Then all Myeloid cancer cells, also sorted alphabetically"
   ]
  },
  {
   "cell_type": "markdown",
   "metadata": {},
   "source": [
    "### Guided Example 2.2: Different orders for different columns\n",
    "\n",
    "Sort by cancer type (A to Z) but within each type, sort by gene effect (largest to smallest)"
   ]
  },
  {
   "cell_type": "code",
   "execution_count": null,
   "metadata": {},
   "outputs": [],
   "source": [
    "# Sort by cancer type (ascending) and A1BG (descending)\n",
    "sorted_mixed = df.sort_values(\n",
    "    ['oncotree_lineage', 'A1BG'],\n",
    "    ascending=[True, False]  # First ascending, second descending\n",
    ")\n",
    "\n",
    "print(\"Each cancer type, showing highest A1BG values first:\")\n",
    "print(sorted_mixed[['cell_line_name', 'oncotree_lineage', 'A1BG']].head(10))"
   ]
  },
  {
   "cell_type": "markdown",
   "metadata": {},
   "source": [
    "**What's new here?**\n",
    "- `ascending=[True, False]` - a list matching the column list\n",
    "- First column (cancer type) sorted ascending (A to Z)\n",
    "- Second column (A1BG) sorted descending (largest to smallest)\n",
    "- Within Breast cancer, cells with highest A1BG appear first"
   ]
  },
  {
   "cell_type": "markdown",
   "metadata": {},
   "source": [
    "### Practice Example 2.1: Sort by cancer type and A1CF\n",
    "\n",
    "Sort by:\n",
    "- 'oncotree_lineage' (ascending)\n",
    "- 'A1CF' (ascending)\n",
    "\n",
    "Show the first 8 rows."
   ]
  },
  {
   "cell_type": "code",
   "execution_count": null,
   "metadata": {},
   "outputs": [],
   "source": [
    "# YOUR CODE HERE: sort by cancer type and A1CF"
   ]
  },
  {
   "cell_type": "markdown",
   "metadata": {},
   "source": [
    "### Practice Example 2.2: Three columns with different orders\n",
    "\n",
    "Sort by:\n",
    "- 'oncotree_lineage' (ascending)\n",
    "- 'A1BG' (descending)\n",
    "- 'A1CF' (descending)\n",
    "\n",
    "Show the first 10 rows."
   ]
  },
  {
   "cell_type": "code",
   "execution_count": null,
   "metadata": {},
   "outputs": [],
   "source": [
    "# YOUR CODE HERE: sort by three columns"
   ]
  },
  {
   "cell_type": "markdown",
   "metadata": {},
   "source": [
    "---\n",
    "\n",
    "## Section 3: Finding Top/Bottom N Values\n",
    "\n",
    "### Guided Example 3.1: Using nlargest()\n",
    "\n",
    "Quick way to find the largest values without sorting everything"
   ]
  },
  {
   "cell_type": "code",
   "execution_count": null,
   "metadata": {},
   "outputs": [],
   "source": [
    "# Find 5 cell lines with largest A1BG values\n",
    "top_5_a1bg = df.nlargest(5, 'A1BG')\n",
    "\n",
    "print(\"Top 5 highest A1BG values:\")\n",
    "print(top_5_a1bg[['cell_line_name', 'oncotree_lineage', 'A1BG']])"
   ]
  },
  {
   "cell_type": "markdown",
   "metadata": {},
   "source": [
    "**What's happening here?**\n",
    "- `.nlargest(n, 'column')` finds the n largest values in that column\n",
    "- Faster than sorting the entire DataFrame when you only need top N\n",
    "- Returns the complete rows for those top values\n",
    "- Useful for \"top 10\" type queries"
   ]
  },
  {
   "cell_type": "markdown",
   "metadata": {},
   "source": [
    "### Guided Example 3.2: Using nsmallest()\n",
    "\n",
    "Find the smallest values - most essential genes have most negative effects"
   ]
  },
  {
   "cell_type": "code",
   "execution_count": null,
   "metadata": {},
   "outputs": [],
   "source": [
    "# Find 5 cell lines with smallest (most negative) A1BG values\n",
    "bottom_5_a1bg = df.nsmallest(5, 'A1BG')\n",
    "\n",
    "print(\"Cell lines where A1BG is most essential (most negative):\")\n",
    "print(bottom_5_a1bg[['cell_line_name', 'oncotree_lineage', 'A1BG']])"
   ]
  },
  {
   "cell_type": "markdown",
   "metadata": {},
   "source": [
    "**What's new here?**\n",
    "- `.nsmallest(n, 'column')` finds the n smallest values\n",
    "- For gene effects, smallest = most negative = most essential\n",
    "- These cells are most dependent on the gene"
   ]
  },
  {
   "cell_type": "markdown",
   "metadata": {},
   "source": [
    "### Practice Example 3.1: Find top 10 for A1CF\n",
    "\n",
    "Use `.nlargest()` to find the 10 cell lines with the highest A1CF values.\n",
    "\n",
    "Show cell_line_name, oncotree_lineage, and A1CF."
   ]
  },
  {
   "cell_type": "code",
   "execution_count": null,
   "metadata": {},
   "outputs": [],
   "source": [
    "# YOUR CODE HERE: find top 10 A1CF values"
   ]
  },
  {
   "cell_type": "markdown",
   "metadata": {},
   "source": [
    "### Practice Example 3.2: Find both extremes\n",
    "\n",
    "For the A2M gene:\n",
    "- Find the 3 largest values using `.nlargest()`\n",
    "- Find the 3 smallest values using `.nsmallest()`\n",
    "- Print both results"
   ]
  },
  {
   "cell_type": "code",
   "execution_count": null,
   "metadata": {},
   "outputs": [],
   "source": [
    "# YOUR CODE HERE: find both extremes for A2M"
   ]
  },
  {
   "cell_type": "markdown",
   "metadata": {},
   "source": [
    "---\n",
    "\n",
    "## Section 4: Sorting Within Groups\n",
    "\n",
    "### Guided Example 4.1: Sort then take top per group\n",
    "\n",
    "Find the top cell lines within each cancer type"
   ]
  },
  {
   "cell_type": "code",
   "execution_count": null,
   "metadata": {},
   "outputs": [],
   "source": [
    "# Sort by A1BG (ascending - most negative first)\n",
    "sorted_a1bg = df.sort_values('A1BG')\n",
    "\n",
    "# Get top 3 from each cancer type\n",
    "top_per_cancer = sorted_a1bg.groupby('oncotree_lineage').head(3)\n",
    "\n",
    "print(\"Top 3 most A1BG-sensitive lines per cancer type:\")\n",
    "print(top_per_cancer[['cell_line_name', 'oncotree_lineage', 'A1BG']])"
   ]
  },
  {
   "cell_type": "markdown",
   "metadata": {},
   "source": [
    "**What's happening here?**\n",
    "- First, sort the entire DataFrame by A1BG\n",
    "- Then use `.groupby('column').head(n)` to get first n rows from each group\n",
    "- Since we sorted first, `.head()` gives us the smallest values per group\n",
    "- Shows 3 most sensitive Breast lines, then 3 most sensitive Myeloid lines"
   ]
  },
  {
   "cell_type": "markdown",
   "metadata": {},
   "source": [
    "### Guided Example 4.2: Compare extremes across groups\n",
    "\n",
    "Find both highest and lowest within each group"
   ]
  },
  {
   "cell_type": "code",
   "execution_count": null,
   "metadata": {},
   "outputs": [],
   "source": [
    "# Get most negative A1BG per cancer type\n",
    "most_sensitive = df.sort_values('A1BG').groupby('oncotree_lineage').head(1)\n",
    "\n",
    "# Get most positive A1BG per cancer type\n",
    "least_sensitive = df.sort_values('A1BG', ascending=False).groupby('oncotree_lineage').head(1)\n",
    "\n",
    "print(\"Most A1BG-sensitive cell line per cancer type:\")\n",
    "print(most_sensitive[['cell_line_name', 'oncotree_lineage', 'A1BG']])\n",
    "\n",
    "print(\"\\nLeast A1BG-sensitive cell line per cancer type:\")\n",
    "print(least_sensitive[['cell_line_name', 'oncotree_lineage', 'A1BG']])"
   ]
  },
  {
   "cell_type": "markdown",
   "metadata": {},
   "source": [
    "**What's new here?**\n",
    "- Same technique, used twice with different sort orders\n",
    "- `.head(1)` gets just the first row from each group\n",
    "- Lets you find the extreme value within each category"
   ]
  },
  {
   "cell_type": "markdown",
   "metadata": {},
   "source": [
    "### Practice Example 4.1: Top 5 per cancer type\n",
    "\n",
    "For the A1CF gene:\n",
    "- Sort by A1CF descending (highest first)\n",
    "- Get the top 5 cell lines from each cancer type\n",
    "- Show the results"
   ]
  },
  {
   "cell_type": "code",
   "execution_count": null,
   "metadata": {},
   "outputs": [],
   "source": [
    "# YOUR CODE HERE: get top 5 A1CF per cancer type"
   ]
  },
  {
   "cell_type": "markdown",
   "metadata": {},
   "source": [
    "### Practice Example 4.2: Most variable gene per type\n",
    "\n",
    "For each cancer type:\n",
    "- Calculate the mean of A1BG and A1CF\n",
    "- Sort by A1BG descending\n",
    "- Show the cancer type with the highest mean A1BG\n",
    "\n",
    "Hint: Use `.groupby().mean()` first, then sort"
   ]
  },
  {
   "cell_type": "code",
   "execution_count": null,
   "metadata": {},
   "outputs": [],
   "source": [
    "# YOUR CODE HERE: calculate means, then sort"
   ]
  },
  {
   "cell_type": "markdown",
   "metadata": {},
   "source": [
    "---\n",
    "\n",
    "## Section 5: Ranking Values\n",
    "\n",
    "### Guided Example 5.1: Basic ranking\n",
    "\n",
    "Assign rank numbers to all values"
   ]
  },
  {
   "cell_type": "code",
   "execution_count": null,
   "metadata": {},
   "outputs": [],
   "source": [
    "# Create ranks for A1BG (smallest value = rank 1)\n",
    "df['A1BG_rank'] = df['A1BG'].rank(ascending=True)\n",
    "\n",
    "# Show the top 10 ranked cell lines\n",
    "top_ranked = df.nsmallest(10, 'A1BG_rank')\n",
    "\n",
    "print(\"Top 10 ranked cell lines (most A1BG-sensitive):\")\n",
    "print(top_ranked[['cell_line_name', 'oncotree_lineage', 'A1BG', 'A1BG_rank']])"
   ]
  },
  {
   "cell_type": "markdown",
   "metadata": {},
   "source": [
    "**What's happening here?**\n",
    "- `.rank()` assigns a rank number to each value\n",
    "- `ascending=True` means smallest value gets rank 1\n",
    "- Every row gets a rank (not just the top ones)\n",
    "- Useful for comparing positions across different analyses"
   ]
  },
  {
   "cell_type": "markdown",
   "metadata": {},
   "source": [
    "### Guided Example 5.2: Ranking within groups\n",
    "\n",
    "Rank separately within each cancer type"
   ]
  },
  {
   "cell_type": "code",
   "execution_count": null,
   "metadata": {},
   "outputs": [],
   "source": [
    "# Rank A1BG within each cancer type\n",
    "df['A1BG_rank_by_type'] = df.groupby('oncotree_lineage')['A1BG'].rank(ascending=True)\n",
    "\n",
    "# Show top ranked from each cancer type\n",
    "top_per_type = df[df['A1BG_rank_by_type'] <= 3].sort_values(['oncotree_lineage', 'A1BG_rank_by_type'])\n",
    "\n",
    "print(\"Top 3 ranked cell lines within each cancer type:\")\n",
    "print(top_per_type[['cell_line_name', 'oncotree_lineage', 'A1BG', 'A1BG_rank_by_type']])"
   ]
  },
  {
   "cell_type": "markdown",
   "metadata": {},
   "source": [
    "**What's new here?**\n",
    "- `.groupby('column')['other_column'].rank()` ranks within groups\n",
    "- Rank 1 in Breast cancer and rank 1 in Myeloid cancer\n",
    "- Each group has its own ranking from 1 to N\n",
    "- Filter for `rank <= 3` to get top 3 from each group"
   ]
  },
  {
   "cell_type": "markdown",
   "metadata": {},
   "source": [
    "### Practice Example 5.1: Rank A1CF\n",
    "\n",
    "Create ranks for the A1CF gene:\n",
    "- Rank with ascending=True (most negative = rank 1)\n",
    "- Show the cell lines with ranks 1 through 5\n",
    "- Display: cell_line_name, A1CF, and the rank"
   ]
  },
  {
   "cell_type": "code",
   "execution_count": null,
   "metadata": {},
   "outputs": [],
   "source": [
    "# YOUR CODE HERE: rank A1CF and show top 5"
   ]
  },
  {
   "cell_type": "markdown",
   "metadata": {},
   "source": [
    "### Practice Example 5.2: Compare ranks across cancer types\n",
    "\n",
    "For the A2M gene:\n",
    "- Create overall ranks (ascending=True)\n",
    "- Create ranks within each cancer type\n",
    "- Find cell lines that are rank 1 within their cancer type\n",
    "- What are their overall ranks?"
   ]
  },
  {
   "cell_type": "code",
   "execution_count": null,
   "metadata": {},
   "outputs": [],
   "source": [
    "# YOUR CODE HERE: create both rank types and compare"
   ]
  },
  {
   "cell_type": "markdown",
   "metadata": {},
   "source": [
    "### Practice Example 5.3: Average rank by cancer type\n",
    "\n",
    "Create A1BG ranks for all cell lines, then:\n",
    "- Calculate the mean rank for each cancer type\n",
    "- Which cancer type has better (lower) average ranks?\n",
    "- What does this tell you about A1BG sensitivity?"
   ]
  },
  {
   "cell_type": "code",
   "execution_count": null,
   "metadata": {},
   "outputs": [],
   "source": [
    "# YOUR CODE HERE: calculate average rank by cancer type"
   ]
  },
  {
   "cell_type": "markdown",
   "metadata": {},
   "source": [
    "---\n",
    "\n",
    "## Summary\n",
    "\n",
    "Congratulations! You've learned pandas sorting step-by-step:\n",
    "\n",
    "**Section 1 - Sort by one column:**\n",
    "- ✅ `.sort_values('column')` - ascending and descending\n",
    "- ✅ `ascending=True` (default) or `ascending=False`\n",
    "\n",
    "**Section 2 - Multiple columns:**\n",
    "- ✅ Sort by several columns: `.sort_values(['col1', 'col2'])`\n",
    "- ✅ Different orders: `ascending=[True, False]`\n",
    "\n",
    "**Section 3 - Top/Bottom N:**\n",
    "- ✅ `.nlargest(n, 'column')` - fastest way to get top N\n",
    "- ✅ `.nsmallest(n, 'column')` - fastest way to get bottom N\n",
    "\n",
    "**Section 4 - Sorting within groups:**\n",
    "- ✅ Sort first, then `.groupby('column').head(n)`\n",
    "- ✅ Get top N from each category\n",
    "\n",
    "**Section 5 - Ranking:**\n",
    "- ✅ `.rank()` - assign rank numbers to all values\n",
    "- ✅ Ranking within groups with `.groupby()`\n",
    "\n",
    "**Next Steps:**\n",
    "- Combine sorting with filtering and statistics\n",
    "- Use sorting to prepare data for visualization\n",
    "- Apply sorting in complex data analysis workflows\n",
    "\n",
    "Keep organizing your data! 📊🚀"
   ]
  }
 ],
 "metadata": {
  "kernelspec": {
   "display_name": "Python 3",
   "language": "python",
   "name": "python3"
  },
  "language_info": {
   "codemirror_mode": {
    "name": "ipython",
    "version": 3
   },
   "file_extension": ".py",
   "mimetype": "text/x-python",
   "name": "python",
   "nbconvert_exporter": "python",
   "pygments_lexer": "ipython3",
   "version": "3.8.0"
  }
 },
 "nbformat": 4,
 "nbformat_minor": 4
}
