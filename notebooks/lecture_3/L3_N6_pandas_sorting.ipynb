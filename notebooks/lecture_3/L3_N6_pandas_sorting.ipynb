{
 "cells": [
  {
   "cell_type": "markdown",
   "metadata": {},
   "source": [
    "# Lecture 3: Pandas Sorting Mastery 🔄\n",
    "\n",
    "Learn how to organize and sort your data effectively using pandas sorting capabilities.\n",
    "\n",
    "## What We'll Learn:\n",
    "1. **Basic Sorting** - Sort by single columns (ascending/descending)\n",
    "2. **Multi-column Sorting** - Sort by multiple columns with different orders\n",
    "3. **Index Sorting** - Sort by row or column index\n",
    "4. **Advanced Techniques** - Custom sorting, rank, nlargest/nsmallest\n",
    "5. **Practice Questions** - Apply sorting to cancer research data!\n",
    "\n",
    "Let's master data organization with our cancer dataset! 🧬"
   ]
  },
  {
   "cell_type": "markdown",
   "metadata": {},
   "source": [
    "## Load Our Dataset\n",
    "\n",
    "Let's start with our familiar DepMap cancer dataset."
   ]
  },
  {
   "cell_type": "code",
   "execution_count": null,
   "metadata": {},
   "outputs": [],
   "source": [
    "import pandas as pd\n",
    "import numpy as np\n",
    "\n",
    "# Load the DepMap CRISPR dataset\n",
    "url = \"https://zenodo.org/records/17098555/files/combined_model_crispr_data_filtered.csv?download=1\"\n",
    "df = pd.read_csv(url)\n",
    "\n",
    "print(f\"Dataset shape: {df.shape}\")\n",
    "print(f\"\\nFirst few columns: {list(df.columns[:10])}\")\n",
    "print(f\"\\nCancer types: {df['oncotree_lineage'].unique()}\")"
   ]
  },
  {
   "cell_type": "markdown",
   "metadata": {},
   "source": [
    "---\n",
    "## 1. Basic Sorting 📊\n",
    "\n",
    "### Sort by a Single Column\n",
    "Use `.sort_values()` to sort your DataFrame by any column."
   ]
  },
  {
   "cell_type": "code",
   "execution_count": null,
   "metadata": {},
   "outputs": [],
   "source": [
    "# Sort by cell line name (alphabetically)\n",
    "sorted_by_name = df.sort_values('cell_line_name')\n",
    "print(\"First 5 cell lines alphabetically:\")\n",
    "print(sorted_by_name[['cell_line_name', 'oncotree_lineage']].head())\n",
    "\n",
    "print(\"\\nLast 5 cell lines alphabetically:\")\n",
    "print(sorted_by_name[['cell_line_name', 'oncotree_lineage']].tail())"
   ]
  },
  {
   "cell_type": "markdown",
   "metadata": {},
   "source": [
    "### Ascending vs Descending Order\n",
    "Control the sort direction with the `ascending` parameter."
   ]
  },
  {
   "cell_type": "code",
   "execution_count": null,
   "metadata": {},
   "outputs": [],
   "source": [
    "# Sort by A1BG gene effect - ascending (most negative first)\n",
    "sorted_a1bg_asc = df.sort_values('A1BG', ascending=True)\n",
    "print(\"Cell lines most sensitive to A1BG knockout (ascending):\")\n",
    "print(sorted_a1bg_asc[['cell_line_name', 'oncotree_lineage', 'A1BG']].head())\n",
    "\n",
    "# Sort by A1BG gene effect - descending (most positive first)\n",
    "sorted_a1bg_desc = df.sort_values('A1BG', ascending=False)\n",
    "print(\"\\nCell lines least sensitive to A1BG knockout (descending):\")\n",
    "print(sorted_a1bg_desc[['cell_line_name', 'oncotree_lineage', 'A1BG']].head())"
   ]
  },
  {
   "cell_type": "markdown",
   "metadata": {},
   "source": [
    "### In-place Sorting\n",
    "Modify the original DataFrame directly with `inplace=True`."
   ]
  },
  {
   "cell_type": "code",
   "execution_count": null,
   "metadata": {},
   "outputs": [],
   "source": [
    "# Create a copy to demonstrate in-place sorting\n",
    "df_copy = df[['cell_line_name', 'oncotree_lineage', 'A1BG', 'A1CF']].copy()\n",
    "\n",
    "print(\"Before sorting (first 3 rows):\")\n",
    "print(df_copy.head(3))\n",
    "\n",
    "# Sort in-place by A1CF\n",
    "df_copy.sort_values('A1CF', inplace=True)\n",
    "\n",
    "print(\"\\nAfter in-place sorting by A1CF (first 3 rows):\")\n",
    "print(df_copy.head(3))"
   ]
  },
  {
   "cell_type": "markdown",
   "metadata": {},
   "source": [
    "---\n",
    "## 2. Multi-column Sorting 🎯\n",
    "\n",
    "### Sort by Multiple Columns\n",
    "Pass a list of column names to sort by multiple criteria."
   ]
  },
  {
   "cell_type": "code",
   "execution_count": null,
   "metadata": {},
   "outputs": [],
   "source": [
    "# Sort by cancer type first, then by cell line name within each type\n",
    "sorted_multi = df.sort_values(['oncotree_lineage', 'cell_line_name'])\n",
    "print(\"Sorted by cancer type, then by name:\")\n",
    "print(sorted_multi[['oncotree_lineage', 'cell_line_name', 'A1BG']].head(10))\n",
    "\n",
    "# Show the transition between cancer types\n",
    "print(\"\\n...transition between cancer types...\")\n",
    "print(sorted_multi[['oncotree_lineage', 'cell_line_name', 'A1BG']].iloc[50:55])"
   ]
  },
  {
   "cell_type": "markdown",
   "metadata": {},
   "source": [
    "### Different Sort Orders for Different Columns\n",
    "Use a list in the `ascending` parameter to specify different orders."
   ]
  },
  {
   "cell_type": "code",
   "execution_count": null,
   "metadata": {},
   "outputs": [],
   "source": [
    "# Sort by cancer type (ascending) and A1BG effect (descending)\n",
    "sorted_mixed = df.sort_values(\n",
    "    ['oncotree_lineage', 'A1BG'],\n",
    "    ascending=[True, False]  # First column ascending, second descending\n",
    ")\n",
    "\n",
    "print(\"Breast cancer - highest A1BG effects:\")\n",
    "breast_top = sorted_mixed[sorted_mixed['oncotree_lineage'] == 'Breast'].head(5)\n",
    "print(breast_top[['cell_line_name', 'oncotree_lineage', 'A1BG']])\n",
    "\n",
    "print(\"\\nMyeloid cancer - highest A1BG effects:\")\n",
    "myeloid_top = sorted_mixed[sorted_mixed['oncotree_lineage'] == 'Myeloid'].head(5)\n",
    "print(myeloid_top[['cell_line_name', 'oncotree_lineage', 'A1BG']])"
   ]
  },
  {
   "cell_type": "markdown",
   "metadata": {},
   "source": [
    "### Complex Multi-column Sorting\n",
    "Combine multiple columns with different sort orders for sophisticated organization."
   ]
  },
  {
   "cell_type": "code",
   "execution_count": null,
   "metadata": {},
   "outputs": [],
   "source": [
    "# Sort by: cancer type (asc), primary disease (asc), A1BG (desc)\n",
    "complex_sort = df.sort_values(\n",
    "    ['oncotree_lineage', 'oncotree_primary_disease', 'A1BG'],\n",
    "    ascending=[True, True, False]\n",
    ")\n",
    "\n",
    "print(\"Complex sorting - grouped by cancer type and disease:\")\n",
    "display_cols = ['cell_line_name', 'oncotree_lineage', 'oncotree_primary_disease', 'A1BG']\n",
    "print(complex_sort[display_cols].head(10).to_string(index=False))"
   ]
  },
  {
   "cell_type": "markdown",
   "metadata": {},
   "source": [
    "---\n",
    "## 3. Index Sorting 🔢\n",
    "\n",
    "### Sort by Index\n",
    "Use `.sort_index()` to sort by the DataFrame's index."
   ]
  },
  {
   "cell_type": "code",
   "execution_count": null,
   "metadata": {},
   "outputs": [],
   "source": [
    "# Create a DataFrame with cell line names as index\n",
    "df_indexed = df.set_index('cell_line_name')\n",
    "\n",
    "# Shuffle the rows to demonstrate sorting\n",
    "df_shuffled = df_indexed.sample(frac=1, random_state=42)\n",
    "print(\"Shuffled DataFrame (first 5 rows):\")\n",
    "print(df_shuffled[['oncotree_lineage', 'A1BG']].head())\n",
    "\n",
    "# Sort by index (cell line names)\n",
    "df_sorted_index = df_shuffled.sort_index()\n",
    "print(\"\\nSorted by index (cell line names):\")\n",
    "print(df_sorted_index[['oncotree_lineage', 'A1BG']].head())"
   ]
  },
  {
   "cell_type": "markdown",
   "metadata": {},
   "source": [
    "### Sort Columns Alphabetically\n",
    "Sort columns by their names using `axis=1`."
   ]
  },
  {
   "cell_type": "code",
   "execution_count": null,
   "metadata": {},
   "outputs": [],
   "source": [
    "# Get first 10 gene columns\n",
    "gene_cols = df.columns[6:16]\n",
    "genes_df = df[gene_cols].head()\n",
    "\n",
    "print(\"Original column order:\")\n",
    "print(list(genes_df.columns))\n",
    "\n",
    "# Sort columns alphabetically\n",
    "genes_sorted_cols = genes_df.sort_index(axis=1)\n",
    "print(\"\\nColumns sorted alphabetically:\")\n",
    "print(list(genes_sorted_cols.columns))\n",
    "\n",
    "# Sort columns in reverse order\n",
    "genes_reverse_cols = genes_df.sort_index(axis=1, ascending=False)\n",
    "print(\"\\nColumns sorted reverse alphabetically:\")\n",
    "print(list(genes_reverse_cols.columns))"
   ]
  },
  {
   "cell_type": "markdown",
   "metadata": {},
   "source": [
    "---\n",
    "## 4. Advanced Sorting Techniques 🚀\n",
    "\n",
    "### Finding Top/Bottom N Values with nlargest() and nsmallest()"
   ]
  },
  {
   "cell_type": "code",
   "execution_count": null,
   "metadata": {},
   "outputs": [],
   "source": [
    "# Find 5 cell lines with most negative A1BG effect (most essential)\n",
    "most_essential_a1bg = df.nsmallest(5, 'A1BG')\n",
    "print(\"Top 5 cell lines where A1BG is most essential:\")\n",
    "print(most_essential_a1bg[['cell_line_name', 'oncotree_lineage', 'A1BG']].to_string(index=False))\n",
    "\n",
    "# Find 5 cell lines with most positive A1BG effect (least essential)\n",
    "least_essential_a1bg = df.nlargest(5, 'A1BG')\n",
    "print(\"\\nTop 5 cell lines where A1BG is least essential:\")\n",
    "print(least_essential_a1bg[['cell_line_name', 'oncotree_lineage', 'A1BG']].to_string(index=False))\n",
    "\n",
    "# Multiple columns with nlargest/nsmallest\n",
    "print(\"\\n5 cell lines with highest combined A1BG and A1CF effects:\")\n",
    "df['combined_effect'] = df['A1BG'] + df['A1CF']\n",
    "highest_combined = df.nlargest(5, 'combined_effect')\n",
    "print(highest_combined[['cell_line_name', 'A1BG', 'A1CF', 'combined_effect']].to_string(index=False))"
   ]
  },
  {
   "cell_type": "markdown",
   "metadata": {},
   "source": [
    "### Ranking Data with rank()\n",
    "Assign ranks to your data based on values."
   ]
  },
  {
   "cell_type": "code",
   "execution_count": null,
   "metadata": {},
   "outputs": [],
   "source": [
    "# Rank cell lines by A1BG sensitivity\n",
    "df['A1BG_rank'] = df['A1BG'].rank(ascending=True)  # Lower values = lower rank (more essential)\n",
    "\n",
    "# Show top 5 most essential (lowest ranks)\n",
    "top_ranked = df.nsmallest(5, 'A1BG_rank')\n",
    "print(\"Top 5 ranked cell lines (most A1BG-sensitive):\")\n",
    "print(top_ranked[['cell_line_name', 'A1BG', 'A1BG_rank']].to_string(index=False))\n",
    "\n",
    "# Different ranking methods\n",
    "print(\"\\nDifferent ranking methods for tied values:\")\n",
    "sample_data = pd.DataFrame({\n",
    "    'gene': ['A', 'B', 'C', 'D', 'E'],\n",
    "    'effect': [-0.5, -0.3, -0.3, -0.1, 0.2]\n",
    "})\n",
    "sample_data['rank_average'] = sample_data['effect'].rank(method='average')\n",
    "sample_data['rank_min'] = sample_data['effect'].rank(method='min')\n",
    "sample_data['rank_max'] = sample_data['effect'].rank(method='max')\n",
    "sample_data['rank_dense'] = sample_data['effect'].rank(method='dense')\n",
    "print(sample_data)"
   ]
  },
  {
   "cell_type": "markdown",
   "metadata": {},
   "source": [
    "### Custom Sorting with Key Functions\n",
    "Sort using custom logic with the `key` parameter."
   ]
  },
  {
   "cell_type": "code",
   "execution_count": null,
   "metadata": {},
   "outputs": [],
   "source": [
    "# Create a subset for demonstration\n",
    "subset = df[['cell_line_name', 'oncotree_lineage', 'A1BG', 'A1CF']].head(20).copy()\n",
    "\n",
    "# Sort by the absolute value of A1BG (strongest effects regardless of direction)\n",
    "subset_sorted = subset.sort_values('A1BG', key=lambda x: x.abs(), ascending=False)\n",
    "print(\"Cell lines sorted by absolute A1BG effect (strongest effects first):\")\n",
    "print(subset_sorted.head(10).to_string(index=False))\n",
    "\n",
    "# Sort by string length of cell line names\n",
    "subset_name_length = subset.sort_values('cell_line_name', \n",
    "                                        key=lambda x: x.str.len(), \n",
    "                                        ascending=False)\n",
    "print(\"\\nCell lines sorted by name length (longest first):\")\n",
    "subset_name_length['name_length'] = subset_name_length['cell_line_name'].str.len()\n",
    "print(subset_name_length[['cell_line_name', 'name_length']].head().to_string(index=False))"
   ]
  },
  {
   "cell_type": "markdown",
   "metadata": {},
   "source": [
    "### Sorting After Groupby Operations\n",
    "Combine grouping and sorting for powerful analysis."
   ]
  },
  {
   "cell_type": "code",
   "execution_count": null,
   "metadata": {},
   "outputs": [],
   "source": [
    "# Calculate mean A1BG effect by cancer type and sort\n",
    "cancer_means = df.groupby('oncotree_lineage')['A1BG'].agg(['mean', 'std', 'count'])\n",
    "cancer_means_sorted = cancer_means.sort_values('mean', ascending=True)\n",
    "\n",
    "print(\"Cancer types sorted by mean A1BG sensitivity:\")\n",
    "print(cancer_means_sorted.round(4))\n",
    "\n",
    "# Find top 3 most variable genes\n",
    "gene_cols = df.columns[6:50]  # Sample of gene columns\n",
    "gene_variability = df[gene_cols].std().sort_values(ascending=False)\n",
    "print(\"\\nTop 5 most variable genes (highest standard deviation):\")\n",
    "print(gene_variability.head().round(4))\n",
    "\n",
    "# Sort within groups\n",
    "print(\"\\nTop 3 most A1BG-sensitive lines per cancer type:\")\n",
    "top_per_cancer = df.sort_values('A1BG').groupby('oncotree_lineage').head(3)\n",
    "print(top_per_cancer[['cell_line_name', 'oncotree_lineage', 'A1BG']].to_string(index=False))"
   ]
  },
  {
   "cell_type": "markdown",
   "metadata": {},
   "source": [
    "---\n",
    "## 5. Practical Sorting Workflows 🔬\n",
    "\n",
    "### Research Scenario 1: Finding Drug Targets\n",
    "Identify the most essential genes across cancer types."
   ]
  },
  {
   "cell_type": "code",
   "execution_count": null,
   "metadata": {},
   "outputs": [],
   "source": [
    "# Calculate mean effect for each gene across all cell lines\n",
    "gene_cols = df.columns[6:100]  # First 94 genes for demonstration\n",
    "gene_means = df[gene_cols].mean().sort_values()\n",
    "\n",
    "print(\"Top 10 potential drug targets (most essential genes):\")\n",
    "top_targets = gene_means.head(10)\n",
    "for gene, effect in top_targets.items():\n",
    "    print(f\"{gene:15} {effect:8.4f}\")\n",
    "\n",
    "# Find cancer-specific targets\n",
    "print(\"\\nBreast cancer specific targets:\")\n",
    "breast_df = df[df['oncotree_lineage'] == 'Breast']\n",
    "breast_gene_means = breast_df[gene_cols].mean().sort_values()\n",
    "breast_targets = breast_gene_means.head(5)\n",
    "for gene, effect in breast_targets.items():\n",
    "    print(f\"{gene:15} {effect:8.4f}\")"
   ]
  },
  {
   "cell_type": "markdown",
   "metadata": {},
   "source": [
    "### Research Scenario 2: Cell Line Selection\n",
    "Select optimal cell lines for experiments based on multiple criteria."
   ]
  },
  {
   "cell_type": "code",
   "execution_count": null,
   "metadata": {},
   "outputs": [],
   "source": [
    "# Score cell lines based on sensitivity to multiple genes\n",
    "target_genes = ['A1BG', 'A1CF', 'A2M']\n",
    "df['sensitivity_score'] = df[target_genes].apply(lambda x: (x < -0.05).sum(), axis=1)\n",
    "\n",
    "# Sort by sensitivity score and cancer type\n",
    "optimal_lines = df.sort_values(['sensitivity_score', 'oncotree_lineage'], \n",
    "                               ascending=[False, True])\n",
    "\n",
    "print(\"Cell lines most sensitive to target genes:\")\n",
    "print(optimal_lines[['cell_line_name', 'oncotree_lineage', 'sensitivity_score'] + target_genes].head(10).round(3))"
   ]
  },
  {
   "cell_type": "markdown",
   "metadata": {},
   "source": [
    "---\n",
    "## 📚 Practice Questions\n",
    "\n",
    "Now it's your turn! Apply sorting techniques to analyze the cancer dataset.\n",
    "\n",
    "### Question 1: Basic Sorting\n",
    "Sort the DataFrame by the 'oncotree_primary_disease' column in descending order. What are the top 5 primary diseases?"
   ]
  },
  {
   "cell_type": "code",
   "execution_count": null,
   "metadata": {},
   "outputs": [],
   "source": [
    "# Your answer here:\n",
    "# sorted_disease = ?\n",
    "# print(\"Top 5 primary diseases (reverse alphabetical):\")\n",
    "# print(?)"
   ]
  },
  {
   "cell_type": "markdown",
   "metadata": {},
   "source": [
    "### Question 2: Multi-column Sorting\n",
    "Sort the data first by 'oncotree_lineage' (ascending) and then by 'A2M' gene effect (descending). Show the top 3 cell lines for each cancer type based on A2M effect."
   ]
  },
  {
   "cell_type": "code",
   "execution_count": null,
   "metadata": {},
   "outputs": [],
   "source": [
    "# Your answer here:\n",
    "# multi_sorted = ?\n",
    "# top_per_type = ?\n",
    "# print(top_per_type[['cell_line_name', 'oncotree_lineage', 'A2M']])"
   ]
  },
  {
   "cell_type": "markdown",
   "metadata": {},
   "source": [
    "### Question 3: Finding Extremes\n",
    "Use nlargest and nsmallest to find:\n",
    "1. The 3 cell lines with the most negative A1CF effects\n",
    "2. The 3 cell lines with the most positive A1CF effects\n",
    "What cancer types do these extreme cell lines belong to?"
   ]
  },
  {
   "cell_type": "code",
   "execution_count": null,
   "metadata": {},
   "outputs": [],
   "source": [
    "# Your answer here:\n",
    "# most_negative = ?\n",
    "# most_positive = ?\n",
    "# print(\"Most negative A1CF effects:\")\n",
    "# print(?)\n",
    "# print(\"\\nMost positive A1CF effects:\")\n",
    "# print(?)"
   ]
  },
  {
   "cell_type": "markdown",
   "metadata": {},
   "source": [
    "### Question 4: Ranking Analysis\n",
    "Create ranks for all cell lines based on their A1BG values (most negative = rank 1). Then:\n",
    "1. Find the top 5 ranked breast cancer cell lines\n",
    "2. Calculate the average rank for each cancer type"
   ]
  },
  {
   "cell_type": "code",
   "execution_count": null,
   "metadata": {},
   "outputs": [],
   "source": [
    "# Your answer here:\n",
    "# df['a1bg_rank'] = ?\n",
    "# breast_ranked = ?\n",
    "# print(\"Top 5 ranked breast cancer lines:\")\n",
    "# print(?)\n",
    "# \n",
    "# avg_rank_by_type = ?\n",
    "# print(\"\\nAverage A1BG rank by cancer type:\")\n",
    "# print(?)"
   ]
  },
  {
   "cell_type": "markdown",
   "metadata": {},
   "source": [
    "### Question 5: Advanced Challenge\n",
    "Create a \"vulnerability index\" for each cell line:\n",
    "1. Count how many genes have an effect < -0.1 for each cell line\n",
    "2. Sort cell lines by this vulnerability index (highest first)\n",
    "3. Show the top 10 most vulnerable cell lines\n",
    "4. Compare the average vulnerability index between cancer types"
   ]
  },
  {
   "cell_type": "code",
   "execution_count": null,
   "metadata": {},
   "outputs": [],
   "source": [
    "# Your answer here:\n",
    "# gene_cols = df.columns[6:]  # All gene columns\n",
    "# \n",
    "# # Calculate vulnerability index\n",
    "# df['vulnerability_index'] = ?\n",
    "# \n",
    "# # Sort by vulnerability\n",
    "# most_vulnerable = ?\n",
    "# \n",
    "# print(\"Top 10 most vulnerable cell lines:\")\n",
    "# print(?)\n",
    "# \n",
    "# # Compare by cancer type\n",
    "# vulnerability_by_type = ?\n",
    "# print(\"\\nAverage vulnerability by cancer type:\")\n",
    "# print(?)"
   ]
  },
  {
   "cell_type": "markdown",
   "metadata": {},
   "source": [
    "---\n",
    "## 🎯 Solutions\n",
    "\n",
    "Try the questions above first, then run these cells to check your answers!"
   ]
  },
  {
   "cell_type": "code",
   "execution_count": null,
   "metadata": {},
   "outputs": [],
   "source": [
    "# Solution 1\n",
    "sorted_disease = df.sort_values('oncotree_primary_disease', ascending=False)\n",
    "print(\"Solution 1 - Top 5 primary diseases (reverse alphabetical):\")\n",
    "print(sorted_disease['oncotree_primary_disease'].unique()[:5])"
   ]
  },
  {
   "cell_type": "code",
   "execution_count": null,
   "metadata": {},
   "outputs": [],
   "source": [
    "# Solution 2\n",
    "multi_sorted = df.sort_values(['oncotree_lineage', 'A2M'], \n",
    "                             ascending=[True, False])\n",
    "top_per_type = multi_sorted.groupby('oncotree_lineage').head(3)\n",
    "print(\"Solution 2 - Top 3 cell lines per cancer type by A2M:\")\n",
    "print(top_per_type[['cell_line_name', 'oncotree_lineage', 'A2M']].to_string(index=False))"
   ]
  },
  {
   "cell_type": "code",
   "execution_count": null,
   "metadata": {},
   "outputs": [],
   "source": [
    "# Solution 3\n",
    "most_negative = df.nsmallest(3, 'A1CF')\n",
    "most_positive = df.nlargest(3, 'A1CF')\n",
    "\n",
    "print(\"Solution 3 - Most negative A1CF effects:\")\n",
    "print(most_negative[['cell_line_name', 'oncotree_lineage', 'A1CF']].to_string(index=False))\n",
    "print(\"\\nMost positive A1CF effects:\")\n",
    "print(most_positive[['cell_line_name', 'oncotree_lineage', 'A1CF']].to_string(index=False))\n",
    "\n",
    "print(\"\\nCancer types in extremes:\")\n",
    "extreme_types = pd.concat([most_negative, most_positive])['oncotree_lineage'].value_counts()\n",
    "print(extreme_types)"
   ]
  },
  {
   "cell_type": "code",
   "execution_count": null,
   "metadata": {},
   "outputs": [],
   "source": [
    "# Solution 4\n",
    "df['a1bg_rank'] = df['A1BG'].rank(ascending=True)\n",
    "\n",
    "# Top 5 ranked breast cancer lines\n",
    "breast_ranked = df[df['oncotree_lineage'] == 'Breast'].nsmallest(5, 'a1bg_rank')\n",
    "print(\"Solution 4 - Top 5 ranked breast cancer lines:\")\n",
    "print(breast_ranked[['cell_line_name', 'A1BG', 'a1bg_rank']].to_string(index=False))\n",
    "\n",
    "# Average rank by cancer type\n",
    "avg_rank_by_type = df.groupby('oncotree_lineage')['a1bg_rank'].mean().sort_values()\n",
    "print(\"\\nAverage A1BG rank by cancer type:\")\n",
    "print(avg_rank_by_type.round(1))"
   ]
  },
  {
   "cell_type": "code",
   "execution_count": null,
   "metadata": {},
   "outputs": [],
   "source": [
    "# Solution 5\n",
    "gene_cols = df.columns[6:]  # All gene columns\n",
    "\n",
    "# Calculate vulnerability index\n",
    "df['vulnerability_index'] = (df[gene_cols] < -0.1).sum(axis=1)\n",
    "\n",
    "# Sort by vulnerability\n",
    "most_vulnerable = df.sort_values('vulnerability_index', ascending=False)\n",
    "\n",
    "print(\"Solution 5 - Top 10 most vulnerable cell lines:\")\n",
    "print(most_vulnerable[['cell_line_name', 'oncotree_lineage', 'vulnerability_index']].head(10).to_string(index=False))\n",
    "\n",
    "# Compare by cancer type\n",
    "vulnerability_by_type = df.groupby('oncotree_lineage')['vulnerability_index'].agg(['mean', 'std', 'max'])\n",
    "vulnerability_by_type = vulnerability_by_type.sort_values('mean', ascending=False)\n",
    "print(\"\\nAverage vulnerability by cancer type:\")\n",
    "print(vulnerability_by_type.round(1))"
   ]
  },
  {
   "cell_type": "markdown",
   "metadata": {},
   "source": [
    "---\n",
    "## 🎊 Congratulations!\n",
    "\n",
    "You've mastered pandas sorting techniques! Here's what you learned:\n",
    "\n",
    "✅ **Basic Sorting**: `.sort_values()` with ascending/descending  \n",
    "✅ **Multi-column Sorting**: Sort by multiple criteria with different orders  \n",
    "✅ **Index Sorting**: `.sort_index()` for row and column organization  \n",
    "✅ **Advanced Techniques**: `nlargest()`, `nsmallest()`, `rank()`, custom sorting  \n",
    "✅ **Practical Workflows**: Finding targets, selecting cell lines, vulnerability analysis  \n",
    "\n",
    "**Key Sorting Tips**:\n",
    "- Use `inplace=True` to modify the original DataFrame\n",
    "- Combine sorting with groupby for powerful analysis\n",
    "- `nlargest()`/`nsmallest()` are more efficient than sort + head for finding extremes\n",
    "- Custom key functions enable sophisticated sorting logic\n",
    "\n",
    "**Next Steps**: \n",
    "- Combine sorting with filtering for complex queries\n",
    "- Use sorted data for visualization\n",
    "- Apply sorting in data preprocessing pipelines\n",
    "\n",
    "Keep organizing your data effectively! 🚀"
   ]
  }
 ],
 "metadata": {
  "kernelspec": {
   "display_name": "Python 3",
   "language": "python",
   "name": "python3"
  },
  "language_info": {
   "codemirror_mode": {
    "name": "ipython",
    "version": 3
   },
   "file_extension": ".py",
   "mimetype": "text/x-python",
   "name": "python",
   "nbconvert_exporter": "python",
   "pygments_lexer": "ipython3",
   "version": "3.8.0"
  }
 },
 "nbformat": 4,
 "nbformat_minor": 4
}