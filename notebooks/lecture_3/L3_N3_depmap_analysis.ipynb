{
  "cells": [
    {
      "cell_type": "markdown",
      "metadata": {},
      "source": [
        "# Lecture 3: DepMap CRISPR Data Analysis\n",
        "\n",
        "🗺️ **Our Analysis Roadmap:**\n",
        "1. **Filter Breast Cancer Data** - Extract only breast cancer cell lines from the dataset\n",
        "2. **Calculate Mean Gene Effects** - Average gene scores across all breast cancer cell lines  \n",
        "3. **Sort & Select Top 10** - Find the most negative scores (most essential genes)\n",
        "4. **Repeat for Myeloid Cancer** - Same process: filter → mean → sort → top 10\n",
        "5. **Compare & Visualize** - Compare top 10 lists - what's different between cancer types?\n",
        "\n",
        "🚀 **Advanced Option:** Later we'll learn `df.groupby()` to analyze both cancer types at once!"
      ]
    },
    {
      "cell_type": "markdown",
      "metadata": {},
      "source": [
        "## Load the Data\n",
        "\n",
        "First, let's load the same DepMap CRISPR dataset we used in the pandas introduction notebook."
      ]
    },
    {
      "cell_type": "code",
      "execution_count": 2,
      "metadata": {},
      "outputs": [
        {
          "name": "stdout",
          "output_type": "stream",
          "text": [
            "Dataset shape: (94, 17211)\n",
            "Cancer types available: ['Myeloid' 'Breast']\n"
          ]
        }
      ],
      "source": [
        "import pandas as pd\n",
        "\n",
        "\n",
        "\n",
        "# Load the DepMap CRISPR dataset\n",
        "url = \"https://zenodo.org/records/17098555/files/combined_model_crispr_data_filtered.csv?download=1\"\n",
        "df = pd.read_csv(url)\n",
        "\n",
        "print(f\"Dataset shape: {df.shape}\")\n",
        "print(f\"Cancer types available: {df['oncotree_lineage'].unique()}\")"
      ]
    },
    {
      "cell_type": "markdown",
      "metadata": {},
      "source": [
        "## Step 1: Filter Breast Cancer Data 🎯\n",
        "\n",
        "Extract only breast cancer cell lines from the dataset. We'll use boolean indexing to filter rows where `oncotree_lineage` equals \"Breast\"."
      ]
    },
    {
      "cell_type": "code",
      "execution_count": 3,
      "metadata": {},
      "outputs": [
        {
          "name": "stdout",
          "output_type": "stream",
          "text": [
            "Total cell lines: 94\n",
            "Breast cancer cell lines: 53\n",
            "\n",
            "Breast cancer cell lines:\n",
            "  cell_line_name   oncotree_primary_disease\n",
            "2        SK-BR-3  Invasive Breast Carcinoma\n",
            "3           MCF7  Invasive Breast Carcinoma\n",
            "4          KPL-1  Invasive Breast Carcinoma\n",
            "8        ZR-75-1  Invasive Breast Carcinoma\n",
            "9        HCC1187  Invasive Breast Carcinoma\n"
          ]
        }
      ],
      "source": [
        "# Filter for breast cancer cell lines\n",
        "breast_cancer = df[df['oncotree_lineage'] == 'Breast']\n",
        "\n",
        "print(f\"Total cell lines: {len(df)}\")\n",
        "print(f\"Breast cancer cell lines: {len(breast_cancer)}\")\n",
        "print(\"\\nBreast cancer cell lines:\")\n",
        "print(breast_cancer[['cell_line_name', 'oncotree_primary_disease']].head())"
      ]
    },
    {
      "cell_type": "markdown",
      "metadata": {},
      "source": [
        "## Step 2: Calculate Mean Gene Effects 📊\n",
        "\n",
        "Average gene scores across all breast cancer cell lines. We need to:\n",
        "1. Select only the gene columns (numeric data)\n",
        "2. Calculate the mean for each gene across all breast cancer cell lines"
      ]
    },
    {
      "cell_type": "code",
      "execution_count": 4,
      "metadata": {},
      "outputs": [
        {
          "name": "stdout",
          "output_type": "stream",
          "text": [
            "Number of genes: 17205\n",
            "First few gene names: ['A1BG', 'A1CF', 'A2M', 'A2ML1', 'A3GALT2']\n",
            "\n",
            "Mean gene effects calculated for 17205 genes\n",
            "Example - A1BG mean effect: -0.0397\n"
          ]
        }
      ],
      "source": [
        "# Get the gene columns (all columns except the first 6 metadata columns)\n",
        "gene_columns = df.columns[6:]  # Skip metadata columns\n",
        "print(f\"Number of genes: {len(gene_columns)}\")\n",
        "print(f\"First few gene names: {list(gene_columns[:5])}\")\n",
        "\n",
        "# Calculate mean gene effects for breast cancer\n",
        "breast_gene_means = breast_cancer[gene_columns].mean()\n",
        "\n",
        "print(f\"\\nMean gene effects calculated for {len(breast_gene_means)} genes\")\n",
        "print(f\"Example - A1BG mean effect: {breast_gene_means['A1BG']:.4f}\")"
      ]
    },
    {
      "cell_type": "markdown",
      "metadata": {},
      "source": [
        "## Step 3: Sort & Select Top 10 🔝\n",
        "\n",
        "Find the most negative scores (most essential genes). In CRISPR screens, more negative scores indicate genes that are more essential for cell survival."
      ]
    },
    {
      "cell_type": "code",
      "execution_count": 5,
      "metadata": {},
      "outputs": [
        {
          "name": "stdout",
          "output_type": "stream",
          "text": [
            "Top 10 most essential genes in breast cancer:\n",
            "=============================================\n",
            " 1. RAN       -4.1840\n",
            " 2. HSPE1     -3.4315\n",
            " 3. SNRPF     -3.1414\n",
            " 4. SMU1      -3.0940\n",
            " 5. PSMA6     -3.0273\n",
            " 6. SNRPA1    -2.9927\n",
            " 7. RRM1      -2.9468\n",
            " 8. PCNA      -2.9238\n",
            " 9. PLK1      -2.9126\n",
            "10. SF3B5     -2.9118\n",
            "\n",
            "Statistics for breast cancer gene effects:\n",
            "Most essential (lowest): -4.1840\n",
            "Least essential (highest): 0.3305\n",
            "Mean effect: -0.1403\n"
          ]
        }
      ],
      "source": [
        "# Sort genes by their mean effects (ascending = most negative first)\n",
        "breast_top10 = breast_gene_means.sort_values(ascending=True).head(10)\n",
        "\n",
        "print(\"Top 10 most essential genes in breast cancer:\")\n",
        "print(\"=\" * 45)\n",
        "for i, (gene, score) in enumerate(breast_top10.items(), 1):\n",
        "    print(f\"{i:2d}. {gene:<8} {score:8.4f}\")\n",
        "\n",
        "# Let's also look at some basic statistics\n",
        "print(f\"\\nStatistics for breast cancer gene effects:\")\n",
        "print(f\"Most essential (lowest): {breast_gene_means.min():.4f}\")\n",
        "print(f\"Least essential (highest): {breast_gene_means.max():.4f}\")\n",
        "print(f\"Mean effect: {breast_gene_means.mean():.4f}\")"
      ]
    },
    {
      "cell_type": "markdown",
      "metadata": {},
      "source": [
        "## Step 4: Repeat for Myeloid Cancer 🔄\n",
        "\n",
        "Same process: filter → mean → sort → top 10"
      ]
    },
    {
      "cell_type": "code",
      "execution_count": 6,
      "metadata": {},
      "outputs": [
        {
          "name": "stdout",
          "output_type": "stream",
          "text": [
            "Myeloid cancer cell lines: 41\n",
            "\n",
            "Myeloid cancer cell lines:\n",
            "  cell_line_name      oncotree_primary_disease\n",
            "0            HEL        Acute Myeloid Leukemia\n",
            "1     HEL 92.1.7        Acute Myeloid Leukemia\n",
            "5         MV4-11        Acute Myeloid Leukemia\n",
            "6          KU812  Myeloproliferative Neoplasms\n",
            "7           NCO2  Myeloproliferative Neoplasms\n"
          ]
        }
      ],
      "source": [
        "# Filter for myeloid cancer cell lines\n",
        "myeloid_cancer = df[df['oncotree_lineage'] == 'Myeloid']\n",
        "\n",
        "print(f\"Myeloid cancer cell lines: {len(myeloid_cancer)}\")\n",
        "print(f\"\\nMyeloid cancer cell lines:\")\n",
        "print(myeloid_cancer[['cell_line_name', 'oncotree_primary_disease']].head())"
      ]
    },
    {
      "cell_type": "code",
      "execution_count": 7,
      "metadata": {},
      "outputs": [
        {
          "name": "stdout",
          "output_type": "stream",
          "text": [
            "Top 10 most essential genes in myeloid cancer:\n",
            "=============================================\n",
            " 1. RAN       -3.9426\n",
            " 2. HSPE1     -3.5099\n",
            " 3. RPL17     -3.2110\n",
            " 4. RPS8      -2.9228\n",
            " 5. RPS29     -2.8929\n",
            " 6. RRM1      -2.8591\n",
            " 7. PLK1      -2.8287\n",
            " 8. RPS19     -2.7984\n",
            " 9. UBL5      -2.7908\n",
            "10. PSMA6     -2.7539\n"
          ]
        }
      ],
      "source": [
        "# Calculate mean gene effects for myeloid cancer\n",
        "myeloid_gene_means = myeloid_cancer[gene_columns].mean()\n",
        "\n",
        "# Sort and get top 10 most essential genes\n",
        "myeloid_top10 = myeloid_gene_means.sort_values(ascending=True).head(10)\n",
        "\n",
        "print(\"Top 10 most essential genes in myeloid cancer:\")\n",
        "print(\"=\" * 45)\n",
        "for i, (gene, score) in enumerate(myeloid_top10.items(), 1):\n",
        "    print(f\"{i:2d}. {gene:<8} {score:8.4f}\")"
      ]
    },
    {
      "cell_type": "markdown",
      "metadata": {},
      "source": [
        "## Step 5: Compare & Visualize 📈\n",
        "\n",
        "Compare top 10 lists - what's different between cancer types?"
      ]
    },
    {
      "cell_type": "code",
      "execution_count": 8,
      "metadata": {},
      "outputs": [
        {
          "name": "stdout",
          "output_type": "stream",
          "text": [
            "📊 COMPARISON RESULTS:\n",
            "==================================================\n",
            "Genes in both top 10 lists: 5\n",
            "Overlapping genes: ['RRM1', 'PSMA6', 'HSPE1', 'RAN', 'PLK1']\n",
            "\n",
            "Unique to breast cancer: 5\n",
            "Breast-specific genes: ['SMU1', 'SNRPA1', 'PCNA', 'SF3B5', 'SNRPF']\n",
            "\n",
            "Unique to myeloid cancer: 5\n",
            "Myeloid-specific genes: ['RPL17', 'RPS8', 'RPS29', 'RPS19', 'UBL5']\n"
          ]
        }
      ],
      "source": [
        "# Compare the two lists\n",
        "breast_genes = set(breast_top10.index)\n",
        "myeloid_genes = set(myeloid_top10.index)\n",
        "\n",
        "# Find overlapping and unique genes\n",
        "overlap = breast_genes.intersection(myeloid_genes)\n",
        "breast_only = breast_genes - myeloid_genes\n",
        "myeloid_only = myeloid_genes - breast_genes\n",
        "\n",
        "print(\"📊 COMPARISON RESULTS:\")\n",
        "print(\"=\" * 50)\n",
        "print(f\"Genes in both top 10 lists: {len(overlap)}\")\n",
        "print(f\"Overlapping genes: {list(overlap)}\")\n",
        "print(f\"\\nUnique to breast cancer: {len(breast_only)}\")\n",
        "print(f\"Breast-specific genes: {list(breast_only)}\")\n",
        "print(f\"\\nUnique to myeloid cancer: {len(myeloid_only)}\")\n",
        "print(f\"Myeloid-specific genes: {list(myeloid_only)}\")"
      ]
    },
    {
      "cell_type": "markdown",
      "metadata": {},
      "source": [
        "## 🚀 Advanced Option: Using GroupBy\n",
        "\n",
        "Here's how we could do the same analysis more efficiently using pandas `groupby()`:"
      ]
    },
    {
      "cell_type": "code",
      "execution_count": 9,
      "metadata": {},
      "outputs": [
        {
          "name": "stdout",
          "output_type": "stream",
          "text": [
            "Gene effect means by cancer type:\n",
            "                      A1BG      A1CF       A2M     A2ML1   A3GALT2\n",
            "oncotree_lineage                                                  \n",
            "Breast           -0.039728 -0.122851  0.021073  0.076419 -0.119875\n",
            "Myeloid          -0.074593 -0.056000  0.041108  0.050162 -0.107921\n",
            "\n",
            "Top 5 most essential genes by cancer type:\n",
            "\n",
            "Breast:\n",
            "  RAN: -4.1840\n",
            "  HSPE1: -3.4315\n",
            "  SNRPF: -3.1414\n",
            "  SMU1: -3.0940\n",
            "  PSMA6: -3.0273\n",
            "\n",
            "Myeloid:\n",
            "  RAN: -3.9426\n",
            "  HSPE1: -3.5099\n",
            "  RPL17: -3.2110\n",
            "  RPS8: -2.9228\n",
            "  RPS29: -2.8929\n"
          ]
        }
      ],
      "source": [
        "# Advanced approach: analyze both cancer types at once\n",
        "cancer_comparison = df[df['oncotree_lineage'].isin(['Breast', 'Myeloid'])]\n",
        "\n",
        "# Group by cancer type and calculate means for all genes\n",
        "grouped_means = cancer_comparison.groupby('oncotree_lineage')[gene_columns].mean()\n",
        "\n",
        "print(\"Gene effect means by cancer type:\")\n",
        "print(grouped_means.iloc[:, :5])  # Show first 5 genes\n",
        "\n",
        "# Get top 10 for each cancer type\n",
        "print(\"\\nTop 5 most essential genes by cancer type:\")\n",
        "for cancer_type in ['Breast', 'Myeloid']:\n",
        "    top5 = grouped_means.loc[cancer_type].sort_values().head(5)\n",
        "    print(f\"\\n{cancer_type}:\")\n",
        "    for gene, score in top5.items():\n",
        "        print(f\"  {gene}: {score:.4f}\")"
      ]
    },
    {
      "cell_type": "markdown",
      "metadata": {},
      "source": [
        "## 🎯 Key Takeaways\n",
        "\n",
        "Through this analysis, we learned:\n",
        "\n",
        "1. **Data Filtering**: How to extract subsets of data based on conditions\n",
        "2. **Aggregation**: Computing summary statistics (mean) across multiple observations\n",
        "3. **Sorting**: Ranking data to find extremes (most essential genes)\n",
        "4. **Comparison**: Analyzing differences between groups\n",
        "\n",
        "**Biological Insights**:\n",
        "- Some genes are essential across cancer types (potential broad targets)\n",
        "- Other genes are cancer-specific (potential precision medicine targets)\n",
        "- CRISPR screens help identify genetic vulnerabilities in cancer\n"
      ]
    },
    {
      "cell_type": "markdown",
      "metadata": {},
      "source": []
    }
  ],
  "metadata": {
    "kernelspec": {
      "display_name": ".venv",
      "language": "python",
      "name": "python3"
    },
    "language_info": {
      "codemirror_mode": {
        "name": "ipython",
        "version": 3
      },
      "file_extension": ".py",
      "mimetype": "text/x-python",
      "name": "python",
      "nbconvert_exporter": "python",
      "pygments_lexer": "ipython3",
      "version": "3.12.10"
    }
  },
  "nbformat": 4,
  "nbformat_minor": 4
}
