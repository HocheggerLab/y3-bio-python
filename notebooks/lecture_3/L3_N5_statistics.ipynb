{
  "cells": [
    {
      "cell_type": "markdown",
      "metadata": {},
      "source": [
        "# Lecture 3: Essential Statistical Methods with Pandas 📊\n",
        "\n",
        "Learn how to calculate key statistics from your data using pandas built-in methods.\n",
        "\n",
        "## What We'll Learn:\n",
        "1. **Column-wise Statistics** - Mean, median, standard deviation, min/max\n",
        "2. **Selecting Gene Columns** - Work with specific subsets of data\n",
        "3. **Gene Analysis Workflow** - Filter → Select → Calculate → Analyze\n",
        "4. **Grouped Statistics** - Compare statistics across different categories\n",
        "5. **Practice Questions** - Apply statistical methods to cancer research!\n",
        "\n",
        "Let's explore statistical analysis with our cancer dataset! 🧬"
      ]
    },
    {
      "cell_type": "markdown",
      "metadata": {},
      "source": [
        "## Load Our Dataset\n",
        "\n",
        "Let's start with our familiar DepMap cancer dataset."
      ]
    },
    {
      "cell_type": "code",
      "execution_count": 2,
      "metadata": {},
      "outputs": [
        {
          "name": "stdout",
          "output_type": "stream",
          "text": [
            "Dataset shape: (94, 17211)\n",
            "Cancer types: ['Myeloid' 'Breast']\n",
            "\n",
            "First few columns: ['model_id', 'cell_line_name', 'stripped_cell_line_name', 'oncotree_lineage', 'oncotree_primary_disease', 'oncotree_subtype', 'A1BG', 'A1CF', 'A2M', 'A2ML1']\n"
          ]
        }
      ],
      "source": [
        "import pandas as pd\n",
        "import numpy as np\n",
        "\n",
        "\n",
        "# Load the DepMap CRISPR dataset\n",
        "url = \"https://zenodo.org/records/17098555/files/combined_model_crispr_data_filtered.csv?download=1\"\n",
        "df = pd.read_csv(url)\n",
        "\n",
        "print(f\"Dataset shape: {df.shape}\")\n",
        "print(f\"Cancer types: {df['oncotree_lineage'].unique()}\")\n",
        "print(f\"\\nFirst few columns: {list(df.columns[:10])}\")"
      ]
    },
    {
      "cell_type": "markdown",
      "metadata": {},
      "source": [
        "---\n",
        "## 1. Column-wise Statistics 📈\n",
        "\n",
        "### Basic Statistics for All Numeric Columns\n",
        "Calculate statistics across all numeric columns at once."
      ]
    },
    {
      "cell_type": "code",
      "execution_count": null,
      "metadata": {},
      "outputs": [
        {
          "name": "stdout",
          "output_type": "stream",
          "text": [
            "Calculated means for 17205 columns as A1BG      -0.0549\n",
            "A1CF      -0.0937\n",
            "A2M        0.0298\n",
            "A2ML1      0.0650\n",
            "A3GALT2   -0.1147\n",
            "A4GALT    -0.0387\n",
            "A4GNT      0.0328\n",
            "AAAS      -0.1159\n",
            "AACS      -0.0456\n",
            "AADAC      0.1086\n",
            "dtype: float64\n"
          ]
        }
      ],
      "source": [
        "# Calculate mean for all numeric columns\n",
        "# First we have to filter out the non-numeric columns\n",
        "numeric_df = df.select_dtypes(include=[np.number]) \n",
        "all_means = numeric_df.mean()\n",
        "print(f\"Calculated means for {len(all_means)} columns as {all_means.head(10).round(4)}\")\n"
      ]
    },
    {
      "cell_type": "markdown",
      "metadata": {},
      "source": [
        "### Statistics for Specific Columns\n",
        "Calculate statistics for selected genes of interest."
      ]
    },
    {
      "cell_type": "code",
      "execution_count": 4,
      "metadata": {},
      "outputs": [
        {
          "name": "stdout",
          "output_type": "stream",
          "text": [
            "Mean effects for specific genes:\n",
            "A1BG  :  -0.0549\n",
            "A1CF  :  -0.0937\n",
            "A2M   :   0.0298\n",
            "\n",
            "=== DETAILED STATISTICS FOR SELECTED GENES ===\n",
            "          A1BG     A1CF      A2M\n",
            "count  94.0000  94.0000  94.0000\n",
            "mean   -0.0549  -0.0937   0.0298\n",
            "std     0.1413   0.1067   0.0994\n",
            "min    -0.6263  -0.4517  -0.1861\n",
            "25%    -0.1130  -0.1384  -0.0265\n",
            "50%    -0.0709  -0.0916   0.0283\n",
            "75%     0.0043  -0.0309   0.0814\n",
            "max     0.4641   0.2108   0.4119\n"
          ]
        }
      ],
      "source": [
        "# Mean for specific columns\n",
        "genes_of_interest = ['A1BG', 'A1CF', 'A2M']\n",
        "specific_means = df[genes_of_interest].mean()\n",
        "\n",
        "print(\"Mean effects for specific genes:\")\n",
        "for gene, mean_val in specific_means.items():\n",
        "    print(f\"{gene:<6}: {mean_val:8.4f}\")\n",
        "\n",
        "# Multiple statistics at once\n",
        "print(\"\\n=== DETAILED STATISTICS FOR SELECTED GENES ===\")\n",
        "detailed_stats = df[genes_of_interest].describe()\n",
        "print(detailed_stats.round(4))"
      ]
    },
    {
      "cell_type": "markdown",
      "metadata": {},
      "source": [
        "### Individual Statistical Methods\n",
        "Explore different statistical measures available in pandas."
      ]
    },
    {
      "cell_type": "code",
      "execution_count": 7,
      "metadata": {},
      "outputs": [
        {
          "name": "stdout",
          "output_type": "stream",
          "text": [
            "=== STATISTICAL ANALYSIS OF A1BG GENE ===\n",
            "Mean:              -0.0549\n",
            "Median:            -0.0709\n",
            "Standard Dev:      0.1413\n",
            "Variance:          0.0200\n",
            "Minimum:           -0.6263\n",
            "Maximum:           0.4641\n",
            "Range:             1.0904\n",
            "\n",
            "=== QUANTILES ===\n",
            "25th percentile:   -0.1130\n",
            "50th percentile:   -0.0709\n",
            "75th percentile:   0.0043\n",
            "\n",
            "=== COUNTS ===\n",
            "Total values:      94\n",
            "Missing values:    0\n",
            "Negative effects:  69\n",
            "Positive effects:  25\n"
          ]
        }
      ],
      "source": [
        "# Let's focus on A1BG gene for detailed analysis\n",
        "gene = 'A1BG'\n",
        "gene_data = df[gene]\n",
        "\n",
        "print(f\"=== STATISTICAL ANALYSIS OF {gene} GENE ===\")\n",
        "print(f\"Mean:              {gene_data.mean():.4f}\")\n",
        "print(f\"Median:            {gene_data.median():.4f}\")\n",
        "print(f\"Standard Dev:      {gene_data.std():.4f}\")\n",
        "print(f\"Variance:          {gene_data.var():.4f}\")\n",
        "print(f\"Minimum:           {gene_data.min():.4f}\")\n",
        "print(f\"Maximum:           {gene_data.max():.4f}\")\n",
        "print(f\"Range:             {gene_data.max() - gene_data.min():.4f}\")\n",
        "\n",
        "# Quantiles\n",
        "print(f\"\\n=== QUANTILES ===\")\n",
        "print(f\"25th percentile:   {gene_data.quantile(0.25):.4f}\")\n",
        "print(f\"50th percentile:   {gene_data.quantile(0.50):.4f}\")\n",
        "print(f\"75th percentile:   {gene_data.quantile(0.75):.4f}\")\n",
        "\n",
        "# Count statistics\n",
        "print(f\"\\n=== COUNTS ===\")\n",
        "print(f\"Total values:      {gene_data.count()}\")\n",
        "print(f\"Missing values:    {gene_data.isnull().sum()}\")\n",
        "print(f\"Negative effects:  {(gene_data < 0).sum()}\")\n",
        "print(f\"Positive effects:  {(gene_data > 0).sum()}\")"
      ]
    },
    {
      "cell_type": "markdown",
      "metadata": {},
      "source": [
        "---\n",
        "## 2. Our Gene Analysis Workflow 🔬\n",
        "\n",
        "Let's implement the complete workflow shown in the lecture slides!\n",
        "\n",
        "### Step 1: Filter for Breast Cancer"
      ]
    },
    {
      "cell_type": "code",
      "execution_count": 10,
      "metadata": {},
      "outputs": [
        {
          "name": "stdout",
          "output_type": "stream",
          "text": [
            "Found 53 breast cancer cell lines\n",
            "  cell_line_name   oncotree_primary_disease\n",
            "2        SK-BR-3  Invasive Breast Carcinoma\n",
            "3           MCF7  Invasive Breast Carcinoma\n",
            "4          KPL-1  Invasive Breast Carcinoma\n",
            "8        ZR-75-1  Invasive Breast Carcinoma\n",
            "9        HCC1187  Invasive Breast Carcinoma\n"
          ]
        }
      ],
      "source": [
        "# Step 1: Filter for breast cancer (we already learned this!)\n",
        "breast_df = df.loc[df['oncotree_lineage'] == 'Breast']\n",
        "print(f\"Found {len(breast_df)} breast cancer cell lines\")\n",
        "print(breast_df[['cell_line_name', 'oncotree_primary_disease']].head())"
      ]
    },
    {
      "cell_type": "markdown",
      "metadata": {},
      "source": [
        "### Step 2: Select Only Gene Effect Columns"
      ]
    },
    {
      "cell_type": "code",
      "execution_count": 8,
      "metadata": {},
      "outputs": [
        {
          "name": "stdout",
          "output_type": "stream",
          "text": [
            "Analyzing 17205 genes\n",
            "First few genes: ['A1BG', 'A1CF', 'A2M', 'A2ML1', 'A3GALT2']\n",
            "\n",
            "Using slicing: 17205 genes\n"
          ]
        }
      ],
      "source": [
        "# Step 2: Select only gene effect columns\n",
        "metadata_cols = ['model_id', 'cell_line_name', 'stripped_cell_line_name', \n",
        "                'oncotree_lineage', 'oncotree_primary_disease', 'oncotree_subtype']\n",
        "gene_columns = [col for col in df.columns if col not in metadata_cols]\n",
        "\n",
        "print(f\"Analyzing {len(gene_columns)} genes\")\n",
        "print(f\"First few genes: {gene_columns[:5]}\")\n",
        "\n",
        "# Alternative approach using column slicing\n",
        "gene_columns_slice = df.columns[6:]  # Skip first 6 metadata columns\n",
        "print(f\"\\nUsing slicing: {len(gene_columns_slice)} genes\")"
      ]
    },
    {
      "cell_type": "markdown",
      "metadata": {},
      "source": [
        "### Step 3: Calculate Mean Gene Effect for Each Gene"
      ]
    },
    {
      "cell_type": "code",
      "execution_count": 11,
      "metadata": {},
      "outputs": [
        {
          "name": "stdout",
          "output_type": "stream",
          "text": [
            "Sample of gene means:\n",
            "A1BG      -0.0397\n",
            "A1CF      -0.1229\n",
            "A2M        0.0211\n",
            "A2ML1      0.0764\n",
            "A3GALT2   -0.1199\n",
            "A4GALT    -0.0199\n",
            "A4GNT      0.0304\n",
            "AAAS      -0.1467\n",
            "AACS      -0.0558\n",
            "AADAC      0.1150\n",
            "dtype: float64\n",
            "\n",
            "=== EXAMPLE OUTPUT (matching slides) ===\n",
            "A1BG       -0.040\n",
            "A1CF       -0.123\n",
            "A2M         0.021\n",
            "A2ML1       0.076\n",
            "A4GALT     -0.020\n"
          ]
        }
      ],
      "source": [
        "# Step 3: Calculate mean gene effect for each gene across all breast cancer lines\n",
        "breast_gene_means = breast_df[gene_columns].mean()\n",
        "\n",
        "print(\"Sample of gene means:\")\n",
        "print(breast_gene_means.head(10).round(4))\n",
        "\n",
        "# Example output matching the slides\n",
        "print(f\"\\n=== EXAMPLE OUTPUT (matching slides) ===\")\n",
        "example_genes = ['A1BG', 'A1CF', 'A2M', 'A2ML1', 'A4GALT']\n",
        "if all(gene in breast_gene_means.index for gene in example_genes):\n",
        "    for gene in example_genes:\n",
        "        print(f\"{gene:<8} {breast_gene_means[gene]:8.3f}\")\n",
        "else:\n",
        "    print(\"Some example genes not found, showing available genes:\")\n",
        "    for i, (gene, mean_val) in enumerate(breast_gene_means.head(5).items()):\n",
        "        print(f\"{gene:<8} {mean_val:8.3f}\")"
      ]
    },
    {
      "cell_type": "markdown",
      "metadata": {},
      "source": [
        "---\n",
        "## 4. Grouped Statistics by Cancer Type 🔍\n",
        "\n",
        "### Compare Statistics Across Cancer Types\n",
        "Use `.groupby()` to calculate statistics for different cancer types."
      ]
    },
    {
      "cell_type": "code",
      "execution_count": 12,
      "metadata": {},
      "outputs": [
        {
          "name": "stdout",
          "output_type": "stream",
          "text": [
            "Gene effect means by cancer type:\n",
            "                    A1BG    A1CF     A2M\n",
            "oncotree_lineage                        \n",
            "Breast           -0.0397 -0.1229  0.0211\n",
            "Myeloid          -0.0746 -0.0560  0.0411\n",
            "\n",
            "Standard deviation by cancer type:\n",
            "                    A1BG    A1CF     A2M\n",
            "oncotree_lineage                        \n",
            "Breast            0.1223  0.1086  0.0808\n",
            "Myeloid           0.1620  0.0924  0.1193\n",
            "\n",
            "Number of cell lines per cancer type:\n",
            "oncotree_lineage\n",
            "Breast     53\n",
            "Myeloid    41\n",
            "Name: count, dtype: int64\n"
          ]
        }
      ],
      "source": [
        "# Group by cancer type and calculate mean for selected genes\n",
        "selected_genes = ['A1BG', 'A1CF', 'A2M']\n",
        "grouped_means = df.groupby('oncotree_lineage')[selected_genes].mean()\n",
        "\n",
        "print(\"Gene effect means by cancer type:\")\n",
        "print(grouped_means.round(4))\n",
        "\n",
        "# Calculate other statistics by group\n",
        "print(\"\\nStandard deviation by cancer type:\")\n",
        "grouped_std = df.groupby('oncotree_lineage')[selected_genes].std()\n",
        "print(grouped_std.round(4))\n",
        "\n",
        "# Count of cell lines per cancer type\n",
        "print(\"\\nNumber of cell lines per cancer type:\")\n",
        "print(df['oncotree_lineage'].value_counts())"
      ]
    },
    {
      "cell_type": "markdown",
      "metadata": {},
      "source": [
        "### Advanced Grouped Statistics"
      ]
    },
    {
      "cell_type": "code",
      "execution_count": 13,
      "metadata": {},
      "outputs": [
        {
          "name": "stdout",
          "output_type": "stream",
          "text": [
            "Comprehensive A1BG statistics by cancer type:\n",
            "                  count    mean  median     std     min     max\n",
            "oncotree_lineage                                               \n",
            "Breast               53 -0.0397 -0.0439  0.1223 -0.3328  0.2573\n",
            "Myeloid              41 -0.0746 -0.0814  0.1620 -0.6263  0.4641\n",
            "\n",
            "Custom statistics for A1BG:\n",
            "                    mean   range  negative_count  essential_count\n",
            "oncotree_lineage                                                 \n",
            "Breast           -0.0397  0.5901              36               14\n",
            "Myeloid          -0.0746  1.0904              33               15\n"
          ]
        }
      ],
      "source": [
        "# Multiple statistics at once using .agg()\n",
        "stats_summary = df.groupby('oncotree_lineage')['A1BG'].agg([\n",
        "    'count', 'mean', 'median', 'std', 'min', 'max'\n",
        "]).round(4)\n",
        "\n",
        "print(\"Comprehensive A1BG statistics by cancer type:\")\n",
        "print(stats_summary)\n",
        "\n",
        "# Custom statistics using lambda functions\n",
        "custom_stats = df.groupby('oncotree_lineage')['A1BG'].agg([\n",
        "    ('mean', 'mean'),\n",
        "    ('range', lambda x: x.max() - x.min()),\n",
        "    ('negative_count', lambda x: (x < 0).sum()),\n",
        "    ('essential_count', lambda x: (x < -0.1).sum())\n",
        "]).round(4)\n",
        "\n",
        "print(\"\\nCustom statistics for A1BG:\")\n",
        "print(custom_stats)"
      ]
    },
    {
      "cell_type": "markdown",
      "metadata": {},
      "source": [
        "---\n",
        "## 📚 Practice Questions\n",
        "\n",
        "Now it's your turn! Apply statistical methods to analyze the cancer dataset.\n",
        "\n",
        "### Question 1: Basic Statistics\n",
        "Calculate the mean, median, and standard deviation for the A2M gene. Which is larger - the mean or median? What does this tell us about the distribution?"
      ]
    },
    {
      "cell_type": "code",
      "execution_count": null,
      "metadata": {},
      "outputs": [],
      "source": [
        "# Your answer here:\n",
        "# a2m_mean = ?\n",
        "# a2m_median = ?\n",
        "# a2m_std = ?\n",
        "# print(f\"A2M - Mean: {a2m_mean:.4f}, Median: {a2m_median:.4f}, Std: {a2m_std:.4f}\")\n",
        "# print(f\"Distribution is: {'right-skewed' if a2m_mean > a2m_median else 'left-skewed' if a2m_mean < a2m_median else 'symmetric'}\")\n"
      ]
    },
    {
      "cell_type": "markdown",
      "metadata": {},
      "source": [
        "### Question 2: Gene Selection and Analysis\n",
        "Select the first 5 gene columns (after metadata) and calculate their correlation matrix. Which two genes are most positively correlated?"
      ]
    },
    {
      "cell_type": "code",
      "execution_count": null,
      "metadata": {},
      "outputs": [],
      "source": [
        "# Your answer here:\n",
        "# first_5_genes = ?\n",
        "# correlation_matrix = ?\n",
        "# print(\"Correlation matrix:\")\n",
        "# print(correlation_matrix.round(3))\n",
        "# Find highest correlation (excluding diagonal)\n"
      ]
    },
    {
      "cell_type": "markdown",
      "metadata": {},
      "source": [
        "### Question 3: Cancer Type Comparison\n",
        "For the A1CF gene, calculate the mean and standard deviation for each cancer type. Which cancer type shows more variability (higher standard deviation)?"
      ]
    },
    {
      "cell_type": "code",
      "execution_count": null,
      "metadata": {},
      "outputs": [],
      "source": [
        "# Your answer here:\n",
        "# a1cf_by_cancer = ?\n",
        "# print(\"A1CF statistics by cancer type:\")\n",
        "# print(a1cf_by_cancer)\n"
      ]
    },
    {
      "cell_type": "markdown",
      "metadata": {},
      "source": [
        "### Question 4: Essential Gene Analysis\n",
        "Create a function that identifies \"essential genes\" (mean effect < -0.1) for a given cancer type. Apply it to find essential genes in breast cancer. How many essential genes are there?"
      ]
    },
    {
      "cell_type": "code",
      "execution_count": null,
      "metadata": {},
      "outputs": [],
      "source": [
        "# Your answer here:\n",
        "# def find_essential_genes(cancer_type, threshold=-0.1):\n",
        "#     # Filter for cancer type\n",
        "#     # Calculate gene means\n",
        "#     # Find genes below threshold\n",
        "#     # return essential_genes\n",
        "\n",
        "# breast_essential = find_essential_genes('Breast')\n",
        "# print(f\"Essential genes in breast cancer: {len(breast_essential)}\")\n",
        "# print(f\"Most essential (lowest 5): {breast_essential.head().round(3)}\")\n"
      ]
    },
    {
      "cell_type": "markdown",
      "metadata": {},
      "source": [
        "### Question 5: Advanced Challenge\n",
        "Create a comprehensive statistical report:\n",
        "1. For each cancer type, find the gene with the most negative mean effect\n",
        "2. Calculate what percentage of genes are \"essential\" (< -0.1) in each cancer type\n",
        "3. Identify genes that are essential in one cancer type but not the other (threshold < -0.1 vs > -0.05)"
      ]
    },
    {
      "cell_type": "code",
      "execution_count": null,
      "metadata": {},
      "outputs": [],
      "source": [
        "# Your answer here:\n",
        "# Step 1: Most negative gene per cancer type\n",
        "# grouped_means = ?\n",
        "# most_negative_per_cancer = ?\n",
        "\n",
        "# Step 2: Percentage of essential genes\n",
        "# essential_percentages = ?\n",
        "\n",
        "# Step 3: Cancer-specific essential genes\n",
        "# breast_essential = ?\n",
        "# myeloid_essential = ?\n",
        "# breast_specific = ?\n",
        "# myeloid_specific = ?\n"
      ]
    },
    {
      "cell_type": "markdown",
      "metadata": {},
      "source": [
        "---\n",
        "## 🎯 Solutions\n",
        "\n",
        "Try the questions above first, then run these cells to check your answers!"
      ]
    },
    {
      "cell_type": "code",
      "execution_count": null,
      "metadata": {},
      "outputs": [],
      "source": [
        "# Solution 1\n",
        "a2m_mean = df['A2M'].mean()\n",
        "a2m_median = df['A2M'].median()\n",
        "a2m_std = df['A2M'].std()\n",
        "print(f\"Solution 1 - A2M statistics:\")\n",
        "print(f\"Mean: {a2m_mean:.4f}, Median: {a2m_median:.4f}, Std: {a2m_std:.4f}\")\n",
        "print(f\"Distribution is: {'right-skewed' if a2m_mean > a2m_median else 'left-skewed' if a2m_mean < a2m_median else 'symmetric'}\")"
      ]
    },
    {
      "cell_type": "code",
      "execution_count": null,
      "metadata": {},
      "outputs": [],
      "source": [
        "# Solution 2\n",
        "first_5_genes = df.columns[6:11]  # First 5 gene columns after metadata\n",
        "correlation_matrix = df[first_5_genes].corr()\n",
        "print(\"Solution 2 - Correlation matrix:\")\n",
        "print(correlation_matrix.round(3))\n",
        "\n",
        "# Find highest correlation (excluding diagonal)\n",
        "corr_values = correlation_matrix.values\n",
        "np.fill_diagonal(corr_values, np.nan)  # Remove diagonal\n",
        "max_corr_idx = np.unravel_index(np.nanargmax(corr_values), corr_values.shape)\n",
        "gene1, gene2 = first_5_genes[max_corr_idx[0]], first_5_genes[max_corr_idx[1]]\n",
        "max_corr = corr_values[max_corr_idx]\n",
        "print(f\"\\nHighest correlation: {gene1} & {gene2} ({max_corr:.3f})\")"
      ]
    },
    {
      "cell_type": "code",
      "execution_count": null,
      "metadata": {},
      "outputs": [],
      "source": [
        "# Solution 3\n",
        "a1cf_by_cancer = df.groupby('oncotree_lineage')['A1CF'].agg(['mean', 'std']).round(4)\n",
        "print(\"Solution 3 - A1CF statistics by cancer type:\")\n",
        "print(a1cf_by_cancer)\n",
        "most_variable = a1cf_by_cancer['std'].idxmax()\n",
        "print(f\"\\nMost variable cancer type: {most_variable} (std = {a1cf_by_cancer.loc[most_variable, 'std']:.4f})\")"
      ]
    },
    {
      "cell_type": "code",
      "execution_count": null,
      "metadata": {},
      "outputs": [],
      "source": [
        "# Solution 4\n",
        "def find_essential_genes(cancer_type, threshold=-0.1):\n",
        "    # Filter for cancer type\n",
        "    cancer_df = df[df['oncotree_lineage'] == cancer_type]\n",
        "    # Calculate gene means\n",
        "    gene_means = cancer_df[gene_columns].mean()\n",
        "    # Find genes below threshold\n",
        "    essential_genes = gene_means[gene_means < threshold].sort_values()\n",
        "    return essential_genes\n",
        "\n",
        "breast_essential = find_essential_genes('Breast')\n",
        "print(f\"Solution 4 - Essential genes in breast cancer: {len(breast_essential)}\")\n",
        "print(f\"Most essential (lowest 5):\")\n",
        "print(breast_essential.head().round(3))"
      ]
    },
    {
      "cell_type": "code",
      "execution_count": null,
      "metadata": {},
      "outputs": [],
      "source": [
        "# Solution 5\n",
        "print(\"Solution 5 - Comprehensive Statistical Report\")\n",
        "print(\"=\" * 50)\n",
        "\n",
        "# Step 1: Most negative gene per cancer type\n",
        "grouped_means = df.groupby('oncotree_lineage')[gene_columns].mean()\n",
        "most_negative_per_cancer = grouped_means.min(axis=1)\n",
        "most_negative_genes = grouped_means.idxmin(axis=1)\n",
        "\n",
        "print(\"\\n1. Most essential gene per cancer type:\")\n",
        "for cancer in most_negative_per_cancer.index:\n",
        "    gene = most_negative_genes[cancer]\n",
        "    effect = most_negative_per_cancer[cancer]\n",
        "    print(f\"   {cancer}: {gene} ({effect:.4f})\")\n",
        "\n",
        "# Step 2: Percentage of essential genes\n",
        "print(\"\\n2. Percentage of essential genes (< -0.1):\")\n",
        "for cancer in grouped_means.index:\n",
        "    essential_count = (grouped_means.loc[cancer] < -0.1).sum()\n",
        "    total_genes = len(grouped_means.columns)\n",
        "    percentage = (essential_count / total_genes) * 100\n",
        "    print(f\"   {cancer}: {essential_count}/{total_genes} ({percentage:.1f}%)\")\n",
        "\n",
        "# Step 3: Cancer-specific essential genes\n",
        "breast_essential_genes = set(grouped_means.loc['Breast'][grouped_means.loc['Breast'] < -0.1].index)\n",
        "myeloid_essential_genes = set(grouped_means.loc['Myeloid'][grouped_means.loc['Myeloid'] < -0.1].index)\n",
        "breast_nonessential = set(grouped_means.loc['Breast'][grouped_means.loc['Breast'] > -0.05].index)\n",
        "myeloid_nonessential = set(grouped_means.loc['Myeloid'][grouped_means.loc['Myeloid'] > -0.05].index)\n",
        "\n",
        "breast_specific = breast_essential_genes & myeloid_nonessential\n",
        "myeloid_specific = myeloid_essential_genes & breast_nonessential\n",
        "\n",
        "print(f\"\\n3. Cancer-specific essential genes:\")\n",
        "print(f\"   Breast-specific essential: {len(breast_specific)}\")\n",
        "print(f\"   Myeloid-specific essential: {len(myeloid_specific)}\")\n",
        "if breast_specific:\n",
        "    print(f\"   Example breast-specific: {list(breast_specific)[:5]}\")\n",
        "if myeloid_specific:\n",
        "    print(f\"   Example myeloid-specific: {list(myeloid_specific)[:5]}\")"
      ]
    },
    {
      "cell_type": "markdown",
      "metadata": {},
      "source": [
        "---\n",
        "## 🎊 Congratulations!\n",
        "\n",
        "You've mastered statistical analysis with pandas! Here's what you learned:\n",
        "\n",
        "✅ **Column-wise Statistics**: `.mean()`, `.median()`, `.std()`, `.min()`, `.max()`  \n",
        "✅ **Gene Selection**: Separating metadata from gene data  \n",
        "✅ **Analysis Workflow**: Filter → Select → Calculate → Analyze  \n",
        "✅ **Grouped Statistics**: `.groupby()` for comparing categories  \n",
        "✅ **Advanced Methods**: `.agg()`, custom functions, correlations  \n",
        "✅ **Real Applications**: Finding essential genes, cancer comparisons  \n",
        "\n",
        "**Key Statistical Insights**:\n",
        "- Different cancer types show unique genetic vulnerabilities\n",
        "- Mean vs median comparisons reveal distribution shapes\n",
        "- Standard deviation measures variability within groups\n",
        "- Correlation analysis reveals gene relationships\n",
        "\n",
        "**Next Steps**: \n",
        "- Explore more advanced statistical tests\n",
        "- Learn about data visualization techniques\n",
        "- Apply these methods to your own research datasets\n",
        "\n",
        "Keep analyzing! 📊🚀"
      ]
    }
  ],
  "metadata": {
    "kernelspec": {
      "display_name": ".venv",
      "language": "python",
      "name": "python3"
    },
    "language_info": {
      "codemirror_mode": {
        "name": "ipython",
        "version": 3
      },
      "file_extension": ".py",
      "mimetype": "text/x-python",
      "name": "python",
      "nbconvert_exporter": "python",
      "pygments_lexer": "ipython3",
      "version": "3.12.10"
    }
  },
  "nbformat": 4,
  "nbformat_minor": 4
}
