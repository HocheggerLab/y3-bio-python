{
 "cells": [
  {
   "cell_type": "markdown",
   "metadata": {},
   "source": [
    "# Lecture 3: Pandas Statistics - Step by Step\n",
    "\n",
    "Learn how to calculate statistics from your data, building from simple to complex calculations.\n",
    "\n",
    "## What We'll Learn:\n",
    "1. Calculate one statistic (like mean) for one column\n",
    "2. Calculate multiple statistics for one column\n",
    "3. Calculate statistics for several columns\n",
    "4. Calculate statistics by groups (like cancer type)\n",
    "5. Complex grouped statistics\n",
    "\n",
    "Let's start with our cancer dataset! 🧬"
   ]
  },
  {
   "cell_type": "markdown",
   "metadata": {},
   "source": [
    "## Load Our Dataset\n",
    "\n",
    "First, let's load our DepMap cancer dataset."
   ]
  },
  {
   "cell_type": "code",
   "execution_count": null,
   "metadata": {},
   "outputs": [],
   "source": [
    "import pandas as pd\n",
    "import numpy as np\n",
    "\n",
    "# Load the DepMap CRISPR dataset\n",
    "url = \"https://zenodo.org/records/17098555/files/combined_model_crispr_data_filtered.csv?download=1\"\n",
    "df = pd.read_csv(url)\n",
    "\n",
    "print(f\"Dataset shape: {df.shape}\")\n",
    "print(f\"\\nFirst few rows:\")\n",
    "print(df[['cell_line_name', 'oncotree_lineage', 'A1BG', 'A1CF']].head())"
   ]
  },
  {
   "cell_type": "markdown",
   "metadata": {},
   "source": [
    "---\n",
    "\n",
    "## Section 1: One Statistic for One Column\n",
    "\n",
    "### Guided Example 1.1: Calculate the mean\n",
    "\n",
    "The simplest thing - calculate the average (mean) of one column."
   ]
  },
  {
   "cell_type": "code",
   "execution_count": null,
   "metadata": {},
   "outputs": [],
   "source": [
    "# Calculate the mean of the A1BG gene\n",
    "a1bg_mean = df['A1BG'].mean()\n",
    "\n",
    "print(f\"Mean A1BG effect: {a1bg_mean}\")\n",
    "print(f\"Rounded to 4 decimals: {a1bg_mean:.4f}\")"
   ]
  },
  {
   "cell_type": "markdown",
   "metadata": {},
   "source": [
    "**What's happening here?**\n",
    "- `.mean()` calculates the average of all values in the column\n",
    "- Negative values mean the gene is essential (cells die without it)\n",
    "- Positive values mean the gene is not essential"
   ]
  },
  {
   "cell_type": "markdown",
   "metadata": {},
   "source": [
    "### Guided Example 1.2: Other basic statistics"
   ]
  },
  {
   "cell_type": "code",
   "execution_count": null,
   "metadata": {},
   "outputs": [],
   "source": [
    "# Calculate different statistics for A1BG\n",
    "a1bg_median = df['A1BG'].median()\n",
    "a1bg_std = df['A1BG'].std()\n",
    "a1bg_min = df['A1BG'].min()\n",
    "a1bg_max = df['A1BG'].max()\n",
    "\n",
    "print(f\"A1BG Statistics:\")\n",
    "print(f\"Mean:   {a1bg_mean:.4f}\")\n",
    "print(f\"Median: {a1bg_median:.4f}\")\n",
    "print(f\"Std:    {a1bg_std:.4f}\")\n",
    "print(f\"Min:    {a1bg_min:.4f}\")\n",
    "print(f\"Max:    {a1bg_max:.4f}\")"
   ]
  },
  {
   "cell_type": "markdown",
   "metadata": {},
   "source": [
    "**What's new here?**\n",
    "- `.median()` - the middle value when sorted\n",
    "- `.std()` - standard deviation (how spread out the values are)\n",
    "- `.min()` - the smallest value\n",
    "- `.max()` - the largest value"
   ]
  },
  {
   "cell_type": "markdown",
   "metadata": {},
   "source": [
    "### Practice Example 1.1: Calculate mean for A1CF\n",
    "\n",
    "Calculate the mean for the 'A1CF' gene column.\n",
    "\n",
    "Print it rounded to 4 decimal places."
   ]
  },
  {
   "cell_type": "code",
   "execution_count": null,
   "metadata": {},
   "outputs": [],
   "source": [
    "# YOUR CODE HERE: calculate mean for A1CF"
   ]
  },
  {
   "cell_type": "markdown",
   "metadata": {},
   "source": [
    "### Practice Example 1.2: Find min and max for A2M\n",
    "\n",
    "For the 'A2M' gene:\n",
    "- Calculate the minimum value\n",
    "- Calculate the maximum value\n",
    "- Calculate the range (max - min)"
   ]
  },
  {
   "cell_type": "code",
   "execution_count": null,
   "metadata": {},
   "outputs": [],
   "source": [
    "# YOUR CODE HERE: find min, max, and range for A2M"
   ]
  },
  {
   "cell_type": "markdown",
   "metadata": {},
   "source": [
    "---\n",
    "\n",
    "## Section 2: Multiple Statistics at Once\n",
    "\n",
    "### Guided Example 2.1: Using .describe()\n",
    "\n",
    "Get many statistics at once with `.describe()`"
   ]
  },
  {
   "cell_type": "code",
   "execution_count": null,
   "metadata": {},
   "outputs": [],
   "source": [
    "# Get all statistics for A1BG at once\n",
    "a1bg_stats = df['A1BG'].describe()\n",
    "\n",
    "print(\"Complete statistics for A1BG:\")\n",
    "print(a1bg_stats)"
   ]
  },
  {
   "cell_type": "markdown",
   "metadata": {},
   "source": [
    "**What's happening here?**\n",
    "- `.describe()` calculates many statistics at once\n",
    "- Gives you: count, mean, std, min, 25%, 50% (median), 75%, max\n",
    "- The percentiles (25%, 50%, 75%) show the distribution"
   ]
  },
  {
   "cell_type": "markdown",
   "metadata": {},
   "source": [
    "### Guided Example 2.2: Counting specific values"
   ]
  },
  {
   "cell_type": "code",
   "execution_count": null,
   "metadata": {},
   "outputs": [],
   "source": [
    "# Count how many values are negative (essential gene)\n",
    "negative_count = (df['A1BG'] < 0).sum()\n",
    "positive_count = (df['A1BG'] > 0).sum()\n",
    "zero_count = (df['A1BG'] == 0).sum()\n",
    "\n",
    "total = len(df['A1BG'])\n",
    "\n",
    "print(f\"A1BG value distribution:\")\n",
    "print(f\"Negative: {negative_count} ({negative_count/total*100:.1f}%)\")\n",
    "print(f\"Positive: {positive_count} ({positive_count/total*100:.1f}%)\")\n",
    "print(f\"Zero:     {zero_count}\")\n",
    "print(f\"Total:    {total}\")"
   ]
  },
  {
   "cell_type": "markdown",
   "metadata": {},
   "source": [
    "**What's new here?**\n",
    "- `(df['col'] < 0).sum()` counts how many are negative\n",
    "- The condition creates True/False values\n",
    "- `.sum()` counts the True values (True = 1, False = 0)\n",
    "- We can calculate percentages by dividing by total"
   ]
  },
  {
   "cell_type": "markdown",
   "metadata": {},
   "source": [
    "### Practice Example 2.1: Use describe for A1CF\n",
    "\n",
    "Use `.describe()` to get all statistics for the A1CF gene.\n",
    "\n",
    "What is the median value (50%)?"
   ]
  },
  {
   "cell_type": "code",
   "execution_count": null,
   "metadata": {},
   "outputs": [],
   "source": [
    "# YOUR CODE HERE: use describe on A1CF"
   ]
  },
  {
   "cell_type": "markdown",
   "metadata": {},
   "source": [
    "### Practice Example 2.2: Count strong effects for A2M\n",
    "\n",
    "For the A2M gene:\n",
    "- Count how many values are less than -0.1 (strong negative effect)\n",
    "- Count how many values are greater than 0.1 (strong positive effect)\n",
    "- Print both counts"
   ]
  },
  {
   "cell_type": "code",
   "execution_count": null,
   "metadata": {},
   "outputs": [],
   "source": [
    "# YOUR CODE HERE: count strong effects for A2M"
   ]
  },
  {
   "cell_type": "markdown",
   "metadata": {},
   "source": [
    "---\n",
    "\n",
    "## Section 3: Statistics for Multiple Columns\n",
    "\n",
    "### Guided Example 3.1: Mean for several genes\n",
    "\n",
    "Calculate statistics for multiple columns at once"
   ]
  },
  {
   "cell_type": "code",
   "execution_count": null,
   "metadata": {},
   "outputs": [],
   "source": [
    "# Select three genes and calculate their means\n",
    "genes = ['A1BG', 'A1CF', 'A2M']\n",
    "gene_means = df[genes].mean()\n",
    "\n",
    "print(\"Mean effects for three genes:\")\n",
    "print(gene_means)"
   ]
  },
  {
   "cell_type": "markdown",
   "metadata": {},
   "source": [
    "**What's happening here?**\n",
    "- Select multiple columns with `df[['col1', 'col2', 'col3']]`\n",
    "- `.mean()` calculates mean for each column\n",
    "- Returns a Series with one mean per gene"
   ]
  },
  {
   "cell_type": "markdown",
   "metadata": {},
   "source": [
    "### Guided Example 3.2: Describe for multiple columns"
   ]
  },
  {
   "cell_type": "code",
   "execution_count": null,
   "metadata": {},
   "outputs": [],
   "source": [
    "# Get complete statistics for three genes\n",
    "genes = ['A1BG', 'A1CF', 'A2M']\n",
    "gene_stats = df[genes].describe()\n",
    "\n",
    "print(\"Complete statistics for three genes:\")\n",
    "print(gene_stats.round(4))"
   ]
  },
  {
   "cell_type": "markdown",
   "metadata": {},
   "source": [
    "**What's new here?**\n",
    "- `.describe()` on multiple columns gives a table\n",
    "- Each column shows statistics for one gene\n",
    "- Each row shows one statistic (mean, std, min, etc.)\n",
    "- `.round(4)` rounds all numbers to 4 decimal places"
   ]
  },
  {
   "cell_type": "markdown",
   "metadata": {},
   "source": [
    "### Practice Example 3.1: Standard deviation for multiple genes\n",
    "\n",
    "Calculate the standard deviation for these four genes:\n",
    "- 'A1BG', 'A1CF', 'A2M', 'A2ML1'\n",
    "\n",
    "Which gene has the highest variability (largest std)?"
   ]
  },
  {
   "cell_type": "code",
   "execution_count": null,
   "metadata": {},
   "outputs": [],
   "source": [
    "# YOUR CODE HERE: calculate std for four genes"
   ]
  },
  {
   "cell_type": "markdown",
   "metadata": {},
   "source": [
    "### Practice Example 3.2: Compare three genes\n",
    "\n",
    "For genes 'A1BG', 'A1CF', and 'A2M':\n",
    "- Use `.describe()` to get all statistics\n",
    "- Which gene has the most negative minimum value?\n",
    "- Which gene has the highest maximum value?"
   ]
  },
  {
   "cell_type": "code",
   "execution_count": null,
   "metadata": {},
   "outputs": [],
   "source": [
    "# YOUR CODE HERE: describe three genes and compare"
   ]
  },
  {
   "cell_type": "markdown",
   "metadata": {},
   "source": [
    "---\n",
    "\n",
    "## Section 4: Statistics by Groups\n",
    "\n",
    "### Guided Example 4.1: Mean by cancer type\n",
    "\n",
    "Calculate statistics separately for each cancer type"
   ]
  },
  {
   "cell_type": "code",
   "execution_count": null,
   "metadata": {},
   "outputs": [],
   "source": [
    "# Calculate mean A1BG for each cancer type\n",
    "a1bg_by_cancer = df.groupby('oncotree_lineage')['A1BG'].mean()\n",
    "\n",
    "print(\"Mean A1BG effect by cancer type:\")\n",
    "print(a1bg_by_cancer)"
   ]
  },
  {
   "cell_type": "markdown",
   "metadata": {},
   "source": [
    "**What's happening here?**\n",
    "- `.groupby('column')` groups rows by that column's values\n",
    "- Then we select which column to analyze: `['A1BG']`\n",
    "- Then calculate the statistic: `.mean()`\n",
    "- Shows one mean for Breast cancer, one mean for Myeloid"
   ]
  },
  {
   "cell_type": "markdown",
   "metadata": {},
   "source": [
    "### Guided Example 4.2: Multiple statistics by group"
   ]
  },
  {
   "cell_type": "code",
   "execution_count": null,
   "metadata": {},
   "outputs": [],
   "source": [
    "# Calculate several statistics for A1BG by cancer type\n",
    "a1bg_grouped = df.groupby('oncotree_lineage')['A1BG'].agg(['mean', 'median', 'std', 'count'])\n",
    "\n",
    "print(\"A1BG statistics by cancer type:\")\n",
    "print(a1bg_grouped.round(4))"
   ]
  },
  {
   "cell_type": "markdown",
   "metadata": {},
   "source": [
    "**What's new here?**\n",
    "- `.agg()` lets us calculate multiple statistics at once\n",
    "- Pass a list of statistic names: `['mean', 'median', 'std', 'count']`\n",
    "- Each row is a cancer type\n",
    "- Each column is a statistic"
   ]
  },
  {
   "cell_type": "markdown",
   "metadata": {},
   "source": [
    "### Practice Example 4.1: A1CF mean by cancer type\n",
    "\n",
    "Calculate the mean A1CF effect for each cancer type.\n",
    "\n",
    "Which cancer type has a more negative mean?"
   ]
  },
  {
   "cell_type": "code",
   "execution_count": null,
   "metadata": {},
   "outputs": [],
   "source": [
    "# YOUR CODE HERE: calculate A1CF mean by cancer type"
   ]
  },
  {
   "cell_type": "markdown",
   "metadata": {},
   "source": [
    "### Practice Example 4.2: A2M statistics by cancer type\n",
    "\n",
    "For the A2M gene, calculate by cancer type:\n",
    "- mean\n",
    "- min\n",
    "- max\n",
    "- count\n",
    "\n",
    "Use `.agg()` to get all at once."
   ]
  },
  {
   "cell_type": "code",
   "execution_count": null,
   "metadata": {},
   "outputs": [],
   "source": [
    "# YOUR CODE HERE: calculate multiple A2M statistics by cancer type"
   ]
  },
  {
   "cell_type": "markdown",
   "metadata": {},
   "source": [
    "---\n",
    "\n",
    "## Section 5: Multiple Genes and Groups\n",
    "\n",
    "### Guided Example 5.1: Multiple genes by cancer type\n",
    "\n",
    "Calculate statistics for several genes, grouped by cancer type"
   ]
  },
  {
   "cell_type": "code",
   "execution_count": null,
   "metadata": {},
   "outputs": [],
   "source": [
    "# Calculate mean for three genes, by cancer type\n",
    "genes = ['A1BG', 'A1CF', 'A2M']\n",
    "multi_gene_means = df.groupby('oncotree_lineage')[genes].mean()\n",
    "\n",
    "print(\"Mean effects by cancer type for three genes:\")\n",
    "print(multi_gene_means.round(4))"
   ]
  },
  {
   "cell_type": "markdown",
   "metadata": {},
   "source": [
    "**What's happening here?**\n",
    "- After groupby, we select multiple columns: `[['gene1', 'gene2', 'gene3']]`\n",
    "- Each row is a cancer type\n",
    "- Each column is a gene\n",
    "- Values are the means for that cancer type and gene"
   ]
  },
  {
   "cell_type": "markdown",
   "metadata": {},
   "source": [
    "### Guided Example 5.2: Custom calculations by group"
   ]
  },
  {
   "cell_type": "code",
   "execution_count": null,
   "metadata": {},
   "outputs": [],
   "source": [
    "# Count how many cell lines have strong A1BG effects per cancer type\n",
    "def count_strong_effects(column):\n",
    "    return (column < -0.1).sum()\n",
    "\n",
    "strong_effects = df.groupby('oncotree_lineage')['A1BG'].agg([\n",
    "    'count',\n",
    "    'mean',\n",
    "    ('strong_negative', count_strong_effects)\n",
    "])\n",
    "\n",
    "print(\"A1BG analysis by cancer type:\")\n",
    "print(strong_effects.round(4))"
   ]
  },
  {
   "cell_type": "markdown",
   "metadata": {},
   "source": [
    "**What's new here?**\n",
    "- We can create custom statistics with functions\n",
    "- Pass tuples to `.agg()`: `('name', function)`\n",
    "- The function takes a column and returns a number\n",
    "- Very powerful for custom analysis!"
   ]
  },
  {
   "cell_type": "markdown",
   "metadata": {},
   "source": [
    "### Practice Example 5.1: Three genes by cancer type\n",
    "\n",
    "Calculate the median for these genes by cancer type:\n",
    "- 'A1BG', 'A1CF', 'A2M'\n",
    "\n",
    "Which cancer type has the most negative median for A1CF?"
   ]
  },
  {
   "cell_type": "code",
   "execution_count": null,
   "metadata": {},
   "outputs": [],
   "source": [
    "# YOUR CODE HERE: calculate median for three genes by cancer type"
   ]
  },
  {
   "cell_type": "markdown",
   "metadata": {},
   "source": [
    "### Practice Example 5.2: Count essential genes by cancer type\n",
    "\n",
    "For each cancer type, count how many of these genes are \"essential\" (mean < -0.1):\n",
    "- 'A1BG', 'A1CF', 'A2M', 'A2ML1'\n",
    "\n",
    "Hint: Calculate means by cancer type first, then count how many are < -0.1"
   ]
  },
  {
   "cell_type": "code",
   "execution_count": null,
   "metadata": {},
   "outputs": [],
   "source": [
    "# YOUR CODE HERE: count essential genes by cancer type\n",
    "# genes = ['A1BG', 'A1CF', 'A2M', 'A2ML1']\n",
    "# means = df.groupby('oncotree_lineage')[genes].mean()\n",
    "# essential_count = (means < -0.1).sum(axis=1)\n",
    "# print(essential_count)"
   ]
  },
  {
   "cell_type": "markdown",
   "metadata": {},
   "source": [
    "### Practice Example 5.3: Compare variability\n",
    "\n",
    "For genes 'A1BG' and 'A1CF':\n",
    "- Calculate standard deviation by cancer type\n",
    "- Which gene shows more variability in Breast cancer?\n",
    "- Which gene shows more variability in Myeloid cancer?"
   ]
  },
  {
   "cell_type": "code",
   "execution_count": null,
   "metadata": {},
   "outputs": [],
   "source": [
    "# YOUR CODE HERE: compare variability between genes and cancer types"
   ]
  },
  {
   "cell_type": "markdown",
   "metadata": {},
   "source": [
    "---\n",
    "\n",
    "## Summary\n",
    "\n",
    "Congratulations! You've learned pandas statistics step-by-step:\n",
    "\n",
    "**Section 1 - One statistic, one column:**\n",
    "- ✅ `.mean()`, `.median()`, `.std()`, `.min()`, `.max()`\n",
    "\n",
    "**Section 2 - Multiple statistics:**\n",
    "- ✅ `.describe()` - get many statistics at once\n",
    "- ✅ Count values with conditions\n",
    "\n",
    "**Section 3 - Multiple columns:**\n",
    "- ✅ Calculate statistics for several columns\n",
    "- ✅ Compare statistics across genes\n",
    "\n",
    "**Section 4 - Groups:**\n",
    "- ✅ `.groupby()` - calculate by category\n",
    "- ✅ `.agg()` - multiple statistics for groups\n",
    "\n",
    "**Section 5 - Complex analysis:**\n",
    "- ✅ Multiple genes and groups together\n",
    "- ✅ Custom calculations\n",
    "\n",
    "**Next Steps:**\n",
    "- Combine statistics with filtering\n",
    "- Use statistics to find interesting patterns\n",
    "- Visualize your statistics\n",
    "\n",
    "Keep analyzing! 📊🚀"
   ]
  }
 ],
 "metadata": {
  "kernelspec": {
   "display_name": ".venv",
   "language": "python",
   "name": "python3"
  },
  "language_info": {
   "name": "python",
   "version": "3.12.10"
  }
 },
 "nbformat": 4,
 "nbformat_minor": 4
}
