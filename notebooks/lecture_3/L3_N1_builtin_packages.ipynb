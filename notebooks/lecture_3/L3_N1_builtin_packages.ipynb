{
 "cells": [
  {
   "cell_type": "markdown",
   "id": "notebook-title",
   "metadata": {},
   "source": [
    "# L3_N1: Built-in Python Packages for Biology\n",
    "\n",
    "Python comes with many useful built-in packages - no installation required!\n",
    "Here are some that are particularly useful for biological research.\n",
    "\n",
    "---"
   ]
  },
  {
   "cell_type": "markdown",
   "id": "random-header",
   "metadata": {},
   "source": [
    "## 🎲 random - Simulations & Sampling"
   ]
  },
  {
   "cell_type": "code",
   "execution_count": null,
   "id": "random-example",
   "metadata": {},
   "outputs": [],
   "source": [
    "import random\n",
    "\n",
    "# Generate random DNA sequence\n",
    "bases = ['A', 'T', 'G', 'C']\n",
    "random_dna = ''.join(random.choices(bases, k=20))\n",
    "print(f\"Random DNA: {random_dna}\")\n",
    "Ÿ\n",
    "# Sample from a population\n",
    "patients = [f'Patient_{i}' for i in range(1, 101)]\n",
    "sample = random.sample(patients, 5)\n",
    "print(f\"Random sample: {sample}\")"
   ]
  },
  {
   "cell_type": "markdown",
   "id": "collections-header",
   "metadata": {},
   "source": [
    "## 📊 collections.Counter - Count Everything!"
   ]
  },
  {
   "cell_type": "code",
   "execution_count": null,
   "id": "collections-example",
   "metadata": {},
   "outputs": [],
   "source": [
    "# collections.Counter - perfect for biology!\n",
    "from collections import Counter\n",
    "\n",
    "dna = \"ATCGATCGATCGTAGC\"\n",
    "nucleotide_counts = Counter(dna)\n",
    "print(nucleotide_counts)  # Counter({'A': 4, 'T': 4, 'C': 4, 'G': 4})\n",
    "\n",
    "# Count amino acids in a protein\n",
    "protein = \"MKTAYAALKGKVALVTGAGGVGKSAMTMFYAGVKK\"\n",
    "aa_counts = Counter(protein)\n",
    "print(f\"Most common amino acids: {aa_counts.most_common(3)}\")"
   ]
  },
  {
   "cell_type": "markdown",
   "id": "statistics-header",
   "metadata": {},
   "source": [
    "## 📈 statistics - Built-in Stats"
   ]
  },
  {
   "cell_type": "code",
   "execution_count": null,
   "id": "statistics-example",
   "metadata": {},
   "outputs": [],
   "source": [
    "# statistics - built-in stats without numpy\n",
    "import statistics\n",
    "\n",
    "measurements = [23.1, 24.5, 22.8, 23.9, 24.2]\n",
    "print(f\"Mean: {statistics.mean(measurements):.2f}\")\n",
    "print(f\"Median: {statistics.median(measurements):.2f}\")\n",
    "print(f\"StDev: {statistics.stdev(measurements):.2f}\")\n",
    "\n",
    "# Quick correlation coefficient\n",
    "x = [1, 2, 3, 4, 5]\n",
    "y = [2, 4, 6, 8, 10]\n",
    "correlation = statistics.correlation(x, y)\n",
    "print(f\"Correlation: {correlation:.3f}\")"
   ]
  },
  {
   "cell_type": "markdown",
   "id": "datetime-header",
   "metadata": {},
   "source": [
    "## ⏰ datetime - Experiment Tracking"
   ]
  },
  {
   "cell_type": "code",
   "execution_count": null,
   "id": "datetime-example",
   "metadata": {},
   "outputs": [],
   "source": [
    "# datetime - experiment tracking\n",
    "from datetime import datetime, timedelta\n",
    "\n",
    "experiment_start = datetime.now()\n",
    "incubation_time = timedelta(hours=24)\n",
    "harvest_time = experiment_start + incubation_time\n",
    "\n",
    "print(f\"Experiment started: {experiment_start.strftime('%Y-%m-%d %H:%M')}\")\n",
    "print(f\"Harvest at: {harvest_time.strftime('%Y-%m-%d %H:%M')}\")\n",
    "\n",
    "# Time between measurements\n",
    "measurement1 = datetime(2024, 1, 15, 9, 0)\n",
    "measurement2 = datetime(2024, 1, 15, 15, 30)\n",
    "time_diff = measurement2 - measurement1\n",
    "print(f\"Time between measurements: {time_diff}\")"
   ]
  },
  {
   "cell_type": "markdown",
   "id": "pathlib-header",
   "metadata": {},
   "source": [
    "## 📁 pathlib - File Management"
   ]
  },
  {
   "cell_type": "code",
   "execution_count": null,
   "id": "pathlib-example",
   "metadata": {},
   "outputs": [],
   "source": [
    "from pathlib import Path\n",
    "\n",
    "# Create paths that work on any operating system\n",
    "data_dir = Path(\"experiment_data\")\n",
    "results_file = data_dir / \"results.csv\"\n",
    "backup_file = data_dir / \"backup\" / \"results_backup.csv\"\n",
    "\n",
    "print(f\"Data directory: {data_dir}\")\n",
    "print(f\"Results file: {results_file}\")\n",
    "print(f\"File extension: {results_file.suffix}\")\n",
    "print(f\"File stem: {results_file.stem}\")\n",
    "\n",
    "# Check if files exist (won't create actual files here)\n",
    "print(f\"File exists: {results_file.exists()}\")"
   ]
  },
  {
   "cell_type": "markdown",
   "id": "csv-header",
   "metadata": {},
   "source": [
    "## 📄 csv - Simple Data Files"
   ]
  },
  {
   "cell_type": "code",
   "execution_count": null,
   "id": "csv-example",
   "metadata": {},
   "outputs": [],
   "source": [
    "import csv\n",
    "from io import StringIO\n",
    "\n",
    "# Simulate CSV data for demonstration\n",
    "csv_data = \"\"\"sample,concentration,absorbance\n",
    "A1,0.5,0.123\n",
    "A2,1.0,0.245\n",
    "A3,1.5,0.367\n",
    "A4,2.0,0.489\"\"\"\n",
    "\n",
    "# Read CSV data\n",
    "csv_file = StringIO(csv_data)\n",
    "reader = csv.DictReader(csv_file)\n",
    "\n",
    "print(\"Sample data:\")\n",
    "for row in reader:\n",
    "    sample = row['sample']\n",
    "    conc = float(row['concentration'])\n",
    "    abs_val = float(row['absorbance'])\n",
    "    print(f\"{sample}: {conc}M → {abs_val} AU\")\n",
    "\n",
    "# Writing CSV is just as easy!\n",
    "output = StringIO()\n",
    "writer = csv.writer(output)\n",
    "writer.writerow(['Gene', 'Expression', 'p-value'])\n",
    "writer.writerow(['BRCA1', '2.34', '0.001'])\n",
    "writer.writerow(['TP53', '1.89', '0.025'])\n",
    "\n",
    "print(\"\\nGenerated CSV:\")\n",
    "print(output.getvalue())"
   ]
  },
  {
   "cell_type": "markdown",
   "id": "summary-header",
   "metadata": {},
   "source": [
    "## 🎯 Summary\n",
    "\n",
    "These built-in packages are always available and perfect for:\n",
    "\n",
    "- **random**: Simulations, sampling, randomization\n",
    "- **collections.Counter**: Counting nucleotides, amino acids, anything!\n",
    "- **statistics**: Quick stats without numpy\n",
    "- **datetime**: Experiment timing and scheduling\n",
    "- **pathlib**: Cross-platform file path handling\n",
    "- **csv**: Simple data file I/O\n",
    "\n",
    "**💡 Pro tip**: Always check if there's a built-in solution before installing external packages!"
   ]
  }
 ],
 "metadata": {
  "kernelspec": {
   "display_name": "Python 3",
   "language": "python",
   "name": "python3"
  },
  "language_info": {
   "codemirror_mode": {
    "name": "ipython",
    "version": 3
   },
   "file_extension": ".py",
   "mimetype": "text/x-python",
   "name": "python",
   "nbconvert_exporter": "python",
   "pygments_lexer": "ipython3",
   "version": "3.9.0"
  }
 },
 "nbformat": 4,
 "nbformat_minor": 5
}
