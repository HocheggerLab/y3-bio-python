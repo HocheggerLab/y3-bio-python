{
 "cells": [
  {
   "cell_type": "markdown",
   "metadata": {},
   "source": [
    "# Assignment 1: DepMap Data Analysis - SOLUTION\n",
    "\n",
    "## Integrating Gene Expression and Dependency to Discover Therapeutic Targets\n",
    "\n",
    "We want to use depmap gene effect and expression data to investigate the gene PKMYT1.\n",
    "PKMYT1 is a cellcycle kinase that prevents premature Cdk1 activation. It has recently gained attention\n",
    "as a potnetial cancer target.\n",
    "In this project we want to find out which cancers depedn on PKMYT1,and in which cancers is PKMYT1 highly exoressed.\n",
    "We will then see how expression and dependncy are correlated and if this correclation is statistically significant.\n",
    "In the next stage of the analkysis we will find genes that show similar patterns of cdependncy and expression acrosss all cancer cell lines\n",
    "using a correlation analysis. We will check the top 100 correlated genes and investigate them further:\n",
    "How much overlap is there between expression and dependncy? What pathways is the gene collection enriched for?\n",
    "\n",
    "\n",
    "**Learning Objectives:**\n",
    "- Analyze relationships between gene expression and functional dependencies\n",
    "- Implement correlation analyses across multiple data modalities\n",
    "- Integrate multi-omic data to identify therapeutic targets\n",
    "- Create publication-quality visualizations of complex genomic data"
   ]
  },
  {
   "cell_type": "markdown",
   "metadata": {},
   "source": [
    "## Setup and Imports"
   ]
  },
  {
   "cell_type": "code",
   "execution_count": 2,
   "metadata": {},
   "outputs": [
    {
     "name": "stdout",
     "output_type": "stream",
     "text": [
      "Libraries loaded successfully!\n"
     ]
    }
   ],
   "source": [
    "import pandas as pd\n",
    "import numpy as np\n",
    "import matplotlib.pyplot as plt\n",
    "import seaborn as sns\n",
    "from scipy import stats\n",
    "from scipy.cluster import hierarchy\n",
    "import warnings\n",
    "warnings.filterwarnings('ignore')\n",
    "\n",
    "# Set plotting style\n",
    "sns.set_style('whitegrid')\n",
    "plt.rcParams['figure.figsize'] = (10, 6)\n",
    "plt.rcParams['figure.dpi'] = 100\n",
    "\n",
    "print(\"Libraries loaded successfully!\")"
   ]
  },
  {
   "cell_type": "markdown",
   "metadata": {},
   "source": [
    "---\n",
    "\n",
    "## Part 1: Data Loading and Initial Analysis (15 points)\n",
    "Initially we want to know what cancer types are most dependent on PKMYT1 and in which cancers is it most highly expressed.\n",
    "You \n",
    "### 1.1: Load Data Function"
   ]
  },
  {
   "cell_type": "code",
   "execution_count": 3,
   "metadata": {},
   "outputs": [
    {
     "name": "stdout",
     "output_type": "stream",
     "text": [
      "✓ Data loaded successfully\n",
      "  Cell lines: 1091\n",
      "  Genes: 17121\n",
      "  Cancer types: 29\n"
     ]
    }
   ],
   "source": [
    "def load_depmap_data(crispr_path, expression_path):\n",
    "    \"\"\"\n",
    "    Load DepMap CRISPR dependency and gene expression data.\n",
    "    Returns:\n",
    "    --------\n",
    "    crispr_df : pandas.DataFrame\n",
    "        CRISPR dependency scores (rows=cell lines, columns=genes)\n",
    "    expression_df : pandas.DataFrame\n",
    "        Gene expression values (rows=cell lines, columns=genes)\n",
    "    metadata : pandas.DataFrame\n",
    "        Cell line metadata (lineage, disease, etc.)\n",
    "    \"\"\"\n",
    "    # Load data\n",
    "    crispr_df = pd.read_csv(crispr_path)\n",
    "    expression_df = pd.read_csv(expression_path)\n",
    "    \n",
    "    # Define metadata columns\n",
    "    metadata_cols = ['model_id', 'cell_line_name', 'stripped_cell_line_name', \n",
    "                     'oncotree_lineage', 'oncotree_primary_disease', \n",
    "                     'oncotree_subtype', 'oncotree_code', 'ccle_name', 'depmap_model_type']\n",
    "    \n",
    "    # Extract metadata (same for both datasets)\n",
    "    metadata = crispr_df[metadata_cols].copy()\n",
    "    \n",
    "    # Get gene columns (everything after metadata)\n",
    "    gene_cols = [col for col in crispr_df.columns if col not in metadata_cols]\n",
    "    \n",
    "    # Create gene-only dataframes\n",
    "    crispr_genes = crispr_df[gene_cols]\n",
    "    expression_genes = expression_df[gene_cols]\n",
    "    \n",
    "    \n",
    "    print(\"✓ Data loaded successfully\")\n",
    "    print(f\"  Cell lines: {len(crispr_genes)}\")\n",
    "    print(f\"  Genes: {len(gene_cols)}\")\n",
    "    print(f\"  Cancer types: {metadata['oncotree_lineage'].nunique()}\")\n",
    "    \n",
    "    return crispr_genes, expression_genes, metadata\n",
    "\n",
    "# Load the data\n",
    "crispr_data, expression_data, metadata = load_depmap_data(\n",
    "    '/Users/hh65/depmap_data/matched_crispr.csv',\n",
    "    '/Users/hh65/depmap_data/matched_expression.csv'\n",
    ")"
   ]
  },
  {
   "cell_type": "markdown",
   "metadata": {},
   "source": [
    "### 1.2: Summary Statistics"
   ]
  }
 ],
 "metadata": {
  "kernelspec": {
   "display_name": ".venv",
   "language": "python",
   "name": "python3"
  },
  "language_info": {
   "codemirror_mode": {
    "name": "ipython",
    "version": 3
   },
   "file_extension": ".py",
   "mimetype": "text/x-python",
   "name": "python",
   "nbconvert_exporter": "python",
   "pygments_lexer": "ipython3",
   "version": "3.12.10"
  }
 },
 "nbformat": 4,
 "nbformat_minor": 4
}
