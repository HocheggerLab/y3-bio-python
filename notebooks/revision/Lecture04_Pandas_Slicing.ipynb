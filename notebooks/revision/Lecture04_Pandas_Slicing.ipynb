{
 "cells": [
  {
   "cell_type": "markdown",
   "id": "cell-0",
   "metadata": {},
   "source": [
    "# Lecture 4: Pandas Slicing and Selection\n",
    "## Python for Biology\n",
    "**Learning Objectives:**\n",
    "- Select single columns and multiple columns from DataFrames\n",
    "- Use `.loc[]` to select by labels (row/column names)\n",
    "- Use `.iloc[]` to select by integer positions\n",
    "- Use boolean indexing to filter rows based on conditions\n",
    "- Combine multiple conditions with `&` (and) and `|` (or)\n",
    "\n",
    "---"
   ]
  },
  {
   "cell_type": "code",
   "execution_count": null,
   "id": "cell-1",
   "metadata": {},
   "outputs": [],
   "source": [
    "import pandas as pd"
   ]
  },
  {
   "cell_type": "markdown",
   "id": "cell-2",
   "metadata": {},
   "source": [
    "## Section 1: Creating Our DataFrames\n",
    "\n",
    "We'll use two small DataFrames throughout this notebook:\n",
    "1. **genes_df** - for guided examples (genes and expression data)\n",
    "2. **proteins_df** - for practice exercises (protein properties)"
   ]
  },
  {
   "cell_type": "markdown",
   "id": "cell-3",
   "metadata": {},
   "source": [
    "### Demonstration DataFrame: Genes"
   ]
  },
  {
   "cell_type": "code",
   "execution_count": null,
   "id": "cell-4",
   "metadata": {},
   "outputs": [],
   "source": [
    "# Create a small gene expression dataset for demonstrations\n",
    "genes_df = pd.DataFrame({\n",
    "    'gene_name': ['BRCA1', 'TP53', 'MYC', 'EGFR', 'KRAS'],\n",
    "    'chromosome': ['17', '17', '8', '7', '12'],\n",
    "    'expression': [4.5, 6.2, 3.8, 5.1, 7.3],\n",
    "    'length': [1863, 1182, 1320, 3633, 567],\n",
    "    'oncogene': [False, False, True, True, True]\n",
    "})\n",
    "\n",
    "print(\"Demonstration DataFrame: genes_df\")\n",
    "genes_df"
   ]
  },
  {
   "cell_type": "markdown",
   "id": "cell-5",
   "metadata": {},
   "source": [
    "### Practice DataFrame: Proteins"
   ]
  },
  {
   "cell_type": "code",
   "execution_count": null,
   "id": "cell-6",
   "metadata": {},
   "outputs": [],
   "source": [
    "# Create a small protein dataset for practice exercises\n",
    "proteins_df = pd.DataFrame({\n",
    "    'protein_name': ['Insulin', 'Hemoglobin', 'Actin', 'Collagen', 'Albumin', 'Myosin'],\n",
    "    'molecular_weight': [5.8, 64.5, 42.0, 300.0, 66.5, 520.0],\n",
    "    'num_amino_acids': [51, 574, 375, 1050, 585, 1938],\n",
    "    'location': ['Secreted', 'Cytoplasm', 'Cytoskeleton', 'Extracellular', 'Secreted', 'Cytoskeleton'],\n",
    "    'structural': [False, False, True, True, False, True]\n",
    "})\n",
    "\n",
    "print(\"Practice DataFrame: proteins_df\")\n",
    "proteins_df"
   ]
  },
  {
   "cell_type": "markdown",
   "id": "cell-7",
   "metadata": {},
   "source": [
    "**What these DataFrames contain:**\n",
    "- Each **row** represents one gene/protein\n",
    "- Each **column** represents a property\n",
    "- **Index** (row numbers) are automatically 0, 1, 2, 3, 4..."
   ]
  },
  {
   "cell_type": "markdown",
   "id": "cell-8",
   "metadata": {},
   "source": [
    "---\n",
    "\n",
    "## Section 2: Selecting Columns\n",
    "\n",
    "### Guided Example 2.1: Select a single column\n",
    "\n",
    "To get one column, use square brackets with the column name:"
   ]
  },
  {
   "cell_type": "code",
   "execution_count": null,
   "id": "cell-9",
   "metadata": {},
   "outputs": [],
   "source": [
    "# Get just the gene names\n",
    "gene_names = genes_df['gene_name']\n",
    "print(\"Gene names:\")\n",
    "print(gene_names)\n",
    "print(f\"\\nType: {type(gene_names)}\")  # This is a Series!"
   ]
  },
  {
   "cell_type": "markdown",
   "id": "cell-10",
   "metadata": {},
   "source": [
    "**What happened:**\n",
    "- `genes_df['gene_name']` selects the 'gene_name' column\n",
    "- Returns a **Series** (a single column)\n",
    "- Series is like a list with an index"
   ]
  },
  {
   "cell_type": "markdown",
   "id": "cell-11",
   "metadata": {},
   "source": [
    "### Practice Example 2.1: Select a single column\n",
    "\n",
    "Select the `molecular_weight` column from proteins_df"
   ]
  },
  {
   "cell_type": "code",
   "execution_count": null,
   "id": "cell-12",
   "metadata": {},
   "outputs": [],
   "source": [
    "# YOUR CODE HERE: Select the molecular_weight column\n",
    "\n",
    "\n",
    "# Should show: 5.8, 64.5, 42.0, 300.0, 66.5, 520.0"
   ]
  },
  {
   "cell_type": "markdown",
   "id": "cell-13",
   "metadata": {},
   "source": [
    "### Guided Example 2.2: Select multiple columns\n",
    "\n",
    "To get multiple columns, use a **list** of column names:"
   ]
  },
  {
   "cell_type": "code",
   "execution_count": null,
   "id": "cell-14",
   "metadata": {},
   "outputs": [],
   "source": [
    "# Get gene name and expression level\n",
    "subset = genes_df[['gene_name', 'expression']]\n",
    "print(\"Gene names and expression:\")\n",
    "print(subset)\n",
    "print(f\"\\nType: {type(subset)}\")  # This is a DataFrame!"
   ]
  },
  {
   "cell_type": "markdown",
   "id": "cell-15",
   "metadata": {},
   "source": [
    "**What happened:**\n",
    "- `genes_df[['gene_name', 'expression']]` - note the **double square brackets**!\n",
    "- Outer brackets = \"select from DataFrame\"\n",
    "- Inner brackets = the list of columns we want\n",
    "- Returns a **DataFrame** (multiple columns)"
   ]
  },
  {
   "cell_type": "markdown",
   "id": "cell-16",
   "metadata": {},
   "source": [
    "### Practice Example 2.2: Select multiple columns\n",
    "\n",
    "Select `protein_name`, `molecular_weight`, and `location` from proteins_df"
   ]
  },
  {
   "cell_type": "code",
   "execution_count": null,
   "id": "cell-17",
   "metadata": {},
   "outputs": [],
   "source": [
    "# YOUR CODE HERE: Select the three columns\n",
    "# Remember: use double square brackets!\n",
    "\n",
    "\n",
    "# Should show just those 3 columns"
   ]
  },
  {
   "cell_type": "markdown",
   "id": "cell-18",
   "metadata": {},
   "source": [
    "---\n",
    "\n",
    "## Section 3: Using .loc[] - Label-based Selection\n",
    "\n",
    "`.loc[]` lets you select rows and columns by their **names/labels**.\n",
    "\n",
    "**Syntax:** `df.loc[row_selection, column_selection]`"
   ]
  },
  {
   "cell_type": "markdown",
   "id": "cell-19",
   "metadata": {},
   "source": [
    "### Guided Example 3.1: Select a single row with .loc\n",
    "\n",
    "Select one row by its index:"
   ]
  },
  {
   "cell_type": "code",
   "execution_count": null,
   "id": "cell-20",
   "metadata": {},
   "outputs": [],
   "source": [
    "# Get the row at index 0 (BRCA1)\n",
    "row = genes_df.loc[0]\n",
    "print(\"First row (index 0):\")\n",
    "print(row)\n",
    "print(f\"\\nType: {type(row)}\")  # Series"
   ]
  },
  {
   "cell_type": "markdown",
   "id": "cell-21",
   "metadata": {},
   "source": [
    "**What happened:**\n",
    "- `genes_df.loc[0]` selects the row with index label 0\n",
    "- Returns a Series with column names as the index\n",
    "- We can access specific values: `row['gene_name']` would give 'BRCA1'"
   ]
  },
  {
   "cell_type": "markdown",
   "id": "cell-22",
   "metadata": {},
   "source": [
    "### Practice Example 3.1: Select a single row\n",
    "\n",
    "Select the row at index 2 from proteins_df (should be Actin)"
   ]
  },
  {
   "cell_type": "code",
   "execution_count": null,
   "id": "cell-23",
   "metadata": {},
   "outputs": [],
   "source": [
    "# YOUR CODE HERE: Use .loc to select row at index 2\n",
    "\n",
    "\n",
    "# Should show Actin with all its properties"
   ]
  },
  {
   "cell_type": "markdown",
   "id": "cell-24",
   "metadata": {},
   "source": [
    "### Guided Example 3.2: Select multiple rows with .loc\n",
    "\n",
    "Select multiple rows using a list of indices:"
   ]
  },
  {
   "cell_type": "code",
   "execution_count": null,
   "id": "cell-25",
   "metadata": {},
   "outputs": [],
   "source": [
    "# Get rows at indices 0, 2, and 4\n",
    "rows = genes_df.loc[[0, 2, 4]]\n",
    "print(\"Selected rows:\")\n",
    "print(rows)"
   ]
  },
  {
   "cell_type": "markdown",
   "id": "cell-26",
   "metadata": {},
   "source": [
    "**What happened:**\n",
    "- `genes_df.loc[[0, 2, 4]]` selects rows 0, 2, and 4\n",
    "- Returns a DataFrame with those rows\n",
    "- Note the list inside .loc[]"
   ]
  },
  {
   "cell_type": "markdown",
   "id": "cell-27",
   "metadata": {},
   "source": [
    "### Practice Example 3.2: Select multiple rows\n",
    "\n",
    "Select rows at indices 1, 3, and 5 from proteins_df"
   ]
  },
  {
   "cell_type": "code",
   "execution_count": null,
   "id": "cell-28",
   "metadata": {},
   "outputs": [],
   "source": [
    "# YOUR CODE HERE: Select multiple rows\n",
    "\n",
    "\n",
    "# Should show Hemoglobin, Collagen, and Myosin"
   ]
  },
  {
   "cell_type": "markdown",
   "id": "cell-29",
   "metadata": {},
   "source": [
    "### Guided Example 3.3: Select rows AND columns with .loc\n",
    "\n",
    "The real power of .loc: select specific rows AND specific columns!"
   ]
  },
  {
   "cell_type": "code",
   "execution_count": null,
   "id": "cell-30",
   "metadata": {},
   "outputs": [],
   "source": [
    "# Get gene_name and expression for rows 1, 2, 3\n",
    "subset = genes_df.loc[[1, 2, 3], ['gene_name', 'expression']]\n",
    "print(\"Selected rows and columns:\")\n",
    "print(subset)"
   ]
  },
  {
   "cell_type": "markdown",
   "id": "cell-31",
   "metadata": {},
   "source": [
    "**Syntax breakdown:**\n",
    "- `genes_df.loc[rows, columns]`\n",
    "- `[1, 2, 3]` = which rows (before the comma)\n",
    "- `['gene_name', 'expression']` = which columns (after the comma)\n",
    "- Returns a DataFrame with the intersection"
   ]
  },
  {
   "cell_type": "markdown",
   "id": "cell-32",
   "metadata": {},
   "source": [
    "### Practice Example 3.3: Select rows and columns\n",
    "\n",
    "From proteins_df, select:\n",
    "- Rows: 0, 2, 4\n",
    "- Columns: 'protein_name', 'molecular_weight', 'structural'"
   ]
  },
  {
   "cell_type": "code",
   "execution_count": null,
   "id": "cell-33",
   "metadata": {},
   "outputs": [],
   "source": [
    "# YOUR CODE HERE: Select specific rows and columns\n",
    "\n",
    "\n",
    "# Should show Insulin, Actin, and Albumin with those 3 properties"
   ]
  },
  {
   "cell_type": "markdown",
   "id": "cell-34",
   "metadata": {},
   "source": [
    "### Guided Example 3.4: Using slices with .loc\n",
    "\n",
    "You can use slices to select ranges (inclusive on both ends!):"
   ]
  },
  {
   "cell_type": "code",
   "execution_count": null,
   "id": "cell-35",
   "metadata": {},
   "outputs": [],
   "source": [
    "# Get rows 1 through 3 (inclusive!)\n",
    "rows = genes_df.loc[1:3]\n",
    "print(\"Rows 1 to 3:\")\n",
    "print(rows)"
   ]
  },
  {
   "cell_type": "markdown",
   "id": "cell-36",
   "metadata": {},
   "source": [
    "**Important:** \n",
    "- `.loc[1:3]` includes BOTH 1 and 3 (unlike normal Python slicing!)\n",
    "- With .loc, slices are **inclusive** on both ends"
   ]
  },
  {
   "cell_type": "markdown",
   "id": "cell-37",
   "metadata": {},
   "source": [
    "### Practice Example 3.4: Use slice with .loc\n",
    "\n",
    "Select rows 2 through 4 (inclusive) from proteins_df"
   ]
  },
  {
   "cell_type": "code",
   "execution_count": null,
   "id": "cell-38",
   "metadata": {},
   "outputs": [],
   "source": [
    "# YOUR CODE HERE: Use a slice with .loc\n",
    "\n",
    "\n",
    "# Should show Actin, Collagen, and Albumin"
   ]
  },
  {
   "cell_type": "markdown",
   "id": "cell-39",
   "metadata": {},
   "source": [
    "---\n",
    "\n",
    "## Section 4: Using .iloc[] - Position-based Selection\n",
    "\n",
    "`.iloc[]` selects by **integer positions** (like list indexing).\n",
    "\n",
    "**Syntax:** `df.iloc[row_positions, column_positions]`"
   ]
  },
  {
   "cell_type": "markdown",
   "id": "cell-40",
   "metadata": {},
   "source": [
    "### Guided Example 4.1: Select by position with .iloc\n",
    "\n",
    "Get specific rows and columns by their position numbers:"
   ]
  },
  {
   "cell_type": "code",
   "execution_count": null,
   "id": "cell-41",
   "metadata": {},
   "outputs": [],
   "source": [
    "# Get the first row, first two columns\n",
    "subset = genes_df.iloc[0, 0:2]\n",
    "print(\"First row, first two columns:\")\n",
    "print(subset)"
   ]
  },
  {
   "cell_type": "markdown",
   "id": "cell-42",
   "metadata": {},
   "source": [
    "**What happened:**\n",
    "- `genes_df.iloc[0, 0:2]`\n",
    "- `0` = first row (position 0)\n",
    "- `0:2` = columns at positions 0 and 1 (excludes 2, like normal Python slicing!)\n",
    "- With .iloc, slices are **exclusive** on the right end"
   ]
  },
  {
   "cell_type": "markdown",
   "id": "cell-43",
   "metadata": {},
   "source": [
    "### Guided Example 4.2: Multiple rows and columns with .iloc"
   ]
  },
  {
   "cell_type": "code",
   "execution_count": null,
   "id": "cell-44",
   "metadata": {},
   "outputs": [],
   "source": [
    "# Get first 3 rows, columns 0 and 2\n",
    "subset = genes_df.iloc[0:3, [0, 2]]\n",
    "print(\"First 3 rows, columns 0 and 2:\")\n",
    "print(subset)"
   ]
  },
  {
   "cell_type": "markdown",
   "id": "cell-45",
   "metadata": {},
   "source": [
    "**Key points:**\n",
    "- `0:3` = rows 0, 1, 2 (excludes 3)\n",
    "- `[0, 2]` = columns at positions 0 and 2\n",
    "- All position-based, no column names needed!"
   ]
  },
  {
   "cell_type": "markdown",
   "id": "cell-46",
   "metadata": {},
   "source": [
    "### Practice Example 4.1: Use .iloc with positions\n",
    "\n",
    "From proteins_df, select:\n",
    "- Rows: positions 1, 3, 5 (use a list)\n",
    "- Columns: positions 0 and 1"
   ]
  },
  {
   "cell_type": "code",
   "execution_count": null,
   "id": "cell-47",
   "metadata": {},
   "outputs": [],
   "source": [
    "# YOUR CODE HERE: Use .iloc with specific positions\n",
    "\n",
    "\n",
    "# Should show protein names and molecular weights for Hemoglobin, Collagen, and Myosin"
   ]
  },
  {
   "cell_type": "markdown",
   "id": "cell-48",
   "metadata": {},
   "source": [
    "### Guided Example 4.3: .loc vs .iloc - Key Differences"
   ]
  },
  {
   "cell_type": "code",
   "execution_count": null,
   "id": "cell-49",
   "metadata": {},
   "outputs": [],
   "source": [
    "print(\"Using .loc[1:3]:\")\n",
    "print(genes_df.loc[1:3])  # Includes both 1 AND 3\n",
    "\n",
    "print(\"\\nUsing .iloc[1:3]:\")\n",
    "print(genes_df.iloc[1:3])  # Includes 1 but EXCLUDES 3"
   ]
  },
  {
   "cell_type": "markdown",
   "id": "cell-50",
   "metadata": {},
   "source": [
    "**Summary: .loc vs .iloc**\n",
    "\n",
    "| Feature | .loc | .iloc |\n",
    "|---------|------|-------|\n",
    "| Uses | **Labels** (names/index) | **Positions** (integers) |\n",
    "| Columns | Use column names | Use column positions |\n",
    "| Slicing | **Inclusive** on both ends | **Exclusive** on right end |\n",
    "| Example | `df.loc[1:3, 'gene_name']` | `df.iloc[1:3, 0]` |\n",
    "\n",
    "**When to use which:**\n",
    "- Use `.loc` when you know column/row **names**\n",
    "- Use `.iloc` when you want rows/columns by **position**"
   ]
  },
  {
   "cell_type": "markdown",
   "id": "cell-51",
   "metadata": {},
   "source": [
    "### Practice Example 4.2: Compare .loc and .iloc\n",
    "\n",
    "Use both methods to select the same data from proteins_df:\n",
    "- First 4 rows\n",
    "- 'protein_name' and 'location' columns\n",
    "\n",
    "Try it with .loc first, then with .iloc"
   ]
  },
  {
   "cell_type": "code",
   "execution_count": null,
   "id": "cell-52",
   "metadata": {},
   "outputs": [],
   "source": [
    "# YOUR CODE HERE: Use .loc\n",
    "print(\"Using .loc:\")\n",
    "\n",
    "\n",
    "# YOUR CODE HERE: Use .iloc\n",
    "print(\"\\nUsing .iloc:\")\n",
    "\n",
    "\n",
    "# Both should give the same result!"
   ]
  },
  {
   "cell_type": "markdown",
   "id": "cell-53",
   "metadata": {},
   "source": [
    "---\n",
    "\n",
    "## Section 5: Boolean Indexing - Filtering with Conditions\n",
    "\n",
    "**Boolean indexing** lets you filter rows based on conditions. This is one of the most powerful features of pandas!"
   ]
  },
  {
   "cell_type": "markdown",
   "id": "cell-54",
   "metadata": {},
   "source": [
    "### Guided Example 5.1: Creating a boolean mask\n",
    "\n",
    "First, let's understand what a boolean mask is:"
   ]
  },
  {
   "cell_type": "code",
   "execution_count": null,
   "id": "cell-55",
   "metadata": {},
   "outputs": [],
   "source": [
    "# Create a condition: expression > 5\n",
    "mask = genes_df['expression'] > 5\n",
    "\n",
    "print(\"Original expression values:\")\n",
    "print(genes_df['expression'])\n",
    "\n",
    "print(\"\\nBoolean mask (expression > 5):\")\n",
    "print(mask)"
   ]
  },
  {
   "cell_type": "markdown",
   "id": "cell-56",
   "metadata": {},
   "source": [
    "**What happened:**\n",
    "- `genes_df['expression'] > 5` creates a Series of True/False values\n",
    "- True where the condition is met, False otherwise\n",
    "- This is called a **boolean mask**"
   ]
  },
  {
   "cell_type": "markdown",
   "id": "cell-57",
   "metadata": {},
   "source": [
    "### Guided Example 5.2: Using the mask to filter\n",
    "\n",
    "Now use the mask to select only rows where the condition is True:"
   ]
  },
  {
   "cell_type": "code",
   "execution_count": null,
   "id": "cell-58",
   "metadata": {},
   "outputs": [],
   "source": [
    "# Use the mask to filter the DataFrame\n",
    "high_expression = genes_df[mask]\n",
    "\n",
    "print(\"Genes with expression > 5:\")\n",
    "print(high_expression)"
   ]
  },
  {
   "cell_type": "markdown",
   "id": "cell-59",
   "metadata": {},
   "source": [
    "**What happened:**\n",
    "- `genes_df[mask]` keeps only rows where mask is True\n",
    "- TP53 and KRAS have expression > 5, so they're selected\n",
    "- This is **filtering** the DataFrame"
   ]
  },
  {
   "cell_type": "markdown",
   "id": "cell-60",
   "metadata": {},
   "source": [
    "### Guided Example 5.3: Filter in one step\n",
    "\n",
    "Usually, we combine creating the mask and filtering into one step:"
   ]
  },
  {
   "cell_type": "code",
   "execution_count": null,
   "id": "cell-61",
   "metadata": {},
   "outputs": [],
   "source": [
    "# Filter for genes with expression > 5 (in one step)\n",
    "high_expression = genes_df[genes_df['expression'] > 5]\n",
    "\n",
    "print(\"Genes with high expression:\")\n",
    "print(high_expression)"
   ]
  },
  {
   "cell_type": "markdown",
   "id": "cell-62",
   "metadata": {},
   "source": [
    "**This is the standard way:**\n",
    "- `genes_df[genes_df['expression'] > 5]`\n",
    "- Inner part creates the mask\n",
    "- Outer part uses it to filter\n",
    "- Same result, less code!"
   ]
  },
  {
   "cell_type": "markdown",
   "id": "cell-63",
   "metadata": {},
   "source": [
    "### Practice Example 5.1: Simple boolean filtering\n",
    "\n",
    "Filter proteins_df to show only proteins with molecular_weight > 100"
   ]
  },
  {
   "cell_type": "code",
   "execution_count": null,
   "id": "cell-64",
   "metadata": {},
   "outputs": [],
   "source": [
    "# YOUR CODE HERE: Filter for molecular_weight > 100\n",
    "\n",
    "\n",
    "# Should show Collagen and Myosin"
   ]
  },
  {
   "cell_type": "markdown",
   "id": "cell-65",
   "metadata": {},
   "source": [
    "### Guided Example 5.4: Different comparison operators\n",
    "\n",
    "You can use many different comparisons:"
   ]
  },
  {
   "cell_type": "code",
   "execution_count": null,
   "id": "cell-66",
   "metadata": {},
   "outputs": [],
   "source": [
    "# Equal to\n",
    "print(\"Genes on chromosome 17:\")\n",
    "print(genes_df[genes_df['chromosome'] == '17'])\n",
    "\n",
    "print(\"\\nGenes with length <= 1500:\")\n",
    "print(genes_df[genes_df['length'] <= 1500])\n",
    "\n",
    "print(\"\\nGenes that are oncogenes:\")\n",
    "print(genes_df[genes_df['oncogene'] == True])"
   ]
  },
  {
   "cell_type": "markdown",
   "id": "cell-67",
   "metadata": {},
   "source": [
    "**Comparison operators:**\n",
    "- `==` equal to\n",
    "- `!=` not equal to\n",
    "- `>` greater than\n",
    "- `<` less than\n",
    "- `>=` greater than or equal\n",
    "- `<=` less than or equal"
   ]
  },
  {
   "cell_type": "markdown",
   "id": "cell-68",
   "metadata": {},
   "source": [
    "### Practice Example 5.2: Different comparisons\n",
    "\n",
    "From proteins_df:\n",
    "1. Find proteins located in 'Cytoplasm'\n",
    "2. Find proteins with num_amino_acids < 600\n",
    "3. Find structural proteins (structural == True)"
   ]
  },
  {
   "cell_type": "code",
   "execution_count": null,
   "id": "cell-69",
   "metadata": {},
   "outputs": [],
   "source": [
    "# YOUR CODE HERE: Proteins in Cytoplasm\n",
    "print(\"Proteins in Cytoplasm:\")\n",
    "\n",
    "\n",
    "# YOUR CODE HERE: Proteins with < 600 amino acids\n",
    "print(\"\\nProteins with < 600 amino acids:\")\n",
    "\n",
    "\n",
    "# YOUR CODE HERE: Structural proteins\n",
    "print(\"\\nStructural proteins:\")\n"
   ]
  },
  {
   "cell_type": "markdown",
   "id": "cell-70",
   "metadata": {},
   "source": [
    "---\n",
    "\n",
    "## Section 6: Combining Conditions\n",
    "\n",
    "### Guided Example 6.1: AND conditions with &\n",
    "\n",
    "Use `&` to combine conditions (both must be True):"
   ]
  },
  {
   "cell_type": "code",
   "execution_count": null,
   "id": "cell-71",
   "metadata": {},
   "outputs": [],
   "source": [
    "# Find oncogenes with high expression (> 5)\n",
    "result = genes_df[(genes_df['oncogene'] == True) & (genes_df['expression'] > 5)]\n",
    "\n",
    "print(\"Oncogenes with expression > 5:\")\n",
    "print(result)"
   ]
  },
  {
   "cell_type": "markdown",
   "id": "cell-72",
   "metadata": {},
   "source": [
    "**Important syntax:**\n",
    "- `&` means AND (both conditions must be True)\n",
    "- **Must use parentheses** around each condition!\n",
    "- `(condition1) & (condition2)`\n",
    "- Without parentheses, you'll get an error!"
   ]
  },
  {
   "cell_type": "markdown",
   "id": "cell-73",
   "metadata": {},
   "source": [
    "### Practice Example 6.1: Combine conditions with AND\n",
    "\n",
    "Find proteins that are:\n",
    "- Secreted AND\n",
    "- Have molecular_weight > 50"
   ]
  },
  {
   "cell_type": "code",
   "execution_count": null,
   "id": "cell-74",
   "metadata": {},
   "outputs": [],
   "source": [
    "# YOUR CODE HERE: Filter with two conditions using &\n",
    "# Remember: use parentheses around each condition!\n",
    "\n",
    "\n",
    "# Should show Albumin"
   ]
  },
  {
   "cell_type": "markdown",
   "id": "cell-75",
   "metadata": {},
   "source": [
    "### Guided Example 6.2: OR conditions with |\n",
    "\n",
    "Use `|` for OR (either condition can be True):"
   ]
  },
  {
   "cell_type": "code",
   "execution_count": null,
   "id": "cell-76",
   "metadata": {},
   "outputs": [],
   "source": [
    "# Find genes on chromosome 17 OR chromosome 8\n",
    "result = genes_df[(genes_df['chromosome'] == '17') | (genes_df['chromosome'] == '8')]\n",
    "\n",
    "print(\"Genes on chromosome 17 or 8:\")\n",
    "print(result)"
   ]
  },
  {
   "cell_type": "markdown",
   "id": "cell-77",
   "metadata": {},
   "source": [
    "**Important:**\n",
    "- `|` means OR (either or both conditions can be True)\n",
    "- Still need parentheses around each condition!\n",
    "- `(condition1) | (condition2)`"
   ]
  },
  {
   "cell_type": "markdown",
   "id": "cell-78",
   "metadata": {},
   "source": [
    "### Practice Example 6.2: Combine conditions with OR\n",
    "\n",
    "Find proteins that are located in:\n",
    "- 'Cytoskeleton' OR 'Extracellular'"
   ]
  },
  {
   "cell_type": "code",
   "execution_count": null,
   "id": "cell-79",
   "metadata": {},
   "outputs": [],
   "source": [
    "# YOUR CODE HERE: Filter with OR condition\n",
    "\n",
    "\n",
    "# Should show Actin, Collagen, and Myosin"
   ]
  },
  {
   "cell_type": "markdown",
   "id": "cell-80",
   "metadata": {},
   "source": [
    "### Guided Example 6.3: Complex conditions\n",
    "\n",
    "You can combine AND and OR:"
   ]
  },
  {
   "cell_type": "code",
   "execution_count": null,
   "id": "cell-81",
   "metadata": {},
   "outputs": [],
   "source": [
    "# Find genes that are:\n",
    "# (oncogenes with expression > 4) OR (on chromosome 17 with length > 1500)\n",
    "result = genes_df[\n",
    "    ((genes_df['oncogene'] == True) & (genes_df['expression'] > 4)) |\n",
    "    ((genes_df['chromosome'] == '17') & (genes_df['length'] > 1500))\n",
    "]\n",
    "\n",
    "print(\"Complex filter:\")\n",
    "print(result)"
   ]
  },
  {
   "cell_type": "markdown",
   "id": "cell-82",
   "metadata": {},
   "source": [
    "**Breaking it down:**\n",
    "- First part: `(oncogene == True) & (expression > 4)` → MYC, EGFR, KRAS\n",
    "- Second part: `(chromosome == '17') & (length > 1500)` → BRCA1\n",
    "- Combined with OR: gets rows matching either condition\n",
    "- Use extra parentheses to group conditions clearly!"
   ]
  },
  {
   "cell_type": "markdown",
   "id": "cell-83",
   "metadata": {},
   "source": [
    "### Practice Example 6.3: Complex filtering\n",
    "\n",
    "Find proteins that meet ANY of these criteria:\n",
    "- (molecular_weight > 500) OR\n",
    "- (structural == True AND num_amino_acids < 400)"
   ]
  },
  {
   "cell_type": "code",
   "execution_count": null,
   "id": "cell-84",
   "metadata": {},
   "outputs": [],
   "source": [
    "# YOUR CODE HERE: Complex filter with AND and OR\n",
    "# Use extra parentheses to group conditions!\n",
    "\n",
    "\n",
    "# Should show Actin and Myosin"
   ]
  },
  {
   "cell_type": "markdown",
   "id": "cell-85",
   "metadata": {},
   "source": [
    "### Guided Example 6.4: Using .isin() for multiple values\n",
    "\n",
    "When checking if a column matches multiple values, use `.isin()`:"
   ]
  },
  {
   "cell_type": "code",
   "execution_count": null,
   "id": "cell-86",
   "metadata": {},
   "outputs": [],
   "source": [
    "# Find genes on chromosomes 7, 8, or 12\n",
    "# Instead of: (chr=='7') | (chr=='8') | (chr=='12')\n",
    "result = genes_df[genes_df['chromosome'].isin(['7', '8', '12'])]\n",
    "\n",
    "print(\"Genes on chromosomes 7, 8, or 12:\")\n",
    "print(result)"
   ]
  },
  {
   "cell_type": "markdown",
   "id": "cell-87",
   "metadata": {},
   "source": [
    "**Why .isin() is useful:**\n",
    "- Much cleaner than multiple OR conditions\n",
    "- `.isin([list, of, values])` checks if column value is in the list\n",
    "- Perfect for \"belongs to this group\" filters"
   ]
  },
  {
   "cell_type": "markdown",
   "id": "cell-88",
   "metadata": {},
   "source": [
    "### Practice Example 6.4: Use .isin()\n",
    "\n",
    "Find proteins located in any of these locations:\n",
    "- 'Cytoplasm', 'Cytoskeleton', or 'Secreted'"
   ]
  },
  {
   "cell_type": "code",
   "execution_count": null,
   "id": "cell-89",
   "metadata": {},
   "outputs": [],
   "source": [
    "# YOUR CODE HERE: Use .isin() to filter\n",
    "\n",
    "\n",
    "# Should show all except Collagen"
   ]
  },
  {
   "cell_type": "markdown",
   "id": "cell-90",
   "metadata": {},
   "source": [
    "---\n",
    "\n",
    "## Section 7: Practical Applications\n",
    "\n",
    "### Challenge 1: Multi-step filtering\n",
    "\n",
    "From genes_df:\n",
    "1. Filter for oncogenes only\n",
    "2. From those, select only gene_name and expression columns\n",
    "3. Sort by expression (highest first)\n",
    "\n",
    "**Hint:** Chain operations together!"
   ]
  },
  {
   "cell_type": "code",
   "execution_count": null,
   "id": "cell-91",
   "metadata": {},
   "outputs": [],
   "source": [
    "# YOUR CODE HERE\n",
    "\n",
    "\n",
    "# Should show MYC, EGFR, KRAS with their expression, sorted"
   ]
  },
  {
   "cell_type": "markdown",
   "id": "cell-92",
   "metadata": {},
   "source": [
    "### Challenge 2: Statistics on filtered data\n",
    "\n",
    "From proteins_df:\n",
    "1. Filter for structural proteins only\n",
    "2. Calculate the mean molecular_weight of structural proteins\n",
    "3. Calculate the max num_amino_acids of structural proteins"
   ]
  },
  {
   "cell_type": "code",
   "execution_count": null,
   "id": "cell-93",
   "metadata": {},
   "outputs": [],
   "source": [
    "# YOUR CODE HERE\n",
    "\n",
    "\n",
    "# Print the statistics"
   ]
  },
  {
   "cell_type": "markdown",
   "id": "cell-94",
   "metadata": {},
   "source": [
    "### Challenge 3: Create a subset DataFrame\n",
    "\n",
    "From proteins_df, create a new DataFrame called `small_proteins` that contains:\n",
    "- Only proteins with molecular_weight < 100\n",
    "- Only these columns: 'protein_name', 'molecular_weight', 'num_amino_acids'\n",
    "- Sorted by molecular_weight (smallest first)"
   ]
  },
  {
   "cell_type": "code",
   "execution_count": null,
   "id": "cell-95",
   "metadata": {},
   "outputs": [],
   "source": [
    "# YOUR CODE HERE: Create small_proteins\n",
    "\n",
    "\n",
    "# Display the result"
   ]
  },
  {
   "cell_type": "markdown",
   "id": "cell-96",
   "metadata": {},
   "source": [
    "---\n",
    "\n",
    "## Summary\n",
    "\n",
    "Congratulations! You've mastered pandas slicing and selection!\n",
    "\n",
    "**Column selection:**\n",
    "- ✅ Single column: `df['column']` → Series\n",
    "- ✅ Multiple columns: `df[['col1', 'col2']]` → DataFrame\n",
    "\n",
    "**Label-based selection (.loc):**\n",
    "- ✅ Select by labels/names\n",
    "- ✅ Syntax: `df.loc[rows, columns]`\n",
    "- ✅ Slices are **inclusive** on both ends\n",
    "- ✅ Example: `df.loc[1:3, 'gene_name']`\n",
    "\n",
    "**Position-based selection (.iloc):**\n",
    "- ✅ Select by integer positions\n",
    "- ✅ Syntax: `df.iloc[row_positions, col_positions]`\n",
    "- ✅ Slices are **exclusive** on right end\n",
    "- ✅ Example: `df.iloc[1:3, 0]`\n",
    "\n",
    "**Boolean indexing:**\n",
    "- ✅ Filter with conditions: `df[df['col'] > 5]`\n",
    "- ✅ Combine with AND: `(condition1) & (condition2)`\n",
    "- ✅ Combine with OR: `(condition1) | (condition2)`\n",
    "- ✅ Multiple values: `df[df['col'].isin([val1, val2])]`\n",
    "\n",
    "**Key differences:**\n",
    "\n",
    "| Operation | Use when... | Example |\n",
    "|-----------|-------------|----------|\n",
    "| `df['col']` | Getting one column | `df['gene_name']` |\n",
    "| `.loc[]` | Using labels/names | `df.loc[0:3, 'expression']` |\n",
    "| `.iloc[]` | Using positions | `df.iloc[0:3, 2]` |\n",
    "| Boolean | Filtering rows | `df[df['expr'] > 5]` |\n",
    "\n",
    "**Common mistakes to avoid:**\n",
    "- ⚠️ Forgetting inner brackets: `df[['col1', 'col2']]` not `df['col1', 'col2']`\n",
    "- ⚠️ Mixing .loc and .iloc\n",
    "- ⚠️ Forgetting parentheses in boolean: `(cond1) & (cond2)`\n",
    "- ⚠️ Using `and`/`or` instead of `&`/`|` in boolean indexing\n",
    "\n",
    "**Next steps:**\n",
    "- Practice with real biological datasets\n",
    "- Combine filtering with groupby and aggregation\n",
    "- Learn about setting values in DataFrames\n",
    "\n",
    "You're now ready to slice and filter data like a pro! 🔬📊"
   ]
  }
 ],
 "metadata": {
  "kernelspec": {
   "display_name": "Python 3",
   "language": "python",
   "name": "python3"
  },
  "language_info": {
   "codemirror_mode": {
    "name": "ipython",
    "version": 3
   },
   "file_extension": ".py",
   "mimetype": "text/x-python",
   "name": "python",
   "nbconvert_exporter": "python",
   "pygments_lexer": "ipython3",
   "version": "3.8.0"
  }
 },
 "nbformat": 4,
 "nbformat_minor": 5
}
