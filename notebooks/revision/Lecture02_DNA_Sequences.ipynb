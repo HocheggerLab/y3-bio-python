{
 "cells": [
  {
   "cell_type": "markdown",
   "metadata": {},
   "source": [
    "# Lecture 2: Working with DNA Sequences\n",
    "## Python for Biology\n",
    "**Learning Objectives:**\n",
    "- Iterate through DNA sequences (strings)\n",
    "- Count and find specific nucleotides\n",
    "- Search for patterns in DNA\n",
    "- Extract and transform DNA sequences\n",
    "- Work with codons and reading frames\n",
    "\n",
    "---"
   ]
  },
  {
   "cell_type": "markdown",
   "metadata": {},
   "source": [
    "## Section 1: Iterating Through DNA Sequences\n",
    "\n",
    "### Guided Example 1.1: Printing each nucleotide\n",
    "\n",
    "DNA sequences are stored as strings. We can loop through them just like lists!"
   ]
  },
  {
   "cell_type": "code",
   "execution_count": null,
   "metadata": {},
   "outputs": [],
   "source": [
    "# A simple DNA sequence\n",
    "dna = \"ATCG\"\n",
    "\n",
    "print(\"Nucleotides in the sequence:\")\n",
    "for nucleotide in dna:\n",
    "    print(nucleotide)"
   ]
  },
  {
   "cell_type": "markdown",
   "metadata": {},
   "source": [
    "**What's happening here?**\n",
    "- DNA sequences are strings (text)\n",
    "- We can loop through strings just like lists\n",
    "- Each character (nucleotide) is processed one at a time\n",
    "- `nucleotide` holds one letter each time through the loop"
   ]
  },
  {
   "cell_type": "markdown",
   "metadata": {},
   "source": [
    "### Practice Example 1.1: Print nucleotides\n",
    "\n",
    "Print each nucleotide in the sequence below, one per line"
   ]
  },
  {
   "cell_type": "code",
   "execution_count": null,
   "metadata": {},
   "outputs": [],
   "source": [
    "dna = \"GCTA\"\n",
    "\n",
    "# YOUR CODE HERE: print each nucleotide"
   ]
  },
  {
   "cell_type": "markdown",
   "metadata": {},
   "source": [
    "### Guided Example 1.2: Counting total nucleotides\n",
    "\n",
    "Let's count how many nucleotides are in a sequence"
   ]
  },
  {
   "cell_type": "code",
   "execution_count": null,
   "metadata": {},
   "outputs": [],
   "source": [
    "dna = \"ATCGATCG\"\n",
    "\n",
    "count = 0\n",
    "for nucleotide in dna:\n",
    "    count += 1\n",
    "\n",
    "print(f\"The sequence has {count} nucleotides\")\n",
    "\n",
    "# Note: We could also use len(dna) for this!\n",
    "print(f\"Using len(): {len(dna)} nucleotides\")"
   ]
  },
  {
   "cell_type": "markdown",
   "metadata": {},
   "source": [
    "**What's new here?**\n",
    "- We count nucleotides just like we counted items in a list\n",
    "- `len(dna)` is a faster way to get the length of a string\n",
    "- But counting manually helps us understand loops!"
   ]
  },
  {
   "cell_type": "markdown",
   "metadata": {},
   "source": [
    "### Practice Example 1.2: Count nucleotides\n",
    "\n",
    "Count how many nucleotides are in this sequence (using a loop)"
   ]
  },
  {
   "cell_type": "code",
   "execution_count": null,
   "metadata": {},
   "outputs": [],
   "source": [
    "dna = \"ATCGATCGATCG\"\n",
    "\n",
    "# YOUR CODE HERE: count the nucleotides using a for loop\n",
    "# Print the result"
   ]
  },
  {
   "cell_type": "markdown",
   "metadata": {},
   "source": [
    "---\n",
    "\n",
    "## Section 2: Counting Specific Nucleotides\n",
    "\n",
    "### Guided Example 2.1: Counting one type of nucleotide\n",
    "\n",
    "Let's count how many times a specific nucleotide appears"
   ]
  },
  {
   "cell_type": "code",
   "execution_count": null,
   "metadata": {},
   "outputs": [],
   "source": [
    "dna = \"ATCGATCG\"\n",
    "\n",
    "# Count how many A's\n",
    "a_count = 0\n",
    "\n",
    "for nucleotide in dna:\n",
    "    if nucleotide == 'A':\n",
    "        a_count += 1\n",
    "\n",
    "print(f\"Number of A nucleotides: {a_count}\")"
   ]
  },
  {
   "cell_type": "markdown",
   "metadata": {},
   "source": [
    "**What's happening here?**\n",
    "- We check each nucleotide with `if nucleotide == 'A'`\n",
    "- Only count it if it matches\n",
    "- This is useful for analyzing DNA composition"
   ]
  },
  {
   "cell_type": "markdown",
   "metadata": {},
   "source": [
    "### Practice Example 2.1: Count G nucleotides\n",
    "\n",
    "Count how many G nucleotides are in this sequence"
   ]
  },
  {
   "cell_type": "code",
   "execution_count": null,
   "metadata": {},
   "outputs": [],
   "source": [
    "dna = \"GGATCGATCG\"\n",
    "\n",
    "# YOUR CODE HERE: count the G nucleotides"
   ]
  },
  {
   "cell_type": "markdown",
   "metadata": {},
   "source": [
    "### Guided Example 2.2: Counting multiple nucleotides\n",
    "\n",
    "Let's count all four types of nucleotides at once"
   ]
  },
  {
   "cell_type": "code",
   "execution_count": null,
   "metadata": {},
   "outputs": [],
   "source": [
    "dna = \"ATCGATCGATTAG\"\n",
    "\n",
    "# Initialize counters\n",
    "a_count = 0\n",
    "t_count = 0\n",
    "c_count = 0\n",
    "g_count = 0\n",
    "\n",
    "# Count each nucleotide\n",
    "for nucleotide in dna:\n",
    "    if nucleotide == 'A':\n",
    "        a_count += 1\n",
    "    elif nucleotide == 'T':\n",
    "        t_count += 1\n",
    "    elif nucleotide == 'C':\n",
    "        c_count += 1\n",
    "    elif nucleotide == 'G':\n",
    "        g_count += 1\n",
    "\n",
    "print(f\"A: {a_count}\")\n",
    "print(f\"T: {t_count}\")\n",
    "print(f\"C: {c_count}\")\n",
    "print(f\"G: {g_count}\")"
   ]
  },
  {
   "cell_type": "markdown",
   "metadata": {},
   "source": [
    "**What's new here?**\n",
    "- `elif` means \"else if\" - it checks another condition\n",
    "- We use multiple counters, one for each nucleotide type\n",
    "- This gives us a complete nucleotide composition"
   ]
  },
  {
   "cell_type": "markdown",
   "metadata": {},
   "source": [
    "### Practice Example 2.2: Count all nucleotides\n",
    "\n",
    "Count all four types of nucleotides in this sequence"
   ]
  },
  {
   "cell_type": "code",
   "execution_count": null,
   "metadata": {},
   "outputs": [],
   "source": [
    "dna = \"GCGCATAT\"\n",
    "\n",
    "# YOUR CODE HERE: count A, T, C, and G\n",
    "# Print the count for each"
   ]
  },
  {
   "cell_type": "markdown",
   "metadata": {},
   "source": [
    "### Guided Example 2.3: Calculating GC content\n",
    "\n",
    "GC content is the percentage of G and C nucleotides. It's important for understanding DNA properties!"
   ]
  },
  {
   "cell_type": "code",
   "execution_count": null,
   "metadata": {},
   "outputs": [],
   "source": [
    "dna = \"ATCGATCG\"\n",
    "\n",
    "# Count G and C\n",
    "gc_count = 0\n",
    "\n",
    "for nucleotide in dna:\n",
    "    if nucleotide == 'G' or nucleotide == 'C':\n",
    "        gc_count += 1\n",
    "\n",
    "# Calculate percentage\n",
    "gc_percentage = (gc_count / len(dna)) * 100\n",
    "\n",
    "print(f\"GC content: {gc_percentage}%\")"
   ]
  },
  {
   "cell_type": "markdown",
   "metadata": {},
   "source": [
    "**What's new here?**\n",
    "- We count G and C together using `or`\n",
    "- We calculate percentage: (count / total) × 100\n",
    "- `len(dna)` gives us the total length"
   ]
  },
  {
   "cell_type": "markdown",
   "metadata": {},
   "source": [
    "### Practice Example 2.3: Calculate GC content\n",
    "\n",
    "Calculate the GC content percentage for this sequence"
   ]
  },
  {
   "cell_type": "code",
   "execution_count": null,
   "metadata": {},
   "outputs": [],
   "source": [
    "dna = \"GCGCATATATAT\"\n",
    "\n",
    "# YOUR CODE HERE: calculate and print the GC content percentage"
   ]
  },
  {
   "cell_type": "markdown",
   "metadata": {},
   "source": [
    "---\n",
    "\n",
    "## Section 3: Finding Nucleotide Positions\n",
    "\n",
    "### Guided Example 3.1: Finding positions of a specific nucleotide\n",
    "\n",
    "Sometimes we need to know WHERE a nucleotide appears in the sequence"
   ]
  },
  {
   "cell_type": "code",
   "execution_count": null,
   "metadata": {},
   "outputs": [],
   "source": [
    "dna = \"ATCGATCG\"\n",
    "\n",
    "print(\"Positions of 'A' nucleotides:\")\n",
    "for index, nucleotide in enumerate(dna):\n",
    "    if nucleotide == 'A':\n",
    "        print(f\"Found A at position {index}\")"
   ]
  },
  {
   "cell_type": "markdown",
   "metadata": {},
   "source": [
    "**What's happening here?**\n",
    "- `enumerate(dna)` gives us both the position (index) and the nucleotide\n",
    "- We print the position when we find an 'A'\n",
    "- Remember: positions start at 0!"
   ]
  },
  {
   "cell_type": "markdown",
   "metadata": {},
   "source": [
    "### Practice Example 3.1: Find T positions\n",
    "\n",
    "Find and print all positions where 'T' appears"
   ]
  },
  {
   "cell_type": "code",
   "execution_count": null,
   "metadata": {},
   "outputs": [],
   "source": [
    "dna = \"ATCGATTCG\"\n",
    "\n",
    "# YOUR CODE HERE: find and print all positions of 'T'"
   ]
  },
  {
   "cell_type": "markdown",
   "metadata": {},
   "source": [
    "### Guided Example 3.2: Storing positions in a list\n",
    "\n",
    "Let's collect all the positions into a list for later use"
   ]
  },
  {
   "cell_type": "code",
   "execution_count": null,
   "metadata": {},
   "outputs": [],
   "source": [
    "dna = \"ATCGATCG\"\n",
    "\n",
    "# Create empty list to store positions\n",
    "a_positions = []\n",
    "\n",
    "for index, nucleotide in enumerate(dna):\n",
    "    if nucleotide == 'A':\n",
    "        a_positions.append(index)\n",
    "\n",
    "print(f\"Positions of A: {a_positions}\")\n",
    "print(f\"Number of A's: {len(a_positions)}\")"
   ]
  },
  {
   "cell_type": "markdown",
   "metadata": {},
   "source": [
    "**What's new here?**\n",
    "- We create an empty list: `a_positions = []`\n",
    "- We append each position where we find 'A'\n",
    "- Now we have a list of all positions!"
   ]
  },
  {
   "cell_type": "markdown",
   "metadata": {},
   "source": [
    "### Practice Example 3.2: Store G positions\n",
    "\n",
    "Create a list of all positions where 'G' appears"
   ]
  },
  {
   "cell_type": "code",
   "execution_count": null,
   "metadata": {},
   "outputs": [],
   "source": [
    "dna = \"GCGATAGC\"\n",
    "\n",
    "# YOUR CODE HERE: create a list of G positions and print it"
   ]
  },
  {
   "cell_type": "markdown",
   "metadata": {},
   "source": [
    "---\n",
    "\n",
    "## Section 4: Searching for Patterns\n",
    "\n",
    "### Guided Example 4.1: Checking if a pattern exists\n",
    "\n",
    "We can check if a short sequence (pattern) exists in our DNA"
   ]
  },
  {
   "cell_type": "code",
   "execution_count": null,
   "metadata": {},
   "outputs": [],
   "source": [
    "dna = \"ATCGATCG\"\n",
    "pattern = \"CGA\"\n",
    "\n",
    "if pattern in dna:\n",
    "    print(f\"Found pattern {pattern} in the sequence!\")\n",
    "else:\n",
    "    print(f\"Pattern {pattern} not found\")"
   ]
  },
  {
   "cell_type": "markdown",
   "metadata": {},
   "source": [
    "**What's happening here?**\n",
    "- `in` checks if one string is inside another\n",
    "- `\"CGA\" in \"ATCGATCG\"` returns True because CGA is in the sequence\n",
    "- This is the easiest way to check for patterns!"
   ]
  },
  {
   "cell_type": "markdown",
   "metadata": {},
   "source": [
    "### Practice Example 4.1: Check for a pattern\n",
    "\n",
    "Check if the pattern \"ATG\" (start codon) is in this sequence"
   ]
  },
  {
   "cell_type": "code",
   "execution_count": null,
   "metadata": {},
   "outputs": [],
   "source": [
    "dna = \"GCGATGATCG\"\n",
    "pattern = \"ATG\"\n",
    "\n",
    "# YOUR CODE HERE: check if the pattern is in the DNA and print a message"
   ]
  },
  {
   "cell_type": "markdown",
   "metadata": {},
   "source": [
    "### Guided Example 4.2: Finding the position of a pattern\n",
    "\n",
    "Let's find WHERE a pattern starts in the sequence"
   ]
  },
  {
   "cell_type": "code",
   "execution_count": null,
   "metadata": {},
   "outputs": [],
   "source": [
    "dna = \"ATCGATCG\"\n",
    "pattern = \"CGA\"\n",
    "\n",
    "position = dna.find(pattern)\n",
    "\n",
    "if position != -1:\n",
    "    print(f\"Pattern {pattern} found at position {position}\")\n",
    "else:\n",
    "    print(f\"Pattern {pattern} not found\")"
   ]
  },
  {
   "cell_type": "markdown",
   "metadata": {},
   "source": [
    "**What's new here?**\n",
    "- `.find(pattern)` returns the starting position of the pattern\n",
    "- If the pattern isn't found, it returns -1\n",
    "- We check if position is not equal to -1 using `!= -1`"
   ]
  },
  {
   "cell_type": "markdown",
   "metadata": {},
   "source": [
    "### Practice Example 4.2: Find pattern position\n",
    "\n",
    "Find the position of the stop codon \"TAA\" in this sequence"
   ]
  },
  {
   "cell_type": "code",
   "execution_count": null,
   "metadata": {},
   "outputs": [],
   "source": [
    "dna = \"ATGCGATAA\"\n",
    "pattern = \"TAA\"\n",
    "\n",
    "# YOUR CODE HERE: find and print the position of the pattern"
   ]
  },
  {
   "cell_type": "markdown",
   "metadata": {},
   "source": [
    "### Guided Example 4.3: Counting pattern occurrences\n",
    "\n",
    "How many times does a pattern appear in our DNA?"
   ]
  },
  {
   "cell_type": "code",
   "execution_count": null,
   "metadata": {},
   "outputs": [],
   "source": [
    "dna = \"ATGATGATG\"\n",
    "pattern = \"ATG\"\n",
    "\n",
    "count = dna.count(pattern)\n",
    "\n",
    "print(f\"Pattern {pattern} appears {count} times\")"
   ]
  },
  {
   "cell_type": "markdown",
   "metadata": {},
   "source": [
    "**What's new here?**\n",
    "- `.count(pattern)` counts how many times the pattern appears\n",
    "- This is much easier than counting manually!\n",
    "- Note: overlapping patterns might not all be counted"
   ]
  },
  {
   "cell_type": "markdown",
   "metadata": {},
   "source": [
    "### Practice Example 4.3: Count pattern occurrences\n",
    "\n",
    "Count how many times \"CG\" appears in this sequence"
   ]
  },
  {
   "cell_type": "code",
   "execution_count": null,
   "metadata": {},
   "outputs": [],
   "source": [
    "dna = \"CGCGATCGCG\"\n",
    "pattern = \"CG\"\n",
    "\n",
    "# YOUR CODE HERE: count and print how many times the pattern appears"
   ]
  },
  {
   "cell_type": "markdown",
   "metadata": {},
   "source": [
    "---\n",
    "\n",
    "## Section 5: Extracting Subsequences (Slicing)\n",
    "\n",
    "### Guided Example 5.1: Getting the first N nucleotides\n",
    "\n",
    "We can extract parts of a DNA sequence using slicing"
   ]
  },
  {
   "cell_type": "code",
   "execution_count": null,
   "metadata": {},
   "outputs": [],
   "source": [
    "dna = \"ATCGATCGATCG\"\n",
    "\n",
    "# Get first 5 nucleotides\n",
    "first_five = dna[0:5]\n",
    "\n",
    "print(f\"Original: {dna}\")\n",
    "print(f\"First 5: {first_five}\")\n",
    "\n",
    "# Shortcut: can omit the 0\n",
    "first_five_short = dna[:5]\n",
    "print(f\"First 5 (shortcut): {first_five_short}\")"
   ]
  },
  {
   "cell_type": "markdown",
   "metadata": {},
   "source": [
    "**What's happening here?**\n",
    "- `dna[0:5]` means \"from position 0 to position 5 (not including 5)\"\n",
    "- This gives us positions 0, 1, 2, 3, 4 (5 nucleotides)\n",
    "- `dna[:5]` is a shortcut that means \"from the start to position 5\"\n",
    "- Slicing does NOT change the original string"
   ]
  },
  {
   "cell_type": "markdown",
   "metadata": {},
   "source": [
    "### Practice Example 5.1: Extract first nucleotides\n",
    "\n",
    "Extract and print the first 4 nucleotides from this sequence"
   ]
  },
  {
   "cell_type": "code",
   "execution_count": null,
   "metadata": {},
   "outputs": [],
   "source": [
    "dna = \"GCGATCGATCG\"\n",
    "\n",
    "# YOUR CODE HERE: extract and print the first 4 nucleotides"
   ]
  },
  {
   "cell_type": "markdown",
   "metadata": {},
   "source": [
    "### Guided Example 5.2: Getting the last N nucleotides\n",
    "\n",
    "We can also extract from the end of the sequence"
   ]
  },
  {
   "cell_type": "code",
   "execution_count": null,
   "metadata": {},
   "outputs": [],
   "source": [
    "dna = \"ATCGATCGATCG\"\n",
    "\n",
    "# Get last 4 nucleotides\n",
    "last_four = dna[-4:]\n",
    "\n",
    "print(f\"Original: {dna}\")\n",
    "print(f\"Last 4: {last_four}\")"
   ]
  },
  {
   "cell_type": "markdown",
   "metadata": {},
   "source": [
    "**What's new here?**\n",
    "- Negative numbers count from the end\n",
    "- `-4` means \"4th position from the end\"\n",
    "- `dna[-4:]` means \"from 4th from end to the end\""
   ]
  },
  {
   "cell_type": "markdown",
   "metadata": {},
   "source": [
    "### Practice Example 5.2: Extract last nucleotides\n",
    "\n",
    "Extract and print the last 3 nucleotides"
   ]
  },
  {
   "cell_type": "code",
   "execution_count": null,
   "metadata": {},
   "outputs": [],
   "source": [
    "dna = \"ATCGATCG\"\n",
    "\n",
    "# YOUR CODE HERE: extract and print the last 3 nucleotides"
   ]
  },
  {
   "cell_type": "markdown",
   "metadata": {},
   "source": [
    "### Guided Example 5.3: Extracting a middle region\n",
    "\n",
    "We can extract any region from the middle of the sequence"
   ]
  },
  {
   "cell_type": "code",
   "execution_count": null,
   "metadata": {},
   "outputs": [],
   "source": [
    "dna = \"ATCGATCGATCG\"\n",
    "\n",
    "# Extract nucleotides from position 3 to 7\n",
    "middle = dna[3:7]\n",
    "\n",
    "print(f\"Original: {dna}\")\n",
    "print(f\"Positions 3-7: {middle}\")"
   ]
  },
  {
   "cell_type": "markdown",
   "metadata": {},
   "source": [
    "**What's new here?**\n",
    "- `dna[3:7]` extracts positions 3, 4, 5, 6 (not 7!)\n",
    "- The start is included, the end is not\n",
    "- This is useful for extracting genes or specific regions"
   ]
  },
  {
   "cell_type": "markdown",
   "metadata": {},
   "source": [
    "### Practice Example 5.3: Extract middle region\n",
    "\n",
    "Extract positions 2 through 6 from this sequence"
   ]
  },
  {
   "cell_type": "code",
   "execution_count": null,
   "metadata": {},
   "outputs": [],
   "source": [
    "dna = \"GCGATCGATCG\"\n",
    "\n",
    "# YOUR CODE HERE: extract positions 2-6 and print the result"
   ]
  },
  {
   "cell_type": "markdown",
   "metadata": {},
   "source": [
    "---\n",
    "\n",
    "## Section 6: DNA Transformations\n",
    "\n",
    "### Guided Example 6.1: Converting DNA to RNA\n",
    "\n",
    "To convert DNA to RNA, we replace all T's with U's"
   ]
  },
  {
   "cell_type": "code",
   "execution_count": null,
   "metadata": {},
   "outputs": [],
   "source": [
    "dna = \"ATCGATCG\"\n",
    "\n",
    "# Replace T with U\n",
    "rna = dna.replace('T', 'U')\n",
    "\n",
    "print(f\"DNA: {dna}\")\n",
    "print(f\"RNA: {rna}\")"
   ]
  },
  {
   "cell_type": "markdown",
   "metadata": {},
   "source": [
    "**What's happening here?**\n",
    "- `.replace('T', 'U')` replaces all T's with U's\n",
    "- This creates a new string (the original is unchanged)\n",
    "- This is called transcription in biology!"
   ]
  },
  {
   "cell_type": "markdown",
   "metadata": {},
   "source": [
    "### Practice Example 6.1: Transcribe DNA to RNA\n",
    "\n",
    "Convert this DNA sequence to RNA"
   ]
  },
  {
   "cell_type": "code",
   "execution_count": null,
   "metadata": {},
   "outputs": [],
   "source": [
    "dna = \"ATGCATGC\"\n",
    "\n",
    "# YOUR CODE HERE: convert to RNA and print both DNA and RNA"
   ]
  },
  {
   "cell_type": "markdown",
   "metadata": {},
   "source": [
    "### Guided Example 6.2: Creating the complement\n",
    "\n",
    "The complement has A↔T and G↔C swapped"
   ]
  },
  {
   "cell_type": "code",
   "execution_count": null,
   "metadata": {},
   "outputs": [],
   "source": [
    "dna = \"ATCG\"\n",
    "\n",
    "complement = \"\"\n",
    "\n",
    "for nucleotide in dna:\n",
    "    if nucleotide == 'A':\n",
    "        complement += 'T'\n",
    "    elif nucleotide == 'T':\n",
    "        complement += 'A'\n",
    "    elif nucleotide == 'C':\n",
    "        complement += 'G'\n",
    "    elif nucleotide == 'G':\n",
    "        complement += 'C'\n",
    "\n",
    "print(f\"Original:   {dna}\")\n",
    "print(f\"Complement: {complement}\")"
   ]
  },
  {
   "cell_type": "markdown",
   "metadata": {},
   "source": [
    "**What's new here?**\n",
    "- We start with an empty string: `complement = \"\"`\n",
    "- We add to it using `+=` (concatenation)\n",
    "- For each nucleotide, we add its complement\n",
    "- A pairs with T, C pairs with G"
   ]
  },
  {
   "cell_type": "markdown",
   "metadata": {},
   "source": [
    "### Practice Example 6.2: Create complement\n",
    "\n",
    "Create the complement of this DNA sequence"
   ]
  },
  {
   "cell_type": "code",
   "execution_count": null,
   "metadata": {},
   "outputs": [],
   "source": [
    "dna = \"GCGCATAT\"\n",
    "\n",
    "# YOUR CODE HERE: create and print the complement"
   ]
  },
  {
   "cell_type": "markdown",
   "metadata": {},
   "source": [
    "### Guided Example 6.3: Reverse complement\n",
    "\n",
    "The reverse complement is the complement read backwards. This is the sequence on the other DNA strand!"
   ]
  },
  {
   "cell_type": "code",
   "execution_count": null,
   "metadata": {},
   "outputs": [],
   "source": [
    "dna = \"ATCG\"\n",
    "\n",
    "# First, create complement (from previous example)\n",
    "complement = \"\"\n",
    "for nucleotide in dna:\n",
    "    if nucleotide == 'A':\n",
    "        complement += 'T'\n",
    "    elif nucleotide == 'T':\n",
    "        complement += 'A'\n",
    "    elif nucleotide == 'C':\n",
    "        complement += 'G'\n",
    "    elif nucleotide == 'G':\n",
    "        complement += 'C'\n",
    "\n",
    "# Then reverse it\n",
    "reverse_complement = complement[::-1]\n",
    "\n",
    "print(f\"Original:           {dna}\")\n",
    "print(f\"Complement:         {complement}\")\n",
    "print(f\"Reverse complement: {reverse_complement}\")"
   ]
  },
  {
   "cell_type": "markdown",
   "metadata": {},
   "source": [
    "**What's new here?**\n",
    "- `[::-1]` reverses a string\n",
    "- This is a special slicing syntax\n",
    "- The reverse complement is what you'd read on the opposite DNA strand"
   ]
  },
  {
   "cell_type": "markdown",
   "metadata": {},
   "source": [
    "### Practice Example 6.3: Create reverse complement\n",
    "\n",
    "Create the reverse complement of this sequence"
   ]
  },
  {
   "cell_type": "code",
   "execution_count": null,
   "metadata": {},
   "outputs": [],
   "source": [
    "dna = \"ATCGATCG\"\n",
    "\n",
    "# YOUR CODE HERE: create and print the reverse complement\n",
    "# Hint: first create the complement, then reverse it"
   ]
  },
  {
   "cell_type": "markdown",
   "metadata": {},
   "source": [
    "---\n",
    "\n",
    "## Section 7: Working with Codons\n",
    "\n",
    "### Guided Example 7.1: Splitting into codons\n",
    "\n",
    "Codons are groups of 3 nucleotides. Let's split a sequence into codons!"
   ]
  },
  {
   "cell_type": "code",
   "execution_count": null,
   "metadata": {},
   "outputs": [],
   "source": [
    "dna = \"ATGCGATAA\"\n",
    "\n",
    "codons = []\n",
    "\n",
    "# Step through sequence 3 nucleotides at a time\n",
    "for i in range(0, len(dna), 3):\n",
    "    codon = dna[i:i+3]\n",
    "    codons.append(codon)\n",
    "\n",
    "print(f\"Original: {dna}\")\n",
    "print(f\"Codons: {codons}\")"
   ]
  },
  {
   "cell_type": "markdown",
   "metadata": {},
   "source": [
    "**What's happening here?**\n",
    "- `range(0, len(dna), 3)` gives us 0, 3, 6, 9, ...\n",
    "- The third parameter (3) is the \"step\" - how much to increment\n",
    "- `dna[i:i+3]` extracts 3 nucleotides starting at position i\n",
    "- We collect all codons in a list"
   ]
  },
  {
   "cell_type": "markdown",
   "metadata": {},
   "source": [
    "### Practice Example 7.1: Split into codons\n",
    "\n",
    "Split this sequence into codons"
   ]
  },
  {
   "cell_type": "code",
   "execution_count": null,
   "metadata": {},
   "outputs": [],
   "source": [
    "dna = \"GCGATCTAGCTA\"\n",
    "\n",
    "# YOUR CODE HERE: split into codons and print the list"
   ]
  },
  {
   "cell_type": "markdown",
   "metadata": {},
   "source": [
    "### Guided Example 7.2: Finding the start codon\n",
    "\n",
    "Let's find where the start codon (ATG) is located"
   ]
  },
  {
   "cell_type": "code",
   "execution_count": null,
   "metadata": {},
   "outputs": [],
   "source": [
    "dna = \"GCGATGCGATAA\"\n",
    "\n",
    "start_codon = \"ATG\"\n",
    "position = dna.find(start_codon)\n",
    "\n",
    "if position != -1:\n",
    "    print(f\"Start codon ATG found at position {position}\")\n",
    "    print(f\"Translation would begin here: {dna[position:]}\")\n",
    "else:\n",
    "    print(\"No start codon found\")"
   ]
  },
  {
   "cell_type": "markdown",
   "metadata": {},
   "source": [
    "**What's new here?**\n",
    "- We search for the start codon \"ATG\"\n",
    "- `dna[position:]` gives us everything from the start codon onward\n",
    "- This is where translation (making protein) would begin!"
   ]
  },
  {
   "cell_type": "markdown",
   "metadata": {},
   "source": [
    "### Practice Example 7.2: Find start codon\n",
    "\n",
    "Find the start codon and extract everything from that point onward"
   ]
  },
  {
   "cell_type": "code",
   "execution_count": null,
   "metadata": {},
   "outputs": [],
   "source": [
    "dna = \"TTTATGCGATCGTAA\"\n",
    "\n",
    "# YOUR CODE HERE: find ATG and print the sequence from that point"
   ]
  },
  {
   "cell_type": "markdown",
   "metadata": {},
   "source": [
    "### Guided Example 7.3: Finding stop codons\n",
    "\n",
    "Let's check if any stop codons (TAA, TAG, TGA) are present"
   ]
  },
  {
   "cell_type": "code",
   "execution_count": null,
   "metadata": {},
   "outputs": [],
   "source": [
    "dna = \"ATGCGATCGTAA\"\n",
    "\n",
    "stop_codons = [\"TAA\", \"TAG\", \"TGA\"]\n",
    "\n",
    "print(\"Checking for stop codons:\")\n",
    "for stop in stop_codons:\n",
    "    if stop in dna:\n",
    "        position = dna.find(stop)\n",
    "        print(f\"  Found {stop} at position {position}\")"
   ]
  },
  {
   "cell_type": "markdown",
   "metadata": {},
   "source": [
    "**What's new here?**\n",
    "- We have a list of stop codons to check\n",
    "- We loop through each stop codon\n",
    "- We check if it's in the sequence and find its position"
   ]
  },
  {
   "cell_type": "markdown",
   "metadata": {},
   "source": [
    "### Practice Example 7.3: Find stop codons\n",
    "\n",
    "Check this sequence for all three stop codons"
   ]
  },
  {
   "cell_type": "code",
   "execution_count": null,
   "metadata": {},
   "outputs": [],
   "source": [
    "dna = \"ATGCGATCGTAGCTA\"\n",
    "\n",
    "# YOUR CODE HERE: check for TAA, TAG, and TGA\n",
    "# Print which ones are found and their positions"
   ]
  },
  {
   "cell_type": "markdown",
   "metadata": {},
   "source": [
    "---\n",
    "\n",
    "## Section 8: Practice Challenges\n",
    "\n",
    "Now try some more complex challenges that combine everything you've learned!\n",
    "\n",
    "### Challenge 1: AT/GC Ratio\n",
    "\n",
    "Calculate the ratio of AT content to GC content"
   ]
  },
  {
   "cell_type": "code",
   "execution_count": null,
   "metadata": {},
   "outputs": [],
   "source": [
    "dna = \"ATCGATCGATTAAAGGG\"\n",
    "\n",
    "# YOUR CODE HERE:\n",
    "# 1. Count A and T nucleotides\n",
    "# 2. Count G and C nucleotides\n",
    "# 3. Calculate AT percentage and GC percentage\n",
    "# 4. Print both percentages"
   ]
  },
  {
   "cell_type": "markdown",
   "metadata": {},
   "source": [
    "### Challenge 2: Extract Open Reading Frame\n",
    "\n",
    "Find the region between the start codon (ATG) and first stop codon (TAA, TAG, or TGA)"
   ]
  },
  {
   "cell_type": "code",
   "execution_count": null,
   "metadata": {},
   "outputs": [],
   "source": [
    "dna = \"TTTATGCGATCGTAAGGC\"\n",
    "\n",
    "# YOUR CODE HERE:\n",
    "# 1. Find the position of ATG\n",
    "# 2. Find the positions of all stop codons after ATG\n",
    "# 3. Extract the sequence from ATG to the first stop codon\n",
    "# 4. Print the open reading frame (ORF)"
   ]
  },
  {
   "cell_type": "markdown",
   "metadata": {},
   "source": [
    "### Challenge 3: Find All CpG Sites\n",
    "\n",
    "CpG sites are \"CG\" dinucleotides. Find all their positions (these are important for gene regulation!)"
   ]
  },
  {
   "cell_type": "code",
   "execution_count": null,
   "metadata": {},
   "outputs": [],
   "source": [
    "dna = \"ATCGATCGATTCGAA\"\n",
    "\n",
    "# YOUR CODE HERE:\n",
    "# Find all positions where \"CG\" appears\n",
    "# Hint: You'll need to loop through the sequence and check each position\n",
    "# Store all positions in a list and print it"
   ]
  },
  {
   "cell_type": "markdown",
   "metadata": {},
   "source": [
    "### Challenge 4: Translate to Amino Acids\n",
    "\n",
    "Use this simple genetic code table to translate codons to amino acids"
   ]
  },
  {
   "cell_type": "code",
   "execution_count": null,
   "metadata": {},
   "outputs": [],
   "source": [
    "dna = \"ATGGGCTAA\"\n",
    "\n",
    "# Simple genetic code (just a few codons)\n",
    "genetic_code = {\n",
    "    'ATG': 'M',  # Methionine (start)\n",
    "    'GGC': 'G',  # Glycine\n",
    "    'TAA': '*',  # Stop\n",
    "    'TAG': '*',  # Stop\n",
    "    'TGA': '*'   # Stop\n",
    "}\n",
    "\n",
    "# YOUR CODE HERE:\n",
    "# 1. Split the DNA into codons\n",
    "# 2. For each codon, look it up in the genetic_code dictionary\n",
    "# 3. Build a string of amino acids\n",
    "# 4. Stop when you hit a stop codon (*)\n",
    "# 5. Print the amino acid sequence"
   ]
  },
  {
   "cell_type": "markdown",
   "metadata": {},
   "source": [
    "---\n",
    "\n",
    "## Summary\n",
    "\n",
    "Congratulations! You've learned how to work with DNA sequences in Python:\n",
    "\n",
    "**Basic operations:**\n",
    "- ✅ Iterating through nucleotides\n",
    "- ✅ Counting specific nucleotides\n",
    "- ✅ Calculating GC content\n",
    "\n",
    "**Finding and searching:**\n",
    "- ✅ Finding positions of nucleotides\n",
    "- ✅ Searching for patterns\n",
    "- ✅ Counting pattern occurrences\n",
    "\n",
    "**Extracting regions:**\n",
    "- ✅ Using slicing to extract subsequences\n",
    "- ✅ Getting first, last, and middle regions\n",
    "\n",
    "**Transformations:**\n",
    "- ✅ Converting DNA to RNA\n",
    "- ✅ Creating complement sequences\n",
    "- ✅ Creating reverse complement\n",
    "\n",
    "**Working with codons:**\n",
    "- ✅ Splitting sequences into codons\n",
    "- ✅ Finding start and stop codons\n",
    "- ✅ Extracting open reading frames\n",
    "\n",
    "These skills are essential for bioinformatics! You can now analyze real DNA sequences, find genes, and perform sequence manipulations.\n",
    "\n",
    "**Next steps:** Practice with real DNA sequences from databases like NCBI, and learn about reading FASTA files!"
   ]
  }
 ],
 "metadata": {
  "kernelspec": {
   "display_name": "Python 3",
   "language": "python",
   "name": "python3"
  },
  "language_info": {
   "name": "python",
   "version": "3.8.0"
  }
 },
 "nbformat": 4,
 "nbformat_minor": 4
}
