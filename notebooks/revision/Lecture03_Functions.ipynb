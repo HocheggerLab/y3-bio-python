{
 "cells": [
  {
   "cell_type": "markdown",
   "id": "cell-0",
   "metadata": {},
   "source": [
    "# Lecture 3: Functions - Writing Reusable Code\n",
    "## Python for Biology\n",
    "**Learning Objectives:**\n",
    "- Understand what functions are and why they're useful\n",
    "- Write simple functions with and without parameters\n",
    "- Return values from functions\n",
    "- Use docstrings to document functions\n",
    "- Refactor messy 'spaghetti code' into clean, organized functions\n",
    "\n",
    "---"
   ]
  },
  {
   "cell_type": "markdown",
   "id": "cell-1",
   "metadata": {},
   "source": [
    "## Section 1: What Are Functions?\n",
    "\n",
    "### Guided Example 1.1: The Problem - Repeated Code\n",
    "\n",
    "Imagine you need to calculate GC content multiple times:"
   ]
  },
  {
   "cell_type": "code",
   "execution_count": null,
   "id": "cell-2",
   "metadata": {},
   "outputs": [],
   "source": [
    "# Calculate GC content for sequence 1\n",
    "seq1 = 'ATCGATCGGCGC'\n",
    "gc_count1 = seq1.count('G') + seq1.count('C')\n",
    "gc_percent1 = (gc_count1 / len(seq1)) * 100\n",
    "print(f\"Sequence 1 GC%: {gc_percent1:.1f}%\")\n",
    "\n",
    "# Calculate GC content for sequence 2\n",
    "seq2 = 'AAATTTGGGCCC'\n",
    "gc_count2 = seq2.count('G') + seq2.count('C')\n",
    "gc_percent2 = (gc_count2 / len(seq2)) * 100\n",
    "print(f\"Sequence 2 GC%: {gc_percent2:.1f}%\")\n",
    "\n",
    "# Calculate GC content for sequence 3\n",
    "seq3 = 'GCGCGCGC'\n",
    "gc_count3 = seq3.count('G') + seq3.count('C')\n",
    "gc_percent3 = (gc_count3 / len(seq3)) * 100\n",
    "print(f\"Sequence 3 GC%: {gc_percent3:.1f}%\")"
   ]
  },
  {
   "cell_type": "markdown",
   "id": "cell-3",
   "metadata": {},
   "source": [
    "**The problem:**\n",
    "- We're writing the same code 3 times!\n",
    "- If we make a mistake, we have to fix it in 3 places\n",
    "- If we want to change how we calculate GC%, we have to update 3 places\n",
    "- This is hard to read and maintain\n",
    "\n",
    "**Functions solve this problem!**"
   ]
  },
  {
   "cell_type": "markdown",
   "id": "cell-4",
   "metadata": {},
   "source": [
    "### Guided Example 1.2: The Solution - Using a Function\n",
    "\n",
    "Let's write a function to do this calculation once, then use it many times:"
   ]
  },
  {
   "cell_type": "code",
   "execution_count": null,
   "id": "cell-5",
   "metadata": {},
   "outputs": [],
   "source": [
    "# Define a function to calculate GC content\n",
    "def calculate_gc_content(sequence):\n",
    "    \"\"\"Calculate the GC content percentage of a DNA sequence.\"\"\"\n",
    "    gc_count = sequence.count('G') + sequence.count('C')\n",
    "    gc_percent = (gc_count / len(sequence)) * 100\n",
    "    return gc_percent\n",
    "\n",
    "# Now use it for all three sequences\n",
    "seq1 = 'ATCGATCGGCGC'\n",
    "seq2 = 'AAATTTGGGCCC'\n",
    "seq3 = 'GCGCGCGC'\n",
    "\n",
    "print(f\"Sequence 1 GC%: {calculate_gc_content(seq1):.1f}%\")\n",
    "print(f\"Sequence 2 GC%: {calculate_gc_content(seq2):.1f}%\")\n",
    "print(f\"Sequence 3 GC%: {calculate_gc_content(seq3):.1f}%\")"
   ]
  },
  {
   "cell_type": "markdown",
   "id": "cell-6",
   "metadata": {},
   "source": [
    "**Much better!**\n",
    "- The calculation code is written **once**\n",
    "- We **reuse** it by calling `calculate_gc_content()`\n",
    "- Easier to read, test, and maintain\n",
    "- If we need to fix something, we fix it in **one place**"
   ]
  },
  {
   "cell_type": "markdown",
   "id": "cell-7",
   "metadata": {},
   "source": [
    "---\n",
    "\n",
    "## Section 2: Function Anatomy\n",
    "\n",
    "Let's break down the parts of a function:"
   ]
  },
  {
   "cell_type": "code",
   "execution_count": null,
   "id": "cell-8",
   "metadata": {},
   "outputs": [],
   "source": [
    "def calculate_gc_content(sequence):\n",
    "    \"\"\"Calculate the GC content percentage of a DNA sequence.\"\"\"\n",
    "    gc_count = sequence.count('G') + sequence.count('C')\n",
    "    gc_percent = (gc_count / len(sequence)) * 100\n",
    "    return gc_percent"
   ]
  },
  {
   "cell_type": "markdown",
   "id": "cell-9",
   "metadata": {},
   "source": [
    "**Parts of a function:**\n",
    "1. **`def`**: Keyword that starts a function definition\n",
    "2. **`calculate_gc_content`**: Function name (use descriptive names!)\n",
    "3. **`(sequence)`**: Parameter - the input the function needs\n",
    "4. **`:`**: Colon starts the function body\n",
    "5. **Docstring** (in triple quotes): Describes what the function does\n",
    "6. **Function body**: The code that does the work (indented!)\n",
    "7. **`return`**: Sends a value back to whoever called the function\n",
    "\n",
    "**Calling a function:**\n",
    "```python\n",
    "result = calculate_gc_content('ATCG')  # 'ATCG' is the argument\n",
    "```"
   ]
  },
  {
   "cell_type": "markdown",
   "id": "cell-10",
   "metadata": {},
   "source": [
    "---\n",
    "\n",
    "## Section 3: Simple Functions\n",
    "\n",
    "### Guided Example 3.1: Function with no parameters\n",
    "\n",
    "Some functions don't need any input - they just do something every time:"
   ]
  },
  {
   "cell_type": "code",
   "execution_count": null,
   "id": "cell-11",
   "metadata": {},
   "outputs": [],
   "source": [
    "def greet_scientist():\n",
    "    \"\"\"Print a greeting message.\"\"\"\n",
    "    print(\"Welcome to the Biology Lab!\")\n",
    "    print(\"Ready to analyze some genes?\")\n",
    "\n",
    "# Call the function (note the empty parentheses)\n",
    "greet_scientist()"
   ]
  },
  {
   "cell_type": "markdown",
   "id": "cell-12",
   "metadata": {},
   "source": [
    "**Key points:**\n",
    "- No parameters needed: `def greet_scientist():`\n",
    "- Still need parentheses when calling: `greet_scientist()`\n",
    "- No `return` statement - it just prints and finishes"
   ]
  },
  {
   "cell_type": "markdown",
   "id": "cell-13",
   "metadata": {},
   "source": [
    "### Practice Example 3.1: Write a simple greeting function\n",
    "\n",
    "Write a function called `print_dna_message()` that prints:\n",
    "- \"DNA is the blueprint of life!\"\n",
    "- \"It contains the instructions for building proteins.\""
   ]
  },
  {
   "cell_type": "code",
   "execution_count": null,
   "id": "cell-14",
   "metadata": {},
   "outputs": [],
   "source": [
    "# YOUR CODE HERE: Define the function\n",
    "\n",
    "\n",
    "# Test your function:\n",
    "# print_dna_message()"
   ]
  },
  {
   "cell_type": "markdown",
   "id": "cell-15",
   "metadata": {},
   "source": [
    "### Guided Example 3.2: Function with one parameter\n",
    "\n",
    "Functions become powerful when they can work with different inputs:"
   ]
  },
  {
   "cell_type": "code",
   "execution_count": null,
   "id": "cell-16",
   "metadata": {},
   "outputs": [],
   "source": [
    "def complement_base(base):\n",
    "    \"\"\"Return the DNA complement of a single base.\"\"\"\n",
    "    if base == 'A':\n",
    "        return 'T'\n",
    "    elif base == 'T':\n",
    "        return 'A'\n",
    "    elif base == 'G':\n",
    "        return 'C'\n",
    "    elif base == 'C':\n",
    "        return 'G'\n",
    "    else:\n",
    "        return 'N'  # Unknown\n",
    "\n",
    "# Test with different inputs\n",
    "print(complement_base('A'))  # Should print: T\n",
    "print(complement_base('G'))  # Should print: C\n",
    "print(complement_base('T'))  # Should print: A"
   ]
  },
  {
   "cell_type": "markdown",
   "id": "cell-17",
   "metadata": {},
   "source": [
    "**Key points:**\n",
    "- `base` is a parameter - a placeholder for the input\n",
    "- When we call `complement_base('A')`, `'A'` is the argument\n",
    "- The function can return different values based on the input\n",
    "- Same function, different results!"
   ]
  },
  {
   "cell_type": "markdown",
   "id": "cell-18",
   "metadata": {},
   "source": [
    "### Practice Example 3.2: Write a function with one parameter\n",
    "\n",
    "Write a function called `calculate_protein_mass()` that:\n",
    "- Takes one parameter: `num_amino_acids` (a number)\n",
    "- Multiplies it by 110 (average mass of an amino acid in Daltons)\n",
    "- Returns the estimated protein mass"
   ]
  },
  {
   "cell_type": "code",
   "execution_count": null,
   "id": "cell-19",
   "metadata": {},
   "outputs": [],
   "source": [
    "# YOUR CODE HERE: Define the function\n",
    "\n",
    "\n",
    "# Test your function:\n",
    "# print(calculate_protein_mass(100))  # Should print: 11000\n",
    "# print(calculate_protein_mass(250))  # Should print: 27500"
   ]
  },
  {
   "cell_type": "markdown",
   "id": "cell-20",
   "metadata": {},
   "source": [
    "### Guided Example 3.3: Function with multiple parameters\n",
    "\n",
    "Functions can take multiple inputs:"
   ]
  },
  {
   "cell_type": "code",
   "execution_count": null,
   "id": "cell-21",
   "metadata": {},
   "outputs": [],
   "source": [
    "def calculate_concentration(mass, volume):\n",
    "    \"\"\"Calculate concentration in mg/mL.\n",
    "    \n",
    "    Parameters:\n",
    "        mass: mass in mg\n",
    "        volume: volume in mL\n",
    "    \n",
    "    Returns:\n",
    "        concentration in mg/mL\n",
    "    \"\"\"\n",
    "    concentration = mass / volume\n",
    "    return concentration\n",
    "\n",
    "# Test with different values\n",
    "print(f\"Concentration: {calculate_concentration(50, 10):.1f} mg/mL\")  # 5.0\n",
    "print(f\"Concentration: {calculate_concentration(100, 25):.1f} mg/mL\")  # 4.0"
   ]
  },
  {
   "cell_type": "markdown",
   "id": "cell-22",
   "metadata": {},
   "source": [
    "**Key points:**\n",
    "- Multiple parameters separated by commas: `def func(param1, param2):`\n",
    "- When calling, provide arguments in the same order\n",
    "- Notice the detailed docstring - it explains each parameter!"
   ]
  },
  {
   "cell_type": "markdown",
   "id": "cell-23",
   "metadata": {},
   "source": [
    "### Practice Example 3.3: Function with two parameters\n",
    "\n",
    "Write a function called `calculate_dilution()` that:\n",
    "- Takes two parameters: `initial_conc` and `dilution_factor`\n",
    "- Calculates final concentration: `initial_conc / dilution_factor`\n",
    "- Returns the final concentration"
   ]
  },
  {
   "cell_type": "code",
   "execution_count": null,
   "id": "cell-24",
   "metadata": {},
   "outputs": [],
   "source": [
    "# YOUR CODE HERE: Define the function\n",
    "\n",
    "\n",
    "# Test your function:\n",
    "# print(calculate_dilution(100, 10))  # Should print: 10.0\n",
    "# print(calculate_dilution(50, 5))    # Should print: 10.0"
   ]
  },
  {
   "cell_type": "markdown",
   "id": "cell-25",
   "metadata": {},
   "source": [
    "---\n",
    "\n",
    "## Section 4: Understanding Return Values\n",
    "\n",
    "### Guided Example 4.1: Printing vs Returning\n",
    "\n",
    "**Important:** `print` and `return` are NOT the same!"
   ]
  },
  {
   "cell_type": "code",
   "execution_count": null,
   "id": "cell-26",
   "metadata": {},
   "outputs": [],
   "source": [
    "# This function PRINTS but doesn't return anything\n",
    "def count_genes_print(genes):\n",
    "    \"\"\"Count genes and print the result.\"\"\"\n",
    "    count = len(genes)\n",
    "    print(f\"Number of genes: {count}\")\n",
    "    # No return statement!\n",
    "\n",
    "# This function RETURNS the count\n",
    "def count_genes_return(genes):\n",
    "    \"\"\"Count genes and return the result.\"\"\"\n",
    "    count = len(genes)\n",
    "    return count\n",
    "\n",
    "# Test both\n",
    "genes = ['BRCA1', 'TP53', 'MYC']\n",
    "\n",
    "result1 = count_genes_print(genes)  # Prints, but result1 is None\n",
    "print(f\"Result 1: {result1}\")  # None\n",
    "\n",
    "result2 = count_genes_return(genes)  # Returns a value\n",
    "print(f\"Result 2: {result2}\")  # 3\n",
    "\n",
    "# We can do math with returned values!\n",
    "double = result2 * 2\n",
    "print(f\"Double: {double}\")  # 6"
   ]
  },
  {
   "cell_type": "markdown",
   "id": "cell-27",
   "metadata": {},
   "source": [
    "**Key differences:**\n",
    "- **`print`**: Shows something on the screen, but the value is lost\n",
    "- **`return`**: Sends a value back that you can store and use\n",
    "- **Rule of thumb**: Use `return` for functions, use `print` for displaying results\n",
    "\n",
    "**When to use each:**\n",
    "- Use `return` when you want to use the value later (calculations, comparisons, etc.)\n",
    "- Use `print` when you just want to show information to the user"
   ]
  },
  {
   "cell_type": "markdown",
   "id": "cell-28",
   "metadata": {},
   "source": [
    "### Practice Example 4.1: Return vs Print\n",
    "\n",
    "Write TWO versions of a function that counts 'A' nucleotides:\n",
    "1. `count_a_print(sequence)` - prints the count\n",
    "2. `count_a_return(sequence)` - returns the count\n",
    "\n",
    "Then test both and see the difference!"
   ]
  },
  {
   "cell_type": "code",
   "execution_count": null,
   "id": "cell-29",
   "metadata": {},
   "outputs": [],
   "source": [
    "# YOUR CODE HERE: Write both functions\n",
    "\n",
    "\n",
    "# Test them:\n",
    "# seq = 'ATCGATCGATCG'\n",
    "# result1 = count_a_print(seq)\n",
    "# print(f\"Stored result 1: {result1}\")  # Should be None\n",
    "\n",
    "# result2 = count_a_return(seq)\n",
    "# print(f\"Stored result 2: {result2}\")  # Should be the count\n",
    "# print(f\"Double: {result2 * 2}\")  # Can do math with it!"
   ]
  },
  {
   "cell_type": "markdown",
   "id": "cell-30",
   "metadata": {},
   "source": [
    "---\n",
    "\n",
    "## Section 5: Docstrings - Documenting Your Functions\n",
    "\n",
    "### Guided Example 5.1: Why docstrings matter\n",
    "\n",
    "Docstrings help you and others understand what a function does:"
   ]
  },
  {
   "cell_type": "code",
   "execution_count": null,
   "id": "cell-31",
   "metadata": {},
   "outputs": [],
   "source": [
    "# Bad: No documentation\n",
    "def calc(s):\n",
    "    return (s.count('G') + s.count('C')) / len(s) * 100\n",
    "\n",
    "# Good: Clear docstring\n",
    "def calculate_gc_content(sequence):\n",
    "    \"\"\"Calculate the GC content percentage of a DNA sequence.\n",
    "    \n",
    "    Parameters:\n",
    "        sequence (str): A DNA sequence containing only A, T, G, C\n",
    "    \n",
    "    Returns:\n",
    "        float: GC content as a percentage (0-100)\n",
    "    \n",
    "    Example:\n",
    "        >>> calculate_gc_content('ATCG')\n",
    "        50.0\n",
    "    \"\"\"\n",
    "    gc_count = sequence.count('G') + sequence.count('C')\n",
    "    return (gc_count / len(sequence)) * 100\n",
    "\n",
    "# You can view the docstring with help()\n",
    "help(calculate_gc_content)"
   ]
  },
  {
   "cell_type": "markdown",
   "id": "cell-32",
   "metadata": {},
   "source": [
    "**Good docstrings include:**\n",
    "1. **Brief description**: What does the function do?\n",
    "2. **Parameters**: What inputs does it need? What type?\n",
    "3. **Returns**: What does it give back? What type?\n",
    "4. **Example** (optional): Show how to use it\n",
    "\n",
    "**Format:**\n",
    "- Use triple quotes: `\"\"\"...\"\"\"`\n",
    "- Put it right after the `def` line\n",
    "- First line should be a brief summary"
   ]
  },
  {
   "cell_type": "markdown",
   "id": "cell-33",
   "metadata": {},
   "source": [
    "### Practice Example 5.1: Write a function with a good docstring\n",
    "\n",
    "Write a function called `reverse_complement()` that:\n",
    "- Takes a DNA sequence\n",
    "- Returns the reverse complement\n",
    "- **Include a detailed docstring!**\n",
    "\n",
    "Hints for the function:\n",
    "- First get the complement\n",
    "- Then reverse it with `[::-1]`"
   ]
  },
  {
   "cell_type": "code",
   "execution_count": null,
   "id": "cell-34",
   "metadata": {},
   "outputs": [],
   "source": [
    "# YOUR CODE HERE: Write the function with a good docstring\n",
    "\n",
    "\n",
    "# Test it:\n",
    "# print(reverse_complement('ATCG'))  # Should be: CGAT\n",
    "# help(reverse_complement)  # Should show your docstring"
   ]
  },
  {
   "cell_type": "markdown",
   "id": "cell-35",
   "metadata": {},
   "source": [
    "---\n",
    "\n",
    "## Section 6: Refactoring Spaghetti Code\n",
    "\n",
    "\"Spaghetti code\" is messy, hard-to-read code that does everything in one big block. Functions help organize it!\n",
    "\n",
    "### Guided Example 6.1: Messy Code → Clean Functions\n",
    "\n",
    "**Before: Spaghetti code**"
   ]
  },
  {
   "cell_type": "code",
   "execution_count": null,
   "id": "cell-36",
   "metadata": {},
   "outputs": [],
   "source": [
    "# Analyze three DNA sequences - MESSY VERSION\n",
    "seq1 = 'ATCGATCG'\n",
    "seq2 = 'GCGCGCGC'\n",
    "seq3 = 'AAAATTTT'\n",
    "\n",
    "# Sequence 1 analysis\n",
    "gc1 = (seq1.count('G') + seq1.count('C')) / len(seq1) * 100\n",
    "at1 = (seq1.count('A') + seq1.count('T')) / len(seq1) * 100\n",
    "print(f\"Seq1 - Length: {len(seq1)}, GC%: {gc1:.1f}, AT%: {at1:.1f}\")\n",
    "\n",
    "# Sequence 2 analysis\n",
    "gc2 = (seq2.count('G') + seq2.count('C')) / len(seq2) * 100\n",
    "at2 = (seq2.count('A') + seq2.count('T')) / len(seq2) * 100\n",
    "print(f\"Seq2 - Length: {len(seq2)}, GC%: {gc2:.1f}, AT%: {at2:.1f}\")\n",
    "\n",
    "# Sequence 3 analysis\n",
    "gc3 = (seq3.count('G') + seq3.count('C')) / len(seq3) * 100\n",
    "at3 = (seq3.count('A') + seq3.count('T')) / len(seq3) * 100\n",
    "print(f\"Seq3 - Length: {len(seq3)}, GC%: {gc3:.1f}, AT%: {at3:.1f}\")"
   ]
  },
  {
   "cell_type": "markdown",
   "id": "cell-37",
   "metadata": {},
   "source": [
    "**After: Clean version with functions**"
   ]
  },
  {
   "cell_type": "code",
   "execution_count": null,
   "id": "cell-38",
   "metadata": {},
   "outputs": [],
   "source": [
    "def calculate_gc_content(sequence):\n",
    "    \"\"\"Calculate GC content percentage.\"\"\"\n",
    "    gc_count = sequence.count('G') + sequence.count('C')\n",
    "    return (gc_count / len(sequence)) * 100\n",
    "\n",
    "def calculate_at_content(sequence):\n",
    "    \"\"\"Calculate AT content percentage.\"\"\"\n",
    "    at_count = sequence.count('A') + sequence.count('T')\n",
    "    return (at_count / len(sequence)) * 100\n",
    "\n",
    "def analyze_sequence(sequence, name):\n",
    "    \"\"\"Analyze and print statistics for a DNA sequence.\"\"\"\n",
    "    length = len(sequence)\n",
    "    gc = calculate_gc_content(sequence)\n",
    "    at = calculate_at_content(sequence)\n",
    "    print(f\"{name} - Length: {length}, GC%: {gc:.1f}, AT%: {at:.1f}\")\n",
    "\n",
    "# Now the main code is clean and readable!\n",
    "sequences = [\n",
    "    ('ATCGATCG', 'Seq1'),\n",
    "    ('GCGCGCGC', 'Seq2'),\n",
    "    ('AAAATTTT', 'Seq3')\n",
    "]\n",
    "\n",
    "for seq, name in sequences:\n",
    "    analyze_sequence(seq, name)"
   ]
  },
  {
   "cell_type": "markdown",
   "id": "cell-39",
   "metadata": {},
   "source": [
    "**Benefits of the clean version:**\n",
    "- ✅ No repeated code\n",
    "- ✅ Easy to understand what each function does\n",
    "- ✅ Easy to test each function separately\n",
    "- ✅ Easy to add new sequences\n",
    "- ✅ If we fix a bug, we fix it once\n",
    "- ✅ Can reuse functions in other projects!"
   ]
  },
  {
   "cell_type": "markdown",
   "id": "cell-40",
   "metadata": {},
   "source": [
    "### Practice Example 6.1: Refactor This Spaghetti Code!\n",
    "\n",
    "**Your turn!** This code calculates protein properties, but it's messy. Refactor it using functions!\n",
    "\n",
    "**Messy code:**"
   ]
  },
  {
   "cell_type": "code",
   "execution_count": null,
   "id": "cell-41",
   "metadata": {},
   "outputs": [],
   "source": [
    "# Calculate properties for three proteins - MESSY!\n",
    "protein1 = \"MKLAVTGAGA\"\n",
    "protein2 = \"AGCFHILMNP\"\n",
    "protein3 = \"QRSTVWY\"\n",
    "\n",
    "# Protein 1\n",
    "mass1 = len(protein1) * 110\n",
    "charge1 = protein1.count('K') + protein1.count('R') - protein1.count('D') - protein1.count('E')\n",
    "hydrophobic1 = protein1.count('A') + protein1.count('V') + protein1.count('L') + protein1.count('I')\n",
    "print(f\"Protein1: Mass={mass1}, Charge={charge1}, Hydrophobic={hydrophobic1}\")\n",
    "\n",
    "# Protein 2\n",
    "mass2 = len(protein2) * 110\n",
    "charge2 = protein2.count('K') + protein2.count('R') - protein2.count('D') - protein2.count('E')\n",
    "hydrophobic2 = protein2.count('A') + protein2.count('V') + protein2.count('L') + protein2.count('I')\n",
    "print(f\"Protein2: Mass={mass2}, Charge={charge2}, Hydrophobic={hydrophobic2}\")\n",
    "\n",
    "# Protein 3\n",
    "mass3 = len(protein3) * 110\n",
    "charge3 = protein3.count('K') + protein3.count('R') - protein3.count('D') - protein3.count('E')\n",
    "hydrophobic3 = protein3.count('A') + protein3.count('V') + protein3.count('L') + protein3.count('I')\n",
    "print(f\"Protein3: Mass={mass3}, Charge={charge3}, Hydrophobic={hydrophobic3}\")"
   ]
  },
  {
   "cell_type": "markdown",
   "id": "cell-42",
   "metadata": {},
   "source": [
    "**YOUR TASK:**\n",
    "\n",
    "Refactor the code above by creating these functions:\n",
    "1. `calculate_mass(protein)` - returns estimated mass\n",
    "2. `calculate_charge(protein)` - returns net charge\n",
    "3. `count_hydrophobic(protein)` - returns count of hydrophobic amino acids\n",
    "4. `analyze_protein(protein, name)` - uses the above functions and prints results\n",
    "\n",
    "Then use a loop to analyze all three proteins cleanly!"
   ]
  },
  {
   "cell_type": "code",
   "execution_count": null,
   "id": "cell-43",
   "metadata": {},
   "outputs": [],
   "source": [
    "# YOUR CODE HERE: Write the functions\n",
    "\n",
    "\n",
    "\n",
    "\n",
    "\n",
    "# YOUR CODE HERE: Use a loop to analyze all proteins\n"
   ]
  },
  {
   "cell_type": "markdown",
   "id": "cell-44",
   "metadata": {},
   "source": [
    "### Practice Example 6.2: Bigger Refactoring Challenge\n",
    "\n",
    "This code processes experimental data, but it's a mess! Refactor it with functions.\n",
    "\n",
    "**Messy code:**"
   ]
  },
  {
   "cell_type": "code",
   "execution_count": null,
   "id": "cell-45",
   "metadata": {},
   "outputs": [],
   "source": [
    "# Process three samples - VERY MESSY!\n",
    "sample1_od = [0.1, 0.15, 0.22, 0.35, 0.5]\n",
    "sample2_od = [0.08, 0.12, 0.18, 0.28, 0.42]\n",
    "sample3_od = [0.12, 0.18, 0.26, 0.40, 0.58]\n",
    "\n",
    "# Sample 1\n",
    "avg1 = sum(sample1_od) / len(sample1_od)\n",
    "growth1 = sample1_od[-1] - sample1_od[0]\n",
    "doubled1 = all(sample1_od[i+1] / sample1_od[i] >= 1.3 for i in range(len(sample1_od)-1))\n",
    "print(f\"Sample1: Avg OD={avg1:.3f}, Growth={growth1:.2f}, Doubling={'Yes' if doubled1 else 'No'}\")\n",
    "\n",
    "# Sample 2\n",
    "avg2 = sum(sample2_od) / len(sample2_od)\n",
    "growth2 = sample2_od[-1] - sample2_od[0]\n",
    "doubled2 = all(sample2_od[i+1] / sample2_od[i] >= 1.3 for i in range(len(sample2_od)-1))\n",
    "print(f\"Sample2: Avg OD={avg2:.3f}, Growth={growth2:.2f}, Doubling={'Yes' if doubled2 else 'No'}\")\n",
    "\n",
    "# Sample 3\n",
    "avg3 = sum(sample3_od) / len(sample3_od)\n",
    "growth3 = sample3_od[-1] - sample3_od[0]\n",
    "doubled3 = all(sample3_od[i+1] / sample3_od[i] >= 1.3 for i in range(len(sample3_od)-1))\n",
    "print(f\"Sample3: Avg OD={avg3:.3f}, Growth={growth3:.2f}, Doubling={'Yes' if doubled3 else 'No'}\")"
   ]
  },
  {
   "cell_type": "markdown",
   "id": "cell-46",
   "metadata": {},
   "source": [
    "**YOUR TASK:**\n",
    "\n",
    "Create these functions:\n",
    "1. `calculate_average(measurements)` - returns average OD\n",
    "2. `calculate_growth(measurements)` - returns total growth (last - first)\n",
    "3. `is_doubling(measurements)` - returns True if each step increased by 1.3x or more\n",
    "4. `analyze_sample(measurements, name)` - prints analysis using above functions\n",
    "\n",
    "**Bonus:** Add docstrings to all functions!"
   ]
  },
  {
   "cell_type": "code",
   "execution_count": null,
   "id": "cell-47",
   "metadata": {},
   "outputs": [],
   "source": [
    "# YOUR CODE HERE: Write the functions with docstrings\n",
    "\n",
    "\n",
    "\n",
    "\n",
    "\n",
    "# YOUR CODE HERE: Analyze all samples\n"
   ]
  },
  {
   "cell_type": "markdown",
   "id": "cell-48",
   "metadata": {},
   "source": [
    "---\n",
    "\n",
    "## Section 7: Default Parameters\n",
    "\n",
    "### Guided Example 7.1: Functions with default values\n",
    "\n",
    "Sometimes parameters have a common value. You can set defaults!"
   ]
  },
  {
   "cell_type": "code",
   "execution_count": null,
   "id": "cell-49",
   "metadata": {},
   "outputs": [],
   "source": [
    "def calculate_dilution(initial_conc, dilution_factor=10):\n",
    "    \"\"\"Calculate diluted concentration.\n",
    "    \n",
    "    Parameters:\n",
    "        initial_conc: Starting concentration\n",
    "        dilution_factor: How much to dilute (default: 10)\n",
    "    \n",
    "    Returns:\n",
    "        Final concentration after dilution\n",
    "    \"\"\"\n",
    "    return initial_conc / dilution_factor\n",
    "\n",
    "# Use the default (10x dilution)\n",
    "print(calculate_dilution(100))  # 10.0\n",
    "\n",
    "# Override the default\n",
    "print(calculate_dilution(100, 5))  # 20.0\n",
    "print(calculate_dilution(100, dilution_factor=20))  # 5.0 (named argument)"
   ]
  },
  {
   "cell_type": "markdown",
   "id": "cell-50",
   "metadata": {},
   "source": [
    "**Key points:**\n",
    "- Default parameter: `dilution_factor=10`\n",
    "- If you don't provide it, it uses 10\n",
    "- You can override by providing a different value\n",
    "- Can use named arguments for clarity: `dilution_factor=20`"
   ]
  },
  {
   "cell_type": "markdown",
   "id": "cell-51",
   "metadata": {},
   "source": [
    "### Practice Example 7.1: Function with defaults\n",
    "\n",
    "Write a function `calculate_pcr_yield()` that:\n",
    "- Takes `initial_copies` (required)\n",
    "- Takes `cycles` (default: 30)\n",
    "- Assumes each cycle doubles the DNA: `initial_copies * (2 ** cycles)`\n",
    "- Returns the final number of copies"
   ]
  },
  {
   "cell_type": "code",
   "execution_count": null,
   "id": "cell-52",
   "metadata": {},
   "outputs": [],
   "source": [
    "# YOUR CODE HERE: Write the function\n",
    "\n",
    "\n",
    "# Test it:\n",
    "# print(calculate_pcr_yield(100))  # Should use 30 cycles\n",
    "# print(calculate_pcr_yield(100, 20))  # Should use 20 cycles"
   ]
  },
  {
   "cell_type": "markdown",
   "id": "cell-53",
   "metadata": {},
   "source": [
    "---\n",
    "\n",
    "## Section 8: Challenge Problems\n",
    "\n",
    "### Challenge 1: DNA Translation Function (Medium)\n",
    "\n",
    "Write a function that translates DNA to amino acids using this simple codon table:\n",
    "- ATG → M (Start)\n",
    "- TGG → W\n",
    "- TAA, TAG, TGA → * (Stop)\n",
    "- Everything else → X (Unknown)\n",
    "\n",
    "The function should:\n",
    "- Take a DNA sequence\n",
    "- Split it into codons (groups of 3)\n",
    "- Translate each codon\n",
    "- Return the amino acid sequence as a string\n",
    "- Include a good docstring!"
   ]
  },
  {
   "cell_type": "code",
   "execution_count": null,
   "id": "cell-54",
   "metadata": {},
   "outputs": [],
   "source": [
    "# YOUR CODE HERE\n",
    "\n",
    "\n",
    "# Test it:\n",
    "# print(translate_dna('ATGTGGTAG'))  # Should print: MW*"
   ]
  },
  {
   "cell_type": "markdown",
   "id": "cell-55",
   "metadata": {},
   "source": [
    "### Challenge 2: Quality Control Suite (Hard)\n",
    "\n",
    "Create a complete quality control suite for DNA sequences. Write these functions:\n",
    "\n",
    "1. `is_valid_dna(sequence)` - returns True if sequence only contains A, T, G, C\n",
    "2. `has_ambiguous_bases(sequence)` - returns True if contains N or other ambiguous bases\n",
    "3. `check_length(sequence, min_length=50, max_length=1000)` - returns True if length is in range\n",
    "4. `gc_in_range(sequence, min_gc=40, max_gc=60)` - returns True if GC% is in range\n",
    "5. `quality_control(sequence)` - uses ALL above functions and prints a report\n",
    "\n",
    "**Bonus:** Add detailed docstrings to all functions!"
   ]
  },
  {
   "cell_type": "code",
   "execution_count": null,
   "id": "cell-56",
   "metadata": {},
   "outputs": [],
   "source": [
    "# YOUR CODE HERE: Write all 5 functions\n",
    "\n",
    "\n",
    "\n",
    "\n",
    "\n",
    "# Test with different sequences:\n",
    "# quality_control('ATCGATCG')  # Too short\n",
    "# quality_control('ATCGNTCGATCGATCGATCGATCGATCGATCGATCGATCGATCGATCGATCG')  # Has N\n",
    "# quality_control('ATCGATCGATCGATCGATCGATCGATCGATCGATCGATCGATCGATCGATCG')  # Should pass all"
   ]
  },
  {
   "cell_type": "markdown",
   "id": "cell-57",
   "metadata": {},
   "source": [
    "### Challenge 3: Refactor This Nightmare! (Hard)\n",
    "\n",
    "This code calculates enzyme kinetics for multiple enzymes, but it's terrible! Refactor it completely.\n",
    "\n",
    "**The nightmare:**"
   ]
  },
  {
   "cell_type": "code",
   "execution_count": null,
   "id": "cell-58",
   "metadata": {},
   "outputs": [],
   "source": [
    "# Enzyme kinetics analysis - NIGHTMARE CODE!\n",
    "e1_name = \"Amylase\"\n",
    "e1_vmax = 100\n",
    "e1_km = 5.0\n",
    "e1_substrate = 10.0\n",
    "e1_velocity = (e1_vmax * e1_substrate) / (e1_km + e1_substrate)\n",
    "e1_efficiency = e1_vmax / e1_km\n",
    "e1_saturation = (e1_substrate / e1_km) * 100\n",
    "print(f\"{e1_name}: V={e1_velocity:.2f}, Efficiency={e1_efficiency:.2f}, Saturation={e1_saturation:.1f}%\")\n",
    "\n",
    "e2_name = \"Lipase\"\n",
    "e2_vmax = 150\n",
    "e2_km = 8.0\n",
    "e2_substrate = 20.0\n",
    "e2_velocity = (e2_vmax * e2_substrate) / (e2_km + e2_substrate)\n",
    "e2_efficiency = e2_vmax / e2_km\n",
    "e2_saturation = (e2_substrate / e2_km) * 100\n",
    "print(f\"{e2_name}: V={e2_velocity:.2f}, Efficiency={e2_efficiency:.2f}, Saturation={e2_saturation:.1f}%\")\n",
    "\n",
    "e3_name = \"Protease\"\n",
    "e3_vmax = 80\n",
    "e3_km = 3.0\n",
    "e3_substrate = 15.0\n",
    "e3_velocity = (e3_vmax * e3_substrate) / (e3_km + e3_substrate)\n",
    "e3_efficiency = e3_vmax / e3_km\n",
    "e3_saturation = (e3_substrate / e3_km) * 100\n",
    "print(f\"{e3_name}: V={e3_velocity:.2f}, Efficiency={e3_efficiency:.2f}, Saturation={e3_saturation:.1f}%\")"
   ]
  },
  {
   "cell_type": "markdown",
   "id": "cell-59",
   "metadata": {},
   "source": [
    "**YOUR TASK:**\n",
    "\n",
    "Refactor this into clean functions. Suggested functions:\n",
    "1. `michaelis_menten(vmax, km, substrate)` - calculates velocity\n",
    "2. `calculate_efficiency(vmax, km)` - calculates catalytic efficiency\n",
    "3. `calculate_saturation(substrate, km)` - calculates % saturation\n",
    "4. `analyze_enzyme(name, vmax, km, substrate)` - complete analysis\n",
    "\n",
    "Then store enzyme data in a list of tuples and loop through them!\n",
    "\n",
    "**Bonus:** Add detailed docstrings with the actual formulas!"
   ]
  },
  {
   "cell_type": "code",
   "execution_count": null,
   "id": "cell-60",
   "metadata": {},
   "outputs": [],
   "source": [
    "# YOUR CODE HERE: Refactor completely!\n",
    "\n",
    "\n",
    "\n",
    "\n",
    "\n",
    "# YOUR CODE HERE: Create clean loop to analyze all enzymes\n"
   ]
  },
  {
   "cell_type": "markdown",
   "id": "cell-61",
   "metadata": {},
   "source": [
    "---\n",
    "\n",
    "## Summary\n",
    "\n",
    "Congratulations! You've learned how to write clean, reusable code with functions!\n",
    "\n",
    "**Key concepts:**\n",
    "- ✅ Functions eliminate repeated code\n",
    "- ✅ Use `def` to define functions\n",
    "- ✅ Parameters are inputs, arguments are actual values\n",
    "- ✅ `return` sends values back (different from `print`!)\n",
    "- ✅ Docstrings document what functions do\n",
    "- ✅ Refactoring turns spaghetti code into clean, organized functions\n",
    "- ✅ Default parameters make functions more flexible\n",
    "\n",
    "**Good function habits:**\n",
    "- 📝 Use descriptive names: `calculate_gc_content` not `calc`\n",
    "- 📝 One function = one clear purpose\n",
    "- 📝 Always include docstrings\n",
    "- 📝 Return values instead of printing (usually)\n",
    "- 📝 Keep functions short and focused\n",
    "\n",
    "**Next steps:**\n",
    "- Practice refactoring your own messy code\n",
    "- Write functions for common tasks you do often\n",
    "- Build a library of reusable biological functions!\n",
    "\n",
    "Remember: **Good programmers are lazy** - they write functions once and reuse them everywhere! 🚀"
   ]
  }
 ],
 "metadata": {
  "kernelspec": {
   "display_name": "Python 3",
   "language": "python",
   "name": "python3"
  },
  "language_info": {
   "codemirror_mode": {
    "name": "ipython",
    "version": 3
   },
   "file_extension": ".py",
   "mimetype": "text/x-python",
   "name": "python",
   "nbconvert_exporter": "python",
   "pygments_lexer": "ipython3",
   "version": "3.8.0"
  }
 },
 "nbformat": 4,
 "nbformat_minor": 5
}
