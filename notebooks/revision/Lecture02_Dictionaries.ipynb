{
 "cells": [
  {
   "cell_type": "markdown",
   "metadata": {},
   "source": [
    "# Lecture 3: Dictionaries - Storing Key-Value Pairs\n",
    "## Python for Biology\n",
    "**Learning Objectives:**\n",
    "- Understand what dictionaries are and when to use them\n",
    "- Create and access dictionary values\n",
    "- Loop through dictionaries\n",
    "- Use dictionaries to translate DNA sequences (genetic code)\n",
    "\n",
    "---"
   ]
  },
  {
   "cell_type": "markdown",
   "metadata": {},
   "source": [
    "## Section 1: What is a Dictionary?\n",
    "\n",
    "### Guided Example 1.1: Creating a simple dictionary\n",
    "\n",
    "A dictionary stores pairs of information: a **key** and a **value**"
   ]
  },
  {
   "cell_type": "code",
   "execution_count": null,
   "metadata": {},
   "outputs": [],
   "source": [
    "# A dictionary mapping nucleotides to their full names\n",
    "nucleotide_names = {\n",
    "    'A': 'Adenine',\n",
    "    'T': 'Thymine',\n",
    "    'C': 'Cytosine',\n",
    "    'G': 'Guanine'\n",
    "}\n",
    "\n",
    "print(nucleotide_names)"
   ]
  },
  {
   "cell_type": "markdown",
   "metadata": {},
   "source": [
    "**What's happening here?**\n",
    "- Dictionaries use curly braces `{}`\n",
    "- Each entry has a **key** (like `'A'`) and a **value** (like `'Adenine'`)\n",
    "- We write them as `key: value`\n",
    "- Separate entries with commas"
   ]
  },
  {
   "cell_type": "markdown",
   "metadata": {},
   "source": [
    "### Guided Example 1.2: Accessing values\n",
    "\n",
    "We use the key to look up the value"
   ]
  },
  {
   "cell_type": "code",
   "execution_count": null,
   "metadata": {},
   "outputs": [],
   "source": [
    "nucleotide_names = {\n",
    "    'A': 'Adenine',\n",
    "    'T': 'Thymine',\n",
    "    'C': 'Cytosine',\n",
    "    'G': 'Guanine'\n",
    "}\n",
    "\n",
    "# Look up what 'A' stands for\n",
    "name = nucleotide_names['A']\n",
    "print(f\"A stands for: {name}\")\n",
    "\n",
    "# Look up 'G'\n",
    "print(f\"G stands for: {nucleotide_names['G']}\")"
   ]
  },
  {
   "cell_type": "markdown",
   "metadata": {},
   "source": [
    "**What's happening here?**\n",
    "- Use square brackets with the key: `dictionary[key]`\n",
    "- This gives us the value for that key\n",
    "- Like looking up a word in a real dictionary!"
   ]
  },
  {
   "cell_type": "markdown",
   "metadata": {},
   "source": [
    "### Practice Example 1.1: Create and access a dictionary\n",
    "\n",
    "Create a dictionary and look up values"
   ]
  },
  {
   "cell_type": "code",
   "execution_count": null,
   "metadata": {},
   "outputs": [],
   "source": [
    "# Dictionary mapping blood types to their frequency\n",
    "blood_type_frequency = {\n",
    "    'O+': 37,\n",
    "    'A+': 36,\n",
    "    'B+': 8,\n",
    "    'AB+': 3\n",
    "}\n",
    "\n",
    "# YOUR CODE HERE: \n",
    "# Print the frequency of blood type 'A+'\n",
    "# Print the frequency of blood type 'O+'"
   ]
  },
  {
   "cell_type": "markdown",
   "metadata": {},
   "source": [
    "---\n",
    "\n",
    "## Section 2: Adding and Modifying Entries\n",
    "\n",
    "### Guided Example 2.1: Adding new entries\n",
    "\n",
    "We can add new key-value pairs to a dictionary"
   ]
  },
  {
   "cell_type": "code",
   "execution_count": null,
   "metadata": {},
   "outputs": [],
   "source": [
    "# Start with a small dictionary\n",
    "amino_acid_codes = {\n",
    "    'Ala': 'A',\n",
    "    'Cys': 'C'\n",
    "}\n",
    "\n",
    "print(\"Before:\", amino_acid_codes)\n",
    "\n",
    "# Add new entries\n",
    "amino_acid_codes['Asp'] = 'D'\n",
    "amino_acid_codes['Glu'] = 'E'\n",
    "\n",
    "print(\"After:\", amino_acid_codes)"
   ]
  },
  {
   "cell_type": "markdown",
   "metadata": {},
   "source": [
    "**What's happening here?**\n",
    "- To add: `dictionary[new_key] = new_value`\n",
    "- If the key doesn't exist, it creates a new entry\n",
    "- The dictionary grows as we add more entries"
   ]
  },
  {
   "cell_type": "markdown",
   "metadata": {},
   "source": [
    "### Practice Example 2.1: Add entries\n",
    "\n",
    "Add two more amino acids to the dictionary"
   ]
  },
  {
   "cell_type": "code",
   "execution_count": null,
   "metadata": {},
   "outputs": [],
   "source": [
    "amino_acid_codes = {\n",
    "    'Ala': 'A',\n",
    "    'Cys': 'C'\n",
    "}\n",
    "\n",
    "# YOUR CODE HERE:\n",
    "# Add 'Phe' with code 'F'\n",
    "# Add 'Gly' with code 'G'\n",
    "# Print the dictionary"
   ]
  },
  {
   "cell_type": "markdown",
   "metadata": {},
   "source": [
    "### Guided Example 2.2: Checking if a key exists\n",
    "\n",
    "Before accessing a key, we can check if it exists"
   ]
  },
  {
   "cell_type": "code",
   "execution_count": null,
   "metadata": {},
   "outputs": [],
   "source": [
    "nucleotide_names = {\n",
    "    'A': 'Adenine',\n",
    "    'T': 'Thymine',\n",
    "    'C': 'Cytosine',\n",
    "    'G': 'Guanine'\n",
    "}\n",
    "\n",
    "# Check if 'A' is in the dictionary\n",
    "if 'A' in nucleotide_names:\n",
    "    print(f\"A = {nucleotide_names['A']}\")\n",
    "\n",
    "# Check if 'U' is in the dictionary (it's not - U is RNA!)\n",
    "if 'U' in nucleotide_names:\n",
    "    print(f\"U = {nucleotide_names['U']}\")\n",
    "else:\n",
    "    print(\"U not found (it's an RNA nucleotide!)\")"
   ]
  },
  {
   "cell_type": "markdown",
   "metadata": {},
   "source": [
    "**What's happening here?**\n",
    "- Use `if key in dictionary:` to check\n",
    "- This prevents errors if the key doesn't exist\n",
    "- Very useful when processing data"
   ]
  },
  {
   "cell_type": "markdown",
   "metadata": {},
   "source": [
    "### Practice Example 2.2: Check for keys\n",
    "\n",
    "Check if specific enzymes are in the dictionary"
   ]
  },
  {
   "cell_type": "code",
   "execution_count": null,
   "metadata": {},
   "outputs": [],
   "source": [
    "enzyme_functions = {\n",
    "    'Helicase': 'Unwinds DNA',\n",
    "    'Polymerase': 'Synthesizes DNA',\n",
    "    'Ligase': 'Joins DNA fragments'\n",
    "}\n",
    "\n",
    "# YOUR CODE HERE:\n",
    "# Check if 'Polymerase' is in the dictionary and print its function\n",
    "# Check if 'Nuclease' is in the dictionary and print an appropriate message"
   ]
  },
  {
   "cell_type": "markdown",
   "metadata": {},
   "source": [
    "---\n",
    "\n",
    "## Section 3: Looping Through Dictionaries\n",
    "\n",
    "### Guided Example 3.1: Looping through keys\n",
    "\n",
    "We can iterate through all the keys in a dictionary"
   ]
  },
  {
   "cell_type": "code",
   "execution_count": null,
   "metadata": {},
   "outputs": [],
   "source": [
    "nucleotide_names = {\n",
    "    'A': 'Adenine',\n",
    "    'T': 'Thymine',\n",
    "    'C': 'Cytosine',\n",
    "    'G': 'Guanine'\n",
    "}\n",
    "\n",
    "print(\"Nucleotides:\")\n",
    "for nucleotide in nucleotide_names:\n",
    "    print(f\"  {nucleotide}\")"
   ]
  },
  {
   "cell_type": "markdown",
   "metadata": {},
   "source": [
    "**What's happening here?**\n",
    "- Looping through a dictionary gives us the **keys**\n",
    "- We can then use the key to access the value if needed"
   ]
  },
  {
   "cell_type": "markdown",
   "metadata": {},
   "source": [
    "### Guided Example 3.2: Looping through keys and values\n",
    "\n",
    "Usually we want both the key AND the value"
   ]
  },
  {
   "cell_type": "code",
   "execution_count": null,
   "metadata": {},
   "outputs": [],
   "source": [
    "nucleotide_names = {\n",
    "    'A': 'Adenine',\n",
    "    'T': 'Thymine',\n",
    "    'C': 'Cytosine',\n",
    "    'G': 'Guanine'\n",
    "}\n",
    "\n",
    "print(\"Nucleotide names:\")\n",
    "for nucleotide, name in nucleotide_names.items():\n",
    "    print(f\"  {nucleotide} = {name}\")"
   ]
  },
  {
   "cell_type": "markdown",
   "metadata": {},
   "source": [
    "**What's new here?**\n",
    "- `.items()` gives us both key and value\n",
    "- We use two variables: one for the key, one for the value\n",
    "- Just like `enumerate()` gave us index and item!"
   ]
  },
  {
   "cell_type": "markdown",
   "metadata": {},
   "source": [
    "### Practice Example 3.1: Loop through dictionary\n",
    "\n",
    "Print all vitamins and their functions"
   ]
  },
  {
   "cell_type": "code",
   "execution_count": null,
   "metadata": {},
   "outputs": [],
   "source": [
    "vitamin_functions = {\n",
    "    'Vitamin A': 'Vision',\n",
    "    'Vitamin C': 'Immune system',\n",
    "    'Vitamin D': 'Bone health',\n",
    "    'Vitamin E': 'Antioxidant'\n",
    "}\n",
    "\n",
    "# YOUR CODE HERE:\n",
    "# Loop through and print each vitamin and its function\n",
    "# Format: \"Vitamin A: Vision\""
   ]
  },
  {
   "cell_type": "markdown",
   "metadata": {},
   "source": [
    "---\n",
    "\n",
    "## Section 4: Using Dictionaries with DNA Sequences\n",
    "\n",
    "### Guided Example 4.1: Nucleotide complements\n",
    "\n",
    "Let's use a dictionary to store complement rules"
   ]
  },
  {
   "cell_type": "code",
   "execution_count": null,
   "metadata": {},
   "outputs": [],
   "source": [
    "# Dictionary of complement pairs\n",
    "complement_dict = {\n",
    "    'A': 'T',\n",
    "    'T': 'A',\n",
    "    'C': 'G',\n",
    "    'G': 'C'\n",
    "}\n",
    "\n",
    "dna = \"ATCG\"\n",
    "complement = \"\"\n",
    "\n",
    "# Use dictionary to build complement\n",
    "for nucleotide in dna:\n",
    "    complement += complement_dict[nucleotide]\n",
    "\n",
    "print(f\"Original:   {dna}\")\n",
    "print(f\"Complement: {complement}\")"
   ]
  },
  {
   "cell_type": "markdown",
   "metadata": {},
   "source": [
    "**What's happening here?**\n",
    "- The dictionary stores the pairing rules\n",
    "- We look up each nucleotide to get its complement\n",
    "- Much cleaner than using if/elif statements!"
   ]
  },
  {
   "cell_type": "markdown",
   "metadata": {},
   "source": [
    "### Practice Example 4.1: Create complement using dictionary\n",
    "\n",
    "Use the complement dictionary to create the complement of this sequence"
   ]
  },
  {
   "cell_type": "code",
   "execution_count": null,
   "metadata": {},
   "outputs": [],
   "source": [
    "complement_dict = {\n",
    "    'A': 'T',\n",
    "    'T': 'A',\n",
    "    'C': 'G',\n",
    "    'G': 'C'\n",
    "}\n",
    "\n",
    "dna = \"GCGCATAT\"\n",
    "\n",
    "# YOUR CODE HERE: create and print the complement"
   ]
  },
  {
   "cell_type": "markdown",
   "metadata": {},
   "source": [
    "### Guided Example 4.2: Simple genetic code\n",
    "\n",
    "The genetic code maps codons (3 nucleotides) to amino acids. Let's use a dictionary!"
   ]
  },
  {
   "cell_type": "code",
   "execution_count": null,
   "metadata": {},
   "outputs": [],
   "source": [
    "# A small genetic code table\n",
    "genetic_code = {\n",
    "    'ATG': 'M',  # Methionine (start codon)\n",
    "    'GCA': 'A',  # Alanine\n",
    "    'GCC': 'A',  # Alanine\n",
    "    'TGC': 'C',  # Cysteine\n",
    "    'GAT': 'D',  # Aspartate\n",
    "    'GAC': 'D',  # Aspartate\n",
    "    'TAA': '*',  # Stop\n",
    "    'TAG': '*',  # Stop\n",
    "    'TGA': '*'   # Stop\n",
    "}\n",
    "\n",
    "# Look up a single codon\n",
    "codon = 'ATG'\n",
    "amino_acid = genetic_code[codon]\n",
    "print(f\"{codon} codes for {amino_acid}\")"
   ]
  },
  {
   "cell_type": "markdown",
   "metadata": {},
   "source": [
    "**What's happening here?**\n",
    "- Keys are codons (DNA triplets)\n",
    "- Values are amino acid codes (single letters)\n",
    "- '*' represents stop codons\n",
    "- We can look up any codon instantly!"
   ]
  },
  {
   "cell_type": "markdown",
   "metadata": {},
   "source": [
    "### Guided Example 4.3: Translating a sequence\n",
    "\n",
    "Now let's translate a whole DNA sequence to amino acids"
   ]
  },
  {
   "cell_type": "code",
   "execution_count": null,
   "metadata": {},
   "outputs": [],
   "source": [
    "genetic_code = {\n",
    "    'ATG': 'M',\n",
    "    'GCA': 'A',\n",
    "    'GCC': 'A',\n",
    "    'TGC': 'C',\n",
    "    'GAT': 'D',\n",
    "    'GAC': 'D',\n",
    "    'TAA': '*',\n",
    "    'TAG': '*',\n",
    "    'TGA': '*'\n",
    "}\n",
    "\n",
    "dna = \"ATGGCATGCTAA\"\n",
    "\n",
    "# Split into codons and translate\n",
    "protein = \"\"\n",
    "\n",
    "for i in range(0, len(dna), 3):\n",
    "    codon = dna[i:i+3]\n",
    "    \n",
    "    # Check if codon is in our genetic code\n",
    "    if codon in genetic_code:\n",
    "        amino_acid = genetic_code[codon]\n",
    "        \n",
    "        # Stop if we hit a stop codon\n",
    "        if amino_acid == '*':\n",
    "            break\n",
    "        \n",
    "        protein += amino_acid\n",
    "\n",
    "print(f\"DNA:     {dna}\")\n",
    "print(f\"Protein: {protein}\")"
   ]
  },
  {
   "cell_type": "markdown",
   "metadata": {},
   "source": [
    "**What's new here?**\n",
    "- We split the DNA into codons (3 at a time)\n",
    "- Look up each codon in the genetic code dictionary\n",
    "- Stop when we hit a stop codon ('*')\n",
    "- Build up the protein sequence\n",
    "- This is real translation!"
   ]
  },
  {
   "cell_type": "markdown",
   "metadata": {},
   "source": [
    "### Practice Example 4.2: Translate a sequence\n",
    "\n",
    "Translate this DNA sequence to amino acids"
   ]
  },
  {
   "cell_type": "code",
   "execution_count": null,
   "metadata": {},
   "outputs": [],
   "source": [
    "genetic_code = {\n",
    "    'ATG': 'M',\n",
    "    'GCA': 'A',\n",
    "    'GCC': 'A',\n",
    "    'TGC': 'C',\n",
    "    'GAT': 'D',\n",
    "    'GAC': 'D',\n",
    "    'TAA': '*',\n",
    "    'TAG': '*',\n",
    "    'TGA': '*'\n",
    "}\n",
    "\n",
    "dna = \"ATGGACTGCTAG\"\n",
    "\n",
    "# YOUR CODE HERE:\n",
    "# Split into codons\n",
    "# Translate each codon using the genetic code\n",
    "# Stop at stop codon\n",
    "# Print the protein sequence"
   ]
  },
  {
   "cell_type": "markdown",
   "metadata": {},
   "source": [
    "### Guided Example 4.4: Counting amino acids in a protein\n",
    "\n",
    "Let's count how many times each amino acid appears"
   ]
  },
  {
   "cell_type": "code",
   "execution_count": null,
   "metadata": {},
   "outputs": [],
   "source": [
    "protein = \"MACDDA\"\n",
    "\n",
    "# Create empty dictionary to store counts\n",
    "amino_acid_counts = {}\n",
    "\n",
    "for amino_acid in protein:\n",
    "    # If we haven't seen this amino acid yet, start counting at 0\n",
    "    if amino_acid not in amino_acid_counts:\n",
    "        amino_acid_counts[amino_acid] = 0\n",
    "    \n",
    "    # Add 1 to the count\n",
    "    amino_acid_counts[amino_acid] += 1\n",
    "\n",
    "print(\"Amino acid composition:\")\n",
    "for aa, count in amino_acid_counts.items():\n",
    "    print(f\"  {aa}: {count}\")"
   ]
  },
  {
   "cell_type": "markdown",
   "metadata": {},
   "source": [
    "**What's new here?**\n",
    "- We create an empty dictionary to store our counts\n",
    "- For each amino acid, we add it to the dictionary or increment its count\n",
    "- This gives us the composition of the protein\n",
    "- Very useful for analyzing sequences!"
   ]
  },
  {
   "cell_type": "markdown",
   "metadata": {},
   "source": [
    "### Practice Example 4.3: Count nucleotides\n",
    "\n",
    "Count how many times each nucleotide appears in this DNA sequence"
   ]
  },
  {
   "cell_type": "code",
   "execution_count": null,
   "metadata": {},
   "outputs": [],
   "source": [
    "dna = \"ATCGATCGATCG\"\n",
    "\n",
    "# YOUR CODE HERE:\n",
    "# Create an empty dictionary\n",
    "# Count each nucleotide\n",
    "# Print the counts"
   ]
  },
  {
   "cell_type": "markdown",
   "metadata": {},
   "source": [
    "---\n",
    "\n",
    "## Section 5: Practice Challenges\n",
    "\n",
    "### Challenge 1: Reverse Genetic Code\n",
    "\n",
    "Given an amino acid, find all codons that code for it"
   ]
  },
  {
   "cell_type": "code",
   "execution_count": null,
   "metadata": {},
   "outputs": [],
   "source": [
    "genetic_code = {\n",
    "    'ATG': 'M',\n",
    "    'GCA': 'A',\n",
    "    'GCC': 'A',\n",
    "    'GCG': 'A',\n",
    "    'GCT': 'A',\n",
    "    'TGC': 'C',\n",
    "    'TGT': 'C'\n",
    "}\n",
    "\n",
    "target_amino_acid = 'A'\n",
    "\n",
    "# YOUR CODE HERE:\n",
    "# Find all codons that code for 'A' (Alanine)\n",
    "# Hint: loop through the dictionary and check values\n",
    "# Store matching codons in a list\n",
    "# Print the list"
   ]
  },
  {
   "cell_type": "markdown",
   "metadata": {},
   "source": [
    "### Challenge 2: Codon Usage\n",
    "\n",
    "Count how many times each codon appears in a DNA sequence"
   ]
  },
  {
   "cell_type": "code",
   "execution_count": null,
   "metadata": {},
   "outputs": [],
   "source": [
    "dna = \"ATGGGCATGGCAGGCTAA\"\n",
    "\n",
    "# YOUR CODE HERE:\n",
    "# Split into codons\n",
    "# Count how many times each codon appears\n",
    "# Store in a dictionary\n",
    "# Print the codon usage"
   ]
  },
  {
   "cell_type": "markdown",
   "metadata": {},
   "source": [
    "### Challenge 3: DNA to Amino Acid Properties\n",
    "\n",
    "Translate DNA and determine if the protein is hydrophobic or hydrophilic"
   ]
  },
  {
   "cell_type": "code",
   "execution_count": null,
   "metadata": {},
   "outputs": [],
   "source": [
    "genetic_code = {\n",
    "    'ATG': 'M',\n",
    "    'GCA': 'A',\n",
    "    'TGC': 'C',\n",
    "    'TAA': '*'\n",
    "}\n",
    "\n",
    "# Amino acid properties\n",
    "hydrophobic = ['A', 'C', 'M']\n",
    "\n",
    "dna = \"ATGGCATGCTAA\"\n",
    "\n",
    "# YOUR CODE HERE:\n",
    "# 1. Translate the DNA to protein\n",
    "# 2. Count how many amino acids are hydrophobic\n",
    "# 3. Calculate percentage: (hydrophobic_count / total_count) * 100\n",
    "# 4. Print the result"
   ]
  },
  {
   "cell_type": "markdown",
   "metadata": {},
   "source": [
    "---\n",
    "\n",
    "## Summary\n",
    "\n",
    "Congratulations! You've learned the basics of dictionaries in Python:\n",
    "\n",
    "**Dictionary basics:**\n",
    "- ✅ Creating dictionaries with key-value pairs\n",
    "- ✅ Accessing values using keys\n",
    "- ✅ Adding and modifying entries\n",
    "- ✅ Checking if keys exist\n",
    "\n",
    "**Looping:**\n",
    "- ✅ Looping through keys\n",
    "- ✅ Looping through keys and values with `.items()`\n",
    "\n",
    "**Biological applications:**\n",
    "- ✅ Using dictionaries for complement rules\n",
    "- ✅ Using dictionaries for the genetic code\n",
    "- ✅ Translating DNA to amino acids\n",
    "- ✅ Counting composition (nucleotides, amino acids, codons)\n",
    "\n",
    "Dictionaries are incredibly powerful for bioinformatics! They let you:\n",
    "- Store lookup tables (like the genetic code)\n",
    "- Count occurrences efficiently\n",
    "- Map between different representations\n",
    "\n",
    "**Next steps:** Learn about reading files and processing real biological data from databases!"
   ]
  }
 ],
 "metadata": {
  "kernelnel": {
   "display_name": "Python 3",
   "language": "python",
   "name": "python3"
  },
  "language_info": {
   "name": "python",
   "version": "3.8.0"
  }
 },
 "nbformat": 4,
 "nbformat_minor": 4
}
