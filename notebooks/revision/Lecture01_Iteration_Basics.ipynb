{
 "cells": [
  {
   "cell_type": "markdown",
   "metadata": {},
   "source": [
    "# Lecture 1: Iteration Basics - For Loops\n",
    "## Python for Biology\n",
    "**Learning Objectives:**\n",
    "- Understand basic for loop syntax\n",
    "- Iterate through lists of biological data\n",
    "- Use conditionals within loops\n",
    "- Count, filter, and accumulate results\n",
    "\n",
    "---"
   ]
  },
  {
   "cell_type": "markdown",
   "metadata": {},
   "source": [
    "## Section 1: Simple For Loops\n",
    "\n",
    "### Guided Example 1.1: Printing items from a list"
   ]
  },
  {
   "cell_type": "code",
   "execution_count": 7,
   "metadata": {},
   "outputs": [
    {
     "name": "stdout",
     "output_type": "stream",
     "text": [
      "DNA Repair Genes:\n",
      "BRCA1\n",
      "BRCA2\n",
      "TP53\n",
      "ATM\n",
      "CHEK2\n"
     ]
    }
   ],
   "source": [
    "# We have a list of genes involved in DNA repair\n",
    "dna_repair_genes = ['BRCA1', 'BRCA2', 'TP53', 'ATM', 'CHEK2']\n",
    "\n",
    "# Let's print each gene name\n",
    "print(\"DNA Repair Genes:\")\n",
    "for gene in dna_repair_genes:\n",
    "    print(gene)"
   ]
  },
  {
   "cell_type": "markdown",
   "metadata": {},
   "source": [
    "**What's happening here?**\n",
    "- `for gene in dna_repair_genes:` - takes each item from the list, one at a time\n",
    "- `gene` is a temporary variable that holds each item during each iteration\n",
    "- The indented code runs once for each item in the list"
   ]
  },
  {
   "cell_type": "markdown",
   "metadata": {},
   "source": [
    "### Practice Example 1.1: Printing items\n",
    "\n",
    "Print each neurotransmitter, one per line"
   ]
  },
  {
   "cell_type": "code",
   "execution_count": null,
   "metadata": {},
   "outputs": [],
   "source": [
    "neurotransmitters = ['Dopamine', 'Serotonin', 'GABA', 'Glutamate', 'Acetylcholine']\n",
    "\n",
    "# YOUR CODE HERE: print each neurotransmitter one by one"
   ]
  },
  {
   "cell_type": "markdown",
   "metadata": {},
   "source": [
    "### Guided Example 1.2: Using range to access indexes\n",
    "\n",
    "range is useful when we want to access the index during iteration, to keep track of where we are"
   ]
  },
  {
   "cell_type": "code",
   "execution_count": null,
   "metadata": {},
   "outputs": [],
   "source": [
    "# We have a list of genes involved in DNA repair\n",
    "dna_repair_genes = [\"BRCA1\", \"BRCA2\", \"TP53\", \"ATM\", \"CHEK2\"]\n",
    "\n",
    "# Let's print the index of each gene and the gene name\n",
    "print(\"DNA Repair Genes:\")\n",
    "for index in range(len(dna_repair_genes)):  # index will be 0, 1, 2, 3, 4\n",
    "    print(f\"{index}: {dna_repair_genes[index]}\")"
   ]
  },
  {
   "cell_type": "markdown",
   "metadata": {},
   "source": [
    "**What's happening here?**\n",
    "- `range(len(dna_repair_genes))` creates numbers from 0 to 4\n",
    "- `len()` gives us the length of the list (5 genes)\n",
    "- We use the index to access each gene: `dna_repair_genes[index]`"
   ]
  },
  {
   "cell_type": "markdown",
   "metadata": {},
   "source": [
    "### Guided Example 1.3: Using range to stop early\n",
    "\n",
    "range can also be useful when we want to stop the iteration early"
   ]
  },
  {
   "cell_type": "code",
   "execution_count": null,
   "metadata": {},
   "outputs": [],
   "source": [
    "dna_repair_genes = [\"BRCA1\", \"BRCA2\", \"TP53\", \"ATM\", \"CHEK2\"]\n",
    "\n",
    "# Let's print only the first 3 genes\n",
    "print(\"First 3 DNA Repair Genes:\")\n",
    "for index in range(3):  # index will be 0, 1, 2\n",
    "    print(f\"{index}: {dna_repair_genes[index]}\")"
   ]
  },
  {
   "cell_type": "markdown",
   "metadata": {},
   "source": [
    "### Practice Example 1.2: Using range to print with numbers\n",
    "\n",
    "Print each neurotransmitter with its position number (starting from 0)"
   ]
  },
  {
   "cell_type": "code",
   "execution_count": null,
   "metadata": {},
   "outputs": [],
   "source": [
    "neurotransmitters = ['Dopamine', 'Serotonin', 'GABA', 'Glutamate', 'Acetylcholine']\n",
    "\n",
    "# YOUR CODE HERE: use range to print each neurotransmitter with its index number\n",
    "# The output should look like:\n",
    "# 0: Dopamine\n",
    "# 1: Serotonin\n",
    "# etc."
   ]
  },
  {
   "cell_type": "markdown",
   "metadata": {},
   "source": [
    "### Practice Example 1.3: Printing only the first 3 items\n",
    "\n",
    "Use range to print only the first 3 amino acids"
   ]
  },
  {
   "cell_type": "code",
   "execution_count": null,
   "metadata": {},
   "outputs": [],
   "source": [
    "amino_acids = ['Ala', 'Gly', 'Val', 'Leu', 'Ile', 'Met', 'Phe']\n",
    "\n",
    "# YOUR CODE HERE: use range to print only the first 3 amino acids\n",
    "# Hint: range(3) gives you 0, 1, 2"
   ]
  },
  {
   "cell_type": "markdown",
   "metadata": {},
   "source": [
    "---\n",
    "\n",
    "## Section 2: Using enumerate()\n",
    "\n",
    "### Guided Example 2.1: Getting both index and item with enumerate\n",
    "\n",
    "enumerate() is a helpful function that gives you both the index AND the item at the same time!"
   ]
  },
  {
   "cell_type": "code",
   "execution_count": 8,
   "metadata": {},
   "outputs": [
    {
     "name": "stdout",
     "output_type": "stream",
     "text": [
      "Enzyme List:\n",
      "0: Amylase\n",
      "1: Lipase\n",
      "2: Protease\n",
      "3: Lactase\n"
     ]
    }
   ],
   "source": [
    "# Print each enzyme with its position number\n",
    "enzymes = ['Amylase', 'Lipase', 'Protease', 'Lactase']\n",
    "\n",
    "print(\"Enzyme List:\")\n",
    "for index, enzyme in enumerate(enzymes):\n",
    "    print(f\"{index}: {enzyme}\")"
   ]
  },
  {
   "cell_type": "markdown",
   "metadata": {},
   "source": [
    "**What's happening here?**\n",
    "- `enumerate(enzymes)` gives us two things each time: the index (0, 1, 2...) and the item\n",
    "- We use TWO variables: `index` and `enzyme` to catch both values\n",
    "- This is easier than using range(len(...)) when you need both!"
   ]
  },
  {
   "cell_type": "markdown",
   "metadata": {},
   "source": [
    "### Practice Example 2.1: Print antibiotics with numbers\n",
    "\n",
    "Use enumerate to print each antibiotic with its position number"
   ]
  },
  {
   "cell_type": "code",
   "execution_count": null,
   "metadata": {},
   "outputs": [],
   "source": [
    "antibiotics = ['Penicillin', 'Amoxicillin', 'Tetracycline', 'Erythromycin']\n",
    "\n",
    "# YOUR CODE HERE: use enumerate to print each antibiotic with its index\n",
    "# The output should look like:\n",
    "# 0: Penicillin\n",
    "# 1: Amoxicillin\n",
    "# etc."
   ]
  },
  {
   "cell_type": "markdown",
   "metadata": {},
   "source": [
    "### Guided Example 2.2: Starting enumerate from 1\n",
    "\n",
    "Sometimes you want the numbering to start from 1 instead of 0 (like a human-readable list)"
   ]
  },
  {
   "cell_type": "code",
   "execution_count": null,
   "metadata": {},
   "outputs": [],
   "source": [
    "# Print vitamins numbered from 1\n",
    "vitamins = ['Vitamin A', 'Vitamin C', 'Vitamin D', 'Vitamin E']\n",
    "\n",
    "print(\"Essential Vitamins:\")\n",
    "for number, vitamin in enumerate(vitamins, start=1):\n",
    "    print(f\"{number}. {vitamin}\")"
   ]
  },
  {
   "cell_type": "markdown",
   "metadata": {},
   "source": [
    "**What's new here?**\n",
    "- `enumerate(vitamins, start=1)` - the `start=1` parameter makes counting begin at 1\n",
    "- This is useful when making numbered lists for humans to read"
   ]
  },
  {
   "cell_type": "markdown",
   "metadata": {},
   "source": [
    "### Practice Example 2.2: Number from 1\n",
    "\n",
    "Print each blood type numbered from 1"
   ]
  },
  {
   "cell_type": "code",
   "execution_count": null,
   "metadata": {},
   "outputs": [],
   "source": [
    "blood_types = ['A+', 'A-', 'B+', 'B-', 'AB+', 'AB-', 'O+', 'O-']\n",
    "\n",
    "# YOUR CODE HERE: use enumerate with start=1 to print each blood type\n",
    "# The output should look like:\n",
    "# 1. A+\n",
    "# 2. A-\n",
    "# etc."
   ]
  },
  {
   "cell_type": "markdown",
   "metadata": {},
   "source": [
    "---\n",
    "\n",
    "## Section 3: Counting Items in a List\n",
    "\n",
    "### Guided Example 3.1: Counting all items\n",
    "\n",
    "Sometimes we want to count how many items are in a list. We can do this with a counter variable!"
   ]
  },
  {
   "cell_type": "code",
   "execution_count": 10,
   "metadata": {},
   "outputs": [
    {
     "name": "stdout",
     "output_type": "stream",
     "text": [
      "Total number of genes: 5\n"
     ]
    }
   ],
   "source": [
    "# Count how many genes we have\n",
    "genes = ['BRCA1', 'BRCA2', 'TP53', 'ATM', 'CHEK2']\n",
    "\n",
    "# Start with a counter at 0\n",
    "count = 0\n",
    "\n",
    "# Add 1 for each gene\n",
    "for gene in genes:\n",
    "    count = count + 1\n",
    "    # We could also write: count += 1\n",
    "\n",
    "print(f\"Total number of genes: {count}\")"
   ]
  },
  {
   "cell_type": "markdown",
   "metadata": {},
   "source": [
    "**What's happening here?**\n",
    "- We create a variable `count` and set it to 0\n",
    "- Each time through the loop, we add 1 to count\n",
    "- `count = count + 1` means \"take the current value of count, add 1, and store it back in count\"\n",
    "- `+=` is a shorthand: `count += 1` is the same as `count = count + 1`"
   ]
  },
  {
   "cell_type": "markdown",
   "metadata": {},
   "source": [
    "### Practice Example 3.1: Count proteins\n",
    "\n",
    "Count how many proteins are in the list"
   ]
  },
  {
   "cell_type": "code",
   "execution_count": null,
   "metadata": {},
   "outputs": [],
   "source": [
    "proteins = ['Insulin', 'Hemoglobin', 'Actin', 'Myosin', 'Collagen']\n",
    "\n",
    "# YOUR CODE HERE: Count how many proteins are in the list\n",
    "# Start with count = 0\n",
    "# Use a for loop to add 1 for each protein\n",
    "# Print the total at the end"
   ]
  },
  {
   "cell_type": "markdown",
   "metadata": {},
   "source": [
    "### Guided Example 3.2: Counting specific items (using if)\n",
    "\n",
    "What if we only want to count SOME items? We can use an `if` statement to decide whether to count each item!"
   ]
  },
  {
   "cell_type": "code",
   "execution_count": null,
   "metadata": {},
   "outputs": [],
   "source": [
    "# Count how many nucleotides are 'A' or 'T'\n",
    "nucleotides = ['A', 'T', 'G', 'C', 'A', 'T', 'T', 'G']\n",
    "\n",
    "count = 0\n",
    "\n",
    "for nucleotide in nucleotides:\n",
    "    if nucleotide == 'A' or nucleotide == 'T':\n",
    "        count += 1\n",
    "\n",
    "print(f\"Number of A or T nucleotides: {count}\")"
   ]
  },
  {
   "cell_type": "markdown",
   "metadata": {},
   "source": [
    "**What's new here?**\n",
    "- `if nucleotide == 'A' or nucleotide == 'T':` - this checks if the nucleotide is 'A' OR 'T'\n",
    "- `==` means \"is equal to\" (we use two equals signs for comparison)\n",
    "- `or` means \"either this OR that\"\n",
    "- The code inside the if statement (notice the extra indent!) only runs when the condition is True\n",
    "- We only add 1 to count when we find an 'A' or 'T'"
   ]
  },
  {
   "cell_type": "markdown",
   "metadata": {},
   "source": [
    "### Practice Example 3.2: Count long gene names\n",
    "\n",
    "Count how many genes have names longer than 4 letters"
   ]
  },
  {
   "cell_type": "code",
   "execution_count": null,
   "metadata": {},
   "outputs": [],
   "source": [
    "genes = ['TP53', 'BRCA1', 'ATM', 'CHEK2', 'PTEN', 'APC']\n",
    "\n",
    "# YOUR CODE HERE: Count how many genes have more than 4 letters\n",
    "# Hint: use len(gene) to get the length of the gene name\n",
    "# Hint: use if len(gene) > 4:"
   ]
  },
  {
   "cell_type": "markdown",
   "metadata": {},
   "source": [
    "---\n",
    "\n",
    "## Section 4: Finding Specific Items\n",
    "\n",
    "### Guided Example 4.1: Printing items that match a condition\n",
    "\n",
    "Sometimes we want to find and print only specific items from a list"
   ]
  },
  {
   "cell_type": "code",
   "execution_count": null,
   "metadata": {},
   "outputs": [],
   "source": [
    "# Find all genes that start with 'BR'\n",
    "genes = ['BRCA1', 'BRCA2', 'TP53', 'ATM', 'BRAF', 'PTEN']\n",
    "\n",
    "print(\"Genes starting with BR:\")\n",
    "for gene in genes:\n",
    "    if gene.startswith('BR'):\n",
    "        print(f\"  - {gene}\")"
   ]
  },
  {
   "cell_type": "markdown",
   "metadata": {},
   "source": [
    "**What's happening here?**\n",
    "- `.startswith('BR')` checks if the gene name begins with the letters 'BR'\n",
    "- We only print the gene if it matches our condition\n",
    "- This is useful for filtering data!"
   ]
  },
  {
   "cell_type": "markdown",
   "metadata": {},
   "source": [
    "### Practice Example 4.1: Find amino acids containing 'e'\n",
    "\n",
    "Print all amino acids that contain the letter 'e'"
   ]
  },
  {
   "cell_type": "code",
   "execution_count": null,
   "metadata": {},
   "outputs": [
    {
     "name": "stdout",
     "output_type": "stream",
     "text": [
      "Number of amino acids containing 'e': 6\n"
     ]
    }
   ],
   "source": [
    "amino_acids = ['Alanine', 'Glycine', 'Valine', 'Leucine', 'Isoleucine', 'Methionine']\n",
    "\n",
    "# YOUR CODE HERE: Print all amino acids that contain the letter 'e'\n",
    "# Hint: use if 'e' in amino_acid:"
   ]
  },
  {
   "cell_type": "markdown",
   "metadata": {},
   "source": [
    "---\n",
    "\n",
    "## Section 5: Finding the Index (Position) of Items\n",
    "\n",
    "### Guided Example 5.1: Finding where an item is located\n",
    "\n",
    "Sometimes we need to know WHERE in the list an item is. We can use enumerate to get the index!"
   ]
  },
  {
   "cell_type": "code",
   "execution_count": null,
   "metadata": {},
   "outputs": [],
   "source": [
    "# Find the position of 'TP53' in the list\n",
    "genes = ['BRCA1', 'BRCA2', 'TP53', 'ATM', 'CHEK2']\n",
    "\n",
    "for index, gene in enumerate(genes):\n",
    "    if gene == 'TP53':\n",
    "        print(f\"Found {gene} at position {index}\")"
   ]
  },
  {
   "cell_type": "markdown",
   "metadata": {},
   "source": [
    "**What's happening here?**\n",
    "- `enumerate(genes)` gives us both the index AND the gene name\n",
    "- We check if the gene equals 'TP53'\n",
    "- When we find it, we print both the gene name and its position (index)\n",
    "- Remember: indexes start at 0, so TP53 is at position 2 (the third item)"
   ]
  },
  {
   "cell_type": "markdown",
   "metadata": {},
   "source": [
    "### Practice Example 5.1: Find positions of specific items\n",
    "\n",
    "Find and print the positions (indexes) of all enzymes that end with 'ase'"
   ]
  },
  {
   "cell_type": "code",
   "execution_count": null,
   "metadata": {},
   "outputs": [],
   "source": [
    "enzymes = ['Kinase', 'Helicase', 'Transferrin', 'Protease', 'Lipase', 'Albumin']\n",
    "\n",
    "# YOUR CODE HERE: Find and print the index of all enzymes ending with 'ase'\n",
    "# Hint: use enumerate and if enzyme.endswith('ase'):"
   ]
  },
  {
   "cell_type": "markdown",
   "metadata": {},
   "source": [
    "---\n",
    "\n",
    "## Section 6: Building New Lists\n",
    "\n",
    "### Guided Example 6.1: Collecting items into a new list\n",
    "\n",
    "Sometimes we want to create a NEW list containing only certain items from an existing list"
   ]
  },
  {
   "cell_type": "code",
   "execution_count": null,
   "metadata": {},
   "outputs": [],
   "source": [
    "# Create a list of only short gene names (4 letters or less)\n",
    "genes = ['BRCA1', 'TP53', 'ATM', 'CHEK2', 'PTEN', 'APC']\n",
    "\n",
    "# Start with an empty list\n",
    "short_genes = []\n",
    "\n",
    "# Add short gene names to our new list\n",
    "for gene in genes:\n",
    "    if len(gene) <= 4:\n",
    "        short_genes.append(gene)\n",
    "\n",
    "print(\"Short gene names:\")\n",
    "print(short_genes)"
   ]
  },
  {
   "cell_type": "markdown",
   "metadata": {},
   "source": [
    "**What's happening here?**\n",
    "- `short_genes = []` creates an empty list\n",
    "- `.append(gene)` adds an item to the end of the list\n",
    "- We only append genes that meet our condition (length <= 4)\n",
    "- At the end, `short_genes` contains all the short gene names!"
   ]
  },
  {
   "cell_type": "markdown",
   "metadata": {},
   "source": [
    "### Practice Example 6.1: Build a list of specific items\n",
    "\n",
    "Create a new list containing only the cells that contain the word 'cyte'"
   ]
  },
  {
   "cell_type": "code",
   "execution_count": null,
   "metadata": {},
   "outputs": [],
   "source": [
    "cell_types = ['Erythrocyte', 'Neuron', 'Lymphocyte', 'Hepatocyte', 'Adipocyte', 'Myocyte']\n",
    "\n",
    "# YOUR CODE HERE: Create a new list with only cells containing 'cyte'\n",
    "# Start with an empty list\n",
    "# Use a loop to check each cell\n",
    "# Use .append() to add matching cells to your new list\n",
    "# Print the new list at the end"
   ]
  },
  {
   "cell_type": "markdown",
   "metadata": {},
   "source": [
    "---\n",
    "\n",
    "## Section 7: Working with Two Lists at Once (zip)\n",
    "\n",
    "### Guided Example 7.1: Pairing items from two lists\n",
    "\n",
    "Sometimes we have related information in two separate lists. We can use `zip()` to work with them together!"
   ]
  },
  {
   "cell_type": "code",
   "execution_count": null,
   "metadata": {},
   "outputs": [],
   "source": [
    "# We have genes and their chromosome locations\n",
    "genes = ['BRCA1', 'BRCA2', 'TP53', 'ATM']\n",
    "chromosomes = [17, 13, 17, 11]\n",
    "\n",
    "print(\"Gene locations:\")\n",
    "for gene, chromosome in zip(genes, chromosomes):\n",
    "    print(f\"{gene} is on chromosome {chromosome}\")"
   ]
  },
  {
   "cell_type": "markdown",
   "metadata": {},
   "source": [
    "**What's happening here?**\n",
    "- `zip(genes, chromosomes)` pairs up items from both lists\n",
    "- First iteration: gene='BRCA1', chromosome=17\n",
    "- Second iteration: gene='BRCA2', chromosome=13\n",
    "- And so on... it matches them up one-by-one\n",
    "- This is perfect when you have related data in separate lists!"
   ]
  },
  {
   "cell_type": "markdown",
   "metadata": {},
   "source": [
    "### Practice Example 7.1: Print paired data\n",
    "\n",
    "Print each vitamin with its recommended daily amount"
   ]
  },
  {
   "cell_type": "code",
   "execution_count": null,
   "metadata": {},
   "outputs": [],
   "source": [
    "vitamins = ['Vitamin A', 'Vitamin C', 'Vitamin D', 'Vitamin E']\n",
    "daily_amounts = ['900 mcg', '90 mg', '20 mcg', '15 mg']\n",
    "\n",
    "# YOUR CODE HERE: Use zip to print each vitamin with its daily amount\n",
    "# Format: \"Vitamin A: 900 mcg\""
   ]
  },
  {
   "cell_type": "markdown",
   "metadata": {},
   "source": [
    "### Guided Example 7.2: Counting with paired lists\n",
    "\n",
    "We can combine zip with conditionals to count items that meet certain conditions"
   ]
  },
  {
   "cell_type": "code",
   "execution_count": null,
   "metadata": {},
   "outputs": [],
   "source": [
    "# Count how many samples have high concentration (above 25 ng/μL)\n",
    "samples = ['Sample_A', 'Sample_B', 'Sample_C', 'Sample_D']\n",
    "concentrations = [23.5, 31.2, 18.7, 28.9]\n",
    "\n",
    "high_count = 0\n",
    "\n",
    "for sample, conc in zip(samples, concentrations):\n",
    "    if conc > 25:\n",
    "        print(f\"{sample}: {conc} ng/μL - High!\")\n",
    "        high_count += 1\n",
    "    else:\n",
    "        print(f\"{sample}: {conc} ng/μL\")\n",
    "\n",
    "print(f\"\\nTotal high concentration samples: {high_count}\")"
   ]
  },
  {
   "cell_type": "markdown",
   "metadata": {},
   "source": [
    "**What's new here?**\n",
    "- We use `zip()` to pair up sample names with their concentrations\n",
    "- We check each concentration with an `if/else` statement\n",
    "- We count how many meet our condition (> 25)\n",
    "- This combines several skills: zip, conditionals, and counting!"
   ]
  },
  {
   "cell_type": "markdown",
   "metadata": {},
   "source": [
    "### Practice Example 7.2: Count with conditions\n",
    "\n",
    "Count how many enzymes have activity greater than 100 units"
   ]
  },
  {
   "cell_type": "code",
   "execution_count": null,
   "metadata": {},
   "outputs": [],
   "source": [
    "enzymes = ['Amylase', 'Lipase', 'Protease', 'Lactase', 'Catalase']\n",
    "activities = [85, 142, 98, 156, 203]  # units\n",
    "\n",
    "# YOUR CODE HERE: \n",
    "# Use zip to pair enzymes with activities\n",
    "# Count how many have activity > 100\n",
    "# Print each enzyme with its activity\n",
    "# Print the total count at the end"
   ]
  },
  {
   "cell_type": "markdown",
   "metadata": {},
   "source": [
    "---\n",
    "\n",
    "## Section 8: Practice Challenges\n",
    "\n",
    "Now try some more challenging problems that combine everything you've learned!\n",
    "\n",
    "### Challenge 1: Calculate GC Content (Medium)\n",
    "\n",
    "Calculate the percentage of G and C nucleotides in a DNA sequence"
   ]
  },
  {
   "cell_type": "code",
   "execution_count": null,
   "metadata": {},
   "outputs": [],
   "source": [
    "dna_sequence = 'ATCGATCGGCGC'\n",
    "\n",
    "# YOUR CODE HERE:\n",
    "# 1. Count how many times 'G' appears\n",
    "# 2. Count how many times 'C' appears\n",
    "# 3. Calculate: (G_count + C_count) / total_length * 100\n",
    "# 4. Print the GC content percentage\n",
    "\n",
    "# Hint: You can loop through a string just like a list!\n",
    "# Hint: len(dna_sequence) gives you the total length"
   ]
  },
  {
   "cell_type": "markdown",
   "metadata": {},
   "source": [
    "### Challenge 2: Extract Genus Names (Medium)\n",
    "\n",
    "Extract just the genus name (first word) from each species name"
   ]
  },
  {
   "cell_type": "code",
   "execution_count": null,
   "metadata": {},
   "outputs": [],
   "source": [
    "species_names = [\n",
    "    'Escherichia coli',\n",
    "    'Staphylococcus aureus',\n",
    "    'Bacillus subtilis',\n",
    "    'Pseudomonas aeruginosa'\n",
    "]\n",
    "\n",
    "# YOUR CODE HERE: Create a list of just the genus names\n",
    "# Hint: Use .split(' ') to split each name into words\n",
    "# Hint: The first word (index 0) is the genus\n",
    "# Example: 'Escherichia coli'.split(' ') gives ['Escherichia', 'coli']"
   ]
  },
  {
   "cell_type": "markdown",
   "metadata": {},
   "source": [
    "### Challenge 3: Split into Codons (Hard)\n",
    "\n",
    "Split a DNA sequence into codons (groups of 3 nucleotides)"
   ]
  },
  {
   "cell_type": "code",
   "execution_count": null,
   "metadata": {},
   "outputs": [],
   "source": [
    "dna_sequence = 'ATGCGATACGTAGCT'\n",
    "\n",
    "# YOUR CODE HERE: Split the sequence into codons\n",
    "# Result should be: ['ATG', 'CGA', 'TAC', 'GTA', 'GCT']\n",
    "# Hint: use range(0, len(dna_sequence), 3) to get indexes 0, 3, 6, 9...\n",
    "# Hint: use slicing dna_sequence[i:i+3] to get 3 characters starting at position i"
   ]
  },
  {
   "cell_type": "markdown",
   "metadata": {},
   "source": [
    "---\n",
    "\n",
    "## Summary\n",
    "\n",
    "Congratulations! You've learned the fundamentals of iteration in Python:\n",
    "\n",
    "**Basic iteration:**\n",
    "- ✅ Looping through lists with `for item in list:`\n",
    "- ✅ Using `range()` to work with indexes\n",
    "- ✅ Using `enumerate()` to get both index and item\n",
    "\n",
    "**Working with data:**\n",
    "- ✅ Counting all items in a list\n",
    "- ✅ Counting specific items (with `if` statements)\n",
    "- ✅ Finding and printing specific items\n",
    "- ✅ Finding the index/position of items\n",
    "\n",
    "**Building new lists:**\n",
    "- ✅ Creating empty lists with `[]`\n",
    "- ✅ Adding items with `.append()`\n",
    "- ✅ Filtering items into new lists\n",
    "\n",
    "**Working with multiple lists:**\n",
    "- ✅ Using `zip()` to pair up items from two lists\n",
    "- ✅ Combining zip with conditionals and counting\n",
    "\n",
    "These skills are the foundation for processing biological data! Keep practicing and you'll be analyzing sequences, genes, and experimental data in no time.\n",
    "\n",
    "**Next steps:** Practice these concepts with your own data, and when you're ready, move on to more advanced topics like nested loops and file processing!"
   ]
  }
 ],
 "metadata": {
  "kernelspec": {
   "display_name": ".venv",
   "language": "python",
   "name": "python3"
  },
  "language_info": {
   "name": "python",
   "version": "3.12.10"
  }
 },
 "nbformat": 4,
 "nbformat_minor": 4
}
