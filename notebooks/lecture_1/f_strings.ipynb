{
  "cells": [
    {
      "cell_type": "markdown",
      "metadata": {},
      "source": [
        "# 🎨 F-Strings: Beautiful Output Formatting\n",
        "\n",
        "## Making Your Results Look Professional\n",
        "\n",
        "In the lab, you carefully label everything:\n",
        "- \"Sample A: 2.5 mg/mL protein\"\n",
        "- \"pH 7.4 ± 0.1\"\n",
        "- \"E. coli culture, OD600 = 0.485\"\n",
        "\n",
        "F-strings help you create similarly clear, professional output in Python! They're like templates where you can insert your data."
      ]
    },
    {
      "cell_type": "markdown",
      "metadata": {},
      "source": [
        "## 🎯 What Are F-Strings?\n",
        "\n",
        "F-strings (formatted string literals) are Python's modern way to insert variables into text.\n",
        "\n",
        "Think of them as **fill-in-the-blank templates**:\n",
        "- Old way: \"Sample \" + str(number) + \": \" + str(value) + \" mg/mL\" 😫\n",
        "- F-string way: f\"Sample {number}: {value} mg/mL\" 😊\n",
        "\n",
        "Much cleaner, right?"
      ]
    },
    {
      "cell_type": "markdown",
      "metadata": {},
      "source": [
        "## 🚀 Your First F-String\n",
        "\n",
        "F-strings start with `f` before the quotes, and use `{}` for variables:"
      ]
    },
    {
      "cell_type": "code",
      "execution_count": null,
      "metadata": {},
      "outputs": [],
      "source": [
        "# Basic f-string syntax\n",
        "gene_name = \"p53\"\n",
        "expression_level = 2.5\n",
        "\n",
        "# Without f-string (the hard way)\n",
        "message_old = \"The gene \" + gene_name + \" shows \" + str(expression_level) + \"-fold expression\"\n",
        "print(\"Old way:\")\n",
        "print(message_old)\n",
        "\n",
        "# With f-string (the easy way!)\n",
        "message_new = f\"The gene {gene_name} shows {expression_level}-fold expression\"\n",
        "print(\"\\nF-string way:\")\n",
        "print(message_new)\n",
        "\n",
        "# Notice: No need to convert numbers to strings!"
      ]
    },
    {
      "cell_type": "markdown",
      "metadata": {},
      "source": [
        "## 📊 Formatting Numbers\n",
        "\n",
        "F-strings can control how numbers appear - essential for scientific data!"
      ]
    },
    {
      "cell_type": "markdown",
      "metadata": {},
      "source": [
        "### Decimal Places"
      ]
    },
    {
      "cell_type": "code",
      "execution_count": null,
      "metadata": {},
      "outputs": [],
      "source": [
        "# Controlling decimal places with :.Nf\n",
        "pi_value = 3.14159265359\n",
        "concentration = 2.3456789\n",
        "\n",
        "# Different decimal places\n",
        "print(f\"No formatting: {pi_value}\")\n",
        "print(f\"2 decimals: {pi_value:.2f}\")\n",
        "print(f\"4 decimals: {pi_value:.4f}\")\n",
        "print()\n",
        "\n",
        "# Real lab example\n",
        "print(f\"Protein concentration: {concentration:.2f} mg/mL\")  # Standard for lab work\n",
        "print(f\"Exact value: {concentration:.6f} mg/mL\")  # When precision matters"
      ]
    },
    {
      "cell_type": "markdown",
      "metadata": {},
      "source": [
        "### Scientific Notation"
      ]
    },
    {
      "cell_type": "code",
      "execution_count": null,
      "metadata": {},
      "outputs": [],
      "source": [
        "# Scientific notation with :e or :E\n",
        "avogadro = 6.022e23\n",
        "small_number = 0.000000123\n",
        "\n",
        "print(f\"Avogadro's number: {avogadro}\")\n",
        "print(f\"In scientific notation: {avogadro:.2e}\")\n",
        "print(f\"Capital E: {avogadro:.2E}\")\n",
        "print()\n",
        "\n",
        "# Useful for very small numbers\n",
        "print(f\"Concentration: {small_number}\")\n",
        "print(f\"Better: {small_number:.3e} M\")"
      ]
    },
    {
      "cell_type": "markdown",
      "metadata": {},
      "source": [
        "### Percentages"
      ]
    },
    {
      "cell_type": "code",
      "execution_count": null,
      "metadata": {},
      "outputs": [],
      "source": [
        "# Percentages with :%\n",
        "gc_fraction = 0.42\n",
        "viability = 0.9523\n",
        "efficiency = 0.0045\n",
        "\n",
        "# Automatic conversion to percentage\n",
        "print(f\"GC content: {gc_fraction:%}\")  # Default: many decimals\n",
        "print(f\"GC content: {gc_fraction:.1%}\")  # 1 decimal place\n",
        "print(f\"Cell viability: {viability:.1%}\")\n",
        "print(f\"Transfection efficiency: {efficiency:.2%}\")"
      ]
    },
    {
      "cell_type": "markdown",
      "metadata": {},
      "source": [
        "## 📐 Padding and Alignment\n",
        "\n",
        "Make your output look like a neat data table:"
      ]
    },
    {
      "cell_type": "code",
      "execution_count": null,
      "metadata": {},
      "outputs": [],
      "source": [
        "# Creating aligned output\n",
        "samples = [\n",
        "    (\"Control\", 0.123, 95.2),\n",
        "    (\"Treatment A\", 0.456, 87.6),\n",
        "    (\"Treatment B\", 0.789, 91.3)\n",
        "]\n",
        "\n",
        "print(\"Sample Results:\")\n",
        "print(\"-\" * 40)\n",
        "\n",
        "# Without alignment (messy)\n",
        "print(\"Without alignment:\")\n",
        "for name, od, viab in samples:\n",
        "    print(f\"{name}: OD={od}, Viability={viab}%\")\n",
        "\n",
        "print(\"\\nWith alignment:\")\n",
        "# With alignment (professional!)\n",
        "for name, od, viab in samples:\n",
        "    print(f\"{name:<12} OD={od:.3f}  Viability={viab:>5.1f}%\")\n",
        "\n",
        "# < means left align, > means right align, number is width"
      ]
    },
    {
      "cell_type": "markdown",
      "metadata": {},
      "source": [
        "### Padding with Zeros"
      ]
    },
    {
      "cell_type": "code",
      "execution_count": null,
      "metadata": {},
      "outputs": [],
      "source": [
        "# Zero padding for sample IDs\n",
        "for i in range(1, 11):\n",
        "    sample_id = f\"S{i:03d}\"  # 3 digits, pad with zeros\n",
        "    print(f\"Sample ID: {sample_id}\")"
      ]
    },
    {
      "cell_type": "markdown",
      "metadata": {},
      "source": [
        "## 🧬 Biology-Specific Formatting\n",
        "\n",
        "Let's apply f-strings to real biological data:"
      ]
    },
    {
      "cell_type": "markdown",
      "metadata": {},
      "source": [
        "### DNA/Protein Sequences"
      ]
    },
    {
      "cell_type": "code",
      "execution_count": null,
      "metadata": {},
      "outputs": [],
      "source": [
        "# Formatting sequences\n",
        "dna_sequence = \"ATCGATCGTAGCTAGCTAGCTAGCTAGCTAGCTA\"\n",
        "gene = \"BRCA2\"\n",
        "\n",
        "# Show sequence with position numbers\n",
        "print(f\">{gene} ({len(dna_sequence)} bp)\")\n",
        "\n",
        "# Break into chunks of 10\n",
        "for i in range(0, len(dna_sequence), 10):\n",
        "    chunk = dna_sequence[i:i+10]\n",
        "    print(f\"{i+1:>4}: {chunk}\")"
      ]
    },
    {
      "cell_type": "markdown",
      "metadata": {},
      "source": [
        "### Lab Calculations"
      ]
    },
    {
      "cell_type": "code",
      "execution_count": null,
      "metadata": {},
      "outputs": [],
      "source": [
        "# Dilution calculator with nice output\n",
        "stock_conc = 1000  # µg/mL\n",
        "desired_conc = 50  # µg/mL\n",
        "final_volume = 10  # mL\n",
        "\n",
        "# Calculate\n",
        "dilution_factor = stock_conc / desired_conc\n",
        "stock_needed = final_volume / dilution_factor\n",
        "water_needed = final_volume - stock_needed\n",
        "\n",
        "# Professional output\n",
        "print(\"=== Dilution Calculator ===\")\n",
        "print(f\"Stock concentration:    {stock_conc:>6.1f} µg/mL\")\n",
        "print(f\"Desired concentration:  {desired_conc:>6.1f} µg/mL\")\n",
        "print(f\"Final volume:           {final_volume:>6.1f} mL\")\n",
        "print(f\"\\nDilution factor: 1:{dilution_factor:.0f}\")\n",
        "print(f\"\\nPipetting instructions:\")\n",
        "print(f\"  1. Add {stock_needed:.2f} mL of stock solution\")\n",
        "print(f\"  2. Add {water_needed:.2f} mL of water\")\n",
        "print(f\"  3. Mix well\")"
      ]
    },
    {
      "cell_type": "markdown",
      "metadata": {},
      "source": [
        "### PCR Results Table"
      ]
    },
    {
      "cell_type": "code",
      "execution_count": null,
      "metadata": {},
      "outputs": [],
      "source": [
        "# PCR results with Ct values\n",
        "pcr_data = [\n",
        "    (\"GAPDH\", \"Control\", 18.234, 19.567, 18.901),\n",
        "    (\"GAPDH\", \"Treatment\", 18.456, 19.123, 18.789),\n",
        "    (\"Target\", \"Control\", 25.678, 26.234, 25.901),\n",
        "    (\"Target\", \"Treatment\", 22.345, 22.678, 22.512)\n",
        "]\n",
        "\n",
        "print(\"PCR Results - Ct Values\")\n",
        "print(\"=\" * 60)\n",
        "print(f\"{'Gene':<10} {'Condition':<12} {'Rep1':>8} {'Rep2':>8} {'Rep3':>8} {'Mean':>8}\")\n",
        "print(\"-\" * 60)\n",
        "\n",
        "for gene, condition, rep1, rep2, rep3 in pcr_data:\n",
        "    mean_ct = (rep1 + rep2 + rep3) / 3\n",
        "    print(f\"{gene:<10} {condition:<12} {rep1:>8.2f} {rep2:>8.2f} {rep3:>8.2f} {mean_ct:>8.2f}\")"
      ]
    },
    {
      "cell_type": "markdown",
      "metadata": {},
      "source": [
        "## 🎨 Advanced F-String Features"
      ]
    },
    {
      "cell_type": "markdown",
      "metadata": {},
      "source": [
        "### Expressions Inside F-Strings"
      ]
    },
    {
      "cell_type": "code",
      "execution_count": null,
      "metadata": {},
      "outputs": [],
      "source": [
        "# You can do calculations inside {}\n",
        "cells_initial = 10000\n",
        "growth_rate = 1.5\n",
        "time_hours = 4\n",
        "\n",
        "print(f\"Initial cells: {cells_initial:,}\")  # Comma for thousands\n",
        "print(f\"After {time_hours}h: {cells_initial * (growth_rate ** time_hours):,.0f} cells\")\n",
        "print(f\"Fold increase: {growth_rate ** time_hours:.1f}x\")\n",
        "\n",
        "# Conditional formatting\n",
        "ph = 7.8\n",
        "print(f\"pH {ph} is {'basic' if ph > 7 else 'acidic' if ph < 7 else 'neutral'}\")"
      ]
    },
    {
      "cell_type": "markdown",
      "metadata": {},
      "source": [
        "### Date and Time Formatting"
      ]
    },
    {
      "cell_type": "code",
      "execution_count": null,
      "metadata": {},
      "outputs": [],
      "source": [
        "from datetime import datetime\n",
        "\n",
        "# Current date and time\n",
        "now = datetime.now()\n",
        "\n",
        "# Different date formats\n",
        "print(f\"Experiment date: {now:%Y-%m-%d}\")\n",
        "print(f\"Time started: {now:%H:%M:%S}\")\n",
        "print(f\"Lab notebook entry: {now:%B %d, %Y at %I:%M %p}\")\n",
        "print(f\"File timestamp: {now:%Y%m%d_%H%M%S}\")"
      ]
    },
    {
      "cell_type": "markdown",
      "metadata": {},
      "source": [
        "### Debugging with F-Strings"
      ]
    },
    {
      "cell_type": "code",
      "execution_count": null,
      "metadata": {},
      "outputs": [],
      "source": [
        "# Use = to show variable name and value (Python 3.8+)\n",
        "temperature = 37\n",
        "ph = 7.4\n",
        "glucose_mM = 5.5\n",
        "\n",
        "# Debug output\n",
        "print(f\"{temperature=}\")\n",
        "print(f\"{ph=}\")\n",
        "print(f\"{glucose_mM=}\")\n",
        "\n",
        "# Great for checking calculations\n",
        "dilution_factor = 20\n",
        "print(f\"{1/dilution_factor=:.4f}\")"
      ]
    },
    {
      "cell_type": "markdown",
      "metadata": {},
      "source": [
        "## 💡 Common F-String Patterns for Biology"
      ]
    },
    {
      "cell_type": "code",
      "execution_count": null,
      "metadata": {},
      "outputs": [],
      "source": [
        "# Useful patterns you'll use often\n",
        "\n",
        "# 1. Concentration with units\n",
        "conc = 2.5\n",
        "print(f\"Concentration: {conc:.2f} mg/mL\")\n",
        "\n",
        "# 2. Scientific measurements with error\n",
        "mean = 4.523\n",
        "std = 0.234\n",
        "print(f\"Result: {mean:.2f} ± {std:.2f}\")\n",
        "\n",
        "# 3. Percentage with change\n",
        "control = 100\n",
        "treatment = 145\n",
        "change = ((treatment - control) / control) * 100\n",
        "print(f\"Expression: {change:+.1f}% vs control\")  # + shows sign\n",
        "\n",
        "# 4. P-values\n",
        "p_value = 0.0234\n",
        "print(f\"p = {p_value:.4f}\")\n",
        "print(f\"Significant: {'Yes' if p_value < 0.05 else 'No'}\")\n",
        "\n",
        "# 5. Sample labels\n",
        "for i in range(1, 4):\n",
        "    for rep in ['A', 'B', 'C']:\n",
        "        print(f\"Well {i}{rep}\", end=\"  \")\n",
        "    print()"
      ]
    },
    {
      "cell_type": "markdown",
      "metadata": {},
      "source": [
        "## 🎯 Practice Exercises"
      ]
    },
    {
      "cell_type": "markdown",
      "metadata": {},
      "source": [
        "### Exercise 1: Format Lab Results"
      ]
    },
    {
      "cell_type": "code",
      "execution_count": null,
      "metadata": {},
      "outputs": [],
      "source": [
        "# Format these measurements properly\n",
        "protein_conc = 3.456789  # mg/mL\n",
        "volume = 125  # µL\n",
        "purity = 0.923456  # A260/A280 ratio\n",
        "\n",
        "# TODO: Create formatted output\n",
        "# Should show:\n",
        "# - Protein concentration to 2 decimal places with units\n",
        "# - Volume with comma separator\n",
        "# - Purity as percentage to 1 decimal place\n",
        "\n",
        "# Your code here:\n",
        "# print(f\"Protein: ...\")\n",
        "# print(f\"Volume: ...\")\n",
        "# print(f\"Purity: ...\")"
      ]
    },
    {
      "cell_type": "markdown",
      "metadata": {},
      "source": [
        "### Exercise 2: Create a Results Table"
      ]
    },
    {
      "cell_type": "code",
      "execution_count": null,
      "metadata": {},
      "outputs": [],
      "source": [
        "# Create a formatted table of enzyme kinetics data\n",
        "data = [\n",
        "    (\"WT\", 45.2, 0.23),\n",
        "    (\"Mutant A\", 12.8, 0.89),\n",
        "    (\"Mutant B\", 78.5, 0.15)\n",
        "]\n",
        "\n",
        "# TODO: Format as a nice table with:\n",
        "# - Aligned columns\n",
        "# - Vmax to 1 decimal place\n",
        "# - Km to 2 decimal places\n",
        "# - Headers\n",
        "\n",
        "# Expected output:\n",
        "# Enzyme     Vmax    Km\n",
        "# WT         45.2   0.23\n",
        "# Mutant A   12.8   0.89\n",
        "# Mutant B   78.5   0.15"
      ]
    },
    {
      "cell_type": "markdown",
      "metadata": {},
      "source": [
        "### Exercise 3: Dilution Series Calculator"
      ]
    },
    {
      "cell_type": "code",
      "execution_count": null,
      "metadata": {},
      "outputs": [],
      "source": [
        "# Create a dilution series output\n",
        "stock = 1000  # µg/mL\n",
        "dilutions = [2, 5, 10, 20, 50, 100]\n",
        "\n",
        "# TODO: For each dilution factor:\n",
        "# - Calculate final concentration\n",
        "# - Show dilution as ratio (1:X)\n",
        "# - Show concentration with appropriate precision\n",
        "\n",
        "# Example output:\n",
        "# 1:2    → 500.0 µg/mL\n",
        "# 1:5    → 200.0 µg/mL\n",
        "# etc."
      ]
    },
    {
      "cell_type": "markdown",
      "metadata": {},
      "source": [
        "### Exercise 4: PCR Cycle Calculator"
      ]
    },
    {
      "cell_type": "code",
      "execution_count": null,
      "metadata": {},
      "outputs": [],
      "source": [
        "# Calculate PCR amplification\n",
        "initial_copies = 100\n",
        "cycles = 30\n",
        "efficiency = 0.95  # 95% efficient\n",
        "\n",
        "# TODO: Calculate and format:\n",
        "# 1. Theoretical copies (2^cycles)\n",
        "# 2. Actual copies with efficiency\n",
        "# 3. Show both in scientific notation\n",
        "# 4. Calculate fold amplification\n",
        "\n",
        "# Your calculations and formatted output here:"
      ]
    },
    {
      "cell_type": "markdown",
      "metadata": {},
      "source": [
        "## 🎉 Summary\n",
        "\n",
        "You've mastered f-strings! You can now:\n",
        "\n",
        "✅ Use basic f-string syntax: `f\"text {variable}\"`  \n",
        "✅ Format decimals: `{value:.2f}`  \n",
        "✅ Show percentages: `{value:.1%}`  \n",
        "✅ Use scientific notation: `{value:.2e}`  \n",
        "✅ Align text: `{text:<10}` or `{text:>10}`  \n",
        "✅ Pad with zeros: `{number:03d}`  \n",
        "✅ Add calculations inside f-strings  \n",
        "✅ Debug with `{variable=}`  \n",
        "\n",
        "### 🔑 Quick Reference\n",
        "\n",
        "| Format | Meaning | Example | Result |\n",
        "|--------|---------|---------|--------|\n",
        "| `:.2f` | 2 decimals | `f\"{3.14159:.2f}\"` | 3.14 |\n",
        "| `:.1%` | Percentage | `f\"{0.925:.1%}\"` | 92.5% |\n",
        "| `:,` | Thousands | `f\"{1000000:,}\"` | 1,000,000 |\n",
        "| `:>10` | Right align | `f\"{42:>10}\"` | \"        42\" |\n",
        "| `:03d` | Zero pad | `f\"{5:03d}\"` | 005 |\n",
        "| `:.2e` | Scientific | `f\"{0.0001:.2e}\"` | 1.00e-04 |\n",
        "\n",
        "### 🚀 Next Steps\n",
        "\n",
        "Now you can create professional, publication-ready output for your biological data!\n",
        "\n",
        "**Keep practicing!** The more you use f-strings, the more natural they become. 🧬💻"
      ]
    }
  ],
  "metadata": {
    "kernelspec": {
      "display_name": "Python 3",
      "language": "python",
      "name": "python3"
    },
    "language_info": {
      "codemirror_mode": {
        "name": "ipython",
        "version": 3
      },
      "file_extension": ".py",
      "mimetype": "text/x-python",
      "name": "python",
      "nbconvert_exporter": "python",
      "pygments_lexer": "ipython3",
      "version": "3.10.12"
    },
    "colab": {
      "provenance": [],
      "collapsed_sections": []
    }
  },
  "nbformat": 4,
  "nbformat_minor": 0
}