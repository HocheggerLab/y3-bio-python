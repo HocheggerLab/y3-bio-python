{
 "cells": [
  {
   "cell_type": "markdown",
   "metadata": {},
   "source": [
    "# Python Lists: Organizing Data\n",
    "\n",
    "In biology, we rarely work with single measurements. We have:\n",
    "- Multiple samples to track\n",
    "- Series of concentrations to test\n",
    "- Collections of gene names\n",
    "- Sets of experimental conditions\n",
    "\n",
    "Python lists are perfect for organizing this kind of data!"
   ]
  },
  {
   "cell_type": "markdown",
   "metadata": {},
   "source": [
    "## What are Lists?\n",
    "\n",
    "Think of lists as:\n",
    "- A 96-well plate with samples in each well\n",
    "- A gel with multiple lanes\n",
    "- A lab notebook with a list of reagents\n",
    "- A spreadsheet column of data\n",
    "\n",
    "Lists are created with square brackets `[]`"
   ]
  },
  {
   "cell_type": "code",
   "execution_count": null,
   "metadata": {},
   "outputs": [],
   "source": [
    "# Creating different types of lists\n",
    "sample_names = [\"Control\", \"Treatment1\", \"Treatment2\", \"Treatment3\"]\n",
    "concentrations = [0, 5, 10, 25, 50, 100]  # μM concentrations\n",
    "temperatures = [37.0, 42.0, 50.0, 65.0, 95.0]  # °C\n",
    "dna_bases = [\"A\", \"T\", \"G\", \"C\"]\n",
    "\n",
    "print(\"Sample names:\", sample_names)\n",
    "print(\"Concentrations (μM):\", concentrations)\n",
    "print(\"Temperatures (°C):\", temperatures)\n",
    "print(\"DNA bases:\", dna_bases)"
   ]
  },
  {
   "cell_type": "markdown",
   "metadata": {},
   "source": [
    "## Accessing Items in Lists\n",
    "\n",
    "**Important**: Python starts counting from 0, not 1!\n",
    "\n",
    "- First item = index 0\n",
    "- Second item = index 1\n",
    "- Third item = index 2\n",
    "- etc."
   ]
  },
  {
   "cell_type": "code",
   "execution_count": null,
   "metadata": {},
   "outputs": [],
   "source": [
    "# Accessing individual items\n",
    "samples = [\"Control\", \"Drug_A\", \"Drug_B\", \"Drug_C\"]\n",
    "\n",
    "print(\"First sample (index 0):\", samples[0])\n",
    "print(\"Second sample (index 1):\", samples[1])\n",
    "print(\"Fourth sample (index 3):\", samples[3])\n",
    "\n",
    "# Negative indices count from the end\n",
    "print(\"Last sample (index -1):\", samples[-1])\n",
    "print(\"Second to last (index -2):\", samples[-2])"
   ]
  },
  {
   "cell_type": "markdown",
   "metadata": {},
   "source": [
    "## Useful List Properties"
   ]
  },
  {
   "cell_type": "code",
   "execution_count": null,
   "metadata": {},
   "outputs": [],
   "source": [
    "# How many items are in a list?\n",
    "gene_list = [\"BRCA1\", \"TP53\", \"EGFR\", \"MYC\", \"PTEN\"]\n",
    "\n",
    "print(\"Number of genes:\", len(gene_list))\n",
    "print(\"First gene:\", gene_list[0])\n",
    "print(\"Last gene:\", gene_list[len(gene_list) - 1])  # Or just gene_list[-1]\n",
    "\n",
    "# Check if something is in the list\n",
    "print(\"Is BRCA1 in our list?\", \"BRCA1\" in gene_list)\n",
    "print(\"Is GAPDH in our list?\", \"GAPDH\" in gene_list)"
   ]
  },
  {
   "cell_type": "markdown",
   "metadata": {},
   "source": [
    "## Exercise 1: Your First Lists\n",
    "\n",
    "Create some biological lists and practice accessing them:"
   ]
  },
  {
   "cell_type": "code",
   "execution_count": null,
   "metadata": {},
   "outputs": [],
   "source": [
    "# Create a list of amino acids (single letter codes)\n",
    "amino_acids = # YOUR CODE HERE\n",
    "\n",
    "# Create a list of pH values you might test\n",
    "ph_values = # YOUR CODE HERE\n",
    "\n",
    "# Print the first amino acid\n",
    "# YOUR CODE HERE\n",
    "\n",
    "# Print the last pH value\n",
    "# YOUR CODE HERE\n",
    "\n",
    "# How many amino acids are in your list?\n",
    "# YOUR CODE HERE\n",
    "\n",
    "# Is pH 7.0 in your pH list?\n",
    "# YOUR CODE HERE"
   ]
  },
  {
   "cell_type": "markdown",
   "metadata": {},
   "source": [
    "## Lists of Lists (2D Data)\n",
    "\n",
    "For complex data, we often need lists inside lists:\n",
    "- Each row in a data table\n",
    "- Multiple measurements per sample\n",
    "- Coordinates (x, y pairs)\n",
    "- Experimental conditions with multiple parameters"
   ]
  },
  {
   "cell_type": "code",
   "execution_count": null,
   "metadata": {},
   "outputs": [],
   "source": [
    "# Experiment data: each inner list is [sample_name, drug_concentration, cell_viability]\n",
    "experiment_results = [\n",
    "    [\"Control\", 0, 100],\n",
    "    [\"Drug_A\", 1, 89],\n",
    "    [\"Drug_A\", 5, 76],\n",
    "    [\"Drug_A\", 10, 45],\n",
    "    [\"Drug_B\", 1, 95],\n",
    "    [\"Drug_B\", 5, 82],\n",
    "    [\"Drug_B\", 10, 71]\n",
    "]\n",
    "\n",
    "print(\"All results:\")\n",
    "print(experiment_results)\n",
    "\n",
    "print(\"\\nFirst experiment:\")\n",
    "print(experiment_results[0])  # Gets the first inner list\n",
    "\n",
    "print(\"\\nAccessing specific values:\")\n",
    "print(\"First experiment sample name:\", experiment_results[0][0])\n",
    "print(\"First experiment concentration:\", experiment_results[0][1])\n",
    "print(\"First experiment viability:\", experiment_results[0][2])"
   ]
  },
  {
   "cell_type": "markdown",
   "metadata": {},
   "source": [
    "## More Complex Examples"
   ]
  },
  {
   "cell_type": "code",
   "execution_count": null,
   "metadata": {},
   "outputs": [],
   "source": [
    "# DNA primer information: [name, sequence, melting_temp, concentration]\n",
    "primers = [\n",
    "    [\"GAPDH_F\", \"GTCAACGGATTTGGTCTGTATT\", 58.2, 10],\n",
    "    [\"GAPDH_R\", \"AGTCTTCTGGGTGGCAGTGAT\", 60.1, 10],\n",
    "    [\"ACTB_F\", \"CATGTACGTTGCTATCCAGGC\", 61.5, 5],\n",
    "    [\"ACTB_R\", \"CTCCTTAATGTCACGCACGAT\", 59.8, 5]\n",
    "]\n",
    "\n",
    "# Access different pieces of information\n",
    "print(\"Primer inventory:\")\n",
    "print(f\"First primer name: {primers[0][0]}\")\n",
    "print(f\"First primer sequence: {primers[0][1]}\")\n",
    "print(f\"First primer Tm: {primers[0][2]}°C\")\n",
    "print(f\"First primer concentration: {primers[0][3]} μM\")\n",
    "\n",
    "print(f\"\\nSecond primer name: {primers[1][0]}\")\n",
    "print(f\"Last primer in list: {primers[-1][0]}\")"
   ]
  },
  {
   "cell_type": "markdown",
   "metadata": {},
   "source": [
    "## Exercise 2: Working with 2D Lists\n",
    "\n",
    "Create and work with complex biological data:"
   ]
  },
  {
   "cell_type": "code",
   "execution_count": null,
   "metadata": {},
   "outputs": [],
   "source": [
    "# Create a list of patient data: [patient_id, age, blood_pressure, cholesterol]\n",
    "patients = [\n",
    "    # Add at least 4 patients with different values\n",
    "    # YOUR CODE HERE\n",
    "]\n",
    "\n",
    "# Print information about the first patient\n",
    "print(\"First patient info:\")\n",
    "print(f\"ID: {patients[0][0]}\")\n",
    "print(f\"Age: {patients[0][1]} years\")\n",
    "# Add more print statements for blood pressure and cholesterol\n",
    "# YOUR CODE HERE\n",
    "\n",
    "# Print the cholesterol level of the last patient\n",
    "# YOUR CODE HERE"
   ]
  },
  {
   "cell_type": "markdown",
   "metadata": {},
   "source": [
    "## Exercise 3: Stock Solution Data\n",
    "\n",
    "Let's work with the reagent data from our lecture:"
   ]
  },
  {
   "cell_type": "code",
   "execution_count": null,
   "metadata": {},
   "outputs": [],
   "source": [
    "# Reagent data: [name, molecular_weight, mass_weighed_mg]\n",
    "reagents = [\n",
    "    [\"MG132\", 475.6, 89.5],\n",
    "    [\"Rapamycin\", 914.2, 125.3],\n",
    "    [\"Cycloheximide\", 281.4, 45.8],\n",
    "    [\"Staurosporine\", 466.5, 78.2]\n",
    "]\n",
    "\n",
    "# Practice accessing the data:\n",
    "# 1. Print the name of the second reagent\n",
    "# YOUR CODE HERE\n",
    "\n",
    "# 2. Print the molecular weight of the last reagent\n",
    "# YOUR CODE HERE\n",
    "\n",
    "# 3. Print all information about the third reagent in a nice format\n",
    "# YOUR CODE HERE\n",
    "\n",
    "# 4. Check if we have \"MG132\" in our reagent list\n",
    "# Hint: You'll need to check the names (first element of each inner list)\n",
    "# YOUR CODE HERE"
   ]
  },
  {
   "cell_type": "markdown",
   "metadata": {},
   "source": [
    "## Adding and Modifying Lists\n",
    "\n",
    "Lists can be changed after creation:"
   ]
  },
  {
   "cell_type": "code",
   "execution_count": null,
   "metadata": {},
   "outputs": [],
   "source": [
    "# Start with a simple list\n",
    "samples = [\"Control\", \"Treatment1\"]\n",
    "print(\"Original list:\", samples)\n",
    "\n",
    "# Add new items\n",
    "samples.append(\"Treatment2\")\n",
    "samples.append(\"Treatment3\")\n",
    "print(\"After adding items:\", samples)\n",
    "\n",
    "# Change an existing item\n",
    "samples[1] = \"Drug_A_5uM\"\n",
    "print(\"After changing item:\", samples)\n",
    "\n",
    "# Add multiple items at once\n",
    "new_treatments = [\"Drug_B_1uM\", \"Drug_B_10uM\"]\n",
    "samples.extend(new_treatments)\n",
    "print(\"After extending:\", samples)"
   ]
  },
  {
   "cell_type": "markdown",
   "metadata": {},
   "source": [
    "## Exercise 4: Building an Experiment\n",
    "\n",
    "Start with an empty list and build up your experiment:"
   ]
  },
  {
   "cell_type": "code",
   "execution_count": null,
   "metadata": {},
   "outputs": [],
   "source": [
    "# Start with an empty list of experimental conditions\n",
    "conditions = []\n",
    "\n",
    "# Add a control condition\n",
    "# YOUR CODE HERE\n",
    "\n",
    "# Add three different drug concentrations\n",
    "# YOUR CODE HERE\n",
    "\n",
    "# Print your final list\n",
    "print(\"Experimental conditions:\", conditions)\n",
    "print(f\"Number of conditions: {len(conditions)}\")\n",
    "\n",
    "# Change the second condition to something else\n",
    "# YOUR CODE HERE\n",
    "\n",
    "print(\"Updated conditions:\", conditions)"
   ]
  },
  {
   "cell_type": "markdown",
   "metadata": {},
   "source": [
    "## Real-World Example: Analyzing Multiple Samples\n",
    "\n",
    "Let's use lists to organize and analyze real biological data:"
   ]
  },
  {
   "cell_type": "code",
   "execution_count": null,
   "metadata": {},
   "outputs": [],
   "source": [
    "# Absorbance readings from a protein assay\n",
    "sample_data = [\n",
    "    [\"Standard_0\", 0.000],\n",
    "    [\"Standard_25\", 0.125],\n",
    "    [\"Standard_50\", 0.250],\n",
    "    [\"Standard_100\", 0.485],\n",
    "    [\"Sample_A\", 0.342],\n",
    "    [\"Sample_B\", 0.198],\n",
    "    [\"Sample_C\", 0.567]\n",
    "]\n",
    "\n",
    "print(\"Protein Assay Results:\")\n",
    "print(\"=\" * 25)\n",
    "\n",
    "# Let's examine our data\n",
    "print(f\"Total number of samples: {len(sample_data)}\")\n",
    "print(f\"First sample: {sample_data[0][0]} - {sample_data[0][1]} AU\")\n",
    "print(f\"Highest reading: {sample_data[-1][0]} - {sample_data[-1][1]} AU\")\n",
    "\n",
    "# Check which samples are above a threshold\n",
    "threshold = 0.300\n",
    "print(f\"\\nSamples above {threshold} AU:\")\n",
    "\n",
    "# We'll manually check each one (in the next notebook, we'll use loops!)\n",
    "if sample_data[0][1] > threshold:\n",
    "    print(f\"- {sample_data[0][0]}: {sample_data[0][1]}\")\n",
    "if sample_data[4][1] > threshold:  # Sample_A\n",
    "    print(f\"- {sample_data[4][0]}: {sample_data[4][1]}\")\n",
    "if sample_data[6][1] > threshold:  # Sample_C\n",
    "    print(f\"- {sample_data[6][0]}: {sample_data[6][1]}\")"
   ]
  },
  {
   "cell_type": "markdown",
   "metadata": {},
   "source": [
    "## Exercise 5: Final Challenge\n",
    "\n",
    "Create a comprehensive dataset and practice accessing it:"
   ]
  },
  {
   "cell_type": "code",
   "execution_count": null,
   "metadata": {},
   "outputs": [],
   "source": [
    "# Create a dataset of cell culture information\n",
    "# Each entry should be: [cell_line, passage_number, confluency_percent, viability_percent]\n",
    "cell_cultures = [\n",
    "    # Add at least 5 different cell culture entries\n",
    "    # YOUR CODE HERE\n",
    "]\n",
    "\n",
    "# Answer these questions using your data:\n",
    "\n",
    "# 1. How many cell cultures do you have?\n",
    "# YOUR CODE HERE\n",
    "\n",
    "# 2. What's the name of the third cell line?\n",
    "# YOUR CODE HERE\n",
    "\n",
    "# 3. What's the confluency of the last culture?\n",
    "# YOUR CODE HERE\n",
    "\n",
    "# 4. Print complete information about the second culture in a nice format\n",
    "# YOUR CODE HERE\n",
    "\n",
    "# 5. Which culture has the highest passage number? (Check manually)\n",
    "# YOUR CODE HERE"
   ]
  },
  {
   "cell_type": "markdown",
   "metadata": {},
   "source": [
    "## Summary: What You've Learned\n",
    "\n",
    "### Lists Basics\n",
    "- **Create lists**: `my_list = [item1, item2, item3]`\n",
    "- **Access items**: `my_list[0]` (first), `my_list[-1]` (last)\n",
    "- **List length**: `len(my_list)`\n",
    "- **Check membership**: `item in my_list`\n",
    "\n",
    "### Lists of Lists\n",
    "- **2D data**: `data = [[\"name1\", value1], [\"name2\", value2]]`\n",
    "- **Access nested data**: `data[0][1]` (first list, second item)\n",
    "- **Real biological applications**: Patient data, experimental results, reagent information\n",
    "\n",
    "### Modifying Lists\n",
    "- **Add single item**: `my_list.append(item)`\n",
    "- **Add multiple items**: `my_list.extend(other_list)`\n",
    "- **Change item**: `my_list[0] = new_value`\n",
    "\n",
    "## Why This Matters\n",
    "\n",
    "Lists are fundamental to biological data analysis:\n",
    "- **Organize samples** from experiments\n",
    "- **Store measurements** from multiple conditions\n",
    "- **Track reagents** and their properties\n",
    "- **Prepare data** for analysis and visualization\n",
    "\n",
    "## Next Up: For Loops!\n",
    "\n",
    "Now that you can organize data in lists, you'll learn how to **automatically process** every item in a list using for loops. No more manual checking of each sample - let Python do the work!"
   ]
  }
 ],
 "metadata": {
  "kernelspec": {
   "display_name": "Python 3",
   "language": "python",
   "name": "python3"
  },
  "language_info": {
   "codemirror_mode": {
    "name": "ipython",
    "version": 3
   },
   "file_extension": ".py",
   "mimetype": "text/x-python",
   "name": "python",
   "nbconvert_exporter": "python",
   "pygments_lexer": "ipython3",
   "version": "3.8.0"
  }
 },
 "nbformat": 4,
 "nbformat_minor": 4
}
