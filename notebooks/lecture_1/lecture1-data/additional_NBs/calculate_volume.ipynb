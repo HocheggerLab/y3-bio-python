{
 "cells": [
  {
   "cell_type": "markdown",
   "metadata": {},
   "source": [
    "# Step 1: Calculate Solvent Volume for One Reagent\n",
    "\n",
    "In this notebook, we'll write our first Python program to solve a real laboratory problem.\n",
    "\n",
    "## The Problem\n",
    "You need to prepare a solution with a specific concentration. You have:\n",
    "- The molecular weight of your compound\n",
    "- The mass you've weighed out\n",
    "- The desired final concentration\n",
    "\n",
    "You need to calculate how much solvent to add."
   ]
  },
  {
   "cell_type": "code",
   "execution_count": 1,
   "metadata": {},
   "outputs": [
    {
     "name": "stdout",
     "output_type": "stream",
     "text": [
      "Volume needed: 1.52 mL\n"
     ]
    }
   ],
   "source": [
    "# Step 1: Calculate solvent volume for one reagent\n",
    "\n",
    "# Define our variables\n",
    "molecular_weight = 342 # g/mol\n",
    "final_conc = 10 # mM\n",
    "weight = 5.2 # mg\n",
    "volume = (weight / molecular_weight) / final_conc # final unit is Liter\n",
    "volume = volume * 1000 # convert to mL\n",
    "print(f\"Volume needed: {volume:.2f} mL\")\n",
    "\n"
   ]
  },
  {
   "cell_type": "markdown",
   "metadata": {},
   "source": [
    "## Try it yourself!\n",
    "\n",
    "Modify the values below to calculate volumes for different scenarios:"
   ]
  },
  {
   "cell_type": "code",
   "execution_count": 2,
   "metadata": {},
   "outputs": [
    {
     "name": "stdout",
     "output_type": "stream",
     "text": [
      "Volume needed: 1.52 mL\n"
     ]
    }
   ],
   "source": [
    "# TODO: Try different values\n",
    "# What if you weighed 10 mg instead?\n",
    "# What if you want a 0.5 mM concentration?\n",
    "\n",
    "mol_weight = 342.3      # Try changing this!\n",
    "weighed_mass = 5.2      # Try changing this!\n",
    "end_concentration = 10 # Try changing this!\n",
    "\n",
    "volume = (weighed_mass / mol_weight)*10**3 / end_concentration\n",
    "print(f\"Volume needed: {volume:.2f} mL\")"
   ]
  },
  {
   "cell_type": "markdown",
   "metadata": {},
   "source": [
    "## Understanding the Formula\n",
    "\n",
    "Let's break down the calculation:\n",
    "\n",
    "1. `weighed_mass / mol_weight` = moles of substance\n",
    "2. `moles / end_concentration` = volume in liters\n",
    "3. multiply by 1000 to convert liters to mililiters"
   ]
  },
  {
   "cell_type": "code",
   "execution_count": 3,
   "metadata": {},
   "outputs": [
    {
     "name": "stdout",
     "output_type": "stream",
     "text": [
      "Moles of substance: 0.015191 mmol\n",
      "Volume needed: 0.00 mL\n"
     ]
    }
   ],
   "source": [
    "# Let's see each step of the calculation\n",
    "moles = weighed_mass / mol_weight\n",
    "print(f\"Moles of substance: {moles:.6f} mmol\")\n",
    "\n",
    "volume = moles / end_concentration\n",
    "print(f\"Volume needed: {volume:.2f} mL\")"
   ]
  }
 ],
 "metadata": {
  "kernelspec": {
   "display_name": ".venv",
   "language": "python",
   "name": "python3"
  },
  "language_info": {
   "codemirror_mode": {
    "name": "ipython",
    "version": 3
   },
   "file_extension": ".py",
   "mimetype": "text/x-python",
   "name": "python",
   "nbconvert_exporter": "python",
   "pygments_lexer": "ipython3",
   "version": "3.12.10"
  }
 },
 "nbformat": 4,
 "nbformat_minor": 4
}
