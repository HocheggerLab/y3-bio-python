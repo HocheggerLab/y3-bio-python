{
 "cells": [
  {
   "cell_type": "code",
   "execution_count": 7,
   "id": "d635641c",
   "metadata": {},
   "outputs": [
    {
     "name": "stdout",
     "output_type": "stream",
     "text": [
      "Volume needed: 1.52 mL\n"
     ]
    }
   ],
   "source": [
    "# Step1: single calulation\n",
    "\n",
    "mol_weight = 342.3  # molecular weight in g/mol\n",
    "\n",
    "weighed_mass = 5.2  # mass in mg\n",
    "\n",
    "end_concentration = 10  # desired concentration in mM\n",
    "\n",
    "# Calculate the volume needed (in mL)\n",
    "\n",
    "volume = 1000 * weighed_mass / mol_weight / end_concentration\n",
    "\n",
    "# Print the result with 2 decimal places\n",
    "\n",
    "print(f\"Volume needed: {volume:.2f} mL\")"
   ]
  },
  {
   "cell_type": "code",
   "execution_count": 9,
   "id": "8c0841b6",
   "metadata": {},
   "outputs": [
    {
     "name": "stdout",
     "output_type": "stream",
     "text": [
      "MG132: Add 18.82 mL of DMSO\n",
      "MG132 (5mM): Add 37.64 mL of DMSO\n"
     ]
    }
   ],
   "source": [
    "# Step2: wrap the calulation in a function\n",
    "\n",
    "\n",
    "def calculate_volume(mol_weight, weighed_mass, end_concentration):\n",
    "    \"\"\"Calculate solvent volume needed for stock solution\"\"\"\n",
    "    volume_mL = 1000 * weighed_mass / mol_weight / end_concentration\n",
    "    return volume_mL\n",
    "\n",
    "\n",
    "# Now we can use it for any reagent!\n",
    "volume = calculate_volume(475.6, 89.5, 10)\n",
    "print(f\"MG132: Add {volume:.2f} mL of DMSO\")\n",
    "\n",
    "# Different concentration? No problem!\n",
    "volume_5mM = calculate_volume(475.6, 89.5, 5)\n",
    "print(f\"MG132 (5mM): Add {volume_5mM:.2f} mL of DMSO\")"
   ]
  },
  {
   "cell_type": "code",
   "execution_count": null,
   "id": "45a3536d",
   "metadata": {},
   "outputs": [
    {
     "name": "stdout",
     "output_type": "stream",
     "text": [
      "Stock solution preparation:\n",
      "------------------------------\n",
      "MG132: Add 18.82 mL of DMSO\n",
      "Rapamycin: Add 13.71 mL of DMSO\n",
      "Cycloheximide: Add 16.28 mL of DMSO\n",
      "Staurosporine: Add 16.76 mL of DMSO\n",
      "Wortmannin: Add 15.17 mL of DMSO\n"
     ]
    }
   ],
   "source": [
    "# Step 3: using a for loop\n",
    "\n",
    "# List of lists: [name, molecular_weight, mass_mg]\n",
    "reagents = [\n",
    "    [\"MG132\", 475.6, 89.5],\n",
    "    [\"Rapamycin\", 914.2, 125.3],\n",
    "    [\"Cycloheximide\", 281.4, 45.8],\n",
    "    [\"Staurosporine\", 466.5, 78.2],\n",
    "    [\"Wortmannin\", 428.4, 65.0],\n",
    "    # ... add more reagents here\n",
    "]\n",
    "# Our function from Step 2\n",
    "def calculate_volume(mol_weight, weighed_mass, end_concentration):\n",
    "    \"\"\"Calculate solvent volume needed for stock solution\"\"\"\n",
    "    volume_mL = 1000 * weighed_mass / mol_weight / end_concentration\n",
    "    return volume_mL\n",
    "\n",
    "# Process ALL reagents with a for loop\n",
    "print(\"Stock solution preparation:\")\n",
    "print(\"-\" * 30)\n",
    "\n",
    "for reagent in reagents:\n",
    "    name = reagent[0]\n",
    "    mw = reagent[1] \n",
    "    mass = reagent[2]\n",
    "    volume = calculate_volume(mw, mass, 10)  # 10mM concentration\n",
    "    print(f\"{name}: Add {volume:.2f} mL of DMSO\")"
   ]
  },
  {
   "cell_type": "code",
   "execution_count": null,
   "id": "d4d00d33",
   "metadata": {},
   "outputs": [],
   "source": []
  }
 ],
 "metadata": {
  "kernelspec": {
   "display_name": ".venv",
   "language": "python",
   "name": "python3"
  },
  "language_info": {
   "codemirror_mode": {
    "name": "ipython",
    "version": 3
   },
   "file_extension": ".py",
   "mimetype": "text/x-python",
   "name": "python",
   "nbconvert_exporter": "python",
   "pygments_lexer": "ipython3",
   "version": "3.13.3"
  }
 },
 "nbformat": 4,
 "nbformat_minor": 5
}
