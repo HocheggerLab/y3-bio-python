{
 "cells": [
  {
   "cell_type": "code",
   "execution_count": 11,
   "id": "d635641c",
   "metadata": {},
   "outputs": [
    {
     "name": "stdout",
     "output_type": "stream",
     "text": [
      "🔬 Molecular Weight Calculator\n",
      "===================================\n",
      "Reagent: MW = 342.3 g/mol, Mass = 5.2 mg\n",
      "Target: 10 mM stock solution\n",
      "Result: Add 1.52 mL of DMSO\n"
     ]
    }
   ],
   "source": [
    "# 🧪 Step 1: Single Calculation\n",
    "\n",
    "print(\"🔬 Molecular Weight Calculator\")\n",
    "print(\"=\" * 35)\n",
    "\n",
    "# Define our experimental parameters\n",
    "mol_weight = 342.3  # molecular weight in g/mol\n",
    "weighed_mass = 5.2  # mass in mg\n",
    "end_concentration = 10  # desired concentration in mM\n",
    "\n",
    "# Calculate the volume needed (in mL)\n",
    "volume = 1000 * weighed_mass / mol_weight / end_concentration\n",
    "\n",
    "print(f\"Reagent: MW = {mol_weight} g/mol, Mass = {weighed_mass} mg\")\n",
    "print(f\"Target: {end_concentration} mM stock solution\")\n",
    "print(f\"Result: Add {volume:.2f} mL of DMSO\")"
   ]
  },
  {
   "cell_type": "code",
   "execution_count": 12,
   "id": "8c0841b6",
   "metadata": {},
   "outputs": [
    {
     "name": "stdout",
     "output_type": "stream",
     "text": [
      "🔧 Function created!\n",
      "\n",
      "🧪 Testing with MG132:\n",
      "10 mM stock: 18.82 mL DMSO\n",
      "5 mM stock:  37.64 mL DMSO\n"
     ]
    }
   ],
   "source": [
    "# ⚙️ Step 2: Creating a Reusable Function\n",
    "\n",
    "def calculate_volume(mol_weight, weighed_mass, end_concentration):\n",
    "    \"\"\"Calculate solvent volume needed for stock solution\"\"\"\n",
    "    volume_mL = 1000 * weighed_mass / mol_weight / end_concentration\n",
    "    return volume_mL\n",
    "\n",
    "print(\"🔧 Function created!\")\n",
    "print(\"\\n🧪 Testing with MG132:\")\n",
    "\n",
    "# Test with different concentrations\n",
    "volume_10mM = calculate_volume(475.6, 89.5, 10)\n",
    "volume_5mM = calculate_volume(475.6, 89.5, 5)\n",
    "\n",
    "print(f\"10 mM stock: {volume_10mM:.2f} mL DMSO\")\n",
    "print(f\"5 mM stock:  {volume_5mM:.2f} mL DMSO\")"
   ]
  },
  {
   "cell_type": "code",
   "execution_count": 13,
   "id": "45a3536d",
   "metadata": {},
   "outputs": [
    {
     "name": "stdout",
     "output_type": "stream",
     "text": [
      "🔬 Batch Processing Multiple Reagents\n",
      "=============================================\n",
      "📋 Processing 5 reagents for 10 mM stock solutions:\n",
      "------------------------------------------------------------\n",
      " 1. MG132           → Add  18.82 mL DMSO\n",
      " 2. Rapamycin       → Add  13.71 mL DMSO\n",
      " 3. Cycloheximide   → Add  16.28 mL DMSO\n",
      " 4. Staurosporine   → Add  16.76 mL DMSO\n",
      " 5. Wortmannin      → Add  15.17 mL DMSO\n",
      "------------------------------------------------------------\n",
      "✅ Successfully calculated volumes for all 5 reagents!\n",
      "🧪 All stocks will be 10 mM concentration in DMSO\n"
     ]
    }
   ],
   "source": [
    "# 🔄 Step 3: Processing Multiple Reagents with For Loops\n",
    "# Scale up to handle multiple reagents efficiently\n",
    "\n",
    "print(\"🔬 Batch Processing Multiple Reagents\")\n",
    "print(\"=\" * 45)\n",
    "\n",
    "# List of common lab reagents: [name, molecular_weight, mass_mg]\n",
    "reagents = [\n",
    "    [\"MG132\", 475.6, 89.5],           # Proteasome inhibitor\n",
    "    [\"Rapamycin\", 914.2, 125.3],      # mTOR inhibitor  \n",
    "    [\"Cycloheximide\", 281.4, 45.8],   # Protein synthesis inhibitor\n",
    "    [\"Staurosporine\", 466.5, 78.2],   # Kinase inhibitor\n",
    "    [\"Wortmannin\", 428.4, 65.0],      # PI3K inhibitor\n",
    "]\n",
    "\n",
    "print(f\"📋 Processing {len(reagents)} reagents for 10 mM stock solutions:\")\n",
    "print(\"-\" * 60)\n",
    "\n",
    "# Process ALL reagents with a for loop\n",
    "for i, reagent in enumerate(reagents, 1):\n",
    "    name = reagent[0]\n",
    "    mw = reagent[1] \n",
    "    mass = reagent[2]\n",
    "    volume = calculate_volume(mw, mass, 10)  # 10mM concentration\n",
    "    \n",
    "    print(f\"{i:2d}. {name:<15} → Add {volume:6.2f} mL DMSO\")\n",
    "\n",
    "print(\"-\" * 60)\n",
    "print(f\"✅ Successfully calculated volumes for all {len(reagents)} reagents!\")\n",
    "print(f\"🧪 All stocks will be 10 mM concentration in DMSO\")"
   ]
  },
  {
   "cell_type": "code",
   "execution_count": 14,
   "id": "d4d00d33",
   "metadata": {},
   "outputs": [
    {
     "name": "stdout",
     "output_type": "stream",
     "text": [
      "🌐 Loading reagent database from GitHub...\n",
      "✅ Database loaded successfully!\n"
     ]
    }
   ],
   "source": [
    "# 📁 Step 4: Reading Data from CSV Files\n",
    "\n",
    "import requests\n",
    "from io import StringIO\n",
    "import csv\n",
    "\n",
    "print(\"🌐 Loading reagent database from GitHub...\")\n",
    "\n",
    "# Get the CSV file from GitHub\n",
    "url = \"https://raw.githubusercontent.com/HocheggerLab/y3-bio-python/main/data/reagents.csv\"\n",
    "response = requests.get(url)\n",
    "csv_data = StringIO(response.text)\n",
    "\n",
    "print(\"✅ Database loaded successfully!\")"
   ]
  },
  {
   "cell_type": "code",
   "execution_count": 15,
   "id": "95f815e8",
   "metadata": {},
   "outputs": [
    {
     "name": "stdout",
     "output_type": "stream",
     "text": [
      "📋 First 5 rows of data:\n",
      "['Name', 'Molecular_Weight', 'Mass_mg']\n",
      "['MG132', '475.6', '89.5']\n",
      "['Rapamycin', '914.2', '125.3']\n",
      "['Staurosporine', '466.5', '78.2']\n",
      "['Nocodazole', '301.3', '65.1']\n",
      "['Cycloheximide', '281.3', '82.7']\n",
      "... (95 more reagents)\n"
     ]
    }
   ],
   "source": [
    "# 👀 Preview the CSV data\n",
    "\n",
    "csv_data = StringIO(response.text)\n",
    "reader = csv.reader(csv_data)\n",
    "\n",
    "print(\"📋 First 5 rows of data:\")\n",
    "for i, row in enumerate(reader):\n",
    "    if i <= 5:\n",
    "        print(f\"{row}\")\n",
    "    else:\n",
    "        print(\"... (95 more reagents)\")\n",
    "        break"
   ]
  },
  {
   "cell_type": "code",
   "execution_count": 16,
   "id": "808436ea",
   "metadata": {},
   "outputs": [
    {
     "name": "stdout",
     "output_type": "stream",
     "text": [
      "🧪 Calculating volumes for all reagents...\n",
      "No.  Reagent              Volume (mL)\n",
      "----------------------------------------\n",
      "  1. MG132                   18.82\n",
      "  2. Rapamycin               13.71\n",
      "  3. Staurosporine           16.76\n",
      "  4. Nocodazole              21.61\n",
      "  5. Cycloheximide           29.40\n",
      "  6. Actinomycin D           12.49\n",
      "  7. Puromycin               16.92\n",
      "  8. Chloramphenicol         23.34\n",
      "  9. Hygromycin B            18.69\n",
      " 10. Kanamycin               18.02\n",
      "... (processing remaining 90 reagents)\n",
      "----------------------------------------\n",
      "✅ Processed 106 reagents total!\n"
     ]
    }
   ],
   "source": [
    "# 🚀 Processing All 100 Reagents\n",
    "\n",
    "print(\"🧪 Calculating volumes for all reagents...\")\n",
    "\n",
    "# Get fresh data\n",
    "url = \"https://raw.githubusercontent.com/HocheggerLab/y3-bio-python/main/data/reagents.csv\"\n",
    "response = requests.get(url)\n",
    "csv_data = StringIO(response.text)\n",
    "reader = csv.reader(csv_data)\n",
    "next(reader)  # Skip header\n",
    "\n",
    "print(f\"{'No.':<4} {'Reagent':<20} {'Volume (mL)'}\")\n",
    "print(\"-\" * 40)\n",
    "\n",
    "count = 0\n",
    "for row in reader:\n",
    "    name = row[0]\n",
    "    mw = float(row[1])\n",
    "    mass = float(row[2])\n",
    "    volume = calculate_volume(mw, mass, 10)\n",
    "    count += 1\n",
    "    \n",
    "    # Show first 10, then skip to avoid long output\n",
    "    if count <= 10:\n",
    "        print(f\"{count:3d}. {name:<20} {volume:8.2f}\")\n",
    "    elif count == 11:\n",
    "        print(\"... (processing remaining 90 reagents)\")\n",
    "\n",
    "print(\"-\" * 40)\n",
    "print(f\"✅ Processed {count} reagents total!\")"
   ]
  },
  {
   "cell_type": "code",
   "execution_count": 17,
   "id": "657aba42",
   "metadata": {},
   "outputs": [
    {
     "name": "stdout",
     "output_type": "stream",
     "text": [
      "✅ Loaded 106 reagents from file\n",
      "📊 Sample data: MG132 - MW: 475.6, Mass: 89.5 mg\n"
     ]
    }
   ],
   "source": [
    "# Step 5: Writing data back to csv\n",
    "# First, let's store our data in lists for easier processing\n",
    "# Read the CSV file again and store in lists\n",
    "\n",
    "\n",
    "url = \"https://raw.githubusercontent.com/HocheggerLab/y3-bio-python/main/data/reagents.csv\"\n",
    "response = requests.get(url)\n",
    "csv_data = StringIO(response.text)\n",
    "\n",
    "# Read reagent data from CSV file\n",
    "names = []\n",
    "molecular_weights = []\n",
    "masses = []\n",
    "\n",
    "csv_reader = csv.reader(csv_data)\n",
    "next(csv_reader)  # Skip header row\n",
    "\n",
    "for row in csv_reader:\n",
    "    names.append(row[0])\n",
    "    molecular_weights.append(float(row[1]))\n",
    "    masses.append(float(row[2]))\n",
    "\n",
    "print(f\"✅ Loaded {len(names)} reagents from file\")\n",
    "print(f\"📊 Sample data: {names[0]} - MW: {molecular_weights[0]}, Mass: {masses[0]} mg\")"
   ]
  },
  {
   "cell_type": "code",
   "execution_count": 21,
   "id": "ancjy3adbca",
   "metadata": {},
   "outputs": [
    {
     "name": "stdout",
     "output_type": "stream",
     "text": [
      "📊 Stock Solution Results:\n",
      "===========================================================================\n",
      "Reagent              MW       Mass(mg)   Volume(mL)   Solvent \n",
      "===========================================================================\n",
      "MG132                475.6    89.5       18.82 DMSO\n",
      "Rapamycin            914.2    125.3      13.71 DMSO\n",
      "Staurosporine        466.5    78.2       16.76 DMSO\n",
      "Nocodazole           301.3    65.1       21.61 DMSO\n",
      "Cycloheximide        281.3    82.7       29.40 DMSO\n",
      "Actinomycin D        1255.4   156.8      12.49 DMSO\n",
      "Puromycin            544.4    92.1       16.92 DMSO\n",
      "Chloramphenicol      323.1    75.4       23.34 DMSO\n",
      "Hygromycin B         527.5    98.6       18.69 DMSO\n",
      "Kanamycin            484.5    87.3       18.02 DMSO\n",
      "... (showing first 10 of 100 reagents) ...\n",
      "\n",
      "✅ Processed 106 reagents successfully!\n",
      "💡 Average volume needed: 19.87 mL\n",
      "📈 Total DMSO needed: 2106.5 mL\n"
     ]
    }
   ],
   "source": [
    "# Display the calculated results in a nice table format\n",
    "print(\"📊 Stock Solution Results:\")\n",
    "print(\"=\" * 75)\n",
    "print(f\"{'Reagent':<20} {'MW':<8} {'Mass(mg)':<10} {'Volume(mL)':<12} {'Solvent':<8}\")\n",
    "print(\"=\" * 75)\n",
    "\n",
    "volumes = []\n",
    "for i in range(len(names)):\n",
    "    volume = calculate_volume(molecular_weights[i], masses[i], 10.0)  # 10mM concentration\n",
    "    volumes.append(volume)\n",
    "    # Show first 10 reagents, then skip to summary\n",
    "    if i < 10:\n",
    "        print(\n",
    "            f\"{names[i]:<20} {molecular_weights[i]:<8} {masses[i]:<10} {volume:.2f} {'DMSO'}\"\n",
    "        )\n",
    "    elif i == 10:\n",
    "        print(\"... (showing first 10 of 100 reagents) ...\")\n",
    "\n",
    "print(f\"\\n✅ Processed {len(names)} reagents successfully!\")\n",
    "print(f\"💡 Average volume needed: {sum(volumes)/len(volumes):.2f} mL\")\n",
    "print(f\"📈 Total DMSO needed: {sum(volumes):.1f} mL\")"
   ]
  },
  {
   "cell_type": "code",
   "execution_count": null,
   "id": "cbo8zl2dsnp",
   "metadata": {},
   "outputs": [],
   "source": [
    "# Step 6: Save results to CSV file\n",
    "import csv\n",
    "from google.colab import files\n",
    "\n",
    "# Create the output file\n",
    "output_filename = 'stock_solutions_with_volumes.csv'\n",
    "\n",
    "with open(output_filename, 'w', newline='') as file:\n",
    "    csv_writer = csv.writer(file)\n",
    "    \n",
    "    # Write header\n",
    "    csv_writer.writerow(['Reagent', 'Molecular_Weight', 'Mass_mg', 'Volume_mL', 'Concentration_mM', 'Solvent'])\n",
    "    \n",
    "    # Write all reagent data\n",
    "    for i in range(len(names)):\n",
    "        csv_writer.writerow([\n",
    "            names[i],\n",
    "            molecular_weights[i],\n",
    "            masses[i],\n",
    "            round(volumes[i], 2),\n",
    "            10.0,\n",
    "            'DMSO'\n",
    "        ])\n",
    "\n",
    "print(f\"✅ Created file: {output_filename}\")\n",
    "print(f\"📊 Contains {len(names)} reagents with calculated volumes\")\n",
    "\n",
    "# Download the file\n",
    "files.download(output_filename)\n",
    "print(\"⬇️ File downloaded to your computer!\")"
   ]
  },
  {
   "cell_type": "code",
   "execution_count": 22,
   "id": "q2x0glpyrul",
   "metadata": {},
   "outputs": [
    {
     "name": "stdout",
     "output_type": "stream",
     "text": [
      "📊 Data Summary:\n",
      "------------------------------\n",
      "Total reagents: 106\n",
      "Smallest volume: 11.54 mL (Vancomycin)\n",
      "Largest volume: 29.40 mL (Cycloheximide)\n",
      "Average volume: 19.87 mL\n",
      "Total DMSO needed: 2106.5 mL\n",
      "\n",
      "🧪 All stocks prepared at 10 mM concentration in DMSO\n"
     ]
    }
   ],
   "source": [
    "# 📈 Summary Statistics\n",
    "\n",
    "print(\"📊 Data Summary:\")\n",
    "print(\"-\" * 30)\n",
    "print(f\"Total reagents: {len(names)}\")\n",
    "print(f\"Smallest volume: {min(volumes):.2f} mL ({names[volumes.index(min(volumes))]})\")\n",
    "print(f\"Largest volume: {max(volumes):.2f} mL ({names[volumes.index(max(volumes))]})\")\n",
    "print(f\"Average volume: {sum(volumes)/len(volumes):.2f} mL\")\n",
    "print(f\"Total DMSO needed: {sum(volumes):.1f} mL\")\n",
    "\n",
    "print(\"\\n🧪 All stocks prepared at 10 mM concentration in DMSO\")"
   ]
  },
  {
   "cell_type": "code",
   "execution_count": null,
   "id": "aecdf284",
   "metadata": {},
   "outputs": [],
   "source": []
  }
 ],
 "metadata": {
  "kernelspec": {
   "display_name": ".venv",
   "language": "python",
   "name": "python3"
  },
  "language_info": {
   "codemirror_mode": {
    "name": "ipython",
    "version": 3
   },
   "file_extension": ".py",
   "mimetype": "text/x-python",
   "name": "python",
   "nbconvert_exporter": "python",
   "pygments_lexer": "ipython3",
   "version": "3.13.3"
  }
 },
 "nbformat": 4,
 "nbformat_minor": 5
}
