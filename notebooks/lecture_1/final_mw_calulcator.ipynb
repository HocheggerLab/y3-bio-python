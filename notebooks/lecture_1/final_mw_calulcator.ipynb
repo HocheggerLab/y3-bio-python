{
 "cells": [
  {
   "cell_type": "code",
   "execution_count": 7,
   "id": "d635641c",
   "metadata": {},
   "outputs": [
    {
     "name": "stdout",
     "output_type": "stream",
     "text": [
      "Volume needed: 1.52 mL\n"
     ]
    }
   ],
   "source": [
    "# Step1: single calulation\n",
    "\n",
    "mol_weight = 342.3  # molecular weight in g/mol\n",
    "\n",
    "weighed_mass = 5.2  # mass in mg\n",
    "\n",
    "end_concentration = 10  # desired concentration in mM\n",
    "\n",
    "# Calculate the volume needed (in mL)\n",
    "\n",
    "volume = 1000 * weighed_mass / mol_weight / end_concentration\n",
    "\n",
    "# Print the result with 2 decimal places\n",
    "\n",
    "print(f\"Volume needed: {volume:.2f} mL\")"
   ]
  },
  {
   "cell_type": "code",
   "execution_count": 9,
   "id": "8c0841b6",
   "metadata": {},
   "outputs": [
    {
     "name": "stdout",
     "output_type": "stream",
     "text": [
      "MG132: Add 18.82 mL of DMSO\n",
      "MG132 (5mM): Add 37.64 mL of DMSO\n"
     ]
    }
   ],
   "source": [
    "# Step2: wrap the calulation in a function\n",
    "\n",
    "\n",
    "def calculate_volume(mol_weight, weighed_mass, end_concentration):\n",
    "    \"\"\"Calculate solvent volume needed for stock solution\"\"\"\n",
    "    volume_mL = 1000 * weighed_mass / mol_weight / end_concentration\n",
    "    return volume_mL\n",
    "\n",
    "\n",
    "# Now we can use it for any reagent!\n",
    "volume = calculate_volume(475.6, 89.5, 10)\n",
    "print(f\"MG132: Add {volume:.2f} mL of DMSO\")\n",
    "\n",
    "# Different concentration? No problem!\n",
    "volume_5mM = calculate_volume(475.6, 89.5, 5)\n",
    "print(f\"MG132 (5mM): Add {volume_5mM:.2f} mL of DMSO\")"
   ]
  },
  {
   "cell_type": "code",
   "execution_count": null,
   "id": "45a3536d",
   "metadata": {},
   "outputs": [
    {
     "name": "stdout",
     "output_type": "stream",
     "text": [
      "Stock solution preparation:\n",
      "------------------------------\n",
      "MG132: Add 18.82 mL of DMSO\n",
      "Rapamycin: Add 13.71 mL of DMSO\n",
      "Cycloheximide: Add 16.28 mL of DMSO\n",
      "Staurosporine: Add 16.76 mL of DMSO\n",
      "Wortmannin: Add 15.17 mL of DMSO\n"
     ]
    }
   ],
   "source": [
    "# Step 3: using a for loop\n",
    "\n",
    "# List of lists: [name, molecular_weight, mass_mg]\n",
    "reagents = [\n",
    "    [\"MG132\", 475.6, 89.5],\n",
    "    [\"Rapamycin\", 914.2, 125.3],\n",
    "    [\"Cycloheximide\", 281.4, 45.8],\n",
    "    [\"Staurosporine\", 466.5, 78.2],\n",
    "    [\"Wortmannin\", 428.4, 65.0],\n",
    "    # ... add more reagents here\n",
    "]\n",
    "# Our function from Step 2\n",
    "def calculate_volume(mol_weight, weighed_mass, end_concentration):\n",
    "    \"\"\"Calculate solvent volume needed for stock solution\"\"\"\n",
    "    volume_mL = 1000 * weighed_mass / mol_weight / end_concentration\n",
    "    return volume_mL\n",
    "\n",
    "# Process ALL reagents with a for loop\n",
    "print(\"Stock solution preparation:\")\n",
    "print(\"-\" * 30)\n",
    "\n",
    "for reagent in reagents:\n",
    "    name = reagent[0]\n",
    "    mw = reagent[1] \n",
    "    mass = reagent[2]\n",
    "    volume = calculate_volume(mw, mass, 10)  # 10mM concentration\n",
    "    print(f\"{name}: Add {volume:.2f} mL of DMSO\")"
   ]
  },
  {
   "cell_type": "code",
   "execution_count": 11,
   "id": "d4d00d33",
   "metadata": {},
   "outputs": [],
   "source": [
    "import requests\n",
    "from io import StringIO\n",
    "\n",
    " # Direct URL to CSV file in your GitHub repo\n",
    "url = \"https://raw.githubusercontent.com/HocheggerLab/y3-bio-python/main/data/reagents.csv\"\n",
    "# Method 2: Using standard library (for your current approach)\n",
    "response = requests.get(url)\n",
    "csv_data = StringIO(response.text)"
   ]
  },
  {
   "cell_type": "code",
   "execution_count": 12,
   "id": "5e10f3a5",
   "metadata": {},
   "outputs": [
    {
     "data": {
      "text/plain": [
       "<_io.StringIO at 0x108566740>"
      ]
     },
     "execution_count": 12,
     "metadata": {},
     "output_type": "execute_result"
    }
   ],
   "source": [
    "csv_data \n"
   ]
  },
  {
   "cell_type": "code",
   "execution_count": 14,
   "id": "808436ea",
   "metadata": {},
   "outputs": [
    {
     "ename": "FileNotFoundError",
     "evalue": "[Errno 2] No such file or directory: 'https://raw.githubusercontent.com/HocheggerLab/y3-bio-python/main/data/reagents.csv'",
     "output_type": "error",
     "traceback": [
      "\u001b[31m---------------------------------------------------------------------------\u001b[39m",
      "\u001b[31mFileNotFoundError\u001b[39m                         Traceback (most recent call last)",
      "\u001b[36mCell\u001b[39m\u001b[36m \u001b[39m\u001b[32mIn[14]\u001b[39m\u001b[32m, line 3\u001b[39m\n\u001b[32m      1\u001b[39m \u001b[38;5;28;01mimport\u001b[39;00m\u001b[38;5;250m \u001b[39m\u001b[34;01mcsv\u001b[39;00m\n\u001b[32m----> \u001b[39m\u001b[32m3\u001b[39m \u001b[38;5;28;01mwith\u001b[39;00m \u001b[38;5;28;43mopen\u001b[39;49m\u001b[43m(\u001b[49m\u001b[33;43m\"\u001b[39;49m\u001b[33;43mhttps://raw.githubusercontent.com/HocheggerLab/y3-bio-python/main/data/reagents.csv\u001b[39;49m\u001b[33;43m\"\u001b[39;49m\u001b[43m,\u001b[49m\u001b[43m \u001b[49m\u001b[33;43m\"\u001b[39;49m\u001b[33;43mr\u001b[39;49m\u001b[33;43m\"\u001b[39;49m\u001b[43m)\u001b[49m \u001b[38;5;28;01mas\u001b[39;00m file:\n\u001b[32m      4\u001b[39m     reader = csv.reader(file)\n\u001b[32m      5\u001b[39m     \u001b[38;5;28mnext\u001b[39m(reader)  \u001b[38;5;66;03m# Skip header\u001b[39;00m\n",
      "\u001b[36mFile \u001b[39m\u001b[32m~/code/y3-bio-python/.venv/lib/python3.13/site-packages/IPython/core/interactiveshell.py:343\u001b[39m, in \u001b[36m_modified_open\u001b[39m\u001b[34m(file, *args, **kwargs)\u001b[39m\n\u001b[32m    336\u001b[39m \u001b[38;5;28;01mif\u001b[39;00m file \u001b[38;5;129;01min\u001b[39;00m {\u001b[32m0\u001b[39m, \u001b[32m1\u001b[39m, \u001b[32m2\u001b[39m}:\n\u001b[32m    337\u001b[39m     \u001b[38;5;28;01mraise\u001b[39;00m \u001b[38;5;167;01mValueError\u001b[39;00m(\n\u001b[32m    338\u001b[39m         \u001b[33mf\u001b[39m\u001b[33m\"\u001b[39m\u001b[33mIPython won\u001b[39m\u001b[33m'\u001b[39m\u001b[33mt let you open fd=\u001b[39m\u001b[38;5;132;01m{\u001b[39;00mfile\u001b[38;5;132;01m}\u001b[39;00m\u001b[33m by default \u001b[39m\u001b[33m\"\u001b[39m\n\u001b[32m    339\u001b[39m         \u001b[33m\"\u001b[39m\u001b[33mas it is likely to crash IPython. If you know what you are doing, \u001b[39m\u001b[33m\"\u001b[39m\n\u001b[32m    340\u001b[39m         \u001b[33m\"\u001b[39m\u001b[33myou can use builtins\u001b[39m\u001b[33m'\u001b[39m\u001b[33m open.\u001b[39m\u001b[33m\"\u001b[39m\n\u001b[32m    341\u001b[39m     )\n\u001b[32m--> \u001b[39m\u001b[32m343\u001b[39m \u001b[38;5;28;01mreturn\u001b[39;00m \u001b[43mio_open\u001b[49m\u001b[43m(\u001b[49m\u001b[43mfile\u001b[49m\u001b[43m,\u001b[49m\u001b[43m \u001b[49m\u001b[43m*\u001b[49m\u001b[43margs\u001b[49m\u001b[43m,\u001b[49m\u001b[43m \u001b[49m\u001b[43m*\u001b[49m\u001b[43m*\u001b[49m\u001b[43mkwargs\u001b[49m\u001b[43m)\u001b[49m\n",
      "\u001b[31mFileNotFoundError\u001b[39m: [Errno 2] No such file or directory: 'https://raw.githubusercontent.com/HocheggerLab/y3-bio-python/main/data/reagents.csv'"
     ]
    }
   ],
   "source": [
    "import csv\n",
    "\n",
    "with open(\"https://raw.githubusercontent.com/HocheggerLab/y3-bio-python/main/data/reagents.csv\", \"r\") as file:\n",
    "    reader = csv.reader(file)\n",
    "    next(reader)  # Skip header\n",
    "    for row in reader:\n",
    "        print(row)"
   ]
  },
  {
   "cell_type": "code",
   "execution_count": null,
   "id": "657aba42",
   "metadata": {},
   "outputs": [],
   "source": []
  }
 ],
 "metadata": {
  "kernelspec": {
   "display_name": ".venv",
   "language": "python",
   "name": "python3"
  },
  "language_info": {
   "codemirror_mode": {
    "name": "ipython",
    "version": 3
   },
   "file_extension": ".py",
   "mimetype": "text/x-python",
   "name": "python",
   "nbconvert_exporter": "python",
   "pygments_lexer": "ipython3",
   "version": "3.13.3"
  }
 },
 "nbformat": 4,
 "nbformat_minor": 5
}
