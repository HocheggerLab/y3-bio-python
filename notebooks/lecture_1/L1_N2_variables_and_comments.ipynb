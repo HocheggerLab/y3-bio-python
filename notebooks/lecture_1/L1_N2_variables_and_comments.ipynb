{
  "cells": [
    {
      "cell_type": "markdown",
      "metadata": {},
      "source": [
        "# 📦 Variables and Comments in Python\n",
        "\n",
        "## Welcome to Your Second Python Lesson!\n",
        "\n",
        "Now that you're comfortable with notebooks, let's learn about **variables** - one of the most fundamental concepts in programming.\n",
        "\n",
        "**What you'll learn:**\n",
        "- What variables are and why we need them\n",
        "- How to create and use variables\n",
        "- Python naming rules and conventions\n",
        "- How to write helpful comments\n",
        "- Common mistakes to avoid"
      ]
    },
    {
      "cell_type": "markdown",
      "metadata": {},
      "source": [
        "## 🎯 What Are Variables?\n",
        "\n",
        "Think of variables as **labeled containers** that store data. Just like in the lab:\n",
        "- You might label a tube \"Sample A\" \n",
        "- You might label a flask \"10mM glucose\"\n",
        "- You might label a plate \"Control group\"\n",
        "\n",
        "In Python, variables work the same way - they're names we give to pieces of data so we can use them later."
      ]
    },
    {
      "cell_type": "markdown",
      "metadata": {},
      "source": [
        "## 🔬 Your First Variables\n",
        "\n",
        "Let's create some variables relevant to biology:"
      ]
    },
    {
      "cell_type": "code",
      "execution_count": 1,
      "metadata": {},
      "outputs": [
        {
          "name": "stdout",
          "output_type": "stream",
          "text": [
            "hello world\n"
          ]
        }
      ],
      "source": [
        "print(\"hello world\")"
      ]
    },
    {
      "cell_type": "code",
      "execution_count": null,
      "metadata": {},
      "outputs": [],
      "source": [
        "# Creating variables is simple: name = value\n",
        "\n",
        "# Store a number\n",
        "sample_count = 24\n",
        "\n",
        "# Store text (called a 'string')\n",
        "experiment_name = \"Protein Expression Study\"\n",
        "\n",
        "# Store a decimal number\n",
        "ph_value = 7.4\n",
        "\n",
        "# Print our variables\n",
        "print(sample_count)\n",
        "print(experiment_name)\n",
        "print(ph_value)"
      ]
    },
    {
      "cell_type": "markdown",
      "metadata": {},
      "source": [
        "### Understanding the Code Above:\n",
        "\n",
        "1. **Assignment operator `=`**: This doesn't mean \"equals\" in math terms. It means \"store the value on the right in the variable on the left\"\n",
        "2. **Variable names**: We chose descriptive names that tell us what the data represents\n",
        "3. **Different types**: Variables can store numbers, text, decimals, and more"
      ]
    },
    {
      "cell_type": "markdown",
      "metadata": {},
      "source": [
        "## 📝 Comments - Your Code's Lab Notebook\n",
        "\n",
        "Comments are notes in your code that Python ignores. They're like annotations in your lab notebook - essential for understanding what you did and why!"
      ]
    },
    {
      "cell_type": "code",
      "execution_count": null,
      "metadata": {},
      "outputs": [],
      "source": [
        "# This is a comment - Python ignores everything after the #\n",
        "# Use comments to explain your code\n",
        "\n",
        "# Calculate the concentration of a DNA sample\n",
        "dna_mass = 150  # nanograms\n",
        "volume = 50     # microliters\n",
        "\n",
        "# Calculate concentration (ng/µL)\n",
        "concentration = dna_mass / volume  # This does the actual calculation\n",
        "\n",
        "print(f\"DNA concentration: {concentration} ng/µL\")"
      ]
    },
    {
      "cell_type": "markdown",
      "metadata": {},
      "source": [
        "### Types of Comments:\n",
        "\n",
        "1. **Full line comments**: Start at the beginning of a line\n",
        "2. **Inline comments**: At the end of a line of code\n",
        "3. **Explanatory comments**: Describe what the code does\n",
        "4. **TODO comments**: Mark things to fix or improve later"
      ]
    },
    {
      "cell_type": "code",
      "execution_count": null,
      "metadata": {},
      "outputs": [],
      "source": [
        "# Full line comment explaining the section\n",
        "# Setting up experimental parameters\n",
        "\n",
        "temperature = 37  # Inline comment: body temperature in Celsius\n",
        "\n",
        "# TODO: Add error checking for temperature range\n",
        "# TODO: Convert to Kelvin for calculations\n",
        "\n",
        "# Explanatory comment:\n",
        "# The following calculates the reaction rate using the Arrhenius equation\n",
        "# (simplified version for demonstration)\n",
        "k = 0.001 * (temperature / 25)"
      ]
    },
    {
      "cell_type": "markdown",
      "metadata": {},
      "source": [
        "## 🏷️ Variable Naming Rules\n",
        "\n",
        "Python has strict rules about variable names. Break these rules and your code won't run!"
      ]
    },
    {
      "cell_type": "markdown",
      "metadata": {},
      "source": [
        "### Rule 1: Start with a letter or underscore"
      ]
    },
    {
      "cell_type": "code",
      "execution_count": null,
      "metadata": {},
      "outputs": [],
      "source": [
        "# ✅ GOOD - starts with letter\n",
        "protein_name = \"insulin\"\n",
        "sample1 = \"control\"\n",
        "_private_data = \"internal use\"\n",
        "\n",
        "# ❌ BAD - starts with number (this will cause an error!)\n",
        "# 1st_sample = \"test\"  # SyntaxError!\n",
        "# 123data = \"results\"  # SyntaxError!\n",
        "\n",
        "print(\"Valid variable names created successfully!\")"
      ]
    },
    {
      "cell_type": "markdown",
      "metadata": {},
      "source": [
        "### Rule 2: Use only letters, numbers, and underscores"
      ]
    },
    {
      "cell_type": "code",
      "execution_count": null,
      "metadata": {},
      "outputs": [],
      "source": [
        "# ✅ GOOD - only letters, numbers, underscores\n",
        "experiment_2024 = \"CRISPR study\"\n",
        "sample_A1 = \"treatment group\"\n",
        "pcr_cycle_count = 35\n",
        "\n",
        "# ❌ BAD - special characters not allowed\n",
        "# sample-name = \"test\"     # SyntaxError: hyphen not allowed\n",
        "# data@2024 = \"results\"    # SyntaxError: @ not allowed\n",
        "# cell.count = 1000        # SyntaxError: period not allowed\n",
        "\n",
        "print(\"Following the rules!\")"
      ]
    },
    {
      "cell_type": "markdown",
      "metadata": {},
      "source": [
        "### Rule 3: Case matters!"
      ]
    },
    {
      "cell_type": "code",
      "execution_count": null,
      "metadata": {},
      "outputs": [],
      "source": [
        "# Python is case-sensitive - these are THREE different variables:\n",
        "Gene = \"BRCA1\"\n",
        "gene = \"p53\"\n",
        "GENE = \"EGFR\"\n",
        "\n",
        "print(f\"Gene = {Gene}\")\n",
        "print(f\"gene = {gene}\")\n",
        "print(f\"GENE = {GENE}\")\n",
        "\n",
        "# Be careful! This can cause confusion"
      ]
    },
    {
      "cell_type": "markdown",
      "metadata": {},
      "source": [
        "### Rule 4: Don't use Python keywords"
      ]
    },
    {
      "cell_type": "code",
      "execution_count": null,
      "metadata": {},
      "outputs": [],
      "source": [
        "# ❌ BAD - these are Python keywords\n",
        "# for = 5        # SyntaxError!\n",
        "# if = \"test\"    # SyntaxError!\n",
        "# class = \"Bio\"  # SyntaxError!\n",
        "\n",
        "# ✅ GOOD - add context to avoid keywords\n",
        "for_loop_count = 5\n",
        "if_condition = \"test positive\"\n",
        "class_name = \"Biology 301\"\n",
        "\n",
        "# See all Python keywords:\n",
        "import keyword\n",
        "print(\"Python keywords to avoid:\")\n",
        "print(keyword.kwlist[:10], \"...\")  # Just showing first 10"
      ]
    },
    {
      "cell_type": "markdown",
      "metadata": {},
      "source": [
        "## 🎨 Naming Conventions - Writing Professional Code\n",
        "\n",
        "Beyond the rules, Python programmers follow conventions to make code readable and professional."
      ]
    },
    {
      "cell_type": "markdown",
      "metadata": {},
      "source": [
        "### Snake Case - The Python Way\n",
        "\n",
        "Python uses **snake_case** for variable names: lowercase words separated by underscores."
      ]
    },
    {
      "cell_type": "code",
      "execution_count": null,
      "metadata": {},
      "outputs": [],
      "source": [
        "# ✅ GOOD - snake_case (Python style)\n",
        "cell_count = 50000\n",
        "protein_concentration = 2.5\n",
        "reaction_time_minutes = 45\n",
        "is_control_group = True\n",
        "\n",
        "# ❌ AVOID - other styles (work but not Pythonic)\n",
        "cellCount = 50000          # camelCase (used in JavaScript)\n",
        "ProteinConcentration = 2.5 # PascalCase (used for classes in Python)\n",
        "REACTIONTIME = 45          # ALLCAPS (used for constants in Python)\n",
        "\n",
        "print(\"Snake_case is the Python way!\")"
      ]
    },
    {
      "cell_type": "markdown",
      "metadata": {},
      "source": [
        "### Descriptive Names - Be Clear!"
      ]
    },
    {
      "cell_type": "code",
      "execution_count": null,
      "metadata": {},
      "outputs": [],
      "source": [
        "# ❌ BAD - too short, unclear\n",
        "x = 7.4\n",
        "n = 100\n",
        "d = \"ATCG\"\n",
        "\n",
        "# ✅ GOOD - descriptive and clear\n",
        "buffer_ph = 7.4\n",
        "sample_size = 100\n",
        "dna_sequence = \"ATCG\"\n",
        "\n",
        "# ✅ BETTER - even more specific when needed\n",
        "tris_buffer_ph = 7.4\n",
        "mouse_sample_size = 100\n",
        "promoter_dna_sequence = \"ATCG\"\n",
        "\n",
        "print(\"Clear names make code self-documenting!\")"
      ]
    },
    {
      "cell_type": "markdown",
      "metadata": {},
      "source": [
        "## 🔄 Variables Can Change\n",
        "\n",
        "Unlike math, where x = 5 means x is always 5, Python variables can be updated:"
      ]
    },
    {
      "cell_type": "code",
      "execution_count": null,
      "metadata": {},
      "outputs": [],
      "source": [
        "# Variables can be reassigned\n",
        "cell_count = 1000\n",
        "print(f\"Initial count: {cell_count}\")\n",
        "\n",
        "# After cell division\n",
        "cell_count = cell_count * 2\n",
        "print(f\"After division: {cell_count}\")\n",
        "\n",
        "# After some cells die\n",
        "cell_count = cell_count - 200\n",
        "print(f\"After cell death: {cell_count}\")\n",
        "\n",
        "# Can even change type (but be careful!)\n",
        "result = 42\n",
        "print(f\"Result is a number: {result}\")\n",
        "\n",
        "result = \"Experiment complete\"\n",
        "print(f\"Result is now text: {result}\")"
      ]
    },
    {
      "cell_type": "markdown",
      "metadata": {},
      "source": [
        "## 🧬 Biology Example: Tracking an Experiment\n",
        "\n",
        "Let's use variables and comments to track a real biology experiment:"
      ]
    },
    {
      "cell_type": "code",
      "execution_count": null,
      "metadata": {},
      "outputs": [],
      "source": [
        "# PCR Experiment Tracker\n",
        "# Author: Biology Student\n",
        "# Date: 2024\n",
        "# Purpose: Calculate PCR reagent volumes\n",
        "\n",
        "# Experimental setup\n",
        "experiment_name = \"Gene Expression Analysis\"\n",
        "target_gene = \"GAPDH\"  # Housekeeping gene\n",
        "date_started = \"2024-01-15\"\n",
        "\n",
        "# PCR reaction parameters\n",
        "sample_count = 12  # Number of samples\n",
        "replicates = 3     # Technical replicates per sample\n",
        "total_reactions = sample_count * replicates\n",
        "\n",
        "# Reagent volumes (in microliters)\n",
        "master_mix_per_reaction = 10.0\n",
        "primer_per_reaction = 1.0\n",
        "template_per_reaction = 2.0\n",
        "water_per_reaction = 7.0\n",
        "\n",
        "# Calculate total volumes needed (add 10% extra)\n",
        "safety_factor = 1.1  # 10% extra to account for pipetting error\n",
        "\n",
        "total_master_mix = total_reactions * master_mix_per_reaction * safety_factor\n",
        "total_primer = total_reactions * primer_per_reaction * safety_factor\n",
        "total_water = total_reactions * water_per_reaction * safety_factor\n",
        "\n",
        "# Display results\n",
        "print(f\"=== {experiment_name} ===\")\n",
        "print(f\"Target gene: {target_gene}\")\n",
        "print(f\"Date: {date_started}\")\n",
        "print(f\"\\nTotal reactions: {total_reactions}\")\n",
        "print(f\"\\nReagents needed:\")\n",
        "print(f\"  Master mix: {total_master_mix:.1f} µL\")\n",
        "print(f\"  Primers: {total_primer:.1f} µL\")\n",
        "print(f\"  Water: {total_water:.1f} µL\")"
      ]
    },
    {
      "cell_type": "markdown",
      "metadata": {},
      "source": [
        "## 💡 Best Practices Summary\n",
        "\n",
        "### Variable Names:\n",
        "1. **Use snake_case**: `sample_count`, not `sampleCount`\n",
        "2. **Be descriptive**: `mouse_weight_grams`, not `mw`\n",
        "3. **Avoid single letters**: except for counters like `i`\n",
        "4. **Include units**: `reaction_time_minutes`, `volume_ml`\n",
        "\n",
        "### Comments:\n",
        "1. **Explain why**, not what: The code shows what, comments explain why\n",
        "2. **Keep updated**: Outdated comments are worse than no comments\n",
        "3. **Be concise**: Don't write essays\n",
        "4. **Use TODOs**: Mark future improvements"
      ]
    },
    {
      "cell_type": "markdown",
      "metadata": {},
      "source": [
        "## 🎯 Practice Exercises\n",
        "\n",
        "Time to practice! Complete these exercises:"
      ]
    },
    {
      "cell_type": "markdown",
      "metadata": {},
      "source": [
        "### Exercise 1: Fix the Variable Names\n",
        "\n",
        "The code below has poor variable names. Rename them following Python conventions:"
      ]
    },
    {
      "cell_type": "code",
      "execution_count": null,
      "metadata": {},
      "outputs": [],
      "source": [
        "# Fix these variable names!\n",
        "# Original (bad) code:\n",
        "x = \"E. coli\"\n",
        "n = 1000000\n",
        "t = 37\n",
        "2hrs = 120  # This will cause an error!\n",
        "\n",
        "# TODO: Rewrite with better names\n",
        "# organism_name = \n",
        "# cell_count = \n",
        "# temperature_celsius = \n",
        "# growth_time_minutes ="
      ]
    },
    {
      "cell_type": "markdown",
      "metadata": {},
      "source": [
        "### Exercise 2: Add Comments"
      ]
    },
    {
      "cell_type": "code",
      "execution_count": null,
      "metadata": {},
      "outputs": [],
      "source": [
        "# Add helpful comments to explain this code\n",
        "\n",
        "od_initial = 0.1\n",
        "od_final = 0.8\n",
        "time_hours = 3\n",
        "\n",
        "growth_rate = (od_final - od_initial) / time_hours\n",
        "doubling_time = 0.693 / growth_rate\n",
        "\n",
        "print(f\"Doubling time: {doubling_time:.2f} hours\")"
      ]
    },
    {
      "cell_type": "markdown",
      "metadata": {},
      "source": [
        "### Exercise 3: Create Your Own Variables\n",
        "\n",
        "Create variables to store information about your favorite biological system:"
      ]
    },
    {
      "cell_type": "code",
      "execution_count": null,
      "metadata": {},
      "outputs": [],
      "source": [
        "# Create at least 5 variables about a biological system\n",
        "# Example: your favorite organism, cell type, protein, etc.\n",
        "# Follow all naming conventions!\n",
        "\n",
        "# Your code here:\n"
      ]
    },
    {
      "cell_type": "markdown",
      "metadata": {},
      "source": [
        "### Exercise 4: Debug the Code\n",
        "\n",
        "This code has several naming errors. Can you fix them?"
      ]
    },
    {
      "cell_type": "code",
      "execution_count": null,
      "metadata": {},
      "outputs": [],
      "source": [
        "# Fix the errors in this code\n",
        "# Hint: Look for rule violations!\n",
        "\n",
        "enzyme-name = \"DNA Polymerase\"\n",
        "1st_substrate = \"dNTPs\"\n",
        "reaction temperature = 72\n",
        "for = 30  # number of cycles\n",
        "final.product = \"PCR amplicon\"\n",
        "\n",
        "print(f\"Enzyme: {enzyme-name}\")\n",
        "print(f\"Temperature: {reaction temperature}°C\")\n",
        "print(f\"Product: {final.product}\")"
      ]
    },
    {
      "cell_type": "markdown",
      "metadata": {},
      "source": [
        "## 🎉 Congratulations!\n",
        "\n",
        "You now understand:\n",
        "- ✅ What variables are and how to create them\n",
        "- ✅ Python's variable naming rules\n",
        "- ✅ Professional naming conventions (snake_case)\n",
        "- ✅ How to write helpful comments\n",
        "- ✅ Common mistakes to avoid\n",
        "\n",
        "### 🚀 What's Next?\n",
        "\n",
        "In the next lesson, we'll learn about:\n",
        "- Different data types (integers, floats, strings, booleans)\n",
        "- Type conversion\n",
        "- Basic operations with variables\n",
        "- String manipulation for biological sequences\n",
        "\n",
        "### 💭 Remember\n",
        "\n",
        "Good variable names and comments are like a well-organized lab notebook:\n",
        "- They help others understand your work\n",
        "- They help future-you remember what you did\n",
        "- They make debugging much easier\n",
        "- They show you're a professional!\n",
        "\n",
        "**Happy coding!** 🧬💻"
      ]
    }
  ],
  "metadata": {
    "colab": {
      "collapsed_sections": [],
      "provenance": []
    },
    "kernelspec": {
      "display_name": ".venv",
      "language": "python",
      "name": "python3"
    },
    "language_info": {
      "codemirror_mode": {
        "name": "ipython",
        "version": 3
      },
      "file_extension": ".py",
      "mimetype": "text/x-python",
      "name": "python",
      "nbconvert_exporter": "python",
      "pygments_lexer": "ipython3",
      "version": "3.12.10"
    }
  },
  "nbformat": 4,
  "nbformat_minor": 0
}
