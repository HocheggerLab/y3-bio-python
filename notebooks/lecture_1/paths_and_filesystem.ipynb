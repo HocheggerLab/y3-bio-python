{
 "cells": [
  {
   "cell_type": "markdown",
   "metadata": {},
   "source": [
    "# File Paths and the File System: Finding Your Data\n",
    "\n",
    "Before Python can work with your lab data files, it needs to know **where to find them**. Just like you need to know which folder contains your experimental data, Python needs to understand file paths and the file system.\n",
    "\n",
    "This is essential for working with:\n",
    "- CSV files from lab instruments\n",
    "- Image files from microscopes  \n",
    "- Data exports from analysis software\n",
    "- Results files you want to save"
   ]
  },
  {
   "cell_type": "markdown",
   "metadata": {},
   "source": [
    "## What is a File Path?\n",
    "\n",
    "A **file path** is like a postal address for your files. It tells the computer exactly where to find a file on your hard drive.\n",
    "\n",
    "### Examples:\n",
    "- **Windows**: `C:\\Users\\YourName\\Documents\\Lab_Data\\experiment1.csv`\n",
    "- **Mac/Linux**: `/Users/YourName/Documents/Lab_Data/experiment1.csv`\n",
    "- **Google Colab**: `/content/experiment1.csv`"
   ]
  },
  {
   "cell_type": "markdown",
   "metadata": {},
   "source": [
    "## Understanding Your Current Location\n",
    "\n",
    "Python always has a \"current working directory\" - like the folder you're currently \"standing in\"."
   ]
  },
  {
   "cell_type": "code",
   "execution_count": 1,
   "metadata": {},
   "outputs": [
    {
     "name": "stdout",
     "output_type": "stream",
     "text": [
      "Current working directory: /Users/hh65/code/y3-bio-python/notebooks/lecture_1\n",
      "\n",
      "Files in current directory: ['datatypes.ipynb', 'for_loops.ipynb', 'looping_and_appending.ipynb', 'lists.ipynb', 'reading_and_writing_files.ipynb', 'functions.ipynb', 'collab_notebooks.ipynb', 'paths_and_filesystem.ipynb', 'calculate_volume.ipynb', 'lab_calculator_toolkit.ipynb', 'variables_and_comments.ipynb', 'f_strings.ipynb']\n"
     ]
    }
   ],
   "source": [
    "import os\n",
    "\n",
    "# Where am I right now?\n",
    "current_location = os.getcwd()\n",
    "print(f\"Current working directory: {current_location}\")\n",
    "\n",
    "# What files are here?\n",
    "files_here = os.listdir('.')\n",
    "print(f\"\\nFiles in current directory: {files_here}\")"
   ]
  },
  {
   "cell_type": "markdown",
   "metadata": {},
   "source": [
    "## Absolute vs Relative Paths\n",
    "\n",
    "### Absolute Paths\n",
    "- Start from the root of your computer\n",
    "- Always work, regardless of where you are\n",
    "- Long but unambiguous\n",
    "\n",
    "### Relative Paths  \n",
    "- Start from your current location\n",
    "- Shorter and more portable\n",
    "- Depend on where you are"
   ]
  },
  {
   "cell_type": "code",
   "execution_count": null,
   "metadata": {},
   "outputs": [
    {
     "name": "stdout",
     "output_type": "stream",
     "text": [
      "Relative path examples:\n",
      "  data.csv\n",
      "  data/experiment1.csv\n",
      "  ../results/analysis.csv\n",
      "  ../../backup/old_data.csv\n",
      "\n",
      "Absolute path example:\n",
      "  /Users/hh65/code/y3-bio-python/notebooks/lecture_1/data.csv\n"
     ]
    }
   ],
   "source": [
    "# Examples of different path types\n",
    "\n",
    "# Relative paths (from current directory)\n",
    "relative_examples = [\n",
    "    \"data.csv\",                    # File in current directory\n",
    "    \"data/experiment1.csv\",        # File in 'data' subdirectory\n",
    "    \"../results/analysis.csv\",     # File in parent directory's 'results' folder\n",
    "    \"../../backup/old_data.csv\"    # Two levels up, then into 'backup'\n",
    "]\n",
    "\n",
    "print(\"Relative path examples:\")\n",
    "for path in relative_examples:\n",
    "    print(f\"  {path}\")\n",
    "\n",
    "# Absolute path (this will be different on your computer!)\n",
    "print(\"\\nAbsolute path example:\")\n",
    "print(f\"  {os.path.abspath('data.csv')}\")"
   ]
  },
  {
   "cell_type": "markdown",
   "metadata": {},
   "source": [
    "## Special Path Symbols\n",
    "\n",
    "- `.` = Current directory\n",
    "- `..` = Parent directory (one level up)\n",
    "- `/` = Directory separator on Mac/Linux\n",
    "- `\\` = Directory separator on Windows (Python handles this automatically!)"
   ]
  },
  {
   "cell_type": "code",
   "execution_count": null,
   "metadata": {},
   "outputs": [],
   "source": [
    "# Demonstrating special symbols\n",
    "print(\"Current directory (.):\", os.listdir('.'))\n",
    "\n",
    "# Try to list parent directory (might not work in all environments)\n",
    "try:\n",
    "    print(\"\\nParent directory (..):\", os.listdir('..')[:5])  # Show first 5 items\n",
    "except:\n",
    "    print(\"\\nCannot access parent directory in this environment\")"
   ]
  },
  {
   "cell_type": "markdown",
   "metadata": {},
   "source": [
    "## Working with Paths in Python\n",
    "\n",
    "Python's `os.path` module helps you work with file paths safely:"
   ]
  },
  {
   "cell_type": "code",
   "execution_count": null,
   "metadata": {},
   "outputs": [],
   "source": [
    "# Building paths safely (works on Windows, Mac, and Linux)\n",
    "lab_folder = \"Lab_Data\"\n",
    "experiment_folder = \"Experiment_1\"\n",
    "filename = \"results.csv\"\n",
    "\n",
    "# Join path components\n",
    "full_path = os.path.join(lab_folder, experiment_folder, filename)\n",
    "print(f\"Constructed path: {full_path}\")\n",
    "\n",
    "# Check if a file exists\n",
    "print(f\"\\nDoes this file exist? {os.path.exists(full_path)}\")\n",
    "\n",
    "# Get information about a path\n",
    "sample_path = \"Lab_Data/Experiment_1/results.csv\"\n",
    "print(f\"\\nPath analysis for: {sample_path}\")\n",
    "print(f\"Directory: {os.path.dirname(sample_path)}\")\n",
    "print(f\"Filename: {os.path.basename(sample_path)}\")\n",
    "print(f\"File extension: {os.path.splitext(sample_path)[1]}\")"
   ]
  },
  {
   "cell_type": "markdown",
   "metadata": {},
   "source": [
    "## Exercise 1: Exploring Your File System\n",
    "\n",
    "Let's practice navigating and understanding file paths:"
   ]
  },
  {
   "cell_type": "code",
   "execution_count": null,
   "metadata": {},
   "outputs": [],
   "source": [
    "# YOUR TASK: Complete these exercises\n",
    "\n",
    "# 1. Print your current working directory\n",
    "# YOUR CODE HERE\n",
    "\n",
    "# 2. List all files in your current directory\n",
    "# YOUR CODE HERE\n",
    "\n",
    "# 3. Create a path to a hypothetical file called \"protein_data.csv\" \n",
    "#    in a folder called \"experiments\"\n",
    "# YOUR CODE HERE\n",
    "\n",
    "# 4. Check if the file \"sample_data.csv\" exists in the current directory\n",
    "# YOUR CODE HERE"
   ]
  },
  {
   "cell_type": "markdown",
   "metadata": {},
   "source": [
    "## Creating Sample Files for Practice\n",
    "\n",
    "Let's create some sample files to work with:"
   ]
  },
  {
   "cell_type": "code",
   "execution_count": null,
   "metadata": {},
   "outputs": [],
   "source": [
    "# Create a simple CSV file for practice\n",
    "sample_data = \"\"\"Sample_ID,Concentration,Activity\n",
    "Control,0,100\n",
    "Drug_A_1uM,1,85\n",
    "Drug_A_5uM,5,62\n",
    "Drug_A_10uM,10,43\n",
    "Drug_B_1uM,1,92\n",
    "Drug_B_5uM,5,78\n",
    "Drug_B_10uM,10,56\"\"\"\n",
    "\n",
    "# Write to a file\n",
    "filename = \"sample_experiment.csv\"\n",
    "with open(filename, 'w') as file:\n",
    "    file.write(sample_data)\n",
    "\n",
    "print(f\"Created file: {filename}\")\n",
    "print(f\"File exists: {os.path.exists(filename)}\")\n",
    "print(f\"File size: {os.path.getsize(filename)} bytes\")"
   ]
  },
  {
   "cell_type": "markdown",
   "metadata": {},
   "source": [
    "## Working with Directories\n",
    "\n",
    "Sometimes you need to create folders or organize your files:"
   ]
  },
  {
   "cell_type": "code",
   "execution_count": null,
   "metadata": {},
   "outputs": [],
   "source": [
    "# Create a directory structure\n",
    "data_dir = \"Lab_Results\"\n",
    "experiment_dir = os.path.join(data_dir, \"Week_1\")\n",
    "\n",
    "# Create directories if they don't exist\n",
    "if not os.path.exists(data_dir):\n",
    "    os.mkdir(data_dir)\n",
    "    print(f\"Created directory: {data_dir}\")\n",
    "\n",
    "if not os.path.exists(experiment_dir):\n",
    "    os.makedirs(experiment_dir)  # Creates parent directories too\n",
    "    print(f\"Created directory: {experiment_dir}\")\n",
    "\n",
    "# List what we've created\n",
    "print(f\"\\nContents of {data_dir}:\")\n",
    "if os.path.exists(data_dir):\n",
    "    print(os.listdir(data_dir))"
   ]
  },
  {
   "cell_type": "markdown",
   "metadata": {},
   "source": [
    "## Exercise 2: File Organization\n",
    "\n",
    "Practice organizing files like you would in a real lab:"
   ]
  },
  {
   "cell_type": "code",
   "execution_count": null,
   "metadata": {},
   "outputs": [],
   "source": [
    "# YOUR TASK: Create a lab file organization system\n",
    "\n",
    "# 1. Create a main directory called \"My_Lab_Data\"\n",
    "# YOUR CODE HERE\n",
    "\n",
    "# 2. Inside that, create subdirectories for different experiments:\n",
    "#    - \"Cell_Culture\"\n",
    "#    - \"PCR_Results\n",
    "#    - \"Microscopy\"\n",
    "# YOUR CODE HERE\n",
    "\n",
    "# 3. Create a file path for a hypothetical file called \"pcr_gel_1.jpg\" \n",
    "#    that would go in the PCR_Results folder\n",
    "# YOUR CODE HERE\n",
    "\n",
    "# 4. Check if your directory structure was created successfully\n",
    "# YOUR CODE HERE"
   ]
  },
  {
   "cell_type": "markdown",
   "metadata": {},
   "source": [
    "## Real-World Example: Lab Data Organization\n",
    "\n",
    "Here's how you might organize files from a real experiment:"
   ]
  },
  {
   "cell_type": "code",
   "execution_count": null,
   "metadata": {},
   "outputs": [],
   "source": [
    "import datetime\n",
    "\n",
    "# Function to create organized file paths\n",
    "def create_lab_file_path(experiment_type, date, filename):\n",
    "    \"\"\"Create an organized file path for lab data.\"\"\"\n",
    "    year = date.year\n",
    "    month = f\"{date.month:02d}_{date.strftime('%B')}\"\n",
    "    \n",
    "    path = os.path.join(\n",
    "        \"Lab_Data\",\n",
    "        str(year),\n",
    "        month,\n",
    "        experiment_type,\n",
    "        filename\n",
    "    )\n",
    "    return path\n",
    "\n",
    "# Examples of organized file paths\n",
    "today = datetime.date.today()\n",
    "\n",
    "file_examples = [\n",
    "    (\"PCR\", \"gel_electrophoresis_1.jpg\"),\n",
    "    (\"Cell_Culture\", \"growth_curves.csv\"),\n",
    "    (\"Microscopy\", \"fluorescence_images.tiff\"),\n",
    "    (\"Protein_Assay\", \"bradford_results.xlsx\")\n",
    "]\n",
    "\n",
    "print(\"Organized lab file paths:\")\n",
    "print(\"=\" * 50)\n",
    "\n",
    "for exp_type, filename in file_examples:\n",
    "    path = create_lab_file_path(exp_type, today, filename)\n",
    "    print(f\"{exp_type:15}: {path}\")"
   ]
  },
  {
   "cell_type": "markdown",
   "metadata": {},
   "source": [
    "## Finding Files with Patterns\n",
    "\n",
    "Sometimes you need to find all files matching a pattern:"
   ]
  },
  {
   "cell_type": "code",
   "execution_count": null,
   "metadata": {},
   "outputs": [],
   "source": [
    "import glob\n",
    "\n",
    "# Create some sample files\n",
    "sample_files = [\n",
    "    \"experiment_1.csv\",\n",
    "    \"experiment_2.csv\", \n",
    "    \"experiment_3.csv\",\n",
    "    \"notes.txt\",\n",
    "    \"image_1.jpg\",\n",
    "    \"image_2.jpg\",\n",
    "    \"protocol.pdf\"\n",
    "]\n",
    "\n",
    "# Create the files (empty ones for demonstration)\n",
    "for filename in sample_files:\n",
    "    with open(filename, 'w') as f:\n",
    "        f.write(f\"Sample content for {filename}\")\n",
    "\n",
    "print(\"Created sample files:\")\n",
    "print(sample_files)\n",
    "\n",
    "# Find files with patterns\n",
    "print(\"\\nFinding files with patterns:\")\n",
    "print(f\"All CSV files: {glob.glob('*.csv')}\")\n",
    "print(f\"All image files: {glob.glob('*.jpg')}\")\n",
    "print(f\"All experiment files: {glob.glob('experiment_*.csv')}\")\n",
    "print(f\"All files: {glob.glob('*')}\")"
   ]
  },
  {
   "cell_type": "markdown",
   "metadata": {},
   "source": [
    "## Exercise 3: File Pattern Matching\n",
    "\n",
    "Practice finding files with specific patterns:"
   ]
  },
  {
   "cell_type": "code",
   "execution_count": null,
   "metadata": {},
   "outputs": [],
   "source": [
    "# Create more sample files for practice\n",
    "practice_files = [\n",
    "    \"data_2024_01_15.csv\",\n",
    "    \"data_2024_01_16.csv\",\n",
    "    \"data_2024_02_01.csv\",\n",
    "    \"results_final.xlsx\",\n",
    "    \"results_draft.xlsx\",\n",
    "    \"image_control.png\",\n",
    "    \"image_treatment.png\",\n",
    "    \"protocol_v1.pdf\",\n",
    "    \"protocol_v2.pdf\"\n",
    "]\n",
    "\n",
    "for filename in practice_files:\n",
    "    with open(filename, 'w') as f:\n",
    "        f.write(\"sample\")\n",
    "\n",
    "# YOUR TASKS:\n",
    "# 1. Find all files that start with \"data_\"\n",
    "# YOUR CODE HERE\n",
    "\n",
    "# 2. Find all Excel files (.xlsx)\n",
    "# YOUR CODE HERE\n",
    "\n",
    "# 3. Find all files from January 2024 (hint: they contain \"2024_01\")\n",
    "# YOUR CODE HERE\n",
    "\n",
    "# 4. Find all image files (.png)\n",
    "# YOUR CODE HERE"
   ]
  },
  {
   "cell_type": "markdown",
   "metadata": {},
   "source": [
    "## Best Practices for Lab File Management\n",
    "\n",
    "### Good File Organization:\n",
    "1. **Use descriptive names**: `pcr_optimization_2024_01_15.csv` not `data1.csv`\n",
    "2. **Include dates**: `YYYY_MM_DD` format sorts chronologically\n",
    "3. **Use consistent naming**: `experiment_01.csv`, `experiment_02.csv`\n",
    "4. **Organize by project/date**: `Project_A/2024/January/data.csv`\n",
    "5. **Avoid spaces and special characters**: Use `_` or `-` instead\n",
    "\n",
    "### Path Safety:\n",
    "- Always use `os.path.join()` to build paths\n",
    "- Check if files exist before trying to open them\n",
    "- Use relative paths when possible for portability"
   ]
  },
  {
   "cell_type": "code",
   "execution_count": null,
   "metadata": {},
   "outputs": [],
   "source": [
    "# Example of safe file handling\n",
    "def safe_file_access(filename):\n",
    "    \"\"\"Safely check and access a file.\"\"\"\n",
    "    if os.path.exists(filename):\n",
    "        file_size = os.path.getsize(filename)\n",
    "        print(f\"✓ File '{filename}' exists ({file_size} bytes)\")\n",
    "        return True\n",
    "    else:\n",
    "        print(f\"✗ File '{filename}' not found\")\n",
    "        return False\n",
    "\n",
    "# Test with our sample files\n",
    "test_files = [\"sample_experiment.csv\", \"nonexistent_file.csv\"]\n",
    "\n",
    "for filename in test_files:\n",
    "    safe_file_access(filename)"
   ]
  },
  {
   "cell_type": "markdown",
   "metadata": {},
   "source": [
    "## Exercise 4: Complete File Management System\n",
    "\n",
    "Create a complete file management system for a lab:"
   ]
  },
  {
   "cell_type": "code",
   "execution_count": null,
   "metadata": {},
   "outputs": [],
   "source": [
    "def create_lab_structure(project_name):\n",
    "    \"\"\"Create a complete lab directory structure.\"\"\"\n",
    "    # YOUR TASK: Complete this function\n",
    "    # 1. Create main project directory\n",
    "    # 2. Create subdirectories: Raw_Data, Analysis, Results, Protocols\n",
    "    # 3. Return a dictionary with all the paths\n",
    "    \n",
    "    base_dir = project_name\n",
    "    subdirs = [\"Raw_Data\", \"Analysis\", \"Results\", \"Protocols\"]\n",
    "    \n",
    "    paths = {}\n",
    "    \n",
    "    # YOUR CODE HERE\n",
    "    \n",
    "    return paths\n",
    "\n",
    "# Test your function\n",
    "project_paths = create_lab_structure(\"Drug_Screening_Project\")\n",
    "print(\"Created lab structure:\")\n",
    "for folder, path in project_paths.items():\n",
    "    print(f\"{folder}: {path}\")"
   ]
  },
  {
   "cell_type": "markdown",
   "metadata": {},
   "source": [
    "## Cleanup: Removing Practice Files\n",
    "\n",
    "Let's clean up the files we created for practice:"
   ]
  },
  {
   "cell_type": "code",
   "execution_count": null,
   "metadata": {},
   "outputs": [],
   "source": [
    "import shutil\n",
    "\n",
    "# List of files and directories to clean up\n",
    "cleanup_items = [\n",
    "    # Files\n",
    "    \"sample_experiment.csv\",\n",
    "    \"experiment_1.csv\", \"experiment_2.csv\", \"experiment_3.csv\",\n",
    "    \"notes.txt\", \"image_1.jpg\", \"image_2.jpg\", \"protocol.pdf\"\n",
    "]\n",
    "\n",
    "# Add practice files\n",
    "cleanup_items.extend(practice_files)\n",
    "\n",
    "# Clean up files\n",
    "cleaned = 0\n",
    "for item in cleanup_items:\n",
    "    if os.path.exists(item):\n",
    "        os.remove(item)\n",
    "        cleaned += 1\n",
    "\n",
    "# Clean up directories (be careful with this!)\n",
    "cleanup_dirs = [\"Lab_Results\", \"Lab_Data\", \"My_Lab_Data\", \"Drug_Screening_Project\"]\n",
    "for directory in cleanup_dirs:\n",
    "    if os.path.exists(directory):\n",
    "        shutil.rmtree(directory)\n",
    "        cleaned += 1\n",
    "\n",
    "print(f\"Cleaned up {cleaned} items\")\n",
    "print(\"Workspace is clean!\")"
   ]
  },
  {
   "cell_type": "markdown",
   "metadata": {},
   "source": [
    "## Summary: Key Concepts\n",
    "\n",
    "### File Paths\n",
    "- **Absolute paths**: Full address from root directory\n",
    "- **Relative paths**: Address from current location\n",
    "- **Special symbols**: `.` (current), `..` (parent), `/` (separator)\n",
    "\n",
    "### Essential Functions\n",
    "- **`os.getcwd()`**: Get current directory\n",
    "- **`os.listdir(path)`**: List files in directory\n",
    "- **`os.path.join()`**: Build paths safely\n",
    "- **`os.path.exists()`**: Check if file/directory exists\n",
    "- **`glob.glob(pattern)`**: Find files matching pattern\n",
    "\n",
    "### Best Practices\n",
    "- Use descriptive filenames with dates\n",
    "- Organize files in logical directory structures\n",
    "- Always check if files exist before accessing\n",
    "- Use `os.path.join()` for cross-platform compatibility\n",
    "\n",
    "## Next Up: Looping and Appending Data\n",
    "\n",
    "Now that you understand how to find and organize files, you'll learn how to:\n",
    "- Process multiple files automatically\n",
    "- Build up data collections piece by piece\n",
    "- Prepare data for reading and writing\n",
    "\n",
    "Understanding file paths is the foundation - everything else builds on this!"
   ]
  }
 ],
 "metadata": {
  "kernelspec": {
   "display_name": ".venv",
   "language": "python",
   "name": "python3"
  },
  "language_info": {
   "codemirror_mode": {
    "name": "ipython",
    "version": 3
   },
   "file_extension": ".py",
   "mimetype": "text/x-python",
   "name": "python",
   "nbconvert_exporter": "python",
   "pygments_lexer": "ipython3",
   "version": "3.13.3"
  }
 },
 "nbformat": 4,
 "nbformat_minor": 4
}
