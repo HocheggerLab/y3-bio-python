{
 "cells": [
  {
   "cell_type": "markdown",
   "metadata": {},
   "source": [
    "# Functions: Creating Reusable Code\n",
    "\n",
    "## Why Functions?\n",
    "\n",
    "In biology, we often need to repeat the same calculation with different inputs:\n",
    "- Calculate concentrations for multiple reagents\n",
    "- Process multiple DNA sequences\n",
    "- Analyze data from multiple experiments\n",
    "\n",
    "Functions let us write the code once and reuse it many times!\n",
    "Functions basically take values, do something with them, and return or display the new data.\n",
    "Packaging code in this way is a key concept in computer programming.\n",
    "In theory you could write down every program in a purely procedural manner, like a recipe of individual steps,\n",
    "but wrapping individual operations in functions makes your code more usable and maintainable."
   ]
  },
  {
   "cell_type": "markdown",
   "metadata": {},
   "source": [
    "## Our Example: Stock Solution Calculator\n",
    "\n",
    "Remember our calculation from Step 1:"
   ]
  },
  {
   "cell_type": "code",
   "execution_count": null,
   "metadata": {},
   "outputs": [],
   "source": [
    "# Step 1 code - works but not reusable\n",
    "molecular_weight = 475.6  # g/mol for MG132\n",
    "mass_mg = 89.5           # mg weighed\n",
    "concentration_mM = 10    # desired concentration in mM\n",
    "\n",
    "# Calculate volume\n",
    "volume_mL = 1000 * mass_mg / (molecular_weight * concentration_mM)\n",
    "print(f\"Add {volume_mL:.2f} mL of DMSO\")"
   ]
  },
  {
   "cell_type": "markdown",
   "metadata": {},
   "source": [
    "## The Basic Structure of Python Functions\n",
    "\n",
    "### Function Anatomy\n",
    "\n",
    "```python\n",
    "def function_name(parameter1, parameter2):  # Function definition\n",
    "    \"\"\"This is a docstring (optional but recommended).\n",
    "    It describes what the function does.\n",
    "    \"\"\"\n",
    "    # Function body - the code that does the work\n",
    "    result = parameter1 + parameter2\n",
    "    return result  # Send the result back\n",
    "```\n",
    "\n",
    "### Key Components:\n",
    "\n",
    "1. **`def` keyword**: Tells Python you're defining a function\n",
    "2. **Function name**: Should be descriptive (use lowercase with underscores)\n",
    "3. **Parameters**: Input values the function needs (can be zero or more)\n",
    "4. **Colon `:` **: Required after the parameter list\n",
    "5. **Docstring** (optional): Describes what the function does\n",
    "6. **Function body**: The actual code (must be indented!)\n",
    "7. **`return` statement**: Sends a value back (optional)\n",
    "\n",
    "### Functions WITH Return Values\n",
    "\n",
    "Most functions calculate something and return the result:\n",
    "\n",
    "```python\n",
    "def calculate_molarity(moles, volume_L):\n",
    "    \"\"\"Calculate molarity from moles and volume.\"\"\"\n",
    "    molarity = moles / volume_L\n",
    "    return molarity  # This value goes back to whoever called the function\n",
    "\n",
    "# Using the function:\n",
    "conc = calculate_molarity(0.5, 2.0)  # conc gets the value 0.25\n",
    "```\n",
    "\n",
    "### Functions WITHOUT Return Values\n",
    "\n",
    "Some functions just DO something (like printing) without returning a value:\n",
    "\n",
    "```python\n",
    "def print_results(sample_name, concentration):\n",
    "    \"\"\"Print formatted results.\"\"\"\n",
    "    print(f\"Sample: {sample_name}\")\n",
    "    print(f\"Concentration: {concentration:.2f} mM\")\n",
    "    # No return statement - this function just prints\n",
    "\n",
    "# Using the function:\n",
    "print_results(\"MG132\", 10.5)  # Prints but doesn't return anything\n",
    "```\n",
    "\n",
    "### Default Parameters\n",
    "\n",
    "You can give parameters default values:\n",
    "\n",
    "```python\n",
    "def dilute_sample(volume, dilution_factor=10):\n",
    "    \"\"\"Dilute a sample (default 1:10 dilution).\"\"\"\n",
    "    return volume * dilution_factor\n",
    "\n",
    "# Can be called with or without the second parameter:\n",
    "vol1 = dilute_sample(100)       # Uses default: returns 1000\n",
    "vol2 = dilute_sample(100, 5)    # Override default: returns 500\n",
    "```\n",
    "\n",
    "### Multiple Return Values\n",
    "\n",
    "Functions can return multiple values as a tuple:\n",
    "\n",
    "```python\n",
    "def analyze_dna(A260, A280):\n",
    "    \"\"\"Calculate DNA concentration and purity.\"\"\"\n",
    "    concentration = A260 * 50  # μg/mL\n",
    "    purity = A260 / A280\n",
    "    return concentration, purity  # Returns both values\n",
    "\n",
    "# Using the function:\n",
    "conc, ratio = analyze_dna(0.523, 0.265)\n",
    "```\n",
    "\n",
    "Remember: Functions are like recipes - they take ingredients (parameters), follow instructions (function body), and produce a result (return value)!"
   ]
  },
  {
   "cell_type": "markdown",
   "metadata": {},
   "source": [
    "## Creating Your First Function\n",
    "\n",
    "Let's package this calculation into a reusable function:"
   ]
  },
  {
   "cell_type": "code",
   "execution_count": 1,
   "metadata": {},
   "outputs": [],
   "source": [
    "def calculate_volume(molecular_weight, mass_mg, concentration_mM):\n",
    "    \"\"\"Calculate solvent volume needed for stock solution.\n",
    "    \n",
    "    Args:\n",
    "        molecular_weight: MW in g/mol\n",
    "        mass_mg: mass of compound in mg\n",
    "        concentration_mM: desired concentration in mM\n",
    "    \n",
    "    Returns:\n",
    "        Volume needed in mL\n",
    "    \"\"\"\n",
    "    volume_mL = 1000 * mass_mg / (molecular_weight * concentration_mM)\n",
    "    return volume_mL"
   ]
  },
  {
   "cell_type": "markdown",
   "metadata": {},
   "source": [
    "## Using the Function\n",
    "\n",
    "Now we can use our function for any reagent:"
   ]
  },
  {
   "cell_type": "code",
   "execution_count": 2,
   "metadata": {},
   "outputs": [
    {
     "name": "stdout",
     "output_type": "stream",
     "text": [
      "MG132: Add 18.82 mL of DMSO\n",
      "Rapamycin: Add 13.71 mL of DMSO\n",
      "Cycloheximide: Add 16.28 mL of DMSO\n"
     ]
    }
   ],
   "source": [
    "# Calculate for MG132\n",
    "volume = calculate_volume(475.6, 89.5, 10)\n",
    "print(f\"MG132: Add {volume:.2f} mL of DMSO\")\n",
    "\n",
    "# Calculate for Rapamycin\n",
    "volume = calculate_volume(914.2, 125.3, 10)\n",
    "print(f\"Rapamycin: Add {volume:.2f} mL of DMSO\")\n",
    "\n",
    "# Calculate for Cycloheximide\n",
    "volume = calculate_volume(281.4, 45.8, 10)\n",
    "print(f\"Cycloheximide: Add {volume:.2f} mL of DMSO\")"
   ]
  },
  {
   "cell_type": "markdown",
   "metadata": {},
   "source": [
    "## Functions with Different Concentrations\n",
    "\n",
    "The real power: easily calculate for different concentrations!"
   ]
  },
  {
   "cell_type": "code",
   "execution_count": null,
   "metadata": {},
   "outputs": [],
   "source": [
    "# Same reagent, different concentrations\n",
    "print(\"MG132 at different concentrations:\")\n",
    "print(f\"  5 mM: Add {calculate_volume(475.6, 89.5, 5):.2f} mL\")\n",
    "print(f\" 10 mM: Add {calculate_volume(475.6, 89.5, 10):.2f} mL\")\n",
    "print(f\" 20 mM: Add {calculate_volume(475.6, 89.5, 20):.2f} mL\")\n",
    "print(f\" 50 mM: Add {calculate_volume(475.6, 89.5, 50):.2f} mL\")"
   ]
  },
  {
   "cell_type": "markdown",
   "metadata": {},
   "source": [
    "## Exercise 1: Create a Dilution Function\n",
    "\n",
    "Create a function that calculates dilutions using C1V1 = C2V2"
   ]
  },
  {
   "cell_type": "code",
   "execution_count": null,
   "metadata": {},
   "outputs": [],
   "source": [
    "# Your turn! Create a dilution function\n",
    "def calculate_dilution(stock_conc, final_conc, final_volume):\n",
    "    \"\"\"Calculate volume of stock solution needed for dilution.\n",
    "    \n",
    "    Formula: C1V1 = C2V2\n",
    "    \n",
    "    Args:\n",
    "        stock_conc: concentration of stock solution\n",
    "        final_conc: desired final concentration\n",
    "        final_volume: desired final volume\n",
    "    \n",
    "    Returns:\n",
    "        Volume of stock solution needed\n",
    "    \"\"\"\n",
    "    # YOUR CODE HERE\n",
    "    pass\n",
    "\n",
    "# Test your function\n",
    "# Example: Dilute 10 mM stock to 1 mM in 50 mL\n",
    "# stock_volume = calculate_dilution(10, 1, 50)\n",
    "# print(f\"Add {stock_volume:.2f} mL of stock solution\")"
   ]
  },
  {
   "cell_type": "markdown",
   "metadata": {},
   "source": [
    "## Exercise 2: DNA Concentration Function\n",
    "\n",
    "Create a function to calculate DNA concentration from absorbance"
   ]
  },
  {
   "cell_type": "code",
   "execution_count": null,
   "metadata": {},
   "outputs": [],
   "source": [
    "# Create a function for DNA concentration\n",
    "def dna_concentration(A260, dilution_factor=1):\n",
    "    \"\"\"Calculate DNA concentration from A260 reading.\n",
    "    \n",
    "    Formula: [DNA] = A260 × 50 μg/mL × dilution factor\n",
    "    \n",
    "    Args:\n",
    "        A260: Absorbance at 260 nm\n",
    "        dilution_factor: Dilution factor (default 1)\n",
    "    \n",
    "    Returns:\n",
    "        DNA concentration in μg/mL\n",
    "    \"\"\"\n",
    "    # YOUR CODE HERE\n",
    "    pass\n",
    "\n",
    "# Test with some readings\n",
    "# conc = dna_concentration(0.523)\n",
    "# print(f\"DNA concentration: {conc:.1f} μg/mL\")"
   ]
  },
  {
   "cell_type": "markdown",
   "metadata": {},
   "source": [
    "## Functions Calling Functions\n",
    "\n",
    "Functions can use other functions!"
   ]
  },
  {
   "cell_type": "code",
   "execution_count": null,
   "metadata": {},
   "outputs": [],
   "source": [
    "def prepare_working_solution(molecular_weight, mass_mg, stock_conc_mM, working_conc_uM, working_volume_mL):\n",
    "    \"\"\"Calculate how to prepare a working solution from powder.\n",
    "    \n",
    "    1. First calculate stock solution volume\n",
    "    2. Then calculate dilution to working concentration\n",
    "    \"\"\"\n",
    "    # Step 1: Calculate stock solution volume\n",
    "    stock_volume = calculate_volume(molecular_weight, mass_mg, stock_conc_mM)\n",
    "    \n",
    "    # Step 2: Calculate dilution (convert mM to μM)\n",
    "    stock_conc_uM = stock_conc_mM * 1000\n",
    "    stock_needed = (working_conc_uM * working_volume_mL) / stock_conc_uM\n",
    "    \n",
    "    print(f\"Preparation instructions:\")\n",
    "    print(f\"1. Add {stock_volume:.2f} mL DMSO to make {stock_conc_mM} mM stock\")\n",
    "    print(f\"2. Take {stock_needed:.1f} μL of stock\")\n",
    "    print(f\"3. Add {working_volume_mL - stock_needed/1000:.1f} mL media\")\n",
    "    print(f\"4. Final: {working_conc_uM} μM in {working_volume_mL} mL\")\n",
    "\n",
    "# Example: Prepare 10 μM MG132 in 50 mL media\n",
    "prepare_working_solution(475.6, 89.5, 10, 10, 50)"
   ]
  },
  {
   "cell_type": "markdown",
   "metadata": {},
   "source": [
    "## Key Concepts Summary\n",
    "\n",
    "1. **`def`** - Define a function\n",
    "2. **Parameters** - Input values (in parentheses)\n",
    "3. **`return`** - Send back the result\n",
    "4. **Docstring** - Document what the function does\n",
    "5. **Reusability** - Use the same function many times\n",
    "\n",
    "### Function Anatomy:\n",
    "```python\n",
    "def function_name(parameter1, parameter2):  # Define with parameters\n",
    "    \"\"\"What this function does\"\"\"         # Docstring\n",
    "    result = parameter1 + parameter2       # Do calculation\n",
    "    return result                          # Return the result\n",
    "```"
   ]
  },
  {
   "cell_type": "markdown",
   "metadata": {},
   "source": [
    "## Practice Problem\n",
    "\n",
    "Create a function for PCR master mix calculations:"
   ]
  },
  {
   "cell_type": "code",
   "execution_count": null,
   "metadata": {},
   "outputs": [],
   "source": [
    "# Challenge: Create a PCR master mix calculator\n",
    "def pcr_master_mix(num_reactions, reaction_volume=20, extra_percent=10):\n",
    "    \"\"\"Calculate PCR master mix volumes.\n",
    "    \n",
    "    Args:\n",
    "        num_reactions: Number of PCR reactions\n",
    "        reaction_volume: Volume per reaction in μL (default 20)\n",
    "        extra_percent: Extra volume percentage (default 10%)\n",
    "    \n",
    "    Returns:\n",
    "        Dictionary with component volumes\n",
    "    \"\"\"\n",
    "    # YOUR CODE HERE\n",
    "    # Hint: PCR mix typically contains:\n",
    "    # - 10 μL 2X Master Mix per reaction\n",
    "    # - 1 μL Forward primer per reaction  \n",
    "    # - 1 μL Reverse primer per reaction\n",
    "    # - 2 μL Template per reaction\n",
    "    # - 6 μL Water per reaction\n",
    "    pass"
   ]
  },
  {
   "cell_type": "markdown",
   "metadata": {},
   "source": [
    "## Next Steps\n",
    "\n",
    "Now that you can create functions, you're ready to:\n",
    "1. Process multiple items with loops (Step 3)\n",
    "2. Read data from files (Step 4)\n",
    "3. Build complete analysis pipelines!\n",
    "\n",
    "Functions are the building blocks of all programs. Master them, and you can build anything!"
   ]
  }
 ],
 "metadata": {
  "kernelspec": {
   "display_name": ".venv",
   "language": "python",
   "name": "python3"
  },
  "language_info": {
   "codemirror_mode": {
    "name": "ipython",
    "version": 3
   },
   "file_extension": ".py",
   "mimetype": "text/x-python",
   "name": "python",
   "nbconvert_exporter": "python",
   "pygments_lexer": "ipython3",
   "version": "3.12.10"
  }
 },
 "nbformat": 4,
 "nbformat_minor": 4
}
