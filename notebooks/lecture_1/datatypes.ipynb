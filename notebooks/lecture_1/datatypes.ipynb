{
  "cells": [
    {
      "cell_type": "markdown",
      "metadata": {},
      "source": [
        "# 🔢 Python Data Types for Biology\n",
        "\n",
        "## Understanding Different Types of Data\n",
        "\n",
        "In biology, we work with many types of data:\n",
        "- **Numbers**: cell counts, concentrations, temperatures\n",
        "- **Text**: gene names, species, sequences\n",
        "- **Decimals**: pH values, weights, measurements\n",
        "- **True/False**: is it mutated? is the control positive?\n",
        "\n",
        "Python has specific **data types** for each kind of information. Let's explore them!"
      ]
    },
    {
      "cell_type": "markdown",
      "metadata": {},
      "source": [
        "## 🎯 Why Data Types Matter\n",
        "\n",
        "Using the correct data type is like using the right container in the lab:\n",
        "- You wouldn't store liquid nitrogen in a plastic cup! ❄️\n",
        "- You wouldn't use a volumetric flask to weigh solids! ⚖️\n",
        "\n",
        "Similarly, Python needs the right data type for each kind of information to work properly."
      ]
    },
    {
      "cell_type": "markdown",
      "metadata": {},
      "source": [
        "## 1️⃣ Integers (int) - Whole Numbers\n",
        "\n",
        "Integers are whole numbers without decimal points. Perfect for counting!"
      ]
    },
    {
      "cell_type": "code",
      "execution_count": null,
      "metadata": {},
      "outputs": [],
      "source": [
        "# Integers - whole numbers only\n",
        "cell_count = 50000\n",
        "sample_size = 24\n",
        "pcr_cycles = 35\n",
        "chromosome_number = 46  # Human chromosomes\n",
        "\n",
        "# Check the type\n",
        "print(f\"cell_count = {cell_count}\")\n",
        "print(f\"Type: {type(cell_count)}\")\n",
        "print()\n",
        "\n",
        "# Integers can be negative\n",
        "temperature_celsius = -80  # Freezer temperature\n",
        "print(f\"Freezer temp: {temperature_celsius}°C\")"
      ]
    },
    {
      "cell_type": "markdown",
      "metadata": {},
      "source": [
        "### Integer Operations"
      ]
    },
    {
      "cell_type": "code",
      "execution_count": null,
      "metadata": {},
      "outputs": [],
      "source": [
        "# Basic math with integers\n",
        "initial_cells = 1000\n",
        "doubling_cycles = 3\n",
        "\n",
        "# Calculate final cell count after doublings\n",
        "final_cells = initial_cells * (2 ** doubling_cycles)\n",
        "print(f\"After {doubling_cycles} doublings: {final_cells} cells\")\n",
        "\n",
        "# Division might not give an integer!\n",
        "cells_per_well = final_cells / 8\n",
        "print(f\"Cells per well: {cells_per_well}\")\n",
        "print(f\"Type after division: {type(cells_per_well)}\")  # Float!"
      ]
    },
    {
      "cell_type": "markdown",
      "metadata": {},
      "source": [
        "## 2️⃣ Floats - Decimal Numbers\n",
        "\n",
        "Floats store numbers with decimal points. Essential for measurements!"
      ]
    },
    {
      "cell_type": "code",
      "execution_count": null,
      "metadata": {},
      "outputs": [],
      "source": [
        "# Floats - numbers with decimals\n",
        "ph_value = 7.4\n",
        "protein_concentration = 2.5  # mg/mL\n",
        "od600 = 0.485  # Optical density\n",
        "molecular_weight = 342.3  # Daltons\n",
        "\n",
        "print(f\"pH = {ph_value}\")\n",
        "print(f\"Type: {type(ph_value)}\")\n",
        "print()\n",
        "\n",
        "# Scientific notation\n",
        "avogadro = 6.022e23  # 6.022 × 10²³\n",
        "nano_to_milli = 1e-6  # 0.000001\n",
        "print(f\"Avogadro's number: {avogadro}\")\n",
        "print(f\"Nano to milli conversion: {nano_to_milli}\")"
      ]
    },
    {
      "cell_type": "markdown",
      "metadata": {},
      "source": [
        "### Float Precision"
      ]
    },
    {
      "cell_type": "code",
      "execution_count": null,
      "metadata": {},
      "outputs": [],
      "source": [
        "# Floats can have rounding issues\n",
        "volume1 = 0.1\n",
        "volume2 = 0.2\n",
        "total = volume1 + volume2\n",
        "\n",
        "print(f\"0.1 + 0.2 = {total}\")\n",
        "print(f\"Is it exactly 0.3? {total == 0.3}\")\n",
        "print(f\"Actual value: {total:.20f}\")  # Show 20 decimal places\n",
        "\n",
        "# For lab work, round appropriately\n",
        "rounded_total = round(total, 2)\n",
        "print(f\"Rounded for pipetting: {rounded_total} mL\")"
      ]
    },
    {
      "cell_type": "markdown",
      "metadata": {},
      "source": [
        "## 3️⃣ Strings (str) - Text Data\n",
        "\n",
        "Strings store text - gene names, sequences, labels, and more!"
      ]
    },
    {
      "cell_type": "code",
      "execution_count": null,
      "metadata": {},
      "outputs": [],
      "source": [
        "# Strings - text data\n",
        "gene_name = \"BRCA1\"\n",
        "species = \"Homo sapiens\"\n",
        "dna_sequence = \"ATCGATCGTAGC\"\n",
        "protein_sequence = \"MLKTVFD\"\n",
        "\n",
        "print(f\"Gene: {gene_name}\")\n",
        "print(f\"Type: {type(gene_name)}\")\n",
        "print()\n",
        "\n",
        "# Strings can use single or double quotes\n",
        "enzyme1 = \"DNA Polymerase\"  # Double quotes\n",
        "enzyme2 = 'RNA Polymerase'  # Single quotes\n",
        "print(f\"Both are strings: {type(enzyme1)}, {type(enzyme2)}\")"
      ]
    },
    {
      "cell_type": "markdown",
      "metadata": {},
      "source": [
        "### String Operations"
      ]
    },
    {
      "cell_type": "code",
      "execution_count": null,
      "metadata": {},
      "outputs": [],
      "source": [
        "# Working with biological sequences\n",
        "promoter = \"TATAAA\"\n",
        "gene = \"ATGGCTAGC\"\n",
        "terminator = \"AATAAA\"\n",
        "\n",
        "# Concatenation (joining strings)\n",
        "full_sequence = promoter + gene + terminator\n",
        "print(f\"Full sequence: {full_sequence}\")\n",
        "\n",
        "# Length\n",
        "print(f\"Sequence length: {len(full_sequence)} bp\")\n",
        "\n",
        "# Case conversion\n",
        "print(f\"Uppercase: {gene_name.upper()}\")\n",
        "print(f\"Lowercase: {gene_name.lower()}\")\n",
        "\n",
        "# Checking content\n",
        "print(f\"Contains 'ATG': {'ATG' in gene}\")"
      ]
    },
    {
      "cell_type": "markdown",
      "metadata": {},
      "source": [
        "## 4️⃣ Booleans (bool) - True/False Values\n",
        "\n",
        "Booleans represent yes/no, true/false conditions - perfect for biological states!"
      ]
    },
    {
      "cell_type": "code",
      "execution_count": null,
      "metadata": {},
      "outputs": [],
      "source": [
        "# Booleans - True or False\n",
        "is_mutant = True\n",
        "has_phenotype = False\n",
        "control_positive = True\n",
        "treatment_applied = False\n",
        "\n",
        "print(f\"Is mutant? {is_mutant}\")\n",
        "print(f\"Type: {type(is_mutant)}\")\n",
        "print()\n",
        "\n",
        "# Booleans from comparisons\n",
        "ph = 7.2\n",
        "is_neutral = (ph == 7.0)\n",
        "is_basic = (ph > 7.0)\n",
        "is_acidic = (ph < 7.0)\n",
        "\n",
        "print(f\"pH {ph} is neutral? {is_neutral}\")\n",
        "print(f\"pH {ph} is basic? {is_basic}\")\n",
        "print(f\"pH {ph} is acidic? {is_acidic}\")"
      ]
    },
    {
      "cell_type": "markdown",
      "metadata": {},
      "source": [
        "## 🔄 Type Conversion\n",
        "\n",
        "Sometimes we need to convert between types - like converting lab measurements!"
      ]
    },
    {
      "cell_type": "code",
      "execution_count": null,
      "metadata": {},
      "outputs": [],
      "source": [
        "# Converting between types\n",
        "\n",
        "# String to number\n",
        "measurement = \"25.5\"\n",
        "actual_value = float(measurement)\n",
        "print(f\"String '{measurement}' → Float {actual_value}\")\n",
        "\n",
        "# Number to string\n",
        "cell_count = 50000\n",
        "label = \"Sample has \" + str(cell_count) + \" cells\"\n",
        "print(label)\n",
        "\n",
        "# Float to integer (loses decimal!)\n",
        "exact_ph = 7.86\n",
        "rounded_ph = int(exact_ph)  # Just removes decimal, doesn't round!\n",
        "print(f\"pH {exact_ph} → {rounded_ph} (decimal lost!)\")\n",
        "\n",
        "# Better rounding\n",
        "properly_rounded = round(exact_ph)\n",
        "print(f\"Properly rounded: {properly_rounded}\")"
      ]
    },
    {
      "cell_type": "markdown",
      "metadata": {},
      "source": [
        "## 🔍 Checking Data Types\n",
        "\n",
        "Use `type()` to check what kind of data you have:"
      ]
    },
    {
      "cell_type": "code",
      "execution_count": null,
      "metadata": {},
      "outputs": [],
      "source": [
        "# Mystery variables - what type are they?\n",
        "mystery1 = 42\n",
        "mystery2 = 42.0\n",
        "mystery3 = \"42\"\n",
        "mystery4 = True\n",
        "\n",
        "print(f\"mystery1 = {mystery1}, type: {type(mystery1)}\")\n",
        "print(f\"mystery2 = {mystery2}, type: {type(mystery2)}\")\n",
        "print(f\"mystery3 = {mystery3}, type: {type(mystery3)}\")\n",
        "print(f\"mystery4 = {mystery4}, type: {type(mystery4)}\")\n",
        "\n",
        "# Using isinstance() to check types\n",
        "print(f\"\\nIs mystery1 an integer? {isinstance(mystery1, int)}\")\n",
        "print(f\"Is mystery2 a float? {isinstance(mystery2, float)}\")"
      ]
    },
    {
      "cell_type": "markdown",
      "metadata": {},
      "source": [
        "## 🧬 Real Biology Example: Analyzing a Gene\n",
        "\n",
        "Let's use different data types to analyze a gene:"
      ]
    },
    {
      "cell_type": "code",
      "execution_count": null,
      "metadata": {},
      "outputs": [],
      "source": [
        "# Gene analysis using multiple data types\n",
        "\n",
        "# String data\n",
        "gene_name = \"p53\"\n",
        "full_name = \"Tumor protein p53\"\n",
        "sequence = \"ATGGAGGAGCCGCAGTCAGATCCTAGC\"\n",
        "\n",
        "# Integer data\n",
        "sequence_length = len(sequence)\n",
        "exon_count = 11\n",
        "chromosome = 17\n",
        "\n",
        "# Float data  \n",
        "molecular_weight = 43653.0  # Daltons\n",
        "expression_level = 2.45  # Fold change\n",
        "\n",
        "# Boolean data\n",
        "is_tumor_suppressor = True\n",
        "is_oncogene = False\n",
        "has_start_codon = sequence.startswith(\"ATG\")\n",
        "\n",
        "# Analysis\n",
        "print(f\"=== Gene Analysis: {gene_name} ===\")\n",
        "print(f\"Full name: {full_name}\")\n",
        "print(f\"Chromosome: {chromosome}\")\n",
        "print(f\"Sequence length: {sequence_length} bp\")\n",
        "print(f\"Number of exons: {exon_count}\")\n",
        "print(f\"Molecular weight: {molecular_weight/1000:.1f} kDa\")\n",
        "print(f\"Expression level: {expression_level:.2f}-fold\")\n",
        "print(f\"\\nFunctional properties:\")\n",
        "print(f\"  Tumor suppressor? {is_tumor_suppressor}\")\n",
        "print(f\"  Oncogene? {is_oncogene}\")\n",
        "print(f\"  Has ATG start? {has_start_codon}\")\n",
        "\n",
        "# GC content calculation\n",
        "gc_count = sequence.count('G') + sequence.count('C')\n",
        "gc_content = (gc_count / sequence_length) * 100\n",
        "print(f\"\\nGC content: {gc_content:.1f}%\")"
      ]
    },
    {
      "cell_type": "markdown",
      "metadata": {},
      "source": [
        "## ⚠️ Common Type Errors\n",
        "\n",
        "Watch out for these common mistakes:"
      ]
    },
    {
      "cell_type": "code",
      "execution_count": null,
      "metadata": {},
      "outputs": [],
      "source": [
        "# Error 1: Can't add strings and numbers\n",
        "concentration = 2.5\n",
        "# This will error:\n",
        "# label = \"Concentration: \" + concentration  # TypeError!\n",
        "\n",
        "# Fix: Convert to string\n",
        "label = \"Concentration: \" + str(concentration)\n",
        "print(label)\n",
        "\n",
        "# Or use f-strings (easier!)\n",
        "label = f\"Concentration: {concentration} mg/mL\"\n",
        "print(label)"
      ]
    },
    {
      "cell_type": "code",
      "execution_count": null,
      "metadata": {},
      "outputs": [],
      "source": [
        "# Error 2: String math doesn't work as expected\n",
        "num1 = \"10\"\n",
        "num2 = \"20\"\n",
        "result = num1 + num2\n",
        "print(f\"'10' + '20' = {result}\")  # Not 30!\n",
        "\n",
        "# Fix: Convert to numbers first\n",
        "result = int(num1) + int(num2)\n",
        "print(f\"10 + 20 = {result}\")"
      ]
    },
    {
      "cell_type": "code",
      "execution_count": null,
      "metadata": {},
      "outputs": [],
      "source": [
        "# Error 3: Integer division surprise\n",
        "cells = 100\n",
        "wells = 3\n",
        "\n",
        "# Integer division in Python 2 (old Python)\n",
        "# cells_per_well = cells / wells  # Would give 33 in Python 2!\n",
        "\n",
        "# Python 3 gives float (correct)\n",
        "cells_per_well = cells / wells\n",
        "print(f\"Cells per well: {cells_per_well}\")\n",
        "\n",
        "# For integer division use //\n",
        "cells_per_well_int = cells // wells\n",
        "remaining = cells % wells\n",
        "print(f\"Integer division: {cells_per_well_int} per well, {remaining} remaining\")"
      ]
    },
    {
      "cell_type": "markdown",
      "metadata": {},
      "source": [
        "## 💡 Choosing the Right Type\n",
        "\n",
        "### Quick Guide:\n",
        "\n",
        "| Use Case | Data Type | Example |\n",
        "|----------|-----------|----------|\n",
        "| Counting | `int` | `cell_count = 50000` |\n",
        "| Measurements | `float` | `ph = 7.4` |\n",
        "| Names/Sequences | `str` | `gene = \"BRCA1\"` |\n",
        "| Yes/No States | `bool` | `is_mutant = True` |"
      ]
    },
    {
      "cell_type": "markdown",
      "metadata": {},
      "source": [
        "## 🎯 Practice Exercises"
      ]
    },
    {
      "cell_type": "markdown",
      "metadata": {},
      "source": [
        "### Exercise 1: Identify the Types\n",
        "\n",
        "What data type would you use for each of these?"
      ]
    },
    {
      "cell_type": "code",
      "execution_count": null,
      "metadata": {},
      "outputs": [],
      "source": [
        "# TODO: Create variables with appropriate types\n",
        "\n",
        "# 1. Number of mice in experiment\n",
        "# mice_count = ???\n",
        "\n",
        "# 2. Average mouse weight in grams  \n",
        "# avg_weight = ???\n",
        "\n",
        "# 3. Mouse strain name\n",
        "# strain = ???\n",
        "\n",
        "# 4. Is the mouse transgenic?\n",
        "# is_transgenic = ???\n",
        "\n",
        "# 5. DNA sequence\n",
        "# dna = ???\n",
        "\n",
        "# 6. Temperature in Celsius\n",
        "# temp = ???"
      ]
    },
    {
      "cell_type": "markdown",
      "metadata": {},
      "source": [
        "### Exercise 2: Type Conversion Challenge"
      ]
    },
    {
      "cell_type": "code",
      "execution_count": null,
      "metadata": {},
      "outputs": [],
      "source": [
        "# Fix these type errors\n",
        "\n",
        "# 1. Concatenation error\n",
        "sample_id = 42\n",
        "# label = \"Sample #\" + sample_id  # This errors!\n",
        "# TODO: Fix it\n",
        "\n",
        "# 2. Math with strings\n",
        "concentration1 = \"2.5\"\n",
        "concentration2 = \"3.5\"\n",
        "# total = concentration1 + concentration2  # Doesn't add!\n",
        "# TODO: Fix to get 6.0\n",
        "\n",
        "# 3. Boolean from string\n",
        "user_input = \"True\"\n",
        "# is_positive = user_input  # This is a string, not boolean!\n",
        "# TODO: Convert to actual boolean"
      ]
    },
    {
      "cell_type": "markdown",
      "metadata": {},
      "source": [
        "### Exercise 3: Build a Sample Tracker"
      ]
    },
    {
      "cell_type": "code",
      "execution_count": null,
      "metadata": {},
      "outputs": [],
      "source": [
        "# Create a sample tracking system using all data types\n",
        "\n",
        "# TODO: Define these variables with appropriate types\n",
        "# sample_id = ???           # Should be string like \"S001\"\n",
        "# organism = ???            # Species name\n",
        "# cell_count = ???          # Whole number\n",
        "# viability_percent = ???   # Decimal 0-100\n",
        "# is_treated = ???          # Boolean\n",
        "# treatment_dose_mg = ???   # Decimal\n",
        "\n",
        "# Create a summary using f-strings\n",
        "# summary = f\"Sample {sample_id}: {organism}, {cell_count} cells, {viability_percent}% viable\"\n",
        "# print(summary)"
      ]
    },
    {
      "cell_type": "markdown",
      "metadata": {},
      "source": [
        "### Exercise 4: Debug the Lab Calculator"
      ]
    },
    {
      "cell_type": "code",
      "execution_count": null,
      "metadata": {},
      "outputs": [],
      "source": [
        "# This dilution calculator has type errors. Fix them!\n",
        "\n",
        "# User inputs (these come as strings from input())\n",
        "stock_conc_input = \"1000\"  # mg/mL\n",
        "desired_conc_input = \"50\"  # mg/mL  \n",
        "final_vol_input = \"10.0\"   # mL\n",
        "\n",
        "# Calculate dilution (this has errors!)\n",
        "# dilution_factor = stock_conc_input / desired_conc_input\n",
        "# stock_volume = final_vol_input / dilution_factor\n",
        "# water_volume = final_vol_input - stock_volume\n",
        "\n",
        "# print(f\"Add {stock_volume} mL stock\")\n",
        "# print(f\"Add {water_volume} mL water\")\n",
        "\n",
        "# TODO: Fix the type errors to make this work"
      ]
    },
    {
      "cell_type": "markdown",
      "metadata": {},
      "source": [
        "## 🎉 Summary\n",
        "\n",
        "You've learned Python's four basic data types:\n",
        "\n",
        "1. **`int`** - Whole numbers for counting\n",
        "2. **`float`** - Decimals for measurements\n",
        "3. **`str`** - Text for names and sequences\n",
        "4. **`bool`** - True/False for states\n",
        "\n",
        "### Key Takeaways:\n",
        "- ✅ Each type has a specific purpose\n",
        "- ✅ Use `type()` to check data types\n",
        "- ✅ Convert between types when needed\n",
        "- ✅ F-strings handle type conversion automatically\n",
        "- ✅ Type errors are common - now you can fix them!\n",
        "\n",
        "### 🚀 Next Steps\n",
        "\n",
        "In future lessons, we'll explore:\n",
        "- Collections (lists, dictionaries) for organizing data\n",
        "- Working with files and datasets\n",
        "- NumPy arrays for scientific computing\n",
        "- Pandas DataFrames for data analysis\n",
        "\n",
        "**Keep practicing!** 🧬💻"
      ]
    }
  ],
  "metadata": {
    "kernelspec": {
      "display_name": "Python 3",
      "language": "python",
      "name": "python3"
    },
    "language_info": {
      "codemirror_mode": {
        "name": "ipython",
        "version": 3
      },
      "file_extension": ".py",
      "mimetype": "text/x-python",
      "name": "python",
      "nbconvert_exporter": "python",
      "pygments_lexer": "ipython3",
      "version": "3.10.12"
    },
    "colab": {
      "provenance": [],
      "collapsed_sections": []
    }
  },
  "nbformat": 4,
  "nbformat_minor": 0
}