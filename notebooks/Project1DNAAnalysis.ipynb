{
  "cells": [
    {
      "cell_type": "markdown",
      "metadata": {
        "id": "qPTELFDmeIMM"
      },
      "source": [
        "# 🧬 Project 1 Assessment: Identifying Mutations in NGS Data\n",
        "\n",
        "This task simulates part of a **next-generation sequencing (NGS) workflow** in which we must identify **mismatch mutations** of nucleotides (nt) within sequencing reads compared to a known reference sequence.\n",
        "\n",
        "This is a **real-world step in many bioinformatics pipelines**: researchers often compare experimental sequencing data (reads) to a reference genome to find mutations and analyse their patterns.\n"
      ]
    },
    {
      "cell_type": "markdown",
      "metadata": {
        "id": "ZhnykoNfXlOc"
      },
      "source": [
        "## 🎓 Learning outcomes\n",
        "- Practice **loops**, **conditionals**, and **string comparisons**\n",
        "- Use **pandas** to handle tabular data\n",
        "- **Visualize biological data** with Python plotting libraries (**Matplotlib** and **Seaborn**)\n",
        "- Write **modular, robust code** for real bioinformatics workflows"
      ]
    },
    {
      "cell_type": "markdown",
      "metadata": {
        "id": "kDIyxud9XoS6"
      },
      "source": [
        "## 📂 Provided materials\n",
        "- A **200‑nt reference FASTA file**: `reference.txt`\n",
        "- A **CSV file of 1,000 reads**: `reads.csv` (each 200 nt, *already aligned* to the reference start)\n",
        "- Starter code to load the **reference sequence** and **reads** as a pandas DataFrame with 2 columns:\n",
        "  - **read_id**: a unique numbered ID for each read (e.g. read_0001)\n",
        "  - **sequence**: the base sequence of the read (e.g. ATGGCTAA…)"
      ]
    },
    {
      "cell_type": "markdown",
      "metadata": {
        "id": "jM5sAHXFXq7q"
      },
      "source": [
        "## 🎯 Your task\n",
        "Some reads perfectly match the reference; others contain single-base mismatches.\n",
        "\n",
        "**Write a Python program to identify these mutations.**"
      ]
    },
    {
      "cell_type": "markdown",
      "metadata": {
        "id": "pCjOFcZ5YiLO"
      },
      "source": [
        "<a name='essential'></a>\n",
        "### ✅ Essential functionality\n",
        "\n",
        "Your program should:\n",
        "\n",
        "1.\t**Compare each sequencing read to the reference** base-by-base.\n",
        "\n",
        "2.\t**Record the total numbers of:**\n",
        "  -\tWild-type (WT) reads (without any mutations)\n",
        "  -\tMutated reads (with 1 or more mutations)\n",
        "\n",
        "3.\t**For mutated reads, record:**\n",
        "  -\tThe position of the first mismatch (1–200)\n",
        "  -\tThe reference base and the mutated base (i.e. A, C, T, or G) for the first mismatch\n",
        "\n",
        "4.\t**Store the results from step 3 as new columns in the pandas DataFrame**  with the following names:\n",
        "  -\t**wildtype_base**: Reference base.\n",
        "  -\t**mutated_base**: Mutated base.\n",
        "  -\t**mutated_position**: Position of 1st mutation in the read (1–200).\n",
        "\n",
        "5.\t**Present the findings from the mutation analysis (steps 2–4)** by:\n",
        "-\t**Printing a text summary** to the screen of the:\n",
        "  - percentage of WT vs. mutated reads\n",
        "  - percentages of specific base mutations (e.g. A → T, A → C, etc.), ordered from most common to least common.\n",
        "-\t**Creating publication-ready plots** (i.e. using appropriate plot types; well labelled; good use of style/colour) to represent these results, e.g. visualising:\n",
        "  - percentage of WT vs. mutated reads\n",
        "  - percentages of specific base mutations\n",
        "  - mutation positions and/or hotspots\n",
        "\n",
        "6.\t**Save the updated DataFrame to a new CSV file** called `analysis.csv` for further analysis. The CSV should include rows for every read (i.e. 1,000 plus the header row) with **empty entries in the new columns** (from step 4) if no mutations were found in a given read.\n",
        "\n",
        "**You can access analysis.csv to check your program's output via the Files area on Colab** (click the 📁 folder icon on the left toolbar). To view the contents of the file, double click it. To download it, move your mouse over the file, click the three dots and choose Download (or right/context click).\n",
        "\n",
        "Your program should also:\n",
        "\n",
        "-\t**Handle unexpected input** (e.g. truncated reads, unknown characters, upper- or lower-case bases) from the CSV file **without crashing** and by **reporting errors** in a user-friendly way — note you can assume that errors are only ever in the `reads.csv` file, not in `reference.txt`.\n",
        "-\t**Use functions well** to make the code easily readable, concise, and avoid code repetition\n",
        "-\t**Be well commented**, including **docstrings** for functions\n",
        "-\tFollow good practices in naming variables, functions, etc."
      ]
    },
    {
      "cell_type": "markdown",
      "metadata": {
        "id": "42aQBHO_YjoD"
      },
      "source": [
        "<a name='advanced'></a>\n",
        "### ⭐ Advanced functionality\n",
        "\n",
        "You can improve your marks further by implementing code to perform the following:\n",
        "\n",
        "\n",
        "- **Generate more advanced plot types** that are used in contemporary NGS literature.\n",
        "\n",
        "-\t**Calculate and report/visualize complex and/or statistical results** (e.g. of frequency of mutation at hotspots, types of mutations).\n",
        "\n",
        "-\t**Perform advanced error handling** (for example: outputting informative error messages; logging and reporting skipped reads)"
      ]
    },
    {
      "cell_type": "markdown",
      "metadata": {
        "id": "Ke-JgcctviN5"
      },
      "source": [
        "# 🚀 Getting started\n",
        "* Run the code in **Steps 0–2** to bring you up to the point where you can start developing your code\n",
        "* Enter the code for your program in the code block in **Step 3**\n",
        "* Use **Steps 4 and 5** to test your program and confirm its robustness\n",
        "* You can re‑run code blocks as many times as you like."
      ]
    },
    {
      "cell_type": "markdown",
      "metadata": {
        "id": "Vna-V3RLhMA9"
      },
      "source": [
        "## 🛠 Step 0: Setup\n",
        "Install and import the libraries we’ll use."
      ]
    },
    {
      "cell_type": "code",
      "execution_count": null,
      "metadata": {
        "id": "ml2tAVXdhNME"
      },
      "outputs": [],
      "source": [
        "# If running on Colab, uncomment to install dependencies (usually preinstalled):\n",
        "#!pip install pandas matplotlib seaborn\n",
        "\n",
        "import csv\n",
        "import pandas as pd\n",
        "import numpy as np\n",
        "import matplotlib.pyplot as plt\n",
        "import seaborn as sns\n",
        "from pathlib import Path\n",
        "\n",
        "pd.set_option('display.max_rows', 10)\n",
        "pd.set_option('display.max_columns', None)\n",
        "pd.set_option('display.width', 120)"
      ]
    },
    {
      "cell_type": "markdown",
      "metadata": {
        "id": "Rp-M_UhehXBA"
      },
      "source": [
        "## 🔽 Step 1: Download the data\n",
        "These two files are available for you to use in your task:\n",
        "- `reference.txt` (FASTA-like; 200‑nt reference)\n",
        "- `reads.csv` (1,000 reads, each 200 nt)\n",
        "\n",
        "Run the below code to download them into the Colab working directory (these should show up if you click the 📁 Files icon on the left)."
      ]
    },
    {
      "cell_type": "code",
      "execution_count": null,
      "metadata": {
        "id": "Cp4Qs4Mthdpl"
      },
      "outputs": [],
      "source": [
        "# Download files automatically from this GitHub repo\n",
        "!wget -q \"https://github.com/HocheggerLab/y3-bio-python/blob/main/data/Reference%20Document.txt\"\n",
        "!wget -q \"https://github.com/HocheggerLab/y3-bio-python/blob/main/data/ReadsData.csv\"\n",
        "\n",
        "# Optional: confirm they downloaded\n",
        "!ls -lh reference.txt reads.csv"
      ]
    },
    {
      "cell_type": "markdown",
      "metadata": {
        "id": "cHoT5bEchkuy"
      },
      "source": [
        "## 🧬 Step 2: Load reference and reads (using starter code)\n",
        "Below, we provide some helper code to load the reference from `reference.txt` and the reads from `reads.csv`.\n",
        "\n",
        "❗ **Do not change the function’s behavior** (you may read it, of course!).\n",
        "\n",
        "The code creates two variables from the loaded files:\n",
        "- **reference**: a string containing the 200-nt reference sequence\n",
        "- **reads_df**: a pandas DataFrame containing the 1,000 reads"
      ]
    },
    {
      "cell_type": "code",
      "execution_count": null,
      "metadata": {
        "id": "XRS-B0Ddhmjz"
      },
      "outputs": [],
      "source": [
        "def load_reference(path: str) -> str:\n",
        "  \"\"\"\n",
        "  Load reference nucelotide sequence file from specified path.\n",
        "\n",
        "  Args:\n",
        "      path: Path and filename of the 200-nt sequence file in FASTA format.\n",
        "\n",
        "  Returns:\n",
        "      ref: String containing the sequence.\n",
        "\n",
        "  Raises:\n",
        "      ValueError: If the reference file does not contain 200 nt.\n",
        "  \"\"\"\n",
        "  with open(path) as f:\n",
        "      lines = [ln.strip() for ln in f if ln.strip()]\n",
        "  if lines[0].startswith('>'):\n",
        "      lines = lines[1:]\n",
        "  ref = \"\".join(lines).upper()\n",
        "  if len(ref) != 200:\n",
        "      raise ValueError(f\"Reference must be 200 nt, got {len(ref)}\")\n",
        "  return ref\n",
        "\n",
        "# Load reference and reads\n",
        "REF_PATH = \"reference.txt\"\n",
        "READS_PATH = \"reads.csv\"\n",
        "\n",
        "reference = load_reference(REF_PATH)\n",
        "reads_df = pd.read_csv(READS_PATH)\n",
        "\n",
        "# Confirm that reference and reads were loaded correctly\n",
        "print(\"Reference length:\", len(reference))\n",
        "reads_df.head()"
      ]
    },
    {
      "cell_type": "markdown",
      "metadata": {
        "id": "rCKdV5PxoKEx"
      },
      "source": [
        "## 🐍 Step 3: Enter your code here!\n",
        "\n",
        "Remember, at minimum your code should:\n",
        "*   **Print a summary of your mutation analysis** to the screen\n",
        "*   **Create a basic plot** to represent number/percentage of WT and mutated reads.\n",
        "*   **Store information in the `reads_df` DataFrame** on the first mutation of each read in new columns called **wildtype_base**, **mutated_base**, and **mutated_position**.\n",
        "* **Save the `reads_df` DataFrame** to a CSV file called `analysis.csv`.\n",
        "\n",
        "# ❗ **IMPORTANT: Make sure that the code block below contains all the code for your program. This is the only code block that will be used to mark your program.**\n",
        "\n",
        "\n"
      ]
    },
    {
      "cell_type": "code",
      "execution_count": null,
      "metadata": {
        "id": "DnNW_khepa8h"
      },
      "outputs": [],
      "source": [
        "# Write your program code here!\n"
      ]
    },
    {
      "cell_type": "markdown",
      "metadata": {
        "id": "LCHZ1Suyq0Rf"
      },
      "source": [
        "## 🧪 Step 4: Test your code\n",
        "It is important to check that your code gives the expected outputs. One way to do this is using \"test data\" with known numbers of mutations.\n",
        "\n",
        "The code below generates a simple **test reference sequence** and a **test reads dataframe** with two WT reads and two mutant reads (50% each). This test data overwrites `reference` and `reads_df`, so re-run Step 2 if you want to re-load the original data.\n",
        "\n",
        "If it's working correctly, your code (Step 3) should identify `read_2` as having a mutation at position 200, and at position 2 for `read_4`."
      ]
    },
    {
      "cell_type": "code",
      "execution_count": null,
      "metadata": {
        "id": "VSqOQGoAq4mY"
      },
      "outputs": [],
      "source": [
        "# Generate test data\n",
        "reference = \"A\"*199 + \"C\"\n",
        "\n",
        "test_read_wt = \"A\"*199 + \"C\"\n",
        "test_read_mut = \"A\"*199 + \"G\"\n",
        "test_read_mut_2 = \"A\" + \"G\" + \"A\"*197 + \"C\"\n",
        "\n",
        "reads_df = pd.DataFrame({\"read_id\": [\"read_1\", \"read_2\", \"read_3\", \"read_4\"],\n",
        "                         \"read\": [test_read_wt, test_read_mut, test_read_wt, test_read_mut_2]})\n",
        "\n",
        "# Show the first rows of the reads_df test data\n",
        "reads_df.head()"
      ]
    },
    {
      "cell_type": "markdown",
      "metadata": {
        "id": "ehrLbfAosgJU"
      },
      "source": [
        "You can continue to adapt the test data generation code above to test your program. For example, does your program output the mutated base changes correctly to `analysis.csv`?"
      ]
    },
    {
      "cell_type": "markdown",
      "metadata": {
        "id": "tt3g-t3jyxxT"
      },
      "source": [
        "## 💣 Step 5: Develop robustness to errors\n",
        "\n",
        "An essential part of good coding practice is making sure that your program **doesn't crash**, no matter what is thrown at it!\n",
        "\n",
        "In a similar way to the test data generation code above, we can generate further test data to simulate 3 specific types of errors in the input `reference` and `reads_df` data:\n",
        "\n",
        "1. Truncated reads (i.e. reads shorter than 200 nt)\n",
        "2. Lower-case bases (e.g. a lower-case base character such as `a` instead of `A`)\n",
        "3. Unknown characters (i.e. any letter or character except A, C, T or G, such as E, j, %, @, etc.)"
      ]
    },
    {
      "cell_type": "markdown",
      "metadata": {
        "id": "MMEQWXAo1GfN"
      },
      "source": [
        "### ✂ Truncated reads"
      ]
    },
    {
      "cell_type": "code",
      "execution_count": null,
      "metadata": {
        "id": "QbJ7c_xl0qbx"
      },
      "outputs": [],
      "source": [
        "# Generate test data for truncated reads\n",
        "reference = \"A\"*199 + \"C\"\n",
        "\n",
        "test_read_wt = \"A\"*199 + \"C\"\n",
        "test_read_wt_2 = \"A\"*100 + \"C\"\n",
        "test_read_mut = \"A\"*199 + \"G\"\n",
        "test_read_mut_2 = \"A\" + \"G\" + \"A\"*100 + \"C\"\n",
        "\n",
        "reads_df = pd.DataFrame({\"read_id\": [\"read_1\", \"read_2\", \"read_3\", \"read_4\"],\n",
        "                         \"read\": [test_read_wt, test_read_mut, test_read_wt_2, test_read_mut_2]})\n",
        "\n",
        "# Show the first rows of the reads_df test data\n",
        "reads_df.head()"
      ]
    },
    {
      "cell_type": "markdown",
      "metadata": {
        "id": "3cI8AIhw1JvV"
      },
      "source": [
        "### 🔡 Lower-case bases"
      ]
    },
    {
      "cell_type": "code",
      "execution_count": null,
      "metadata": {
        "id": "fU62aRv40TsU"
      },
      "outputs": [],
      "source": [
        "# Generate test data for lower-case bases\n",
        "reference = \"A\"*199 + \"c\"\n",
        "\n",
        "test_read_wt = \"a\"*199 + \"C\"\n",
        "test_read_mut = \"A\"*199 + \"g\"\n",
        "test_read_mut_2 = \"A\" + \"g\" + \"a\"*197 + \"C\"\n",
        "\n",
        "reads_df = pd.DataFrame({\"read_id\": [\"read_1\", \"read_2\", \"read_3\", \"read_4\"],\n",
        "                         \"read\": [test_read_wt, test_read_mut, test_read_wt, test_read_mut_2]})\n",
        "\n",
        "# Show the first rows of the reads_df test data\n",
        "reads_df.head()"
      ]
    },
    {
      "cell_type": "markdown",
      "metadata": {
        "id": "bPRkSut91hpQ"
      },
      "source": [
        "### ⁉ Unknown characters\n",
        "\n",
        "Based on the previous examples, write code here to generate test data containing unknown characters (i.e. letters or symbols except A, C, T or G):"
      ]
    },
    {
      "cell_type": "code",
      "execution_count": null,
      "metadata": {
        "id": "E4l5OlIr150B"
      },
      "outputs": [],
      "source": [
        "# Generate test data for unknown characters\n"
      ]
    },
    {
      "cell_type": "markdown",
      "metadata": {
        "id": "yt51aWdaoyVN"
      },
      "source": [
        "# 👣 Next steps\n",
        "\n",
        "✅ **Check:**\n",
        "- Does your program (Step 3) implement everything listed in the [essential functionality](#essential) section?\n",
        "- Does it follow **good coding practices** in the use of functions, commenting, and variable naming?\n",
        "- Does it **pass all the tests** so far (Steps 4 and 5)?\n",
        "\n",
        "If so, congratulations! 🥳\n",
        "\n",
        "Now, you can develop it further by implementing the features in the [advanced functionality](#advanced) section."
      ]
    }
  ],
  "metadata": {
    "colab": {
      "provenance": []
    },
    "kernelspec": {
      "display_name": ".venv",
      "language": "python",
      "name": "python3"
    },
    "language_info": {
      "codemirror_mode": {
        "name": "ipython",
        "version": 3
      },
      "file_extension": ".py",
      "mimetype": "text/x-python",
      "name": "python",
      "nbconvert_exporter": "python",
      "pygments_lexer": "ipython3",
      "version": "3.12.10"
    }
  },
  "nbformat": 4,
  "nbformat_minor": 0
}
