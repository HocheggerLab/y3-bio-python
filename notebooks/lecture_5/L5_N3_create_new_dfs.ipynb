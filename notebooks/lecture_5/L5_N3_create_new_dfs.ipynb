{
 "cells": [
  {
   "cell_type": "markdown",
   "metadata": {},
   "source": [
    "# Creating New DataFrames from Existing Data\n",
    "\n",
    "Often you need to extract specific information from a DataFrame and organize it into a new DataFrame. This is a fundamental skill in data analysis!\n",
    "\n",
    "## Learning Objectives\n",
    "\n",
    "By the end of this notebook, you will be able to:\n",
    "1. Extract specific columns and rows to create new DataFrames\n",
    "2. Collect calculated values into a new DataFrame\n",
    "3. Build summary DataFrames from loop iterations\n",
    "4. Combine data from multiple sources into one DataFrame\n",
    "5. Use list comprehensions for efficient DataFrame creation\n",
    "\n",
    "---"
   ]
  },
  {
   "cell_type": "code",
   "execution_count": null,
   "metadata": {},
   "outputs": [],
   "source": [
    "# Import libraries\n",
    "import pandas as pd\n",
    "import numpy as np\n",
    "\n",
    "print('Libraries loaded!')"
   ]
  },
  {
   "cell_type": "markdown",
   "metadata": {},
   "source": [
    "---\n",
    "\n",
    "## Part 1: Basic Extraction - Selecting Columns and Rows\n",
    "\n",
    "Let's start with a simple gene expression dataset."
   ]
  },
  {
   "cell_type": "code",
   "execution_count": null,
   "metadata": {},
   "outputs": [],
   "source": [
    "# Sample gene expression data\n",
    "data = {\n",
    "    'sample_id': ['S1', 'S2', 'S3', 'S4', 'S5', 'S6'],\n",
    "    'patient_type': ['healthy', 'healthy', 'healthy', 'disease', 'disease', 'disease'],\n",
    "    'BRCA1': [5.2, 5.5, 5.1, 8.2, 8.5, 8.1],\n",
    "    'TP53': [6.8, 6.5, 6.9, 9.1, 9.3, 8.9],\n",
    "    'MYC': [3.2, 3.5, 3.1, 3.3, 3.4, 3.2]\n",
    "}\n",
    "\n",
    "df = pd.DataFrame(data)\n",
    "print('Gene expression data:')\n",
    "print(df)"
   ]
  },
  {
   "cell_type": "markdown",
   "metadata": {},
   "source": [
    "### Example 1: Extract Specific Columns"
   ]
  },
  {
   "cell_type": "code",
   "execution_count": null,
   "metadata": {},
   "outputs": [],
   "source": [
    "# Create new DataFrame with only gene columns\n",
    "genes_only = df[['BRCA1', 'TP53', 'MYC']]\n",
    "\n",
    "print('Genes only:')\n",
    "print(genes_only)"
   ]
  },
  {
   "cell_type": "markdown",
   "metadata": {},
   "source": [
    "### Example 2: Extract Rows Based on Condition"
   ]
  },
  {
   "cell_type": "code",
   "execution_count": null,
   "metadata": {},
   "outputs": [],
   "source": [
    "# Create DataFrame with only healthy patients\n",
    "healthy_df = df[df['patient_type'] == 'healthy']\n",
    "\n",
    "print('Healthy patients only:')\n",
    "print(healthy_df)"
   ]
  },
  {
   "cell_type": "markdown",
   "metadata": {},
   "source": [
    "### Example 3: Extract Subset (Rows + Columns)"
   ]
  },
  {
   "cell_type": "code",
   "execution_count": null,
   "metadata": {},
   "outputs": [],
   "source": [
    "# Create DataFrame with diseased patients and only BRCA1 + TP53\n",
    "disease_subset = df[df['patient_type'] == 'disease'][['sample_id', 'BRCA1', 'TP53']]\n",
    "\n",
    "print('Diseased patients, BRCA1 and TP53 only:')\n",
    "print(disease_subset)"
   ]
  },
  {
   "cell_type": "markdown",
   "metadata": {},
   "source": [
    "### 📝 Practice Question 1\n",
    "\n",
    "**Task:** From the original `df`, create a new DataFrame containing:\n",
    "- Only samples where BRCA1 expression > 6.0\n",
    "- Only columns: sample_id, patient_type, BRCA1\n",
    "\n",
    "Print the result."
   ]
  },
  {
   "cell_type": "code",
   "execution_count": null,
   "metadata": {},
   "outputs": [],
   "source": [
    "# YOUR CODE HERE\n",
    "# Create new DataFrame with BRCA1 > 6.0\n"
   ]
  },
  {
   "cell_type": "markdown",
   "metadata": {},
   "source": [
    "---\n",
    "\n",
    "## Part 2: Creating DataFrames from Calculations\n",
    "\n",
    "Often you calculate statistics and want to collect them into a new DataFrame."
   ]
  },
  {
   "cell_type": "markdown",
   "metadata": {},
   "source": [
    "### Example 4: Calculate Mean for Each Gene"
   ]
  },
  {
   "cell_type": "code",
   "execution_count": null,
   "metadata": {},
   "outputs": [],
   "source": [
    "# Calculate mean expression for each gene\n",
    "gene_means = {\n",
    "    'gene': ['BRCA1', 'TP53', 'MYC'],\n",
    "    'mean_expression': [\n",
    "        df['BRCA1'].mean(),\n",
    "        df['TP53'].mean(),\n",
    "        df['MYC'].mean()\n",
    "    ]\n",
    "}\n",
    "\n",
    "mean_df = pd.DataFrame(gene_means)\n",
    "print('Gene mean expressions:')\n",
    "print(mean_df)"
   ]
  },
  {
   "cell_type": "markdown",
   "metadata": {},
   "source": [
    "### Example 5: Calculate Multiple Statistics"
   ]
  },
  {
   "cell_type": "code",
   "execution_count": null,
   "metadata": {},
   "outputs": [],
   "source": [
    "# Calculate mean, median, and std for BRCA1\n",
    "brca1_stats = {\n",
    "    'statistic': ['mean', 'median', 'std', 'min', 'max'],\n",
    "    'value': [\n",
    "        df['BRCA1'].mean(),\n",
    "        df['BRCA1'].median(),\n",
    "        df['BRCA1'].std(),\n",
    "        df['BRCA1'].min(),\n",
    "        df['BRCA1'].max()\n",
    "    ]\n",
    "}\n",
    "\n",
    "stats_df = pd.DataFrame(brca1_stats)\n",
    "print('BRCA1 statistics:')\n",
    "print(stats_df)"
   ]
  },
  {
   "cell_type": "markdown",
   "metadata": {},
   "source": [
    "### 📝 Practice Question 2\n",
    "\n",
    "**Task:** Create a DataFrame showing mean and standard deviation for each gene (BRCA1, TP53, MYC).\n",
    "\n",
    "Your DataFrame should have columns: `gene`, `mean`, `std`\n",
    "\n",
    "**Hint:** Create a dictionary with three lists, then convert to DataFrame."
   ]
  },
  {
   "cell_type": "code",
   "execution_count": null,
   "metadata": {},
   "outputs": [],
   "source": [
    "# YOUR CODE HERE\n",
    "# Create DataFrame with gene stats\n"
   ]
  },
  {
   "cell_type": "markdown",
   "metadata": {},
   "source": [
    "---\n",
    "\n",
    "## Part 3: Building DataFrames in a Loop\n",
    "\n",
    "Very common pattern: iterate through data and collect results."
   ]
  },
  {
   "cell_type": "markdown",
   "metadata": {},
   "source": [
    "### Example 6: Loop Through Genes and Collect Stats"
   ]
  },
  {
   "cell_type": "code",
   "execution_count": null,
   "metadata": {},
   "outputs": [],
   "source": [
    "# Method 1: Build lists, then create DataFrame\n",
    "genes = ['BRCA1', 'TP53', 'MYC']\n",
    "gene_names = []\n",
    "means = []\n",
    "stds = []\n",
    "\n",
    "for gene in genes:\n",
    "    gene_names.append(gene)\n",
    "    means.append(df[gene].mean())\n",
    "    stds.append(df[gene].std())\n",
    "\n",
    "summary_df = pd.DataFrame({\n",
    "    'gene': gene_names,\n",
    "    'mean': means,\n",
    "    'std': stds\n",
    "})\n",
    "\n",
    "print('Gene summary (built with loop):')\n",
    "print(summary_df)"
   ]
  },
  {
   "cell_type": "markdown",
   "metadata": {},
   "source": [
    "### Example 7: Compare Groups in a Loop"
   ]
  },
  {
   "cell_type": "code",
   "execution_count": null,
   "metadata": {},
   "outputs": [],
   "source": [
    "# Compare healthy vs disease for each gene\n",
    "genes = ['BRCA1', 'TP53', 'MYC']\n",
    "results = []\n",
    "\n",
    "for gene in genes:\n",
    "    healthy_mean = df[df['patient_type'] == 'healthy'][gene].mean()\n",
    "    disease_mean = df[df['patient_type'] == 'disease'][gene].mean()\n",
    "    fold_change = disease_mean / healthy_mean\n",
    "    \n",
    "    results.append({\n",
    "        'gene': gene,\n",
    "        'healthy_mean': healthy_mean,\n",
    "        'disease_mean': disease_mean,\n",
    "        'fold_change': fold_change\n",
    "    })\n",
    "\n",
    "# Convert list of dictionaries to DataFrame\n",
    "comparison_df = pd.DataFrame(results)\n",
    "print('Healthy vs Disease comparison:')\n",
    "print(comparison_df.round(2))"
   ]
  },
  {
   "cell_type": "markdown",
   "metadata": {},
   "source": [
    "### 📝 Practice Question 3\n",
    "\n",
    "**Task:** Loop through each sample (row) and create a DataFrame showing:\n",
    "- sample_id\n",
    "- patient_type  \n",
    "- max_gene_expression (the highest expression among BRCA1, TP53, MYC)\n",
    "\n",
    "**Hint:** Use `df.iterrows()` to iterate through rows."
   ]
  },
  {
   "cell_type": "code",
   "execution_count": null,
   "metadata": {},
   "outputs": [],
   "source": [
    "# YOUR CODE HERE\n",
    "# Create DataFrame with max expression per sample\n"
   ]
  },
  {
   "cell_type": "markdown",
   "metadata": {},
   "source": [
    "---\n",
    "\n",
    "## Part 4: Using List Comprehensions (Advanced)\n",
    "\n",
    "List comprehensions provide a faster, more elegant way to build DataFrames."
   ]
  },
  {
   "cell_type": "markdown",
   "metadata": {},
   "source": [
    "### Example 8: List Comprehension for Statistics"
   ]
  },
  {
   "cell_type": "code",
   "execution_count": null,
   "metadata": {},
   "outputs": [],
   "source": [
    "# Same as Example 6, but with list comprehension\n",
    "genes = ['BRCA1', 'TP53', 'MYC']\n",
    "\n",
    "summary_df_lc = pd.DataFrame({\n",
    "    'gene': genes,\n",
    "    'mean': [df[gene].mean() for gene in genes],\n",
    "    'std': [df[gene].std() for gene in genes]\n",
    "})\n",
    "\n",
    "print('Gene summary (list comprehension):')\n",
    "print(summary_df_lc)"
   ]
  },
  {
   "cell_type": "markdown",
   "metadata": {},
   "source": [
    "### Example 9: List Comprehension with Dictionaries"
   ]
  },
  {
   "cell_type": "code",
   "execution_count": null,
   "metadata": {},
   "outputs": [],
   "source": [
    "# Same as Example 7, but more concise\n",
    "genes = ['BRCA1', 'TP53', 'MYC']\n",
    "\n",
    "comparison_lc = pd.DataFrame([\n",
    "    {\n",
    "        'gene': gene,\n",
    "        'healthy_mean': df[df['patient_type'] == 'healthy'][gene].mean(),\n",
    "        'disease_mean': df[df['patient_type'] == 'disease'][gene].mean()\n",
    "    }\n",
    "    for gene in genes\n",
    "])\n",
    "\n",
    "# Add fold change\n",
    "comparison_lc['fold_change'] = comparison_lc['disease_mean'] / comparison_lc['healthy_mean']\n",
    "\n",
    "print('Healthy vs Disease (list comprehension):')\n",
    "print(comparison_lc.round(2))"
   ]
  },
  {
   "cell_type": "markdown",
   "metadata": {},
   "source": [
    "### 📝 Practice Question 4\n",
    "\n",
    "**Task:** Use a list comprehension to create a DataFrame showing the range (max - min) for each gene.\n",
    "\n",
    "Your DataFrame should have columns: `gene`, `range`\n",
    "\n",
    "**Hint:** `[{'gene': gene, 'range': ...} for gene in genes]`"
   ]
  },
  {
   "cell_type": "code",
   "execution_count": null,
   "metadata": {},
   "outputs": [],
   "source": [
    "# YOUR CODE HERE\n",
    "# Create DataFrame with gene ranges using list comprehension\n"
   ]
  },
  {
   "cell_type": "markdown",
   "metadata": {},
   "source": [
    "---\n",
    "\n",
    "## Part 5: Combining Multiple DataFrames\n",
    "\n",
    "Sometimes you have data from different sources that need to be combined."
   ]
  },
  {
   "cell_type": "markdown",
   "metadata": {},
   "source": [
    "### Example 10: Concatenating DataFrames Vertically"
   ]
  },
  {
   "cell_type": "code",
   "execution_count": null,
   "metadata": {},
   "outputs": [],
   "source": [
    "# Two batches of experiments\n",
    "batch1 = pd.DataFrame({\n",
    "    'sample': ['A1', 'A2', 'A3'],\n",
    "    'expression': [5.2, 5.5, 5.1]\n",
    "})\n",
    "\n",
    "batch2 = pd.DataFrame({\n",
    "    'sample': ['B1', 'B2', 'B3'],\n",
    "    'expression': [6.1, 6.3, 6.0]\n",
    "})\n",
    "\n",
    "print('Batch 1:')\n",
    "print(batch1)\n",
    "print('\\nBatch 2:')\n",
    "print(batch2)\n",
    "\n",
    "# Combine them\n",
    "combined = pd.concat([batch1, batch2], ignore_index=True)\n",
    "print('\\nCombined:')\n",
    "print(combined)"
   ]
  },
  {
   "cell_type": "markdown",
   "metadata": {},
   "source": [
    "### Example 11: Merging DataFrames (Like SQL JOIN)"
   ]
  },
  {
   "cell_type": "code",
   "execution_count": null,
   "metadata": {},
   "outputs": [],
   "source": [
    "# Sample metadata\n",
    "metadata = pd.DataFrame({\n",
    "    'sample_id': ['S1', 'S2', 'S3'],\n",
    "    'patient_age': [45, 38, 52]\n",
    "})\n",
    "\n",
    "# Expression data\n",
    "expression = pd.DataFrame({\n",
    "    'sample_id': ['S1', 'S2', 'S3'],\n",
    "    'BRCA1': [5.2, 5.5, 5.1]\n",
    "})\n",
    "\n",
    "print('Metadata:')\n",
    "print(metadata)\n",
    "print('\\nExpression:')\n",
    "print(expression)\n",
    "\n",
    "# Merge on sample_id\n",
    "merged = pd.merge(metadata, expression, on='sample_id')\n",
    "print('\\nMerged:')\n",
    "print(merged)"
   ]
  },
  {
   "cell_type": "markdown",
   "metadata": {},
   "source": [
    "### 📝 Practice Question 5\n",
    "\n",
    "**Task:** You have two DataFrames:\n",
    "1. Patient info: sample_id, treatment (drug_A, drug_B, control)\n",
    "2. Response data: sample_id, tumor_size_change (negative = shrinkage)\n",
    "\n",
    "Create both DataFrames with 6 samples (2 per treatment), then merge them.\n",
    "\n",
    "**Example data:**\n",
    "- Samples: S1-S6\n",
    "- Treatments: 2x drug_A, 2x drug_B, 2x control\n",
    "- Tumor changes: drug_A (-3.5, -2.8), drug_B (-1.2, -0.9), control (+0.5, +0.8)"
   ]
  },
  {
   "cell_type": "code",
   "execution_count": null,
   "metadata": {},
   "outputs": [],
   "source": [
    "# YOUR CODE HERE\n",
    "# Create two DataFrames and merge them\n"
   ]
  },
  {
   "cell_type": "markdown",
   "metadata": {},
   "source": [
    "---\n",
    "\n",
    "## Part 6: Real-World Example - Gene Correlation Analysis\n",
    "\n",
    "Let's put it all together with a realistic biology example."
   ]
  },
  {
   "cell_type": "code",
   "execution_count": null,
   "metadata": {},
   "outputs": [],
   "source": [
    "# Gene expression across 10 samples\n",
    "np.random.seed(42)\n",
    "\n",
    "gene_data = pd.DataFrame({\n",
    "    'sample': [f'S{i}' for i in range(1, 11)],\n",
    "    'BRCA1': np.random.normal(6.0, 1.0, 10),\n",
    "    'TP53': np.random.normal(7.0, 1.2, 10),\n",
    "    'MYC': np.random.normal(5.5, 0.8, 10),\n",
    "    'PTEN': np.random.normal(4.5, 1.1, 10)\n",
    "})\n",
    "\n",
    "print('Gene expression data:')\n",
    "print(gene_data.round(2))"
   ]
  },
  {
   "cell_type": "code",
   "execution_count": null,
   "metadata": {},
   "outputs": [],
   "source": [
    "# Task: Calculate correlation between BRCA1 and all other genes\n",
    "from scipy.stats import pearsonr\n",
    "\n",
    "target_gene = 'BRCA1'\n",
    "other_genes = ['TP53', 'MYC', 'PTEN']\n",
    "\n",
    "# Build results in a loop\n",
    "correlation_results = []\n",
    "\n",
    "for gene in other_genes:\n",
    "    r, p = pearsonr(gene_data[target_gene], gene_data[gene])\n",
    "    correlation_results.append({\n",
    "        'gene': gene,\n",
    "        'correlation': r,\n",
    "        'p_value': p,\n",
    "        'significant': 'Yes' if p < 0.05 else 'No'\n",
    "    })\n",
    "\n",
    "# Convert to DataFrame\n",
    "corr_df = pd.DataFrame(correlation_results)\n",
    "\n",
    "print(f'Correlation with {target_gene}:')\n",
    "print(corr_df.round(3))"
   ]
  },
  {
   "cell_type": "markdown",
   "metadata": {},
   "source": [
    "### 📝 Practice Question 6 (Challenge)\n",
    "\n",
    "**Task:** Create a \"pairwise correlation matrix\" DataFrame.\n",
    "\n",
    "Calculate the correlation between ALL pairs of genes (BRCA1-TP53, BRCA1-MYC, TP53-MYC, etc.).\n",
    "\n",
    "Your DataFrame should have columns:\n",
    "- `gene1`\n",
    "- `gene2`\n",
    "- `correlation`\n",
    "\n",
    "**Hint:** Use nested loops or `itertools.combinations`"
   ]
  },
  {
   "cell_type": "code",
   "execution_count": null,
   "metadata": {},
   "outputs": [],
   "source": [
    "# YOUR CODE HERE\n",
    "# Create pairwise correlation DataFrame\n"
   ]
  },
  {
   "cell_type": "markdown",
   "metadata": {},
   "source": [
    "---\n",
    "\n",
    "## Summary\n",
    "\n",
    "### Key Patterns for Creating DataFrames:\n",
    "\n",
    "**1. Extract columns/rows:**\n",
    "```python\n",
    "new_df = old_df[['col1', 'col2']]\n",
    "new_df = old_df[old_df['col'] > 5]\n",
    "```\n",
    "\n",
    "**2. From dictionary:**\n",
    "```python\n",
    "data = {'col1': [1, 2, 3], 'col2': [4, 5, 6]}\n",
    "df = pd.DataFrame(data)\n",
    "```\n",
    "\n",
    "**3. Build with lists in loop:**\n",
    "```python\n",
    "col1_data = []\n",
    "col2_data = []\n",
    "for item in items:\n",
    "    col1_data.append(value1)\n",
    "    col2_data.append(value2)\n",
    "df = pd.DataFrame({'col1': col1_data, 'col2': col2_data})\n",
    "```\n",
    "\n",
    "**4. List of dictionaries:**\n",
    "```python\n",
    "results = []\n",
    "for item in items:\n",
    "    results.append({'col1': val1, 'col2': val2})\n",
    "df = pd.DataFrame(results)\n",
    "```\n",
    "\n",
    "**5. List comprehension:**\n",
    "```python\n",
    "df = pd.DataFrame([\n",
    "    {'col1': x, 'col2': calc(x)}\n",
    "    for x in items\n",
    "])\n",
    "```\n",
    "\n",
    "**6. Combining DataFrames:**\n",
    "```python\n",
    "# Vertical (stack rows)\n",
    "pd.concat([df1, df2], ignore_index=True)\n",
    "\n",
    "# Horizontal (join by key)\n",
    "pd.merge(df1, df2, on='key_column')\n",
    "```\n",
    "\n",
    "### Common Use Cases in Biology:\n",
    "- Extracting gene subsets for pathway analysis\n",
    "- Building summary statistics tables\n",
    "- Comparing treatment groups\n",
    "- Correlation/statistical test results\n",
    "- Combining data from multiple experiments\n",
    "\n",
    "### Best Practices:\n",
    "1. Start simple (extract first, then build)\n",
    "2. Use meaningful column names\n",
    "3. Always check your results with `.head()` or print statements\n",
    "4. Choose the method that makes your code most readable\n",
    "5. List comprehensions are faster but loops are clearer for beginners"
   ]
  }
 ],
 "metadata": {
  "kernelspec": {
   "display_name": "Python 3",
   "language": "python",
   "name": "python3"
  },
  "language_info": {
   "name": "python",
   "version": "3.9.0"
  }
 },
 "nbformat": 4,
 "nbformat_minor": 4
}
