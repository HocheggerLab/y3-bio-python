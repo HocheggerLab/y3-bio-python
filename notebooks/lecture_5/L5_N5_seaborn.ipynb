{
 "cells": [
  {
   "cell_type": "markdown",
   "metadata": {},
   "source": [
    "# Data Visualization with Seaborn\n",
    "\n",
    "Seaborn is a Python visualization library built on top of matplotlib that makes it easy to create beautiful, informative statistical plots.\n",
    "\n",
    "## Learning Objectives\n",
    "\n",
    "By the end of this notebook, you will be able to:\n",
    "1. Create common plot types with seaborn (scatter, box, violin, heatmap)\n",
    "2. Customize plot styles and color palettes\n",
    "3. Add statistical information to plots automatically\n",
    "4. Create multi-panel figures with seaborn\n",
    "5. Choose the right plot for your data\n",
    "\n",
    "---"
   ]
  },
  {
   "cell_type": "code",
   "execution_count": 1,
   "metadata": {},
   "outputs": [
    {
     "name": "stdout",
     "output_type": "stream",
     "text": [
      "Libraries loaded!\n"
     ]
    }
   ],
   "source": [
    "# Import libraries\n",
    "import pandas as pd\n",
    "import numpy as np\n",
    "import matplotlib.pyplot as plt\n",
    "import seaborn as sns\n",
    "\n",
    "# Set random seed\n",
    "np.random.seed(42)\n",
    "\n",
    "print('Libraries loaded!')"
   ]
  },
  {
   "cell_type": "markdown",
   "metadata": {},
   "source": [
    "---\n",
    "\n",
    "## Load Gene Dependency Data\n",
    "\n",
    "We'll use real DepMap data: gene dependencies in breast and myeloid cancer cell lines."
   ]
  },
  {
   "cell_type": "code",
   "execution_count": 2,
   "metadata": {},
   "outputs": [
    {
     "name": "stdout",
     "output_type": "stream",
     "text": [
      "Dataset shape: (94, 17211)\n",
      "\n",
      "First few columns:\n",
      "['model_id', 'cell_line_name', 'stripped_cell_line_name', 'oncotree_lineage', 'oncotree_primary_disease', 'oncotree_subtype', 'A1BG', 'A1CF', 'A2M', 'A2ML1']\n",
      "\n",
      "Cancer types:\n",
      "oncotree_lineage\n",
      "Breast     53\n",
      "Myeloid    41\n",
      "Name: count, dtype: int64\n"
     ]
    }
   ],
   "source": [
    "# Load data\n",
    "url = \"https://zenodo.org/records/17098555/files/combined_model_crispr_data_filtered.csv?download=1\"\n",
    "df = pd.read_csv(url)\n",
    "\n",
    "print(f'Dataset shape: {df.shape}')\n",
    "print('\\nFirst few columns:')\n",
    "print(df.columns[:10].tolist())\n",
    "print('\\nCancer types:')\n",
    "print(df['oncotree_lineage'].value_counts())"
   ]
  },
  {
   "cell_type": "markdown",
   "metadata": {},
   "source": [
    "---\n",
    "\n",
    "## Part 1: Setting the Style\n",
    "\n",
    "Seaborn has several built-in styles that control the overall look of your plots."
   ]
  },
  {
   "cell_type": "markdown",
   "metadata": {},
   "source": [
    "### Example 1: Comparing Styles"
   ]
  },
  {
   "cell_type": "code",
   "execution_count": null,
   "metadata": {},
   "outputs": [],
   "source": [
    "# Available styles\n",
    "styles = ['darkgrid', 'whitegrid', 'dark', 'white', 'ticks']\n",
    "\n",
    "fig, axes = plt.subplots(2, 3, figsize=(15, 8))\n",
    "axes = axes.flatten()\n",
    "\n",
    "for i, style in enumerate(styles):\n",
    "    sns.set_style(style)\n",
    "    ax = axes[i]\n",
    "    \n",
    "    # Simple scatter plot\n",
    "    ax.scatter(df['BRCA1'][:20], df['TP53'][:20], alpha=0.6)\n",
    "    ax.set_xlabel('BRCA1')\n",
    "    ax.set_ylabel('TP53')\n",
    "    ax.set_title(f'Style: {style}')\n",
    "\n",
    "# Remove extra subplot\n",
    "fig.delaxes(axes[5])\n",
    "\n",
    "plt.tight_layout()\n",
    "plt.show()\n",
    "\n",
    "# Set back to default\n",
    "sns.set_style('whitegrid')\n",
    "print('→ \"whitegrid\" is a good default for scientific plots')"
   ]
  },
  {
   "cell_type": "markdown",
   "metadata": {},
   "source": [
    "### 📝 Practice Question 1\n",
    "\n",
    "**Task:** Try the 'white' style and create a scatter plot of MYC vs ATR expression.\n",
    "\n",
    "Add appropriate axis labels and a title."
   ]
  },
  {
   "cell_type": "code",
   "execution_count": null,
   "metadata": {},
   "outputs": [],
   "source": [
    "# YOUR CODE HERE\n",
    "# Set style to 'white' and create scatter plot\n"
   ]
  },
  {
   "cell_type": "markdown",
   "metadata": {},
   "source": [
    "---\n",
    "\n",
    "## Part 2: Scatter Plots with Regression Lines\n",
    "\n",
    "Seaborn's `regplot()` adds a regression line and confidence interval automatically."
   ]
  },
  {
   "cell_type": "markdown",
   "metadata": {},
   "source": [
    "### Example 2: Basic Regression Plot"
   ]
  },
  {
   "cell_type": "code",
   "execution_count": null,
   "metadata": {},
   "outputs": [],
   "source": [
    "# Create regression plot\n",
    "fig, ax = plt.subplots(figsize=(8, 6))\n",
    "\n",
    "sns.regplot(x='BRCA1', y='TP53', data=df, \n",
    "            scatter_kws={'alpha': 0.5, 's': 50},\n",
    "            line_kws={'color': 'red', 'linewidth': 2},\n",
    "            ax=ax)\n",
    "\n",
    "ax.set_xlabel('BRCA1 Dependency')\n",
    "ax.set_ylabel('TP53 Dependency')\n",
    "ax.set_title('BRCA1 vs TP53 with Regression Line')\n",
    "\n",
    "plt.tight_layout()\n",
    "plt.show()\n",
    "\n",
    "print('→ Shaded area shows 95% confidence interval')"
   ]
  },
  {
   "cell_type": "markdown",
   "metadata": {},
   "source": [
    "### Example 3: Scatter Plot by Category"
   ]
  },
  {
   "cell_type": "code",
   "execution_count": null,
   "metadata": {},
   "outputs": [],
   "source": [
    "# Use lmplot for categorical grouping\n",
    "g = sns.lmplot(x='ATR', y='CHEK1', data=df, \n",
    "               hue='oncotree_lineage',  # Color by cancer type\n",
    "               height=6, aspect=1.3,\n",
    "               scatter_kws={'alpha': 0.6, 's': 50})\n",
    "\n",
    "g.set_axis_labels('ATR Dependency', 'CHEK1 Dependency')\n",
    "plt.title('ATR vs CHEK1 by Cancer Type')\n",
    "plt.tight_layout()\n",
    "plt.show()\n",
    "\n",
    "print('→ Different colors for different cancer types')"
   ]
  },
  {
   "cell_type": "markdown",
   "metadata": {},
   "source": [
    "### 📝 Practice Question 2\n",
    "\n",
    "**Task:** Create a regression plot showing the relationship between RPA1 and ATR.\n",
    "\n",
    "Customize:\n",
    "- Scatter points: green color, size 60, alpha 0.4\n",
    "- Line: purple color, width 3\n",
    "\n",
    "**Hint:** Use `scatter_kws` and `line_kws` parameters"
   ]
  },
  {
   "cell_type": "code",
   "execution_count": null,
   "metadata": {},
   "outputs": [],
   "source": [
    "# YOUR CODE HERE\n",
    "# Create customized regression plot\n"
   ]
  },
  {
   "cell_type": "markdown",
   "metadata": {},
   "source": [
    "---\n",
    "\n",
    "## Part 3: Box Plots and Violin Plots\n",
    "\n",
    "Great for comparing distributions across groups."
   ]
  },
  {
   "cell_type": "markdown",
   "metadata": {},
   "source": [
    "### Example 4: Box Plot"
   ]
  },
  {
   "cell_type": "code",
   "execution_count": null,
   "metadata": {},
   "outputs": [],
   "source": [
    "# Compare ATR dependency between cancer types\n",
    "fig, ax = plt.subplots(figsize=(8, 6))\n",
    "\n",
    "sns.boxplot(x='oncotree_lineage', y='ATR', data=df, ax=ax)\n",
    "\n",
    "ax.set_xlabel('Cancer Type')\n",
    "ax.set_ylabel('ATR Dependency')\n",
    "ax.set_title('ATR Dependency by Cancer Type')\n",
    "\n",
    "plt.tight_layout()\n",
    "plt.show()\n",
    "\n",
    "print('Box shows: median (line), Q1-Q3 (box), whiskers (1.5*IQR), outliers (dots)')"
   ]
  },
  {
   "cell_type": "markdown",
   "metadata": {},
   "source": [
    "### Example 5: Violin Plot (Shows Full Distribution)"
   ]
  },
  {
   "cell_type": "code",
   "execution_count": null,
   "metadata": {},
   "outputs": [],
   "source": [
    "# Violin plot shows distribution shape\n",
    "fig, ax = plt.subplots(figsize=(8, 6))\n",
    "\n",
    "sns.violinplot(x='oncotree_lineage', y='TP53', data=df, ax=ax)\n",
    "\n",
    "ax.set_xlabel('Cancer Type')\n",
    "ax.set_ylabel('TP53 Dependency')\n",
    "ax.set_title('TP53 Dependency Distribution by Cancer Type')\n",
    "\n",
    "plt.tight_layout()\n",
    "plt.show()\n",
    "\n",
    "print('→ Width shows density: wider = more data points at that value')"
   ]
  },
  {
   "cell_type": "markdown",
   "metadata": {},
   "source": [
    "### Example 6: Combined Violin + Box Plot"
   ]
  },
  {
   "cell_type": "code",
   "execution_count": null,
   "metadata": {},
   "outputs": [],
   "source": [
    "# Best of both worlds!\n",
    "fig, ax = plt.subplots(figsize=(8, 6))\n",
    "\n",
    "sns.violinplot(x='oncotree_lineage', y='BRCA1', data=df, \n",
    "               inner='box',  # Add box plot inside\n",
    "               ax=ax)\n",
    "\n",
    "ax.set_xlabel('Cancer Type')\n",
    "ax.set_ylabel('BRCA1 Dependency')\n",
    "ax.set_title('BRCA1: Distribution + Quartiles')\n",
    "\n",
    "plt.tight_layout()\n",
    "plt.show()\n",
    "\n",
    "print('→ Shows both shape (violin) and quartiles (box)')"
   ]
  },
  {
   "cell_type": "markdown",
   "metadata": {},
   "source": [
    "### 📝 Practice Question 3\n",
    "\n",
    "**Task:** Create a box plot comparing MYC dependency between breast and myeloid cancers.\n",
    "\n",
    "Add custom colors using the `palette` parameter:\n",
    "```python\n",
    "palette=['lightblue', 'lightcoral']\n",
    "```"
   ]
  },
  {
   "cell_type": "code",
   "execution_count": null,
   "metadata": {},
   "outputs": [],
   "source": [
    "# YOUR CODE HERE\n",
    "# Create colored box plot\n"
   ]
  },
  {
   "cell_type": "markdown",
   "metadata": {},
   "source": [
    "---\n",
    "\n",
    "## Part 4: Heatmaps\n",
    "\n",
    "Perfect for visualizing correlation matrices or gene expression patterns."
   ]
  },
  {
   "cell_type": "markdown",
   "metadata": {},
   "source": [
    "### Example 7: Correlation Heatmap"
   ]
  },
  {
   "cell_type": "code",
   "execution_count": null,
   "metadata": {},
   "outputs": [],
   "source": [
    "# Select a few interesting genes\n",
    "genes_of_interest = ['ATR', 'ATRIP', 'CHEK1', 'RPA1', 'TP53', 'BRCA1']\n",
    "gene_subset = df[genes_of_interest]\n",
    "\n",
    "# Calculate correlation matrix\n",
    "corr_matrix = gene_subset.corr()\n",
    "\n",
    "# Create heatmap\n",
    "fig, ax = plt.subplots(figsize=(8, 7))\n",
    "\n",
    "sns.heatmap(corr_matrix, \n",
    "            annot=True,  # Show values\n",
    "            fmt='.2f',   # 2 decimal places\n",
    "            cmap='coolwarm',  # Color scheme\n",
    "            center=0,    # Center colormap at 0\n",
    "            square=True,  # Square cells\n",
    "            ax=ax)\n",
    "\n",
    "ax.set_title('Gene Correlation Matrix')\n",
    "plt.tight_layout()\n",
    "plt.show()\n",
    "\n",
    "print('→ Red = positive correlation, Blue = negative correlation')"
   ]
  },
  {
   "cell_type": "markdown",
   "metadata": {},
   "source": [
    "### Example 8: Gene Expression Heatmap (Clustered)"
   ]
  },
  {
   "cell_type": "code",
   "execution_count": null,
   "metadata": {},
   "outputs": [],
   "source": [
    "# Show expression pattern across samples\n",
    "# Take first 10 samples and 8 genes\n",
    "sample_subset = df.iloc[:10]\n",
    "genes_to_plot = ['ATR', 'BRCA1', 'TP53', 'MYC', 'CHEK1', 'RPA1', 'PTEN', 'MDM2']\n",
    "expression_data = sample_subset[genes_to_plot].T  # Transpose: genes as rows\n",
    "\n",
    "# Create clustered heatmap\n",
    "g = sns.clustermap(expression_data, \n",
    "                   cmap='viridis',\n",
    "                   figsize=(10, 6),\n",
    "                   cbar_kws={'label': 'Dependency Score'})\n",
    "\n",
    "g.fig.suptitle('Hierarchical Clustering of Gene Dependencies', y=1.02)\n",
    "plt.show()\n",
    "\n",
    "print('→ Dendrograms show similarity: closer branches = more similar patterns')"
   ]
  },
  {
   "cell_type": "markdown",
   "metadata": {},
   "source": [
    "### 📝 Practice Question 4\n",
    "\n",
    "**Task:** Create a correlation heatmap for these genes: ['MYC', 'PTEN', 'MDM2', 'CDK4']\n",
    "\n",
    "Customize:\n",
    "- Use 'RdBu_r' colormap (red-blue reversed)\n",
    "- Show annotations\n",
    "- Add a title"
   ]
  },
  {
   "cell_type": "code",
   "execution_count": null,
   "metadata": {},
   "outputs": [],
   "source": [
    "# YOUR CODE HERE\n",
    "# Create correlation heatmap\n"
   ]
  },
  {
   "cell_type": "markdown",
   "metadata": {},
   "source": [
    "---\n",
    "\n",
    "## Part 5: Distribution Plots\n",
    "\n",
    "Visualize how data is distributed."
   ]
  },
  {
   "cell_type": "markdown",
   "metadata": {},
   "source": [
    "### Example 9: Histogram with KDE"
   ]
  },
  {
   "cell_type": "code",
   "execution_count": null,
   "metadata": {},
   "outputs": [],
   "source": [
    "# Distribution of ATR dependency\n",
    "fig, ax = plt.subplots(figsize=(8, 5))\n",
    "\n",
    "sns.histplot(df['ATR'], bins=20, kde=True, ax=ax)\n",
    "\n",
    "ax.set_xlabel('ATR Dependency')\n",
    "ax.set_ylabel('Count')\n",
    "ax.set_title('Distribution of ATR Dependency\\n(with kernel density estimate)')\n",
    "\n",
    "plt.tight_layout()\n",
    "plt.show()\n",
    "\n",
    "print('→ KDE (smooth curve) shows estimated probability density')"
   ]
  },
  {
   "cell_type": "markdown",
   "metadata": {},
   "source": [
    "### Example 10: Overlapping Distributions"
   ]
  },
  {
   "cell_type": "code",
   "execution_count": null,
   "metadata": {},
   "outputs": [],
   "source": [
    "# Compare distributions between cancer types\n",
    "fig, ax = plt.subplots(figsize=(10, 6))\n",
    "\n",
    "sns.histplot(data=df, x='TP53', hue='oncotree_lineage', \n",
    "             bins=20, alpha=0.5, kde=True, ax=ax)\n",
    "\n",
    "ax.set_xlabel('TP53 Dependency')\n",
    "ax.set_ylabel('Count')\n",
    "ax.set_title('TP53 Distribution by Cancer Type')\n",
    "\n",
    "plt.tight_layout()\n",
    "plt.show()\n",
    "\n",
    "print('→ Overlapping histograms show if distributions differ between groups')"
   ]
  },
  {
   "cell_type": "markdown",
   "metadata": {},
   "source": [
    "### 📝 Practice Question 5\n",
    "\n",
    "**Task:** Create a histogram of BRCA1 dependency with a KDE overlay.\n",
    "\n",
    "Customize:\n",
    "- Use 25 bins\n",
    "- Color: 'coral'\n",
    "- Add vertical line at the mean (use `ax.axvline()`)"
   ]
  },
  {
   "cell_type": "code",
   "execution_count": null,
   "metadata": {},
   "outputs": [],
   "source": [
    "# YOUR CODE HERE\n",
    "# Create histogram with mean line\n"
   ]
  },
  {
   "cell_type": "markdown",
   "metadata": {},
   "source": [
    "---\n",
    "\n",
    "## Part 6: Multi-Panel Plots\n",
    "\n",
    "Create publication-quality figures with multiple subplots."
   ]
  },
  {
   "cell_type": "markdown",
   "metadata": {},
   "source": [
    "### Example 11: Pairplot (All Pairwise Relationships)"
   ]
  },
  {
   "cell_type": "code",
   "execution_count": null,
   "metadata": {},
   "outputs": [],
   "source": [
    "# Select a few genes and create pairplot\n",
    "genes_for_pairs = ['ATR', 'ATRIP', 'CHEK1', 'RPA1']\n",
    "pair_data = df[genes_for_pairs + ['oncotree_lineage']]\n",
    "\n",
    "g = sns.pairplot(pair_data, hue='oncotree_lineage', \n",
    "                 height=2.5, aspect=1,\n",
    "                 plot_kws={'alpha': 0.6, 's': 30})\n",
    "\n",
    "g.fig.suptitle('Pairwise Gene Correlations', y=1.02)\n",
    "plt.show()\n",
    "\n",
    "print('→ Diagonal: distributions, Off-diagonal: scatter plots')\n",
    "print('→ Great for exploratory analysis!')"
   ]
  },
  {
   "cell_type": "markdown",
   "metadata": {},
   "source": [
    "### Example 12: FacetGrid (Multiple Subplots by Category)"
   ]
  },
  {
   "cell_type": "code",
   "execution_count": null,
   "metadata": {},
   "outputs": [],
   "source": [
    "# Create separate histograms for each cancer type\n",
    "g = sns.FacetGrid(df, col='oncotree_lineage', height=4, aspect=1.2)\n",
    "g.map(sns.histplot, 'ATR', bins=15, kde=True)\n",
    "g.set_axis_labels('ATR Dependency', 'Count')\n",
    "g.fig.suptitle('ATR Distribution by Cancer Type', y=1.02)\n",
    "plt.tight_layout()\n",
    "plt.show()\n",
    "\n",
    "print('→ Side-by-side comparison makes differences clear')"
   ]
  },
  {
   "cell_type": "markdown",
   "metadata": {},
   "source": [
    "### 📝 Practice Question 6\n",
    "\n",
    "**Task:** Create a 2x2 subplot figure showing:\n",
    "- Top left: Box plot of BRCA1 by cancer type\n",
    "- Top right: Violin plot of TP53 by cancer type\n",
    "- Bottom left: Scatter plot of BRCA1 vs TP53\n",
    "- Bottom right: Histogram of ATR\n",
    "\n",
    "**Hint:** Use `plt.subplots(2, 2)` and seaborn functions with `ax=` parameter"
   ]
  },
  {
   "cell_type": "code",
   "execution_count": null,
   "metadata": {},
   "outputs": [],
   "source": [
    "# YOUR CODE HERE\n",
    "# Create 2x2 multi-panel figure\n"
   ]
  },
  {
   "cell_type": "markdown",
   "metadata": {},
   "source": [
    "---\n",
    "\n",
    "## Part 7: Color Palettes\n",
    "\n",
    "Choose colors that make your data clear and accessible."
   ]
  },
  {
   "cell_type": "markdown",
   "metadata": {},
   "source": [
    "### Example 13: Built-in Color Palettes"
   ]
  },
  {
   "cell_type": "code",
   "execution_count": null,
   "metadata": {},
   "outputs": [],
   "source": [
    "# Compare different palettes\n",
    "palettes = ['deep', 'muted', 'bright', 'pastel', 'dark', 'colorblind']\n",
    "\n",
    "fig, axes = plt.subplots(2, 3, figsize=(15, 8))\n",
    "axes = axes.flatten()\n",
    "\n",
    "for i, palette_name in enumerate(palettes):\n",
    "    ax = axes[i]\n",
    "    sns.boxplot(x='oncotree_lineage', y='ATR', data=df, \n",
    "                palette=palette_name, ax=ax)\n",
    "    ax.set_title(f'Palette: {palette_name}')\n",
    "    ax.set_xlabel('')\n",
    "    ax.set_ylabel('ATR Dependency' if i % 3 == 0 else '')\n",
    "\n",
    "plt.tight_layout()\n",
    "plt.show()\n",
    "\n",
    "print('→ \"colorblind\" palette is accessible to people with color vision deficiency')"
   ]
  },
  {
   "cell_type": "markdown",
   "metadata": {},
   "source": [
    "### Example 14: Custom Color Palette"
   ]
  },
  {
   "cell_type": "code",
   "execution_count": null,
   "metadata": {},
   "outputs": [],
   "source": [
    "# Create your own color scheme\n",
    "custom_colors = ['#FF6B6B', '#4ECDC4']  # Red and teal\n",
    "\n",
    "fig, ax = plt.subplots(figsize=(8, 6))\n",
    "\n",
    "sns.violinplot(x='oncotree_lineage', y='CHEK1', data=df,\n",
    "               palette=custom_colors, ax=ax)\n",
    "\n",
    "ax.set_xlabel('Cancer Type')\n",
    "ax.set_ylabel('CHEK1 Dependency')\n",
    "ax.set_title('Custom Color Palette')\n",
    "\n",
    "plt.tight_layout()\n",
    "plt.show()\n",
    "\n",
    "print('→ Use hex codes for precise color control')"
   ]
  },
  {
   "cell_type": "markdown",
   "metadata": {},
   "source": [
    "### 📝 Practice Question 7 (Challenge)\n",
    "\n",
    "**Task:** Create a publication-ready figure with:\n",
    "\n",
    "1. Use the 'white' style with ticks\n",
    "2. Create a 1x2 subplot figure\n",
    "3. Left panel: Scatter plot with regression line (ATR vs RPA1)\n",
    "4. Right panel: Box plot by cancer type (TP53)\n",
    "5. Use 'colorblind' palette\n",
    "6. Add overall title: \"Gene Dependencies in Cancer\"\n",
    "\n",
    "Make it look professional!"
   ]
  },
  {
   "cell_type": "code",
   "execution_count": null,
   "metadata": {},
   "outputs": [],
   "source": [
    "# YOUR CODE HERE\n",
    "# Create publication-quality figure\n"
   ]
  },
  {
   "cell_type": "markdown",
   "metadata": {},
   "source": [
    "---\n",
    "\n",
    "## Summary\n",
    "\n",
    "### Key Seaborn Functions:\n",
    "\n",
    "**1. Scatter & Regression:**\n",
    "```python\n",
    "sns.regplot(x='gene1', y='gene2', data=df)\n",
    "sns.lmplot(x='gene1', y='gene2', hue='group', data=df)\n",
    "```\n",
    "\n",
    "**2. Distributions:**\n",
    "```python\n",
    "sns.boxplot(x='group', y='value', data=df)\n",
    "sns.violinplot(x='group', y='value', data=df)\n",
    "sns.histplot(data=df, x='value', kde=True)\n",
    "```\n",
    "\n",
    "**3. Heatmaps:**\n",
    "```python\n",
    "sns.heatmap(correlation_matrix, annot=True, cmap='coolwarm')\n",
    "sns.clustermap(data, cmap='viridis')\n",
    "```\n",
    "\n",
    "**4. Multi-panel:**\n",
    "```python\n",
    "sns.pairplot(df, hue='group')\n",
    "g = sns.FacetGrid(df, col='category')\n",
    "g.map(sns.histplot, 'value')\n",
    "```\n",
    "\n",
    "### Style Settings:\n",
    "```python\n",
    "sns.set_style('whitegrid')  # or 'white', 'dark', 'ticks'\n",
    "sns.set_palette('colorblind')  # Accessible colors\n",
    "```\n",
    "\n",
    "### Common Parameters:\n",
    "- `data=df` - DataFrame to plot\n",
    "- `x='col1', y='col2'` - Columns to plot\n",
    "- `hue='category'` - Color by category\n",
    "- `palette='colorblind'` - Color scheme\n",
    "- `ax=ax` - Matplotlib axis to use\n",
    "- `alpha=0.5` - Transparency\n",
    "\n",
    "### When to Use Each Plot:\n",
    "\n",
    "| Plot Type | Use When |\n",
    "|-----------|----------|\n",
    "| **regplot/lmplot** | Showing correlation between 2 continuous variables |\n",
    "| **boxplot** | Comparing distributions across groups (shows quartiles) |\n",
    "| **violinplot** | Comparing distributions (shows full shape) |\n",
    "| **heatmap** | Showing correlation matrix or expression patterns |\n",
    "| **histplot** | Showing distribution of single variable |\n",
    "| **pairplot** | Exploring relationships between many variables |\n",
    "\n",
    "### Tips for Publication-Quality Figures:\n",
    "1. Use `sns.set_style('white')` or `'ticks'` for clean look\n",
    "2. Choose `'colorblind'` palette for accessibility\n",
    "3. Add clear axis labels and titles\n",
    "4. Use `plt.tight_layout()` to prevent label overlap\n",
    "5. Set figure size appropriately (`figsize=(8, 6)`)\n",
    "6. Adjust `alpha` for overlapping points\n",
    "\n",
    "### Advantages of Seaborn:\n",
    "- ✅ Less code than pure matplotlib\n",
    "- ✅ Beautiful defaults\n",
    "- ✅ Automatic statistical visualizations\n",
    "- ✅ Easy integration with pandas DataFrames\n",
    "- ✅ Built-in themes and color palettes\n",
    "\n",
    "Remember: Seaborn works **with** matplotlib, not instead of it!"
   ]
  }
 ],
 "metadata": {
  "kernelspec": {
   "display_name": ".venv",
   "language": "python",
   "name": "python3"
  },
  "language_info": {
   "codemirror_mode": {
    "name": "ipython",
    "version": 3
   },
   "file_extension": ".py",
   "mimetype": "text/x-python",
   "name": "python",
   "nbconvert_exporter": "python",
   "pygments_lexer": "ipython3",
   "version": "3.12.10"
  }
 },
 "nbformat": 4,
 "nbformat_minor": 4
}
