{
 "cells": [
  {
   "cell_type": "markdown",
   "metadata": {},
   "source": [
    "# Understanding False Discovery Rate (FDR)\n",
    "\n",
    "When you test many hypotheses at once, you'll get false positives just by chance. False Discovery Rate (FDR) correction helps control how many of your \"significant\" results are actually wrong.\n",
    "\n",
    "## Learning Objectives\n",
    "\n",
    "By the end of this notebook, you will be able to:\n",
    "1. Understand the multiple testing problem\n",
    "2. Explain what FDR means in plain language\n",
    "3. Apply FDR correction using SciPy\n",
    "4. Decide when you need FDR correction\n",
    "5. Interpret FDR-corrected results correctly\n",
    "\n",
    "---"
   ]
  },
  {
   "cell_type": "code",
   "execution_count": 2,
   "metadata": {},
   "outputs": [
    {
     "name": "stdout",
     "output_type": "stream",
     "text": [
      "Libraries loaded!\n"
     ]
    }
   ],
   "source": [
    "# Import libraries\n",
    "import numpy as np\n",
    "import pandas as pd\n",
    "import matplotlib.pyplot as plt\n",
    "from scipy.stats import false_discovery_control\n",
    "\n",
    "# Set random seed for reproducibility\n",
    "np.random.seed(42)\n",
    "\n",
    "print('Libraries loaded!')"
   ]
  },
  {
   "cell_type": "markdown",
   "metadata": {},
   "source": [
    "---\n",
    "\n",
    "## Part 1: The Multiple Testing Problem\n",
    "\n",
    "### The Coin Flip Analogy\n",
    "\n",
    "Imagine you flip a fair coin 100 times. Even though the coin is fair, you'll sometimes get streaks of heads or tails just by chance.\n",
    "\n",
    "**Statistical testing is similar:**\n",
    "- If you test 100 things with α = 0.05 (5% significance level)\n",
    "- You'll expect **5 false positives** just by random chance\n",
    "- These are called **false discoveries**"
   ]
  },
  {
   "cell_type": "markdown",
   "metadata": {},
   "source": [
    "### Example 1: Testing 100 Genes (None are Real)\n",
    "\n",
    "Let's simulate testing 100 genes where **none** actually affect disease risk."
   ]
  },
  {
   "cell_type": "code",
   "execution_count": 3,
   "metadata": {},
   "outputs": [
    {
     "name": "stdout",
     "output_type": "stream",
     "text": [
      "Tested 100 genes (none actually matter)\n",
      "Found 6 \"significant\" results at p < 0.05\n",
      "Expected: ~5 false positives\n",
      "\n",
      "⚠️ All 6 are FALSE POSITIVES!\n"
     ]
    }
   ],
   "source": [
    "# Simulate 100 p-values from null hypothesis (no real effect)\n",
    "# These p-values should be uniformly distributed\n",
    "n_tests = 100\n",
    "null_pvalues = np.random.uniform(0, 1, n_tests)\n",
    "\n",
    "# Count how many are \"significant\" at p < 0.05\n",
    "false_positives = (null_pvalues < 0.05).sum()\n",
    "\n",
    "print(f'Tested {n_tests} genes (none actually matter)')\n",
    "print(f'Found {false_positives} \"significant\" results at p < 0.05')\n",
    "print(f'Expected: ~{n_tests * 0.05:.0f} false positives')\n",
    "print(f'\\n⚠️ All {false_positives} are FALSE POSITIVES!')"
   ]
  },
  {
   "cell_type": "code",
   "execution_count": 4,
   "metadata": {},
   "outputs": [
    {
     "data": {
      "image/png": "[encoded data removed]",
      "text/plain": [
       "<Figure size 1000x500 with 1 Axes>"
      ]
     },
     "metadata": {},
     "output_type": "display_data"
    },
    {
     "name": "stdout",
     "output_type": "stream",
     "text": [
      "→ P-values are uniformly distributed when there's no real effect\n"
     ]
    }
   ],
   "source": [
    "# Visualize the p-values\n",
    "fig, ax = plt.subplots(figsize=(10, 5))\n",
    "ax.hist(null_pvalues, bins=20, color='gray', alpha=0.7, edgecolor='black')\n",
    "ax.axhline(n_tests/20, color='blue', linestyle='--', label='Expected (uniform)')\n",
    "ax.axvline(0.05, color='red', linestyle='--', linewidth=2, label='p = 0.05 cutoff')\n",
    "ax.set_xlabel('P-value')\n",
    "ax.set_ylabel('Count')\n",
    "ax.set_title('P-values from 100 Null Tests\\n(No real effects, all uniform)')\n",
    "ax.legend()\n",
    "plt.tight_layout()\n",
    "plt.show()\n",
    "\n",
    "print('→ P-values are uniformly distributed when there\\'s no real effect')"
   ]
  },
  {
   "cell_type": "markdown",
   "metadata": {},
   "source": [
    "### 📝 Practice Question 1\n",
    "\n",
    "**Task:** You're testing 500 brain regions for activity during a task, but actually **none** show real activity.\n",
    "\n",
    "If you use p < 0.05, how many regions would you **expect** to call \"significant\" by chance?\n",
    "\n",
    "Calculate: `500 * 0.05 = ?`"
   ]
  },
  {
   "cell_type": "code",
   "execution_count": null,
   "metadata": {},
   "outputs": [],
   "source": [
    "# YOUR CODE HERE\n",
    "# Calculate expected false positives for 500 tests\n"
   ]
  },
  {
   "cell_type": "markdown",
   "metadata": {},
   "source": [
    "## Part 3: Real Example - Gene Expression Study\n",
    "\n",
    "### Scenario: Cancer vs Normal Tissue\n",
    "\n",
    "You measure 20 genes in cancer vs normal tissue. Let's create realistic data:\n",
    "- **5 genes** truly different (real effects)\n",
    "- **15 genes** no difference (null)"
   ]
  },
  {
   "cell_type": "markdown",
   "metadata": {},
   "source": [
    "---\n",
    "\n",
    "## Part 2: What is False Discovery Rate (FDR)?\n",
    "\n",
    "### Definition (Simple)\n",
    "\n",
    "**FDR** = The proportion of your \"discoveries\" that are actually false\n",
    "\n",
    "```\n",
    "FDR = False Positives / Total Positives\n",
    "```\n",
    "\n",
    "### Example:\n",
    "- You test 1000 genes\n",
    "- 50 come back \"significant\"\n",
    "- 5 of these are false positives\n",
    "- **FDR = 5/50 = 0.10 = 10%**\n",
    "\n",
    "This means: \"10% of my discoveries are wrong\"\n",
    "\n",
    "### FDR Control Goal:\n",
    "Keep FDR below a threshold (usually 5% or 10%)\n",
    "\n",
    "---"
   ]
  },
  {
   "cell_type": "code",
   "execution_count": null,
   "metadata": {},
   "outputs": [],
   "source": [
    "# Create realistic p-values\n",
    "# 5 genes with real effects (small p-values)\n",
    "real_effect_pvalues = np.array([0.001, 0.003, 0.008, 0.012, 0.025])\n",
    "\n",
    "# 15 genes with no effect (random p-values)\n",
    "no_effect_pvalues = np.array([0.052, 0.089, 0.123, 0.234, 0.345, \n",
    "                               0.456, 0.567, 0.678, 0.789, 0.832,\n",
    "                               0.891, 0.912, 0.945, 0.967, 0.989])\n",
    "\n",
    "# Combine all p-values\n",
    "all_pvalues = np.concatenate([real_effect_pvalues, no_effect_pvalues])\n",
    "\n",
    "# Gene names\n",
    "genes = [f'Gene_{i+1}' for i in range(20)]\n",
    "truth = ['TRUE EFFECT']*5 + ['NO EFFECT']*15\n",
    "\n",
    "# Create DataFrame\n",
    "df = pd.DataFrame({\n",
    "    'gene': genes,\n",
    "    'p_value': all_pvalues,\n",
    "    'truth': truth\n",
    "})\n",
    "\n",
    "print('Gene expression study results:')\n",
    "print(df)"
   ]
  },
  {
   "cell_type": "markdown",
   "metadata": {},
   "source": [
    "### Without FDR Correction - Using p < 0.05"
   ]
  },
  {
   "cell_type": "code",
   "execution_count": null,
   "metadata": {},
   "outputs": [],
   "source": [
    "# Mark as significant using traditional p < 0.05\n",
    "df['significant_uncorrected'] = df['p_value'] < 0.05\n",
    "\n",
    "# Count results\n",
    "uncorrected_sig = df[df['significant_uncorrected']]\n",
    "true_positives = uncorrected_sig[uncorrected_sig['truth'] == 'TRUE EFFECT']\n",
    "false_positives = uncorrected_sig[uncorrected_sig['truth'] == 'NO EFFECT']\n",
    "\n",
    "print('=== Without FDR Correction (p < 0.05) ===')\n",
    "print(f'Total \"significant\": {len(uncorrected_sig)}')\n",
    "print(f'  True positives: {len(true_positives)}')\n",
    "print(f'  False positives: {len(false_positives)}')\n",
    "\n",
    "if len(uncorrected_sig) > 0:\n",
    "    fdr_observed = len(false_positives) / len(uncorrected_sig)\n",
    "    print(f'\\nObserved FDR: {fdr_observed:.2%}')\n",
    "    print(f'→ {fdr_observed:.0%} of our \"discoveries\" are wrong!')"
   ]
  },
  {
   "cell_type": "markdown",
   "metadata": {},
   "source": [
    "### With FDR Correction - Using SciPy"
   ]
  },
  {
   "cell_type": "code",
   "execution_count": null,
   "metadata": {},
   "outputs": [],
   "source": [
    "# Apply FDR correction\n",
    "fdr_corrected = false_discovery_control(df['p_value'], method='bh')\n",
    "df['fdr_corrected'] = fdr_corrected\n",
    "df['significant_fdr'] = fdr_corrected < 0.05\n",
    "\n",
    "# Count results\n",
    "fdr_sig = df[df['significant_fdr']]\n",
    "true_positives_fdr = fdr_sig[fdr_sig['truth'] == 'TRUE EFFECT']\n",
    "false_positives_fdr = fdr_sig[fdr_sig['truth'] == 'NO EFFECT']\n",
    "\n",
    "print('=== With FDR Correction (FDR < 0.05) ===')\n",
    "print(f'Total significant: {len(fdr_sig)}')\n",
    "print(f'  True positives: {len(true_positives_fdr)}')\n",
    "print(f'  False positives: {len(false_positives_fdr)}')\n",
    "\n",
    "if len(fdr_sig) > 0:\n",
    "    fdr_observed_corrected = len(false_positives_fdr) / len(fdr_sig)\n",
    "    print(f'\\nObserved FDR: {fdr_observed_corrected:.2%}')\n",
    "    print(f'✓ FDR is now controlled!')\n",
    "\n",
    "print('\\nResults:')\n",
    "print(df[['gene', 'p_value', 'fdr_corrected', 'significant_fdr', 'truth']])"
   ]
  },
  {
   "cell_type": "code",
   "execution_count": null,
   "metadata": {},
   "outputs": [],
   "source": [
    "# Visualize the difference\n",
    "fig, axes = plt.subplots(1, 2, figsize=(14, 5))\n",
    "\n",
    "# Plot 1: P-values\n",
    "colors = ['red' if t == 'TRUE EFFECT' else 'blue' for t in df['truth']]\n",
    "axes[0].scatter(range(len(df)), df['p_value'], c=colors, s=100, alpha=0.6)\n",
    "axes[0].axhline(0.05, color='black', linestyle='--', label='p = 0.05')\n",
    "axes[0].set_xlabel('Gene')\n",
    "axes[0].set_ylabel('P-value')\n",
    "axes[0].set_title('Original P-values\\n(Red = true effect, Blue = no effect)')\n",
    "axes[0].legend()\n",
    "axes[0].grid(alpha=0.3)\n",
    "\n",
    "# Plot 2: FDR-corrected\n",
    "axes[1].scatter(range(len(df)), df['fdr_corrected'], c=colors, s=100, alpha=0.6)\n",
    "axes[1].axhline(0.05, color='black', linestyle='--', label='FDR = 0.05')\n",
    "axes[1].set_xlabel('Gene')\n",
    "axes[1].set_ylabel('FDR-corrected p-value')\n",
    "axes[1].set_title('After FDR Correction\\n(Threshold is more stringent)')\n",
    "axes[1].legend()\n",
    "axes[1].grid(alpha=0.3)\n",
    "\n",
    "plt.tight_layout()\n",
    "plt.show()\n",
    "\n",
    "print('→ FDR correction makes the threshold stricter to control false discoveries')"
   ]
  },
  {
   "cell_type": "markdown",
   "metadata": {},
   "source": [
    "### 📝 Practice Question 2\n",
    "\n",
    "**Task:** Look at the results above. How many true positive genes did we **lose** by applying FDR correction?\n",
    "\n",
    "Calculate: (true positives without correction) - (true positives with correction)\n",
    "\n",
    "**Discussion:** Is this tradeoff worth it?"
   ]
  },
  {
   "cell_type": "code",
   "execution_count": null,
   "metadata": {},
   "outputs": [],
   "source": [
    "# YOUR CODE HERE\n",
    "# Count true positives lost\n"
   ]
  },
  {
   "cell_type": "markdown",
   "metadata": {},
   "source": [
    "---\n",
    "\n",
    "## Part 4: Real Biology Examples\n",
    "\n",
    "Let's see FDR correction in different biological contexts."
   ]
  },
  {
   "cell_type": "markdown",
   "metadata": {},
   "source": [
    "### Example 2: Neuroscience - Brain Region Activity"
   ]
  },
  {
   "cell_type": "code",
   "execution_count": null,
   "metadata": {},
   "outputs": [],
   "source": [
    "# Test 50 brain regions for activity during memory task\n",
    "# 3 regions truly active, 47 not active\n",
    "\n",
    "active_regions = np.array([0.0001, 0.0008, 0.003])  # 3 truly active\n",
    "inactive_regions = np.random.uniform(0.05, 0.95, 47)  # 47 not active\n",
    "\n",
    "brain_pvalues = np.concatenate([active_regions, inactive_regions])\n",
    "regions = [f'Region_{i+1}' for i in range(50)]\n",
    "\n",
    "brain_df = pd.DataFrame({\n",
    "    'region': regions,\n",
    "    'p_value': brain_pvalues\n",
    "})\n",
    "\n",
    "# Apply FDR\n",
    "brain_df['fdr'] = false_discovery_control(brain_df['p_value'], method='bh')\n",
    "brain_df['significant'] = brain_df['fdr'] < 0.05\n",
    "\n",
    "print('=== Brain Activity Study ===')\n",
    "print(f'Regions tested: {len(brain_df)}')\n",
    "print(f'Significant (FDR < 0.05): {brain_df[\"significant\"].sum()}')\n",
    "print('\\nSignificant regions:')\n",
    "print(brain_df[brain_df['significant']][['region', 'p_value', 'fdr']])"
   ]
  },
  {
   "cell_type": "markdown",
   "metadata": {},
   "source": [
    "### Example 3: Ecology - Species Abundance"
   ]
  },
  {
   "cell_type": "code",
   "execution_count": null,
   "metadata": {},
   "outputs": [],
   "source": [
    "# Test 30 species for abundance differences between habitats\n",
    "# 4 species truly different, 26 no difference\n",
    "\n",
    "different_species = np.array([0.002, 0.005, 0.015, 0.028])  # 4 truly different\n",
    "same_species = np.random.uniform(0.1, 0.9, 26)  # 26 no difference\n",
    "\n",
    "species_pvalues = np.concatenate([different_species, same_species])\n",
    "species_names = [f'Species_{i+1}' for i in range(30)]\n",
    "\n",
    "ecology_df = pd.DataFrame({\n",
    "    'species': species_names,\n",
    "    'p_value': species_pvalues\n",
    "})\n",
    "\n",
    "# Apply FDR\n",
    "ecology_df['fdr'] = false_discovery_control(ecology_df['p_value'], method='bh')\n",
    "ecology_df['significant'] = ecology_df['fdr'] < 0.10  # Using 10% FDR\n",
    "\n",
    "print('=== Ecology Study (Habitat Comparison) ===')\n",
    "print(f'Species tested: {len(ecology_df)}')\n",
    "print(f'Significant (FDR < 0.10): {ecology_df[\"significant\"].sum()}')\n",
    "print('\\nSpecies with different abundances:')\n",
    "print(ecology_df[ecology_df['significant']][['species', 'p_value', 'fdr']])"
   ]
  },
  {
   "cell_type": "markdown",
   "metadata": {},
   "source": [
    "### Example 4: Cell Biology - Protein Phosphorylation Sites"
   ]
  },
  {
   "cell_type": "code",
   "execution_count": null,
   "metadata": {},
   "outputs": [],
   "source": [
    "# Test 100 phosphorylation sites for drug response\n",
    "# 8 sites truly respond, 92 don't\n",
    "\n",
    "responsive_sites = np.array([0.0001, 0.0003, 0.001, 0.002, 0.005, 0.008, 0.012, 0.018])\n",
    "non_responsive = np.random.uniform(0.05, 0.95, 92)\n",
    "\n",
    "sites_pvalues = np.concatenate([responsive_sites, non_responsive])\n",
    "sites = [f'pSite_{i+1}' for i in range(100)]\n",
    "\n",
    "phospho_df = pd.DataFrame({\n",
    "    'site': sites,\n",
    "    'p_value': sites_pvalues\n",
    "})\n",
    "\n",
    "# Compare with and without FDR\n",
    "phospho_df['fdr'] = false_discovery_control(phospho_df['p_value'], method='bh')\n",
    "phospho_df['sig_uncorrected'] = phospho_df['p_value'] < 0.05\n",
    "phospho_df['sig_fdr'] = phospho_df['fdr'] < 0.05\n",
    "\n",
    "print('=== Phosphoproteomics Study ===')\n",
    "print(f'Sites tested: {len(phospho_df)}')\n",
    "print(f'\\nWithout FDR (p < 0.05): {phospho_df[\"sig_uncorrected\"].sum()} sites')\n",
    "print(f'With FDR (FDR < 0.05): {phospho_df[\"sig_fdr\"].sum()} sites')\n",
    "print(f'\\nReduction: {phospho_df[\"sig_uncorrected\"].sum() - phospho_df[\"sig_fdr\"].sum()} false positives removed')"
   ]
  },
  {
   "cell_type": "markdown",
   "metadata": {},
   "source": [
    "### 📝 Practice Question 3\n",
    "\n",
    "**Task:** You're testing 200 metabolites for differences between diet groups.\n",
    "\n",
    "Create synthetic data:\n",
    "- 10 metabolites with true differences (p-values: 0.0001 to 0.01)\n",
    "- 190 metabolites with no differences (random p-values: 0.1 to 0.9)\n",
    "\n",
    "Apply FDR correction and report how many are significant at FDR < 0.05."
   ]
  },
  {
   "cell_type": "code",
   "execution_count": null,
   "metadata": {},
   "outputs": [],
   "source": [
    "# YOUR CODE HERE\n",
    "# Create metabolite data and apply FDR correction\n"
   ]
  },
  {
   "cell_type": "markdown",
   "metadata": {},
   "source": [
    "---\n",
    "\n",
    "## Part 5: When Do You Need FDR Correction?\n",
    "\n",
    "### Decision Guide:\n",
    "\n",
    "| Number of Tests | Action |\n",
    "|----------------|--------|\n",
    "| 1-5 tests | Usually no correction needed |\n",
    "| 5-20 tests | Consider correction (optional) |\n",
    "| 20-100 tests | **FDR correction recommended** |\n",
    "| 100+ tests | **FDR correction essential** |\n",
    "| 1000+ tests | **FDR correction absolutely required** |\n",
    "\n",
    "### Real-World Examples:\n",
    "\n",
    "**✅ Use FDR when:**\n",
    "- Testing 20,000 genes for expression differences\n",
    "- Testing 100 brain regions for activity\n",
    "- Testing 500 metabolites in blood samples\n",
    "- Testing 50 species across habitats\n",
    "\n",
    "**❌ Don't need FDR when:**\n",
    "- Testing one gene for expression\n",
    "- Comparing two groups with t-test\n",
    "- Testing pre-specified hypothesis (single test)"
   ]
  },
  {
   "cell_type": "markdown",
   "metadata": {},
   "source": [
    "---\n",
    "\n",
    "## Part 6: How to Use FDR in Your Analysis\n",
    "\n",
    "### Step-by-Step Recipe:"
   ]
  },
  {
   "cell_type": "code",
   "execution_count": null,
   "metadata": {},
   "outputs": [],
   "source": [
    "# Example: Complete workflow\n",
    "from scipy.stats import ttest_ind, false_discovery_control\n",
    "\n",
    "# 1. Run your tests and collect p-values\n",
    "# (Example: testing 50 genes)\n",
    "np.random.seed(123)\n",
    "n_genes = 50\n",
    "\n",
    "# Simulate some data\n",
    "control = np.random.normal(5, 1, (10, n_genes))  # 10 samples, 50 genes\n",
    "treatment = np.random.normal(5, 1, (10, n_genes))  # Same (mostly null)\n",
    "\n",
    "# Make 3 genes truly different\n",
    "treatment[:, [0, 5, 10]] += 2  # Increase expression in 3 genes\n",
    "\n",
    "# Run t-tests\n",
    "gene_names = [f'Gene_{i+1}' for i in range(n_genes)]\n",
    "pvalues = []\n",
    "\n",
    "for i in range(n_genes):\n",
    "    t, p = ttest_ind(control[:, i], treatment[:, i])\n",
    "    pvalues.append(p)\n",
    "\n",
    "# 2. Create DataFrame\n",
    "results = pd.DataFrame({\n",
    "    'gene': gene_names,\n",
    "    'p_value': pvalues\n",
    "})\n",
    "\n",
    "# 3. Apply FDR correction\n",
    "results['fdr'] = false_discovery_control(results['p_value'], method='bh')\n",
    "\n",
    "# 4. Mark significant results\n",
    "results['significant'] = results['fdr'] < 0.05\n",
    "\n",
    "# 5. Report results\n",
    "print('=== Analysis Results ===')\n",
    "print(f'Total genes tested: {len(results)}')\n",
    "print(f'Significant (FDR < 0.05): {results[\"significant\"].sum()}')\n",
    "print('\\nSignificant genes:')\n",
    "print(results[results['significant']])"
   ]
  },
  {
   "cell_type": "markdown",
   "metadata": {},
   "source": [
    "### 📝 Practice Question 4 (Final Challenge)\n",
    "\n",
    "**Task:** You're comparing gene expression in 3 conditions (healthy, disease_A, disease_B).\n",
    "\n",
    "You test 100 genes and get these p-value counts:\n",
    "- Healthy vs Disease_A: 100 p-values\n",
    "- Healthy vs Disease_B: 100 p-values  \n",
    "- Disease_A vs Disease_B: 100 p-values\n",
    "\n",
    "**Total: 300 p-values**\n",
    "\n",
    "Generate synthetic data (10 true effects in each comparison, rest null) and apply FDR correction to all 300 p-values together.\n",
    "\n",
    "**Important:** Apply FDR to ALL tests combined, not separately!"
   ]
  },
  {
   "cell_type": "code",
   "execution_count": null,
   "metadata": {},
   "outputs": [],
   "source": [
    "# YOUR CODE HERE\n",
    "# Create 3 comparisons with 100 tests each\n",
    "# Combine all p-values and apply FDR correction\n"
   ]
  },
  {
   "cell_type": "markdown",
   "metadata": {},
   "source": [
    "---\n",
    "\n",
    "## Summary\n",
    "\n",
    "### Key Concepts:\n",
    "\n",
    "**1. The Problem:**\n",
    "- Testing multiple hypotheses → get false positives by chance\n",
    "- At p < 0.05, expect 5% false positives\n",
    "- With 100 tests, that's ~5 false discoveries!\n",
    "\n",
    "**2. The Solution:**\n",
    "- FDR correction controls the proportion of false discoveries\n",
    "- Most common method: Benjamini-Hochberg (BH)\n",
    "- Use `false_discovery_control()` from SciPy\n",
    "\n",
    "**3. How It Works:**\n",
    "```python\n",
    "from scipy.stats import false_discovery_control\n",
    "\n",
    "# Adjust p-values\n",
    "fdr_pvalues = false_discovery_control(original_pvalues, method='bh')\n",
    "\n",
    "# Test at FDR threshold (usually 0.05 or 0.10)\n",
    "significant = fdr_pvalues < 0.05\n",
    "```\n",
    "\n",
    "**4. Interpretation:**\n",
    "- FDR < 0.05 means: \"Less than 5% of discoveries are expected to be false\"\n",
    "- More stringent than uncorrected p-values\n",
    "- Balances sensitivity (finding true effects) vs specificity (avoiding false positives)\n",
    "\n",
    "**5. When to Use:**\n",
    "- **Always** when testing >20 hypotheses\n",
    "- Genomics (thousands of genes)\n",
    "- Neuroimaging (hundreds of brain regions)\n",
    "- Metabolomics (hundreds of metabolites)\n",
    "- Ecological surveys (many species)\n",
    "\n",
    "### Common Thresholds:\n",
    "- **FDR < 0.05** (5%): Standard for most studies\n",
    "- **FDR < 0.10** (10%): More lenient, exploratory studies\n",
    "- **FDR < 0.01** (1%): Very stringent, high-stakes studies\n",
    "\n",
    "### Remember:\n",
    "1. **Collect all p-values first**, then apply FDR to all at once\n",
    "2. FDR adjusts p-values upward (makes them larger/more conservative)\n",
    "3. Some true effects may be lost, but false positives are controlled\n",
    "4. This is the **right tradeoff** for reliable science!\n",
    "\n",
    "---\n",
    "\n",
    "### Further Reading:\n",
    "- Benjamini & Hochberg (1995): Original FDR paper\n",
    "- `scipy.stats.false_discovery_control` documentation\n",
    "- \"Multiple testing\" chapter in statistics textbooks"
   ]
  }
 ],
 "metadata": {
  "kernelspec": {
   "display_name": ".venv",
   "language": "python",
   "name": "python3"
  },
  "language_info": {
   "codemirror_mode": {
    "name": "ipython",
    "version": 3
   },
   "file_extension": ".py",
   "mimetype": "text/x-python",
   "name": "python",
   "nbconvert_exporter": "python",
   "pygments_lexer": "ipython3",
   "version": "3.12.10"
  }
 },
 "nbformat": 4,
 "nbformat_minor": 4
}
