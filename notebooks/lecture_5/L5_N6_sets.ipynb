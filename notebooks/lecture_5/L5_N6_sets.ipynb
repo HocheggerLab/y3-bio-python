{
 "cells": [
  {
   "cell_type": "markdown",
   "metadata": {},
   "source": [
    "# Python Sets: Comparing Groups of Data\n",
    "\n",
    "Sets are a powerful Python data structure for working with unique items and comparing groups. They're especially useful in biology for finding overlaps, differences, and unique elements.\n",
    "\n",
    "## Learning Objectives\n",
    "\n",
    "By the end of this notebook, you will be able to:\n",
    "1. Understand the difference between sets and lists\n",
    "2. Create and manipulate sets\n",
    "3. Use set operations (union, intersection, difference)\n",
    "4. Apply sets to real biology problems\n",
    "5. Visualize set relationships with Venn diagrams\n",
    "\n",
    "---"
   ]
  },
  {
   "cell_type": "code",
   "execution_count": null,
   "metadata": {},
   "outputs": [],
   "source": [
    "# Import libraries\n",
    "import matplotlib.pyplot as plt\n",
    "from matplotlib_venn import venn2, venn3\n",
    "\n",
    "print('Libraries loaded!')"
   ]
  },
  {
   "cell_type": "markdown",
   "metadata": {},
   "source": [
    "---\n",
    "\n",
    "## Part 1: Lists vs Sets\n",
    "\n",
    "### What's the Difference?"
   ]
  },
  {
   "cell_type": "markdown",
   "metadata": {},
   "source": [
    "### Example 1: Lists Allow Duplicates"
   ]
  },
  {
   "cell_type": "code",
   "execution_count": null,
   "metadata": {},
   "outputs": [],
   "source": [
    "# List of genes (can have duplicates)\n",
    "gene_list = ['TP53', 'BRCA1', 'TP53', 'MYC', 'BRCA1', 'ATR']\n",
    "\n",
    "print('Gene list:')\n",
    "print(gene_list)\n",
    "print(f'Length: {len(gene_list)}')\n",
    "print(f'\\n→ Lists keep duplicates: TP53 and BRCA1 appear twice')"
   ]
  },
  {
   "cell_type": "markdown",
   "metadata": {},
   "source": [
    "### Example 2: Sets Remove Duplicates Automatically"
   ]
  },
  {
   "cell_type": "code",
   "execution_count": null,
   "metadata": {},
   "outputs": [],
   "source": [
    "# Convert list to set\n",
    "gene_set = set(gene_list)\n",
    "\n",
    "print('Gene set:')\n",
    "print(gene_set)\n",
    "print(f'Length: {len(gene_set)}')\n",
    "print(f'\\n→ Sets keep only unique items: each gene appears once')"
   ]
  },
  {
   "cell_type": "markdown",
   "metadata": {},
   "source": [
    "### Example 3: Key Differences"
   ]
  },
  {
   "cell_type": "code",
   "execution_count": null,
   "metadata": {},
   "outputs": [],
   "source": [
    "print('=== Lists vs Sets ===')\n",
    "print('\\nLists:')\n",
    "print('  - Created with: [1, 2, 3]')\n",
    "print('  - Allow duplicates: YES')\n",
    "print('  - Ordered: YES (keeps insertion order)')\n",
    "print('  - Indexed: YES (can use list[0])')\n",
    "print('  - Use when: Order matters, need duplicates')\n",
    "\n",
    "print('\\nSets:')\n",
    "print('  - Created with: {1, 2, 3} or set([1, 2, 3])')\n",
    "print('  - Allow duplicates: NO (automatic removal)')\n",
    "print('  - Ordered: NO (order not guaranteed)')\n",
    "print('  - Indexed: NO (cannot use set[0])')\n",
    "print('  - Use when: Need unique items, comparing groups')"
   ]
  },
  {
   "cell_type": "markdown",
   "metadata": {},
   "source": [
    "### 📝 Practice Question 1\n",
    "\n",
    "**Task:** You have a list of species observed in a habitat survey (some seen multiple times):\n",
    "\n",
    "```python\n",
    "species_list = ['Fox', 'Rabbit', 'Deer', 'Fox', 'Rabbit', 'Owl', 'Fox', 'Deer']\n",
    "```\n",
    "\n",
    "Convert to a set to find how many **unique** species were observed."
   ]
  },
  {
   "cell_type": "code",
   "execution_count": null,
   "metadata": {},
   "outputs": [],
   "source": [
    "# YOUR CODE HERE\n",
    "# Convert to set and count unique species\n"
   ]
  },
  {
   "cell_type": "markdown",
   "metadata": {},
   "source": [
    "---\n",
    "\n",
    "## Part 2: Creating Sets\n",
    "\n",
    "Multiple ways to create sets in Python."
   ]
  },
  {
   "cell_type": "markdown",
   "metadata": {},
   "source": [
    "### Example 4: Different Ways to Create Sets"
   ]
  },
  {
   "cell_type": "code",
   "execution_count": null,
   "metadata": {},
   "outputs": [],
   "source": [
    "# Method 1: Curly braces\n",
    "genes1 = {'TP53', 'BRCA1', 'MYC'}\n",
    "print('Method 1 (curly braces):', genes1)\n",
    "\n",
    "# Method 2: set() function with list\n",
    "genes2 = set(['TP53', 'BRCA1', 'MYC'])\n",
    "print('Method 2 (set function):', genes2)\n",
    "\n",
    "# Method 3: Empty set (must use set(), not {})\n",
    "empty_set = set()\n",
    "print('Method 3 (empty set):', empty_set)\n",
    "\n",
    "# WARNING: {} creates an empty dictionary, not a set!\n",
    "not_a_set = {}\n",
    "print('\\nWarning: {} is a:', type(not_a_set))"
   ]
  },
  {
   "cell_type": "markdown",
   "metadata": {},
   "source": [
    "### Example 5: Adding Items to Sets"
   ]
  },
  {
   "cell_type": "code",
   "execution_count": null,
   "metadata": {},
   "outputs": [],
   "source": [
    "# Start with empty set\n",
    "genes = set()\n",
    "print('Initial:', genes)\n",
    "\n",
    "# Add single item\n",
    "genes.add('TP53')\n",
    "print('After add(\"TP53\"):', genes)\n",
    "\n",
    "# Add duplicate (no effect)\n",
    "genes.add('TP53')\n",
    "print('After add(\"TP53\") again:', genes)\n",
    "\n",
    "# Add multiple items\n",
    "genes.update(['BRCA1', 'MYC', 'ATR'])\n",
    "print('After update():', genes)\n",
    "\n",
    "print('\\n→ Duplicates are automatically ignored')"
   ]
  },
  {
   "cell_type": "markdown",
   "metadata": {},
   "source": [
    "### 📝 Practice Question 2\n",
    "\n",
    "**Task:** Create a set of metabolites and add items to it:\n",
    "\n",
    "1. Start with an empty set\n",
    "2. Add 'glucose', 'ATP', 'pyruvate'\n",
    "3. Try adding 'glucose' again\n",
    "4. Print the final set and its length"
   ]
  },
  {
   "cell_type": "code",
   "execution_count": null,
   "metadata": {},
   "outputs": [],
   "source": [
    "# YOUR CODE HERE\n",
    "# Create and populate metabolite set\n"
   ]
  },
  {
   "cell_type": "markdown",
   "metadata": {},
   "source": [
    "---\n",
    "\n",
    "## Part 3: Set Operations\n",
    "\n",
    "The real power of sets: comparing groups!"
   ]
  },
  {
   "cell_type": "markdown",
   "metadata": {},
   "source": [
    "### Example 6: Union (All Items from Both Sets)"
   ]
  },
  {
   "cell_type": "code",
   "execution_count": null,
   "metadata": {},
   "outputs": [],
   "source": [
    "# Genes upregulated in two experiments\n",
    "experiment_1 = {'TP53', 'BRCA1', 'MYC', 'ATR'}\n",
    "experiment_2 = {'BRCA1', 'PTEN', 'MDM2', 'ATR'}\n",
    "\n",
    "print('Experiment 1:', experiment_1)\n",
    "print('Experiment 2:', experiment_2)\n",
    "\n",
    "# Union: all genes from either experiment\n",
    "all_genes = experiment_1.union(experiment_2)\n",
    "# Or: all_genes = experiment_1 | experiment_2\n",
    "\n",
    "print('\\nUnion (all genes):', all_genes)\n",
    "print(f'Total unique genes: {len(all_genes)}')\n",
    "print('\\n→ Union includes everything from both sets')"
   ]
  },
  {
   "cell_type": "markdown",
   "metadata": {},
   "source": [
    "### Example 7: Intersection (Common Items)"
   ]
  },
  {
   "cell_type": "code",
   "execution_count": null,
   "metadata": {},
   "outputs": [],
   "source": [
    "# What genes are upregulated in BOTH experiments?\n",
    "common_genes = experiment_1.intersection(experiment_2)\n",
    "# Or: common_genes = experiment_1 & experiment_2\n",
    "\n",
    "print('Experiment 1:', experiment_1)\n",
    "print('Experiment 2:', experiment_2)\n",
    "print('\\nIntersection (common):', common_genes)\n",
    "print(f'Number of shared genes: {len(common_genes)}')\n",
    "print('\\n→ Intersection shows overlap between sets')"
   ]
  },
  {
   "cell_type": "markdown",
   "metadata": {},
   "source": [
    "### Example 8: Difference (Items in First but Not Second)"
   ]
  },
  {
   "cell_type": "code",
   "execution_count": null,
   "metadata": {},
   "outputs": [],
   "source": [
    "# What genes are unique to experiment 1?\n",
    "unique_to_exp1 = experiment_1.difference(experiment_2)\n",
    "# Or: unique_to_exp1 = experiment_1 - experiment_2\n",
    "\n",
    "print('Experiment 1:', experiment_1)\n",
    "print('Experiment 2:', experiment_2)\n",
    "print('\\nUnique to Experiment 1:', unique_to_exp1)\n",
    "\n",
    "# What genes are unique to experiment 2?\n",
    "unique_to_exp2 = experiment_2.difference(experiment_1)\n",
    "print('Unique to Experiment 2:', unique_to_exp2)\n",
    "\n",
    "print('\\n→ Difference shows what is in one set but not the other')"
   ]
  },
  {
   "cell_type": "markdown",
   "metadata": {},
   "source": [
    "### Example 9: Symmetric Difference (Unique to Each, Not Shared)"
   ]
  },
  {
   "cell_type": "code",
   "execution_count": null,
   "metadata": {},
   "outputs": [],
   "source": [
    "# Genes that are in one experiment OR the other, but NOT both\n",
    "unique_genes = experiment_1.symmetric_difference(experiment_2)\n",
    "# Or: unique_genes = experiment_1 ^ experiment_2\n",
    "\n",
    "print('Experiment 1:', experiment_1)\n",
    "print('Experiment 2:', experiment_2)\n",
    "print('\\nSymmetric difference:', unique_genes)\n",
    "print('\\n→ Everything except the overlap')"
   ]
  },
  {
   "cell_type": "markdown",
   "metadata": {},
   "source": [
    "### Summary of Set Operations"
   ]
  },
  {
   "cell_type": "code",
   "execution_count": null,
   "metadata": {},
   "outputs": [],
   "source": [
    "A = {1, 2, 3, 4}\n",
    "B = {3, 4, 5, 6}\n",
    "\n",
    "print('Set A:', A)\n",
    "print('Set B:', B)\n",
    "print('\\nOperations:')\n",
    "print(f'Union (A | B):             {A | B}  ← Everything')\n",
    "print(f'Intersection (A & B):      {A & B}  ← Shared')\n",
    "print(f'Difference (A - B):        {A - B}  ← Only in A')\n",
    "print(f'Symmetric Diff (A ^ B):    {A ^ B}  ← Not shared')"
   ]
  },
  {
   "cell_type": "markdown",
   "metadata": {},
   "source": [
    "### 📝 Practice Question 3\n",
    "\n",
    "**Task:** Two labs sequenced gut bacteria from different patients:\n",
    "\n",
    "```python\n",
    "lab_A = {'E.coli', 'Bacteroides', 'Lactobacillus', 'Bifidobacterium'}\n",
    "lab_B = {'E.coli', 'Clostridium', 'Lactobacillus', 'Akkermansia'}\n",
    "```\n",
    "\n",
    "Find:\n",
    "1. Bacteria found by both labs\n",
    "2. Bacteria unique to Lab A\n",
    "3. Total number of unique bacteria found"
   ]
  },
  {
   "cell_type": "code",
   "execution_count": null,
   "metadata": {},
   "outputs": [],
   "source": [
    "# YOUR CODE HERE\n",
    "# Compare bacterial species between labs\n"
   ]
  },
  {
   "cell_type": "markdown",
   "metadata": {},
   "source": [
    "---\n",
    "\n",
    "## Part 4: Real Biology Examples"
   ]
  },
  {
   "cell_type": "markdown",
   "metadata": {},
   "source": [
    "### Example 10: Drug Target Analysis"
   ]
  },
  {
   "cell_type": "code",
   "execution_count": null,
   "metadata": {},
   "outputs": [],
   "source": [
    "# Three drugs affect different sets of genes\n",
    "drug_A_targets = {'TP53', 'BRCA1', 'ATR', 'CHEK1', 'RPA1'}\n",
    "drug_B_targets = {'TP53', 'MDM2', 'PTEN', 'ATR'}\n",
    "drug_C_targets = {'BRCA1', 'CHEK1', 'MDM2', 'MYC'}\n",
    "\n",
    "print('Drug A targets:', drug_A_targets)\n",
    "print('Drug B targets:', drug_B_targets)\n",
    "print('Drug C targets:', drug_C_targets)\n",
    "\n",
    "# Which genes are targeted by ALL three drugs?\n",
    "all_three = drug_A_targets & drug_B_targets & drug_C_targets\n",
    "print(f'\\nTargeted by all three drugs: {all_three}')\n",
    "\n",
    "# Which genes are targeted by at least one drug?\n",
    "any_drug = drug_A_targets | drug_B_targets | drug_C_targets\n",
    "print(f'Targeted by any drug: {len(any_drug)} genes')\n",
    "print(any_drug)\n",
    "\n",
    "# Genes unique to Drug A\n",
    "unique_A = drug_A_targets - drug_B_targets - drug_C_targets\n",
    "print(f'\\nUnique to Drug A: {unique_A}')"
   ]
  },
  {
   "cell_type": "markdown",
   "metadata": {},
   "source": [
    "### Example 11: Gene Pathway Analysis"
   ]
  },
  {
   "cell_type": "code",
   "execution_count": null,
   "metadata": {},
   "outputs": [],
   "source": [
    "# Genes from your experiment\n",
    "upregulated_genes = {'TP53', 'ATR', 'BRCA1', 'CHEK1', 'RPA1', 'MDM2', 'PTEN', 'MYC'}\n",
    "\n",
    "# Known pathway genes\n",
    "dna_repair = {'TP53', 'ATR', 'BRCA1', 'CHEK1', 'RPA1', 'RAD51'}\n",
    "cell_cycle = {'TP53', 'MDM2', 'CDK4', 'CCND1', 'RB1'}\n",
    "apoptosis = {'TP53', 'BAX', 'BCL2', 'PTEN', 'CASP3'}\n",
    "\n",
    "print('Your upregulated genes:', upregulated_genes)\n",
    "print(f'\\n=== Pathway Enrichment ===')\n",
    "\n",
    "# Check overlap with each pathway\n",
    "dna_overlap = upregulated_genes & dna_repair\n",
    "print(f'\\nDNA Repair pathway: {len(dna_overlap)}/{len(dna_repair)} genes')\n",
    "print(f'  Hits: {dna_overlap}')\n",
    "\n",
    "cycle_overlap = upregulated_genes & cell_cycle\n",
    "print(f'\\nCell Cycle pathway: {len(cycle_overlap)}/{len(cell_cycle)} genes')\n",
    "print(f'  Hits: {cycle_overlap}')\n",
    "\n",
    "apop_overlap = upregulated_genes & apoptosis\n",
    "print(f'\\nApoptosis pathway: {len(apop_overlap)}/{len(apoptosis)} genes')\n",
    "print(f'  Hits: {apop_overlap}')\n",
    "\n",
    "print('\\n→ DNA Repair pathway shows strongest enrichment!')"
   ]
  },
  {
   "cell_type": "markdown",
   "metadata": {},
   "source": [
    "### Example 12: Patient Sample Comparison"
   ]
  },
  {
   "cell_type": "code",
   "execution_count": null,
   "metadata": {},
   "outputs": [],
   "source": [
    "# Mutations found in three cancer patients\n",
    "patient_1 = {'TP53', 'KRAS', 'EGFR', 'BRAF'}\n",
    "patient_2 = {'TP53', 'PIK3CA', 'PTEN', 'EGFR'}\n",
    "patient_3 = {'TP53', 'KRAS', 'APC', 'SMAD4'}\n",
    "\n",
    "print('Patient 1 mutations:', patient_1)\n",
    "print('Patient 2 mutations:', patient_2)\n",
    "print('Patient 3 mutations:', patient_3)\n",
    "\n",
    "# Common mutations across all patients\n",
    "common = patient_1 & patient_2 & patient_3\n",
    "print(f'\\nCommon to all patients: {common}')\n",
    "\n",
    "# Mutations in at least 2 patients\n",
    "p1_p2 = patient_1 & patient_2\n",
    "p1_p3 = patient_1 & patient_3\n",
    "p2_p3 = patient_2 & patient_3\n",
    "\n",
    "at_least_two = p1_p2 | p1_p3 | p2_p3\n",
    "print(f'\\nIn at least 2 patients: {at_least_two}')\n",
    "\n",
    "# Total unique mutations\n",
    "all_mutations = patient_1 | patient_2 | patient_3\n",
    "print(f'\\nTotal unique mutations: {len(all_mutations)}')"
   ]
  },
  {
   "cell_type": "markdown",
   "metadata": {},
   "source": [
    "### 📝 Practice Question 4\n",
    "\n",
    "**Task:** Three research groups identified genes associated with Alzheimer's disease:\n",
    "\n",
    "```python\n",
    "group_1 = {'APOE', 'APP', 'PSEN1', 'MAPT', 'BIN1'}\n",
    "group_2 = {'APOE', 'APP', 'CLU', 'PICALM', 'BIN1'}\n",
    "group_3 = {'APOE', 'PSEN1', 'TREM2', 'CD33', 'BIN1'}\n",
    "```\n",
    "\n",
    "Find:\n",
    "1. Genes identified by all three groups (strongest candidates)\n",
    "2. Genes identified by only one group (need more validation)\n",
    "3. Total number of candidate genes"
   ]
  },
  {
   "cell_type": "code",
   "execution_count": null,
   "metadata": {},
   "outputs": [],
   "source": [
    "# YOUR CODE HERE\n",
    "# Analyze Alzheimer's gene candidates\n"
   ]
  },
  {
   "cell_type": "markdown",
   "metadata": {},
   "source": [
    "---\n",
    "\n",
    "## Part 5: Visualizing Sets with Venn Diagrams"
   ]
  },
  {
   "cell_type": "markdown",
   "metadata": {},
   "source": [
    "### Example 13: Two-Set Venn Diagram"
   ]
  },
  {
   "cell_type": "code",
   "execution_count": null,
   "metadata": {},
   "outputs": [],
   "source": [
    "# Drug targets from earlier example\n",
    "drug_A = {'TP53', 'BRCA1', 'ATR', 'CHEK1', 'RPA1'}\n",
    "drug_B = {'TP53', 'MDM2', 'PTEN', 'ATR'}\n",
    "\n",
    "fig, ax = plt.subplots(figsize=(8, 6))\n",
    "\n",
    "venn2([drug_A, drug_B], \n",
    "      set_labels=('Drug A', 'Drug B'),\n",
    "      ax=ax)\n",
    "\n",
    "ax.set_title('Drug Target Overlap', fontsize=14, fontweight='bold')\n",
    "plt.tight_layout()\n",
    "plt.show()\n",
    "\n",
    "print(f'Shared targets: {drug_A & drug_B}')\n",
    "print(f'Drug A only: {drug_A - drug_B}')\n",
    "print(f'Drug B only: {drug_B - drug_A}')"
   ]
  },
  {
   "cell_type": "markdown",
   "metadata": {},
   "source": [
    "### Example 14: Three-Set Venn Diagram"
   ]
  },
  {
   "cell_type": "code",
   "execution_count": null,
   "metadata": {},
   "outputs": [],
   "source": [
    "# Patient mutations from earlier\n",
    "patient_1 = {'TP53', 'KRAS', 'EGFR', 'BRAF'}\n",
    "patient_2 = {'TP53', 'PIK3CA', 'PTEN', 'EGFR'}\n",
    "patient_3 = {'TP53', 'KRAS', 'APC', 'SMAD4'}\n",
    "\n",
    "fig, ax = plt.subplots(figsize=(10, 8))\n",
    "\n",
    "venn3([patient_1, patient_2, patient_3],\n",
    "      set_labels=('Patient 1', 'Patient 2', 'Patient 3'),\n",
    "      ax=ax)\n",
    "\n",
    "ax.set_title('Mutation Overlap Across Patients', fontsize=14, fontweight='bold')\n",
    "plt.tight_layout()\n",
    "plt.show()\n",
    "\n",
    "print(f'All three patients: {patient_1 & patient_2 & patient_3}')"
   ]
  },
  {
   "cell_type": "markdown",
   "metadata": {},
   "source": [
    "### 📝 Practice Question 5\n",
    "\n",
    "**Task:** Create a Venn diagram comparing two microbiome samples:\n",
    "\n",
    "```python\n",
    "healthy_gut = {'Lactobacillus', 'Bifidobacterium', 'E.coli', 'Bacteroides', 'Akkermansia'}\n",
    "diseased_gut = {'E.coli', 'Clostridium', 'Bacteroides', 'Enterococcus'}\n",
    "```\n",
    "\n",
    "Create a Venn diagram and print:\n",
    "1. Bacteria in both samples\n",
    "2. Bacteria unique to healthy gut\n",
    "3. Bacteria unique to diseased gut"
   ]
  },
  {
   "cell_type": "code",
   "execution_count": null,
   "metadata": {},
   "outputs": [],
   "source": [
    "# YOUR CODE HERE\n",
    "# Create Venn diagram for microbiome comparison\n"
   ]
  },
  {
   "cell_type": "markdown",
   "metadata": {},
   "source": [
    "---\n",
    "\n",
    "## Part 6: Checking Set Relationships"
   ]
  },
  {
   "cell_type": "markdown",
   "metadata": {},
   "source": [
    "### Example 15: Subset and Superset"
   ]
  },
  {
   "cell_type": "code",
   "execution_count": null,
   "metadata": {},
   "outputs": [],
   "source": [
    "# All DNA repair genes\n",
    "dna_repair = {'TP53', 'ATR', 'BRCA1', 'CHEK1', 'RPA1', 'RAD51'}\n",
    "\n",
    "# Your significant genes\n",
    "my_genes = {'ATR', 'BRCA1', 'CHEK1'}\n",
    "\n",
    "# Check if my_genes is a subset of dna_repair\n",
    "is_subset = my_genes.issubset(dna_repair)\n",
    "print(f'My genes: {my_genes}')\n",
    "print(f'DNA repair genes: {dna_repair}')\n",
    "print(f'\\nAre my genes a subset of DNA repair? {is_subset}')\n",
    "\n",
    "# Check if dna_repair is a superset of my_genes\n",
    "is_superset = dna_repair.issuperset(my_genes)\n",
    "print(f'Is DNA repair a superset of my genes? {is_superset}')\n",
    "\n",
    "print('\\n→ All my genes are in the DNA repair pathway!')"
   ]
  },
  {
   "cell_type": "markdown",
   "metadata": {},
   "source": [
    "### Example 16: Checking for Overlap"
   ]
  },
  {
   "cell_type": "code",
   "execution_count": null,
   "metadata": {},
   "outputs": [],
   "source": [
    "# Do two pathways share any genes?\n",
    "pathway_A = {'TP53', 'MDM2', 'ATR'}\n",
    "pathway_B = {'BRCA1', 'PTEN', 'MYC'}\n",
    "pathway_C = {'TP53', 'BAX', 'BCL2'}\n",
    "\n",
    "# Check if sets are disjoint (no overlap)\n",
    "print('Pathway A:', pathway_A)\n",
    "print('Pathway B:', pathway_B)\n",
    "print('Pathway C:', pathway_C)\n",
    "\n",
    "no_overlap_AB = pathway_A.isdisjoint(pathway_B)\n",
    "print(f'\\nA and B are disjoint (no overlap): {no_overlap_AB}')\n",
    "\n",
    "no_overlap_AC = pathway_A.isdisjoint(pathway_C)\n",
    "print(f'A and C are disjoint (no overlap): {no_overlap_AC}')\n",
    "\n",
    "print(f'\\n→ A and C share: {pathway_A & pathway_C}')"
   ]
  },
  {
   "cell_type": "markdown",
   "metadata": {},
   "source": [
    "### 📝 Practice Question 6 (Challenge)\n",
    "\n",
    "**Task:** You're analyzing antibiotic resistance genes:\n",
    "\n",
    "```python\n",
    "hospital_strain = {'blaZ', 'mecA', 'vanA', 'tetM', 'ermB'}\n",
    "community_strain = {'blaZ', 'tetM'}\n",
    "lab_strain = {'blaZ'}\n",
    "```\n",
    "\n",
    "Answer:\n",
    "1. Is the lab strain resistance a subset of community strain?\n",
    "2. Is the hospital strain a superset of community strain?\n",
    "3. How many resistance genes are unique to the hospital strain?\n",
    "4. Create a Venn diagram comparing hospital and community strains"
   ]
  },
  {
   "cell_type": "code",
   "execution_count": null,
   "metadata": {},
   "outputs": [],
   "source": [
    "# YOUR CODE HERE\n",
    "# Analyze antibiotic resistance patterns\n"
   ]
  },
  {
   "cell_type": "markdown",
   "metadata": {},
   "source": [
    "---\n",
    "\n",
    "## Summary\n",
    "\n",
    "### When to Use Sets vs Lists:\n",
    "\n",
    "**Use Lists when:**\n",
    "- Order matters (e.g., time series data)\n",
    "- You need duplicates (e.g., repeated measurements)\n",
    "- You need indexing (`list[0]`)\n",
    "\n",
    "**Use Sets when:**\n",
    "- You need unique items only\n",
    "- Comparing groups (overlaps, differences)\n",
    "- Fast membership testing (`item in set`)\n",
    "- Order doesn't matter\n",
    "\n",
    "---\n",
    "\n",
    "### Creating Sets:\n",
    "```python\n",
    "my_set = {1, 2, 3}              # Curly braces\n",
    "my_set = set([1, 2, 3])         # From list\n",
    "my_set = set()                  # Empty set\n",
    "```\n",
    "\n",
    "### Set Operations:\n",
    "```python\n",
    "A | B    # Union (everything)\n",
    "A & B    # Intersection (shared)\n",
    "A - B    # Difference (in A, not B)\n",
    "A ^ B    # Symmetric difference (not shared)\n",
    "```\n",
    "\n",
    "### Common Methods:\n",
    "```python\n",
    "set.add(item)              # Add one item\n",
    "set.update([items])        # Add multiple items\n",
    "set.remove(item)           # Remove item (error if not found)\n",
    "set.discard(item)          # Remove item (no error)\n",
    "len(set)                   # Number of items\n",
    "item in set                # Check membership (fast!)\n",
    "```\n",
    "\n",
    "### Checking Relationships:\n",
    "```python\n",
    "A.issubset(B)              # Is A ⊆ B?\n",
    "A.issuperset(B)            # Is A ⊇ B?\n",
    "A.isdisjoint(B)            # No overlap?\n",
    "```\n",
    "\n",
    "---\n",
    "\n",
    "### Biology Applications:\n",
    "\n",
    "1. **Gene Lists:**\n",
    "   - Find genes common to multiple experiments\n",
    "   - Identify unique hits in each condition\n",
    "\n",
    "2. **Pathway Analysis:**\n",
    "   - Check overlap with known pathways\n",
    "   - Calculate enrichment\n",
    "\n",
    "3. **Patient Comparisons:**\n",
    "   - Shared vs unique mutations\n",
    "   - Common phenotypes\n",
    "\n",
    "4. **Microbiome Studies:**\n",
    "   - Species presence/absence\n",
    "   - Community composition overlap\n",
    "\n",
    "5. **Drug Discovery:**\n",
    "   - Target overlap between compounds\n",
    "   - Off-target prediction\n",
    "\n",
    "---\n",
    "\n",
    "### Key Takeaways:\n",
    "\n",
    "1. **Sets automatically remove duplicates** - perfect for unique items\n",
    "2. **Set operations are intuitive** - union, intersection, difference\n",
    "3. **Fast membership testing** - checking if item in set is very quick\n",
    "4. **Great for comparisons** - overlap analysis is the killer feature\n",
    "5. **Venn diagrams visualize sets** - use matplotlib-venn\n",
    "\n",
    "Remember: When you need to compare groups and find overlaps, **think sets!**"
   ]
  }
 ],
 "metadata": {
  "kernelspec": {
   "display_name": "Python 3",
   "language": "python",
   "name": "python3"
  },
  "language_info": {
   "name": "python",
   "version": "3.9.0"
  }
 },
 "nbformat": 4,
 "nbformat_minor": 4
}
