{
 "cells": [
  {
   "cell_type": "markdown",
   "metadata": {},
   "source": [
    "# Statistical Tests with SciPy\n",
    "\n",
    "In this notebook, we'll learn how to use SciPy to perform common statistical tests that biologists use all the time:\n",
    "- **Correlation tests** (Pearson and Spearman)\n",
    "- **T-tests** (comparing group means)\n",
    "\n",
    "## Learning Objectives\n",
    "\n",
    "By the end of this notebook, you will be able to:\n",
    "1. Calculate and interpret Pearson correlation (linear relationships)\n",
    "2. Calculate and interpret Spearman correlation (monotonic relationships)\n",
    "3. Understand when to use each correlation method\n",
    "4. Perform t-tests to compare two groups\n",
    "5. Interpret p-values correctly\n",
    "\n",
    "---"
   ]
  },
  {
   "cell_type": "code",
   "execution_count": null,
   "metadata": {},
   "outputs": [],
   "source": [
    "# Import libraries\n",
    "import pandas as pd\n",
    "import numpy as np\n",
    "import matplotlib.pyplot as plt\n",
    "from scipy.stats import pearsonr, spearmanr, ttest_ind, ttest_rel\n",
    "\n",
    "# Set random seed for reproducibility\n",
    "np.random.seed(42)\n",
    "\n",
    "print('Libraries loaded!')"
   ]
  },
  {
   "cell_type": "markdown",
   "metadata": {},
   "source": [
    "---\n",
    "\n",
    "## Part 1: Pearson Correlation\n",
    "\n",
    "### What is Pearson Correlation?\n",
    "- Measures **linear** relationship between two variables\n",
    "- Range: -1 to +1\n",
    "  - **r = +1**: Perfect positive correlation\n",
    "  - **r = 0**: No correlation\n",
    "  - **r = -1**: Perfect negative correlation\n",
    "- Returns: (correlation coefficient, p-value)\n",
    "\n",
    "### Example 1: Strong Positive Correlation"
   ]
  },
  {
   "cell_type": "code",
   "execution_count": null,
   "metadata": {},
   "outputs": [],
   "source": [
    "# Gene expression: as gene A goes up, gene B goes up (same pathway)\n",
    "gene_A = np.array([2.1, 3.5, 5.2, 7.1, 8.9, 10.2, 12.5])\n",
    "gene_B = np.array([1.8, 3.1, 5.5, 6.9, 9.2, 10.5, 12.1])\n",
    "\n",
    "df1 = pd.DataFrame({'Gene_A': gene_A, 'Gene_B': gene_B})\n",
    "print('Strong positive correlation example:')\n",
    "print(df1)"
   ]
  },
  {
   "cell_type": "code",
   "execution_count": null,
   "metadata": {},
   "outputs": [],
   "source": [
    "# Calculate Pearson correlation\n",
    "r, p_value = pearsonr(gene_A, gene_B)\n",
    "\n",
    "print(f'Pearson r = {r:.3f}')\n",
    "print(f'P-value = {p_value:.4f}')\n",
    "\n",
    "if p_value < 0.05:\n",
    "    print('✓ Significant correlation (p < 0.05)')\n",
    "else:\n",
    "    print('✗ Not significant (p >= 0.05)')"
   ]
  },
  {
   "cell_type": "code",
   "execution_count": null,
   "metadata": {},
   "outputs": [],
   "source": [
    "# Visualize the correlation\n",
    "fig, ax = plt.subplots(figsize=(6, 5))\n",
    "ax.scatter(gene_A, gene_B, s=100, alpha=0.6)\n",
    "ax.set_xlabel('Gene A Expression')\n",
    "ax.set_ylabel('Gene B Expression')\n",
    "ax.set_title(f'Strong Positive Correlation\\nr = {r:.3f}, p = {p_value:.4f}')\n",
    "ax.grid(alpha=0.3)\n",
    "plt.tight_layout()\n",
    "plt.show()"
   ]
  },
  {
   "cell_type": "markdown",
   "metadata": {},
   "source": [
    "### Example 2: Negative Correlation"
   ]
  },
  {
   "cell_type": "code",
   "execution_count": null,
   "metadata": {},
   "outputs": [],
   "source": [
    "# As tumor suppressor gene goes up, oncogene goes down\n",
    "tumor_suppressor = np.array([8.5, 7.2, 6.1, 4.8, 3.5, 2.3, 1.1])\n",
    "oncogene = np.array([2.0, 3.5, 5.1, 6.8, 8.2, 9.5, 11.0])\n",
    "\n",
    "df2 = pd.DataFrame({'Tumor_Suppressor': tumor_suppressor, 'Oncogene': oncogene})\n",
    "print('Negative correlation example:')\n",
    "print(df2)"
   ]
  },
  {
   "cell_type": "code",
   "execution_count": null,
   "metadata": {},
   "outputs": [],
   "source": [
    "# Calculate Pearson correlation\n",
    "r_neg, p_neg = pearsonr(tumor_suppressor, oncogene)\n",
    "\n",
    "print(f'Pearson r = {r_neg:.3f}')\n",
    "print(f'P-value = {p_neg:.4f}')\n",
    "\n",
    "# Visualize\n",
    "fig, ax = plt.subplots(figsize=(6, 5))\n",
    "ax.scatter(tumor_suppressor, oncogene, s=100, alpha=0.6, color='red')\n",
    "ax.set_xlabel('Tumor Suppressor Expression')\n",
    "ax.set_ylabel('Oncogene Expression')\n",
    "ax.set_title(f'Negative Correlation\\nr = {r_neg:.3f}, p = {p_neg:.4f}')\n",
    "ax.grid(alpha=0.3)\n",
    "plt.tight_layout()\n",
    "plt.show()"
   ]
  },
  {
   "cell_type": "markdown",
   "metadata": {},
   "source": [
    "### Example 3: No Correlation"
   ]
  },
  {
   "cell_type": "code",
   "execution_count": null,
   "metadata": {},
   "outputs": [],
   "source": [
    "# Two unrelated genes (random pattern)\n",
    "gene_X = np.array([3.2, 5.1, 2.8, 7.5, 4.2, 6.8, 3.9])\n",
    "gene_Y = np.array([4.5, 3.9, 7.2, 2.1, 8.5, 5.3, 6.1])\n",
    "\n",
    "r_none, p_none = pearsonr(gene_X, gene_Y)\n",
    "\n",
    "print(f'Pearson r = {r_none:.3f}')\n",
    "print(f'P-value = {p_none:.4f}')\n",
    "\n",
    "# Visualize\n",
    "fig, ax = plt.subplots(figsize=(6, 5))\n",
    "ax.scatter(gene_X, gene_Y, s=100, alpha=0.6, color='gray')\n",
    "ax.set_xlabel('Gene X Expression')\n",
    "ax.set_ylabel('Gene Y Expression')\n",
    "ax.set_title(f'No Correlation\\nr = {r_none:.3f}, p = {p_none:.4f}')\n",
    "ax.grid(alpha=0.3)\n",
    "plt.tight_layout()\n",
    "plt.show()"
   ]
  },
  {
   "cell_type": "markdown",
   "metadata": {},
   "source": [
    "### 📝 Practice Question 1\n",
    "\n",
    "**Task:** Create two arrays representing drug dose (1, 2, 3, 4, 5 mg) and cell viability (95, 85, 70, 50, 30 %).\n",
    "\n",
    "Calculate the Pearson correlation and interpret the result.\n",
    "\n",
    "**Expected:** Negative correlation (higher dose → lower viability)"
   ]
  },
  {
   "cell_type": "code",
   "execution_count": null,
   "metadata": {},
   "outputs": [],
   "source": [
    "# YOUR CODE HERE\n",
    "# Create drug_dose and cell_viability arrays\n",
    "# Calculate Pearson correlation\n"
   ]
  },
  {
   "cell_type": "markdown",
   "metadata": {},
   "source": [
    "---\n",
    "\n",
    "## Part 2: Spearman Correlation\n",
    "\n",
    "### What is Spearman Correlation?\n",
    "- Measures **monotonic** relationship (not necessarily linear)\n",
    "- Works on **ranks** instead of actual values\n",
    "- More robust to outliers\n",
    "- Range: -1 to +1 (same as Pearson)\n",
    "\n",
    "### When to Use Spearman vs Pearson?\n",
    "- **Pearson:** Linear relationship, normally distributed, no outliers\n",
    "- **Spearman:** Non-linear but monotonic, outliers present, ordinal data\n",
    "\n",
    "### Example: Non-Linear Relationship"
   ]
  },
  {
   "cell_type": "code",
   "execution_count": null,
   "metadata": {},
   "outputs": [],
   "source": [
    "# Gene expression with non-linear relationship (saturation effect)\n",
    "time = np.array([0, 1, 2, 3, 4, 5, 6])\n",
    "expression = np.array([1.0, 2.5, 4.8, 6.5, 7.2, 7.5, 7.6])  # Saturates at high time\n",
    "\n",
    "df_nonlinear = pd.DataFrame({'Time (hours)': time, 'Expression': expression})\n",
    "print('Non-linear relationship:')\n",
    "print(df_nonlinear)"
   ]
  },
  {
   "cell_type": "code",
   "execution_count": null,
   "metadata": {},
   "outputs": [],
   "source": [
    "# Compare Pearson vs Spearman\n",
    "r_pearson, p_pearson = pearsonr(time, expression)\n",
    "r_spearman, p_spearman = spearmanr(time, expression)\n",
    "\n",
    "print('Pearson correlation:')\n",
    "print(f'  r = {r_pearson:.3f}, p = {p_pearson:.4f}')\n",
    "print('\\nSpearman correlation:')\n",
    "print(f'  r = {r_spearman:.3f}, p = {p_spearman:.4f}')\n",
    "\n",
    "print('\\n→ Spearman is higher because it captures monotonic (always increasing) relationship')"
   ]
  },
  {
   "cell_type": "code",
   "execution_count": null,
   "metadata": {},
   "outputs": [],
   "source": [
    "# Visualize\n",
    "fig, ax = plt.subplots(figsize=(7, 5))\n",
    "ax.scatter(time, expression, s=100, alpha=0.6, color='purple')\n",
    "ax.plot(time, expression, 'k--', alpha=0.3)\n",
    "ax.set_xlabel('Time (hours)')\n",
    "ax.set_ylabel('Gene Expression')\n",
    "ax.set_title(f'Non-Linear Relationship\\nPearson r={r_pearson:.3f}, Spearman ρ={r_spearman:.3f}')\n",
    "ax.grid(alpha=0.3)\n",
    "plt.tight_layout()\n",
    "plt.show()"
   ]
  },
  {
   "cell_type": "markdown",
   "metadata": {},
   "source": [
    "### Example: Data with Outliers"
   ]
  },
  {
   "cell_type": "code",
   "execution_count": null,
   "metadata": {},
   "outputs": [],
   "source": [
    "# Protein levels with one outlier measurement\n",
    "protein_A = np.array([5.1, 5.3, 5.5, 5.7, 5.9, 6.1, 15.0])  # Last value is outlier!\n",
    "protein_B = np.array([3.2, 3.4, 3.6, 3.8, 4.0, 4.2, 4.5])\n",
    "\n",
    "# Compare Pearson vs Spearman\n",
    "r_p, p_p = pearsonr(protein_A, protein_B)\n",
    "r_s, p_s = spearmanr(protein_A, protein_B)\n",
    "\n",
    "print('Data with outlier:')\n",
    "print('Pearson  r =', f'{r_p:.3f}', '← Affected by outlier')\n",
    "print('Spearman ρ =', f'{r_s:.3f}', '← More robust')"
   ]
  },
  {
   "cell_type": "code",
   "execution_count": null,
   "metadata": {},
   "outputs": [],
   "source": [
    "# Visualize\n",
    "fig, ax = plt.subplots(figsize=(7, 5))\n",
    "ax.scatter(protein_A[:-1], protein_B[:-1], s=100, alpha=0.6, label='Normal data')\n",
    "ax.scatter(protein_A[-1], protein_B[-1], s=200, color='red', marker='X', label='Outlier')\n",
    "ax.set_xlabel('Protein A')\n",
    "ax.set_ylabel('Protein B')\n",
    "ax.set_title('Effect of Outliers on Correlation')\n",
    "ax.legend()\n",
    "ax.grid(alpha=0.3)\n",
    "plt.tight_layout()\n",
    "plt.show()"
   ]
  },
  {
   "cell_type": "markdown",
   "metadata": {},
   "source": [
    "### 📝 Practice Question 2\n",
    "\n",
    "**Task:** Create data for enzyme activity at different pH levels (pH 4, 5, 6, 7, 8, 9, 10) with activity (10, 30, 60, 90, 70, 40, 15).\n",
    "\n",
    "This shows a **peak** at pH 7 (not monotonic!).\n",
    "\n",
    "Calculate both Pearson and Spearman correlations. Which one is more appropriate and why?"
   ]
  },
  {
   "cell_type": "code",
   "execution_count": null,
   "metadata": {},
   "outputs": [],
   "source": [
    "# YOUR CODE HERE\n",
    "# Create pH and enzyme_activity arrays\n",
    "# Calculate both correlations and compare\n"
   ]
  },
  {
   "cell_type": "markdown",
   "metadata": {},
   "source": [
    "---\n",
    "\n",
    "## Part 3: T-Tests\n",
    "\n",
    "### What is a T-Test?\n",
    "- Compares the **means** of two groups\n",
    "- Answers: \"Are these groups significantly different?\"\n",
    "- Returns: (t-statistic, p-value)\n",
    "\n",
    "### Two Types:\n",
    "1. **Independent t-test** (`ttest_ind`): Different subjects in each group\n",
    "2. **Paired t-test** (`ttest_rel`): Same subjects measured twice\n",
    "\n",
    "---\n",
    "\n",
    "## Independent T-Test\n",
    "\n",
    "### Use Case: Compare Control vs Treatment"
   ]
  },
  {
   "cell_type": "code",
   "execution_count": null,
   "metadata": {},
   "outputs": [],
   "source": [
    "# Tumor size (mm) in control vs drug-treated mice\n",
    "control = np.array([12.5, 14.2, 13.8, 15.1, 13.2, 14.5, 12.9])\n",
    "treatment = np.array([8.2, 9.5, 7.8, 10.1, 8.9, 9.2, 8.5])\n",
    "\n",
    "df_ttest = pd.DataFrame({\n",
    "    'Control': control,\n",
    "    'Treatment': treatment\n",
    "})\n",
    "\n",
    "print('Tumor sizes (mm):')\n",
    "print(df_ttest)\n",
    "print('\\nMeans:')\n",
    "print(f'Control:   {control.mean():.2f} mm')\n",
    "print(f'Treatment: {treatment.mean():.2f} mm')"
   ]
  },
  {
   "cell_type": "code",
   "execution_count": null,
   "metadata": {},
   "outputs": [],
   "source": [
    "# Perform independent t-test\n",
    "t_stat, p_value = ttest_ind(control, treatment)\n",
    "\n",
    "print(f'T-statistic = {t_stat:.3f}')\n",
    "print(f'P-value = {p_value:.4f}')\n",
    "\n",
    "if p_value < 0.05:\n",
    "    print('\\n✓ Significant difference (p < 0.05)')\n",
    "    print('→ Treatment reduces tumor size!')\n",
    "else:\n",
    "    print('\\n✗ No significant difference (p >= 0.05)')"
   ]
  },
  {
   "cell_type": "code",
   "execution_count": null,
   "metadata": {},
   "outputs": [],
   "source": [
    "# Visualize with box plot\n",
    "fig, ax = plt.subplots(figsize=(7, 5))\n",
    "\n",
    "positions = [1, 2]\n",
    "data_to_plot = [control, treatment]\n",
    "bp = ax.boxplot(data_to_plot, positions=positions, labels=['Control', 'Treatment'])\n",
    "\n",
    "ax.set_ylabel('Tumor Size (mm)')\n",
    "ax.set_title(f'Control vs Treatment\\np = {p_value:.4f}')\n",
    "ax.grid(alpha=0.3, axis='y')\n",
    "plt.tight_layout()\n",
    "plt.show()"
   ]
  },
  {
   "cell_type": "markdown",
   "metadata": {},
   "source": [
    "### 📝 Practice Question 3\n",
    "\n",
    "**Task:** Compare gene expression in healthy (n=6) vs diseased (n=6) patients.\n",
    "\n",
    "Create two arrays:\n",
    "- Healthy: [5.2, 5.5, 5.1, 5.4, 5.3, 5.6]\n",
    "- Diseased: [7.8, 8.2, 7.5, 8.0, 7.9, 8.3]\n",
    "\n",
    "Perform an independent t-test and interpret the result."
   ]
  },
  {
   "cell_type": "code",
   "execution_count": null,
   "metadata": {},
   "outputs": [],
   "source": [
    "# YOUR CODE HERE\n",
    "# Create healthy and diseased arrays\n",
    "# Perform t-test\n"
   ]
  },
  {
   "cell_type": "markdown",
   "metadata": {},
   "source": [
    "---\n",
    "\n",
    "## Paired T-Test\n",
    "\n",
    "### Use Case: Before vs After Treatment (Same Subjects)"
   ]
  },
  {
   "cell_type": "code",
   "execution_count": null,
   "metadata": {},
   "outputs": [],
   "source": [
    "# Blood pressure before and after exercise program (same 8 patients)\n",
    "before = np.array([145, 152, 138, 160, 149, 155, 142, 148])\n",
    "after = np.array([138, 145, 135, 148, 142, 149, 139, 141])\n",
    "\n",
    "df_paired = pd.DataFrame({\n",
    "    'Patient': ['P1', 'P2', 'P3', 'P4', 'P5', 'P6', 'P7', 'P8'],\n",
    "    'Before': before,\n",
    "    'After': after,\n",
    "    'Change': after - before\n",
    "})\n",
    "\n",
    "print('Blood pressure (mmHg):')\n",
    "print(df_paired)\n",
    "print('\\nMeans:')\n",
    "print(f'Before: {before.mean():.1f} mmHg')\n",
    "print(f'After:  {after.mean():.1f} mmHg')\n",
    "print(f'Change: {(after - before).mean():.1f} mmHg')"
   ]
  },
  {
   "cell_type": "code",
   "execution_count": null,
   "metadata": {},
   "outputs": [],
   "source": [
    "# Perform paired t-test\n",
    "t_stat_paired, p_paired = ttest_rel(before, after)\n",
    "\n",
    "print(f'T-statistic = {t_stat_paired:.3f}')\n",
    "print(f'P-value = {p_paired:.4f}')\n",
    "\n",
    "if p_paired < 0.05:\n",
    "    print('\\n✓ Significant change (p < 0.05)')\n",
    "    if after.mean() < before.mean():\n",
    "        print('→ Exercise program reduces blood pressure!')\n",
    "else:\n",
    "    print('\\n✗ No significant change (p >= 0.05)')"
   ]
  },
  {
   "cell_type": "code",
   "execution_count": null,
   "metadata": {},
   "outputs": [],
   "source": [
    "# Visualize paired data\n",
    "fig, ax = plt.subplots(figsize=(8, 5))\n",
    "\n",
    "patients = np.arange(len(before))\n",
    "ax.plot(patients, before, 'o-', label='Before', linewidth=2, markersize=8)\n",
    "ax.plot(patients, after, 's-', label='After', linewidth=2, markersize=8)\n",
    "\n",
    "# Connect paired points\n",
    "for i in range(len(before)):\n",
    "    ax.plot([i, i], [before[i], after[i]], 'k--', alpha=0.3)\n",
    "\n",
    "ax.set_xlabel('Patient')\n",
    "ax.set_ylabel('Blood Pressure (mmHg)')\n",
    "ax.set_title(f'Before vs After Exercise Program\\nPaired t-test: p = {p_paired:.4f}')\n",
    "ax.set_xticks(patients)\n",
    "ax.set_xticklabels(['P1', 'P2', 'P3', 'P4', 'P5', 'P6', 'P7', 'P8'])\n",
    "ax.legend()\n",
    "ax.grid(alpha=0.3)\n",
    "plt.tight_layout()\n",
    "plt.show()"
   ]
  },
  {
   "cell_type": "markdown",
   "metadata": {},
   "source": [
    "### 📝 Practice Question 4\n",
    "\n",
    "**Task:** You measure cell counts before and after adding a growth factor to the same 5 cell cultures:\n",
    "\n",
    "- Before: [1200, 1350, 1180, 1420, 1290]\n",
    "- After: [1850, 2100, 1920, 2250, 2050]\n",
    "\n",
    "Use a **paired t-test** to determine if the growth factor significantly increases cell count."
   ]
  },
  {
   "cell_type": "code",
   "execution_count": null,
   "metadata": {},
   "outputs": [],
   "source": [
    "# YOUR CODE HERE\n",
    "# Create before and after arrays\n",
    "# Perform paired t-test\n"
   ]
  },
  {
   "cell_type": "markdown",
   "metadata": {},
   "source": [
    "---\n",
    "\n",
    "## Part 4: Choosing the Right Test\n",
    "\n",
    "### Decision Guide:\n",
    "\n",
    "| Question | Test | Function |\n",
    "|----------|------|----------|\n",
    "| Are two variables **related**? (linear) | Pearson correlation | `pearsonr()` |\n",
    "| Are two variables **related**? (monotonic/outliers) | Spearman correlation | `spearmanr()` |\n",
    "| Are two **independent groups** different? | Independent t-test | `ttest_ind()` |\n",
    "| Did **same subjects** change over time? | Paired t-test | `ttest_rel()` |\n",
    "\n",
    "### Real Example: Complete Analysis"
   ]
  },
  {
   "cell_type": "code",
   "execution_count": null,
   "metadata": {},
   "outputs": [],
   "source": [
    "# Study: Does gene expression predict protein levels?\n",
    "# Also: Does drug treatment change protein levels?\n",
    "\n",
    "# Question 1: Correlation between gene expression and protein\n",
    "gene_expr = np.array([3.2, 4.5, 5.8, 6.2, 7.1, 8.3, 9.0, 10.2])\n",
    "protein = np.array([15, 22, 28, 32, 38, 45, 48, 55])\n",
    "\n",
    "r, p = pearsonr(gene_expr, protein)\n",
    "print('Question 1: Gene expression vs Protein level')\n",
    "print(f'Pearson r = {r:.3f}, p = {p:.4f}')\n",
    "print('→ Strong positive correlation!\\n')\n",
    "\n",
    "# Question 2: Does treatment change protein levels?\n",
    "control_protein = np.array([18, 22, 19, 25, 21, 23])\n",
    "treated_protein = np.array([35, 42, 38, 45, 40, 44])\n",
    "\n",
    "t, p_t = ttest_ind(control_protein, treated_protein)\n",
    "print('Question 2: Control vs Treated protein levels')\n",
    "print(f'T-test: t = {t:.3f}, p = {p_t:.4f}')\n",
    "print('→ Treatment significantly increases protein!')"
   ]
  },
  {
   "cell_type": "markdown",
   "metadata": {},
   "source": [
    "### 📝 Practice Question 5 (Challenge)\n",
    "\n",
    "**Scenario:** You're studying the effect of a drug on tumor growth.\n",
    "\n",
    "**Data:**\n",
    "1. Tumor size measured on Day 0 and Day 7 in **same 6 mice** (paired)\n",
    "   - Day 0: [5.2, 5.8, 5.5, 5.9, 5.3, 5.7]\n",
    "   - Day 7: [8.5, 9.2, 8.8, 9.5, 8.7, 9.0]\n",
    "\n",
    "2. Day 7 tumor sizes: **Control (n=6)** vs **Drug (n=6)** groups (independent)\n",
    "   - Control: [8.5, 9.2, 8.8, 9.5, 8.7, 9.0]\n",
    "   - Drug: [6.2, 5.8, 6.5, 5.9, 6.3, 6.0]\n",
    "\n",
    "**Tasks:**\n",
    "1. Test if tumors grew from Day 0 to Day 7 (paired t-test)\n",
    "2. Test if drug reduces tumor size vs control (independent t-test)\n",
    "3. Interpret both results"
   ]
  },
  {
   "cell_type": "code",
   "execution_count": null,
   "metadata": {},
   "outputs": [],
   "source": [
    "# YOUR CODE HERE\n",
    "# Perform both t-tests and interpret\n"
   ]
  },
  {
   "cell_type": "markdown",
   "metadata": {},
   "source": [
    "---\n",
    "\n",
    "## Summary\n",
    "\n",
    "### Key Concepts:\n",
    "\n",
    "**1. Pearson Correlation:**\n",
    "```python\n",
    "from scipy.stats import pearsonr\n",
    "r, p_value = pearsonr(x, y)\n",
    "```\n",
    "- Linear relationships\n",
    "- Sensitive to outliers\n",
    "- r close to ±1 = strong correlation\n",
    "\n",
    "**2. Spearman Correlation:**\n",
    "```python\n",
    "from scipy.stats import spearmanr\n",
    "rho, p_value = spearmanr(x, y)\n",
    "```\n",
    "- Monotonic relationships\n",
    "- Robust to outliers\n",
    "- Works on ranks\n",
    "\n",
    "**3. Independent T-Test:**\n",
    "```python\n",
    "from scipy.stats import ttest_ind\n",
    "t, p_value = ttest_ind(group1, group2)\n",
    "```\n",
    "- Different subjects in each group\n",
    "- Example: Control vs Treatment\n",
    "\n",
    "**4. Paired T-Test:**\n",
    "```python\n",
    "from scipy.stats import ttest_rel\n",
    "t, p_value = ttest_rel(before, after)\n",
    "```\n",
    "- Same subjects measured twice\n",
    "- Example: Before vs After\n",
    "\n",
    "### P-Value Interpretation:\n",
    "- **p < 0.05**: Significant (reject null hypothesis)\n",
    "- **p ≥ 0.05**: Not significant (fail to reject null hypothesis)\n",
    "\n",
    "### Biological Applications:\n",
    "- Gene co-expression analysis (correlation)\n",
    "- Drug efficacy testing (t-tests)\n",
    "- Biomarker discovery (correlation + t-tests)\n",
    "- Time-course experiments (paired t-test)\n",
    "\n",
    "Remember: **Always visualize your data before testing!**"
   ]
  }
 ],
 "metadata": {
  "kernelspec": {
   "display_name": "Python 3",
   "language": "python",
   "name": "python3"
  },
  "language_info": {
   "name": "python",
   "version": "3.9.0"
  }
 },
 "nbformat": 4,
 "nbformat_minor": 4
}
