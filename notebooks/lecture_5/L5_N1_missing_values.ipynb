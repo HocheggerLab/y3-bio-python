{
 "cells": [
  {
   "cell_type": "markdown",
   "metadata": {},
   "source": [
    "# Handling Missing Values in Data\n",
    "\n",
    "Missing data is one of the most common problems in real-world datasets. In this notebook, we'll learn different strategies for dealing with missing values.\n",
    "\n",
    "## Learning Objectives\n",
    "\n",
    "By the end of this notebook, you will be able to:\n",
    "1. Identify missing values in a DataFrame\n",
    "2. Decide when to delete vs. impute missing values\n",
    "3. Apply different imputation strategies (mean, median, forward/backward fill)\n",
    "4. Choose the appropriate strategy based on your data\n",
    "\n",
    "---"
   ]
  },
  {
   "cell_type": "code",
   "execution_count": null,
   "metadata": {},
   "outputs": [],
   "source": [
    "# Import libraries\n",
    "import pandas as pd\n",
    "import numpy as np\n",
    "\n",
    "print('Libraries loaded!')"
   ]
  },
  {
   "cell_type": "markdown",
   "metadata": {},
   "source": [
    "---\n",
    "\n",
    "## Part 1: Identifying Missing Values\n",
    "\n",
    "Let's create a small dataset with some missing values to practice with."
   ]
  },
  {
   "cell_type": "code",
   "execution_count": null,
   "metadata": {},
   "outputs": [],
   "source": [
    "# Create a sample dataset with missing values\n",
    "data = {\n",
    "    'patient_id': ['P001', 'P002', 'P003', 'P004', 'P005', 'P006'],\n",
    "    'age': [45, 32, np.nan, 28, 51, 39],\n",
    "    'weight_kg': [70.5, 65.2, 78.0, np.nan, 82.3, 68.9],\n",
    "    'blood_pressure': [120, np.nan, 135, 118, np.nan, 122],\n",
    "    'cholesterol': [200, 185, np.nan, 195, 210, 178]\n",
    "}\n",
    "\n",
    "df = pd.DataFrame(data)\n",
    "print('Patient data:')\n",
    "print(df)"
   ]
  },
  {
   "cell_type": "markdown",
   "metadata": {},
   "source": [
    "### Detecting Missing Values\n",
    "\n",
    "Use `.isnull()` to find missing values (returns True/False for each cell).\n",
    "\n",
    "Use `.isnull().sum()` to count missing values per column."
   ]
  },
  {
   "cell_type": "code",
   "execution_count": null,
   "metadata": {},
   "outputs": [],
   "source": [
    "# Check which values are missing\n",
    "print('Missing values (True = missing):')\n",
    "print(df.isnull())\n",
    "\n",
    "print('\\nCount of missing values per column:')\n",
    "print(df.isnull().sum())"
   ]
  },
  {
   "cell_type": "markdown",
   "metadata": {},
   "source": [
    "### 📝 Practice Question 1\n",
    "\n",
    "**Task:** Calculate the **percentage** of missing values for each column.\n",
    "\n",
    "**Hint:** Divide the count of missing values by the total number of rows, then multiply by 100."
   ]
  },
  {
   "cell_type": "code",
   "execution_count": null,
   "metadata": {},
   "outputs": [],
   "source": [
    "# YOUR CODE HERE\n",
    "# Calculate percentage of missing values per column\n"
   ]
  },
  {
   "cell_type": "markdown",
   "metadata": {},
   "source": [
    "---\n",
    "\n",
    "## Part 2: Strategy 1 - Deleting Missing Values\n",
    "\n",
    "### When to Delete?\n",
    "- **Delete rows:** When only a few rows have missing data\n",
    "- **Delete columns:** When a column has mostly missing values (e.g., >50% missing)\n",
    "\n",
    "### Deleting Rows with Missing Values"
   ]
  },
  {
   "cell_type": "code",
   "execution_count": null,
   "metadata": {},
   "outputs": [],
   "source": [
    "# Drop any row with at least one missing value\n",
    "df_no_missing = df.dropna()\n",
    "\n",
    "print('Original data had', len(df), 'rows')\n",
    "print('After dropping rows with missing values:', len(df_no_missing), 'rows')\n",
    "print('\\nRemaining data:')\n",
    "print(df_no_missing)"
   ]
  },
  {
   "cell_type": "markdown",
   "metadata": {},
   "source": [
    "⚠️ **Warning:** We lost 5 out of 6 patients! This is too much data loss.\n",
    "\n",
    "### Deleting Columns with Too Many Missing Values\n",
    "\n",
    "Let's create a dataset where one column has mostly missing values."
   ]
  },
  {
   "cell_type": "code",
   "execution_count": null,
   "metadata": {},
   "outputs": [],
   "source": [
    "# Create data with one column having many missing values\n",
    "data2 = {\n",
    "    'patient_id': ['P001', 'P002', 'P003', 'P004', 'P005', 'P006'],\n",
    "    'age': [45, 32, 38, 28, 51, 39],\n",
    "    'weight_kg': [70.5, 65.2, 78.0, 72.1, 82.3, 68.9],\n",
    "    'rare_test': [np.nan, np.nan, 5.2, np.nan, np.nan, np.nan]  # 83% missing!\n",
    "}\n",
    "\n",
    "df2 = pd.DataFrame(data2)\n",
    "print('Dataset with one column having many missing values:')\n",
    "print(df2)\n",
    "\n",
    "print('\\nMissing value percentages:')\n",
    "print((df2.isnull().sum() / len(df2) * 100).round(1))"
   ]
  },
  {
   "cell_type": "code",
   "execution_count": null,
   "metadata": {},
   "outputs": [],
   "source": [
    "# Drop column with >50% missing values\n",
    "threshold = 0.5  # 50%\n",
    "missing_pct = df2.isnull().sum() / len(df2)\n",
    "cols_to_keep = missing_pct[missing_pct <= threshold].index\n",
    "\n",
    "df2_clean = df2[cols_to_keep]\n",
    "\n",
    "print('Columns kept:', list(df2_clean.columns))\n",
    "print('\\nCleaned data:')\n",
    "print(df2_clean)"
   ]
  },
  {
   "cell_type": "markdown",
   "metadata": {},
   "source": [
    "### 📝 Practice Question 2\n",
    "\n",
    "**Task:** Using the original `df`, drop only the rows where **age** is missing (keep rows with other missing values).\n",
    "\n",
    "**Hint:** Use `dropna(subset=['column_name'])`"
   ]
  },
  {
   "cell_type": "code",
   "execution_count": null,
   "metadata": {},
   "outputs": [],
   "source": [
    "# YOUR CODE HERE\n",
    "# Drop rows where age is missing\n"
   ]
  },
  {
   "cell_type": "markdown",
   "metadata": {},
   "source": [
    "---\n",
    "\n",
    "## Part 3: Strategy 2 - Imputing with Mean or Median\n",
    "\n",
    "### When to Use?\n",
    "- **Mean:** When data is roughly normally distributed (no extreme outliers)\n",
    "- **Median:** When data has outliers or is skewed\n",
    "\n",
    "### Imputing with Mean"
   ]
  },
  {
   "cell_type": "code",
   "execution_count": null,
   "metadata": {},
   "outputs": [],
   "source": [
    "# Make a copy to preserve original\n",
    "df_mean = df.copy()\n",
    "\n",
    "# Fill missing age values with mean age\n",
    "age_mean = df_mean['age'].mean()\n",
    "df_mean['age'] = df_mean['age'].fillna(age_mean)\n",
    "\n",
    "print(f'Mean age: {age_mean:.1f}')\n",
    "print('\\nData after filling age with mean:')\n",
    "print(df_mean[['patient_id', 'age']])"
   ]
  },
  {
   "cell_type": "markdown",
   "metadata": {},
   "source": [
    "### Imputing with Median"
   ]
  },
  {
   "cell_type": "code",
   "execution_count": null,
   "metadata": {},
   "outputs": [],
   "source": [
    "# Make a copy to preserve original\n",
    "df_median = df.copy()\n",
    "\n",
    "# Fill missing blood_pressure with median\n",
    "bp_median = df_median['blood_pressure'].median()\n",
    "df_median['blood_pressure'] = df_median['blood_pressure'].fillna(bp_median)\n",
    "\n",
    "print(f'Median blood pressure: {bp_median:.1f}')\n",
    "print('\\nData after filling blood pressure with median:')\n",
    "print(df_median[['patient_id', 'blood_pressure']])"
   ]
  },
  {
   "cell_type": "markdown",
   "metadata": {},
   "source": [
    "### Filling Multiple Columns at Once"
   ]
  },
  {
   "cell_type": "code",
   "execution_count": null,
   "metadata": {},
   "outputs": [],
   "source": [
    "# Fill all numeric columns with their median\n",
    "df_all_median = df.copy()\n",
    "\n",
    "numeric_cols = ['age', 'weight_kg', 'blood_pressure', 'cholesterol']\n",
    "\n",
    "for col in numeric_cols:\n",
    "    median_val = df_all_median[col].median()\n",
    "    df_all_median[col] = df_all_median[col].fillna(median_val)\n",
    "    print(f'{col}: filled with {median_val:.1f}')\n",
    "\n",
    "print('\\nData after filling all columns with median:')\n",
    "print(df_all_median)"
   ]
  },
  {
   "cell_type": "markdown",
   "metadata": {},
   "source": [
    "### 📝 Practice Question 3\n",
    "\n",
    "**Task:** Fill the missing values in the `weight_kg` column with the **mean** weight.\n",
    "\n",
    "Print the DataFrame before and after to see the change."
   ]
  },
  {
   "cell_type": "code",
   "execution_count": null,
   "metadata": {},
   "outputs": [],
   "source": [
    "# YOUR CODE HERE\n",
    "# Fill missing weight_kg with mean\n"
   ]
  },
  {
   "cell_type": "markdown",
   "metadata": {},
   "source": [
    "---\n",
    "\n",
    "## Part 4: Strategy 3 - Forward Fill and Backward Fill\n",
    "\n",
    "### When to Use?\n",
    "- **Time series data** (e.g., daily temperature, stock prices)\n",
    "- **Sequential measurements** (e.g., patient vitals over time)\n",
    "\n",
    "### Forward Fill (ffill)\n",
    "Uses the **previous** value to fill missing values."
   ]
  },
  {
   "cell_type": "code",
   "execution_count": null,
   "metadata": {},
   "outputs": [],
   "source": [
    "# Create time series data (daily temperature readings)\n",
    "temp_data = {\n",
    "    'day': ['Mon', 'Tue', 'Wed', 'Thu', 'Fri', 'Sat', 'Sun'],\n",
    "    'temperature': [22.5, 23.1, np.nan, np.nan, 21.8, 22.3, np.nan]\n",
    "}\n",
    "\n",
    "df_temp = pd.DataFrame(temp_data)\n",
    "print('Temperature data with missing values:')\n",
    "print(df_temp)"
   ]
  },
  {
   "cell_type": "code",
   "execution_count": null,
   "metadata": {},
   "outputs": [],
   "source": [
    "# Forward fill - use previous value\n",
    "df_ffill = df_temp.copy()\n",
    "df_ffill['temperature'] = df_ffill['temperature'].ffill()\n",
    "\n",
    "print('After forward fill (use previous day):')\n",
    "print(df_ffill)"
   ]
  },
  {
   "cell_type": "markdown",
   "metadata": {},
   "source": [
    "### Backward Fill (bfill)\n",
    "Uses the **next** value to fill missing values."
   ]
  },
  {
   "cell_type": "code",
   "execution_count": null,
   "metadata": {},
   "outputs": [],
   "source": [
    "# Backward fill - use next value\n",
    "df_bfill = df_temp.copy()\n",
    "df_bfill['temperature'] = df_bfill['temperature'].bfill()\n",
    "\n",
    "print('After backward fill (use next day):')\n",
    "print(df_bfill)"
   ]
  },
  {
   "cell_type": "markdown",
   "metadata": {},
   "source": [
    "### 📝 Practice Question 4\n",
    "\n",
    "**Task:** Create a DataFrame with patient heart rate measurements over 5 time points. Include 2-3 missing values.\n",
    "\n",
    "Then fill the missing values using **forward fill**.\n",
    "\n",
    "**Hint:** Use the temperature example as a template."
   ]
  },
  {
   "cell_type": "code",
   "execution_count": null,
   "metadata": {},
   "outputs": [],
   "source": [
    "# YOUR CODE HERE\n",
    "# Create heart rate data and apply forward fill\n"
   ]
  },
  {
   "cell_type": "markdown",
   "metadata": {},
   "source": [
    "---\n",
    "\n",
    "## Part 5: Choosing the Right Strategy\n",
    "\n",
    "Here's a decision guide:\n",
    "\n",
    "| Situation | Strategy | Method |\n",
    "|-----------|----------|--------|\n",
    "| < 5% rows with missing values | Delete rows | `dropna()` |\n",
    "| Column has >50% missing | Delete column | `drop(columns=[...])` |\n",
    "| Normal distribution, few outliers | Fill with mean | `.fillna(mean)` |\n",
    "| Skewed data or outliers | Fill with median | `.fillna(median)` |\n",
    "| Time series / sequential data | Forward/backward fill | `.ffill()` or `.bfill()` |\n",
    "\n",
    "### Real-World Example"
   ]
  },
  {
   "cell_type": "code",
   "execution_count": null,
   "metadata": {},
   "outputs": [],
   "source": [
    "# Gene expression data (typical in biology)\n",
    "gene_data = {\n",
    "    'sample_id': ['S1', 'S2', 'S3', 'S4', 'S5', 'S6', 'S7', 'S8'],\n",
    "    'BRCA1': [5.2, 5.8, np.nan, 5.5, 5.1, 5.9, 5.3, 5.7],\n",
    "    'TP53': [7.1, np.nan, 7.3, 7.0, 7.2, 7.4, 7.1, 7.3],\n",
    "    'rare_gene': [np.nan, np.nan, np.nan, np.nan, np.nan, np.nan, 2.1, np.nan]\n",
    "}\n",
    "\n",
    "df_genes = pd.DataFrame(gene_data)\n",
    "\n",
    "print('Gene expression data:')\n",
    "print(df_genes)\n",
    "print('\\nMissing percentages:')\n",
    "print((df_genes.isnull().sum() / len(df_genes) * 100).round(1))"
   ]
  },
  {
   "cell_type": "code",
   "execution_count": null,
   "metadata": {},
   "outputs": [],
   "source": [
    "# Step 1: Drop column with >50% missing\n",
    "df_genes_clean = df_genes.drop(columns=['rare_gene'])\n",
    "print('Step 1: Dropped rare_gene column')\n",
    "\n",
    "# Step 2: Fill remaining missing values with median (gene expression often skewed)\n",
    "df_genes_clean['BRCA1'] = df_genes_clean['BRCA1'].fillna(df_genes_clean['BRCA1'].median())\n",
    "df_genes_clean['TP53'] = df_genes_clean['TP53'].fillna(df_genes_clean['TP53'].median())\n",
    "print('Step 2: Filled BRCA1 and TP53 with median')\n",
    "\n",
    "print('\\nFinal cleaned data:')\n",
    "print(df_genes_clean)\n",
    "print('\\nMissing values remaining:', df_genes_clean.isnull().sum().sum())"
   ]
  },
  {
   "cell_type": "markdown",
   "metadata": {},
   "source": [
    "### 📝 Practice Question 5 (Challenge)\n",
    "\n",
    "**Task:** You have patient data with the following missing value percentages:\n",
    "- `patient_id`: 0%\n",
    "- `age`: 5%\n",
    "- `weight`: 8%\n",
    "- `experimental_marker`: 85%\n",
    "- `daily_steps` (time series): 12%\n",
    "\n",
    "**Decide and implement:**\n",
    "1. Which column(s) should you delete?\n",
    "2. Which column(s) should use mean/median?\n",
    "3. Which column(s) should use forward fill?\n",
    "\n",
    "Create a small example dataset and apply your strategy."
   ]
  },
  {
   "cell_type": "code",
   "execution_count": null,
   "metadata": {},
   "outputs": [],
   "source": [
    "# YOUR CODE HERE\n",
    "# Create the dataset and apply appropriate strategies\n"
   ]
  },
  {
   "cell_type": "markdown",
   "metadata": {},
   "source": [
    "---\n",
    "\n",
    "## Summary\n",
    "\n",
    "### Key Takeaways:\n",
    "\n",
    "1. **Always check for missing values first:** `df.isnull().sum()`\n",
    "\n",
    "2. **Deletion strategies:**\n",
    "   - `dropna()` - remove rows with any missing values\n",
    "   - `dropna(subset=['col'])` - remove rows with missing in specific column\n",
    "   - Drop columns with >50% missing\n",
    "\n",
    "3. **Imputation strategies:**\n",
    "   - `fillna(mean)` - for normal distributions\n",
    "   - `fillna(median)` - for skewed data or outliers\n",
    "   - `ffill()` - for time series (use previous value)\n",
    "   - `bfill()` - for time series (use next value)\n",
    "\n",
    "4. **No perfect solution:** The best strategy depends on:\n",
    "   - How much data is missing\n",
    "   - Type of data (numerical, categorical, time series)\n",
    "   - Your analysis goals\n",
    "\n",
    "### Next Steps:\n",
    "- Practice with your own datasets\n",
    "- Always document which strategy you used and why\n",
    "- Consider the impact on your downstream analysis"
   ]
  }
 ],
 "metadata": {
  "kernelspec": {
   "display_name": "Python 3",
   "language": "python",
   "name": "python3"
  },
  "language_info": {
   "name": "python",
   "version": "3.9.0"
  }
 },
 "nbformat": 4,
 "nbformat_minor": 4
}
