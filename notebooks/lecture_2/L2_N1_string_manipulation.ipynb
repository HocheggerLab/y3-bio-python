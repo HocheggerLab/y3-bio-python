{
 "cells": [
  {
   "cell_type": "markdown",
   "metadata": {},
   "source": [
    "# 🧬 String Manipulation for Biological Data\n",
    "\n",
    "## Mastering Text Processing in Biology\n",
    "\n",
    "In biology, we constantly work with text data:\n",
    "- **DNA/RNA sequences**: ATCG, AUGC\n",
    "- **Protein sequences**: MVLSEGEWQLVLHVWAK...\n",
    "- **Gene names**: BRCA1, TP53, EGFR\n",
    "- **Sample IDs**: S001_Control, S002_Treatment\n",
    "- **File paths**: data/sequences/human_genome.fasta\n",
    "\n",
    "String manipulation is essential for processing, analyzing, and formatting this biological data. Let's master these skills!"
   ]
  },
  {
   "cell_type": "markdown",
   "metadata": {},
   "source": [
    "## 🎯 Why String Manipulation Matters in Biology\n",
    "\n",
    "String operations help you:\n",
    "- **Clean data**: Remove unwanted characters from sequences\n",
    "- **Search patterns**: Find restriction sites, motifs, or mutations\n",
    "- **Format output**: Create proper FASTA files or data tables\n",
    "- **Parse information**: Extract gene names from complex identifiers\n",
    "- **Validate data**: Check if sequences are valid DNA/RNA/protein"
   ]
  },
  {
   "cell_type": "markdown",
   "metadata": {},
   "source": [
    "## 1️⃣ String Basics - Accessing and Slicing\n",
    "\n",
    "Strings are sequences of characters. Like DNA sequences, you can access individual bases or extract subsequences."
   ]
  },
  {
   "cell_type": "code",
   "execution_count": null,
   "metadata": {},
   "outputs": [],
   "source": [
    "# DNA sequence as a string\n",
    "dna_sequence = \"ATCGATCGTAGCTACG\"\n",
    "\n",
    "# Accessing individual characters (0-indexed!)\n",
    "first_base = dna_sequence[0]\n",
    "last_base = dna_sequence[-1]\n",
    "third_base = dna_sequence[2]\n",
    "\n",
    "print(f\"DNA sequence: {dna_sequence}\")\n",
    "print(f\"First base: {first_base}\")\n",
    "print(f\"Last base: {last_base}\")\n",
    "print(f\"Third base (index 2): {third_base}\")\n",
    "\n",
    "# Length of sequence\n",
    "print(f\"\\nSequence length: {len(dna_sequence)} bp\")"
   ]
  },
  {
   "cell_type": "markdown",
   "metadata": {},
   "source": [
    "### Slicing - Extracting Subsequences"
   ]
  },
  {
   "cell_type": "code",
   "execution_count": null,
   "metadata": {},
   "outputs": [],
   "source": [
    "# Slicing syntax: string[start:end:step]\n",
    "gene_sequence = \"ATGGCGACCCTGGAAAAGCTGATG\"\n",
    "\n",
    "# Extract start codon\n",
    "start_codon = gene_sequence[0:3]\n",
    "print(f\"Start codon: {start_codon}\")\n",
    "\n",
    "# Extract first 10 bases\n",
    "first_ten = gene_sequence[:10]\n",
    "print(f\"First 10 bases: {first_ten}\")\n",
    "\n",
    "# Extract last 10 bases\n",
    "last_ten = gene_sequence[-10:]\n",
    "print(f\"Last 10 bases: {last_ten}\")\n",
    "\n",
    "# Extract every third base (reading frame)\n",
    "frame1 = gene_sequence[0::3]\n",
    "frame2 = gene_sequence[1::3]\n",
    "frame3 = gene_sequence[2::3]\n",
    "print(f\"\\nReading frames:\")\n",
    "print(f\"Frame 1: {frame1}\")\n",
    "print(f\"Frame 2: {frame2}\")\n",
    "print(f\"Frame 3: {frame3}\")"
   ]
  },
  {
   "cell_type": "markdown",
   "metadata": {},
   "source": [
    "## 2️⃣ Case Conversion - Upper, Lower, and More\n",
    "\n",
    "Case conversion is crucial for standardizing biological sequences and identifiers."
   ]
  },
  {
   "cell_type": "code",
   "execution_count": null,
   "metadata": {},
   "outputs": [],
   "source": [
    "# Mixed case sequence (common in GenBank files)\n",
    "mixed_sequence = \"ATCGatcgTAGC\"\n",
    "gene_name = \"brca1\"\n",
    "species = \"homo sapiens\"\n",
    "\n",
    "# Convert to uppercase (standard for sequences)\n",
    "dna_upper = mixed_sequence.upper()\n",
    "print(f\"Original: {mixed_sequence}\")\n",
    "print(f\"Uppercase: {dna_upper}\")\n",
    "\n",
    "# Convert to lowercase\n",
    "dna_lower = mixed_sequence.lower()\n",
    "print(f\"Lowercase: {dna_lower}\")\n",
    "\n",
    "# Capitalize first letter (useful for species names)\n",
    "species_formatted = species.title()\n",
    "print(f\"\\nSpecies: {species} → {species_formatted}\")\n",
    "\n",
    "# Gene names often uppercase\n",
    "gene_formatted = gene_name.upper()\n",
    "print(f\"Gene: {gene_name} → {gene_formatted}\")\n",
    "\n",
    "# Check case\n",
    "print(f\"\\nIs uppercase? {dna_upper.isupper()}\")\n",
    "print(f\"Is lowercase? {dna_lower.islower()}\")"
   ]
  },
  {
   "cell_type": "markdown",
   "metadata": {},
   "source": [
    "## 3️⃣ String Methods - Find, Replace, Count\n",
    "\n",
    "These methods are essential for sequence analysis!"
   ]
  },
  {
   "cell_type": "markdown",
   "metadata": {},
   "source": [
    "### Finding Patterns"
   ]
  },
  {
   "cell_type": "code",
   "execution_count": null,
   "metadata": {},
   "outputs": [],
   "source": [
    "# DNA sequence with restriction sites\n",
    "plasmid = \"ATCGAATTCGATCGGATCCTAGCGAATTCGCTA\"\n",
    "\n",
    "# Find restriction site (EcoRI: GAATTC)\n",
    "ecori_site = \"GAATTC\"\n",
    "first_site = plasmid.find(ecori_site)\n",
    "print(f\"Plasmid sequence: {plasmid}\")\n",
    "print(f\"First EcoRI site at position: {first_site}\")\n",
    "\n",
    "# Find from a specific position\n",
    "second_site = plasmid.find(ecori_site, first_site + 1)\n",
    "print(f\"Second EcoRI site at position: {second_site}\")\n",
    "\n",
    "# Check if pattern exists\n",
    "has_bamhi = \"GGATCC\" in plasmid\n",
    "has_pvui = \"CGATCG\" in plasmid\n",
    "print(f\"\\nContains BamHI site (GGATCC)? {has_bamhi}\")\n",
    "print(f\"Contains PvuI site (CGATCG)? {has_pvui}\")\n",
    "\n",
    "# Count occurrences\n",
    "ecori_count = plasmid.count(ecori_site)\n",
    "print(f\"\\nNumber of EcoRI sites: {ecori_count}\")"
   ]
  },
  {
   "cell_type": "markdown",
   "metadata": {},
   "source": [
    "### Replacing Sequences"
   ]
  },
  {
   "cell_type": "code",
   "execution_count": null,
   "metadata": {},
   "outputs": [],
   "source": [
    "# RNA sequence\n",
    "rna = \"AUGCGAUCCUAGUAA\"\n",
    "\n",
    "# Convert RNA to DNA\n",
    "dna = rna.replace(\"U\", \"T\")\n",
    "print(f\"RNA: {rna}\")\n",
    "print(f\"DNA: {dna}\")\n",
    "\n",
    "# Simulate mutation\n",
    "wild_type = \"ATGGCGATCGTAGC\"\n",
    "mutant = wild_type.replace(\"GAT\", \"GTT\")  # Asp → Val mutation\n",
    "print(f\"\\nWild type: {wild_type}\")\n",
    "print(f\"Mutant:    {mutant}\")\n",
    "\n",
    "# Remove unwanted characters from sequence\n",
    "dirty_sequence = \"ATCG ATCG\\nTAGC\\tGCTA\"\n",
    "clean_sequence = dirty_sequence.replace(\" \", \"\").replace(\"\\n\", \"\").replace(\"\\t\", \"\")\n",
    "print(f\"\\nDirty: {repr(dirty_sequence)}\")\n",
    "print(f\"Clean: {clean_sequence}\")"
   ]
  },
  {
   "cell_type": "markdown",
   "metadata": {},
   "source": [
    "## 4️⃣ String Splitting and Joining\n",
    "\n",
    "Essential for parsing biological data files and creating formatted output."
   ]
  },
  {
   "cell_type": "code",
   "execution_count": null,
   "metadata": {},
   "outputs": [],
   "source": [
    "# Splitting strings\n",
    "fasta_header = \">gi|123456|ref|NM_001234.5| Homo sapiens BRCA1 gene\"\n",
    "\n",
    "# Split by pipe symbol\n",
    "header_parts = fasta_header.split(\"|\")\n",
    "print(\"Header parts:\")\n",
    "for i, part in enumerate(header_parts):\n",
    "    print(f\"  {i}: {part}\")\n",
    "\n",
    "# Extract specific information\n",
    "gi_number = header_parts[1]\n",
    "accession = header_parts[3]\n",
    "print(f\"\\nGI: {gi_number}\")\n",
    "print(f\"Accession: {accession}\")\n",
    "\n",
    "# Split sample data\n",
    "samples = \"Control1,Control2,Treatment1,Treatment2\"\n",
    "sample_list = samples.split(\",\")\n",
    "print(f\"\\nSamples: {sample_list}\")"
   ]
  },
  {
   "cell_type": "code",
   "execution_count": null,
   "metadata": {},
   "outputs": [],
   "source": [
    "# Joining strings\n",
    "codons = [\"ATG\", \"GCG\", \"ACC\", \"CTG\", \"GAA\", \"AAG\", \"TGA\"]\n",
    "\n",
    "# Join into continuous sequence\n",
    "full_sequence = \"\".join(codons)\n",
    "print(f\"Codons: {codons}\")\n",
    "print(f\"Joined: {full_sequence}\")\n",
    "\n",
    "# Join with separator\n",
    "codon_display = \"-\".join(codons)\n",
    "print(f\"Display: {codon_display}\")\n",
    "\n",
    "# Create CSV line\n",
    "data = [\"Sample1\", \"25.3\", \"0.95\", \"Positive\"]\n",
    "csv_line = \",\".join(data)\n",
    "print(f\"\\nCSV: {csv_line}\")\n",
    "\n",
    "# Create formatted sequence (groups of 10)\n",
    "long_seq = \"ATCGATCGTAGCTAGCTAGCTAGCTAGCTAGCTAGC\"\n",
    "chunks = [long_seq[i:i+10] for i in range(0, len(long_seq), 10)]\n",
    "formatted = \" \".join(chunks)\n",
    "print(f\"\\nFormatted sequence:\\n{formatted}\")"
   ]
  },
  {
   "cell_type": "markdown",
   "metadata": {},
   "source": [
    "## 5️⃣ String Trimming - Strip, Lstrip, Rstrip\n",
    "\n",
    "Remove unwanted whitespace and characters from the edges of strings."
   ]
  },
  {
   "cell_type": "code",
   "execution_count": null,
   "metadata": {},
   "outputs": [],
   "source": [
    "# Sequence with whitespace\n",
    "messy_sequence = \"  ATCGATCG\\n\"\n",
    "clean = messy_sequence.strip()\n",
    "print(f\"Original: '{messy_sequence}'\")\n",
    "print(f\"Stripped: '{clean}'\")\n",
    "\n",
    "# Remove specific characters\n",
    "sequence_with_ns = \"NNNNATCGATCGNNNN\"\n",
    "trimmed = sequence_with_ns.strip(\"N\")\n",
    "print(f\"\\nWith Ns: {sequence_with_ns}\")\n",
    "print(f\"Trimmed: {trimmed}\")\n",
    "\n",
    "# Left and right strip\n",
    "adapter_seq = \"AAAATCGATCGTTT\"\n",
    "no_polyA = adapter_seq.lstrip(\"A\")\n",
    "no_polyT = adapter_seq.rstrip(\"T\")\n",
    "print(f\"\\nOriginal: {adapter_seq}\")\n",
    "print(f\"No poly-A: {no_polyA}\")\n",
    "print(f\"No poly-T: {no_polyT}\")\n",
    "\n",
    "# Clean file paths\n",
    "file_path = \"  /data/sequences/human.fasta  \\n\"\n",
    "clean_path = file_path.strip()\n",
    "print(f\"\\nPath: '{clean_path}'\")"
   ]
  },
  {
   "cell_type": "markdown",
   "metadata": {},
   "source": [
    "## 6️⃣ String Validation - Checking Content\n",
    "\n",
    "Validate that your biological data is in the correct format."
   ]
  },
  {
   "cell_type": "code",
   "execution_count": null,
   "metadata": {},
   "outputs": [],
   "source": [
    "# Check if string contains only certain characters\n",
    "def is_valid_dna(sequence):\n",
    "    \"\"\"Check if sequence contains only valid DNA bases\"\"\"\n",
    "    valid_bases = set(\"ATCGN\")\n",
    "    return all(base in valid_bases for base in sequence.upper())\n",
    "\n",
    "# Test sequences\n",
    "seq1 = \"ATCGATCG\"\n",
    "seq2 = \"ATCGATUG\"  # Contains U (RNA)\n",
    "seq3 = \"ATCG123\"\n",
    "\n",
    "print(f\"'{seq1}' is valid DNA? {is_valid_dna(seq1)}\")\n",
    "print(f\"'{seq2}' is valid DNA? {is_valid_dna(seq2)}\")\n",
    "print(f\"'{seq3}' is valid DNA? {is_valid_dna(seq3)}\")\n",
    "\n",
    "# Check string properties\n",
    "sample_id = \"S001\"\n",
    "numeric_id = \"12345\"\n",
    "mixed_id = \"S001A\"\n",
    "\n",
    "print(f\"\\n'{sample_id}' is alphanumeric? {sample_id.isalnum()}\")\n",
    "print(f\"'{numeric_id}' is numeric? {numeric_id.isnumeric()}\")\n",
    "print(f\"'{mixed_id}' starts with 'S'? {mixed_id.startswith('S')}\")\n",
    "print(f\"'{mixed_id}' ends with 'A'? {mixed_id.endswith('A')}\")"
   ]
  },
  {
   "cell_type": "markdown",
   "metadata": {},
   "source": [
    "## 7️⃣ Advanced String Operations for Biology"
   ]
  },
  {
   "cell_type": "markdown",
   "metadata": {},
   "source": [
    "### Reverse Complement (DNA)"
   ]
  },
  {
   "cell_type": "code",
   "execution_count": null,
   "metadata": {},
   "outputs": [],
   "source": [
    "def reverse_complement(dna):\n",
    "    \"\"\"Return reverse complement of DNA sequence\"\"\"\n",
    "    complement = {'A': 'T', 'T': 'A', 'C': 'G', 'G': 'C'}\n",
    "    \n",
    "    # Create complement\n",
    "    comp_seq = \"\"\n",
    "    for base in dna:\n",
    "        comp_seq += complement.get(base, base)  # Keep unknown bases as-is\n",
    "    \n",
    "    # Reverse the sequence\n",
    "    rev_comp = comp_seq[::-1]\n",
    "    \n",
    "    return rev_comp\n",
    "\n",
    "# Test the function\n",
    "forward = \"ATCGATCG\"\n",
    "rev_comp = reverse_complement(forward)\n",
    "\n",
    "print(f\"Forward:    5'-{forward}-3'\")\n",
    "print(f\"Rev Comp:   3'-{rev_comp}-5'\")\n",
    "\n",
    "# Check a restriction site\n",
    "ecori = \"GAATTC\"\n",
    "ecori_rc = reverse_complement(ecori)\n",
    "print(f\"\\nEcoRI site: {ecori}\")\n",
    "print(f\"Rev Comp:   {ecori_rc}\")\n",
    "print(f\"Palindromic? {ecori == ecori_rc}\")"
   ]
  },
  {
   "cell_type": "markdown",
   "metadata": {},
   "source": [
    "### GC Content Calculation"
   ]
  },
  {
   "cell_type": "code",
   "execution_count": null,
   "metadata": {},
   "outputs": [],
   "source": [
    "def calculate_gc_content(sequence):\n",
    "    \"\"\"Calculate GC content of DNA sequence\"\"\"\n",
    "    sequence = sequence.upper()\n",
    "    gc_count = sequence.count('G') + sequence.count('C')\n",
    "    total = len(sequence)\n",
    "    \n",
    "    if total == 0:\n",
    "        return 0\n",
    "    \n",
    "    gc_percent = (gc_count / total) * 100\n",
    "    return gc_percent\n",
    "\n",
    "# Test different sequences\n",
    "sequences = [\n",
    "    (\"ATCGATCG\", \"Balanced\"),\n",
    "    (\"GCGCGCGC\", \"High GC\"),\n",
    "    (\"ATATATAT\", \"Low GC\"),\n",
    "    (\"ATCGNNNATCG\", \"With Ns\")\n",
    "]\n",
    "\n",
    "for seq, description in sequences:\n",
    "    gc = calculate_gc_content(seq)\n",
    "    print(f\"{description:12} {seq:15} GC: {gc:.1f}%\")"
   ]
  },
  {
   "cell_type": "markdown",
   "metadata": {},
   "source": [
    "### Codon Translation"
   ]
  },
  {
   "cell_type": "code",
   "execution_count": null,
   "metadata": {},
   "outputs": [],
   "source": [
    "# Simplified codon table\n",
    "codon_table = {\n",
    "    'ATG': 'M', 'TGG': 'W', 'TTT': 'F', 'TTC': 'F',\n",
    "    'TAA': '*', 'TAG': '*', 'TGA': '*',\n",
    "    'GCT': 'A', 'GCC': 'A', 'GCA': 'A', 'GCG': 'A',\n",
    "    'CGT': 'R', 'CGC': 'R', 'CGA': 'R', 'CGG': 'R'\n",
    "}\n",
    "\n",
    "def translate_sequence(dna):\n",
    "    \"\"\"Translate DNA to protein (simplified)\"\"\"\n",
    "    protein = \"\"\n",
    "    \n",
    "    # Process in groups of 3\n",
    "    for i in range(0, len(dna)-2, 3):\n",
    "        codon = dna[i:i+3]\n",
    "        amino_acid = codon_table.get(codon, 'X')  # X for unknown\n",
    "        protein += amino_acid\n",
    "        \n",
    "        # Stop at stop codon\n",
    "        if amino_acid == '*':\n",
    "            break\n",
    "    \n",
    "    return protein\n",
    "\n",
    "# Test translation\n",
    "gene = \"ATGGCTCGTTAG\"\n",
    "protein = translate_sequence(gene)\n",
    "\n",
    "print(f\"DNA:     {gene}\")\n",
    "print(f\"Codons:  \", end=\"\")\n",
    "for i in range(0, len(gene), 3):\n",
    "    print(f\"{gene[i:i+3]} \", end=\"\")\n",
    "print(f\"\\nProtein: {protein}\")"
   ]
  },
  {
   "cell_type": "markdown",
   "metadata": {},
   "source": [
    "## 🧬 Real-World Example: FASTA File Processing"
   ]
  },
  {
   "cell_type": "code",
   "execution_count": null,
   "metadata": {},
   "outputs": [],
   "source": [
    "# Simulate reading a FASTA file\n",
    "fasta_data = \"\"\">seq1|Human|BRCA1|Exon1\n",
    "ATGGATTTATCTGCTCTTCGCGTTGAAGAAGTACAAAATGTCATTAATGCTATGCAGAA\n",
    "AATCTTAGAGTGTCCCATCTGTCTGGAGTTGATCAAGGAACCTGTCTCCACAAAGTGTG\n",
    ">seq2|Mouse|Brca1|Exon1  \n",
    "ATGGCGTTACTGCCACACGCGTTGAAGAAGTACAAAATGTCATTAATGCTATGCAGAAA\n",
    "GTCTTAGAGTGTCCCATCTGTCTGGAGTTGATCAAGGAACCTGTCTCCACAAAGTGTGA\n",
    "\"\"\"\n",
    "\n",
    "# Process the FASTA data\n",
    "lines = fasta_data.strip().split('\\n')\n",
    "sequences = {}\n",
    "current_id = None\n",
    "current_seq = \"\"\n",
    "\n",
    "for line in lines:\n",
    "    line = line.strip()\n",
    "    \n",
    "    if line.startswith('>'):\n",
    "        # Save previous sequence\n",
    "        if current_id:\n",
    "            sequences[current_id] = current_seq\n",
    "        \n",
    "        # Parse new header\n",
    "        header_parts = line[1:].split('|')\n",
    "        current_id = header_parts[0]\n",
    "        current_seq = \"\"\n",
    "        \n",
    "        print(f\"Found sequence: {current_id}\")\n",
    "        print(f\"  Species: {header_parts[1]}\")\n",
    "        print(f\"  Gene: {header_parts[2]}\")\n",
    "    else:\n",
    "        # Add to current sequence\n",
    "        current_seq += line.upper()\n",
    "\n",
    "# Save last sequence\n",
    "if current_id:\n",
    "    sequences[current_id] = current_seq\n",
    "\n",
    "# Analyze sequences\n",
    "print(\"\\nSequence Analysis:\")\n",
    "print(\"-\" * 50)\n",
    "for seq_id, sequence in sequences.items():\n",
    "    gc = calculate_gc_content(sequence)\n",
    "    print(f\"{seq_id}:\")\n",
    "    print(f\"  Length: {len(sequence)} bp\")\n",
    "    print(f\"  GC Content: {gc:.1f}%\")\n",
    "    print(f\"  First 30 bp: {sequence[:30]}\")"
   ]
  },
  {
   "cell_type": "markdown",
   "metadata": {},
   "source": [
    "## 💡 Common String Patterns in Biology"
   ]
  },
  {
   "cell_type": "code",
   "execution_count": null,
   "metadata": {},
   "outputs": [],
   "source": [
    "# Useful string manipulation patterns\n",
    "\n",
    "# 1. Clean sequence data\n",
    "def clean_sequence(seq):\n",
    "    \"\"\"Remove whitespace and convert to uppercase\"\"\"\n",
    "    return seq.replace(\" \", \"\").replace(\"\\n\", \"\").replace(\"\\t\", \"\").upper()\n",
    "\n",
    "# 2. Format sequence for display\n",
    "def format_sequence(seq, chunk_size=10, line_length=60):\n",
    "    \"\"\"Format sequence in chunks\"\"\"\n",
    "    chunks = [seq[i:i+chunk_size] for i in range(0, len(seq), chunk_size)]\n",
    "    lines = []\n",
    "    for i in range(0, len(chunks), line_length//chunk_size):\n",
    "        line_chunks = chunks[i:i+line_length//chunk_size]\n",
    "        lines.append(\" \".join(line_chunks))\n",
    "    return \"\\n\".join(lines)\n",
    "\n",
    "# 3. Extract gene ID from complex header\n",
    "def extract_gene_id(header):\n",
    "    \"\"\"Extract gene ID from FASTA header\"\"\"\n",
    "    # Remove > symbol\n",
    "    header = header.lstrip('>')\n",
    "    # Split and take first part\n",
    "    parts = header.split('|')\n",
    "    return parts[0] if parts else header.split()[0]\n",
    "\n",
    "# Test these functions\n",
    "messy = \"  ATCG atcg\\nTAGC  \\t\"\n",
    "print(f\"Clean: {clean_sequence(messy)}\")\n",
    "\n",
    "long_seq = \"ATCGATCGTAGCTAGCTAGCTAGCTAGCTAGCTAGCATCGATCGTAGCTAGCTAGC\"\n",
    "print(f\"\\nFormatted:\\n{format_sequence(long_seq)}\")\n",
    "\n",
    "header = \">NM_001234.5|Homo sapiens BRCA1 mRNA\"\n",
    "print(f\"\\nGene ID: {extract_gene_id(header)}\")"
   ]
  },
  {
   "cell_type": "markdown",
   "metadata": {},
   "source": [
    "## 🎯 Practice Exercises"
   ]
  },
  {
   "cell_type": "markdown",
   "metadata": {},
   "source": [
    "### Exercise 1: Sequence Validator\n",
    "\n",
    "Create a function that validates whether a sequence is valid DNA, RNA, or protein."
   ]
  },
  {
   "cell_type": "code",
   "execution_count": null,
   "metadata": {},
   "outputs": [],
   "source": [
    "def validate_sequence(sequence, seq_type):\n",
    "    \"\"\"\n",
    "    Validate if sequence is valid DNA, RNA, or protein\n",
    "    \n",
    "    Args:\n",
    "        sequence: string sequence to validate\n",
    "        seq_type: 'DNA', 'RNA', or 'protein'\n",
    "    \n",
    "    Returns:\n",
    "        True if valid, False otherwise\n",
    "    \"\"\"\n",
    "    # TODO: Implement validation logic\n",
    "    # DNA: only ATCGN\n",
    "    # RNA: only AUCGN\n",
    "    # Protein: only valid amino acid letters\n",
    "    \n",
    "    pass\n",
    "\n",
    "# Test cases\n",
    "test_sequences = [\n",
    "    (\"ATCGATCG\", \"DNA\"),\n",
    "    (\"AUCGAUCG\", \"RNA\"),\n",
    "    (\"ATCGATUG\", \"DNA\"),\n",
    "    (\"MVLSPADKTN\", \"protein\")\n",
    "]\n",
    "\n",
    "# Test your function\n",
    "# for seq, seq_type in test_sequences:\n",
    "#     result = validate_sequence(seq, seq_type)\n",
    "#     print(f\"{seq_type:8} '{seq}': {result}\")"
   ]
  },
  {
   "cell_type": "markdown",
   "metadata": {},
   "source": [
    "### Exercise 2: Restriction Site Finder\n",
    "\n",
    "Find all positions of a restriction site in a DNA sequence."
   ]
  },
  {
   "cell_type": "code",
   "execution_count": null,
   "metadata": {},
   "outputs": [],
   "source": [
    "def find_restriction_sites(sequence, site):\n",
    "    \"\"\"\n",
    "    Find all positions of a restriction site in sequence\n",
    "    \n",
    "    Args:\n",
    "        sequence: DNA sequence to search\n",
    "        site: restriction site pattern\n",
    "    \n",
    "    Returns:\n",
    "        List of positions (0-indexed)\n",
    "    \"\"\"\n",
    "    # TODO: Find all positions where site occurs\n",
    "    positions = []\n",
    "    \n",
    "    # Your code here\n",
    "    \n",
    "    return positions\n",
    "\n",
    "# Test\n",
    "plasmid = \"GAATTCATCGATGAATTCGCTAGAATTC\"\n",
    "ecori = \"GAATTC\"\n",
    "\n",
    "# positions = find_restriction_sites(plasmid, ecori)\n",
    "# print(f\"EcoRI sites found at positions: {positions}\")"
   ]
  },
  {
   "cell_type": "markdown",
   "metadata": {},
   "source": [
    "### Exercise 3: Sequence Statistics\n",
    "\n",
    "Calculate various statistics for a DNA sequence."
   ]
  },
  {
   "cell_type": "code",
   "execution_count": null,
   "metadata": {},
   "outputs": [],
   "source": [
    "def sequence_statistics(sequence):\n",
    "    \"\"\"\n",
    "    Calculate statistics for a DNA sequence\n",
    "    \n",
    "    Returns dictionary with:\n",
    "    - length\n",
    "    - gc_content\n",
    "    - at_content  \n",
    "    - a_count, t_count, g_count, c_count\n",
    "    \"\"\"\n",
    "    stats = {}\n",
    "    \n",
    "    # TODO: Calculate all statistics\n",
    "    # Remember to handle uppercase/lowercase\n",
    "    \n",
    "    return stats\n",
    "\n",
    "# Test\n",
    "test_seq = \"ATCGATCGtagcTAGC\"\n",
    "# stats = sequence_statistics(test_seq)\n",
    "# for key, value in stats.items():\n",
    "#     print(f\"{key}: {value}\")"
   ]
  },
  {
   "cell_type": "markdown",
   "metadata": {},
   "source": [
    "### Exercise 4: FASTA Header Parser\n",
    "\n",
    "Parse complex FASTA headers to extract information."
   ]
  },
  {
   "cell_type": "code",
   "execution_count": null,
   "metadata": {},
   "outputs": [],
   "source": [
    "def parse_fasta_header(header):\n",
    "    \"\"\"\n",
    "    Parse a FASTA header and extract information\n",
    "    \n",
    "    Example header:\n",
    "    >gi|123456|ref|NM_001234.5| Homo sapiens BRCA1 (BRCA1), mRNA\n",
    "    \n",
    "    Returns dictionary with available fields\n",
    "    \"\"\"\n",
    "    info = {}\n",
    "    \n",
    "    # TODO: Parse the header\n",
    "    # Extract gi number, accession, description, etc.\n",
    "    \n",
    "    return info\n",
    "\n",
    "# Test headers\n",
    "headers = [\n",
    "    \">gi|123456|ref|NM_001234.5| Homo sapiens BRCA1 (BRCA1), mRNA\",\n",
    "    \">seq1|Human|Chromosome1|Position:1000-2000\"\n",
    "]\n",
    "\n",
    "# for header in headers:\n",
    "#     info = parse_fasta_header(header)\n",
    "#     print(f\"Header: {header}\")\n",
    "#     print(f\"Parsed: {info}\")\n",
    "#     print()"
   ]
  },
  {
   "cell_type": "markdown",
   "metadata": {},
   "source": [
    "### Exercise 5: Sequence Formatter\n",
    "\n",
    "Format a sequence for nice display or file output."
   ]
  },
  {
   "cell_type": "code",
   "execution_count": null,
   "metadata": {},
   "outputs": [],
   "source": [
    "def format_fasta(sequence, header, line_length=60):\n",
    "    \"\"\"\n",
    "    Format sequence as proper FASTA format\n",
    "    \n",
    "    Args:\n",
    "        sequence: DNA/protein sequence\n",
    "        header: FASTA header (without >)\n",
    "        line_length: characters per line\n",
    "    \n",
    "    Returns:\n",
    "        Formatted FASTA string\n",
    "    \"\"\"\n",
    "    # TODO: Create properly formatted FASTA\n",
    "    # - Add > to header\n",
    "    # - Split sequence into lines of specified length\n",
    "    # - Return complete formatted string\n",
    "    \n",
    "    pass\n",
    "\n",
    "# Test\n",
    "long_sequence = \"ATCGATCGTAGCTAGCTAGCTAGCTAGCTAGCTAGCATCGATCGTAGCTAGCTAGCTAGCTAGCTAGCTAGC\" * 3\n",
    "header = \"test_sequence|Example DNA\"\n",
    "\n",
    "# formatted = format_fasta(long_sequence, header, line_length=50)\n",
    "# print(formatted)"
   ]
  },
  {
   "cell_type": "markdown",
   "metadata": {},
   "source": [
    "### Challenge Exercise: Open Reading Frame Finder\n",
    "\n",
    "Find all open reading frames (ORFs) in a DNA sequence."
   ]
  },
  {
   "cell_type": "code",
   "execution_count": null,
   "metadata": {},
   "outputs": [],
   "source": [
    "def find_orfs(sequence, min_length=100):\n",
    "    \"\"\"\n",
    "    Find all open reading frames in a DNA sequence\n",
    "    \n",
    "    An ORF starts with ATG and ends with a stop codon (TAA, TAG, TGA)\n",
    "    \n",
    "    Args:\n",
    "        sequence: DNA sequence to search\n",
    "        min_length: minimum ORF length in bp\n",
    "    \n",
    "    Returns:\n",
    "        List of tuples: (start_pos, end_pos, orf_sequence)\n",
    "    \"\"\"\n",
    "    orfs = []\n",
    "    \n",
    "    # TODO: Implement ORF finding\n",
    "    # Hints:\n",
    "    # 1. Find all ATG positions\n",
    "    # 2. For each ATG, look for stop codons in same frame\n",
    "    # 3. Check if ORF meets minimum length\n",
    "    # 4. Consider all three reading frames\n",
    "    \n",
    "    return orfs\n",
    "\n",
    "# Test sequence with known ORF\n",
    "test_dna = \"GGGATGGCTAGCTAAGGGATGAAACCCTGA\"\n",
    "# orfs = find_orfs(test_dna, min_length=9)\n",
    "# for start, end, orf in orfs:\n",
    "#     print(f\"ORF found: {start}-{end}\")\n",
    "#     print(f\"Sequence: {orf}\")"
   ]
  },
  {
   "cell_type": "markdown",
   "metadata": {},
   "source": [
    "## 🎉 Summary\n",
    "\n",
    "You've mastered essential string manipulation techniques for biological data:\n",
    "\n",
    "### Core Operations\n",
    "✅ **Accessing**: Use indexing `[i]` and slicing `[start:end]`  \n",
    "✅ **Case conversion**: `.upper()`, `.lower()`, `.title()`  \n",
    "✅ **Finding**: `.find()`, `.count()`, `in` operator  \n",
    "✅ **Replacing**: `.replace(old, new)`  \n",
    "✅ **Splitting/Joining**: `.split()`, `.join()`  \n",
    "✅ **Trimming**: `.strip()`, `.lstrip()`, `.rstrip()`  \n",
    "✅ **Validation**: `.startswith()`, `.endswith()`, `.isalnum()`  \n",
    "\n",
    "### Biological Applications\n",
    "✅ Sequence cleaning and validation  \n",
    "✅ Reverse complement calculation  \n",
    "✅ GC content analysis  \n",
    "✅ Restriction site finding  \n",
    "✅ FASTA file processing  \n",
    "✅ Codon translation  \n",
    "\n",
    "### 🔑 Key Takeaways\n",
    "\n",
    "1. **Always clean your data**: Remove whitespace, standardize case\n",
    "2. **Validate input**: Check sequences contain only valid characters\n",
    "3. **Use appropriate methods**: Each string method has its purpose\n",
    "4. **Think in patterns**: Many biological tasks follow similar patterns\n",
    "5. **Format output clearly**: Make results easy to read and use\n",
    "\n",
    "### 🚀 Next Steps\n",
    "\n",
    "With these string manipulation skills, you're ready to:\n",
    "- Work with **conditionals** to make decisions based on sequence content\n",
    "- Use **loops** to process multiple sequences\n",
    "- Read and write **biological file formats**\n",
    "- Build **sequence analysis tools**\n",
    "\n",
    "**Keep practicing!** String manipulation is fundamental to all bioinformatics work. 🧬💻"
   ]
  }
 ],
 "metadata": {
  "kernelspec": {
   "display_name": "Python 3",
   "language": "python",
   "name": "python3"
  },
  "language_info": {
   "codemirror_mode": {
    "name": "ipython",
    "version": 3
   },
   "file_extension": ".py",
   "mimetype": "text/x-python",
   "name": "python",
   "nbconvert_exporter": "python",
   "pygments_lexer": "ipython3",
   "version": "3.8.0"
  }
 },
 "nbformat": 4,
 "nbformat_minor": 4
}
