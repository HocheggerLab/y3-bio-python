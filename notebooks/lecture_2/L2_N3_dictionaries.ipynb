{
 "cells": [
  {
   "cell_type": "markdown",
   "metadata": {},
   "source": [
    "# Lecture 2, Notebook 3: Dictionaries for Biological Data\n",
    "\n",
    "**Learning Objectives:**\n",
    "- Create dictionaries to store biological key-value pairs\n",
    "- Access dictionary values using keys\n",
    "- Use `.keys()`, `.values()`, and `.items()` methods\n",
    "- Add and modify dictionary entries\n",
    "- Use safe operations like `.get()` and `.pop()`\n",
    "- Apply dictionaries to translate DNA codons to amino acids"
   ]
  },
  {
   "cell_type": "markdown",
   "metadata": {},
   "source": [
    "## 1. Creating Your First Codon Dictionary\n",
    "\n",
    "Dictionaries are perfect for storing biological relationships like codon → amino acid mappings."
   ]
  },
  {
   "cell_type": "code",
   "execution_count": 1,
   "metadata": {},
   "outputs": [
    {
     "name": "stdout",
     "output_type": "stream",
     "text": [
      "Codon dictionary:\n",
      "{'ATG': 'M', 'TGG': 'W', 'TTT': 'F', 'TAA': '*'}\n"
     ]
    }
   ],
   "source": [
    "# Create a small codon dictionary\n",
    "codon_table = {\n",
    "    'ATG': 'M',  # Methionine (Start codon)\n",
    "    'TGG': 'W',  # Tryptophan\n",
    "    'TTT': 'F',  # Phenylalanine\n",
    "    'TAA': '*'   # Stop codon\n",
    "}\n",
    "\n",
    "print(\"Codon dictionary:\")\n",
    "print(codon_table)"
   ]
  },
  {
   "cell_type": "markdown",
   "metadata": {},
   "source": [
    "**Exercise 1:** Create your own dictionary called `base_pairs` that maps DNA bases to their complements:\n",
    "- A → T\n",
    "- T → A  \n",
    "- G → C\n",
    "- C → G"
   ]
  },
  {
   "cell_type": "code",
   "execution_count": null,
   "metadata": {},
   "outputs": [],
   "source": [
    "# Your code here\n",
    "base_pairs = {\n",
    "    # Fill in the base pair mappings\n",
    "}\n",
    "\n",
    "print(base_pairs)"
   ]
  },
  {
   "cell_type": "markdown",
   "metadata": {},
   "source": [
    "## 2. Accessing Dictionary Values\n",
    "\n",
    "Use square brackets `[key]` to get specific values, or use `.keys()`, `.values()`, and `.items()` to get collections."
   ]
  },
  {
   "cell_type": "code",
   "execution_count": 2,
   "metadata": {},
   "outputs": [
    {
     "name": "stdout",
     "output_type": "stream",
     "text": [
      "ATG codes for: M\n",
      "TTT codes for: F\n",
      "\n",
      "All codons: dict_keys(['ATG', 'TGG', 'TTT', 'TAA'])\n",
      "All amino acids: dict_values(['M', 'W', 'F', '*'])\n",
      "\n",
      "Codon → Amino acid pairs:\n",
      "ATG → M\n",
      "TGG → W\n",
      "TTT → F\n",
      "TAA → *\n"
     ]
    }
   ],
   "source": [
    "# Access individual values\n",
    "print(\"ATG codes for:\", codon_table['ATG'])\n",
    "print(\"TTT codes for:\", codon_table['TTT'])\n",
    "\n",
    "print(\"\\nAll codons:\", codon_table.keys())\n",
    "print(\"All amino acids:\", codon_table.values())\n",
    "\n",
    "print(\"\\nCodon → Amino acid pairs:\")\n",
    "for codon, amino_acid in codon_table.items():\n",
    "    print(f\"{codon} → {amino_acid}\")"
   ]
  },
  {
   "cell_type": "markdown",
   "metadata": {},
   "source": [
    "**Exercise 2:** Using your `base_pairs` dictionary from above:\n",
    "1. Print what 'A' pairs with\n",
    "2. Print what 'G' pairs with\n",
    "3. Loop through all base pairs and print them in the format \"X pairs with Y\""
   ]
  },
  {
   "cell_type": "code",
   "execution_count": null,
   "metadata": {},
   "outputs": [],
   "source": [
    "# Your code here\n"
   ]
  },
  {
   "cell_type": "markdown",
   "metadata": {},
   "source": [
    "## 3. Adding and Modifying Dictionary Entries\n",
    "\n",
    "You can add new entries or change existing ones using the same `dict[key] = value` syntax."
   ]
  },
  {
   "cell_type": "code",
   "execution_count": null,
   "metadata": {},
   "outputs": [],
   "source": [
    "# Start with our original codon table\n",
    "codon_table = {\n",
    "    'ATG': 'M',\n",
    "    'TGG': 'W',\n",
    "    'TTT': 'F',\n",
    "    'TAA': '*'\n",
    "}\n",
    "\n",
    "print(\"Original:\", codon_table)\n",
    "\n",
    "# Add new codons\n",
    "codon_table['AAA'] = 'K'  # Lysine\n",
    "codon_table['CCC'] = 'P'  # Proline\n",
    "\n",
    "print(\"After adding:\", codon_table)\n",
    "\n",
    "# Change existing value (for demonstration)\n",
    "codon_table['ATG'] = 'Start'\n",
    "print(\"After changing ATG:\", codon_table)"
   ]
  },
  {
   "cell_type": "markdown",
   "metadata": {},
   "source": [
    "**Exercise 3:** Create a dictionary called `nucleotide_info` that stores information about DNA bases:\n",
    "1. Start with: `{'A': 'Adenine', 'T': 'Thymine'}`\n",
    "2. Add entries for 'G' (Guanine) and 'C' (Cytosine)\n",
    "3. Print the final dictionary"
   ]
  },
  {
   "cell_type": "code",
   "execution_count": null,
   "metadata": {},
   "outputs": [],
   "source": [
    "# Your code here\n",
    "nucleotide_info = {'A': 'Adenine', 'T': 'Thymine'}\n",
    "\n",
    "# Add G and C entries\n",
    "\n",
    "print(nucleotide_info)"
   ]
  },
  {
   "cell_type": "markdown",
   "metadata": {},
   "source": [
    "## 4. Safe Dictionary Operations\n",
    "\n",
    "Use `.get()` to avoid errors when a key might not exist, and `.pop()` to remove entries safely."
   ]
  },
  {
   "cell_type": "code",
   "execution_count": null,
   "metadata": {},
   "outputs": [],
   "source": [
    "# Reset our codon table\n",
    "codon_table = {\n",
    "    'ATG': 'M',\n",
    "    'TGG': 'W',\n",
    "    'TTT': 'F',\n",
    "    'TAA': '*'\n",
    "}\n",
    "\n",
    "# Safe lookup with .get()\n",
    "print(\"ATG codes for:\", codon_table.get('ATG'))        # Found\n",
    "print(\"XYZ codes for:\", codon_table.get('XYZ'))        # Missing - returns None\n",
    "print(\"XYZ codes for:\", codon_table.get('XYZ', '?'))   # Missing - returns default\n",
    "\n",
    "# Remove an entry with .pop()\n",
    "removed = codon_table.pop('TAA')\n",
    "print(f\"\\nRemoved {removed} from the table\")\n",
    "print(\"Updated table:\", codon_table)"
   ]
  },
  {
   "cell_type": "markdown",
   "metadata": {},
   "source": [
    "**Exercise 4:** Using the `codon_table` from above:\n",
    "1. Use `.get()` to safely look up 'TTT' and 'GGG' \n",
    "2. For missing codons, return 'Unknown' as the default\n",
    "3. Use `.pop()` to remove 'TGG' from the table and print what was removed"
   ]
  },
  {
   "cell_type": "code",
   "execution_count": null,
   "metadata": {},
   "outputs": [],
   "source": [
    "# Your code here\n"
   ]
  },
  {
   "cell_type": "markdown",
   "metadata": {},
   "source": [
    "## 5. Practical Application: Analysing Plant Pollinator Relationships\n",
    "\n",
    "Let's use our dictionary skills to analyse a database"
   ]
  },
  {
   "cell_type": "code",
   "execution_count": 12,
   "metadata": {},
   "outputs": [],
   "source": [
    "plant_pollinators = {\n",
    "    \"sunflower\": [\"bee\", \"butterfly\", \"beetle\"],\n",
    "    \"lavender\": [\"bee\", \"hummingbird\"],\n",
    "    \"cherry_blossom\": [\"bee\", \"fly\"],\n",
    "    \"orchid\": [\"butterfly\", \"moth\", \"hummingbird\"],\n",
    "    \"dandelion\": [\"bee\", \"fly\", \"beetle\", \"ant\"],\n",
    "    \"rose\": [\"bee\", \"butterfly\"],\n",
    "    \"lily\": [\"butterfly\", \"moth\", \"bee\"],\n",
    "}\n"
   ]
  },
  {
   "cell_type": "markdown",
   "metadata": {},
   "source": [
    "### question 1 How many plants and polinators are present?\n",
    "\n",
    "To get the number of plants (dictionary keys) we can just use the len(method).\n",
    "Counting the pollinators is a bit more tricky, \n",
    "because some pollinators will appear in several plants."
   ]
  },
  {
   "cell_type": "code",
   "execution_count": 16,
   "metadata": {},
   "outputs": [
    {
     "name": "stdout",
     "output_type": "stream",
     "text": [
      "There are 7 plants in the database\n",
      "There are 7 pollinators in the database\n"
     ]
    }
   ],
   "source": [
    "# Count pollinator diversity\n",
    "\n",
    "\n",
    "all_pollinators = []\n",
    "for pollinator_list in plant_pollinators.values():\n",
    "    for pollinator in pollinator_list:\n",
    "        if pollinator not in all_pollinators:\n",
    "            all_pollinators.append(pollinator)\n",
    "\n",
    "print(f\"There are {len(plant_pollinators)} plants in the database\")\n",
    "print(f\"There are {len(all_pollinators)} pollinators in the database\")\n",
    "\n"
   ]
  },
  {
   "cell_type": "markdown",
   "metadata": {},
   "source": [
    "### Pro-tip\n",
    "Using sets can simplify this code! Sets are like lists but unordered and only allow single occurences of a specific value.\n",
    "We can use this feature to filter out duplicates.\n"
   ]
  },
  {
   "cell_type": "code",
   "execution_count": 17,
   "metadata": {},
   "outputs": [
    {
     "name": "stdout",
     "output_type": "stream",
     "text": [
      "There are 7 plants in the database\n",
      "There are 7 pollinators in the database\n"
     ]
    }
   ],
   "source": [
    "all_pollinators = set()\n",
    "for pollinator_set in plant_pollinators.values():\n",
    "    all_pollinators.update(pollinator_set) # update does not add duplicates\n",
    "\n",
    "print(f\"There are {len(plant_pollinators)} plants in the database\")\n",
    "print(f\"There are {len(all_pollinators)} pollinators in the database\")\n"
   ]
  },
  {
   "cell_type": "markdown",
   "metadata": {},
   "source": [
    "### Question 2 How many plants does each pollinator visit? And which pollinator visits the most plants?"
   ]
  },
  {
   "cell_type": "code",
   "execution_count": 19,
   "metadata": {},
   "outputs": [
    {
     "name": "stdout",
     "output_type": "stream",
     "text": [
      "{'bee': 6, 'butterfly': 4, 'beetle': 2, 'hummingbird': 2, 'fly': 2, 'moth': 2, 'ant': 1}\n"
     ]
    }
   ],
   "source": [
    "# Find most important pollinator (visits most plant types)\n",
    "pollinator_visits = {}\n",
    "for pollinator_list in plant_pollinators.values():\n",
    "    for pollinator in pollinator_list:\n",
    "        if pollinator in pollinator_visits:\n",
    "            pollinator_visits[pollinator] += 1\n",
    "        else:\n",
    "            pollinator_visits[pollinator] = 1\n",
    "\n",
    "print(pollinator_visits)"
   ]
  },
  {
   "cell_type": "markdown",
   "metadata": {},
   "source": [
    "getting the most visited pollinator is a bit more tricky, but again there are pro-tips for that!\n"
   ]
  },
  {
   "cell_type": "code",
   "execution_count": 20,
   "metadata": {},
   "outputs": [
    {
     "name": "stdout",
     "output_type": "stream",
     "text": [
      "The most important pollinator is bee with 6 visits\n"
     ]
    }
   ],
   "source": [
    "key_pollinator = \"\"\n",
    "max_visits = 0\n",
    "for pollinator, visits in pollinator_visits.items():\n",
    "    if visits > max_visits:\n",
    "        max_visits = visits\n",
    "        key_pollinator = pollinator\n",
    "print(f\"The most important pollinator is {key_pollinator} with {max_visits} visits\")"
   ]
  },
  {
   "cell_type": "markdown",
   "metadata": {},
   "source": [
    "### pro-tip using max function with dictionaries"
   ]
  },
  {
   "cell_type": "code",
   "execution_count": 24,
   "metadata": {},
   "outputs": [
    {
     "name": "stdout",
     "output_type": "stream",
     "text": [
      "The most important pollinator is bee with 6 visits\n"
     ]
    }
   ],
   "source": [
    "key_pollinator = max(pollinator_visits, key=pollinator_visits.get)\n",
    "max_visits = max(pollinator_visits.values())\n",
    "print(f\"The most important pollinator is {key_pollinator} with {max_visits} visits\")\n",
    "\n"
   ]
  },
  {
   "cell_type": "markdown",
   "metadata": {},
   "source": [
    "# 🧠 Dictionary Challenge: Neural Network Analysis\n",
    "Your neuroscience lab has recorded data from different brain regions during various cognitive tasks. Use your dictionary skills to analyze this neural activity data!\n"
   ]
  },
  {
   "cell_type": "code",
   "execution_count": 23,
   "metadata": {},
   "outputs": [],
   "source": [
    "# Neural activity data (spikes per second) during different cognitive tasks\n",
    "brain_regions = {\n",
    "    \"prefrontal_cortex\": {\n",
    "        \"memory_task\": 45,\n",
    "        \"attention_task\": 67,\n",
    "        \"decision_task\": 52,\n",
    "        \"rest\": 12,\n",
    "    },\n",
    "    \"hippocampus\": {\n",
    "        \"memory_task\": 89,\n",
    "        \"spatial_task\": 76,\n",
    "        \"rest\": 8,\n",
    "        \"learning_task\": 94,\n",
    "    },\n",
    "    \"visual_cortex\": {\n",
    "        \"visual_task\": 134,\n",
    "        \"attention_task\": 45,\n",
    "        \"rest\": 15,\n",
    "        \"memory_task\": 23,\n",
    "    },\n",
    "    \"motor_cortex\": {\n",
    "        \"movement_task\": 98,\n",
    "        \"coordination_task\": 87,\n",
    "        \"rest\": 9,\n",
    "        \"decision_task\": 34,\n",
    "    },\n",
    "}\n"
   ]
  },
  {
   "cell_type": "markdown",
   "metadata": {},
   "source": [
    "## 🎯 Challenge Tasks\n",
    "### Task 1: Task-Specific Activation (Beginner)\n",
    "Write code to find:\n",
    "\n",
    "Which brain region shows the highest activity during any single task?\n",
    "Which brain region has the lowest resting activity?\n",
    "What's the average neural activity across all regions during rest?\n",
    "\n",
    "Hint: You'll need to loop through each brain region and examine the activity levels.\n",
    "### Task 2: Task Distribution Analysis (Beginner-Intermediate)\n",
    "Create a new dictionary that shows:\n",
    "\n",
    "How many different brain regions are active during each task type\n",
    "Which task activates the most brain regions?\n",
    "Which tasks are only performed by one brain region?\n",
    "\n",
    "### Task 3: Activation vs Baseline (Intermediate)\n",
    "Using the baseline_activity dictionary, determine:\n",
    "\n",
    "For each brain region, which tasks show activity ABOVE baseline?\n",
    "Which brain region shows the biggest increase from baseline during its most active task?\n",
    "Create a new dictionary showing the \"activation ratio\" (task activity ÷ baseline) for each region's highest task\n",
    "\n",
    "### Task 4: Neurotransmitter Profile (Intermediate)\n",
    "Analyze the neurotransmitter data:\n",
    "\n",
    "Which neurotransmitter appears in the most brain regions?\n",
    "Which brain region has the highest total neurotransmitter concentration?\n",
    "Create a dictionary showing the average concentration of each neurotransmitter across all regions where it's found\n",
    "\n",
    "Task 5: Specialization Index (Advanced)\n",
    "Calculate a \"specialization score\" for each brain region:\n",
    "\n",
    "Find the difference between the highest and lowest task activities for each region\n",
    "A higher difference means more specialized (big difference between tasks)\n",
    "Rank the brain regions from most specialized to least specialized\n",
    "\n",
    "### Task 6: Cross-Reference Challenge (Advanced)\n",
    "Combine multiple dictionaries to find:\n",
    "\n",
    "Which brain region has both high dopamine concentration AND high decision-making activity?\n",
    "Do regions with higher baseline activity also tend to have higher peak task activity?\n",
    "Create a \"neural profile\" dictionary for each region combining: highest task, neurotransmitter count, and baseline activity\n",
    "\n",
    "### 🔬 Bonus Challenge: Neural Circuit Mapping\n",
    "Create a function called analyze_neural_circuit() that takes a task name as input and returns:\n",
    "\n",
    "All brain regions active during that task\n",
    "The total neural activity for that task across all regions\n",
    "The most active region for that specific task"
   ]
  },
  {
   "cell_type": "markdown",
   "metadata": {},
   "source": [
    "## Summary\n",
    "\n",
    "In this notebook, you've learned:\n",
    "\n",
    "✅ **Dictionary Creation**: Using `{key: value}` syntax for biological data  \n",
    "✅ **Accessing Values**: Using `[key]`, `.keys()`, `.values()`, and `.items()`  \n",
    "✅ **Modifying Dictionaries**: Adding and changing entries with `dict[key] = value`  \n",
    "✅ **Safe Operations**: Using `.get()` and `.pop()` to handle missing keys  \n",
    "✅ **Practical Application**: Translating DNA sequences using codon dictionaries, Analysing Pollinator/Plant relations, Analysing Neural activities. \n",
    "\n",
    "\n",
    "\n",
    "Dictionaries are essential for bioinformatics because they let you efficiently store and look up biological relationships - exactly what you need for analyzing sequences!"
   ]
  },
  {
   "cell_type": "markdown",
   "metadata": {},
   "source": []
  },
  {
   "cell_type": "markdown",
   "metadata": {},
   "source": []
  }
 ],
 "metadata": {
  "kernelspec": {
   "display_name": ".venv",
   "language": "python",
   "name": "python3"
  },
  "language_info": {
   "codemirror_mode": {
    "name": "ipython",
    "version": 3
   },
   "file_extension": ".py",
   "mimetype": "text/x-python",
   "name": "python",
   "nbconvert_exporter": "python",
   "pygments_lexer": "ipython3",
   "version": "3.13.3"
  }
 },
 "nbformat": 4,
 "nbformat_minor": 4
}
