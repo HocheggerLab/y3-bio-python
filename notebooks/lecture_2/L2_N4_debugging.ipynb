{
 "cells": [
  {
   "cell_type": "markdown",
   "id": "cell-0",
   "metadata": {},
   "source": [
    "# Lecture 2, Notebook 4: Debugging Biological Code\n",
    "\n",
    "**Learning Objectives:**\n",
    "- Identify and fix common syntax errors in biological code\n",
    "- Debug type errors when working with biological data\n",
    "- Resolve name errors and undefined variables\n",
    "- Fix logic errors in biological calculations\n",
    "- Use debugging strategies to solve problems systematically\n",
    "- Apply debugging skills to lists, loops, conditionals, and dictionaries"
   ]
  },
  {
   "cell_type": "markdown",
   "id": "cell-1",
   "metadata": {},
   "source": [
    "## 🐛 Debug Challenge 1: DNA Base Counter (Syntax Error)\n",
    "\n",
    "**Biology Context:** Count the frequency of each DNA base in a sequence.\n",
    "\n",
    "**The Problem:** This code has a syntax error. Can you spot and fix it?"
   ]
  },
  {
   "cell_type": "code",
   "execution_count": null,
   "id": "cell-2",
   "metadata": {},
   "outputs": [],
   "source": [
    "# Fix the syntax error in this DNA base counter\n",
    "dna = \"ATGGCATCGATC\"\n",
    "base_count = {'A': 0, 'T': 0, 'G': 0, 'C': 0}\n",
    "for base in dna\n",
    "    base_count[base] += 1\n",
    "print(base_count)"
   ]
  },
  {
   "cell_type": "markdown",
   "id": "cell-3",
   "metadata": {},
   "source": [
    "## 🐛 Debug Challenge 2: Plant Height Measurements (Type Error)\n",
    "\n",
    "**Biology Context:** Calculate average plant height from mixed data types.\n",
    "\n",
    "**The Problem:** This code tries to mix incompatible data types."
   ]
  },
  {
   "cell_type": "code",
   "execution_count": null,
   "id": "cell-4",
   "metadata": {},
   "outputs": [],
   "source": [
    "# Fix the type error in this plant height calculator\n",
    "plant_heights = [15.2, 12.8, \"14.5\", 16.1, 13.7]\n",
    "total_height = 0\n",
    "for height in plant_heights:\n",
    "    total_height += height\n",
    "average = total_height / len(plant_heights)\n",
    "print(f\"Average height: {average} cm\")"
   ]
  },
  {
   "cell_type": "markdown",
   "id": "cell-3",
   "metadata": {},
   "source": [
    "## 🐛 Debug Challenge 3: Enzyme Activity Calculator (Name Error)\n",
    "\n",
    "**Biology Context:** Calculate enzyme activity rate from substrate concentration.\n",
    "\n",
    "**The Problem:** This code references an undefined variable."
   ]
  },
  {
   "cell_type": "code",
   "execution_count": null,
   "id": "cell-6",
   "metadata": {},
   "outputs": [],
   "source": [
    "# Fix the name error in this enzyme calculator\n",
    "substrate_conc = 0.5  # mM\n",
    "max_velocity = 10.0   # μmol/min\n",
    "activity = (max_velocity * substrate_conc) / (km + substrate_conc)\n",
    "print(f\"Enzyme activity: {activity} μmol/min\")"
   ]
  },
  {
   "cell_type": "markdown",
   "id": "cell-7",
   "metadata": {},
   "source": [
    "## 🐛 Debug Challenge 4: Gene Expression Analysis (Index Error)\n",
    "\n",
    "**Biology Context:** Analyze gene expression levels across different conditions.\n",
    "\n",
    "**The Problem:** This code tries to access a list element that doesn't exist."
   ]
  },
  {
   "cell_type": "code",
   "execution_count": null,
   "id": "cell-8",
   "metadata": {},
   "outputs": [],
   "source": [
    "# Fix the index error in this gene expression analyzer\n",
    "gene_expression = [2.1, 3.5, 1.8, 4.2]\n",
    "conditions = [\"control\", \"heat_stress\", \"drought\", \"cold\"]\n",
    "for i in range(len(conditions) + 1):\n",
    "    print(f\"{conditions[i]}: {gene_expression[i]} fold change\")"
   ]
  },
  {
   "cell_type": "markdown",
   "id": "cell-9",
   "metadata": {},
   "source": [
    "## 🐛 Debug Challenge 5: Cell Division Counter (Logic Error)\n",
    "\n",
    "**Biology Context:** Count bacterial cell divisions over time.\n",
    "\n",
    "**The Problem:** The logic is wrong - bacteria divide exponentially, not linearly!"
   ]
  },
  {
   "cell_type": "code",
   "execution_count": null,
   "id": "cell-10",
   "metadata": {},
   "outputs": [],
   "source": [
    "# Fix the logic error in this cell division counter\n",
    "initial_cells = 100\n",
    "divisions = 3\n",
    "# Each division doubles the cell count\n",
    "final_cells = initial_cells + (divisions * 2)\n",
    "print(f\"After {divisions} divisions: {final_cells} cells\")"
   ]
  },
  {
   "cell_type": "markdown",
   "id": "cell-11",
   "metadata": {},
   "source": [
    "## 🐛 Debug Challenge 6: Protein Molecular Weight (Dictionary Error)\n",
    "\n",
    "**Biology Context:** Calculate protein molecular weight from amino acid composition.\n",
    "\n",
    "**The Problem:** This code tries to access a dictionary key that doesn't exist."
   ]
  },
  {
   "cell_type": "code",
   "execution_count": null,
   "id": "cell-12",
   "metadata": {},
   "outputs": [],
   "source": [
    "# Fix the dictionary error in this molecular weight calculator\n",
    "amino_weights = {'A': 89, 'R': 174, 'N': 132, 'D': 133}\n",
    "protein_sequence = \"ARNDX\"  # X is an unknown amino acid\n",
    "total_weight = 0\n",
    "for amino_acid in protein_sequence:\n",
    "    total_weight += amino_weights[amino_acid]\n",
    "print(f\"Protein weight: {total_weight} Da\")"
   ]
  },
  {
   "cell_type": "markdown",
   "id": "cell-13",
   "metadata": {},
   "source": [
    "## 🐛 Debug Challenge 7: Phylogenetic Distance (Division by Zero)\n",
    "\n",
    "**Biology Context:** Calculate genetic distance between species.\n",
    "\n",
    "**The Problem:** This code divides by zero when sequences are identical."
   ]
  },
  {
   "cell_type": "code",
   "execution_count": null,
   "id": "cell-14",
   "metadata": {},
   "outputs": [],
   "source": [
    "# Fix the division by zero error in this distance calculator\n",
    "species_a = \"ATGC\"\n",
    "species_b = \"ATGC\"  # Same sequence!\n",
    "differences = sum(a != b for a, b in zip(species_a, species_b))\n",
    "distance = differences / differences  # Should be differences/total_positions\n",
    "print(f\"Genetic distance: {distance}\")"
   ]
  },
  {
   "cell_type": "markdown",
   "id": "cell-15",
   "metadata": {},
   "source": [
    "## 🐛 Debug Challenge 8: Population Growth Model (Indentation Error)\n",
    "\n",
    "**Biology Context:** Model exponential population growth in ecology.\n",
    "\n",
    "**The Problem:** Python indentation is incorrect."
   ]
  },
  {
   "cell_type": "code",
   "execution_count": null,
   "id": "cell-16",
   "metadata": {},
   "outputs": [],
   "source": [
    "# Fix the indentation error in this population model\n",
    "population = 50\n",
    "growth_rate = 0.1\n",
    "years = 5\n",
    "for year in range(years):\n",
    "population *= (1 + growth_rate)\n",
    "    print(f\"Year {year + 1}: {population:.0f} individuals\")"
   ]
  },
  {
   "cell_type": "markdown",
   "id": "cell-17",
   "metadata": {},
   "source": [
    "## 🐛 Debug Challenge 9: Codon Translation (Loop Logic Error)\n",
    "\n",
    "**Biology Context:** Translate DNA codons to amino acids.\n",
    "\n",
    "**The Problem:** The loop doesn't process codons correctly."
   ]
  },
  {
   "cell_type": "code",
   "execution_count": null,
   "id": "cell-18",
   "metadata": {},
   "outputs": [],
   "source": [
    "# Fix the loop logic error in this codon translator\n",
    "genetic_code = {'ATG': 'M', 'TGG': 'W', 'TTT': 'F', 'TAA': '*'}\n",
    "dna_sequence = \"ATGTGGTTTTAA\"\n",
    "protein = \"\"\n",
    "for i in range(len(dna_sequence)):\n",
    "    codon = dna_sequence[i:i+3]\n",
    "    if codon in genetic_code:\n",
    "        protein += genetic_code[codon]\n",
    "print(f\"Protein: {protein}\")"
   ]
  },
  {
   "cell_type": "markdown",
   "id": "cell-19",
   "metadata": {},
   "source": [
    "## 🐛 Debug Challenge 10: Biodiversity Index (Conditional Logic Error)\n",
    "\n",
    "**Biology Context:** Calculate Simpson's diversity index for species abundance.\n",
    "\n",
    "**The Problem:** The conditional logic is backwards!"
   ]
  },
  {
   "cell_type": "code",
   "execution_count": null,
   "id": "cell-20",
   "metadata": {},
   "outputs": [],
   "source": [
    "# Fix the conditional logic error in this diversity calculator\n",
    "species_counts = [15, 8, 12, 5, 20]\n",
    "total_organisms = sum(species_counts)\n",
    "diversity_sum = 0\n",
    "for count in species_counts:\n",
    "    if count > 0:  # Only count species that are absent\n",
    "        proportion = count / total_organisms\n",
    "        diversity_sum += proportion ** 2\n",
    "simpson_index = 1 - diversity_sum\n",
    "print(f\"Simpson's diversity index: {simpson_index:.3f}\")"
   ]
  },
  {
   "cell_type": "markdown",
   "id": "cell-21",
   "metadata": {},
   "source": [
    "## 💡 Debugging Tips Summary\n",
    "\n",
    "**When debugging biological code:**\n",
    "\n",
    "1. **Read error messages carefully** - they tell you the line number and error type\n",
    "2. **Check your syntax** - missing colons, parentheses, or quotes are common\n",
    "3. **Verify data types** - make sure you're not mixing strings and numbers\n",
    "4. **Watch for typos** - variable and function names must be spelled exactly right\n",
    "5. **Test with simple data** - use small examples to verify your logic\n",
    "6. **Print intermediate values** - see what your variables contain at each step\n",
    "7. **Think about edge cases** - what happens with empty lists or zero values?\n",
    "\n",
    "**Remember:** Every bioinformatics expert has spent countless hours debugging code. It's a normal part of programming!"
   ]
  },
  {
   "cell_type": "markdown",
   "id": "cell-22",
   "metadata": {},
   "source": [
    "## 🏆 Debugging Challenge Solutions\n",
    "\n",
    "Try to solve the challenges above before looking at these solutions!"
   ]
  },
  {
   "cell_type": "code",
   "execution_count": null,
   "id": "cell-23",
   "metadata": {},
   "outputs": [],
   "source": [
    "# Solution 1: Add missing colon after for loop\n",
    "dna = \"ATGGCATCGATC\"\n",
    "base_count = {'A': 0, 'T': 0, 'G': 0, 'C': 0}\n",
    "for base in dna:  # Missing colon was here\n",
    "    base_count[base] += 1\n",
    "print(base_count)"
   ]
  },
  {
   "cell_type": "code",
   "execution_count": null,
   "id": "cell-24",
   "metadata": {},
   "outputs": [],
   "source": [
    "# Solution 2: Convert string to float\n",
    "plant_heights = [15.2, 12.8, \"14.5\", 16.1, 13.7]\n",
    "total_height = 0\n",
    "for height in plant_heights:\n",
    "    total_height += float(height)  # Convert to float\n",
    "average = total_height / len(plant_heights)\n",
    "print(f\"Average height: {average} cm\")"
   ]
  },
  {
   "cell_type": "code",
   "execution_count": null,
   "id": "cell-25",
   "metadata": {},
   "outputs": [],
   "source": [
    "# Solution 3: Define missing variable km\n",
    "substrate_conc = 0.5  # mM\n",
    "max_velocity = 10.0   # μmol/min\n",
    "km = 1.0  # Missing Michaelis constant\n",
    "activity = (max_velocity * substrate_conc) / (km + substrate_conc)\n",
    "print(f\"Enzyme activity: {activity} μmol/min\")"
   ]
  },
  {
   "cell_type": "code",
   "execution_count": null,
   "id": "cell-26",
   "metadata": {},
   "outputs": [],
   "source": [
    "# Solution 4: Fix range to not go beyond list length\n",
    "gene_expression = [2.1, 3.5, 1.8, 4.2]\n",
    "conditions = [\"control\", \"heat_stress\", \"drought\", \"cold\"]\n",
    "for i in range(len(conditions)):  # Remove + 1\n",
    "    print(f\"{conditions[i]}: {gene_expression[i]} fold change\")"
   ]
  },
  {
   "cell_type": "code",
   "execution_count": null,
   "id": "cell-27",
   "metadata": {},
   "outputs": [],
   "source": [
    "# Solution 5: Use exponential growth (multiply, not add)\n",
    "initial_cells = 100\n",
    "divisions = 3\n",
    "final_cells = initial_cells * (2 ** divisions)  # 2^divisions\n",
    "print(f\"After {divisions} divisions: {final_cells} cells\")"
   ]
  },
  {
   "cell_type": "code",
   "execution_count": null,
   "id": "cell-28",
   "metadata": {},
   "outputs": [],
   "source": [
    "# Solution 6: Use .get() for safe dictionary access\n",
    "amino_weights = {'A': 89, 'R': 174, 'N': 132, 'D': 133}\n",
    "protein_sequence = \"ARNDX\"\n",
    "total_weight = 0\n",
    "for amino_acid in protein_sequence:\n",
    "    weight = amino_weights.get(amino_acid, 110)  # Use average weight for unknown\n",
    "    total_weight += weight\n",
    "print(f\"Protein weight: {total_weight} Da\")"
   ]
  },
  {
   "cell_type": "code",
   "execution_count": null,
   "id": "cell-29",
   "metadata": {},
   "outputs": [],
   "source": [
    "# Solution 7: Calculate distance properly and handle identical sequences\n",
    "species_a = \"ATGC\"\n",
    "species_b = \"ATGC\"\n",
    "differences = sum(a != b for a, b in zip(species_a, species_b))\n",
    "total_positions = len(species_a)\n",
    "distance = differences / total_positions if total_positions > 0 else 0\n",
    "print(f\"Genetic distance: {distance}\")"
   ]
  },
  {
   "cell_type": "code",
   "execution_count": null,
   "id": "cell-30",
   "metadata": {},
   "outputs": [],
   "source": [
    "# Solution 8: Fix indentation\n",
    "population = 50\n",
    "growth_rate = 0.1\n",
    "years = 5\n",
    "for year in range(years):\n",
    "    population *= (1 + growth_rate)  # Proper indentation\n",
    "    print(f\"Year {year + 1}: {population:.0f} individuals\")"
   ]
  },
  {
   "cell_type": "code",
   "execution_count": null,
   "id": "cell-31",
   "metadata": {},
   "outputs": [],
   "source": [
    "# Solution 9: Step by 3 to read codons properly\n",
    "genetic_code = {'ATG': 'M', 'TGG': 'W', 'TTT': 'F', 'TAA': '*'}\n",
    "dna_sequence = \"ATGTGGTTTTAA\"\n",
    "protein = \"\"\n",
    "for i in range(0, len(dna_sequence), 3):  # Step by 3\n",
    "    codon = dna_sequence[i:i+3]\n",
    "    if len(codon) == 3 and codon in genetic_code:\n",
    "        protein += genetic_code[codon]\n",
    "print(f\"Protein: {protein}\")"
   ]
  },
  {
   "cell_type": "code",
   "execution_count": null,
   "id": "cell-32",
   "metadata": {},
   "outputs": [],
   "source": [
    "# Solution 10: Fix conditional logic (we want species that ARE present)\n",
    "species_counts = [15, 8, 12, 5, 20]\n",
    "total_organisms = sum(species_counts)\n",
    "diversity_sum = 0\n",
    "for count in species_counts:\n",
    "    if count > 0:  # Count species that ARE present\n",
    "        proportion = count / total_organisms\n",
    "        diversity_sum += proportion ** 2\n",
    "simpson_index = 1 - diversity_sum\n",
    "print(f\"Simpson's diversity index: {simpson_index:.3f}\")"
   ]
  }
 ],
 "metadata": {
  "kernelspec": {
   "display_name": "Python 3",
   "language": "python",
   "name": "python3"
  },
  "language_info": {
   "codemirror_mode": {
    "name": "ipython",
    "version": 3
   },
   "file_extension": ".py",
   "mimetype": "text/x-python",
   "name": "python",
   "nbconvert_exporter": "python",
   "pygments_lexer": "ipython3",
   "version": "3.8.5"
  }
 },
 "nbformat": 4,
 "nbformat_minor": 4
}