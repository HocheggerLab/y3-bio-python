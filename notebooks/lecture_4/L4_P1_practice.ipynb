{
 "cells": [
  {
   "cell_type": "markdown",
   "id": "title-cell",
   "metadata": {},
   "source": [
    "# 📊 Matplotlib Practice Toolkit\n",
    "\n",
    "## Visualizing Biological Data\n",
    "\n",
    "Welcome to your **matplotlib practice toolkit**! This notebook helps you practice the visualization patterns from Lecture 4.\n",
    "\n",
    "**What you'll practice:**\n",
    "- 📈 Line plots and customization\n",
    "- 📊 Histograms and distributions\n",
    "- 🎯 Scatter plots for relationships\n",
    "- 📉 Box plots for comparisons\n",
    "- 🔲 Subplots and layouts\n",
    "\n",
    "**Skills:** Figure/axes, plot customization, multi-panel figures\n",
    "\n",
    "**Data:** Real gene expression data from DepMap cancer cell lines"
   ]
  },
  {
   "cell_type": "markdown",
   "id": "setup-section",
   "metadata": {},
   "source": [
    "## 📥 Setup and Data Loading"
   ]
  },
  {
   "cell_type": "code",
   "execution_count": null,
   "id": "import-libs",
   "metadata": {},
   "outputs": [],
   "source": [
    "import pandas as pd\n",
    "import matplotlib.pyplot as plt\n",
    "import numpy as np\n",
    "\n",
    "print(\"✓ Libraries loaded!\")"
   ]
  },
  {
   "cell_type": "code",
   "execution_count": null,
   "id": "load-data",
   "metadata": {},
   "outputs": [],
   "source": [
    "# Load gene expression data\n",
    "url = \"https://zenodo.org/records/17377786/files/expression_filtered.csv?download=1\"\n",
    "gene_df = pd.read_csv(url)\n",
    "\n",
    "print(f\"✓ Loaded {gene_df.shape[0]} cell lines\")\n",
    "print(f\"✓ Loaded {gene_df.shape[1] - 9} genes\")\n",
    "print(f\"\\nCancer types: {gene_df['oncotree_lineage'].unique()}\")"
   ]
  },
  {
   "cell_type": "markdown",
   "id": "section1-intro",
   "metadata": {},
   "source": [
    "---\n",
    "## 📈 Part 1: Line Plots and Customization\n",
    "\n",
    "**Concept:** Line plots show trends over a sequence. We'll visualize gene expression patterns.\n",
    "\n",
    "**Pattern:**\n",
    "```python\n",
    "fig, ax = plt.subplots()\n",
    "ax.plot(x, y)\n",
    "ax.set_xlabel('X label')\n",
    "ax.set_ylabel('Y label')\n",
    "ax.set_title('Title')\n",
    "```"
   ]
  },
  {
   "cell_type": "markdown",
   "id": "example1-1",
   "metadata": {},
   "source": [
    "### Example 1: Basic Line Plot\n",
    "\n",
    "Plot the expression of BRCA1 across cell lines (sorted by expression level)."
   ]
  },
  {
   "cell_type": "code",
   "execution_count": null,
   "id": "example1-1-code",
   "metadata": {},
   "outputs": [],
   "source": [
    "# Sort by BRCA1 expression\n",
    "sorted_brca1 = gene_df['BRCA1'].sort_values().values\n",
    "\n",
    "fig, ax = plt.subplots(figsize=(10, 5))\n",
    "ax.plot(sorted_brca1, color='steelblue', linewidth=2)\n",
    "ax.set_xlabel('Cell Line (sorted)')\n",
    "ax.set_ylabel('BRCA1 Expression (log2 TPM+1)')\n",
    "ax.set_title('BRCA1 Expression Across Cell Lines')\n",
    "ax.grid(alpha=0.3)\n",
    "plt.show()"
   ]
  },
  {
   "cell_type": "markdown",
   "id": "example1-2",
   "metadata": {},
   "source": [
    "### Example 2: Multiple Lines with Legend\n",
    "\n",
    "Compare BRCA1 and BRCA2 expression patterns."
   ]
  },
  {
   "cell_type": "code",
   "execution_count": null,
   "id": "example1-2-code",
   "metadata": {},
   "outputs": [],
   "source": [
    "sorted_brca1 = gene_df['BRCA1'].sort_values().values\n",
    "sorted_brca2 = gene_df['BRCA2'].sort_values().values\n",
    "\n",
    "fig, ax = plt.subplots(figsize=(10, 5))\n",
    "ax.plot(sorted_brca1, color='steelblue', linewidth=2, label='BRCA1')\n",
    "ax.plot(sorted_brca2, color='coral', linewidth=2, label='BRCA2')\n",
    "ax.set_xlabel('Cell Line (sorted)')\n",
    "ax.set_ylabel('Expression (log2 TPM+1)')\n",
    "ax.set_title('BRCA1 vs BRCA2 Expression Patterns')\n",
    "ax.legend()\n",
    "ax.grid(alpha=0.3)\n",
    "plt.show()"
   ]
  },
  {
   "cell_type": "markdown",
   "id": "challenge1-1",
   "metadata": {},
   "source": [
    "### 🎯 Challenge 1.1: Plot TP53 with Markers\n",
    "\n",
    "Create a line plot of TP53 expression with:\n",
    "- Green color\n",
    "- Circular markers (`marker='o'`)\n",
    "- Dashed line style (`linestyle='--'`)\n",
    "- Appropriate labels"
   ]
  },
  {
   "cell_type": "code",
   "execution_count": null,
   "id": "challenge1-1-code",
   "metadata": {},
   "outputs": [],
   "source": [
    "# Your code here:\n"
   ]
  },
  {
   "cell_type": "markdown",
   "id": "challenge1-2",
   "metadata": {},
   "source": [
    "### 🎯 Challenge 1.2: Compare Three Oncogenes\n",
    "\n",
    "Plot MYC, KRAS, and BRAF on the same axes with different colors and styles. Add a legend."
   ]
  },
  {
   "cell_type": "code",
   "execution_count": null,
   "id": "challenge1-2-code",
   "metadata": {},
   "outputs": [],
   "source": [
    "# Your code here:\n"
   ]
  },
  {
   "cell_type": "markdown",
   "id": "section2-intro",
   "metadata": {},
   "source": [
    "---\n",
    "## 📊 Part 2: Histograms and Distributions\n",
    "\n",
    "**Concept:** Histograms show the distribution of a single variable.\n",
    "\n",
    "**Pattern:**\n",
    "```python\n",
    "fig, ax = plt.subplots()\n",
    "ax.hist(data, bins=20, color='blue', alpha=0.7)\n",
    "ax.set_xlabel('Value')\n",
    "ax.set_ylabel('Frequency')\n",
    "```"
   ]
  },
  {
   "cell_type": "markdown",
   "id": "example2-1",
   "metadata": {},
   "source": [
    "### Example 3: Basic Histogram\n",
    "\n",
    "Show the distribution of BRCA1 expression."
   ]
  },
  {
   "cell_type": "code",
   "execution_count": null,
   "id": "example2-1-code",
   "metadata": {},
   "outputs": [],
   "source": [
    "fig, ax = plt.subplots(figsize=(8, 5))\n",
    "ax.hist(gene_df['BRCA1'], bins=20, color='skyblue', edgecolor='black', alpha=0.7)\n",
    "ax.set_xlabel('BRCA1 Expression (log2 TPM+1)')\n",
    "ax.set_ylabel('Number of Cell Lines')\n",
    "ax.set_title('Distribution of BRCA1 Expression')\n",
    "ax.grid(axis='y', alpha=0.3)\n",
    "plt.show()"
   ]
  },
  {
   "cell_type": "markdown",
   "id": "example2-2",
   "metadata": {},
   "source": [
    "### Example 4: Overlaid Histograms\n",
    "\n",
    "Compare distributions of BRCA1 in Breast vs Myeloid cancer."
   ]
  },
  {
   "cell_type": "code",
   "execution_count": null,
   "id": "example2-2-code",
   "metadata": {},
   "outputs": [],
   "source": [
    "breast_brca1 = gene_df[gene_df['oncotree_lineage'] == 'Breast']['BRCA1']\n",
    "myeloid_brca1 = gene_df[gene_df['oncotree_lineage'] == 'Myeloid']['BRCA1']\n",
    "\n",
    "fig, ax = plt.subplots(figsize=(8, 5))\n",
    "ax.hist(breast_brca1, bins=15, alpha=0.6, label='Breast', color='pink', edgecolor='black')\n",
    "ax.hist(myeloid_brca1, bins=15, alpha=0.6, label='Myeloid', color='purple', edgecolor='black')\n",
    "ax.set_xlabel('BRCA1 Expression')\n",
    "ax.set_ylabel('Frequency')\n",
    "ax.set_title('BRCA1: Breast vs Myeloid Cancer')\n",
    "ax.legend()\n",
    "ax.grid(axis='y', alpha=0.3)\n",
    "plt.show()"
   ]
  },
  {
   "cell_type": "markdown",
   "id": "challenge2-1",
   "metadata": {},
   "source": [
    "### 🎯 Challenge 2.1: MYC Distribution\n",
    "\n",
    "Create a histogram of MYC expression with 30 bins. Add a vertical line showing the mean value using `ax.axvline()`.\n",
    "\n",
    "**Hint:** `mean_val = gene_df['MYC'].mean()` then `ax.axvline(mean_val, color='red', linestyle='--')`"
   ]
  },
  {
   "cell_type": "code",
   "execution_count": null,
   "id": "challenge2-1-code",
   "metadata": {},
   "outputs": [],
   "source": [
    "# Your code here:\n"
   ]
  },
  {
   "cell_type": "markdown",
   "id": "challenge2-2",
   "metadata": {},
   "source": [
    "### 🎯 Challenge 2.2: Density Plots\n",
    "\n",
    "Create overlaid density plots (KDE) comparing TP53 expression in three cancer types of your choice.\n",
    "\n",
    "**Hint:** Use `data.plot(kind='density', ax=ax, label='...')` for each cancer type"
   ]
  },
  {
   "cell_type": "code",
   "execution_count": null,
   "id": "challenge2-2-code",
   "metadata": {},
   "outputs": [],
   "source": [
    "# Your code here:\n"
   ]
  },
  {
   "cell_type": "markdown",
   "id": "section3-intro",
   "metadata": {},
   "source": [
    "---\n",
    "## 🎯 Part 3: Scatter Plots for Relationships\n",
    "\n",
    "**Concept:** Scatter plots show relationships between two variables.\n",
    "\n",
    "**Pattern:**\n",
    "```python\n",
    "fig, ax = plt.subplots()\n",
    "ax.scatter(x, y, alpha=0.6, s=50)\n",
    "ax.set_xlabel('X variable')\n",
    "ax.set_ylabel('Y variable')\n",
    "```"
   ]
  },
  {
   "cell_type": "markdown",
   "id": "example3-1",
   "metadata": {},
   "source": [
    "### Example 5: Basic Scatter Plot\n",
    "\n",
    "Explore the relationship between BRCA1 and BRCA2."
   ]
  },
  {
   "cell_type": "code",
   "execution_count": null,
   "id": "example3-1-code",
   "metadata": {},
   "outputs": [],
   "source": [
    "fig, ax = plt.subplots(figsize=(7, 7))\n",
    "ax.scatter(gene_df['BRCA1'], gene_df['BRCA2'], \n",
    "           alpha=0.6, s=60, color='steelblue', edgecolor='black', linewidth=0.5)\n",
    "ax.set_xlabel('BRCA1 Expression')\n",
    "ax.set_ylabel('BRCA2 Expression')\n",
    "ax.set_title('BRCA1 vs BRCA2 Correlation')\n",
    "ax.grid(alpha=0.3)\n",
    "plt.show()"
   ]
  },
  {
   "cell_type": "markdown",
   "id": "example3-2",
   "metadata": {},
   "source": [
    "### Example 6: Color by Category\n",
    "\n",
    "Color points by cancer type to reveal subgroups."
   ]
  },
  {
   "cell_type": "code",
   "execution_count": null,
   "id": "example3-2-code",
   "metadata": {},
   "outputs": [],
   "source": [
    "fig, ax = plt.subplots(figsize=(9, 7))\n",
    "\n",
    "# Plot each cancer type with different color\n",
    "for lineage in ['Breast', 'Myeloid', 'Lung']:\n",
    "    data = gene_df[gene_df['oncotree_lineage'] == lineage]\n",
    "    ax.scatter(data['BRCA1'], data['BRCA2'], \n",
    "               alpha=0.6, s=60, label=lineage, edgecolor='black', linewidth=0.5)\n",
    "\n",
    "ax.set_xlabel('BRCA1 Expression')\n",
    "ax.set_ylabel('BRCA2 Expression')\n",
    "ax.set_title('BRCA1 vs BRCA2 by Cancer Type')\n",
    "ax.legend()\n",
    "ax.grid(alpha=0.3)\n",
    "plt.show()"
   ]
  },
  {
   "cell_type": "markdown",
   "id": "challenge3-1",
   "metadata": {},
   "source": [
    "### 🎯 Challenge 3.1: Find a Strong Correlation\n",
    "\n",
    "Create scatter plots for these gene pairs and identify which shows the strongest correlation:\n",
    "1. TP53 vs MDM2\n",
    "2. MYC vs MAX\n",
    "3. AKT1 vs AKT2\n",
    "\n",
    "Use subplots to show all three side-by-side."
   ]
  },
  {
   "cell_type": "code",
   "execution_count": null,
   "id": "challenge3-1-code",
   "metadata": {},
   "outputs": [],
   "source": [
    "# Your code here:\n"
   ]
  },
  {
   "cell_type": "markdown",
   "id": "challenge3-2",
   "metadata": {},
   "source": [
    "### 🎯 Challenge 3.2: Advanced Scatter\n",
    "\n",
    "Create a scatter plot of TSC1 vs TSC2 where:\n",
    "- Points are colored by cancer type\n",
    "- Point size is proportional to MYC expression\n",
    "- Add a legend\n",
    "\n",
    "**Hint:** `s=gene_df['MYC']*10` for size scaling"
   ]
  },
  {
   "cell_type": "code",
   "execution_count": null,
   "id": "challenge3-2-code",
   "metadata": {},
   "outputs": [],
   "source": [
    "# Your code here:\n"
   ]
  },
  {
   "cell_type": "markdown",
   "id": "section4-intro",
   "metadata": {},
   "source": [
    "---\n",
    "## 📉 Part 4: Box Plots for Group Comparisons\n",
    "\n",
    "**Concept:** Box plots show the distribution of data across different groups.\n",
    "\n",
    "**Pattern:**\n",
    "```python\n",
    "fig, ax = plt.subplots()\n",
    "ax.boxplot([group1, group2, group3])\n",
    "ax.set_xticklabels(['Group1', 'Group2', 'Group3'])\n",
    "```"
   ]
  },
  {
   "cell_type": "markdown",
   "id": "example4-1",
   "metadata": {},
   "source": [
    "### Example 7: Compare BRCA1 Across Cancer Types"
   ]
  },
  {
   "cell_type": "code",
   "execution_count": null,
   "id": "example4-1-code",
   "metadata": {},
   "outputs": [],
   "source": [
    "# Prepare data for each cancer type\n",
    "cancer_types = ['Breast', 'Lung', 'Myeloid']\n",
    "brca1_by_cancer = [gene_df[gene_df['oncotree_lineage'] == ct]['BRCA1'] for ct in cancer_types]\n",
    "\n",
    "fig, ax = plt.subplots(figsize=(8, 6))\n",
    "ax.boxplot(brca1_by_cancer, labels=cancer_types)\n",
    "ax.set_ylabel('BRCA1 Expression')\n",
    "ax.set_title('BRCA1 Expression by Cancer Type')\n",
    "ax.grid(axis='y', alpha=0.3)\n",
    "plt.show()"
   ]
  },
  {
   "cell_type": "markdown",
   "id": "challenge4-1",
   "metadata": {},
   "source": [
    "### 🎯 Challenge 4.1: Compare Multiple Genes\n",
    "\n",
    "Create a box plot comparing the expression of BRCA1, TP53, and MYC in Breast cancer cell lines.\n",
    "\n",
    "**Hint:** Filter for Breast cancer first, then create list of values for each gene"
   ]
  },
  {
   "cell_type": "code",
   "execution_count": null,
   "id": "challenge4-1-code",
   "metadata": {},
   "outputs": [],
   "source": [
    "# Your code here:\n"
   ]
  },
  {
   "cell_type": "markdown",
   "id": "challenge4-2",
   "metadata": {},
   "source": [
    "### 🎯 Challenge 4.2: Side-by-Side Comparison\n",
    "\n",
    "Create two subplots:\n",
    "1. Box plot of TP53 across all cancer types\n",
    "2. Box plot of MYC across the same cancer types\n",
    "\n",
    "Which gene shows more variation across cancer types?"
   ]
  },
  {
   "cell_type": "code",
   "execution_count": null,
   "id": "challenge4-2-code",
   "metadata": {},
   "outputs": [],
   "source": [
    "# Your code here:\n"
   ]
  },
  {
   "cell_type": "markdown",
   "id": "section5-intro",
   "metadata": {},
   "source": [
    "---\n",
    "## 🔲 Part 5: Subplots and Multi-Panel Figures\n",
    "\n",
    "**Concept:** Combine multiple plots into a single figure.\n",
    "\n",
    "**Pattern:**\n",
    "```python\n",
    "fig, axes = plt.subplots(2, 2, figsize=(12, 10))\n",
    "axes[0, 0].plot(x, y)  # Top-left\n",
    "axes[0, 1].hist(data)  # Top-right\n",
    "# etc...\n",
    "plt.tight_layout()\n",
    "```"
   ]
  },
  {
   "cell_type": "markdown",
   "id": "example5-1",
   "metadata": {},
   "source": [
    "### Example 8: 2×2 Grid of Different Plot Types"
   ]
  },
  {
   "cell_type": "code",
   "execution_count": null,
   "id": "example5-1-code",
   "metadata": {},
   "outputs": [],
   "source": [
    "fig, axes = plt.subplots(2, 2, figsize=(12, 10))\n",
    "\n",
    "# Top-left: Line plot\n",
    "axes[0, 0].plot(gene_df['BRCA1'].sort_values().values, color='steelblue')\n",
    "axes[0, 0].set_title('Line: BRCA1 Sorted')\n",
    "axes[0, 0].set_ylabel('Expression')\n",
    "\n",
    "# Top-right: Histogram\n",
    "axes[0, 1].hist(gene_df['BRCA1'], bins=20, color='coral', edgecolor='black')\n",
    "axes[0, 1].set_title('Histogram: BRCA1 Distribution')\n",
    "axes[0, 1].set_xlabel('Expression')\n",
    "\n",
    "# Bottom-left: Scatter\n",
    "axes[1, 0].scatter(gene_df['BRCA1'], gene_df['BRCA2'], alpha=0.6, s=30)\n",
    "axes[1, 0].set_title('Scatter: BRCA1 vs BRCA2')\n",
    "axes[1, 0].set_xlabel('BRCA1')\n",
    "axes[1, 0].set_ylabel('BRCA2')\n",
    "\n",
    "# Bottom-right: Box plot\n",
    "cancer_types = ['Breast', 'Lung', 'Myeloid']\n",
    "data = [gene_df[gene_df['oncotree_lineage'] == ct]['BRCA1'] for ct in cancer_types]\n",
    "axes[1, 1].boxplot(data, labels=cancer_types)\n",
    "axes[1, 1].set_title('Box: BRCA1 by Cancer Type')\n",
    "axes[1, 1].set_ylabel('Expression')\n",
    "\n",
    "plt.tight_layout()\n",
    "plt.show()"
   ]
  },
  {
   "cell_type": "markdown",
   "id": "challenge5-1",
   "metadata": {},
   "source": [
    "### 🎯 Challenge 5.1: Gene Comparison Dashboard\n",
    "\n",
    "Create a 2×3 grid showing:\n",
    "- Row 1: Histogram, scatter plot, box plot for TP53\n",
    "- Row 2: Histogram, scatter plot, box plot for MYC\n",
    "\n",
    "For scatter plots, use correlation with BRCA1. For box plots, compare across cancer types."
   ]
  },
  {
   "cell_type": "code",
   "execution_count": null,
   "id": "challenge5-1-code",
   "metadata": {},
   "outputs": [],
   "source": [
    "# Your code here:\n"
   ]
  },
  {
   "cell_type": "markdown",
   "id": "challenge5-2",
   "metadata": {},
   "source": [
    "### 🎯 Challenge 5.2: Publication-Quality Figure\n",
    "\n",
    "Create a figure with:\n",
    "- Top panel: Large scatter plot of your choice, colored by cancer type\n",
    "- Bottom left: Histogram for gene 1\n",
    "- Bottom right: Histogram for gene 2\n",
    "\n",
    "**Hint:** Use `plt.subplots(2, 2)` and `fig.add_subplot()` or use `gridspec` for custom layouts"
   ]
  },
  {
   "cell_type": "code",
   "execution_count": null,
   "id": "challenge5-2-code",
   "metadata": {},
   "outputs": [],
   "source": [
    "# Your code here:\n"
   ]
  },
  {
   "cell_type": "markdown",
   "id": "advanced-section",
   "metadata": {},
   "source": [
    "---\n",
    "## 🚀 Advanced Challenges\n",
    "\n",
    "Test your skills with these more complex tasks!"
   ]
  },
  {
   "cell_type": "markdown",
   "id": "advanced-1",
   "metadata": {},
   "source": [
    "### 🎯 Advanced Challenge 1: Correlation Matrix Visualization\n",
    "\n",
    "Create a 4×4 grid showing all pairwise scatter plots for 4 genes of your choice.\n",
    "\n",
    "**Hint:** Diagonal plots can show histograms instead of scatter plots (gene vs itself)"
   ]
  },
  {
   "cell_type": "code",
   "execution_count": null,
   "id": "advanced-1-code",
   "metadata": {},
   "outputs": [],
   "source": [
    "# Your code here:\n"
   ]
  },
  {
   "cell_type": "markdown",
   "id": "advanced-2",
   "metadata": {},
   "source": [
    "### 🎯 Advanced Challenge 2: Expression Heatmap\n",
    "\n",
    "Create a visualization showing expression of 5 genes across all cancer types:\n",
    "- X-axis: Genes\n",
    "- Y-axis: Cancer types\n",
    "- Color intensity: Mean expression\n",
    "\n",
    "**Hint:** Calculate mean expression per cancer type, then use `ax.imshow()` or `ax.pcolormesh()`"
   ]
  },
  {
   "cell_type": "code",
   "execution_count": null,
   "id": "advanced-2-code",
   "metadata": {},
   "outputs": [],
   "source": [
    "# Your code here:\n"
   ]
  },
  {
   "cell_type": "markdown",
   "id": "advanced-3",
   "metadata": {},
   "source": [
    "### 🎯 Advanced Challenge 3: Interactive Exploration\n",
    "\n",
    "Create a function that takes two gene names and generates a 4-panel figure:\n",
    "1. Scatter plot of gene1 vs gene2 colored by cancer type\n",
    "2. Histogram of gene1\n",
    "3. Histogram of gene2\n",
    "4. Box plot comparing both genes across cancer types\n",
    "\n",
    "Test your function with different gene pairs!"
   ]
  },
  {
   "cell_type": "code",
   "execution_count": null,
   "id": "advanced-3-code",
   "metadata": {},
   "outputs": [],
   "source": [
    "# Your code here:\n",
    "def explore_gene_pair(gene1, gene2):\n",
    "    \"\"\"\n",
    "    Create comprehensive visualization comparing two genes\n",
    "    \"\"\"\n",
    "    # Your implementation here\n",
    "    pass\n",
    "\n",
    "# Test your function\n",
    "# explore_gene_pair('BRCA1', 'BRCA2')"
   ]
  },
  {
   "cell_type": "markdown",
   "id": "summary",
   "metadata": {},
   "source": [
    "---\n",
    "## 🎯 Summary\n",
    "\n",
    "You've practiced the essential matplotlib patterns:\n",
    "\n",
    "**1. Figure/Axes Pattern:**\n",
    "```python\n",
    "fig, ax = plt.subplots()\n",
    "ax.plot(...) / ax.scatter(...) / ax.hist(...)\n",
    "ax.set_xlabel(...)\n",
    "ax.set_ylabel(...)\n",
    "ax.set_title(...)\n",
    "```\n",
    "\n",
    "**2. Customization:**\n",
    "- `color`, `alpha`, `linewidth`, `marker`\n",
    "- `label` + `ax.legend()`\n",
    "- `edgecolor`, `linestyle`\n",
    "\n",
    "**3. Multiple Plots:**\n",
    "```python\n",
    "fig, axes = plt.subplots(2, 2)\n",
    "axes[0, 0].plot(...)\n",
    "plt.tight_layout()\n",
    "```\n",
    "\n",
    "**4. Plot Types:**\n",
    "- Line plots: trends over sequence\n",
    "- Histograms: distribution of values\n",
    "- Scatter plots: relationships between variables\n",
    "- Box plots: compare groups\n",
    "\n",
    "**Key Tip:** Always use `fig, ax = plt.subplots()` for explicit control!\n",
    "\n",
    "---\n",
    "\n",
    "## 📚 Next Steps\n",
    "\n",
    "- Explore `seaborn` for more advanced statistical visualizations\n",
    "- Learn about `plotly` for interactive plots\n",
    "- Study color theory for better plot design\n",
    "- Practice creating publication-quality figures\n",
    "\n",
    "**Keep practicing!** 📊🔬"
   ]
  }
 ],
 "metadata": {
  "kernelspec": {
   "display_name": "Python 3",
   "language": "python",
   "name": "python3"
  },
  "language_info": {
   "name": "python",
   "version": "3.11.0"
  }
 },
 "nbformat": 4,
 "nbformat_minor": 5
}
