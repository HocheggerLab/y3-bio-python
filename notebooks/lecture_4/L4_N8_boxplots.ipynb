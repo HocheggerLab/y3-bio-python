{
 "cells": [
  {
   "cell_type": "markdown",
   "id": "cell-0",
   "metadata": {},
   "source": [
    "# Lecture 4 Notebook 8: Comparing Groups with Box Plots\n",
    "\n",
    "**Learning Objectives:**\n",
    "- Understand what box plots show and how to read them\n",
    "- Interpret the five-number summary (min, Q1, median, Q3, max)\n",
    "- Create box plots to compare gene expression across cancer types\n",
    "- Use both matplotlib and pandas methods for box plots\n",
    "- Customize box plot appearance and colors\n",
    "- Identify outliers and interpret biological significance\n",
    "- Compare multiple genes side-by-side\n",
    "\n",
    "---"
   ]
  },
  {
   "cell_type": "markdown",
   "id": "cell-1",
   "metadata": {},
   "source": [
    "## 1. Introduction: What is a Box Plot?\n",
    "\n",
    "A **box plot** (also called a box-and-whisker plot) shows the **distribution of data** through five key statistics:\n",
    "\n",
    "1. **Minimum**: Lowest value (excluding outliers)\n",
    "2. **Q1 (First Quartile)**: 25th percentile - 25% of data below this value\n",
    "3. **Median (Second Quartile)**: 50th percentile - middle value\n",
    "4. **Q3 (Third Quartile)**: 75th percentile - 75% of data below this value\n",
    "5. **Maximum**: Highest value (excluding outliers)\n",
    "\n",
    "**Additional features:**\n",
    "- **IQR (Interquartile Range)**: Q3 - Q1, the height of the box\n",
    "- **Outliers**: Points beyond 1.5 × IQR from the quartiles\n",
    "- **Whiskers**: Lines extending from the box to min/max (excluding outliers)\n",
    "\n",
    "**Perfect for:**\n",
    "- 📊 Comparing distributions across multiple groups\n",
    "- 🧬 Analyzing gene expression across different cancer types\n",
    "- 🔍 Identifying which groups have high variability\n",
    "- 🎯 Finding outliers (unusual cell lines)\n",
    "\n",
    "**Biological question:** \"Is BRCA1 expression different in breast cancer vs myeloid cancer?\""
   ]
  },
  {
   "cell_type": "code",
   "execution_count": null,
   "id": "cell-2",
   "metadata": {},
   "outputs": [],
   "source": [
    "import pandas as pd\n",
    "import matplotlib.pyplot as plt\n",
    "import numpy as np"
   ]
  },
  {
   "cell_type": "markdown",
   "id": "cell-3",
   "metadata": {},
   "source": [
    "## 2. Load Gene Expression Data"
   ]
  },
  {
   "cell_type": "code",
   "execution_count": null,
   "id": "cell-4",
   "metadata": {},
   "outputs": [],
   "source": [
    "# Load the gene expression data\n",
    "url = \"https://zenodo.org/records/17377786/files/expression_filtered.csv?download=1\"\n",
    "gene_df = pd.read_csv(url)\n",
    "\n",
    "print(f\"Dataset shape: {gene_df.shape}\")\n",
    "print(f\"\\nCancer types:\")\n",
    "print(gene_df['oncotree_lineage'].value_counts())\n",
    "gene_df.head()"
   ]
  },
  {
   "cell_type": "markdown",
   "id": "cell-5",
   "metadata": {},
   "source": [
    "---\n",
    "\n",
    "## 3. Understanding Box Plot Components\n",
    "\n",
    "Before we create box plots, let's calculate the five-number summary manually to understand what we're visualizing:"
   ]
  },
  {
   "cell_type": "code",
   "execution_count": null,
   "id": "cell-6",
   "metadata": {},
   "outputs": [],
   "source": [
    "# Calculate five-number summary for BRCA1\n",
    "brca1_data = gene_df['BRCA1']\n",
    "\n",
    "print(\"Five-Number Summary for BRCA1:\")\n",
    "print(f\"Minimum:  {brca1_data.min():.2f}\")\n",
    "print(f\"Q1 (25%): {brca1_data.quantile(0.25):.2f}\")\n",
    "print(f\"Median:   {brca1_data.median():.2f}\")\n",
    "print(f\"Q3 (75%): {brca1_data.quantile(0.75):.2f}\")\n",
    "print(f\"Maximum:  {brca1_data.max():.2f}\")\n",
    "print(f\"\\nIQR (Q3-Q1): {brca1_data.quantile(0.75) - brca1_data.quantile(0.25):.2f}\")\n",
    "print(f\"Mean (for comparison): {brca1_data.mean():.2f}\")"
   ]
  },
  {
   "cell_type": "markdown",
   "id": "cell-7",
   "metadata": {},
   "source": [
    "**What these numbers tell us:**\n",
    "- **Median**: The typical BRCA1 expression level\n",
    "- **IQR**: How spread out the middle 50% of values are\n",
    "- **Range (max - min)**: The full spread of the data\n",
    "\n",
    "Now let's visualize this with a simple box plot!"
   ]
  },
  {
   "cell_type": "markdown",
   "id": "cell-8",
   "metadata": {},
   "source": [
    "---\n",
    "\n",
    "## 4. Your First Box Plot: Single Gene\n",
    "\n",
    "Let's create a simple box plot for BRCA1 expression:"
   ]
  },
  {
   "cell_type": "code",
   "execution_count": null,
   "id": "cell-9",
   "metadata": {},
   "outputs": [],
   "source": [
    "# Simple box plot for BRCA1\n",
    "fig, ax = plt.subplots(figsize=(6, 8))\n",
    "\n",
    "bp = ax.boxplot([gene_df['BRCA1']], \n",
    "                 labels=['BRCA1'],\n",
    "                 patch_artist=True,\n",
    "                 showmeans=True)\n",
    "\n",
    "# Color the box\n",
    "bp['boxes'][0].set_facecolor('skyblue')\n",
    "bp['boxes'][0].set_alpha(0.7)\n",
    "\n",
    "ax.set_ylabel('Expression (log2 TPM + 1)', fontsize=12)\n",
    "ax.set_title('BRCA1 Expression Distribution', fontsize=14, fontweight='bold')\n",
    "ax.grid(True, alpha=0.3, axis='y')\n",
    "\n",
    "plt.tight_layout()\n",
    "plt.show()"
   ]
  },
  {
   "cell_type": "markdown",
   "id": "cell-10",
   "metadata": {},
   "source": [
    "**Reading the box plot:**\n",
    "- **Orange line in box**: Median (50th percentile)\n",
    "- **Green triangle**: Mean (average)\n",
    "- **Box edges**: Q1 (bottom) and Q3 (top)\n",
    "- **Whiskers**: Extend to min/max within 1.5×IQR\n",
    "- **Individual points**: Outliers beyond the whiskers\n",
    "\n",
    "**Key parameters:**\n",
    "- `patch_artist=True`: Allows us to color the boxes\n",
    "- `showmeans=True`: Shows mean as a triangle marker\n",
    "- `labels`: Names for each box"
   ]
  },
  {
   "cell_type": "markdown",
   "id": "cell-11",
   "metadata": {},
   "source": [
    "### 📊 Exercise 1: Box Plot of TP53\n",
    "\n",
    "Create a box plot for TP53 expression. Use a different color (e.g., 'lightcoral').\n",
    "\n",
    "**Questions:**\n",
    "- What is the median TP53 expression?\n",
    "- Are there more outliers than BRCA1?\n",
    "- Is the IQR larger or smaller than BRCA1?"
   ]
  },
  {
   "cell_type": "code",
   "execution_count": null,
   "id": "cell-12",
   "metadata": {},
   "outputs": [],
   "source": [
    "# Your code here:\n"
   ]
  },
  {
   "cell_type": "markdown",
   "id": "cell-13",
   "metadata": {},
   "source": [
    "---\n",
    "\n",
    "## 5. Comparing Groups: BRCA1 Across Cancer Types\n",
    "\n",
    "Now the real power of box plots: **comparing distributions across multiple groups!**\n",
    "\n",
    "Let's compare BRCA1 expression in Breast vs Myeloid cancer cell lines:"
   ]
  },
  {
   "cell_type": "markdown",
   "id": "cell-14",
   "metadata": {},
   "source": [
    "### Method 1: Using Matplotlib Boxplot\n",
    "\n",
    "First, we need to prepare our data as separate lists for each group:"
   ]
  },
  {
   "cell_type": "code",
   "execution_count": null,
   "id": "cell-15",
   "metadata": {},
   "outputs": [],
   "source": [
    "# Prepare data for box plot - one list per cancer type\n",
    "lineages = gene_df['oncotree_lineage'].unique()\n",
    "data_to_plot = [\n",
    "    gene_df[gene_df['oncotree_lineage'] == lineage]['BRCA1']\n",
    "    for lineage in lineages\n",
    "]\n",
    "\n",
    "print(f\"Number of groups: {len(data_to_plot)}\")\n",
    "print(f\"Groups: {lineages}\")"
   ]
  },
  {
   "cell_type": "code",
   "execution_count": null,
   "id": "cell-16",
   "metadata": {},
   "outputs": [],
   "source": [
    "# Create box plot comparing cancer types\n",
    "fig, ax = plt.subplots(figsize=(10, 6))\n",
    "\n",
    "bp = ax.boxplot(data_to_plot,\n",
    "                labels=lineages,\n",
    "                patch_artist=True,\n",
    "                notch=True,\n",
    "                showmeans=True)\n",
    "\n",
    "# Customize colors\n",
    "colors = ['skyblue', 'lightcoral', 'lightgreen', 'wheat', 'plum']\n",
    "for patch, color in zip(bp['boxes'], colors[:len(bp['boxes'])]):\n",
    "    patch.set_facecolor(color)\n",
    "    patch.set_alpha(0.7)\n",
    "\n",
    "ax.set_xlabel('Cancer Type', fontsize=12)\n",
    "ax.set_ylabel('BRCA1 Expression (log2 TPM + 1)', fontsize=12)\n",
    "ax.set_title('BRCA1 Expression Across Cancer Types', fontsize=14, fontweight='bold')\n",
    "ax.grid(True, alpha=0.3, axis='y')\n",
    "\n",
    "plt.xticks(rotation=45, ha='right')\n",
    "plt.tight_layout()\n",
    "plt.show()"
   ]
  },
  {
   "cell_type": "markdown",
   "id": "cell-17",
   "metadata": {},
   "source": [
    "**What's new?**\n",
    "- `notch=True`: Adds notches showing confidence interval around the median\n",
    "  - If notches don't overlap, medians are statistically different (roughly)\n",
    "- Multiple boxes side-by-side for comparison\n",
    "- `plt.xticks(rotation=45)`: Rotates labels to prevent overlap\n",
    "\n",
    "**Biological questions:**\n",
    "- Which cancer type has the highest median BRCA1 expression?\n",
    "- Which has the most variability (tallest box)?\n",
    "- Are there cancer-type-specific outliers?"
   ]
  },
  {
   "cell_type": "markdown",
   "id": "cell-18",
   "metadata": {},
   "source": [
    "### Method 2: Using Pandas Boxplot (Much Easier!)\n",
    "\n",
    "Pandas has a built-in method that's much simpler:"
   ]
  },
  {
   "cell_type": "code",
   "execution_count": null,
   "id": "cell-19",
   "metadata": {},
   "outputs": [],
   "source": [
    "# Pandas makes it super easy!\n",
    "fig, ax = plt.subplots(figsize=(10, 6))\n",
    "\n",
    "gene_df.boxplot(column='BRCA1',\n",
    "                by='oncotree_lineage',\n",
    "                ax=ax,\n",
    "                patch_artist=True,\n",
    "                grid=False)\n",
    "\n",
    "# Clean up the automatic title\n",
    "ax.set_title('BRCA1 Expression Across Cancer Types', fontsize=14, fontweight='bold')\n",
    "ax.set_xlabel('Cancer Type', fontsize=12)\n",
    "ax.set_ylabel('BRCA1 Expression (log2 TPM + 1)', fontsize=12)\n",
    "\n",
    "# Remove the automatic suptitle\n",
    "plt.suptitle('')\n",
    "\n",
    "plt.xticks(rotation=45, ha='right')\n",
    "plt.tight_layout()\n",
    "plt.show()"
   ]
  },
  {
   "cell_type": "markdown",
   "id": "cell-20",
   "metadata": {},
   "source": [
    "**Why use pandas boxplot?**\n",
    "- ✅ Much simpler syntax - just specify column and grouping variable\n",
    "- ✅ Automatically groups data\n",
    "- ✅ No need to prepare data lists manually\n",
    "- ✅ Perfect for quick exploratory analysis\n",
    "\n",
    "**When to use matplotlib boxplot?**\n",
    "- When you need more customization (colors, notches, etc.)\n",
    "- For publication-quality figures\n",
    "- When data isn't in a DataFrame"
   ]
  },
  {
   "cell_type": "markdown",
   "id": "cell-21",
   "metadata": {},
   "source": [
    "### 📊 Exercise 2: TP53 Across Cancer Types\n",
    "\n",
    "Create a box plot comparing TP53 expression across cancer types.\n",
    "\n",
    "Use **either** method (matplotlib or pandas - your choice!).\n",
    "\n",
    "**Questions to answer:**\n",
    "- Which cancer type has the highest median TP53?\n",
    "- Which has the most outliers?\n",
    "- Do the notches overlap between Breast and Myeloid?"
   ]
  },
  {
   "cell_type": "code",
   "execution_count": null,
   "id": "cell-22",
   "metadata": {},
   "outputs": [],
   "source": [
    "# Your code here:\n"
   ]
  },
  {
   "cell_type": "markdown",
   "id": "cell-23",
   "metadata": {},
   "source": [
    "---\n",
    "\n",
    "## 6. Comparing Multiple Genes Side-by-Side\n",
    "\n",
    "Let's compare how BRCA1 and TP53 expression differ across cancer types using subplots:"
   ]
  },
  {
   "cell_type": "code",
   "execution_count": null,
   "id": "cell-24",
   "metadata": {},
   "outputs": [],
   "source": [
    "# Compare BRCA1 and TP53 across cancer types\n",
    "fig, axes = plt.subplots(1, 2, figsize=(16, 6))\n",
    "\n",
    "genes = ['BRCA1', 'TP53']\n",
    "colors_list = [['skyblue', 'lightcoral'], ['lightgreen', 'wheat']]\n",
    "\n",
    "for idx, gene in enumerate(genes):\n",
    "    # Prepare data\n",
    "    data_to_plot = [\n",
    "        gene_df[gene_df['oncotree_lineage'] == lineage][gene]\n",
    "        for lineage in lineages\n",
    "    ]\n",
    "    \n",
    "    # Create box plot\n",
    "    bp = axes[idx].boxplot(\n",
    "        data_to_plot,\n",
    "        labels=lineages,\n",
    "        patch_artist=True,\n",
    "        showmeans=True,\n",
    "        notch=True\n",
    "    )\n",
    "    \n",
    "    # Color the boxes\n",
    "    for patch, color in zip(bp['boxes'], colors_list[idx]):\n",
    "        patch.set_facecolor(color)\n",
    "        patch.set_alpha(0.7)\n",
    "    \n",
    "    axes[idx].set_xlabel('Cancer Type', fontsize=11)\n",
    "    axes[idx].set_ylabel(f'{gene} Expression', fontsize=11)\n",
    "    axes[idx].set_title(f'{gene} Across Cancer Types', fontsize=13, fontweight='bold')\n",
    "    axes[idx].grid(True, alpha=0.3, axis='y')\n",
    "    axes[idx].tick_params(axis='x', rotation=45)\n",
    "\n",
    "plt.tight_layout()\n",
    "plt.show()"
   ]
  },
  {
   "cell_type": "markdown",
   "id": "cell-25",
   "metadata": {},
   "source": [
    "**Comparison questions:**\n",
    "- Which gene shows more variation across cancer types?\n",
    "- Are the patterns similar between BRCA1 and TP53?\n",
    "- Which gene has more outliers overall?"
   ]
  },
  {
   "cell_type": "markdown",
   "id": "cell-26",
   "metadata": {},
   "source": [
    "### 📊 Exercise 3: Four Genes in a 2×2 Grid\n",
    "\n",
    "Create a 2×2 grid of box plots comparing these genes across cancer types:\n",
    "- BRCA1, TP53, MYC, EGFR\n",
    "\n",
    "**Hints:**\n",
    "- Use `fig, axes = plt.subplots(2, 2, figsize=(16, 12))`\n",
    "- Flatten axes with `axes.flatten()`\n",
    "- Loop through genes with `enumerate()`\n",
    "- Use different colors for each gene"
   ]
  },
  {
   "cell_type": "code",
   "execution_count": null,
   "id": "cell-27",
   "metadata": {},
   "outputs": [],
   "source": [
    "# Your code here:\n"
   ]
  },
  {
   "cell_type": "markdown",
   "id": "cell-28",
   "metadata": {},
   "source": [
    "---\n",
    "\n",
    "## 7. Interpreting Box Plots: What to Look For\n",
    "\n",
    "Let's break down what different features mean biologically:"
   ]
  },
  {
   "cell_type": "markdown",
   "id": "cell-29",
   "metadata": {},
   "source": [
    "### Feature 1: Median Differences\n",
    "\n",
    "Compare the median (orange line) across groups:"
   ]
  },
  {
   "cell_type": "code",
   "execution_count": null,
   "id": "cell-30",
   "metadata": {},
   "outputs": [],
   "source": [
    "# Calculate median BRCA1 for each cancer type\n",
    "print(\"Median BRCA1 Expression by Cancer Type:\")\n",
    "print(\"=\"*50)\n",
    "for lineage in lineages:\n",
    "    median_expr = gene_df[gene_df['oncotree_lineage'] == lineage]['BRCA1'].median()\n",
    "    print(f\"{lineage:15s}: {median_expr:.2f}\")"
   ]
  },
  {
   "cell_type": "markdown",
   "id": "cell-31",
   "metadata": {},
   "source": [
    "**Biological interpretation:**\n",
    "- Higher median = typical expression is higher in this cancer type\n",
    "- Could reflect tissue-specific regulation\n",
    "- BRCA1 in breast cancer is biologically relevant!"
   ]
  },
  {
   "cell_type": "markdown",
   "id": "cell-32",
   "metadata": {},
   "source": [
    "### Feature 2: Box Height (IQR) - Variability\n",
    "\n",
    "Taller boxes = more variability within that group:"
   ]
  },
  {
   "cell_type": "code",
   "execution_count": null,
   "id": "cell-33",
   "metadata": {},
   "outputs": [],
   "source": [
    "# Calculate IQR for each cancer type\n",
    "print(\"IQR (Interquartile Range) for BRCA1 by Cancer Type:\")\n",
    "print(\"=\"*50)\n",
    "for lineage in lineages:\n",
    "    data = gene_df[gene_df['oncotree_lineage'] == lineage]['BRCA1']\n",
    "    iqr = data.quantile(0.75) - data.quantile(0.25)\n",
    "    print(f\"{lineage:15s}: {iqr:.2f}\")"
   ]
  },
  {
   "cell_type": "markdown",
   "id": "cell-34",
   "metadata": {},
   "source": [
    "**Biological interpretation:**\n",
    "- High IQR = heterogeneous cell lines within this cancer type\n",
    "- Could indicate:\n",
    "  - Multiple subtypes within the cancer category\n",
    "  - Different stages or grades\n",
    "  - Varied mutations affecting this gene\n",
    "- Low IQR = consistent expression across cell lines"
   ]
  },
  {
   "cell_type": "markdown",
   "id": "cell-35",
   "metadata": {},
   "source": [
    "### Feature 3: Outliers - Unusual Cell Lines"
   ]
  },
  {
   "cell_type": "code",
   "execution_count": null,
   "id": "cell-36",
   "metadata": {},
   "outputs": [],
   "source": [
    "# Identify outliers for each cancer type\n",
    "print(\"Outliers in BRCA1 Expression:\")\n",
    "print(\"=\"*50)\n",
    "\n",
    "for lineage in lineages:\n",
    "    data = gene_df[gene_df['oncotree_lineage'] == lineage]['BRCA1']\n",
    "    q1 = data.quantile(0.25)\n",
    "    q3 = data.quantile(0.75)\n",
    "    iqr = q3 - q1\n",
    "    \n",
    "    # Outliers are beyond 1.5 * IQR from quartiles\n",
    "    lower_bound = q1 - 1.5 * iqr\n",
    "    upper_bound = q3 + 1.5 * iqr\n",
    "    \n",
    "    outliers = gene_df[\n",
    "        (gene_df['oncotree_lineage'] == lineage) &\n",
    "        ((gene_df['BRCA1'] < lower_bound) | (gene_df['BRCA1'] > upper_bound))\n",
    "    ]\n",
    "    \n",
    "    if len(outliers) > 0:\n",
    "        print(f\"\\n{lineage}:\")\n",
    "        print(outliers[['cell_line_name', 'BRCA1']])\n",
    "    else:\n",
    "        print(f\"\\n{lineage}: No outliers\")"
   ]
  },
  {
   "cell_type": "markdown",
   "id": "cell-37",
   "metadata": {},
   "source": [
    "**Biological interpretation of outliers:**\n",
    "- 🔬 **Low BRCA1 outlier in breast cancer**: Possible BRCA1 mutation!\n",
    "- 🔬 **High expression outlier**: May have gene amplification\n",
    "- 🔬 **Consistent outliers**: Worth investigating - could be a unique subtype\n",
    "- ⚠️ **Could also be**: Experimental artifacts or measurement errors"
   ]
  },
  {
   "cell_type": "markdown",
   "id": "cell-38",
   "metadata": {},
   "source": [
    "### Feature 4: Overlapping Notches\n",
    "\n",
    "When notches (the narrowing around the median) **overlap**, the medians are **not significantly different**.\n",
    "\n",
    "When notches **don't overlap**, there's strong evidence the medians differ!"
   ]
  },
  {
   "cell_type": "markdown",
   "id": "cell-39",
   "metadata": {},
   "source": [
    "### 📊 Exercise 4: Biological Interpretation Challenge\n",
    "\n",
    "Choose a gene of interest and:\n",
    "1. Create a box plot across cancer types\n",
    "2. Calculate and print median for each type\n",
    "3. Calculate and print IQR for each type\n",
    "4. Identify and print outliers\n",
    "5. Write a 2-3 sentence biological interpretation\n",
    "\n",
    "**Suggested genes:** EGFR, KRAS, TP53, MYC"
   ]
  },
  {
   "cell_type": "code",
   "execution_count": null,
   "id": "cell-40",
   "metadata": {},
   "outputs": [],
   "source": [
    "# Your code here:\n"
   ]
  },
  {
   "cell_type": "markdown",
   "id": "cell-41",
   "metadata": {},
   "source": [
    "---\n",
    "\n",
    "## 8. Advanced: Horizontal Box Plots\n",
    "\n",
    "Sometimes horizontal box plots are easier to read, especially with long labels:"
   ]
  },
  {
   "cell_type": "code",
   "execution_count": null,
   "id": "cell-42",
   "metadata": {},
   "outputs": [],
   "source": [
    "# Horizontal box plot\n",
    "fig, ax = plt.subplots(figsize=(10, 6))\n",
    "\n",
    "data_to_plot = [\n",
    "    gene_df[gene_df['oncotree_lineage'] == lineage]['BRCA1']\n",
    "    for lineage in lineages\n",
    "]\n",
    "\n",
    "bp = ax.boxplot(data_to_plot,\n",
    "                labels=lineages,\n",
    "                patch_artist=True,\n",
    "                vert=False,  # Make it horizontal!\n",
    "                showmeans=True,\n",
    "                notch=True)\n",
    "\n",
    "# Color boxes\n",
    "colors = ['skyblue', 'lightcoral', 'lightgreen', 'wheat', 'plum']\n",
    "for patch, color in zip(bp['boxes'], colors[:len(bp['boxes'])]):\n",
    "    patch.set_facecolor(color)\n",
    "    patch.set_alpha(0.7)\n",
    "\n",
    "ax.set_xlabel('BRCA1 Expression (log2 TPM + 1)', fontsize=12)\n",
    "ax.set_ylabel('Cancer Type', fontsize=12)\n",
    "ax.set_title('BRCA1 Expression Across Cancer Types (Horizontal)', fontsize=14, fontweight='bold')\n",
    "ax.grid(True, alpha=0.3, axis='x')\n",
    "\n",
    "plt.tight_layout()\n",
    "plt.show()"
   ]
  },
  {
   "cell_type": "markdown",
   "id": "cell-43",
   "metadata": {},
   "source": [
    "**When to use horizontal:**\n",
    "- Long category names that would overlap\n",
    "- Many categories (easier to read vertically)\n",
    "- Publication figures where space is limited"
   ]
  },
  {
   "cell_type": "markdown",
   "id": "cell-44",
   "metadata": {},
   "source": [
    "---\n",
    "\n",
    "## 9. Bonus: Violin Plots - Box Plots with Full Distribution\n",
    "\n",
    "**Violin plots** combine box plots with density plots - showing the full distribution shape!"
   ]
  },
  {
   "cell_type": "code",
   "execution_count": null,
   "id": "cell-45",
   "metadata": {},
   "outputs": [],
   "source": [
    "# Create violin plot\n",
    "fig, ax = plt.subplots(figsize=(10, 6))\n",
    "\n",
    "# Prepare data in long format for violin plot\n",
    "positions = range(1, len(lineages) + 1)\n",
    "data_to_plot = [\n",
    "    gene_df[gene_df['oncotree_lineage'] == lineage]['BRCA1']\n",
    "    for lineage in lineages\n",
    "]\n",
    "\n",
    "vp = ax.violinplot(data_to_plot, positions=positions, \n",
    "                    showmeans=True, showmedians=True)\n",
    "\n",
    "# Customize violin colors\n",
    "colors = ['skyblue', 'lightcoral', 'lightgreen', 'wheat', 'plum']\n",
    "for i, pc in enumerate(vp['bodies']):\n",
    "    pc.set_facecolor(colors[i % len(colors)])\n",
    "    pc.set_alpha(0.7)\n",
    "\n",
    "ax.set_xticks(positions)\n",
    "ax.set_xticklabels(lineages, rotation=45, ha='right')\n",
    "ax.set_xlabel('Cancer Type', fontsize=12)\n",
    "ax.set_ylabel('BRCA1 Expression (log2 TPM + 1)', fontsize=12)\n",
    "ax.set_title('BRCA1 Expression Across Cancer Types (Violin Plot)', fontsize=14, fontweight='bold')\n",
    "ax.grid(True, alpha=0.3, axis='y')\n",
    "\n",
    "plt.tight_layout()\n",
    "plt.show()"
   ]
  },
  {
   "cell_type": "markdown",
   "id": "cell-46",
   "metadata": {},
   "source": [
    "**Violin plots show:**\n",
    "- **Width**: Density of data at that value (like a density plot rotated)\n",
    "- **White dot**: Median\n",
    "- **Thick black bar**: Interquartile range\n",
    "- **Thin black line**: Range\n",
    "\n",
    "**Advantages over box plots:**\n",
    "- Shows the full distribution shape (bimodal, skewed, etc.)\n",
    "- Can see if data has multiple peaks\n",
    "- More informative than just five numbers\n",
    "\n",
    "**Disadvantages:**\n",
    "- Can be harder to read for non-experts\n",
    "- Requires more data points to look good\n",
    "- Takes more space"
   ]
  },
  {
   "cell_type": "markdown",
   "id": "cell-47",
   "metadata": {},
   "source": [
    "### 📊 Exercise 5: Create Your Own Violin Plot\n",
    "\n",
    "Create a violin plot comparing TP53 expression across cancer types.\n",
    "\n",
    "**Questions:**\n",
    "- Do you see any bimodal distributions (two peaks)?\n",
    "- Which cancer type has the widest distribution?\n",
    "- Do violin plots give you more information than box plots for this data?"
   ]
  },
  {
   "cell_type": "code",
   "execution_count": null,
   "id": "cell-48",
   "metadata": {},
   "outputs": [],
   "source": [
    "# Your code here:\n"
   ]
  },
  {
   "cell_type": "markdown",
   "id": "cell-49",
   "metadata": {},
   "source": [
    "---\n",
    "\n",
    "## 10. Key Takeaways\n",
    "\n",
    "✅ **Box plots** show the five-number summary: min, Q1, median, Q3, max\n",
    "\n",
    "✅ **Components:**\n",
    "   - Box: IQR (Q3 - Q1), contains middle 50% of data\n",
    "   - Line in box: Median (50th percentile)\n",
    "   - Whiskers: Extend to min/max within 1.5×IQR\n",
    "   - Points: Outliers beyond whiskers\n",
    "\n",
    "✅ **Two methods:**\n",
    "   - Matplotlib: `ax.boxplot()` - more customization\n",
    "   - Pandas: `df.boxplot()` - simpler syntax\n",
    "\n",
    "✅ **What to look for:**\n",
    "   - Median differences: Which group has higher/lower values?\n",
    "   - Box height (IQR): Which group is more variable?\n",
    "   - Overlapping notches: Are medians significantly different?\n",
    "   - Outliers: Unusual observations worth investigating\n",
    "\n",
    "✅ **Key parameters:**\n",
    "   - `patch_artist=True`: Enable coloring\n",
    "   - `notch=True`: Show confidence intervals\n",
    "   - `showmeans=True`: Display mean marker\n",
    "   - `vert=False`: Make horizontal\n",
    "\n",
    "✅ **Biological interpretation:**\n",
    "   - High median: Typical expression is high in this group\n",
    "   - Large IQR: Heterogeneous cell lines (possible subtypes)\n",
    "   - Outliers: Mutations, amplifications, or artifacts\n",
    "   - Non-overlapping notches: Statistically different groups\n",
    "\n",
    "✅ **Violin plots** add full distribution shape to box plot information\n",
    "\n",
    "✅ **Always pair with biological knowledge** - ask \"why\" patterns exist!\n",
    "\n",
    "---\n",
    "\n",
    "## 🎯 Challenge Problems\n",
    "\n",
    "1. **Comprehensive Comparison**: Create a 3×2 grid comparing 6 different genes across cancer types using box plots\n",
    "\n",
    "2. **Box + Violin Combo**: Create side-by-side plots with box plot on left, violin plot on right for the same data\n",
    "\n",
    "3. **Statistical Testing**: For a gene of interest, identify which cancer type pairs have significantly different medians (non-overlapping notches)\n",
    "\n",
    "4. **Outlier Investigation**: Pick a gene, find all outliers, and investigate if they share common characteristics (same cancer subtype, similar other gene expressions, etc.)\n",
    "\n",
    "5. **Publication Figure**: Create a multi-panel figure with:\n",
    "   - Panel A: Box plot of BRCA1 across cancer types\n",
    "   - Panel B: Box plot of TP53 across cancer types  \n",
    "   - Panel C: Violin plot comparing the two genes in breast cancer only\n",
    "   - Add figure labels (A, B, C) and a caption\n",
    "\n",
    "---\n",
    "\n",
    "**Congratulations!** You've completed all the core visualization techniques for gene expression analysis! 🎉\n",
    "\n",
    "You can now:\n",
    "- Visualize distributions (histograms, density plots)\n",
    "- Compare multiple plots (subplots)\n",
    "- Explore relationships (scatter plots)\n",
    "- Compare groups (box plots, violin plots)\n",
    "\n",
    "These are the fundamental tools for biological data analysis!"
   ]
  }
 ],
 "metadata": {
  "kernelspec": {
   "display_name": "Python 3",
   "language": "python",
   "name": "python3"
  },
  "language_info": {
   "codemirror_mode": {
    "name": "ipython",
    "version": 3
   },
   "file_extension": ".py",
   "mimetype": "text/x-python",
   "name": "python",
   "nbconvert_exporter": "python",
   "pygments_lexer": "ipython3",
   "version": "3.8.0"
  }
 },
 "nbformat": 4,
 "nbformat_minor": 5
}
