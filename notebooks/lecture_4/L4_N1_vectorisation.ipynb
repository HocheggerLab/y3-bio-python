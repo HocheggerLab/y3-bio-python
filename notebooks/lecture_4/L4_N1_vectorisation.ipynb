{
 "cells": [
  {
   "cell_type": "markdown",
   "metadata": {},
   "source": [
    "# Vectorisation with NumPy\n",
    "\n",
    "In this notebook, we'll demonstrate the significant speed improvements we get from using NumPy's vectorization compared to traditional Python loops.\n",
    "\n",
    "We'll perform a simple operation: dividing 10 million integers by 2, first using a Python for loop, then using NumPy's vectorized operations."
   ]
  },
  {
   "cell_type": "code",
   "execution_count": 1,
   "metadata": {},
   "outputs": [],
   "source": [
    "import random\n",
    "import numpy as np"
   ]
  },
  {
   "cell_type": "markdown",
   "metadata": {},
   "source": [
    "## Generate Data\n",
    "\n",
    "First, let's generate a list of 10 million random integers between 0 and 1000."
   ]
  },
  {
   "cell_type": "code",
   "execution_count": 2,
   "metadata": {},
   "outputs": [
    {
     "name": "stdout",
     "output_type": "stream",
     "text": [
      "Generated 10,000,000 random integers\n"
     ]
    }
   ],
   "source": [
    "# Generate 10 million random integers\n",
    "data_list = [random.randint(0, 1000) for _ in range(10_000_000)]\n",
    "print(f\"Generated {len(data_list):,} random integers\")"
   ]
  },
  {
   "cell_type": "markdown",
   "metadata": {},
   "source": [
    "## Method 1: Python For Loop\n",
    "\n",
    "Let's time how long it takes to divide each element by 2 using a traditional Python for loop."
   ]
  },
  {
   "cell_type": "code",
   "execution_count": 3,
   "metadata": {},
   "outputs": [
    {
     "name": "stdout",
     "output_type": "stream",
     "text": [
      "287 ms ± 2.22 ms per loop (mean ± std. dev. of 7 runs, 1 loop each)\n"
     ]
    }
   ],
   "source": [
    "%%timeit\n",
    "result = []\n",
    "for number in data_list:\n",
    "    result.append(number / 2)\n",
    "\n",
    "# more elegentwould be a list comprhension here\n",
    "# result = [x / 2 for x in data_list]"
   ]
  },
  {
   "cell_type": "markdown",
   "metadata": {},
   "source": [
    "## Method 2: NumPy Vectorization\n",
    "\n",
    "Now let's convert our data to a NumPy array and perform the same operation using vectorization."
   ]
  },
  {
   "cell_type": "code",
   "execution_count": 6,
   "metadata": {},
   "outputs": [
    {
     "name": "stdout",
     "output_type": "stream",
     "text": [
      "NumPy array shape: (10000000,)\n",
      "NumPy array dtype: int64\n"
     ]
    }
   ],
   "source": [
    "# Convert to NumPy array\n",
    "data_array = np.array(data_list)\n",
    "print(f\"NumPy array shape: {data_array.shape}\")\n",
    "print(f\"NumPy array dtype: {data_array.dtype}\")"
   ]
  },
  {
   "cell_type": "code",
   "execution_count": 7,
   "metadata": {},
   "outputs": [
    {
     "name": "stdout",
     "output_type": "stream",
     "text": [
      "11.9 ms ± 146 μs per loop (mean ± std. dev. of 7 runs, 100 loops each)\n"
     ]
    }
   ],
   "source": [
    "%%timeit\n",
    "result = data_array / 2"
   ]
  },
  {
   "cell_type": "markdown",
   "metadata": {},
   "source": [
    "## Results\n",
    "\n",
    "Compare the execution times above. You should see that NumPy's vectorized operation is significantly faster - typically 10-100x faster than the Python for loop!\n",
    "\n",
    "### Why is NumPy faster?\n",
    "\n",
    "1. **Compiled C code**: NumPy operations are implemented in C, which is much faster than Python\n",
    "2. **Vectorization**: Operations are applied to entire arrays at once, avoiding Python's loop overhead\n",
    "3. **Memory layout**: NumPy arrays are stored in contiguous memory blocks, allowing for efficient CPU cache usage\n",
    "4. **No type checking**: NumPy arrays have a fixed dtype, eliminating per-element type checking"
   ]
  },
  {
   "cell_type": "markdown",
   "metadata": {},
   "source": [
    "## Bonus: Memory Efficiency\n",
    "\n",
    "Let's also compare memory usage between Python lists and NumPy arrays."
   ]
  },
  {
   "cell_type": "code",
   "execution_count": null,
   "metadata": {},
   "outputs": [],
   "source": [
    "import sys\n",
    "\n",
    "# Memory used by Python list (approximate)\n",
    "list_memory = sys.getsizeof(data_list) + sum(sys.getsizeof(x) for x in data_list[:100]) * (len(data_list) // 100)\n",
    "print(f\"Approximate Python list memory: {list_memory / 1_000_000:.2f} MB\")\n",
    "\n",
    "# Memory used by NumPy array\n",
    "array_memory = data_array.nbytes\n",
    "print(f\"NumPy array memory: {array_memory / 1_000_000:.2f} MB\")\n",
    "\n",
    "print(f\"\\nNumPy is ~{list_memory / array_memory:.1f}x more memory efficient!\")"
   ]
  }
 ],
 "metadata": {
  "kernelspec": {
   "display_name": ".venv",
   "language": "python",
   "name": "python3"
  },
  "language_info": {
   "codemirror_mode": {
    "name": "ipython",
    "version": 3
   },
   "file_extension": ".py",
   "mimetype": "text/x-python",
   "name": "python",
   "nbconvert_exporter": "python",
   "pygments_lexer": "ipython3",
   "version": "3.12.10"
  }
 },
 "nbformat": 4,
 "nbformat_minor": 4
}
