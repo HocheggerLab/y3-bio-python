{
 "cells": [
  {
   "cell_type": "markdown",
   "id": "cell-0",
   "metadata": {},
   "source": [
    "# Lecture 4 Notebook 5: Histograms and Distributions\n",
    "\n",
    "**Learning Objectives:**\n",
    "- Understand what histograms show and when to use them\n",
    "- Create histograms with matplotlib\n",
    "- Overlay multiple histograms for comparison\n",
    "- Use density plots (KDE) for smooth distributions\n",
    "- Visualize distributions of entire datasets\n",
    "\n",
    "---"
   ]
  },
  {
   "cell_type": "markdown",
   "id": "cell-1",
   "metadata": {},
   "source": [
    "## 1. Introduction to Histograms\n",
    "\n",
    "A **histogram** is a visualization that shows the distribution of numerical data:\n",
    "\n",
    "- **X-axis**: The range of values, divided into bins\n",
    "- **Y-axis**: The count (or frequency) of observations in each bin\n",
    "- **Purpose**: Understand the shape, spread, and central tendency of your data\n",
    "\n",
    "Histograms help answer questions like:\n",
    "- What's the typical range of gene expression values?\n",
    "- Is the data normally distributed or skewed?\n",
    "- Are there outliers or multiple peaks?"
   ]
  },
  {
   "cell_type": "code",
   "execution_count": null,
   "id": "cell-2",
   "metadata": {},
   "outputs": [],
   "source": [
    "import pandas as pd\n",
    "import matplotlib.pyplot as plt"
   ]
  },
  {
   "cell_type": "markdown",
   "id": "cell-3",
   "metadata": {},
   "source": [
    "## 2. Load Gene Expression Data\n",
    "\n",
    "Let's load the DepMap gene expression dataset that we've been working with:"
   ]
  },
  {
   "cell_type": "code",
   "execution_count": null,
   "id": "cell-4",
   "metadata": {},
   "outputs": [],
   "source": [
    "# Load the gene expression data\n",
    "url = \"https://zenodo.org/records/17377786/files/expression_filtered.csv?download=1\"\n",
    "gene_df = pd.read_csv(url)\n",
    "\n",
    "# Display basic info\n",
    "print(f\"Dataset shape: {gene_df.shape}\")\n",
    "print(f\"Number of cell lines: {gene_df.shape[0]}\")\n",
    "print(f\"Number of genes: {gene_df.shape[1] - 9}\")  # Subtract metadata columns\n",
    "gene_df.head()"
   ]
  },
  {
   "cell_type": "markdown",
   "id": "cell-5",
   "metadata": {},
   "source": [
    "---\n",
    "\n",
    "## 3. Single Histogram: BRCA1 Expression\n",
    "\n",
    "Let's create our first histogram showing the distribution of BRCA1 expression across all cell lines:"
   ]
  },
  {
   "cell_type": "code",
   "execution_count": 3,
   "id": "cell-6",
   "metadata": {},
   "outputs": [
    {
     "data": {
      "image/png": "[encoded data removed]",
      "text/plain": [
       "<Figure size 800x500 with 1 Axes>"
      ]
     },
     "metadata": {},
     "output_type": "display_data"
    }
   ],
   "source": [
    "# Create a histogram of BRCA1 expression\n",
    "fig, ax = plt.subplots(figsize=(8, 5))\n",
    "ax.hist(gene_df['BRCA1'], bins=20, color='skyblue', edgecolor='black')\n",
    "ax.set_xlabel('BRCA1 Expression (log2 TPM + 1)')\n",
    "ax.set_ylabel('Number of Cell Lines')\n",
    "ax.set_title('Distribution of BRCA1 Expression')\n",
    "ax.grid(axis='y', alpha=0.3)\n",
    "plt.show()"
   ]
  },
  {
   "cell_type": "markdown",
   "id": "cell-7",
   "metadata": {},
   "source": "**What do we see?**\n- Most cell lines have BRCA1 expression between 3-5 (log2 scale)\n- The distribution shows where the majority of values fall\n- We can see if there are any extreme outliers\n\n**Key parameters:**\n- `bins`: Number of bars (try changing this!)\n- `color`: Color of the bars\n- `edgecolor`: Color of bar borders\n\n**The fig, ax API:**\n- `fig, ax = plt.subplots()`: Creates a figure and axes object\n- `ax.hist()`: Plots the histogram on the axes\n- `ax.set_xlabel()`, `ax.set_ylabel()`, `ax.set_title()`: Set labels and title"
  },
  {
   "cell_type": "markdown",
   "id": "cell-8",
   "metadata": {},
   "source": "### 📊 Exercise 1: Histogram of TP53 Expression\n\nCreate a histogram showing the distribution of TP53 expression. Use:\n- 25 bins\n- A different color (e.g., 'lightcoral')\n- Appropriate labels and title\n\n**Hint:** Copy the code above and modify it for TP53. Remember to use `fig, ax = plt.subplots()` and `ax.hist()`"
  },
  {
   "cell_type": "code",
   "execution_count": null,
   "id": "cell-9",
   "metadata": {},
   "outputs": [],
   "source": [
    "# Your code here:\n"
   ]
  },
  {
   "cell_type": "markdown",
   "id": "cell-10",
   "metadata": {},
   "source": "### 📊 Exercise 2: Different Number of Bins\n\nCreate three histograms of MYC expression side-by-side with different numbers of bins (10, 20, and 50).\n\n**Hint:** Use `fig, axes = plt.subplots(1, 3, figsize=(15, 4))` to create multiple plots, then use `axes[0]`, `axes[1]`, `axes[2]`"
  },
  {
   "cell_type": "code",
   "execution_count": null,
   "id": "cell-11",
   "metadata": {},
   "outputs": [],
   "source": [
    "# Your code here:\n"
   ]
  },
  {
   "cell_type": "markdown",
   "id": "cell-12",
   "metadata": {},
   "source": [
    "---\n",
    "\n",
    "## 4. Overlaying Histograms: Compare BRCA1 and TP53\n",
    "\n",
    "Often we want to compare distributions of multiple variables. We can overlay histograms to see differences:"
   ]
  },
  {
   "cell_type": "code",
   "execution_count": null,
   "id": "cell-13",
   "metadata": {},
   "outputs": [],
   "source": "# Overlay histograms for BRCA1 and TP53\nfig, ax = plt.subplots(figsize=(10, 6))\nax.hist(gene_df['BRCA1'], bins=20, alpha=0.5, label='BRCA1', color='skyblue', edgecolor='black')\nax.hist(gene_df['TP53'], bins=20, alpha=0.5, label='TP53', color='lightcoral', edgecolor='black')\nax.set_xlabel('Gene Expression (log2 TPM + 1)')\nax.set_ylabel('Number of Cell Lines')\nax.set_title('Distribution Comparison: BRCA1 vs TP53')\nax.legend()\nax.grid(axis='y', alpha=0.3)\nplt.show()"
  },
  {
   "cell_type": "markdown",
   "id": "cell-14",
   "metadata": {},
   "source": "**What's new?**\n- `alpha=0.5`: Makes bars semi-transparent so we can see overlap\n- `label`: Creates labels for the legend\n- `ax.legend()`: Displays the legend\n\n**Biological question:** How do the expression patterns of these two tumor suppressor genes compare?"
  },
  {
   "cell_type": "markdown",
   "id": "cell-15",
   "metadata": {},
   "source": "### 📊 Exercise 3: Compare Three Genes\n\nCreate an overlaid histogram comparing BRCA1, TP53, and MYC. Use three different colors and appropriate transparency.\n\n**Hint:** Add a third `ax.hist()` call with a different color"
  },
  {
   "cell_type": "code",
   "execution_count": null,
   "id": "cell-16",
   "metadata": {},
   "outputs": [],
   "source": [
    "# Your code here:\n"
   ]
  },
  {
   "cell_type": "markdown",
   "id": "cell-17",
   "metadata": {},
   "source": "### 📊 Exercise 4: Compare Cancer Types\n\nCreate overlaid histograms comparing BRCA1 expression in Breast vs Myeloid cancer cell lines.\n\n**Hint:** Use boolean indexing:\n```python\nbreast_brca1 = gene_df[gene_df['oncotree_lineage'] == 'Breast']['BRCA1']\nmyeloid_brca1 = gene_df[gene_df['oncotree_lineage'] == 'Myeloid']['BRCA1']\nfig, ax = plt.subplots(figsize=(10, 6))\nax.hist(breast_brca1, bins=20, alpha=0.5, label='Breast', ...)\n```"
  },
  {
   "cell_type": "code",
   "execution_count": null,
   "id": "cell-18",
   "metadata": {},
   "outputs": [],
   "source": [
    "# Your code here:\n"
   ]
  },
  {
   "cell_type": "markdown",
   "id": "cell-19",
   "metadata": {},
   "source": [
    "---\n",
    "\n",
    "## 5. Density Plots (KDE): Smooth Distributions\n",
    "\n",
    "**Kernel Density Estimation (KDE)** creates a smooth curve representing the distribution. It's like a smoothed histogram!\n",
    "\n",
    "**Advantages:**\n",
    "- Shows the overall shape more clearly\n",
    "- Better for comparing multiple distributions\n",
    "- Not affected by bin width choices"
   ]
  },
  {
   "cell_type": "code",
   "execution_count": null,
   "id": "cell-20",
   "metadata": {},
   "outputs": [],
   "source": "# Create a density plot for BRCA1\nfig, ax = plt.subplots(figsize=(10, 6))\ngene_df['BRCA1'].plot(kind='density', linewidth=2, color='skyblue', ax=ax)\nax.set_xlabel('BRCA1 Expression (log2 TPM + 1)')\nax.set_ylabel('Density')\nax.set_title('Density Plot of BRCA1 Expression')\nax.grid(alpha=0.3)\nplt.show()"
  },
  {
   "cell_type": "markdown",
   "id": "cell-21",
   "metadata": {},
   "source": [
    "**Interpretation:**\n",
    "- The peak shows the most common expression level\n",
    "- The width shows how spread out the data is\n",
    "- The area under the curve equals 1 (it's a probability distribution)"
   ]
  },
  {
   "cell_type": "markdown",
   "id": "cell-22",
   "metadata": {},
   "source": [
    "### Overlay Multiple Density Plots\n",
    "\n",
    "Density plots are especially nice for comparing distributions:"
   ]
  },
  {
   "cell_type": "code",
   "execution_count": null,
   "id": "cell-23",
   "metadata": {},
   "outputs": [],
   "source": "# Compare BRCA1 and TP53 with density plots\nfig, ax = plt.subplots(figsize=(10, 6))\ngene_df['BRCA1'].plot(kind='density', linewidth=2, label='BRCA1', color='skyblue', ax=ax)\ngene_df['TP53'].plot(kind='density', linewidth=2, label='TP53', color='lightcoral', ax=ax)\nax.set_xlabel('Gene Expression (log2 TPM + 1)')\nax.set_ylabel('Density')\nax.set_title('Density Comparison: BRCA1 vs TP53')\nax.legend()\nax.grid(alpha=0.3)\nplt.show()"
  },
  {
   "cell_type": "markdown",
   "id": "cell-24",
   "metadata": {},
   "source": [
    "**Much cleaner!** We can clearly see:\n",
    "- Where each gene's expression is centered\n",
    "- Which gene has more variable expression\n",
    "- Whether the distributions overlap"
   ]
  },
  {
   "cell_type": "markdown",
   "id": "cell-25",
   "metadata": {},
   "source": "### 📊 Exercise 5: Density Plot of Your Favorite Gene\n\nChoose any gene from the dataset and create a density plot. Add:\n- A vertical line showing the mean expression (`ax.axvline()`)\n- Appropriate labels and title\n\n**Hint:** Use `gene_df['YOUR_GENE'].mean()` to get the mean"
  },
  {
   "cell_type": "code",
   "execution_count": null,
   "id": "cell-26",
   "metadata": {},
   "outputs": [],
   "source": [
    "# Your code here:\n"
   ]
  },
  {
   "cell_type": "markdown",
   "id": "cell-27",
   "metadata": {},
   "source": "### 📊 Exercise 6: Density by Cancer Type\n\nCreate density plots comparing BRCA1 expression in Breast vs Myeloid cancer types.\n\n**Hint:** Similar to Exercise 4, but use `.plot(kind='density', ax=ax)` instead of `ax.hist()`"
  },
  {
   "cell_type": "code",
   "execution_count": null,
   "id": "cell-28",
   "metadata": {},
   "outputs": [],
   "source": [
    "# Your code here:\n"
   ]
  },
  {
   "cell_type": "markdown",
   "id": "cell-29",
   "metadata": {},
   "source": [
    "---\n",
    "\n",
    "## 6. Entire Dataset Distribution\n",
    "\n",
    "What if we want to see the distribution of **all** gene expression values across the entire dataset? We need to flatten the data into a single array."
   ]
  },
  {
   "cell_type": "markdown",
   "id": "cell-30",
   "metadata": {},
   "source": [
    "### Understanding the Data Structure\n",
    "\n",
    "First, let's see what we're working with:"
   ]
  },
  {
   "cell_type": "code",
   "execution_count": 7,
   "id": "cell-31",
   "metadata": {},
   "outputs": [
    {
     "name": "stdout",
     "output_type": "stream",
     "text": [
      "Metadata columns:\n",
      "['model_id', 'cell_line_name', 'stripped_cell_line_name', 'oncotree_lineage', 'oncotree_primary_disease', 'oncotree_subtype', 'oncotree_code', 'ccle_name', 'depmap_model_type']\n",
      "\n",
      "First few gene columns:\n",
      "['A1BG', 'A1CF', 'A2M', 'A2ML1', 'A3GALT2', 'A4GALT']\n"
     ]
    }
   ],
   "source": [
    "# Look at the columns\n",
    "print(\"Metadata columns:\")\n",
    "print(gene_df.columns[:9].tolist())\n",
    "print(\"\\nFirst few gene columns:\")\n",
    "print(gene_df.columns[9:15].tolist())"
   ]
  },
  {
   "cell_type": "markdown",
   "id": "cell-32",
   "metadata": {},
   "source": [
    "### Select Only Numeric Columns\n",
    "\n",
    "We only want the gene expression values (numeric columns), not the metadata:"
   ]
  },
  {
   "cell_type": "code",
   "execution_count": 8,
   "id": "cell-33",
   "metadata": {},
   "outputs": [
    {
     "name": "stdout",
     "output_type": "stream",
     "text": [
      "Shape of numeric data: (89, 17121)\n",
      "Total number of expression values: 1523769\n"
     ]
    }
   ],
   "source": [
    "# Select only numeric columns (gene expression values)\n",
    "numeric_df = gene_df.select_dtypes(include='number')\n",
    "print(f\"Shape of numeric data: {numeric_df.shape}\")\n",
    "print(f\"Total number of expression values: {numeric_df.shape[0] * numeric_df.shape[1]}\")"
   ]
  },
  {
   "cell_type": "markdown",
   "id": "cell-34",
   "metadata": {},
   "source": [
    "### Flatten to 1D Array\n",
    "\n",
    "Now we'll flatten the 2D dataframe into a 1D array using `.values.flatten()`:"
   ]
  },
  {
   "cell_type": "code",
   "execution_count": 9,
   "id": "cell-35",
   "metadata": {},
   "outputs": [
    {
     "name": "stdout",
     "output_type": "stream",
     "text": [
      "Total values: 1523769\n",
      "Min expression: 0.00\n",
      "Max expression: 15.26\n",
      "Mean expression: 2.80\n"
     ]
    }
   ],
   "source": [
    "# Flatten all expression values into a single array\n",
    "all_expression = numeric_df.values.flatten()\n",
    "print(f\"Total values: {len(all_expression)}\")\n",
    "print(f\"Min expression: {all_expression.min():.2f}\")\n",
    "print(f\"Max expression: {all_expression.max():.2f}\")\n",
    "print(f\"Mean expression: {all_expression.mean():.2f}\")"
   ]
  },
  {
   "cell_type": "markdown",
   "id": "cell-36",
   "metadata": {},
   "source": [
    "**What happened?**\n",
    "- `select_dtypes(include='number')`: Keeps only numeric columns\n",
    "- `.values`: Converts dataframe to numpy array\n",
    "- `.flatten()`: Converts 2D array (rows × columns) to 1D array\n",
    "\n",
    "**Result:** All ~1.5 million expression values in one long array!"
   ]
  },
  {
   "cell_type": "markdown",
   "id": "cell-37",
   "metadata": {},
   "source": [
    "### Histogram of All Expression Values\n",
    "\n",
    "Now we can visualize the overall distribution:"
   ]
  },
  {
   "cell_type": "code",
   "execution_count": null,
   "id": "cell-38",
   "metadata": {},
   "outputs": [],
   "source": "# Create histogram of all expression values\nfig, ax = plt.subplots(figsize=(12, 6))\nax.hist(all_expression, bins=50, color='steelblue', edgecolor='black', alpha=0.7)\nax.set_xlabel('Gene Expression (log2 TPM + 1)')\nax.set_ylabel('Frequency')\nax.set_title('Distribution of All Gene Expression Values Across Dataset')\nax.axvline(all_expression.mean(), color='red', linestyle='--', linewidth=2, label=f'Mean = {all_expression.mean():.2f}')\nax.legend()\nax.grid(axis='y', alpha=0.3)\nplt.show()"
  },
  {
   "cell_type": "markdown",
   "id": "cell-39",
   "metadata": {},
   "source": [
    "**Biological insights:**\n",
    "- Most genes have low to moderate expression\n",
    "- The distribution is roughly normal (bell-shaped)\n",
    "- There's a long tail on the right (some genes are very highly expressed)"
   ]
  },
  {
   "cell_type": "markdown",
   "id": "cell-40",
   "metadata": {},
   "source": [
    "### Density Plot of All Values\n",
    "\n",
    "Let's also create a smooth density plot:"
   ]
  },
  {
   "cell_type": "code",
   "execution_count": null,
   "id": "cell-41",
   "metadata": {},
   "outputs": [],
   "source": "# Density plot of all expression values\nfig, ax = plt.subplots(figsize=(12, 6))\npd.Series(all_expression).plot(kind='density', linewidth=2, color='steelblue', ax=ax)\nax.set_xlabel('Gene Expression (log2 TPM + 1)')\nax.set_ylabel('Density')\nax.set_title('Density Plot of All Gene Expression Values')\nax.axvline(all_expression.mean(), color='red', linestyle='--', linewidth=2, label=f'Mean = {all_expression.mean():.2f}')\nax.legend()\nax.grid(alpha=0.3)\nplt.show()"
  },
  {
   "cell_type": "markdown",
   "id": "cell-42",
   "metadata": {},
   "source": [
    "### 📊 Exercise 7: Compare Breast vs Myeloid Overall Distributions\n",
    "\n",
    "Create two separate flattened arrays:\n",
    "1. All gene expression values from Breast cancer cell lines\n",
    "2. All gene expression values from Myeloid cancer cell lines\n",
    "\n",
    "Then plot overlaid density plots to compare the overall expression patterns.\n",
    "\n",
    "**Hint:** Filter by lineage first, then select numeric columns and flatten"
   ]
  },
  {
   "cell_type": "code",
   "execution_count": null,
   "id": "cell-43",
   "metadata": {},
   "outputs": [],
   "source": [
    "# Your code here:\n"
   ]
  },
  {
   "cell_type": "markdown",
   "id": "cell-44",
   "metadata": {},
   "source": [
    "### 📊 Exercise 8: Top Expressed Genes\n",
    "\n",
    "Find the top 5 most highly expressed genes (by mean expression) and create overlaid density plots for all 5.\n",
    "\n",
    "**Hints:**\n",
    "1. Calculate mean for each gene: `numeric_df.mean()`\n",
    "2. Sort and get top 5: `.sort_values(ascending=False).head(5)`\n",
    "3. Plot each gene's distribution with a loop"
   ]
  },
  {
   "cell_type": "code",
   "execution_count": null,
   "id": "cell-45",
   "metadata": {},
   "outputs": [],
   "source": [
    "# Your code here:\n"
   ]
  },
  {
   "cell_type": "markdown",
   "id": "cell-46",
   "metadata": {},
   "source": [
    "---\n",
    "\n",
    "## 7. Key Takeaways\n",
    "\n",
    "✅ **Histograms** show the distribution of numerical data using bins\n",
    "\n",
    "✅ **Overlaying histograms** allows comparison of multiple distributions\n",
    "   - Use `alpha` for transparency\n",
    "   - Use `label` and `legend()` to identify each distribution\n",
    "\n",
    "✅ **Density plots (KDE)** provide smooth distribution curves\n",
    "   - Better for comparisons\n",
    "   - Not affected by bin size choices\n",
    "\n",
    "✅ **Flattening data** with `.values.flatten()` creates 1D arrays\n",
    "   - Useful for viewing overall distributions\n",
    "   - Use `select_dtypes(include='number')` to filter numeric columns\n",
    "\n",
    "✅ **Biological applications:**\n",
    "   - Compare gene expression patterns\n",
    "   - Identify typical expression ranges\n",
    "   - Detect outliers or unusual distributions\n",
    "   - Compare expression patterns between cancer types\n",
    "\n",
    "---\n",
    "\n",
    "## 🎯 Challenge: Explore on Your Own\n",
    "\n",
    "1. Create a figure with 4 subplots showing histograms of 4 different genes\n",
    "2. Find genes with bimodal distributions (two peaks) - what might this mean biologically?\n",
    "3. Compare the distribution shapes of housekeeping genes vs tissue-specific genes\n",
    "4. Create a \"before and after\" plot showing expression distributions with and without outliers removed\n",
    "5. Investigate if there's a relationship between mean expression and variability (std)\n",
    "\n",
    "---\n",
    "\n",
    "**Next:** In the next notebook, we'll explore more advanced visualization techniques including scatter plots and heatmaps! 📊"
   ]
  }
 ],
 "metadata": {
  "kernelspec": {
   "display_name": ".venv",
   "language": "python",
   "name": "python3"
  },
  "language_info": {
   "codemirror_mode": {
    "name": "ipython",
    "version": 3
   },
   "file_extension": ".py",
   "mimetype": "text/x-python",
   "name": "python",
   "nbconvert_exporter": "python",
   "pygments_lexer": "ipython3",
   "version": "3.12.10"
  }
 },
 "nbformat": 4,
 "nbformat_minor": 5
}