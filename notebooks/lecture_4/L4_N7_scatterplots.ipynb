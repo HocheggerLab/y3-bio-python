{
 "cells": [
  {
   "cell_type": "markdown",
   "id": "cell-0",
   "metadata": {},
   "source": [
    "# Lecture 4 Notebook 7: Exploring Relationships with Scatter Plots\n",
    "\n",
    "**Learning Objectives:**\n",
    "- Understand what scatter plots show and when to use them\n",
    "- Create basic scatter plots with matplotlib\n",
    "- Interpret patterns: correlations, clusters, and outliers\n",
    "- Compare multiple relationships using subplots\n",
    "- Color points by category to reveal subgroups\n",
    "- Connect scatter plot patterns to biological questions\n",
    "\n",
    "---"
   ]
  },
  {
   "cell_type": "markdown",
   "id": "cell-1",
   "metadata": {},
   "source": [
    "## 1. Introduction: What is a Scatter Plot?\n",
    "\n",
    "A **scatter plot** shows the relationship between **two numerical variables**. Each point represents one observation.\n",
    "\n",
    "**In our gene expression data:**\n",
    "- Each point = one cell line\n",
    "- X-axis = expression of Gene A\n",
    "- Y-axis = expression of Gene B\n",
    "\n",
    "**Why use scatter plots?**\n",
    "- 🔍 Discover if two genes are **correlated** (co-expressed)\n",
    "- 🧬 Identify genes that work together in the same pathway\n",
    "- 📊 Find outliers (unusual cell lines)\n",
    "- 🎯 Reveal clusters (subgroups of cell lines)\n",
    "\n",
    "**Key biological insight:** If two genes show a pattern (linear relationship), they may be:\n",
    "- Part of the same protein complex\n",
    "- Co-regulated by the same transcription factor\n",
    "- Working together in a pathway\n",
    "- One regulating the other"
   ]
  },
  {
   "cell_type": "code",
   "execution_count": null,
   "id": "cell-2",
   "metadata": {},
   "outputs": [],
   "source": [
    "import pandas as pd\n",
    "import matplotlib.pyplot as plt\n",
    "import numpy as np"
   ]
  },
  {
   "cell_type": "markdown",
   "id": "cell-3",
   "metadata": {},
   "source": [
    "## 2. Load Gene Expression Data"
   ]
  },
  {
   "cell_type": "code",
   "execution_count": null,
   "id": "cell-4",
   "metadata": {},
   "outputs": [],
   "source": [
    "# Load the gene expression data\n",
    "url = \"https://zenodo.org/records/17377786/files/expression_filtered.csv?download=1\"\n",
    "gene_df = pd.read_csv(url)\n",
    "\n",
    "print(f\"Dataset shape: {gene_df.shape}\")\n",
    "print(f\"Number of cell lines: {gene_df.shape[0]}\")\n",
    "gene_df.head()"
   ]
  },
  {
   "cell_type": "markdown",
   "id": "cell-5",
   "metadata": {},
   "source": [
    "---\n",
    "\n",
    "## 3. Your First Scatter Plot: BRCA1 vs BRCA2\n",
    "\n",
    "Let's explore the relationship between **BRCA1** and **BRCA2**, two genes involved in DNA repair.\n",
    "\n",
    "**Biological question:** Are these genes co-expressed in cancer cell lines?"
   ]
  },
  {
   "cell_type": "code",
   "execution_count": null,
   "id": "cell-6",
   "metadata": {},
   "outputs": [],
   "source": [
    "# Create a scatter plot\n",
    "fig, ax = plt.subplots(figsize=(8, 6))\n",
    "\n",
    "ax.scatter(gene_df['BRCA1'], gene_df['BRCA2'], \n",
    "           alpha=0.6, s=50, color='skyblue',\n",
    "           edgecolor='black', linewidth=0.5)\n",
    "\n",
    "ax.set_xlabel('BRCA1 Expression (log2 TPM + 1)', fontsize=12)\n",
    "ax.set_ylabel('BRCA2 Expression (log2 TPM + 1)', fontsize=12)\n",
    "ax.set_title('BRCA1 vs BRCA2 Expression Across Cell Lines', fontsize=14, fontweight='bold')\n",
    "\n",
    "# Add grid for easier reading\n",
    "ax.grid(True, alpha=0.3, linestyle='--')\n",
    "\n",
    "plt.tight_layout()\n",
    "plt.show()"
   ]
  },
  {
   "cell_type": "markdown",
   "id": "cell-7",
   "metadata": {},
   "source": [
    "**Understanding the plot:**\n",
    "- Each **point** = one cell line\n",
    "- **X-position** = BRCA1 expression in that cell line\n",
    "- **Y-position** = BRCA2 expression in that cell line\n",
    "\n",
    "**Key parameters:**\n",
    "- `alpha=0.6`: Transparency (0=invisible, 1=opaque). Helps see overlapping points!\n",
    "- `s=50`: Size of points (try changing this!)\n",
    "- `color='skyblue'`: Color of points\n",
    "- `edgecolor='black'`: Border color around each point\n",
    "- `linewidth=0.5`: Thickness of the border\n",
    "\n",
    "**What pattern do you see?** Is there a relationship?"
   ]
  },
  {
   "cell_type": "markdown",
   "id": "cell-8",
   "metadata": {},
   "source": [
    "### 📊 Exercise 1: Scatter Plot of TP53 vs MDM2\n",
    "\n",
    "Create a scatter plot showing the relationship between TP53 and MDM2.\n",
    "\n",
    "**Biological context:** MDM2 is a negative regulator of TP53 - it targets TP53 for degradation. What pattern would you expect?\n",
    "\n",
    "**Hints:**\n",
    "- Use a different color (e.g., 'lightcoral')\n",
    "- Add appropriate labels and title\n",
    "- Include a grid"
   ]
  },
  {
   "cell_type": "code",
   "execution_count": null,
   "id": "cell-9",
   "metadata": {},
   "outputs": [],
   "source": [
    "# Your code here:\n"
   ]
  },
  {
   "cell_type": "markdown",
   "id": "cell-10",
   "metadata": {},
   "source": [
    "---\n",
    "\n",
    "## 4. Strong Correlation: TSC1 vs TSC2\n",
    "\n",
    "Let's look at a gene pair that we **expect** to be strongly correlated.\n",
    "\n",
    "**Biological background:**\n",
    "- **TSC1** and **TSC2** form the TSC protein complex\n",
    "- This complex regulates mTOR signaling (critical for cell growth)\n",
    "- Cells need BOTH proteins to form a functional complex\n",
    "\n",
    "**Prediction:** These genes should show **strong positive correlation** because cells that express one usually express the other!"
   ]
  },
  {
   "cell_type": "code",
   "execution_count": null,
   "id": "cell-11",
   "metadata": {},
   "outputs": [],
   "source": [
    "# TSC1 and TSC2: Genes in the same protein complex\n",
    "fig, ax = plt.subplots(figsize=(8, 6))\n",
    "\n",
    "ax.scatter(gene_df['TSC1'], gene_df['TSC2'],\n",
    "           alpha=0.6, s=60,\n",
    "           color='lightcoral',\n",
    "           edgecolor='darkred',\n",
    "           linewidth=0.5)\n",
    "\n",
    "ax.set_xlabel('TSC1 Expression (log2 TPM + 1)', fontsize=12)\n",
    "ax.set_ylabel('TSC2 Expression (log2 TPM + 1)', fontsize=12)\n",
    "ax.set_title('TSC1 vs TSC2: Co-regulated Genes', fontsize=14, fontweight='bold')\n",
    "\n",
    "ax.grid(True, alpha=0.3, linestyle='--')\n",
    "\n",
    "plt.tight_layout()\n",
    "plt.show()"
   ]
  },
  {
   "cell_type": "markdown",
   "id": "cell-12",
   "metadata": {},
   "source": [
    "**What do you see?**\n",
    "- Is there a **linear pattern** (points form a line)?\n",
    "- Does the line go **upward** (positive correlation) or **downward** (negative correlation)?\n",
    "- Are there any **outliers** (points far from the pattern)?\n",
    "\n",
    "**Biological interpretation:**\n",
    "- Strong positive correlation confirms these genes are co-regulated\n",
    "- Outliers might be cell lines with mutations or unusual regulatory mechanisms\n",
    "- This validates our biological expectation!"
   ]
  },
  {
   "cell_type": "markdown",
   "id": "cell-13",
   "metadata": {},
   "source": [
    "### Patterns to Look For in Scatter Plots\n",
    "\n",
    "**1. Positive Correlation** (upward slope)\n",
    "- As Gene A increases, Gene B increases\n",
    "- Suggests: co-regulation, same pathway, or functional relationship\n",
    "\n",
    "**2. Negative Correlation** (downward slope)\n",
    "- As Gene A increases, Gene B decreases\n",
    "- Suggests: antagonistic relationship, or one inhibits the other\n",
    "\n",
    "**3. No Correlation** (random cloud)\n",
    "- No clear pattern\n",
    "- Suggests: genes are independently regulated\n",
    "\n",
    "**4. Outliers**\n",
    "- Points far from the main pattern\n",
    "- Could be: unusual cell lines, mutations, or experimental artifacts\n",
    "\n",
    "**5. Clusters**\n",
    "- Groups of points separate from others\n",
    "- Could indicate: different cancer subtypes or tissue origins"
   ]
  },
  {
   "cell_type": "markdown",
   "id": "cell-14",
   "metadata": {},
   "source": [
    "### 📊 Exercise 2: Find a Strong Correlation\n",
    "\n",
    "Explore other gene pairs! Create scatter plots for these pairs and identify which shows the strongest correlation:\n",
    "\n",
    "1. MYC vs MYCN\n",
    "2. AKT1 vs AKT2\n",
    "3. KRAS vs NRAS\n",
    "\n",
    "**Hint:** Create 3 subplots side-by-side to compare them easily!"
   ]
  },
  {
   "cell_type": "code",
   "execution_count": null,
   "id": "cell-15",
   "metadata": {},
   "outputs": [],
   "source": [
    "# Your code here:\n"
   ]
  },
  {
   "cell_type": "markdown",
   "id": "cell-16",
   "metadata": {},
   "source": [
    "---\n",
    "\n",
    "## 5. Comparing Multiple Relationships with Subplots\n",
    "\n",
    "Let's compare two gene pairs side-by-side to see which shows stronger co-regulation:"
   ]
  },
  {
   "cell_type": "code",
   "execution_count": null,
   "id": "cell-17",
   "metadata": {},
   "outputs": [],
   "source": [
    "# Compare two gene pairs\n",
    "fig, axes = plt.subplots(1, 2, figsize=(14, 6))\n",
    "\n",
    "# Left: BRCA1 vs BRCA2\n",
    "axes[0].scatter(gene_df['BRCA1'], gene_df['BRCA2'],\n",
    "                alpha=0.6, s=50, color='skyblue',\n",
    "                edgecolor='black', linewidth=0.5)\n",
    "axes[0].set_xlabel('BRCA1 Expression')\n",
    "axes[0].set_ylabel('BRCA2 Expression')\n",
    "axes[0].set_title('BRCA1 vs BRCA2')\n",
    "axes[0].grid(True, alpha=0.3)\n",
    "\n",
    "# Right: TSC1 vs TSC2\n",
    "axes[1].scatter(gene_df['TSC1'], gene_df['TSC2'],\n",
    "                alpha=0.6, s=60, color='lightcoral',\n",
    "                edgecolor='darkred', linewidth=0.5)\n",
    "axes[1].set_xlabel('TSC1 Expression')\n",
    "axes[1].set_ylabel('TSC2 Expression')\n",
    "axes[1].set_title('TSC1 vs TSC2 (Strong Correlation)')\n",
    "axes[1].grid(True, alpha=0.3)\n",
    "\n",
    "plt.tight_layout()\n",
    "plt.show()"
   ]
  },
  {
   "cell_type": "markdown",
   "id": "cell-18",
   "metadata": {},
   "source": [
    "**Comparison:**\n",
    "- Which pair shows a tighter linear pattern?\n",
    "- Which has more scatter around the trend?\n",
    "- What does this tell us about their biological relationship?\n",
    "\n",
    "Side-by-side plots make it easy to directly compare correlation strength!"
   ]
  },
  {
   "cell_type": "markdown",
   "id": "cell-19",
   "metadata": {},
   "source": [
    "### 📊 Exercise 3: Grid of Correlations\n",
    "\n",
    "Create a 2×2 grid showing scatter plots of all pairwise combinations of these 3 genes:\n",
    "BRCA1, TP53, MYC\n",
    "\n",
    "Plot combinations:\n",
    "- (0,0): BRCA1 vs TP53\n",
    "- (0,1): BRCA1 vs MYC\n",
    "- (1,0): TP53 vs MYC\n",
    "- (1,1): Leave empty or add text summary\n",
    "\n",
    "**Hint:** Use `axes.flatten()` to make looping easier!"
   ]
  },
  {
   "cell_type": "code",
   "execution_count": null,
   "id": "cell-20",
   "metadata": {},
   "outputs": [],
   "source": [
    "# Your code here:\n"
   ]
  },
  {
   "cell_type": "markdown",
   "id": "cell-21",
   "metadata": {},
   "source": [
    "---\n",
    "\n",
    "## 6. Advanced: Color by Category\n",
    "\n",
    "So far, all our points are the same color. But what if we want to see if **different cancer types** show different patterns?\n",
    "\n",
    "We can **color points by category** to reveal subgroups!"
   ]
  },
  {
   "cell_type": "markdown",
   "id": "cell-22",
   "metadata": {},
   "source": [
    "### First, let's see what cancer types we have:"
   ]
  },
  {
   "cell_type": "code",
   "execution_count": null,
   "id": "cell-23",
   "metadata": {},
   "outputs": [],
   "source": [
    "# Check unique cancer lineages\n",
    "print(\"Cancer types in our dataset:\")\n",
    "print(gene_df['oncotree_lineage'].unique())\n",
    "print(f\"\\nNumber of types: {gene_df['oncotree_lineage'].nunique()}\")"
   ]
  },
  {
   "cell_type": "markdown",
   "id": "cell-24",
   "metadata": {},
   "source": [
    "### Color Points by Cancer Type\n",
    "\n",
    "Now let's create a scatter plot where each cancer type has a different color:"
   ]
  },
  {
   "cell_type": "code",
   "execution_count": null,
   "id": "cell-25",
   "metadata": {},
   "outputs": [],
   "source": [
    "# Color points by lineage\n",
    "fig, ax = plt.subplots(figsize=(10, 7))\n",
    "\n",
    "# Get unique lineages\n",
    "lineages = gene_df['oncotree_lineage'].unique()\n",
    "colors = ['red', 'blue', 'green', 'orange', 'purple']\n",
    "\n",
    "# Plot each lineage separately with different color\n",
    "for lineage, color in zip(lineages, colors):\n",
    "    # Filter data for this lineage\n",
    "    mask = gene_df['oncotree_lineage'] == lineage\n",
    "    \n",
    "    ax.scatter(gene_df[mask]['BRCA1'],\n",
    "               gene_df[mask]['BRCA2'],\n",
    "               alpha=0.6, s=60,\n",
    "               color=color,\n",
    "               label=lineage,\n",
    "               edgecolor='black',\n",
    "               linewidth=0.5)\n",
    "\n",
    "ax.set_xlabel('BRCA1 Expression (log2 TPM + 1)', fontsize=12)\n",
    "ax.set_ylabel('BRCA2 Expression (log2 TPM + 1)', fontsize=12)\n",
    "ax.set_title('BRCA1 vs BRCA2 by Cancer Type', fontsize=14, fontweight='bold')\n",
    "ax.legend(title='Cancer Lineage', loc='best')\n",
    "ax.grid(True, alpha=0.3)\n",
    "\n",
    "plt.tight_layout()\n",
    "plt.show()"
   ]
  },
  {
   "cell_type": "markdown",
   "id": "cell-26",
   "metadata": {},
   "source": [
    "**How this works:**\n",
    "1. We get all unique cancer types\n",
    "2. We loop through each type\n",
    "3. For each type, we:\n",
    "   - Create a **mask** (boolean filter) to select only that type\n",
    "   - Plot those points with a specific color\n",
    "   - Add a label for the legend\n",
    "\n",
    "**What can we learn?**\n",
    "- Do certain cancer types **cluster together**?\n",
    "- Are there cancer-type-specific patterns?\n",
    "- Are outliers from specific cancer types?\n",
    "\n",
    "**Biological questions:**\n",
    "- Do breast cancer cell lines show different BRCA1/BRCA2 patterns than myeloid cancers?\n",
    "- Are there tissue-specific regulatory mechanisms?"
   ]
  },
  {
   "cell_type": "markdown",
   "id": "cell-27",
   "metadata": {},
   "source": [
    "### 📊 Exercise 4: Color by Cancer Type - Different Genes\n",
    "\n",
    "Create a scatter plot of TP53 vs MYC, colored by cancer type.\n",
    "\n",
    "**Questions to answer:**\n",
    "- Do you see any cancer-type-specific clusters?\n",
    "- Which cancer type shows the most variation?\n",
    "- Are there any clear outliers?\n",
    "\n",
    "**Hint:** Copy the code above and change the genes!"
   ]
  },
  {
   "cell_type": "code",
   "execution_count": null,
   "id": "cell-28",
   "metadata": {},
   "outputs": [],
   "source": [
    "# Your code here:\n"
   ]
  },
  {
   "cell_type": "markdown",
   "id": "cell-29",
   "metadata": {},
   "source": [
    "---\n",
    "\n",
    "## 7. Customizing Point Appearance\n",
    "\n",
    "Let's explore different ways to customize scatter plot appearance:"
   ]
  },
  {
   "cell_type": "markdown",
   "id": "cell-30",
   "metadata": {},
   "source": [
    "### Varying Point Size\n",
    "\n",
    "We can make point size represent a third variable!"
   ]
  },
  {
   "cell_type": "code",
   "execution_count": null,
   "id": "cell-31",
   "metadata": {},
   "outputs": [],
   "source": [
    "# Size points by a third variable (e.g., MYC expression)\n",
    "fig, ax = plt.subplots(figsize=(10, 7))\n",
    "\n",
    "# Create sizes proportional to MYC expression\n",
    "sizes = gene_df['MYC'] * 10  # Scale for visibility\n",
    "\n",
    "scatter = ax.scatter(gene_df['BRCA1'], gene_df['BRCA2'],\n",
    "                     alpha=0.5, s=sizes,\n",
    "                     color='skyblue',\n",
    "                     edgecolor='black',\n",
    "                     linewidth=0.5)\n",
    "\n",
    "ax.set_xlabel('BRCA1 Expression (log2 TPM + 1)', fontsize=12)\n",
    "ax.set_ylabel('BRCA2 Expression (log2 TPM + 1)', fontsize=12)\n",
    "ax.set_title('BRCA1 vs BRCA2 (Point size = MYC expression)', fontsize=14, fontweight='bold')\n",
    "ax.grid(True, alpha=0.3)\n",
    "\n",
    "plt.tight_layout()\n",
    "plt.show()"
   ]
  },
  {
   "cell_type": "markdown",
   "id": "cell-32",
   "metadata": {},
   "source": [
    "**What this shows:**\n",
    "- Larger points = higher MYC expression\n",
    "- This adds a **third dimension** to our 2D plot!\n",
    "- We can ask: \"Do cell lines with high BRCA1/BRCA2 also have high MYC?\""
   ]
  },
  {
   "cell_type": "markdown",
   "id": "cell-33",
   "metadata": {},
   "source": [
    "### Using Different Markers\n",
    "\n",
    "We can use different shapes for different categories:"
   ]
  },
  {
   "cell_type": "code",
   "execution_count": null,
   "id": "cell-34",
   "metadata": {},
   "outputs": [],
   "source": [
    "# Different markers for different cancer types\n",
    "fig, ax = plt.subplots(figsize=(10, 7))\n",
    "\n",
    "lineages = gene_df['oncotree_lineage'].unique()\n",
    "markers = ['o', 's', '^', 'D', 'v']  # circle, square, triangle up, diamond, triangle down\n",
    "colors = ['red', 'blue', 'green', 'orange', 'purple']\n",
    "\n",
    "for lineage, marker, color in zip(lineages, markers, colors):\n",
    "    mask = gene_df['oncotree_lineage'] == lineage\n",
    "    ax.scatter(gene_df[mask]['BRCA1'],\n",
    "               gene_df[mask]['BRCA2'],\n",
    "               alpha=0.6, s=80,\n",
    "               color=color,\n",
    "               marker=marker,\n",
    "               label=lineage,\n",
    "               edgecolor='black',\n",
    "               linewidth=0.5)\n",
    "\n",
    "ax.set_xlabel('BRCA1 Expression (log2 TPM + 1)', fontsize=12)\n",
    "ax.set_ylabel('BRCA2 Expression (log2 TPM + 1)', fontsize=12)\n",
    "ax.set_title('BRCA1 vs BRCA2 (Different Markers by Cancer Type)', fontsize=14, fontweight='bold')\n",
    "ax.legend(title='Cancer Lineage', loc='best')\n",
    "ax.grid(True, alpha=0.3)\n",
    "\n",
    "plt.tight_layout()\n",
    "plt.show()"
   ]
  },
  {
   "cell_type": "markdown",
   "id": "cell-35",
   "metadata": {},
   "source": [
    "**Why use different markers?**\n",
    "- Useful if colors are hard to distinguish\n",
    "- Better for colorblind-friendly plots\n",
    "- Better for black-and-white printing\n",
    "\n",
    "**Common markers:**\n",
    "- `'o'`: circle (default)\n",
    "- `'s'`: square\n",
    "- `'^'`: triangle up\n",
    "- `'v'`: triangle down\n",
    "- `'D'`: diamond\n",
    "- `'*'`: star\n",
    "- `'+'`: plus\n",
    "- `'x'`: x"
   ]
  },
  {
   "cell_type": "markdown",
   "id": "cell-36",
   "metadata": {},
   "source": [
    "### 📊 Exercise 5: Customize Your Own Scatter Plot\n",
    "\n",
    "Create a scatter plot with these features:\n",
    "1. X-axis: TSC1, Y-axis: TSC2\n",
    "2. Color by cancer type\n",
    "3. Point size based on BRCA1 expression\n",
    "4. Add a legend and grid\n",
    "\n",
    "**Bonus:** Try different marker shapes for each cancer type!"
   ]
  },
  {
   "cell_type": "code",
   "execution_count": null,
   "id": "cell-37",
   "metadata": {},
   "outputs": [],
   "source": [
    "# Your code here:\n"
   ]
  },
  {
   "cell_type": "markdown",
   "id": "cell-38",
   "metadata": {},
   "source": [
    "---\n",
    "\n",
    "## 8. Identifying Outliers\n",
    "\n",
    "Outliers can be biologically interesting! Let's identify them:"
   ]
  },
  {
   "cell_type": "code",
   "execution_count": null,
   "id": "cell-39",
   "metadata": {},
   "outputs": [],
   "source": [
    "# Find outliers in BRCA1 expression\n",
    "brca1_mean = gene_df['BRCA1'].mean()\n",
    "brca1_std = gene_df['BRCA1'].std()\n",
    "\n",
    "# Define outliers as points > 2 standard deviations from mean\n",
    "outlier_threshold = 2\n",
    "outliers = (gene_df['BRCA1'] > brca1_mean + outlier_threshold * brca1_std) | \\\n",
    "           (gene_df['BRCA1'] < brca1_mean - outlier_threshold * brca1_std)\n",
    "\n",
    "print(f\"Number of outliers: {outliers.sum()}\")\n",
    "print(\"\\nOutlier cell lines:\")\n",
    "print(gene_df[outliers][['cell_line_name', 'oncotree_lineage', 'BRCA1', 'BRCA2']])"
   ]
  },
  {
   "cell_type": "markdown",
   "id": "cell-40",
   "metadata": {},
   "source": [
    "### Visualize Outliers with Different Colors"
   ]
  },
  {
   "cell_type": "code",
   "execution_count": null,
   "id": "cell-41",
   "metadata": {},
   "outputs": [],
   "source": [
    "# Plot with outliers highlighted\n",
    "fig, ax = plt.subplots(figsize=(10, 7))\n",
    "\n",
    "# Normal points\n",
    "ax.scatter(gene_df[~outliers]['BRCA1'],\n",
    "           gene_df[~outliers]['BRCA2'],\n",
    "           alpha=0.5, s=50,\n",
    "           color='skyblue',\n",
    "           label='Normal',\n",
    "           edgecolor='black',\n",
    "           linewidth=0.5)\n",
    "\n",
    "# Outliers\n",
    "ax.scatter(gene_df[outliers]['BRCA1'],\n",
    "           gene_df[outliers]['BRCA2'],\n",
    "           alpha=0.8, s=100,\n",
    "           color='red',\n",
    "           label='Outliers (>2 SD)',\n",
    "           edgecolor='darkred',\n",
    "           linewidth=1.5,\n",
    "           marker='^')\n",
    "\n",
    "ax.set_xlabel('BRCA1 Expression (log2 TPM + 1)', fontsize=12)\n",
    "ax.set_ylabel('BRCA2 Expression (log2 TPM + 1)', fontsize=12)\n",
    "ax.set_title('BRCA1 vs BRCA2 with Outliers Highlighted', fontsize=14, fontweight='bold')\n",
    "ax.legend()\n",
    "ax.grid(True, alpha=0.3)\n",
    "\n",
    "plt.tight_layout()\n",
    "plt.show()"
   ]
  },
  {
   "cell_type": "markdown",
   "id": "cell-42",
   "metadata": {},
   "source": [
    "**Why identify outliers?**\n",
    "- May have mutations in these genes\n",
    "- May represent unusual biological states\n",
    "- Could be experimental artifacts\n",
    "- Worth investigating further!"
   ]
  },
  {
   "cell_type": "markdown",
   "id": "cell-43",
   "metadata": {},
   "source": [
    "### 📊 Exercise 6: Find Outliers in Your Gene Pair\n",
    "\n",
    "Choose any two genes and:\n",
    "1. Calculate outliers based on either gene (>2 SD from mean)\n",
    "2. Create a scatter plot highlighting outliers\n",
    "3. Print the names of outlier cell lines\n",
    "4. Investigate: Do the outliers come from specific cancer types?\n",
    "\n",
    "**Hint:** Use the code above as a template!"
   ]
  },
  {
   "cell_type": "code",
   "execution_count": null,
   "id": "cell-44",
   "metadata": {},
   "outputs": [],
   "source": [
    "# Your code here:\n"
   ]
  },
  {
   "cell_type": "markdown",
   "id": "cell-45",
   "metadata": {},
   "source": [
    "---\n",
    "\n",
    "## 9. Key Takeaways\n",
    "\n",
    "✅ **Scatter plots** show relationships between two numerical variables\n",
    "\n",
    "✅ **Each point** represents one observation (cell line in our case)\n",
    "\n",
    "✅ **Patterns to recognize:**\n",
    "   - Positive correlation: upward slope\n",
    "   - Negative correlation: downward slope\n",
    "   - No correlation: random cloud\n",
    "   - Outliers: points far from pattern\n",
    "   - Clusters: distinct groups\n",
    "\n",
    "✅ **Key parameters:**\n",
    "   - `alpha`: transparency (0-1)\n",
    "   - `s`: point size\n",
    "   - `color`: point color\n",
    "   - `marker`: point shape\n",
    "   - `edgecolor`: border color\n",
    "\n",
    "✅ **Advanced techniques:**\n",
    "   - Color by category to reveal subgroups\n",
    "   - Vary size by third variable\n",
    "   - Use different markers for categories\n",
    "   - Highlight outliers\n",
    "\n",
    "✅ **Biological insights:**\n",
    "   - Strong correlations suggest co-regulation\n",
    "   - Clusters may indicate cancer subtypes\n",
    "   - Outliers may have mutations or be biologically interesting\n",
    "\n",
    "✅ **Always ask:** \"What biological story does this pattern tell?\"\n",
    "\n",
    "---\n",
    "\n",
    "## 🎯 Challenge Problems\n",
    "\n",
    "1. **Correlation Matrix**: Create a 3×3 grid showing all pairwise scatter plots for 4 genes of your choice\n",
    "\n",
    "2. **Publication Figure**: Create a figure with:\n",
    "   - Top: 2 scatter plots comparing gene pairs\n",
    "   - Bottom: 1 scatter plot colored by cancer type with outliers highlighted\n",
    "\n",
    "3. **Discovery Challenge**: Find two genes that show:\n",
    "   - Strong positive correlation overall\n",
    "   - BUT different patterns in Breast vs Myeloid cancers when colored separately\n",
    "\n",
    "4. **Marker Exploration**: Create a scatter plot using size for one variable, color for another, and shape for a third (hint: this shows 5 dimensions of data!)\n",
    "\n",
    "---\n",
    "\n",
    "**Next:** In the next notebook, we'll learn about box plots and violin plots for comparing distributions across groups! 📊"
   ]
  }
 ],
 "metadata": {
  "kernelspec": {
   "display_name": "Python 3",
   "language": "python",
   "name": "python3"
  },
  "language_info": {
   "codemirror_mode": {
    "name": "ipython",
    "version": 3
   },
   "file_extension": ".py",
   "mimetype": "text/x-python",
   "name": "python",
   "nbconvert_exporter": "python",
   "pygments_lexer": "ipython3",
   "version": "3.8.0"
  }
 },
 "nbformat": 4,
 "nbformat_minor": 5
}
