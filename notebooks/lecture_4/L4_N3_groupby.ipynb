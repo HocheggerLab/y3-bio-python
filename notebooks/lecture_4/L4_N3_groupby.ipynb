{
 "cells": [
  {
   "cell_type": "markdown",
   "metadata": {},
   "source": [
    "# Lecture 4 Notebook 3: GroupBy Operations\n",
    "\n",
    "**Learning Objectives:**\n",
    "- Understand the split-apply-combine pattern\n",
    "- Use `groupby()` to analyze data by categories\n",
    "- Apply aggregation functions (mean, sum, count, etc.)\n",
    "- Perform exploratory data analysis on gene expression data\n",
    "\n",
    "---"
   ]
  },
  {
   "cell_type": "markdown",
   "metadata": {},
   "source": [
    "## 1. Introduction to GroupBy\n",
    "\n",
    "The **split-apply-combine** pattern is one of the most powerful concepts in data analysis:\n",
    "\n",
    "1. **Split**: Divide data into groups based on a category\n",
    "2. **Apply**: Perform a calculation on each group independently\n",
    "3. **Combine**: Merge the results back together\n",
    "\n",
    "This pattern answers questions like:\n",
    "- What's the average gene expression in each cancer type?\n",
    "- How many cell lines do we have per tissue?\n",
    "- Which treatment group has the highest cell count?"
   ]
  },
  {
   "cell_type": "code",
   "execution_count": 1,
   "metadata": {},
   "outputs": [],
   "source": [
    "import pandas as pd\n"
   ]
  },
  {
   "cell_type": "markdown",
   "metadata": {},
   "source": [
    "## 2. Simple Example: Team Performance\n",
    "\n",
    "Let's start with a simple dataset about team scores:"
   ]
  },
  {
   "cell_type": "code",
   "execution_count": 2,
   "metadata": {},
   "outputs": [
    {
     "data": {
      "text/html": [
       "<div>\n",
       "<style scoped>\n",
       "    .dataframe tbody tr th:only-of-type {\n",
       "        vertical-align: middle;\n",
       "    }\n",
       "\n",
       "    .dataframe tbody tr th {\n",
       "        vertical-align: top;\n",
       "    }\n",
       "\n",
       "    .dataframe thead th {\n",
       "        text-align: right;\n",
       "    }\n",
       "</style>\n",
       "<table border=\"1\" class=\"dataframe\">\n",
       "  <thead>\n",
       "    <tr style=\"text-align: right;\">\n",
       "      <th></th>\n",
       "      <th>player</th>\n",
       "      <th>team</th>\n",
       "      <th>score</th>\n",
       "      <th>games_played</th>\n",
       "    </tr>\n",
       "  </thead>\n",
       "  <tbody>\n",
       "    <tr>\n",
       "      <th>0</th>\n",
       "      <td>Alice</td>\n",
       "      <td>Red</td>\n",
       "      <td>85</td>\n",
       "      <td>10</td>\n",
       "    </tr>\n",
       "    <tr>\n",
       "      <th>1</th>\n",
       "      <td>Bob</td>\n",
       "      <td>Blue</td>\n",
       "      <td>92</td>\n",
       "      <td>12</td>\n",
       "    </tr>\n",
       "    <tr>\n",
       "      <th>2</th>\n",
       "      <td>Charlie</td>\n",
       "      <td>Red</td>\n",
       "      <td>78</td>\n",
       "      <td>10</td>\n",
       "    </tr>\n",
       "    <tr>\n",
       "      <th>3</th>\n",
       "      <td>David</td>\n",
       "      <td>Blue</td>\n",
       "      <td>88</td>\n",
       "      <td>11</td>\n",
       "    </tr>\n",
       "    <tr>\n",
       "      <th>4</th>\n",
       "      <td>Eve</td>\n",
       "      <td>Red</td>\n",
       "      <td>95</td>\n",
       "      <td>10</td>\n",
       "    </tr>\n",
       "    <tr>\n",
       "      <th>5</th>\n",
       "      <td>Frank</td>\n",
       "      <td>Blue</td>\n",
       "      <td>82</td>\n",
       "      <td>12</td>\n",
       "    </tr>\n",
       "  </tbody>\n",
       "</table>\n",
       "</div>"
      ],
      "text/plain": [
       "    player  team  score  games_played\n",
       "0    Alice   Red     85            10\n",
       "1      Bob  Blue     92            12\n",
       "2  Charlie   Red     78            10\n",
       "3    David  Blue     88            11\n",
       "4      Eve   Red     95            10\n",
       "5    Frank  Blue     82            12"
      ]
     },
     "execution_count": 2,
     "metadata": {},
     "output_type": "execute_result"
    }
   ],
   "source": [
    "# Create sample data\n",
    "data = {\n",
    "    'player': ['Alice', 'Bob', 'Charlie', 'David', 'Eve', 'Frank'],\n",
    "    'team': ['Red', 'Blue', 'Red', 'Blue', 'Red', 'Blue'],\n",
    "    'score': [85, 92, 78, 88, 95, 82],\n",
    "    'games_played': [10, 12, 10, 11, 10, 12]\n",
    "}\n",
    "\n",
    "df = pd.DataFrame(data)\n",
    "df"
   ]
  },
  {
   "cell_type": "markdown",
   "metadata": {},
   "source": [
    "### Question: What's the average score per team?\n",
    "\n",
    "We can answer this with `groupby()`:"
   ]
  },
  {
   "cell_type": "code",
   "execution_count": 6,
   "metadata": {},
   "outputs": [
    {
     "data": {
      "text/plain": [
       "team\n",
       "Blue    87.333333\n",
       "Red     86.000000\n",
       "Name: score, dtype: float64"
      ]
     },
     "execution_count": 6,
     "metadata": {},
     "output_type": "execute_result"
    }
   ],
   "source": [
    "# Group by team and calculate mean score\n",
    "df.groupby('team')['score'].mean()"
   ]
  },
  {
   "cell_type": "markdown",
   "metadata": {},
   "source": [
    "**What happened?**\n",
    "1. **Split**: Pandas separated the data into Red team and Blue team\n",
    "2. **Apply**: Calculated the mean of scores for each team\n",
    "3. **Combine**: Returned a Series with results for each team"
   ]
  },
  {
   "cell_type": "markdown",
   "metadata": {},
   "source": [
    "### Multiple Statistics with `.agg()`\n",
    "\n",
    "We can get multiple statistics at once:"
   ]
  },
  {
   "cell_type": "code",
   "execution_count": 7,
   "metadata": {},
   "outputs": [
    {
     "data": {
      "text/html": [
       "<div>\n",
       "<style scoped>\n",
       "    .dataframe tbody tr th:only-of-type {\n",
       "        vertical-align: middle;\n",
       "    }\n",
       "\n",
       "    .dataframe tbody tr th {\n",
       "        vertical-align: top;\n",
       "    }\n",
       "\n",
       "    .dataframe thead th {\n",
       "        text-align: right;\n",
       "    }\n",
       "</style>\n",
       "<table border=\"1\" class=\"dataframe\">\n",
       "  <thead>\n",
       "    <tr style=\"text-align: right;\">\n",
       "      <th></th>\n",
       "      <th>mean</th>\n",
       "      <th>max</th>\n",
       "      <th>count</th>\n",
       "    </tr>\n",
       "    <tr>\n",
       "      <th>team</th>\n",
       "      <th></th>\n",
       "      <th></th>\n",
       "      <th></th>\n",
       "    </tr>\n",
       "  </thead>\n",
       "  <tbody>\n",
       "    <tr>\n",
       "      <th>Blue</th>\n",
       "      <td>87.333333</td>\n",
       "      <td>92</td>\n",
       "      <td>3</td>\n",
       "    </tr>\n",
       "    <tr>\n",
       "      <th>Red</th>\n",
       "      <td>86.000000</td>\n",
       "      <td>95</td>\n",
       "      <td>3</td>\n",
       "    </tr>\n",
       "  </tbody>\n",
       "</table>\n",
       "</div>"
      ],
      "text/plain": [
       "           mean  max  count\n",
       "team                       \n",
       "Blue  87.333333   92      3\n",
       "Red   86.000000   95      3"
      ]
     },
     "execution_count": 7,
     "metadata": {},
     "output_type": "execute_result"
    }
   ],
   "source": [
    "# Get mean, max, and count for each team\n",
    "df.groupby('team')['score'].agg(['mean', 'max', 'count'])"
   ]
  },
  {
   "cell_type": "markdown",
   "metadata": {},
   "source": [
    "### Counting Group Members\n",
    "\n",
    "Use `.size()` to count how many members are in each group:"
   ]
  },
  {
   "cell_type": "code",
   "execution_count": 8,
   "metadata": {},
   "outputs": [
    {
     "data": {
      "text/plain": [
       "team\n",
       "Blue    3\n",
       "Red     3\n",
       "dtype: int64"
      ]
     },
     "execution_count": 8,
     "metadata": {},
     "output_type": "execute_result"
    }
   ],
   "source": [
    "# Count players per team\n",
    "df.groupby('team').size()"
   ]
  },
  {
   "cell_type": "markdown",
   "metadata": {},
   "source": [
    "---\n",
    "\n",
    "## 3. Try It Yourself: Cell Biology Experiment\n",
    "\n",
    "Here's data from a cell biology experiment measuring cell viability under different treatments:"
   ]
  },
  {
   "cell_type": "code",
   "execution_count": 9,
   "metadata": {},
   "outputs": [
    {
     "data": {
      "text/html": [
       "<div>\n",
       "<style scoped>\n",
       "    .dataframe tbody tr th:only-of-type {\n",
       "        vertical-align: middle;\n",
       "    }\n",
       "\n",
       "    .dataframe tbody tr th {\n",
       "        vertical-align: top;\n",
       "    }\n",
       "\n",
       "    .dataframe thead th {\n",
       "        text-align: right;\n",
       "    }\n",
       "</style>\n",
       "<table border=\"1\" class=\"dataframe\">\n",
       "  <thead>\n",
       "    <tr style=\"text-align: right;\">\n",
       "      <th></th>\n",
       "      <th>cell_line</th>\n",
       "      <th>treatment</th>\n",
       "      <th>viability</th>\n",
       "      <th>cell_count</th>\n",
       "    </tr>\n",
       "  </thead>\n",
       "  <tbody>\n",
       "    <tr>\n",
       "      <th>0</th>\n",
       "      <td>HeLa</td>\n",
       "      <td>Control</td>\n",
       "      <td>98</td>\n",
       "      <td>1000</td>\n",
       "    </tr>\n",
       "    <tr>\n",
       "      <th>1</th>\n",
       "      <td>HeLa</td>\n",
       "      <td>Drug_A</td>\n",
       "      <td>75</td>\n",
       "      <td>750</td>\n",
       "    </tr>\n",
       "    <tr>\n",
       "      <th>2</th>\n",
       "      <td>HeLa</td>\n",
       "      <td>Drug_B</td>\n",
       "      <td>82</td>\n",
       "      <td>820</td>\n",
       "    </tr>\n",
       "    <tr>\n",
       "      <th>3</th>\n",
       "      <td>HEK293</td>\n",
       "      <td>Control</td>\n",
       "      <td>95</td>\n",
       "      <td>950</td>\n",
       "    </tr>\n",
       "    <tr>\n",
       "      <th>4</th>\n",
       "      <td>HEK293</td>\n",
       "      <td>Drug_A</td>\n",
       "      <td>68</td>\n",
       "      <td>680</td>\n",
       "    </tr>\n",
       "    <tr>\n",
       "      <th>5</th>\n",
       "      <td>HEK293</td>\n",
       "      <td>Drug_B</td>\n",
       "      <td>78</td>\n",
       "      <td>780</td>\n",
       "    </tr>\n",
       "    <tr>\n",
       "      <th>6</th>\n",
       "      <td>MCF7</td>\n",
       "      <td>Control</td>\n",
       "      <td>97</td>\n",
       "      <td>970</td>\n",
       "    </tr>\n",
       "    <tr>\n",
       "      <th>7</th>\n",
       "      <td>MCF7</td>\n",
       "      <td>Drug_A</td>\n",
       "      <td>72</td>\n",
       "      <td>720</td>\n",
       "    </tr>\n",
       "    <tr>\n",
       "      <th>8</th>\n",
       "      <td>MCF7</td>\n",
       "      <td>Drug_B</td>\n",
       "      <td>85</td>\n",
       "      <td>850</td>\n",
       "    </tr>\n",
       "  </tbody>\n",
       "</table>\n",
       "</div>"
      ],
      "text/plain": [
       "  cell_line treatment  viability  cell_count\n",
       "0      HeLa   Control         98        1000\n",
       "1      HeLa    Drug_A         75         750\n",
       "2      HeLa    Drug_B         82         820\n",
       "3    HEK293   Control         95         950\n",
       "4    HEK293    Drug_A         68         680\n",
       "5    HEK293    Drug_B         78         780\n",
       "6      MCF7   Control         97         970\n",
       "7      MCF7    Drug_A         72         720\n",
       "8      MCF7    Drug_B         85         850"
      ]
     },
     "execution_count": 9,
     "metadata": {},
     "output_type": "execute_result"
    }
   ],
   "source": [
    "# Cell biology experiment data\n",
    "cell_data = {\n",
    "    'cell_line': ['HeLa', 'HeLa', 'HeLa', 'HEK293', 'HEK293', 'HEK293', 'MCF7', 'MCF7', 'MCF7'],\n",
    "    'treatment': ['Control', 'Drug_A', 'Drug_B', 'Control', 'Drug_A', 'Drug_B', 'Control', 'Drug_A', 'Drug_B'],\n",
    "    'viability': [98, 75, 82, 95, 68, 78, 97, 72, 85],\n",
    "    'cell_count': [1000, 750, 820, 950, 680, 780, 970, 720, 850]\n",
    "}\n",
    "\n",
    "cells_df = pd.DataFrame(cell_data)\n",
    "cells_df"
   ]
  },
  {
   "cell_type": "markdown",
   "metadata": {},
   "source": [
    "### 🧪 Exercise 1: Average Viability per Treatment\n",
    "\n",
    "Calculate the mean viability for each treatment (Control, Drug_A, Drug_B) across all cell lines.\n",
    "\n",
    "**Hint:** Use `groupby('treatment')['viability'].mean()`"
   ]
  },
  {
   "cell_type": "code",
   "execution_count": 10,
   "metadata": {},
   "outputs": [],
   "source": [
    "# Your code here:\n"
   ]
  },
  {
   "cell_type": "markdown",
   "metadata": {},
   "source": [
    "### 🧪 Exercise 2: Cell Count by Cell Line\n",
    "\n",
    "Calculate the mean cell count for each cell line (HeLa, HEK293, MCF7).\n",
    "\n",
    "**Hint:** Use `groupby('cell_line')['cell_count'].mean()`"
   ]
  },
  {
   "cell_type": "code",
   "execution_count": 11,
   "metadata": {},
   "outputs": [],
   "source": [
    "# Your code here:\n"
   ]
  },
  {
   "cell_type": "markdown",
   "metadata": {},
   "source": [
    "### 🧪 Exercise 3: Multiple Statistics\n",
    "\n",
    "For each treatment, calculate the mean, standard deviation, and count of viability values.\n",
    "\n",
    "**Hint:** Use `.agg(['mean', 'std', 'count'])`"
   ]
  },
  {
   "cell_type": "code",
   "execution_count": 12,
   "metadata": {},
   "outputs": [],
   "source": [
    "# Your code here:\n"
   ]
  },
  {
   "cell_type": "markdown",
   "metadata": {},
   "source": [
    "---\n",
    "\n",
    "## 4. Real Data: DepMap Gene Expression Analysis\n",
    "\n",
    "Now let's apply groupby to real cancer cell line data from DepMap!"
   ]
  },
  {
   "cell_type": "code",
   "execution_count": 14,
   "metadata": {},
   "outputs": [
    {
     "data": {
      "text/html": [
       "<div>\n",
       "<style scoped>\n",
       "    .dataframe tbody tr th:only-of-type {\n",
       "        vertical-align: middle;\n",
       "    }\n",
       "\n",
       "    .dataframe tbody tr th {\n",
       "        vertical-align: top;\n",
       "    }\n",
       "\n",
       "    .dataframe thead th {\n",
       "        text-align: right;\n",
       "    }\n",
       "</style>\n",
       "<table border=\"1\" class=\"dataframe\">\n",
       "  <thead>\n",
       "    <tr style=\"text-align: right;\">\n",
       "      <th></th>\n",
       "      <th>model_id</th>\n",
       "      <th>cell_line_name</th>\n",
       "      <th>stripped_cell_line_name</th>\n",
       "      <th>oncotree_lineage</th>\n",
       "      <th>oncotree_primary_disease</th>\n",
       "      <th>oncotree_subtype</th>\n",
       "      <th>oncotree_code</th>\n",
       "      <th>ccle_name</th>\n",
       "      <th>depmap_model_type</th>\n",
       "      <th>A1BG</th>\n",
       "      <th>...</th>\n",
       "      <th>ZWILCH</th>\n",
       "      <th>ZWINT</th>\n",
       "      <th>ZXDA</th>\n",
       "      <th>ZXDB</th>\n",
       "      <th>ZXDC</th>\n",
       "      <th>ZYG11A</th>\n",
       "      <th>ZYG11B</th>\n",
       "      <th>ZYX</th>\n",
       "      <th>ZZEF1</th>\n",
       "      <th>ZZZ3</th>\n",
       "    </tr>\n",
       "  </thead>\n",
       "  <tbody>\n",
       "    <tr>\n",
       "      <th>0</th>\n",
       "      <td>ACH-002401</td>\n",
       "      <td>21MT-2</td>\n",
       "      <td>21MT2</td>\n",
       "      <td>Breast</td>\n",
       "      <td>Invasive Breast Carcinoma</td>\n",
       "      <td>Breast Invasive Ductal Carcinoma</td>\n",
       "      <td>IDC</td>\n",
       "      <td>21MT2_BREAST</td>\n",
       "      <td>IDC</td>\n",
       "      <td>0.646696</td>\n",
       "      <td>...</td>\n",
       "      <td>4.290528</td>\n",
       "      <td>3.304012</td>\n",
       "      <td>1.321368</td>\n",
       "      <td>2.475321</td>\n",
       "      <td>2.634805</td>\n",
       "      <td>1.432083</td>\n",
       "      <td>2.173767</td>\n",
       "      <td>5.442602</td>\n",
       "      <td>2.618363</td>\n",
       "      <td>3.881381</td>\n",
       "    </tr>\n",
       "    <tr>\n",
       "      <th>1</th>\n",
       "      <td>ACH-002399</td>\n",
       "      <td>21NT</td>\n",
       "      <td>21NT</td>\n",
       "      <td>Breast</td>\n",
       "      <td>Invasive Breast Carcinoma</td>\n",
       "      <td>Breast Invasive Ductal Carcinoma</td>\n",
       "      <td>IDC</td>\n",
       "      <td>21NT_BREAST</td>\n",
       "      <td>IDC</td>\n",
       "      <td>0.597972</td>\n",
       "      <td>...</td>\n",
       "      <td>4.659108</td>\n",
       "      <td>5.637216</td>\n",
       "      <td>2.059359</td>\n",
       "      <td>3.368145</td>\n",
       "      <td>3.210284</td>\n",
       "      <td>1.628363</td>\n",
       "      <td>2.892195</td>\n",
       "      <td>5.471226</td>\n",
       "      <td>2.946576</td>\n",
       "      <td>4.243463</td>\n",
       "    </tr>\n",
       "    <tr>\n",
       "      <th>2</th>\n",
       "      <td>ACH-001683</td>\n",
       "      <td>ACC-3133</td>\n",
       "      <td>UACC3133</td>\n",
       "      <td>Breast</td>\n",
       "      <td>Invasive Breast Carcinoma</td>\n",
       "      <td>Breast Invasive Lobular Carcinoma</td>\n",
       "      <td>ILC</td>\n",
       "      <td>UACC3133_BREAST</td>\n",
       "      <td>ILC</td>\n",
       "      <td>3.621360</td>\n",
       "      <td>...</td>\n",
       "      <td>5.147168</td>\n",
       "      <td>6.341126</td>\n",
       "      <td>1.470006</td>\n",
       "      <td>2.652376</td>\n",
       "      <td>2.958056</td>\n",
       "      <td>1.904889</td>\n",
       "      <td>2.652636</td>\n",
       "      <td>6.703710</td>\n",
       "      <td>2.667631</td>\n",
       "      <td>2.778488</td>\n",
       "    </tr>\n",
       "    <tr>\n",
       "      <th>3</th>\n",
       "      <td>ACH-000557</td>\n",
       "      <td>AML-193</td>\n",
       "      <td>AML193</td>\n",
       "      <td>Myeloid</td>\n",
       "      <td>Acute Myeloid Leukemia</td>\n",
       "      <td>AML with Myelodysplasia-Related Changes</td>\n",
       "      <td>AMLMRC</td>\n",
       "      <td>AML193_HAEMATOPOIETIC_AND_LYMPHOID_TISSUE</td>\n",
       "      <td>AMLMRC</td>\n",
       "      <td>3.333567</td>\n",
       "      <td>...</td>\n",
       "      <td>4.126725</td>\n",
       "      <td>7.424527</td>\n",
       "      <td>0.773312</td>\n",
       "      <td>1.892076</td>\n",
       "      <td>4.531631</td>\n",
       "      <td>0.055397</td>\n",
       "      <td>1.880827</td>\n",
       "      <td>7.356346</td>\n",
       "      <td>2.775413</td>\n",
       "      <td>3.967814</td>\n",
       "    </tr>\n",
       "    <tr>\n",
       "      <th>4</th>\n",
       "      <td>ACH-000248</td>\n",
       "      <td>AU565</td>\n",
       "      <td>AU565</td>\n",
       "      <td>Breast</td>\n",
       "      <td>Invasive Breast Carcinoma</td>\n",
       "      <td>Invasive Breast Carcinoma</td>\n",
       "      <td>BRCA</td>\n",
       "      <td>AU565_BREAST</td>\n",
       "      <td>BRCA</td>\n",
       "      <td>2.171889</td>\n",
       "      <td>...</td>\n",
       "      <td>4.618109</td>\n",
       "      <td>7.147286</td>\n",
       "      <td>0.656105</td>\n",
       "      <td>2.342458</td>\n",
       "      <td>3.317148</td>\n",
       "      <td>0.012660</td>\n",
       "      <td>2.992381</td>\n",
       "      <td>7.515187</td>\n",
       "      <td>3.835247</td>\n",
       "      <td>4.026357</td>\n",
       "    </tr>\n",
       "  </tbody>\n",
       "</table>\n",
       "<p>5 rows × 17130 columns</p>\n",
       "</div>"
      ],
      "text/plain": [
       "     model_id cell_line_name stripped_cell_line_name oncotree_lineage  \\\n",
       "0  ACH-002401         21MT-2                   21MT2           Breast   \n",
       "1  ACH-002399           21NT                    21NT           Breast   \n",
       "2  ACH-001683       ACC-3133                UACC3133           Breast   \n",
       "3  ACH-000557        AML-193                  AML193          Myeloid   \n",
       "4  ACH-000248          AU565                   AU565           Breast   \n",
       "\n",
       "    oncotree_primary_disease                         oncotree_subtype  \\\n",
       "0  Invasive Breast Carcinoma         Breast Invasive Ductal Carcinoma   \n",
       "1  Invasive Breast Carcinoma         Breast Invasive Ductal Carcinoma   \n",
       "2  Invasive Breast Carcinoma        Breast Invasive Lobular Carcinoma   \n",
       "3     Acute Myeloid Leukemia  AML with Myelodysplasia-Related Changes   \n",
       "4  Invasive Breast Carcinoma                Invasive Breast Carcinoma   \n",
       "\n",
       "  oncotree_code                                  ccle_name depmap_model_type  \\\n",
       "0           IDC                               21MT2_BREAST               IDC   \n",
       "1           IDC                                21NT_BREAST               IDC   \n",
       "2           ILC                            UACC3133_BREAST               ILC   \n",
       "3        AMLMRC  AML193_HAEMATOPOIETIC_AND_LYMPHOID_TISSUE            AMLMRC   \n",
       "4          BRCA                               AU565_BREAST              BRCA   \n",
       "\n",
       "       A1BG  ...    ZWILCH     ZWINT      ZXDA      ZXDB      ZXDC    ZYG11A  \\\n",
       "0  0.646696  ...  4.290528  3.304012  1.321368  2.475321  2.634805  1.432083   \n",
       "1  0.597972  ...  4.659108  5.637216  2.059359  3.368145  3.210284  1.628363   \n",
       "2  3.621360  ...  5.147168  6.341126  1.470006  2.652376  2.958056  1.904889   \n",
       "3  3.333567  ...  4.126725  7.424527  0.773312  1.892076  4.531631  0.055397   \n",
       "4  2.171889  ...  4.618109  7.147286  0.656105  2.342458  3.317148  0.012660   \n",
       "\n",
       "     ZYG11B       ZYX     ZZEF1      ZZZ3  \n",
       "0  2.173767  5.442602  2.618363  3.881381  \n",
       "1  2.892195  5.471226  2.946576  4.243463  \n",
       "2  2.652636  6.703710  2.667631  2.778488  \n",
       "3  1.880827  7.356346  2.775413  3.967814  \n",
       "4  2.992381  7.515187  3.835247  4.026357  \n",
       "\n",
       "[5 rows x 17130 columns]"
      ]
     },
     "execution_count": 14,
     "metadata": {},
     "output_type": "execute_result"
    }
   ],
   "source": [
    "# Load the gene expression data\n",
    "url = \"https://zenodo.org/records/17377786/files/expression_filtered.csv?download=1\"\n",
    "gene_df = pd.read_csv(url)\n",
    "\n",
    "# Display first few rows\n",
    "gene_df.head()"
   ]
  },
  {
   "cell_type": "code",
   "execution_count": 15,
   "metadata": {},
   "outputs": [
    {
     "name": "stdout",
     "output_type": "stream",
     "text": [
      "Dataset shape: (89, 17130)\n",
      "Columns: ['model_id', 'cell_line_name', 'stripped_cell_line_name', 'oncotree_lineage', 'oncotree_primary_disease', 'oncotree_subtype', 'oncotree_code', 'ccle_name', 'depmap_model_type', 'A1BG']...\n"
     ]
    }
   ],
   "source": [
    "# Check the shape\n",
    "print(f\"Dataset shape: {gene_df.shape}\")\n",
    "print(f\"Columns: {gene_df.columns.tolist()[:10]}...\")  # Show first 10 columns"
   ]
  },
  {
   "cell_type": "markdown",
   "metadata": {},
   "source": [
    "### How Many Cell Lines Per Cancer Type?\n",
    "\n",
    "Let's count the number of cell lines in each cancer lineage:"
   ]
  },
  {
   "cell_type": "code",
   "execution_count": 16,
   "metadata": {},
   "outputs": [
    {
     "data": {
      "text/plain": [
       "oncotree_lineage\n",
       "Breast     50\n",
       "Myeloid    39\n",
       "dtype: int64"
      ]
     },
     "execution_count": 16,
     "metadata": {},
     "output_type": "execute_result"
    }
   ],
   "source": [
    "# Count cell lines per lineage\n",
    "lineage_counts = gene_df.groupby('oncotree_lineage').size().sort_values(ascending=False)\n",
    "lineage_counts"
   ]
  },
  {
   "cell_type": "markdown",
   "metadata": {},
   "source": [
    "**Interpretation:** This tells us which cancer types are best represented in our dataset!"
   ]
  },
  {
   "cell_type": "markdown",
   "metadata": {},
   "source": [
    "### Average Gene Expression by Cancer Type\n",
    "\n",
    "Let's look at BRCA1 expression across different cancer lineages:"
   ]
  },
  {
   "cell_type": "code",
   "execution_count": 17,
   "metadata": {},
   "outputs": [
    {
     "data": {
      "text/plain": [
       "oncotree_lineage\n",
       "Myeloid    4.805774\n",
       "Breast     3.736428\n",
       "Name: BRCA1, dtype: float64"
      ]
     },
     "execution_count": 17,
     "metadata": {},
     "output_type": "execute_result"
    }
   ],
   "source": [
    "# Mean BRCA1 expression per lineage\n",
    "brca1_by_lineage = gene_df.groupby('oncotree_lineage')['BRCA1'].mean().sort_values(ascending=False)\n",
    "brca1_by_lineage"
   ]
  },
  {
   "cell_type": "markdown",
   "metadata": {},
   "source": [
    "**Biological Insight:** Which cancer types have the highest BRCA1 expression? Does this make sense biologically?"
   ]
  },
  {
   "cell_type": "markdown",
   "metadata": {},
   "source": [
    "### Comprehensive Statistics\n",
    "\n",
    "Let's get mean, standard deviation, and count for BRCA1:"
   ]
  },
  {
   "cell_type": "code",
   "execution_count": 18,
   "metadata": {},
   "outputs": [
    {
     "data": {
      "text/html": [
       "<div>\n",
       "<style scoped>\n",
       "    .dataframe tbody tr th:only-of-type {\n",
       "        vertical-align: middle;\n",
       "    }\n",
       "\n",
       "    .dataframe tbody tr th {\n",
       "        vertical-align: top;\n",
       "    }\n",
       "\n",
       "    .dataframe thead th {\n",
       "        text-align: right;\n",
       "    }\n",
       "</style>\n",
       "<table border=\"1\" class=\"dataframe\">\n",
       "  <thead>\n",
       "    <tr style=\"text-align: right;\">\n",
       "      <th></th>\n",
       "      <th>mean</th>\n",
       "      <th>std</th>\n",
       "      <th>count</th>\n",
       "    </tr>\n",
       "    <tr>\n",
       "      <th>oncotree_lineage</th>\n",
       "      <th></th>\n",
       "      <th></th>\n",
       "      <th></th>\n",
       "    </tr>\n",
       "  </thead>\n",
       "  <tbody>\n",
       "    <tr>\n",
       "      <th>Breast</th>\n",
       "      <td>3.74</td>\n",
       "      <td>1.05</td>\n",
       "      <td>50</td>\n",
       "    </tr>\n",
       "    <tr>\n",
       "      <th>Myeloid</th>\n",
       "      <td>4.81</td>\n",
       "      <td>0.63</td>\n",
       "      <td>39</td>\n",
       "    </tr>\n",
       "  </tbody>\n",
       "</table>\n",
       "</div>"
      ],
      "text/plain": [
       "                  mean   std  count\n",
       "oncotree_lineage                   \n",
       "Breast            3.74  1.05     50\n",
       "Myeloid           4.81  0.63     39"
      ]
     },
     "execution_count": 18,
     "metadata": {},
     "output_type": "execute_result"
    }
   ],
   "source": [
    "# Detailed statistics for BRCA1 by lineage\n",
    "brca1_stats = gene_df.groupby('oncotree_lineage')['BRCA1'].agg([\n",
    "    'mean',\n",
    "    'std',\n",
    "    'count'\n",
    "]).round(2)\n",
    "\n",
    "brca1_stats"
   ]
  },
  {
   "cell_type": "markdown",
   "metadata": {},
   "source": [
    "### 🧬 Exercise 4: Analyze TP53 Expression\n",
    "\n",
    "TP53 is a crucial tumor suppressor gene. Calculate the mean TP53 expression for each cancer lineage and sort by highest expression.\n",
    "\n",
    "**Hint:** Follow the same pattern as BRCA1 above"
   ]
  },
  {
   "cell_type": "code",
   "execution_count": null,
   "metadata": {},
   "outputs": [],
   "source": [
    "# Your code here:\n"
   ]
  },
  {
   "cell_type": "markdown",
   "metadata": {},
   "source": [
    "### 🧬 Exercise 5: Compare Multiple Genes\n",
    "\n",
    "Compare the mean expression of BRCA1, TP53, and MYC across cancer lineages.\n",
    "\n",
    "**Hint:** Use `groupby('oncotree_lineage')[['BRCA1', 'TP53', 'MYC']].mean()`"
   ]
  },
  {
   "cell_type": "code",
   "execution_count": null,
   "metadata": {},
   "outputs": [],
   "source": [
    "# Your code here:\n"
   ]
  },
  {
   "cell_type": "markdown",
   "metadata": {},
   "source": [
    "### 🧬 Exercise 6: Advanced - Different Stats per Gene\n",
    "\n",
    "For BRCA1, get mean and std. For TP53, get mean and max. Use a dictionary with `.agg()`.\n",
    "\n",
    "**Hint:** \n",
    "```python\n",
    "gene_df.groupby('oncotree_lineage').agg({\n",
    "    'BRCA1': ['mean', 'std'],\n",
    "    'TP53': ['mean', 'max']\n",
    "})\n",
    "```"
   ]
  },
  {
   "cell_type": "code",
   "execution_count": null,
   "metadata": {},
   "outputs": [],
   "source": [
    "# Your code here:\n"
   ]
  },
  {
   "cell_type": "markdown",
   "metadata": {},
   "source": [
    "---\n",
    "\n",
    "## 5. Key Takeaways\n",
    "\n",
    "✅ **GroupBy** implements the split-apply-combine pattern\n",
    "\n",
    "✅ Use `.groupby('column')` to split data by categories\n",
    "\n",
    "✅ Common aggregations: `.mean()`, `.sum()`, `.count()`, `.std()`, `.max()`, `.min()`\n",
    "\n",
    "✅ Use `.agg()` for multiple statistics\n",
    "\n",
    "✅ Use `.size()` to count group members\n",
    "\n",
    "✅ GroupBy is essential for comparative biology questions:\n",
    "- How does X differ between groups?\n",
    "- Which group has the highest/lowest Y?\n",
    "- Are there patterns across categories?\n",
    "\n",
    "---\n",
    "\n",
    "## 🎯 Challenge: Explore on Your Own\n",
    "\n",
    "Try answering these biological questions using groupby:\n",
    "\n",
    "1. Which cancer lineage has the most variable (highest std) BRCA1 expression?\n",
    "2. Are there any lineages with only 1 or 2 cell lines? (Use `.size()`)\n",
    "3. Compare the average expression of your favorite gene across lineages\n",
    "4. Find the lineage with the highest average expression across all genes (hint: this is tricky!)\n",
    "\n",
    "---\n",
    "\n",
    "**Next:** In the next notebook, we'll learn how to visualise data with matplotlib! 📊"
   ]
  }
 ],
 "metadata": {
  "kernelspec": {
   "display_name": ".venv",
   "language": "python",
   "name": "python3"
  },
  "language_info": {
   "codemirror_mode": {
    "name": "ipython",
    "version": 3
   },
   "file_extension": ".py",
   "mimetype": "text/x-python",
   "name": "python",
   "nbconvert_exporter": "python",
   "pygments_lexer": "ipython3",
   "version": "3.12.10"
  }
 },
 "nbformat": 4,
 "nbformat_minor": 4
}
